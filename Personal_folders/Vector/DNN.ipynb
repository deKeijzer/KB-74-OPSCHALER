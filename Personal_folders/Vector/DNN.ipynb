{
 "cells": [
  {
   "cell_type": "code",
<<<<<<< HEAD
   "execution_count": 1,
   "metadata": {},
   "outputs": [
    {
     "name": "stderr",
     "output_type": "stream",
     "text": [
      "Using TensorFlow backend.\n"
     ]
    }
   ],
=======
   "execution_count": 7,
   "metadata": {},
   "outputs": [],
>>>>>>> fd99a7be00e3c9a0c47da8ad00d07df942a759d1
   "source": [
    "import numpy as np\n",
    "import pandas as pd\n",
    "import matplotlib.pyplot as plt\n",
    "\n",
    "from sklearn.model_selection import train_test_split\n",
    "from sklearn.preprocessing import LabelEncoder\n",
    "from sklearn.preprocessing import StandardScaler\n",
<<<<<<< HEAD
    "from sklearn.metrics import mean_squared_error\n",
=======
>>>>>>> fd99a7be00e3c9a0c47da8ad00d07df942a759d1
    "\n",
    "import keras\n",
    "from keras.models import Sequential\n",
    "from keras.layers import Dense\n",
    "\n",
<<<<<<< HEAD
    "\n",
=======
>>>>>>> fd99a7be00e3c9a0c47da8ad00d07df942a759d1
    "#copypasted -> for gpu usage\n",
    "import tensorflow as tf\n",
    "from keras.utils.training_utils import multi_gpu_model\n",
    "from tensorflow.python.client import device_lib "
   ]
  },
  {
   "cell_type": "code",
   "execution_count": 2,
   "metadata": {},
   "outputs": [
    {
     "name": "stdout",
     "output_type": "stream",
     "text": [
      "Amount of GPUs available: 4\n"
     ]
    }
   ],
   "source": [
    "# IMPORTANT: Tells tf to not occupy a specific amount of memory\n",
    "from keras.backend.tensorflow_backend import set_session  \n",
    "config = tf.ConfigProto()  \n",
    "config.gpu_options.allow_growth = True  # dynamically grow the memory used on the GPU  \n",
    "sess = tf.Session(config=config)  \n",
    "set_session(sess)  # set this TensorFlow session as the default session for Keras.\n",
    "\n",
    "\n",
    "# getting the number of GPUs \n",
    "def get_available_gpus():\n",
    "   local_device_protos = device_lib.list_local_devices()\n",
    "   return [x.name for x in local_device_protos if x.device_type    == 'GPU']\n",
    "num_gpu = len(get_available_gpus())\n",
    "print('Amount of GPUs available: %s' % num_gpu)"
   ]
  },
  {
   "cell_type": "code",
<<<<<<< HEAD
   "execution_count": 14,
   "metadata": {},
   "outputs": [
    {
     "data": {
      "text/html": [
       "<div>\n",
       "<style scoped>\n",
       "    .dataframe tbody tr th:only-of-type {\n",
       "        vertical-align: middle;\n",
       "    }\n",
       "\n",
       "    .dataframe tbody tr th {\n",
       "        vertical-align: top;\n",
       "    }\n",
       "\n",
       "    .dataframe thead th {\n",
       "        text-align: right;\n",
       "    }\n",
       "</style>\n",
       "<table border=\"1\" class=\"dataframe\">\n",
       "  <thead>\n",
       "    <tr style=\"text-align: right;\">\n",
       "      <th></th>\n",
       "      <th>eMeter</th>\n",
       "      <th>eMeterReturn</th>\n",
       "      <th>eMeterLow</th>\n",
       "      <th>eMeterLowReturn</th>\n",
       "      <th>ePower</th>\n",
       "      <th>ePowerReturn</th>\n",
       "      <th>gasMeter</th>\n",
       "      <th>DD</th>\n",
       "      <th>DR</th>\n",
       "      <th>FF</th>\n",
       "      <th>...</th>\n",
       "      <th>RG</th>\n",
       "      <th>SQ</th>\n",
       "      <th>T</th>\n",
       "      <th>T10</th>\n",
       "      <th>TD</th>\n",
       "      <th>U</th>\n",
       "      <th>VV</th>\n",
       "      <th>WW</th>\n",
       "      <th>gasPower</th>\n",
       "      <th>T-1</th>\n",
       "    </tr>\n",
       "    <tr>\n",
       "      <th>datetime</th>\n",
       "      <th></th>\n",
       "      <th></th>\n",
       "      <th></th>\n",
       "      <th></th>\n",
       "      <th></th>\n",
       "      <th></th>\n",
       "      <th></th>\n",
       "      <th></th>\n",
       "      <th></th>\n",
       "      <th></th>\n",
       "      <th></th>\n",
       "      <th></th>\n",
       "      <th></th>\n",
       "      <th></th>\n",
       "      <th></th>\n",
       "      <th></th>\n",
       "      <th></th>\n",
       "      <th></th>\n",
       "      <th></th>\n",
       "      <th></th>\n",
       "      <th></th>\n",
       "    </tr>\n",
       "  </thead>\n",
       "  <tbody>\n",
       "    <tr>\n",
       "      <th>2017-02-23</th>\n",
       "      <td>1558.435883</td>\n",
       "      <td>0.0</td>\n",
       "      <td>1805.226395</td>\n",
       "      <td>0.0</td>\n",
       "      <td>173.374907</td>\n",
       "      <td>0.0</td>\n",
       "      <td>1685.894847</td>\n",
       "      <td>239.148194</td>\n",
       "      <td>265.916667</td>\n",
       "      <td>11.608438</td>\n",
       "      <td>...</td>\n",
       "      <td>0.461319</td>\n",
       "      <td>0.149737</td>\n",
       "      <td>8.590000</td>\n",
       "      <td>8.163889</td>\n",
       "      <td>6.441597</td>\n",
       "      <td>86.511805</td>\n",
       "      <td>12887.305430</td>\n",
       "      <td>41.759722</td>\n",
       "      <td>4.857127</td>\n",
       "      <td>9.236111</td>\n",
       "    </tr>\n",
       "    <tr>\n",
       "      <th>2017-02-24</th>\n",
       "      <td>1561.837229</td>\n",
       "      <td>0.0</td>\n",
       "      <td>1806.231979</td>\n",
       "      <td>0.0</td>\n",
       "      <td>246.992340</td>\n",
       "      <td>0.0</td>\n",
       "      <td>1694.890589</td>\n",
       "      <td>278.093543</td>\n",
       "      <td>45.766667</td>\n",
       "      <td>5.032826</td>\n",
       "      <td>...</td>\n",
       "      <td>0.054306</td>\n",
       "      <td>2.962413</td>\n",
       "      <td>4.746250</td>\n",
       "      <td>3.968194</td>\n",
       "      <td>2.241736</td>\n",
       "      <td>83.740972</td>\n",
       "      <td>28850.902303</td>\n",
       "      <td>13.997222</td>\n",
       "      <td>2.768300</td>\n",
       "      <td>8.590000</td>\n",
       "    </tr>\n",
       "    <tr>\n",
       "      <th>2017-02-25</th>\n",
       "      <td>1564.963013</td>\n",
       "      <td>0.0</td>\n",
       "      <td>1808.506632</td>\n",
       "      <td>0.0</td>\n",
       "      <td>150.144606</td>\n",
       "      <td>0.0</td>\n",
       "      <td>1698.313894</td>\n",
       "      <td>202.265418</td>\n",
       "      <td>14.750000</td>\n",
       "      <td>6.502271</td>\n",
       "      <td>...</td>\n",
       "      <td>0.002083</td>\n",
       "      <td>0.361316</td>\n",
       "      <td>5.606806</td>\n",
       "      <td>4.653194</td>\n",
       "      <td>2.398264</td>\n",
       "      <td>79.870832</td>\n",
       "      <td>28918.541423</td>\n",
       "      <td>9.211111</td>\n",
       "      <td>0.171661</td>\n",
       "      <td>4.746250</td>\n",
       "    </tr>\n",
       "    <tr>\n",
       "      <th>2017-02-26</th>\n",
       "      <td>1564.963013</td>\n",
       "      <td>0.0</td>\n",
       "      <td>1817.410950</td>\n",
       "      <td>0.0</td>\n",
       "      <td>679.171475</td>\n",
       "      <td>0.0</td>\n",
       "      <td>1706.148254</td>\n",
       "      <td>208.350207</td>\n",
       "      <td>82.633334</td>\n",
       "      <td>7.540049</td>\n",
       "      <td>...</td>\n",
       "      <td>0.098611</td>\n",
       "      <td>0.039483</td>\n",
       "      <td>8.688750</td>\n",
       "      <td>8.264306</td>\n",
       "      <td>6.636181</td>\n",
       "      <td>86.559028</td>\n",
       "      <td>20726.805461</td>\n",
       "      <td>17.117361</td>\n",
       "      <td>5.030009</td>\n",
       "      <td>5.606806</td>\n",
       "    </tr>\n",
       "    <tr>\n",
       "      <th>2017-02-27</th>\n",
       "      <td>1566.147619</td>\n",
       "      <td>0.0</td>\n",
       "      <td>1828.823593</td>\n",
       "      <td>0.0</td>\n",
       "      <td>253.032893</td>\n",
       "      <td>0.0</td>\n",
       "      <td>1711.548060</td>\n",
       "      <td>192.541318</td>\n",
       "      <td>111.916667</td>\n",
       "      <td>7.891396</td>\n",
       "      <td>...</td>\n",
       "      <td>0.347222</td>\n",
       "      <td>0.208333</td>\n",
       "      <td>8.878611</td>\n",
       "      <td>8.303889</td>\n",
       "      <td>5.900139</td>\n",
       "      <td>81.353472</td>\n",
       "      <td>37413.750102</td>\n",
       "      <td>20.416667</td>\n",
       "      <td>1.315816</td>\n",
       "      <td>8.688750</td>\n",
       "    </tr>\n",
       "  </tbody>\n",
       "</table>\n",
       "<p>5 rows × 24 columns</p>\n",
       "</div>"
      ],
      "text/plain": [
       "                 eMeter  eMeterReturn    eMeterLow  eMeterLowReturn  \\\n",
       "datetime                                                              \n",
       "2017-02-23  1558.435883           0.0  1805.226395              0.0   \n",
       "2017-02-24  1561.837229           0.0  1806.231979              0.0   \n",
       "2017-02-25  1564.963013           0.0  1808.506632              0.0   \n",
       "2017-02-26  1564.963013           0.0  1817.410950              0.0   \n",
       "2017-02-27  1566.147619           0.0  1828.823593              0.0   \n",
       "\n",
       "                ePower  ePowerReturn     gasMeter          DD          DR  \\\n",
       "datetime                                                                    \n",
       "2017-02-23  173.374907           0.0  1685.894847  239.148194  265.916667   \n",
       "2017-02-24  246.992340           0.0  1694.890589  278.093543   45.766667   \n",
       "2017-02-25  150.144606           0.0  1698.313894  202.265418   14.750000   \n",
       "2017-02-26  679.171475           0.0  1706.148254  208.350207   82.633334   \n",
       "2017-02-27  253.032893           0.0  1711.548060  192.541318  111.916667   \n",
       "\n",
       "                   FF    ...           RG        SQ         T       T10  \\\n",
       "datetime                 ...                                              \n",
       "2017-02-23  11.608438    ...     0.461319  0.149737  8.590000  8.163889   \n",
       "2017-02-24   5.032826    ...     0.054306  2.962413  4.746250  3.968194   \n",
       "2017-02-25   6.502271    ...     0.002083  0.361316  5.606806  4.653194   \n",
       "2017-02-26   7.540049    ...     0.098611  0.039483  8.688750  8.264306   \n",
       "2017-02-27   7.891396    ...     0.347222  0.208333  8.878611  8.303889   \n",
       "\n",
       "                  TD          U            VV         WW  gasPower       T-1  \n",
       "datetime                                                                      \n",
       "2017-02-23  6.441597  86.511805  12887.305430  41.759722  4.857127  9.236111  \n",
       "2017-02-24  2.241736  83.740972  28850.902303  13.997222  2.768300  8.590000  \n",
       "2017-02-25  2.398264  79.870832  28918.541423   9.211111  0.171661  4.746250  \n",
       "2017-02-26  6.636181  86.559028  20726.805461  17.117361  5.030009  5.606806  \n",
       "2017-02-27  5.900139  81.353472  37413.750102  20.416667  1.315816  8.688750  \n",
       "\n",
       "[5 rows x 24 columns]"
      ]
     },
     "execution_count": 14,
     "metadata": {},
     "output_type": "execute_result"
    }
   ],
=======
   "execution_count": 3,
   "metadata": {},
   "outputs": [],
>>>>>>> fd99a7be00e3c9a0c47da8ad00d07df942a759d1
   "source": [
    "#Get data and make it usable\n",
    "df = pd.read_csv('//datc//opschaler//combined_gas_smart_weather_dfs//processed//all_dwellings_combined_hour.csv', delimiter='\\t', parse_dates=['datetime'])\n",
    "df = df.set_index(['datetime'])\n",
    "df = df.dropna()\n",
<<<<<<< HEAD
    "df['gasPower'] = df['gasPower']*10 #This factor is used for getting a higher mean squared error and make it easier for working\n",
    "df_d = df.resample('1D').mean() #Resampling to a day\n",
    "df_d['T-1'] = df_d['T'].shift(1)\n",
    "df_d = df_d.dropna()\n",
    "df_d.head()"
=======
    "df['gasPower'] = df['gasPower']*10\n",
    "df['T-1'] = df['T'].shift(1)\n",
    "df_d = df.resample('1D').mean() #Resampling to a day\n",
    "df_d = df_d.dropna()\n"
>>>>>>> fd99a7be00e3c9a0c47da8ad00d07df942a759d1
   ]
  },
  {
   "cell_type": "code",
   "execution_count": 4,
   "metadata": {},
   "outputs": [],
   "source": [
    "#Add dummies!\n",
    "df_d['hour'] = df_d.index.hour #create dummy variable (hour)\n",
    "df_d['dayofweek'] = df_d.index.dayofweek #Create dummy variable (day of the week)\n",
    "columns_to_cat = ['hour', 'dayofweek']\n",
    "df_d[columns_to_cat] = df_d[columns_to_cat].astype('category') # change datetypes->category\n",
    "df_d = pd.get_dummies(df_d, columns=columns_to_cat)\n"
   ]
  },
  {
   "cell_type": "code",
<<<<<<< HEAD
   "execution_count": 5,
   "metadata": {},
   "outputs": [],
=======
   "execution_count": 8,
   "metadata": {},
   "outputs": [
    {
     "name": "stderr",
     "output_type": "stream",
     "text": [
      "/opt/jupyterhub/anaconda/lib/python3.6/site-packages/sklearn/preprocessing/data.py:617: DataConversionWarning: Data with input dtype uint8, float64 were all converted to float64 by StandardScaler.\n",
      "  return self.partial_fit(X, y)\n"
     ]
    }
   ],
>>>>>>> fd99a7be00e3c9a0c47da8ad00d07df942a759d1
   "source": [
    "#Split, originally thought about using the train_test_split function but it seems to give some errors\n",
    "X = df_d[['T','T-1','dayofweek_0','dayofweek_1','dayofweek_2','dayofweek_3','dayofweek_4','dayofweek_5','dayofweek_6']]\n",
    "y = df_d[['gasPower']]\n",
<<<<<<< HEAD
    "#labelencoder_y_1 = LabelEncoder()\n",
    "#y = labelencoder_y_1.fit_transform(y)\n",
    "y = np.array(y)\n",
=======
    "labelencoder_y_1 = LabelEncoder()\n",
    "y = labelencoder_y_1.fit_transform(y)\n",
>>>>>>> fd99a7be00e3c9a0c47da8ad00d07df942a759d1
    "\n",
    "test_size=0.3\n",
    "split_index = int(df_d.shape[0]*test_size)\n",
    "\n",
    "X_train = X[:split_index]\n",
    "y_train = y[:split_index]\n",
    "X_test = X[split_index:]\n",
    "y_test = y[split_index:]\n",
    "\n",
<<<<<<< HEAD
    "#scalerX = StandardScaler(with_mean=True, with_std=True).fit(X_train) #Normalization! :D"
=======
    "scalerX = StandardScaler(with_mean=True, with_std=True).fit(X_train) #Normalization! :D"
>>>>>>> fd99a7be00e3c9a0c47da8ad00d07df942a759d1
   ]
  },
  {
   "cell_type": "code",
<<<<<<< HEAD
   "execution_count": 6,
=======
   "execution_count": 9,
>>>>>>> fd99a7be00e3c9a0c47da8ad00d07df942a759d1
   "metadata": {},
   "outputs": [
    {
     "name": "stderr",
     "output_type": "stream",
     "text": [
      "/opt/jupyterhub/anaconda/lib/python3.6/site-packages/sklearn/preprocessing/data.py:617: DataConversionWarning: Data with input dtype uint8, float64 were all converted to float64 by StandardScaler.\n",
      "  return self.partial_fit(X, y)\n",
<<<<<<< HEAD
      "/opt/jupyterhub/anaconda/lib/python3.6/site-packages/ipykernel_launcher.py:4: DataConversionWarning: Data with input dtype uint8, float64 were all converted to float64 by StandardScaler.\n",
      "  after removing the cwd from sys.path.\n",
      "/opt/jupyterhub/anaconda/lib/python3.6/site-packages/ipykernel_launcher.py:5: DataConversionWarning: Data with input dtype uint8, float64 were all converted to float64 by StandardScaler.\n",
      "  \"\"\"\n"
=======
      "/opt/jupyterhub/anaconda/lib/python3.6/site-packages/sklearn/base.py:462: DataConversionWarning: Data with input dtype uint8, float64 were all converted to float64 by StandardScaler.\n",
      "  return self.fit(X, **fit_params).transform(X)\n",
      "/opt/jupyterhub/anaconda/lib/python3.6/site-packages/ipykernel_launcher.py:3: DataConversionWarning: Data with input dtype uint8, float64 were all converted to float64 by StandardScaler.\n",
      "  This is separate from the ipykernel package so we can avoid doing imports until\n"
>>>>>>> fd99a7be00e3c9a0c47da8ad00d07df942a759d1
     ]
    }
   ],
   "source": [
<<<<<<< HEAD
    "scalerX = StandardScaler(with_mean=True, with_std=True).fit(X_train)\n",
    "scalery = StandardScaler(with_mean=True, with_std=True).fit(y_train)\n",
    "#y_train = scalery.transform(y_train)\n",
    "X_train = scalerX.transform(X_train)\n",
    "X_test = scalerX.transform(X_test)"
=======
    "sc = StandardScaler()\n",
    "X_train = sc.fit_transform(X_train)\n",
    "X_test = sc.transform(X_test)"
>>>>>>> fd99a7be00e3c9a0c47da8ad00d07df942a759d1
   ]
  },
  {
   "cell_type": "code",
<<<<<<< HEAD
   "execution_count": 7,
=======
   "execution_count": 10,
>>>>>>> fd99a7be00e3c9a0c47da8ad00d07df942a759d1
   "metadata": {},
   "outputs": [
    {
     "name": "stderr",
     "output_type": "stream",
     "text": [
      "/opt/jupyterhub/anaconda/lib/python3.6/site-packages/ipykernel_launcher.py:4: UserWarning: Update your `Dense` call to the Keras 2 API: `Dense(activation=\"relu\", input_dim=9, units=16, kernel_initializer=\"uniform\")`\n",
      "  after removing the cwd from sys.path.\n",
      "/opt/jupyterhub/anaconda/lib/python3.6/site-packages/ipykernel_launcher.py:6: UserWarning: Update your `Dense` call to the Keras 2 API: `Dense(activation=\"relu\", units=16, kernel_initializer=\"uniform\")`\n",
      "  \n",
      "/opt/jupyterhub/anaconda/lib/python3.6/site-packages/ipykernel_launcher.py:8: UserWarning: Update your `Dense` call to the Keras 2 API: `Dense(activation=\"sigmoid\", units=1, kernel_initializer=\"uniform\")`\n",
      "  \n"
     ]
    }
   ],
   "source": [
<<<<<<< HEAD
    "model = Sequential()\n",
    "\n",
    "#first layer with the input data\n",
    "model.add(Dense(output_dim =16, init = 'uniform', activation = 'relu', input_dim = 9))\n",
    "#second layer \n",
    "model.add(Dense(output_dim = 16, init = 'uniform', activation = 'relu'))\n",
    "#output layer\n",
    "model.add(Dense(output_dim = 1, init = 'uniform', activation = 'sigmoid'))"
=======
    "forecast = Sequential()\n",
    "\n",
    "#first layer with the input data\n",
    "forecast.add(Dense(output_dim =16, init = 'uniform', activation = 'relu', input_dim = 9))\n",
    "#second layer \n",
    "forecast.add(Dense(output_dim = 16, init = 'uniform', activation = 'relu'))\n",
    "#output layer\n",
    "forecast.add(Dense(output_dim = 1, init = 'uniform', activation = 'sigmoid'))"
>>>>>>> fd99a7be00e3c9a0c47da8ad00d07df942a759d1
   ]
  },
  {
   "cell_type": "code",
<<<<<<< HEAD
   "execution_count": 8,
   "metadata": {},
   "outputs": [],
   "source": [
    "model = multi_gpu_model(model, gpus=num_gpu)"
=======
   "execution_count": 11,
   "metadata": {},
   "outputs": [],
   "source": [
    "forecast_model = multi_gpu_model(forecast, gpus=num_gpu)"
>>>>>>> fd99a7be00e3c9a0c47da8ad00d07df942a759d1
   ]
  },
  {
   "cell_type": "code",
<<<<<<< HEAD
   "execution_count": 9,
   "metadata": {},
   "outputs": [],
   "source": [
    "model.compile(optimizer = 'adam', loss = 'mse', metrics = ['accuracy'])"
=======
   "execution_count": 12,
   "metadata": {},
   "outputs": [],
   "source": [
    "forecast_model.compile(optimizer = 'adam', loss = 'mse', metrics = ['accuracy'])"
>>>>>>> fd99a7be00e3c9a0c47da8ad00d07df942a759d1
   ]
  },
  {
   "cell_type": "code",
<<<<<<< HEAD
   "execution_count": 10,
   "metadata": {},
   "outputs": [
    {
     "data": {
      "text/plain": [
       "<keras.callbacks.History at 0x7f236c20cda0>"
      ]
     },
     "execution_count": 10,
     "metadata": {},
     "output_type": "execute_result"
=======
   "execution_count": 13,
   "metadata": {},
   "outputs": [
    {
     "name": "stdout",
     "output_type": "stream",
     "text": [
      "Epoch 1/100\n",
      "83/83 [==============================] - 2s 26ms/step - loss: 0.0669 - acc: 0.0120\n",
      "Epoch 2/100\n",
      "83/83 [==============================] - 0s 394us/step - loss: 0.0658 - acc: 0.0120\n",
      "Epoch 3/100\n",
      "83/83 [==============================] - 0s 361us/step - loss: 0.0645 - acc: 0.0120\n",
      "Epoch 4/100\n",
      "83/83 [==============================] - 0s 427us/step - loss: 0.0628 - acc: 0.0120\n",
      "Epoch 5/100\n",
      "83/83 [==============================] - 0s 370us/step - loss: 0.0604 - acc: 0.0120\n",
      "Epoch 6/100\n",
      "83/83 [==============================] - 0s 372us/step - loss: 0.0574 - acc: 0.0120\n",
      "Epoch 7/100\n",
      "83/83 [==============================] - 0s 1ms/step - loss: 0.0532 - acc: 0.0120\n",
      "Epoch 8/100\n",
      "83/83 [==============================] - 0s 703us/step - loss: 0.0484 - acc: 0.0120\n",
      "Epoch 9/100\n",
      "83/83 [==============================] - 0s 556us/step - loss: 0.0432 - acc: 0.0120\n",
      "Epoch 10/100\n",
      "83/83 [==============================] - 0s 369us/step - loss: 0.0370 - acc: 0.0120\n",
      "Epoch 11/100\n",
      "83/83 [==============================] - 0s 373us/step - loss: 0.0325 - acc: 0.0120\n",
      "Epoch 12/100\n",
      "83/83 [==============================] - 0s 347us/step - loss: 0.0291 - acc: 0.0120\n",
      "Epoch 13/100\n",
      "83/83 [==============================] - 0s 343us/step - loss: 0.0266 - acc: 0.0120\n",
      "Epoch 14/100\n",
      "83/83 [==============================] - 0s 358us/step - loss: 0.0254 - acc: 0.0120\n",
      "Epoch 15/100\n",
      "83/83 [==============================] - 0s 348us/step - loss: 0.0247 - acc: 0.0120\n",
      "Epoch 16/100\n",
      "83/83 [==============================] - 0s 366us/step - loss: 0.0243 - acc: 0.0120\n",
      "Epoch 17/100\n",
      "83/83 [==============================] - 0s 358us/step - loss: 0.0240 - acc: 0.0120\n",
      "Epoch 18/100\n",
      "83/83 [==============================] - 0s 373us/step - loss: 0.0237 - acc: 0.0120\n",
      "Epoch 19/100\n",
      "83/83 [==============================] - 0s 372us/step - loss: 0.0234 - acc: 0.0120\n",
      "Epoch 20/100\n",
      "83/83 [==============================] - 0s 353us/step - loss: 0.0233 - acc: 0.0120\n",
      "Epoch 21/100\n",
      "83/83 [==============================] - 0s 347us/step - loss: 0.0231 - acc: 0.0120\n",
      "Epoch 22/100\n",
      "83/83 [==============================] - 0s 349us/step - loss: 0.0229 - acc: 0.0120\n",
      "Epoch 23/100\n",
      "83/83 [==============================] - 0s 350us/step - loss: 0.0228 - acc: 0.0120\n",
      "Epoch 24/100\n",
      "83/83 [==============================] - 0s 348us/step - loss: 0.0227 - acc: 0.0120\n",
      "Epoch 25/100\n",
      "83/83 [==============================] - 0s 350us/step - loss: 0.0226 - acc: 0.0120\n",
      "Epoch 26/100\n",
      "83/83 [==============================] - 0s 375us/step - loss: 0.0226 - acc: 0.0120\n",
      "Epoch 27/100\n",
      "83/83 [==============================] - 0s 381us/step - loss: 0.0225 - acc: 0.0120\n",
      "Epoch 28/100\n",
      "83/83 [==============================] - 0s 374us/step - loss: 0.0224 - acc: 0.0120\n",
      "Epoch 29/100\n",
      "83/83 [==============================] - 0s 355us/step - loss: 0.0223 - acc: 0.0120\n",
      "Epoch 30/100\n",
      "83/83 [==============================] - 0s 342us/step - loss: 0.0223 - acc: 0.0120\n",
      "Epoch 31/100\n",
      "83/83 [==============================] - 0s 348us/step - loss: 0.0223 - acc: 0.0120\n",
      "Epoch 32/100\n",
      "83/83 [==============================] - 0s 363us/step - loss: 0.0222 - acc: 0.0120\n",
      "Epoch 33/100\n",
      "83/83 [==============================] - 0s 346us/step - loss: 0.0221 - acc: 0.0120\n",
      "Epoch 34/100\n",
      "83/83 [==============================] - 0s 345us/step - loss: 0.0221 - acc: 0.0120\n",
      "Epoch 35/100\n",
      "83/83 [==============================] - 0s 357us/step - loss: 0.0220 - acc: 0.0120\n",
      "Epoch 36/100\n",
      "83/83 [==============================] - 0s 342us/step - loss: 0.0220 - acc: 0.0120\n",
      "Epoch 37/100\n",
      "83/83 [==============================] - 0s 363us/step - loss: 0.0219 - acc: 0.0120\n",
      "Epoch 38/100\n",
      "83/83 [==============================] - 0s 348us/step - loss: 0.0219 - acc: 0.0120\n",
      "Epoch 39/100\n",
      "83/83 [==============================] - 0s 369us/step - loss: 0.0219 - acc: 0.0120\n",
      "Epoch 40/100\n",
      "83/83 [==============================] - 0s 360us/step - loss: 0.0218 - acc: 0.0120\n",
      "Epoch 41/100\n",
      "83/83 [==============================] - 0s 352us/step - loss: 0.0218 - acc: 0.0120\n",
      "Epoch 42/100\n",
      "83/83 [==============================] - 0s 382us/step - loss: 0.0218 - acc: 0.0120\n",
      "Epoch 43/100\n",
      "83/83 [==============================] - 0s 357us/step - loss: 0.0217 - acc: 0.0120\n",
      "Epoch 44/100\n",
      "83/83 [==============================] - 0s 347us/step - loss: 0.0217 - acc: 0.0120\n",
      "Epoch 45/100\n",
      "83/83 [==============================] - 0s 358us/step - loss: 0.0217 - acc: 0.0120\n",
      "Epoch 46/100\n",
      "83/83 [==============================] - 0s 359us/step - loss: 0.0216 - acc: 0.0120\n",
      "Epoch 47/100\n",
      "83/83 [==============================] - 0s 374us/step - loss: 0.0216 - acc: 0.0120\n",
      "Epoch 48/100\n",
      "83/83 [==============================] - 0s 360us/step - loss: 0.0216 - acc: 0.0120\n",
      "Epoch 49/100\n",
      "83/83 [==============================] - 0s 353us/step - loss: 0.0215 - acc: 0.0120\n",
      "Epoch 50/100\n",
      "83/83 [==============================] - 0s 370us/step - loss: 0.0215 - acc: 0.0120\n",
      "Epoch 51/100\n",
      "83/83 [==============================] - 0s 341us/step - loss: 0.0215 - acc: 0.0120\n",
      "Epoch 52/100\n",
      "83/83 [==============================] - 0s 356us/step - loss: 0.0215 - acc: 0.0120\n",
      "Epoch 53/100\n",
      "83/83 [==============================] - 0s 357us/step - loss: 0.0215 - acc: 0.0120\n",
      "Epoch 54/100\n",
      "83/83 [==============================] - 0s 343us/step - loss: 0.0214 - acc: 0.0120\n",
      "Epoch 55/100\n",
      "83/83 [==============================] - 0s 343us/step - loss: 0.0213 - acc: 0.0120\n",
      "Epoch 56/100\n",
      "83/83 [==============================] - 0s 348us/step - loss: 0.0214 - acc: 0.0120\n",
      "Epoch 57/100\n",
      "83/83 [==============================] - 0s 344us/step - loss: 0.0213 - acc: 0.0120\n",
      "Epoch 58/100\n",
      "83/83 [==============================] - 0s 341us/step - loss: 0.0213 - acc: 0.0120\n",
      "Epoch 59/100\n",
      "83/83 [==============================] - 0s 372us/step - loss: 0.0212 - acc: 0.0120\n",
      "Epoch 60/100\n",
      "83/83 [==============================] - 0s 347us/step - loss: 0.0213 - acc: 0.0120\n",
      "Epoch 61/100\n",
      "83/83 [==============================] - 0s 358us/step - loss: 0.0212 - acc: 0.0120\n",
      "Epoch 62/100\n",
      "83/83 [==============================] - 0s 374us/step - loss: 0.0211 - acc: 0.0120\n",
      "Epoch 63/100\n",
      "83/83 [==============================] - 0s 376us/step - loss: 0.0211 - acc: 0.0120\n",
      "Epoch 64/100\n",
      "83/83 [==============================] - 0s 343us/step - loss: 0.0211 - acc: 0.0120\n",
      "Epoch 65/100\n",
      "83/83 [==============================] - 0s 373us/step - loss: 0.0210 - acc: 0.0120\n",
      "Epoch 66/100\n",
      "83/83 [==============================] - 0s 367us/step - loss: 0.0210 - acc: 0.0120\n",
      "Epoch 67/100\n",
      "83/83 [==============================] - 0s 359us/step - loss: 0.0210 - acc: 0.0120\n",
      "Epoch 68/100\n",
      "83/83 [==============================] - 0s 342us/step - loss: 0.0209 - acc: 0.0120\n",
      "Epoch 69/100\n",
      "83/83 [==============================] - 0s 357us/step - loss: 0.0209 - acc: 0.0120\n",
      "Epoch 70/100\n",
      "83/83 [==============================] - 0s 348us/step - loss: 0.0209 - acc: 0.0120\n",
      "Epoch 71/100\n",
      "83/83 [==============================] - 0s 369us/step - loss: 0.0208 - acc: 0.0120\n",
      "Epoch 72/100\n",
      "83/83 [==============================] - 0s 343us/step - loss: 0.0208 - acc: 0.0120\n",
      "Epoch 73/100\n",
      "83/83 [==============================] - 0s 356us/step - loss: 0.0208 - acc: 0.0120\n",
      "Epoch 74/100\n",
      "83/83 [==============================] - 0s 345us/step - loss: 0.0207 - acc: 0.0120\n",
      "Epoch 75/100\n",
      "83/83 [==============================] - 0s 372us/step - loss: 0.0206 - acc: 0.0120\n",
      "Epoch 76/100\n",
      "83/83 [==============================] - 0s 359us/step - loss: 0.0206 - acc: 0.0120\n",
      "Epoch 77/100\n",
      "83/83 [==============================] - 0s 347us/step - loss: 0.0203 - acc: 0.0120\n",
      "Epoch 78/100\n",
      "83/83 [==============================] - 0s 358us/step - loss: 0.0202 - acc: 0.0120\n",
      "Epoch 79/100\n",
      "83/83 [==============================] - 0s 344us/step - loss: 0.0200 - acc: 0.0120\n",
      "Epoch 80/100\n",
      "83/83 [==============================] - 0s 372us/step - loss: 0.0199 - acc: 0.0120\n",
      "Epoch 81/100\n",
      "83/83 [==============================] - 0s 344us/step - loss: 0.0198 - acc: 0.0120\n",
      "Epoch 82/100\n",
      "83/83 [==============================] - 0s 346us/step - loss: 0.0196 - acc: 0.0120\n",
      "Epoch 83/100\n",
      "83/83 [==============================] - 0s 366us/step - loss: 0.0194 - acc: 0.0120\n",
      "Epoch 84/100\n",
      "83/83 [==============================] - 0s 371us/step - loss: 0.0192 - acc: 0.0120\n",
      "Epoch 85/100\n",
      "83/83 [==============================] - 0s 347us/step - loss: 0.0191 - acc: 0.0120\n",
      "Epoch 86/100\n",
      "83/83 [==============================] - 0s 346us/step - loss: 0.0190 - acc: 0.0120\n",
      "Epoch 87/100\n",
      "83/83 [==============================] - 0s 346us/step - loss: 0.0188 - acc: 0.0120\n",
      "Epoch 88/100\n",
      "83/83 [==============================] - 0s 355us/step - loss: 0.0187 - acc: 0.0120\n",
      "Epoch 89/100\n",
      "83/83 [==============================] - 0s 346us/step - loss: 0.0186 - acc: 0.0120\n",
      "Epoch 90/100\n",
      "83/83 [==============================] - 0s 345us/step - loss: 0.0183 - acc: 0.0120\n",
      "Epoch 91/100\n",
      "83/83 [==============================] - 0s 367us/step - loss: 0.0182 - acc: 0.0120\n",
      "Epoch 92/100\n",
      "83/83 [==============================] - 0s 379us/step - loss: 0.0181 - acc: 0.0120\n",
      "Epoch 93/100\n",
      "83/83 [==============================] - 0s 347us/step - loss: 0.0181 - acc: 0.0120\n",
      "Epoch 94/100\n",
      "83/83 [==============================] - 0s 346us/step - loss: 0.0179 - acc: 0.0120\n",
      "Epoch 95/100\n",
      "83/83 [==============================] - 0s 356us/step - loss: 0.0178 - acc: 0.0120\n",
      "Epoch 96/100\n",
      "83/83 [==============================] - 0s 355us/step - loss: 0.0178 - acc: 0.0120\n",
      "Epoch 97/100\n",
      "83/83 [==============================] - 0s 370us/step - loss: 0.0177 - acc: 0.0120\n",
      "Epoch 98/100\n",
      "83/83 [==============================] - 0s 361us/step - loss: 0.0177 - acc: 0.0120\n",
      "Epoch 99/100\n",
      "83/83 [==============================] - 0s 347us/step - loss: 0.0177 - acc: 0.0120\n",
      "Epoch 100/100\n",
      "83/83 [==============================] - 0s 355us/step - loss: 0.0175 - acc: 0.0120\n"
     ]
>>>>>>> fd99a7be00e3c9a0c47da8ad00d07df942a759d1
    }
   ],
   "source": [
    "y_train = (y_train-min(y_train))/(max(y_train)-min(y_train))\n",
    "\n",
<<<<<<< HEAD
    "model.fit(X_train, y_train, batch_size = 10,epochs = 100,verbose=0)"
=======
    "forecast_model.fit(X_train, y_train, batch_size = 10,epochs = 100);"
>>>>>>> fd99a7be00e3c9a0c47da8ad00d07df942a759d1
   ]
  },
  {
   "cell_type": "code",
<<<<<<< HEAD
   "execution_count": 11,
   "metadata": {},
   "outputs": [],
   "source": [
    "y_predict = model.predict(X_test)\n",
    "x_datetime = df_d.index[len(X_train):]\n",
    "y_test = (y_test-min(y_test))/(max(y_test)-min(y_test))\n",
    "#y_predict = scalery.inverse_transform(y_predict)"
   ]
  },
  {
   "cell_type": "code",
   "execution_count": 12,
   "metadata": {},
   "outputs": [
    {
     "data": {
      "image/png": "iVBORw0KGgoAAAANSUhEUgAABJIAAAJsCAYAAACmpYlMAAAABHNCSVQICAgIfAhkiAAAAAlwSFlzAAALEgAACxIB0t1+/AAAADl0RVh0U29mdHdhcmUAbWF0cGxvdGxpYiB2ZXJzaW9uIDMuMC4xLCBodHRwOi8vbWF0cGxvdGxpYi5vcmcvDW2N/gAAIABJREFUeJzs3XmYXFWd//H3N3tISIAEEAmQAEGQLSQw0A9bY2RTAVEZEHBfURRn5ofiKIKiA46KiIML/hRQGBgVGcERDAZaFpuB8CMGCGBAwSQgkNDddENCZzm/P04VqXS6O9Whq6uq+/16nnrudu69p6rvH+HD95wbKSUkSZIkSZKkjRlW7Q5IkiRJkiSpPhgkSZIkSZIkqSwGSZIkSZIkSSqLQZIkSZIkSZLKYpAkSZIkSZKkshgkSZIkSZIkqSwGSZIkSX0QETdHxPsK6++PiLuq3adNFRFNEfHhwvppETGn2n2SJEm1zSBJkiQNqIh4MiJWRER7RLRGxB8j4uMRMaykzZURkSLiH0r27RoRqWS7KSJWRsQOJfveHBFP9nLv8yNiVeHe7RHx54j4j4jYrtz+p5SOTSld1acvXQdSSteklI6qdj8kSVJtM0iSJEnVcFxKaXNgJ+Ai4HPAj7u0eQH46kau8xJwbh/v/V+Fe28FnAi8Dri/L2GSJEnSUGWQJEmSqial1JZSuhE4GXhfROxVcvgqYJ+IOLyXS1wKvDsidt2Ee69KKT1cuPfzwL8ARMSWEfGbiHg+IloK61OK55UOBysVEZdFxLe67LspIj7TTduIiG9HxHMR0RYRC4rfPSLeGhEPRMSLEbE4Is4vOW9qoVLrA4VjLYVqrgMK12iNiP8oaf/+iLg7Ir5buM+jETG7u9+j6zC9wn0+HhGLCve5LCKicGx4RHwrIpZFxF8j4sxC+xHl/v6SJKk+GSRJkqSqSyndCywBDi3Z/TLwb8DXejl1KfAj4PzXcO81wK9L7j0MuIJcLbUjsAL4j+7PXs9V5FBrGEBETAZmA9d20/Yo4DBgN2ALcpi1vHDsJeC9hf1vBc6IiLd3Of9AYHrhvEuALwBvBvYE/rFL+HYg8BdgMnAe8KuI2KqM7wPwNuAAYF/gH4GjC/s/AhwLzABmAl37J0mSBimDJEmSVCueJg83K/VDYMeIOLaX8y4EjouIPfvj3iml5Sml61NKL6eU2slBVm9VURTOuxdoI4dHAKcATSmlZ7tpvgrYHNgdiJTSIymlZwrXaUopPZhSWptSWkAOorre/4KU0sqU0hxy8HRtSum5lNJS4E5gv5K2zwGXFCqw/gt4jBxQleOilFJrSulvwO3k4AhyqPSdlNKSlFILeXiiJEkaAgySJElSrdiePC/Sq1JKrwAXFD7R3UkppefJFUNfKd1feAtZR+Fzc7n3jojNIuKHEfFURLwI3AFsERHDy/gOVwGnF9ZPB37WQ59vK/T5MuDZiLg8IiYU7n9gRNxeGFrXBnycXE1UqjScWtHN9viS7aUppVSy/RTw+jK+C8DfS9ZfLrnu64HFJcdK1yVJ0iBmkCRJkqouIg4ghzl3dXP4CmAieWLsnnwDOAKYVdxReAvZ+MKnx4qmwlC048iVPJDnSnoDcGBKaQJ5CBr0EGR1cTVwQkTsC+wB/HdPDVNKl6aUZpGHo+0GnF049J/AjcAOKaWJwA/KvHdPti/ObVSwI7kC67V4BphSsr1DTw0lSdLgYpAkSZKqJiImRMTbgOuAq1NKD3Ztk1JaTZ4D6XM9XSel1Ap8C/hsH+49MiL2IA8dex1wceHQ5uSqntbCXELnlXvNlNIS4D5yJdL1KaUVPdz7gELl0Ujy0LSVwJqS+7+QUloZEf8AnFru/XuwDfDpwvc9iRxw/fY1XvPnwFkRsX1EbEEvfxtJkjS4GCRJkqRquCki2slDor5ADnE+0Ev7a8lVML35DuvCmN6cHBEdQCu58mc5MCulVKzSuQQYCywD7gFuKeOapa4C9qaHYW0FE8iThLeQh5otB75ZOPYJ4CuF3+dL5NDmtfhf8sTcy8jzPb0rpbS891M26kfAHGAB8AA5mFpNeb+/JEmqY7H+kHlJkiS9FhFxGHmI29SU0toq9+X9wIdTSodU+D7HAj9IKe1UyftIkqTqsyJJkiSpnxSGqp0F/N9qh0iVFBFjI+ItETEiIrYnD/+7odr9kiRJlWeQJEmS1A8K8y21AtuRh8cNZgF8mTw07wHgEfIwPEmSNMg5tE2SJEmSJEllsSJJkiRJkiRJZTFIkiRJkiRJUlkMkiRJ0qsiIkXEsxExomTfiIh4LiJSyb49I2JORLRERGtE3B8Rbykca4yItRHR0eXT0Me+jI6In0TEixHx94j45420/6dCu7bCeaNLjl0QEQ9GxOqIOL+bc7eOiP8sfJeWiLimnH5ExKiI+GVEPFn47Rp76NuoiHg0IpaU7JscEXdHxPLCfZsj4uCS43tFxO8iYlnpb19y/OqIeKbQrz9HxIdLjk0t9Kf09z+35PjDXY6tjoibSo7PKPxNXy4sZ5QcOyIibi/8zk9206+pheMvF77zm0uOnRIRjxXOfS4iroqICSXHt4qIGyLipYh4KiJO7XLfBwu/1fJCu+27+70lSVLlGCRJkqSuWoFjS7bfQp5UudRNwK3AtsA2wKeBF0uOP51SGt/l09zHfpwPTAd2Ao4APhsRx3TXMCKOBs4BZgNTgZ3Jk0EXPQ58FvifHu71K+DvhXttA3yzD/24Czi9cH5Pzgae67KvA/ggsDWwJfB14KaSEG8V8HPgQz1c80JgakppAnA88NWImNWlzRYlv/8FxZ0ppT2L+4HNgb8Bv4AcegG/Bq4u9Osq4NeF/QAvAT8pfKfuXEuegHsS8AXglxGxdeHY3cDBKaWJ5L/RCOCrJedeBnSSn6vTgO9HxJ6FYwuBo1NKWwCvBxYB3++hD5IkqUIMkiRJUlc/A95bsv1e4KfFjYiYDEwDfpRS6ix87k4p3dXP/XgvcEFKqSWl9AjwI+D9PbR9H/DjlNLDKaUW4ILStimlq1JKNwPtXU+MiKOAHYCzU0ptKaVVKaUHyulH4btfUvjua7rrWERMIwdNF5buTymtTCk9llJaS34L2hpycLNV4fhjKaUfAw93d93Cd32luFn47NLD79Obw8jh2fWF7UZywHNJSumVlNKlhf69qXDfe1NKPwP+0s133Q2YCZyXUlqRUroeeBB4Z+HcxSmlZSWnrAF2LZw7rtDu3JRSR+E3vRF4T+HcZ1NKT3d3riRJGjgGSZIkqav/Bg6LiC0iYgvgUHKFStFycoXP1RHx9ojYti8Xj4jvFYYndfdZUGizJbnq5E8lp/4J2LO7axb2d227bURMKqNLBwGPAVcVhkzdFxGHb2I/uvNd4F+BFd0dLHznleTQ5P+mlLpWLvWo8Fu+DDwKPAP8tkuTpyJiSURcUQgAu/M+4JcppZcK23sCC9L6r/ZdQHnfeU/gLyml0sBuvd8rIg6JiDZyqPdO4JLCod2ANSmlP/dy7o4R0Ur+Lf8P8O9l9EmSJPUjgyRJktTVSvLQtZOBU8gBx8riwULAcATwJPAt4JmIuCMippdc4/XdhETjCud/IqW0RQ+ffQrnjy8s20qu2UYehtWd8d20pZf2paYARwG3A68rfKdfF4KXvvZjPRFxIjAipXRDT20K33kCcCp5mFzZUkqfKPTlUPLwvGKF0jLgAPJwvFmFNtd0PT8iNgPeBVxZsrvrbwnlf+eNnptSuqswtG0K8A3yc1TuuX8rDG2bDHyRHKBJkqQBZJAkSZK681PykK71hrUVpZSWpJTOTCntQg4rXurS7uluQqKXul6nFx2F5YSSfRPoZmhaSfuubemlfakVwJMppR8XhrVdBywGDt6EfryqEJz9O/CpjbUtDHO7FjgnIvYto8+l564pDAObApxR2NeRUpqXUlqdUnoWOBM4qnRi64J3AC8AfyjZ1/W3hDK/c1/OTSktBW4BrtuEc19g3dxNI7oelyRJlWOQJEmSunMnsB150uNeq2RSSovJkyTvVc6FI+IHseEb3YqfhwvXbCEP1SoNVfalh/mCCvu7tn02pbS8jC4tIM8vtIFN6Eep6eSJv++MiL+TK4a2i/zmt6k9nDOSPAn1phhBz3MkFb9fdNn/PuCnXYaxPQzsExGlbfehvO/8MLBzRJRWL/X2e5X2+c/AiC6VbRs7dxs2DJ8kSVIFGSRJkqQNFIKF44Dju4QMRMSWEfHliNg1IoYVhoB9ELinzGt/vJs3uhU/pfPw/BT4YuF+uwMfYf0hWHRp+6GIeGNhXqMvlraNiJERMYb8b58RETEmIoYXDt8AbBkR74uI4RHxLmB78hvGNtqPiBhduDbAqMK1A3iIPIn3jMLnw8CzhfXFEXFQYb6gURExNiI+Rw7u/rdw3Shcd1Rhe0xEjC6sbxMRp0TE+EKfjwbeDdxWOH5gRLyh8PeZBFwKNKWUXh06FhFTyEMUr+ryWzaRJ7L+dOG7nVnYX7z2sEK/Rha6Oab4RrfC/EbzgfMK+08kh1DXF849rTDPUUTETsDXgLmFc18ih21fiYhxEXEwcAJ58nci4h0l32lr4GLggUJ1kiRJGiAGSZIkqVuFt4J1Vw3SSa60+T3wIjkweYX136j2+m6qjd7Zxy6cBzwBPEUeevWNlNIt8Oqkyx0RsWOhr7eQh5HdXmj/VOH8oh+Rh7C9m/xK+hWsexvYC8Dx5Mmb24BzgBNK3i7WYz8KHitcb3vgd4X1nQrDyv5e/JCHkK0tbK8BRpMruZYDS4G3AG8teTPZToVrFf8GKwr3glxhdAawBGgBvgl8JqVUnBR9Z/KwsXbW/X3e3eX3fQ/QnFJ6onRnSqkTeDt5WGMrOSR8e2E/5Le8rSBP7L1jYX1OySVOAfYv9Osi4F0ppecLx94I/JE8jO3uwvf5SMm5nwDGAs8B1wJnlDyD25d8pweBtcCJSJKkARVd/iejJEmSJEmS1C0rkiRJkiRJklQWgyRJkiRJkiSVxSBJkiRJkiRJZTFIkiRJkiRJUlkMkiRJkiRJklSWEdXuQF9Nnjw5TZ06tdrdUD976aWXGDduXLW7oSHAZ03V5jOoavL500DyeVM1+fxpoAymZ+3+++9fllLaemPt6i5Imjp1KvPmzat2N9TPmpqaaGxsrHY3NAT4rKnafAZVTT5/Gkg+b6omnz8NlMH0rEXEU+W0c2ibJEmSJEmSymKQJEmSJEmSpLIYJEmSJEmSJKksdTdHUndWrVrFkiVLWLlyZbW7ojKMGTOGKVOmMHLkyGp3RZIkSZIk9cGgCJKWLFnC5ptvztSpU4mIandHvUgpsXz5cpYsWcK0adOq3R1JkiRJktQHg2Jo28qVK5k0aZIhUh2ICCZNmmT1mCRJkiRJdWhQBEmAIVId8W8lSZIkSVJ9GjRBUrUNHz6cGTNmsNdee3HSSSfx8ssvb/K1mpqaeNvb3gbAjTfeyEUXXdRj29bWVr73ve/1+R7nn38+3/zmNzfabvz48b0e39T7S5IkSZKk+mOQ1E/Gjh3L/Pnzeeihhxg1ahQ/+MEP1jueUmLt2rV9vu7xxx/POeec0+Pxagc51b6/JEmSJEkaOAZJFXDooYfy+OOP8+STT7LHHnvwiU98gpkzZ7J48WLmzJlDQ0MDM2fO5KSTTqKjowOAW265hd13351DDjmEX/3qV69e68orr+TMM88E4Nlnn+XEE09k3333Zd999+WPf/wj55xzDk888QQzZszg7LPPBuAb3/gGBxxwAPvssw/nnXfeq9f62te+xhve8Abe/OY389hjj3Xb97/+9a80NDRwwAEHcO655766v6Ojg9mzZzNz5kz23ntvfv3rXwNscP+e2kmSJEmSpPo3KN7atkmam6GpCRoboaGh3y67evVqbr75Zo455hgAHnvsMa644gq+973vsWzZMr761a/y+9//nnHjxvH1r3+diy++mM9+9rN85CMf4bbbbmPXXXfl5JNP7vban/70pzn88MO54YYbWLNmDR0dHVx00UU89NBDzJ8/H4A5c+awaNEi7r33XlJKHH/88dxxxx2MGzeO6667jgceeIDVq1czc+ZMZs2atcE9zjrrLM444wze+973ctlll726f8yYMdxwww1MmDCBZcuWcdBBB3H88cdvcP/Vq1d32855kSRJkiRJqn+DL0j6zGegEGr0qK0NFiyAtWth2DDYZx+YOLHn9jNmwCWX9HrJFStWMGPGDCBXJH3oQx/i6aefZqedduKggw4C4J577mHhwoUcfPDBAHR2dtLQ0MCjjz7KtGnTmD59OgCnn346l19++Qb3uO222/jpT38K5DmZJk6cSEtLy3pt5syZw5w5c9hvv/2AXEm0aNEi2tvbOfHEE9lss82APGSuO3fffTfXX389AO95z3v43Oc+B+Shef/6r//KHXfcwbBhw1i6dCnPPvvsBuf31O51r3tdr7+fJEmSJEmqfYMvSCpHW1sOkSAv29p6D5LKUJwjqatx48a9up5S4sgjj+Taa69dr838+fP7rWInpcTnP/95Pvaxj623/5JLLin7Ht21u+aaa3j++ee5//77GTlyJFOnTmXlypWb3E6SJEmSJNWfwRckbaRyCMjD2mbPhs5OGDUKrrmmX4e39eSggw7ik5/8JI8//ji77rorL7/8MkuWLGH33Xfnr3/9K0888QS77LLLBkFT0ezZs/n+97/PZz7zGdasWcNLL73E5ptvTnt7+6ttjj76aM4991xOO+00xo8fz9KlSxk5ciSHHXYY73//+znnnHNYvXo1N9100wZhE8DBBx/Mddddx+mnn84111zz6v62tja22WYbRo4cye23385TTz0FsMH9e2onSZIkSZLq39CcbLuhAebOhQsuyMsBCJEAtt56a6688kre/e53s88++3DQQQfx6KOPMmbMGC6//HLe+ta3csghh7DTTjt1e/53vvMdbr/9dvbee29mzZrFww8/zKRJkzj44IPZa6+9OPvssznqqKM49dRTaWhoYO+99+Zd73oX7e3tzJw5k5NPPpkZM2bwzne+k0MPPbTHe1x22WUccMABtLW1vbr/tNNOY968eey///5cc8017L777gAb3L+ndpIkSZIkqf5FSqnafeiT/fffP82bN2+9fY888gh77LFHlXqkTdH1b9bU1ERjY2P1OqQhw2dN1eYzqGry+dNA8nlTNfn8aaAMpmctIu5PKe2/sXZDsyJJkiRJkiRJfWaQJEmSJEmSpLIYJEmSJEmSJKksFQuSIuInEfFcRDzUw/GIiEsj4vGIWBARMyvVF0mSJEmSJL12laxIuhI4ppfjxwLTC5+PAt+vYF8kSZIkSZL0GlUsSEop3QG80EuTE4CfpuweYIuI2K5S/ZEkSZIkSdoUzc1w4YV5OdRVc46k7YHFJdtLCvvq0vDhw5kxYwZ77bUXxx13HK2trZt8ralTp7Js2bJe21x55ZWceeaZvbZpamrij3/84yb3Q5IkSZKkoa65GRob4QtfgNmzDZNGVPHe0c2+1G3DiI+Sh7+x7bbb0tTUtN7xiRMn0t7e3t/965OxY8dy5513AvCxj32Miy++mLPPPnuTrpVSoqOjg9GjR/fYZuXKlXR2dvb6vX/3u98xfvx49t57703qRyWtXLlyvb9jR0fHBn9XqRJ81lRtPoOqJp8/DSSfN1WTz5/60zXX7Ehn5zQgeOWVtfzkJ0/yyit/A4bms1bNIGkJsEPJ9hTg6e4appQuBy4H2H///VNjY+N6xx955BE233zzyvSyD4p9OOyww1iwYMGr29/4xjf4+c9/ziuvvMKJJ57Il7/8ZQDe/va3s3jxYlauXMlZZ53FRz/6UQAigvHjx2/wna644gouvPBCtttuO3bbbTdGjx7N5ptvzk033cRXv/pVOjs7mTRpEtdccw0rVqzgiiuuYPjw4fziF7/gu9/9Lq2trRu023bbbQfwF1pnzJgx7Lfffq9uNzU10fXvKlWCz5qqzWdQ1eTzp4Hk86Zq8vlTfxo9Gn7yE1i7FkaPHsYHP7gzDQ07A0PzWavm0LYbgfcW3t52ENCWUnpmoG5eqfGNa9asYe7cuRx//PEAzJkzh0WLFnHvvfcyf/587r//fu644w4AfvKTn3D//fczb948Lr30UpYvX97jdZ955hnOO+887r77bm699VYWLlz46rFDDjmEe+65hwceeIBTTjmFf//3f2fq1Kl8/OMf55/+6Z+YP38+hx56aLftJEmSJElSzxoaYN998/o11+TtoaxiFUkRcS3QCEyOiCXAecBIgJTSD4DfAm8BHgdeBj7QH/f9zGdg/vze27S1wYIFOU0cNgz22QcmTuy5/YwZcMklvV9zxYoVzJgxgyeffJJZs2Zx5JFHAjlImjNnzqvVNx0dHSxatIjDDjuMSy+9lBtuuAGAxYsXs2jRIiZNmtTt9f/3f/+XxsZGtt56awBOPvlk/vznPwOwZMkSTj75ZJ555hk6OzuZNm1at9cot50kSZIkSVonFSbimTq1qt2oCZV8a9u7U0rbpZRGppSmpJR+nFL6QSFEovC2tk+mlHZJKe2dUppXqb501daWQyTIy7a2137NsWPHMn/+fJ566ik6Ozu57LLLgDzf0ec//3nmz5/P/Pnzefzxx/nQhz5EU1MTv//972lubuZPf/oT++23HytXruz1HhHdTSsFn/rUpzjzzDN58MEH+eEPf9jjdcptJ0mSJEmS1im+T6uXgURDRjXnSKqIjVUOQR7ONns2dHbCqFH9W5o2ceJELr30Uk444QTOOOMMjj76aM4991xOO+00xo8fz9KlSxk5ciRtbW1sueWWbLbZZjz66KPcc889vV73wAMP5KyzzmL58uVMmDCBX/ziF+xbqK1ra2tj++3zC++uuuqqV8/ZfPPNefHFF1/d7qmdJEmSJEnqWUtLXm7kBetDQjXnSKqahgaYOxcuuCAv+3t843777ce+++7Lddddx1FHHcWpp55KQ0MDe++9N+9617tob2/nmGOOYfXq1eyzzz6ce+65HHTQQb1ec7vttuP888+noaGBN7/5zcycOfPVY+effz4nnXQShx56KJMnT351/3HHHccNN9zAjBkzuPPOO3tsJ0mSJEmSurd2LRRrNKxIGoQVSeVqaOjfAKmjo2O97ZtuuunV9bPOOouzzjprg3Nuvvnmbq/15JNPdrv/Ax/4AB/4wIZTSZ1wwgmccMIJG+zfbbfdWLBgwQZtJUmSJElSeV58cd0cSQZJQ7QiSZIkSZIkqRzF+ZHAIAkMkiRJkiRJknpkkLQ+gyRJkiRJkqQelAZJTrY9iIKkVBywqJrn30qSJEmSVC+Kb2x73eusSIJBEiSNGTOG5cuXG1DUgZQSy5cvZ8yYMdXuiiRJkiRJG1WsSNplF4MkGCRvbZsyZQpLlizh+eefr3ZXVIYxY8YwZcqUandDkiRJkqSNKg2SHnywun2pBYMiSBo5ciTTpk2rdjckSZIkSdIgUwySdt4ZXnwROjth1Kjq9qmaBsXQNkmSJEmSpEpobYWJE2GbbfL2Cy9Utz/VZpAkSZIkSZLUg9ZW2GILmDQpbw/1eZIMkiRJkiRJknpgkLQ+gyRJkiRJkqQetLSsHyQtW1bd/lSbQZIkSZIkSVIPihVJkyfnbSuSJEmSJEmS1C2Htq3PIEmSJEmSJKkHra2w5ZYwdmz+GCRJkiRJkiRpA6tXQ3t7rkiCXJXkHEmSJEmSJEnawIsv5mUxSJo82YokgyRJkiRJkqRutLTkZWlFkkGSJEmSJEmSNtDampcGSesYJEmSJEmSJHWjGCRtuWVeOkeSQZIkSZIkSVK3uqtIammBtWur16dqM0iSJEmSJEnqRtcgafLkHCIV9w9FBkmSJEmSJEnd6K4iCYb2PEkGSZIkSZIkSd1obYVhw2D8+LxtkGSQJEmSJEmS1K2WFpg4MYdJsC5IGsoTbhskSZIkSZIkdaO1dd0b2yDPkQRWJEmSJEmSJKmL1tZ18yOBQ9vAIEmSJEmSJKlbXYOkCRNgxAiDJEmSJEmSJHXRNUiKgK22co4kSZIkSZIkddE1SII8vM2KJEmSJEmSJK2npWXDIGnyZIMkSZIkSZIklejshJdfXv+tbWBFkkGSJEmSJElSF21tednd0DbnSJIkSZIkSdKrWlvzsqc5klIa+D7VAoMkSZIkSZKkLnoKkiZPzsPeXnpp4PtUCwySJEmSJEmSuuitIgmG7jxJBkmSJEmSJEldbCxIGqrzJBkkSZIkSZIkddHSkpfdvbUNrEiSJEmSJElSgUPbumeQJEmSJEmS1EVrK4wYAZtttv7+yZPz0iBJkiRJkiRJQA6SttgCItbfXxzq5hxJkiRJkiRJAtYFSV2NGJH3W5EkSZIkSZIkoOcgCfI8SQZJkiRJkiRJAvJb27q+sa1o8mSDJEmSJEmSJBVYkdQ9gyRJkiRJkqQuNhYkOdm2JEmSJEmSACuSemKQJEmSJEmSVGLlyvzpLUjq6IBVq2JgO1YDDJIkSZIkSZJKtLXlZU9B0uTJefniiyMHpkM1xCBJkiRJkiSpREtLXvb01rZJk/Kyrc0gSZIkSZIkaUhrbc3L3oa2gRVJkiRJkiRJQ165QVJb24iB6VANMUiSJEmSJEkqsbEgyTmSJEmSJEmSBPSlIskgSZIkSZIkaUjbWJA0ZgxstpkVSZIkSZIkSUNeayuMHg1jx/bcZtIkgyRJkiRJkqQhr6Wl52qkohwkOdm2JEmSJEnSkNbauvEgafJk50iSJEmSJEka8soJkhzaJkmSJEmSJIOkXhgkSZIkSZIklSgnSFqxIs+RdNddA9OnWmGQJEmSJEmSVKK1Fbbcsufjzc1w9dUAwZFH5u2hwiBJkiRJkiSpIKWNv7WtqQnWrMnrq1bl7aHCIEmSJEmSJKlgxYocDvUWJDU2wujRMGzYWkaNyttDhUGSJEmSJElSQWtrXvYWJDU0wNy58MEPPsncuXl7qBhR7Q5IkiRJkiTVinKCJMjh0Suv/I2Ghp0r36kaYkWSJEmSJElSQblB0lBlkCRJkiRJklRQDJJ6e2vbUGaQJEmSJEmSVGBFUu8MkiRJkiRJkgpaWvLSIKl7BkmSJEmSJEkFxYrqR8j7AAAgAElEQVSkiROr249aZZAkSZIkSZJU0NoKY8fC6NHV7kltMkiSJEmSJEkqaG11WFtvDJIkSZIkSZIKnngC1qyB5uZq96Q2GSRJkiRJkiSRw6M//AGeew5mzzZM6o5BkiRJkiRJEvDTn8LatXm9sxOamqranZpkkCRJkiRJkoa8tWvXBUfDh8OoUdDYWM0e1aYR1e6AJEmSJElStV15JTz6KHzpSzBmTA6RGhqq3avaY5AkSZIkSZKGtLY2+Pznc3B0/vkQUe0e1S6DJEmSJEmSNKR95Svw/PPw298aIm2McyRJkiRJkqQh69FH4dJL4cMfhlmzqt2b2meQJEmSJEmShqSU4KyzYNw4+NrXqt2b+mCQJEmSJEmShqRvfAPmzIH3vx+23rravakPBkmSJEmSJGlIeewxeO974XOfy9uXXw7NzdXtU71wsm1JkiRJkjTo3XorfP/7sGgRPPTQ+pNqd3ZCU1N+a5t6Z5AkSZIkSZIGtZtvhre8Ja9HwCc/CUcfDSefnEOkUaOgsbGqXawbBkmSJEmSJGlQ+/GP160PGwbbbw/HHQdz5+ZKpMZGq5HKZZAkSZIkSZIGtWXLciXSsGHrVx81NBgg9VVFJ9uOiGMi4rGIeDwizunm+I4RcXtEPBARCyLiLZXsjyRJkiRJGlpWroR58+CEE+CCC3IVkuHRpqtYRVJEDAcuA44ElgD3RcSNKaWFJc2+CPw8pfT9iHgj8FtgaqX6JEmSJEmShpamJnjpJfjoR+HYY6vdm/pXyYqkfwAeTyn9JaXUCVwHnNClTQImFNYnAk9XsD+SJEmSJGmIufFGGDcOjjii2j0ZHCo5R9L2wOKS7SXAgV3anA/MiYhPAeOAN1ewP5IkSZIkaQhJCW66CY48EsaMqXZvBodKBknRzb7UZfvdwJUppW9FRAPws4jYK6W0dr0LRXwU+CjAtttuS1NTUyX6qyrq6Ojw76oB4bOmavMZVDX5/Gkg+bypmnz+VLRo0XiWLNmfU099lKamv/f79Yfis1bJIGkJsEPJ9hQ2HLr2IeAYgJRSc0SMASYDz5U2SildDlwOsP/++6fG4vTqGjSamprw76qB4LOmavMZVDX5/Gkg+bypmnz+VHTHHfltbf/yL7uzzTa79/v1h+KzVsk5ku4DpkfEtIgYBZwC3Nilzd+A2QARsQcwBni+gn2SJEmSJElDxE03wUEHwTbbVLsng0fFgqSU0mrgTOB3wCPkt7M9HBFfiYjjC83+BfhIRPwJuBZ4f0qp6/A3SZIkSZKkPnn6aZg3D447rto9GVwqObSNlNJvgd922felkvWFwMGV7IMkSZIkSRp6fvObvDz++N7bqW8qObRNkiRJkiSpKm68EaZNgze+sdo9GVwMkiRJkiRJUl364x/ha1+D5ub197/0Esydm4e1RXfvlNcmq+jQNkmSJEmSpEpoboYjjoDOThgxAm69FYovUPv972HlSoe1VYIVSZIkSZIkqe40NcGqVXl99Wo46SS47ba8fdNNMGECHHpo1bo3aFmRJEmSJEmS6k5jIwwfnkOk0aPzZ/ZsOOYYuOsuOPBAGDWq2r0cfKxIkiRJkiRJdaehIQ9t22oruP12WLQI3vc+uOUW6OiAO+/ccO4kvXYGSZIkSZIkqS4NHw677JJDpbFj4Q1vgGGFpGPNmjz8Tf3LIEmSJEmSJNWl1lbYYot1242NeYjb8OF5WFtx8m31H+dIkiRJkiRJdamlBXbccd12QwPMnZsrkRob87b6l0GSJEmSJEmqS10rkiCHRwZIlePQNkmSJEmSVHdSyhVJW25Z7Z4MLQZJkiRJkiSp7qxcCZ2dG1YkqbIMkiRJkiRJUt1paclLK5IGlkGSJEmSJEmqO62teWlF0sAySJIkSZIkSXXHiqTqMEiSJEmSJEl1x4qk6jBIkiRJkiRJdceKpOowSJIkSZIkSXXHiqTqMEiSJEmSJEl1p1iRZJA0sAySJEmSJElS3WlthXHjYOTIavdkaDFIkiRJkiRJdaelxfmRqsEgSZIkSZIk1Z3WVoe1VYNBkiRJkiRJqjtWJFWHQZIkSZIkSao7ViRVh0GSJEmSJEmqO1YkVYdBkiRJkiRJqjtWJFWHQZIkSZIkSaora9ZAW5sVSdVgkCRJkiRJkupKW1teWpE08AySJEmSJElSXWltzUsrkgaeQZIkSZIkSaorLS15aUXSwDNIkiRJkiRJdcWKpOoxSJIkSZIkSXXFiqTqMUiSJEmSJEl1xYqk6jFIkiRJkiRJdcWKpOoxSJIkSZIkSXWltRWGD4fx46vdk6HHIEmSJEmSJNWVlpY8rC2i2j0ZegySJEmSJElSXWltdVhbtRgkSZIkSZKkulKsSNLAM0iSJEmSJEl1xYqk6jFIkiRJkiRJdcWKpOoxSJIkSZIkSXXFiqTqMUiSJEmSJEl1IyUrkqrJIEmSJEmSJNWNlSuhs9OKpGoxSJIkSZIkSXWjpSUvrUiqDoMkSZIkSZJUN1pb89KKpOowSJIkSZIkSXXDiqTqMkiSJEmSJEl1oxgkWZFUHQZJkiRJkiSpbhSHtlmRVB0GSZIkSZIkqW5YkVRdBkmSJEmSJKluONl2dRkkSZIkSZKkutHSAuPGwciR1e7J0GSQJEmSJEmS6kZrq/MjVZNBkiRJkiRJqhstLQ5rqyaDJEmSJEmSVDesSKougyRJkiRJklQ3rEiqLoMkSZIkSZJUN6xIqi6DJEmSJEmSVDesSKougyRJkiRJklQX1qyBF1+0IqmaDJIkSZIkSVJdaGvLSyuSqscgSZIkSZIk1YXW1ry0Iql6DJIkSZIkSVJdaGnJSyuSqscgSZIkSZIk1QUrkqrPIEmSJEmSJNUFK5KqzyBJkiRJkiTVBSuSqs8gSZIkSZIk1QUrkqrPIEmSJEmSJNWFlhYYPhzGj692T4YugyRJkiRJklQXWltzNVJEtXsydBkkSZIkSZKkutDS4vxI1WaQJEmSJEmS6kKxIknVY5AkSZIkSZLqghVJ1WeQJEmSJEmS6oIVSdVnkCRJkiRJkuqCFUnVZ5AkSZIkSZJqXkpWJNUCgyRJkiRJklTzVqyAzk4rkqrNIEmSJEmSJNW81ta8tCKpugySJEmSJElSzWtpyUsrkqrLIEmSJEmSJNU8K5Jqg0GSJEmSJEmqeVYk1QaDJEmSJEmSVPOsSKoNBkmSJEmSJKnmWZFUGwySJEmSJElSzbMiqTYYJEmSJEmSpJr38MMwciTMm1ftngxtBkmSJEmSJKmmNTfDL38Jq1bB7Nl5W9VhkCRJkiRJkmra9dfDmjV5vbMTmpqq2p0hzSBJkiRJkiTVtPvvz8vhw2HUKGhsrGp3hrQR1e6AJEmSJElST+68M1cgffjDsPPOOURqaKh2r4YugyRJkiRJklST1q6Ff/5n2H57uOQSGDeu2j2SQZIkSZIkSapJ116b39J21VWGSLXCOZIkSZIkSVLNefllOOccmDkTTj+92r1RkRVJkiRJkiSp5nz727BkCVx9NQyzDKZmVPRPERHHRMRjEfF4RJzTQ5t/jIiFEfFwRPxnJfsjSZIkSZJq329+A1/+Mhx2GBx+eLV7o1IVC5IiYjhwGXAs8Ebg3RHxxi5tpgOfBw5OKe0JfKZS/ZEkSZIkSbWvuRne/nZYtQruvTdvq3ZUsiLpH4DHU0p/SSl1AtcBJ3Rp8xHgspRSC0BK6bkK9keSJEmSJNW4piZYsyavr1qVt1U7KhkkbQ8sLtleUthXajdgt4i4OyLuiYhjKtgfSZIkSZJU4xobISJ/Ro3K26odkVKqzIUjTgKOTil9uLD9HuAfUkqfKmnzG2AV8I/AFOBOYK+UUmuXa30U+CjAtttuO+u6666rSJ9VPR0dHYwfP77a3dAQ4LOmavMZVDX5/Gkg+bypmnz+6t+xxx7Czju/xCc+8QR77vlitbvTo8H0rB1xxBH3p5T231i7Sr61bQmwQ8n2FODpbtrck1JaBfw1Ih4DpgP3lTZKKV0OXA6w//77p0bjyEGnqakJ/64aCD5rqjafQVWTz58Gks+bqsnnr76lBJ2d8Pa3T+STn5xZ7e70aig+a5Uc2nYfMD0ipkXEKOAU4MYubf4bOAIgIiaTh7r9pYJ9kiRJkiRJNWzFCli7FjbfvNo9UXcqFiSllFYDZwK/Ax4Bfp5SejgivhIRxxea/Q5YHhELgduBs1NKyyvVJ0mSJEmSVNva2/PSIKk2VXJoGyml3wK/7bLvSyXrCfjnwkeSJEmSJA1xBkm1rZJD2yRJkiRJkvqkoyMvB8kc1oOOQZIkSZIkSaoZViTVNoMkSZIkSZIq5K674AtfgObmavekf9x6K3zxi5X9PgZJta2icyRJkiRJkjRUNTfDm94Eq1bBt78Nc+dCQ0O1e7Xpmpvh2GNhzRq4+OLKfR+DpNpmRZIkSZIkSRXQ1JRDJIDOzrxdz5qacogElf0+xTmSDJJqk0GSJEmSJEkV0NgIEXl95Mi8Xc9K+1/J71OsSHKy7dpkkCRJkiRJUgUcdBCMHp3X/+M/6ntYG8CsWevWL764ct/HoW21zSBJkiRJkqQKWLwYVq7M6zvuWN2+9Idnnlm3PmZM5e7T3p4DuJEjK3cPbTqDJEmSJEmSKmDhwnXrL75YvX70l6VL160//njl7tPebjVSLTNIkiRJkiSpAgZrkDR8eGWDpI4O50eqZQZJkiRJkiRVwCOPrBsC1tZW3b70hyVL8nLWLCuShjKDJEmSJEmSKmDhwnUTVA+WiqQxY+CAA2DRIkipMvcxSKptBkmSJEmSJPWzlHKQtM8+sNlmg6MiaelS2H57mD49hz3PP1+Z+xgk1TaDJEmSJEmS+tnf/w6trfDGN8LEiYOnIqkYJEHlhrd1dBgk1TKDJEmSJEmS+llxou03vhEmTBhcFUm77pq3KxUktbc72XYtM0iSJEmSJKmflQZJ/V2R1NwMF16YlwMlpXVB0tSpMGxYZYMkK5Jq14hqd0CSJEmSpMFm4ULYckvYdttckdRfQVJzMxx+OKxenSe+njsXGhr659q9eeEFeOWVHCSNGgU77VSZICklg6RaZ0WSJEmSJEn9bOHCXI0UkSuS+mto2/XXw6pVOXDp7ISmpv657sYsXZqX22+fl7vumt/c1t9WrIC1aw2SaplBkiRJkiRJ/WzhQthjj7zenxVJjz22bn3UKGhs7J/rbkxPQVJK/Xufjo68NEiqXQZJkiRJkiT1o+efh2XLckUS9F9F0l//Crfcsi7M+d73BmZYG2wYJE2fnr/TCy/0733a2/PSybZrl0GSJEmSJEn96JFH8rIYJE2YkAOStWtf23UvvDBPcn3VVXl72AD+F30xSNpuu7ys1JvbikGSFUm1a6OPXWQ7DERnJEmSJEmqd6VvbIMcJMG6kGRTPPUUXHklfPjDebLtUaPg4YdfUzf7ZOlS2GabfF8wSBrKNhokpZQS8N8D0BdJkiRJkurewoV5aNaUKXl74sS8fC3zJF10UV6ecw6MGAG77w4PPfTa+tkXS5euG9YGMG1ankjcIGnoKbcQ7p6IOKCiPZEkSZIkaRAofWMbrKtI2tQgafFi+PGP4YMfhB0K44X23HPgK5JKg6QxY3Jf+vvNbcXJtp0jqXaVGyQdQQ6TnoiIBRHxYEQsqGTHJEmSJEmqR8UgqahYkbSpE25//ev57Wif//y6fXvtlYe7vZbhcn3RNUiCPLzNiqShZ0SZ7Y6taC8kSZIkSRoEWlrgmWfWD5JeS0XSjTfCD34Ab3kL7LTTuv177ZWXCxfCgQduen/L8cor+S10xaF6RbvuCtdf37/3MkiqfWVVJKWUngJ2AN5UWH+53HMlSZIkSRoqim9s22OPdfs2tSKpuRne+U5YswZuvTVvF+25Z14OxDxJTz+dl10rkqZPh+XLc3jWXwySal9ZYVBEnAd8DigW0o0Erq5UpyRJkiRJqkdd39gGm16R1NQEq1fn9VWr8nbRtGkwduzABElLluRld0PbAJ54ov/u1dEBo0fDyJH9d031r3Krik4EjgdeAkgpPQ2YD0qSJEmSVGLhwhzwlA5DKwZJfa1IOuywvIyAUaOgsXHdsWHDclg1EBNuL12alz0FSf05T1J7uxNt17pyg6TOlFICEkBEjKtclyRJkiRJqk+PPAK77w7Dh6/bN358DoP6WpFUnAfp2GNh7lxoaNjw+EBUJPUUJO28c17255vb2tsd1lbryg2Sfh4RPwS2iIiPAL8HflS5bkmSJEmSVH+6vrENcvXQ5pv3PUhqbc3Ld7xjwxAJ8jxJzzwDL7ywaX0t19KlsNlm6+Z6Ktpssxwu9XdFkkFSbSt3su1vAr8ErgfeAHwppfTdSnZMkiRJkqR60t4Of/vbhkES5BCmr0Pbiu232KL748WKpUoPb1u6NAdGERse23VXg6ShptzJtj8IPJlSOjul9H9SSrdWuF+SJEmSJNWVRx/Ny+6CpAkTNr0iqacgqfjmtoEKkrozfXr/BkkdHQZJta7coW1TgR9GxBMR8fOI+FREzKhgvyRJkiRJqis33piXr7yy4bFNqUgqBkldh5QV7bBDDl0qPU9Sb0HSrrvCc8/1PSTriZNt175yh7Z9KaX0JmAv4C7gbOD+SnZMkiRJkqR60dwMF12U1z/wgbxdalMqkjY2tC2i8hNupwRPP917kATwxBP9cz+HttW+coe2fTEibgbmALsC/weYUsmOSZIkSZJUL5qaYPXqvN7ZmbdLTZiw6RVJPQVJkIe3PfRQDnwqYdmy/H02FiT115vbDJJqX7lD294BTCK/re1XwI0ppWcq1itJkiRJkurI4YfnZQSMGgWNjesfnzhx0yuSehraBrkiafnyPLysEpYuzcuegqRddsnL/pgnKSXnSKoH5Q5tmwnMBu4FjgQejIi7KtkxSZIkSZLqxetel5cnnABz50JDw/rHN3Wy7c02g5Eje25T6Qm3NxYkjR+fv3t/BEkrV8KaNc6RVOvKHdq2F3A68D7gZGAJcFsF+yVJkiRJUt247768/OIXNwyRIFcVvfwyrFpV/jVbW3sf1ga5IgkqN0/SxoIkgG23hdtv33BeqL5qb89LK5Jq24gy230duAO4FLgvpdSHR1+SJEmSpMHtvvvykLa99+7++IQJedneDlttVd4129p6H9YGOcTZaqvKViRFrKu46qq5OYdYa9bA7NndV2OVyyCpPpQ7tO2twLeBF4E3REQvhXWSJEmSJA0t8+bBjBk5TOpOMRDqy4Tb5VQkVfrNbUuX5rCqp+F1TU2wdm1e726S8b4wSKoP5Q5tOxxYBFwGfA/4c0QcVsmOSZIkSZJUD9asgfvvhwMO6LlNsSKpL/MklRMkQZ4n6eGHK/PmtqVLex/W1tgIo0fn9YgNJxnvi46OvDRIqm3lvrXtYuColNLhKaXDgKPJFUqSJEmSJA1pjz2WQ5D+DpLKGdoGuSKprW3dfEb9aWNBUkMD3HYbTJ8OkybBgQdu+r2KFUlOtl3byg2SRqaUHitupJT+DDi8TZIkSZI05BUn2u4tSKrU0Dao7ITbS5bAlCm9t2logPPPh2efhTvv3PR7ObStPpQbJM2LiB9HRGPh8yPg/kp2TJIkSZKkenDffTBuHLzhDT236WtFUkp9G9oG/T/h9ooV0NLSe0VS0Qkn5N/g6qs3/X4GSfWh3CDpDOBh4NPAWcBC4OOV6pQkSZIkSfVi3jyYNQuGD++5TV8rklauhFWryhvaNmlSfnPbf/5nfotafykOlSsnSBo3Dt75TvjFL3LfN4VBUn3YaJAUEfsBxwE3p5TekVI6MaX07ZTSK5XvniRJkiRJtauzE+bP731YG/S9Iqm1NS/LqUhqbs7t/9//g9mz+y9M6kuQBHD66Tko+81vNu1+xcm2nSOptvUaJEXEl4D/At4J/E9EfGRAeiVJkiRJUh146CF45ZWNB0ljx8KIEeVXJBWDpHIqkpqa1r2xbcUKuOqq8u6xMX0Nkt70JthuO/jZzzbtfu3tMGpU/qh2jdjI8ZOBGSmllyNiEnAL8KPKd0uSJEmSpNpXzkTbABG5KqnciqRi4FRORVJjI4wZkwOttWvhhz+EZcvgpJPgL3/Jxxsayrtvqb4GScOHw6mnwne+k+8/eXLf7tfe7rC2erCxoW0rU0ovA6SUlpfRXpIkSZKkIeO++/L8RNOmbbxtX4Kkvgxta2iAuXPhq1/Nyy9/Gf7nf+CUU+ALX9j04W5Ll+ZhZsVheeV4z3tg9eo8V1JfGSTVh41VJO0SETcW1qPLNiml4yvWM0mSJEmSaty8ebD//rniaGMmTqzM0DbIYVKx6uhNb8rVSf/2b3nIW2dnHv7W16qkBQtypVNzc/nn7rMP7LVXHt52xhl9u19Hh0FSPdhYkHRCl+1vVqojkiRJkiTVk5dfznMkve1t5bWv1NC27rztbfCtb+VAafjwPLytL5qb4Q9/yEPlZs/OlU7lhEkRuSrpc5+DJ56AXXYp/57t7U60XQ96HaqWUvpD1w+wAGgprEuSJEmSNCTNnw9r1mx8fqSiTalI2tQgqaEBfvWrvH7GGX2vRmpqyiESrKtoKtepp+blxz7WtyF1Dm2rD2XNeRQRTRExISK2Av4EXBERF1e2a5IkSZIk1a5yJ9ou6mtF0ogR+W1vm+rYY/M9V6/u+7mHH56XEfktan2paFq8GIYNy1VMfZmfySCpPpQ7efbElNKLwDuAK1JKs4A3V65bkiRJkiTVtvvuy6+7f/3ry2vf14qkLbYob+6lnkTA9Onw+ON9P3e33fLyrW8tf1hbUVNTnpsJ+lbNZJBUH8oNkkZExHbAPwK/qWB/JEmSJEmqC/fdV341EvT9rW2bOqyt1K67wqJFfT/v6afz8n3v6/uwuMbGXMUEuaqq3GomJ9uuD+UGSV8Bfgc8nlK6LyJ2BjbhUZQkSZIkqf61tcGf/9z3IKmzM0+AXc71y31jW2+mT4cnn8z37YtikFRutVWphgb44Q/z+vnn/3/27j1MivLMG/+35gzDQWY4i5wPAoIgKDSKNAJRETQe3l007pqYN66Jbjbvxk2iaMwrGrP+siariSYas0Rj4hvP4hEZaBRoQUCMHFQQYYCBOQ/MwMwwh/r9cfPYPdNV1VXVVT3d9PdzXV5PT091V01363X11/u+H3tBlK5z2Ha6sBUk6br+vK7rk3Vd/96pn/fqun6tv5dGRERERERElJq2bJHVSZCkgiE77W1eViS1t0uY5EQiQRIgs5EAoLjY3vFNTTK4nBVJqS/HzkGaphUA+DaAiQAK1P26rt/s03URERERERERpawXXpBVzQKyo1cvWY8dA/r3tz62rk7mLyVqzBhZ9+yJzD2yQwVJAwe6O68KkKqq7B1fXy8rg6TUZ7e17RkAAwFcCmAtgCEA6v26KCIiIiIiIqJUFQ4DTzwht6+5xv6uZE4qkrxqbRs9Wlanc5IOHwaKioCCgvjHGunWDSgstB8kNTTIyiAp9dkNkkbrun4PgOO6rv8JwBUAJvl3WURERERERESpac0aacMCnO1KFl2RFI9XrW39+kk443TntrIy921tSt++rEg6HdkNklpOrXWapp0DoDeA4b5cEREREREREVEKGzpU1qws2Z3M7q5kdiuSWlqA48e9CZI0TdrbnFYkdVWQxGHbqc9ukPSEpml9ANwN4DUAOwH8p29XRURERERERJSiVDhyxx1ASYm9XckA+xVJ6vdetLYB0t7GiiTyiq1h25AKpG+duv3bU2urpmlTdF3f5v1lEREREREREaWmd9+VKp//dFheYTdIqquT1YuKJECu9cUXpdIpNzf+8e3tMiPJiyDJbiWUp0FSOCz9hsGg/ZSPbLMbJE0DMB3AilM/XwHgQwC3apr2vK7rD/lxcURERERERESp5ORJYO1a4KabnD9WBUnxWtu8DpJGj5aZTvv2RXZxs1JZKccnumuck4okz4Zth8PAvHlAczOQn++sZIxssdvaVgzgPF3Xf6jr+g8hoVI/ABcD+KZP10ZERERERESUUj74QOYXzZ/v/LH5+fJPvIokFTR51dqmwiO77W2HD8vqRUXSsWMSvsXjWUVSKCQhUnu7s0nobqxciRFPPAFs2ODfOVKQ3SBpKIDot74FwDBd1xsBNHt+VUREREREREQpaNUqGbI9d667x/fu3TUVSYD9NrOyMlm9CJIAoLo6/rGeDdsOBoGcU81X2dn2J6E7FQ4DixZh2F//KhVQ4bA/50lBdoOkvwD4QNO0ezVNuxfAegB/1TStEDJ4m4iIiIiIiOi09+67wAUXuA95evVKfkVS//5S6WO3IsnrIMlOe1t9veyAl5eX2DkRCAC33y63/+M//GtrC4WA1la53dLib+VTirEVJOm6vgzAdwDUATgK4FZd1+/Tdf24ruvf8PMCiYiIiIiIiFJBXR2waZO7tjbFk4qkcBh48EHbVTCaJlVJTiuSBg60d7wZp0GSZzu2qReuTx+PntBAMAhoGnRA0i+/Kp9SkN1h29B1fQuALT5eCxEREREREVHKCoVk9M6CBe6fw05FUl2dhD9qOHcH4TAwZ45UwxQU2B4mPWYMsHWrvWssKwP69Uu8OkgFSZWV8Y9taPAwSKqpkdXupG83AgGgTx/UFxWh15/+lFEDve22thERERERERFltHffBQoLgZkzTQ6wUSlkt7WtZ0+ZxRQjFJJWKl13NEx69GjZta2lJf6xhw8nvmMb4LwiKeH5SEptrax2hjO5VVMDVFejct68jAqRAAcVSURERERERESZbNUqKQYyrNQJh6W9qaXFslLIbmubaVvbqZYq6LqjlqoxY6SIaf/+yPBtM2Vlic9HAoDiYlmT3tqmgiQ/K5J27AAAHB8+3L9zpChWJBERERERERHFUVoKfP65RVtbKCQVQnEqhey2tpkGSYFAJKF55x3b1TAqPLIzcNurICk3V4KzLguS/KxIUkHSiBH+nSNFMUgiIu00ZI4AACAASURBVCIiIiIiiuPdd2U1HbQdDEZ60XJzTSuFeveWIEnXzc919GicHdtOnpR11CiLgzpSQVK8gdttbcCRI94ESYC0t9kJkjydkZSMiqTt24FevdDcr59/50hRDJKIiIiIiIiI4li1SnYxmzjR5IBAABg2TG4/8ohppVCvXhLWnDhhfi7LiiRdl/IdQIYZ2TRggMwgileRVFEhA8WTHSSlZWvbhAnSZphhGCQRERERERERWWhvlyBp/vw4uYFKhwoLTQ9RlUZWc5Isg6TjxyPlTA6CJE2TqqR4FUllZbJ6MWwbcBYk+TJs26r0KxE7dlikiqc3BklEREREREREFv7+dwlDTOcjARJYqJk8X3xhelivXrJazUmybG1T1UiAoyAJkIHb8SqS1FMmsyJJFVl5UpF08qQEekVFUvoVb7K5jZ32YlRUAJWVwDnnJHataYpBEhEREREREZGFuPORAElCWlvldgJBUnu7ZB+mFUnRD3QYJI0eDXz5ZeQyjaiKpGQGSU1Nkvl4EiSpaiQ1FMpq4HY4DMydC9xzDzBvnv0w6dSgbVYkEREREREREVGMF14A+vcH9u+3OCg6LbEIkuK1tjU0SJhkGiRFVySp1MemMWMkRLL6O8rKpA1uwABHT22qb1+gsdF6JlRDg6yeBkljxshqlWKFQkBzs6RYFjvtxWCQRERERERERERGNmwANm2STibLohVV+dKvH7B3r+nzxatIUgGTaWtbghVJgHV7W1mZhGa5uY6e2lTfvrJa5TkqG/OlIsnqxBdcELmdl2e6016MHTuAPn28GySVZhgkEREREREREZlYuVJWXY9TtKICiwsukDSmsdHwsHgVSXV1ssatSOrb19WMJMB64HZZmXdtbYCzIMmTYdudK5KsWtvULnsA8PzzpjvtxVCDtjNwxzaAQRIRERERERGRqSlTZM3KilO0ogILVeViUpUUryLJdpA0bpzjIGnAAAlr4lUkeVlo02UVSXZa244cidxuabH3/LoObN+esW1tAIMkIiIiIiIiIlMjR8q6ZAlQUmJRtNI5SDKZk6SCJLOKJNutbWPHShDS3m567Z1pmnR8WVUkHT6c/IokX2YkDRsGZGdbVyRFB0kbNth7/iNH5BwMkoiIiIiIiIioM5VL3HxznM6nqiopWzrvPPnZpCIpOxsoLPSgImnsWJmcbRWUGBg92rwiqbUVKC/vutY2T4OkoiKguNheRdLo0cD69faeXw3aPucc99eY5hgkEREREREREZlQwU6fPnEOrK6W8KJfPyk7sti5rVevBIdtZ2UBo0bJzy7mJO3dK6FRZ+Xl0rnlZZDUp49UQiV1RlJhoUwL79vXOmg7fBjIyQGuvBLYvFl2cIsnw3dsAxgkEREREREREZlSBS6mFUJKVZUEF5omIY9FkNS7d/xh26ZBUn29JFFqkJGLndtaW4E774zdga6sTFYvg6TsbMnXklqRpFI/OxVJAwYAF10kk9S3bo3//Nu3y/vcv78HF5ueGCQRERERERERmVBBkq2KpOJiuT1ypOuKpLo6oFs3ID/f5MH19ZK4qLTHYZB08qSsDz8MzJvXMUzyI0gCJHfpkiAp3omPHAEGDgRmzZKf7bS3qR3bMhiDJCIiIiIiIiITdXVSZGRaIaRUVUWCpFGjgH37gLY2w0OtKpKOHo1zrmPHEqpIqqyUtb1dQqVQKPI79VSOd21buxa4667YEqdT4uU5DQ2yI15ensPzGukcJMUbtj1woFQljRoVf+C2rkuQlMHzkQAGSURERERERESmamslt8mK9+25ujoyWXrUKElpDh0yPDReRZJlG52qSOrWTRInVUZk0/z50m4GSHATDEZ+V1Ymf6ejrq1wGFiwAHjwwdgSp1PsVCR5Uo0EGLe26brxsSpIAqQqacMG82MB4OBBeeNYkeQfTdMu0zTtM03T9mia9hOL467TNE3XNG26n9dDRERERERE5ERdnY22Nl3v2NqmBmGbtLfFm5FkGSQdOxZJXQYNclyRFAgAPzn17fyxxzruRFdWJsU5OTkOnjAUikzu7lzidIqdIMmTQdtAbEVSa2ukdy5ae7tMF48OksrLTXfbA8BB26f4FiRpmpYN4LcALgcwAcD1mqZNMDiuJ4DvA9jo17UQERERERERuRGdS5g6cQJoaopUJI0cKatJkBRv1zbL1jY1bBtwFSQBwPe/L+16paUd7y8rczEfKRiMlGvl5nYscTpFBUlmxT6+ViQBxilWdbW0Hqog6cILZbVqb2OQBMDfiqQLAOzRdX2vrusnATwH4CqD45YBeAhAk4/XQkRERERERORYba2NHdvUHB4VXJx1lpT1mFS39Ool4Ul7e+zvbLe2Aa6DpP79gRkzgBUrOt7vKkgKBIApU+T2ww93LHE6pW9foKXFuDAI8DBIamkBjh/vWJEEGM9J6jwQasIEeWPiBUkDB0be5wzlZ5B0JoADUT8fPHXfVzRNmwrgLF3XX/fxOoiIiIiIiIhcsdXapipeVMCQkwMMH27Z2gYYByu2Wts6VyRZzfUxsXgxsHlzxxFLroIkIDJU3GS4kspzzNrbGho83LENsFeRdOSIrKoiKTsbmDnTeue27dszvhoJAJx0PjqlGdz31adb07QsAL8C8M24T6RptwC4BQAGDBiAkEHPJaW3hoYGvq+UFPysUVfjZ5C6Ej9/lEz8vFFX8vLzV14ewLBhNQiFPjM9ps/mzTgXwEcHDuDoqfNO7tMHudu2YYvBdWzZMgLAMDz66Ce46KKO1TK1tRfj6NGDCIUMqpl0HXPq61FaU4MvQyEMOXECo5uasO6NN9DqcMjQwIGFAM7Hww9/hkWLDqO1VUNl5Rw0N3+JUGi/o+eaefgwCgB8vn49ygyqdQ4fLgYwCe+8swXjx8emZ0eOnI/8/BMIhXY4Om9n3UpLMQPAzsOHUREKodvBg5gBYNf776O8W7cOxw5YswbjAXywbx+aWloAAMMGD8bwd9/FutdfR1vn17O9HbM/+QSHFy7Enqj3NBP/W+dnkHQQwFlRPw8BED1OvieAcwCENE0DgIEAXtM07Upd1zdHP5Gu608AeAIApk+frgcNei4pvYVCIfB9pWTgZ426Gj+D1JX4+aNk4ueNupKXn7/jx4Hx4wchGBxkftCp6pap8+cD48fLfdOnA889F3Md4TDwwgty+4EHJmH16kg3WFOTdGdNnjwUweBQ44tpb8ewSZMwLBiUEqLHH8dFo0ZFzmvTnDnAffcBn38+DsHgOBw41U80a9YIBIMjHD0XGhoAAGPPOANjDV73ggJZhw2bZjRCCe3twIgRhYm/Zx98AACYcNFFmBAMAjU1AIDx/ftjfOfn3rQJADDzqqsik75bW4HlyzG783Z2ALBvH9DUhCGXXYYhUb/LxP/W+dna9iGAMZqmjdA0LQ/AEgCvqV/qun5U1/W+uq4P13V9OIAPAMSESERERERERERdobkZaGx00NqmergA2bmttjbSbnWK1SZndXWymra2qV646BlJgKs5SZom7W2rVsnfqFrcHLe2NTdLwAUAFRWGh8RrbautBT77TEK2hHRubTvjDBkEbtba1qNHx+3iZsyQ443a21T656KN8HTjW5Ck63orgNsBvANgF4C/6bq+Q9O0+zRNu9Kv8xIRERERERF5QQU7cYMkNcw5+sBRo2TtNCcpGATy8+W2pnUsfDl6VFbTXdvUVm8eBEkAsGiRhEirVycQJEUHZS6CpHXrpKBp40Zg3rwEw6TOQVJWlsxJMhq2feRIZD6S0rMnMHly7MDtcBi46y65/YMfeJB4pTc/K5Kg6/qbuq6P1XV9lK7rD5y676e6rr9mcGyQ1UhERERERESUKlQuEXfXtqoqCS9yoqbHmARJgQBQUgKcc44ERjNmRH5nuyJJDdtWqY/LICkYlIKcFSsSCJKiQxqTIKl3b5llbRQkPf+8rLoeW6HlWOcgCZAgyejEhw/HBkkAMGuWtMipAeLt7dIDeGqOUuIXmf58DZKIiIiIiIiI0pWjiqTOQ6ZHnJoztDd2aHYgAPzkJzLC58MPI/eriiTbrW09ewLdu7sOkvLzga99DXj9deDQIQl7+vVz+CSn5hChd2+gstLwEE2TqiSjPEfNwM7OBoxGEzliFCT17WtekTTIYO7VhRdKidQnn8gxl18OvP22XKAnF5n+GCQRERERERERGbBdkWQUJPXoAQwYEFORpCxcKLnEK69E7lPBVdzWNlWRpGkShpSVmTwgvsWLJUR6800p0MlymhKokObss00rkgDzIKmqSvKw++6TSi01eNyVmhqgsBDIzY3cZ1aRZNTaBkhFEgB885vAhAnAe+8Bv/+9rMuWeXCR6c/PXduIiIiIiIiI0pbtiqSqKuPqllGjTIOkPn1k57RXXwUefLDj+WxXJAFyXpcVSYAEWpoGfPwxcP75Lp5AVSSdfbbshNba2rHF7xSzIGnjRuCiiyIjiBJSWxv7ZvXt+9UObV9papIX2yhIUqHcxx/LC/PMM8A3viH3qZApw7EiiYiIiIiIiMiAUaeUIaOKJMAySAKAq64Cdu0Cdu+Wnx0P2wYSDpL69wdmzpTbjucjAR2DJF03biODcZB07BiwY0fHOVEJMQqS1LDt6N3WystlNQqS1q6VAAmQ8qzSUo8u7vTBIImIiIiIiIjIgKNh22prsmgjRwIHDwLNzYYPu+oqWV99Vda6Oml3Kyw0OU/nYdtAwkESILu3AdLt5XhDsupqqUAaOVJ+NpmTZBQkbd4s+Y6vQVLfvjIgu6Ehct+RI7IaBUnBIFBQwHlIFhgkERERERERERmoq5Nh0Pn5Fgc1NwPHj5tXJOk6sG+f4UOHDQOmTInMSaqrk9BKFcTEqK+XKpnu3SP3DRok9x8/budPMjR0qKybNgHz5jkMk2pqgKIimQcFmM5JUjOv29sj923cKOsFFzi/ZkNmQRLQsVJKBW9GQZLaVo/zkEwxSCIiIiIiIiIyYJRLxFABhVmQBMRtb9uwQfKXo0ct2toA6QXr2bNj0qRmMyVQlVRaKk+p6y52t6+pkb9dbfdmESS1t0fmQAESJI0dKzmUJ8xa24CO5VBWFUmAhEd33skQyQSDJCIiIiIiIiIDtbU229oA89Y2IG6QpOvA669HKpJM1dd3nI8EeBIkzZ2bQDdXdbUkQf37y88WQRIQebl0XYIkz9raAPsVSUeOSHKmrpkc4a5tRERERERERAbq6hKsSBowQAYe7d1r+vApU6S17NVXbQRJx451nI8EeBIkqW6uUEhCJEeFODU10qNXVCRtdxYzkgAJksaOlSqoI0c8DJJaWqS9z25FUr9+hrvLUXx81YiIiIiIiIgM1NYCZ54Z5yCriiRNk6oki4okTZOqpCeflF3Tzj3X4lw+VSQBEh7FBEjhcPx0qboamDpVQqR+/WxXJKn5SJ4O2gbMK5I6B0lmbW0UF1vbiIiIiIiIKOWFw8CDD7rYVSwBtlrbrCqSAAk2Nm60vPCrrgKamqRwyXFrW3ExkJubcJAUIxyWnre777aewK2GbQPSKuYgSCooACZP9uh6zYIkNb28c2sbgyTXGCQRERERERFRSguHpSjmnntc7CqWAFutbSoZMQqSwuHIJG2LC7/44kiA5Li1TdOkKsnrICkUkh3p2tvNJ3A3NQEnTkT+docVSeedJzOZPGEWJGVnS9DFiiTPMEgiIiIiIiKilPbKK5JltLW52FXMpfZ22UXNVkVSz57GiUgoFNnv3uLCc3OBhQvl9t//bhGUGVUkARIklZXFuVCHLr44cttsAndNjaw2KpIKC4H8fMlzWlqALVt8GLQNGCd/xcWRiiRdl9CNQZJrDJKIiIiIiIgopeXnR25nZTncVcylY8ckc7A1bNusrS0YjFy8plle+IQJsq5ebVG8ZFSRBPhTkTRunKxFRTKJ22hGklGQZDJsW9OkKqmqSsKypqYkBknqxICUmZ08ySApAQySiIiIiIiIKKUdOCCFOOPHS7hTWOj/Oa1yiQ6qqowHbQOR7dDGjJGQZeZM06dpaZFV102Kl3TduiLJKEhKZLBUebmsTU3m1915PlT//lLG1dxseLjKczwftA3ED5LUtR45IiuDJNcYJBEREREREVFKC4WA+fOB996TTODGGyXf8JPKJWy1tplVJAESJv34x9J6tm2b6WGXXgp06yYjfQw7yZqapLfPLEiqqekY4ITDwCWXAEuXuhsspYKkEyekEspI54qkfv1kNalKig6SBgwAhg1zdkmW4rW2qYokFSSp3e7IMQZJRERERERElLL27ZN/5s6VIOKPfwQ++UTyET/V1cmaUEWSctVVkhC9+KLpIap4adkyk04yFeaYtbYBkZAEANaskfDJtMQpDhUkAebzl1SQFF2RBFgO3FZB0owZ0u7mmdpaoHt341lV6sS6zookDzBIIiIiIiIiopS1Zo2sc+fKevnlwG23AQ8/LIGLX2y3tsWrSAIkyAgGgeeflzDDRCAA3Hmn8Tgi1NfLalaRBHRsb8uK+rqfk+N8sJSdIEm1i0XPSAIsK5IOHAA++8zjtjZA3jCzN6u4WKq1TpxgkOQBBklERERERESUskIhCSAmTozc99BDwNlnA0uWAD/9qbsRQPHYam1raZGZQPGCJAC47jrg88+BHTvcXZCdiiQVJB0/Djz+uFToAMAvfmGSTlmIDpLMBnnX1MiWc2polY2KJNWSmNQgSVWMVVXJ35KfD/Tu7fEFZA4GSURERERERJSSdF0qkoLBjm1Q3bsDP/qR5AL33+9uBFA8tlrbVGtXvNY2ALj6avkjXnjB3QU5qUh64AGgtBT47/+WnwcMcH6+8vJIimbV2lZcHHlz1IwkiyAJkMPPP9/5JVmKV5EESAXVkSNSjeRpX11mYZBEREREREREKWnvXmmFUm1t0VSHktsRQPHU1spYox49LA7qvGuZlQEDgNmz3QdJVhVJ/ftLK9vhw8CnnwK//CVw003AlVd2vE4nysuBkSMluLJqbVNtbera8vLiBkkTJhj/GQmxW5GkgiRyjUESERERERERpSQVDhkFScGgjP4BTHY5S1BdnRTkWBauqJ3A7FQkAdLetmOHhD1OWVUkZWdLUFVWBtx+u5RsPfRQJORxGyQNGAAMHmxdkRQdJGmahFpxgqSCAh/aEe0ESdEVSeQagyQiIiIiIiJKSWvWSJZx9tmxvwsEgB/8QG4/+6zzEUDxWOUSX3FSkQQA11wjq8XubaasgiRA2tteekkmkD/wgAQ6OTkyC8ivIMlo0Hj//qbDtlUV2datPrQj1tZ2DLWiqWtUFUmqFZBcYZBEREREREREKcdsPlK0xYtl7dbN+/PX1sYZtA04D5LOPBOYNctde5tVaxsgZT51dcDYscCtt0buLy52HiTpulQVDRggoYvVsO3O4U2/fqYVSaWl0oHneTtiSwvQ0GCe/PXpIx+iI0ckTGJFUkIYJBEREREREVHK2b1bCmGM2toUtZOb243QrNTV2ahIUq1tdoMkALj2WmDbNuCLL5xdUH29hCFqh7Ro4TCwcaPc3r8f2LQp8js3QVJdnSQ90RVJuh57nBq2Hc2itW3uXNkwLTvb43bEeJPRc3IkFdy1S/4OBkkJYZBEREREREREKcdqPpJSXCy5hR9Bku3Wtm7dZCaRXddeK6vT9rZjx6Stzag8KxSKBD2trR1LfYqLI7vL2VVeLqsKkpqaImGN0tgo/3SuSLIIkgIB6bxbtkxWz9oRa2tltXrD+vYFtm+X2wySEpLT1RdARERERERE1NmaNZJhjBljfdzEif4FSXFb26qq7A/aVoYNA8aPBx55RHZxs5um1Nebz0cKBqXU5+TJ2FKf4mLg88+dXWN0kJSdLbfLyjoGNSqcMgqSGhuB48cNq6cCAe/nWdkKkoqLI1VbDJISwookIiIiIiIiSil25iMpEycCO3cad14lcn5brW1Gw6bjCYeBPXuAQ4eASy6xP3HaKkiyKvVx09rWuSIJiB24rYIko9Y2wLQqyRd2K5LUh4RBUkJYkUREREREREQp5bPPJMuwamtTJk6UOculpVLs44XGRinusRUkOa1ICoWAtja5rSZO2ynROXbMfNA2YF7qU1wMHD0qLW85NiOA6CCpoEBudx64rcIpo2HbgARJI0bYO1+i7FYkKQMG+Hs9pzlWJBEREREREVFKWbNGVrtBEuBte5vKJWy1tjmtSAoGpf0MkGDH7sRpq4okK+r6nMxJKi+XlrbiYtm1DTCvSDJqbQNSsyJJHaPCMXKFQRIRERERERGllDVrgLPOAkaOjH+sH0FSvE3AvuKmtS0QAF55RW5/97v2BwbFq0gyo67PSXtbeblUFmVlyZyj3r1jgyT1fGatbZWVzq/VLSdBEtvaEsYgiYiIiIiIiFKGrgPvviv5xAcfxD++qEiyAT8qkiyDpLY2qcpx2toGAAsWSDWSk93eEq1IchokRbd/DR5svyIpurUtWWpq5LVUlV5G1OvAIClhDJKIiIiIiIgoZfz1r1IR9PHHwLx59mZRe71zm6pIsmxtq6uT1MtpRRIglT59+zqr2qmvT25FUnSQNGiQcZCUnx8bhnXvLlVMyW5ti1c+xookzzBIIiIiIiIiopTx8suy6npkFnU8aue29nZvrsFWRZIKZtxUJAFSuWM3bNF1aW3ryooko2HbRUXG2+r17596QZJ6HUpL7e+UR4YYJBEREREREVHKyc6WTiU7s6gnTgROnJCMwAu2hm1XVcnqpiIJkLDFbkVSc7PsupaMIEnXzVvbdD1yX01NbFubkopB0sGDsm7YYL/UjQwxSCIiIiIiIqKUcfgwMHkysGwZUFJibxa11wO3bbW2mQ2btqtfP/tB0rFjsrppbSsslETObpBUXw80NcUGSSdPdtz5zWrQuJOQzAt2gqTdu2V1UupGhhgkERERERERUUpoawM++giYOxe48077G5p5HSTV1krxT06OxUGqIslta5uTqp36elndVCRpmgQ+doOk8nJZOwdJQMc5SVYVSU7a9rxgJ0j62teAbt2clbqRIat/LYiIiIiIiIiS5vPPpUXtvPOcPe6MMyTr8DJIsqxGArypSDp2TNrW8vOtj02kIglIPEgaNEjWsjJg0iS5XVNjXZFUUSHVP0YzlLxmJ0gKBKTELRSSEMluSkkxGCQRERERERFRStiyRdZp05w/dsIEb1vb4uUSqKqSypYePdydpH9/WSsrgSFDrI9NpCIJ8K4iSQ3c1vXIsG0j/fvLTCdbL2SCWlqAhgZ75wkEGCB5gK1tRERERERElBK2bpXuo3HjnD924kRg1y5vdm6zU+Dy1YwgtxU3/frJameWUFcHSdEVSQDQ2CiVVFZBEpCcOUlqoJXfgRV9hUESERERERERpYStW4Fzz40zm8iE2rlt377Er8NWa9vnn0tq5Xb3LxW22JkllGhrW1GRsyBJ0zrOfurWTYIaFSSpodtmrW0qJEvGnCS1xR6DpKRhkERERERERERdrr1dgiQ3bW2AtwO343ZkhcPAunUSurjdSr4rKpJ0Pf6x5eUSInVO8wYPjgRJKpSKV5HEIOm0xCCJiIiIiIiIutwXX0he4nTQtjJhgqxeBElxW9tCoUgPndut5J1U7XgxbFvNEoqnvLxjW5syaFBsRRKDpIzEIImIiIiIiIi6XCKDtgFpRTvzzMSDpNZWyVssW9vU1vGa5n4r+TPOkKofJxVJhYXOzwNEWtDstLeZBUmDB0eGbcfbsU61xSVjRtLGjbLu3+//uQgAgyQiIiIiIiJKAVu3Avn5kcoiNyZOTDxIsjW7+fzzZZ07V7aUd7MTmKZJVZLdIKlnTyDL5Vd4L4Ok9vb4FUl5eRKU+V2RFA4DDzwgt2++2f28KnKEQRIRERERERF1ua1bgcmTgdxc98+hdm5ra4t/7IYNwNKlsdmD6pSyrEhSgcy11ya2nXz//vZb29zORwK8C5JaWuQ54g3bBuz/bYkIhaSEDJBrc9NiSI4xSCIiIiIiIqIupesSJLmdj6RMnAg0NQFHjhRYHhcOA3PmAD//uRQVRYdJtiqSVBWRmnPkltOKJLfsBknHj8s/ZkESIHOSqquBggLZzc1MMoKkYFAquwD3LYbkGIMkIiIiIiIi6lL79kklkBdBkjyf9SyhX/wiUsjSeVa2rdnNKiBRQ6XdclKR5HbQNmA/SCovl9Vs2DYgQVJNjXlbm5KMIGnGDAm0Zsxw32JIjjFIIiIiIiIiymDhsFTmdOV4mUQHbStqvpJVkPTOO8Drr0fGDek6MHt25Pe2Wtu8CpKSVZGkQp9EgiRVkXT4sARJVm1tgLw2fg/b/vxz4MQJ4NZbGSIlEYMkIiIiIiKiDBUOSzfQ0qXAvHldFyZt3Sqzkc45J7Hn6dVL8os1a/oZ/i07dgD/8A9ynnfeAZYskftbWiLHJLW1rX9/CYmamqyPq69PrCIpJwfo3du7iqTq6vgVSc3N8jqtW+f8eu3atEnWCy7w7xwUg0ESERERERFRhgqFIiFK5xavZNqyRcKd/PzEniccBqqqgC++6IHZs4Ff/Uo2GQMkI7niCqB7d6lImj8feOopoLAQ+MtfIs9hu7UtKyt+mBKPCqLiVe4kOmwbkAqiRIKk/Hx5DjutbeEw8Oc/y+0FC/xLKDdtAnr0AMaN8+f5yRCDJCIiIiIiogwVDEZavLKzu2ZWsVeDtgEJwmT2soa2NuDf/x0YORL4zneA88+XrqwVK4CzzpLju3cHrr4aeOEFKaABpCIpL09G75iqqJAQKCvBr9R2g6REW9sAZ0GSWcve4MGRiiSr1rZQKLJ1np+7qX34ITB9unx4KWkYJBEREREREWWoQCAyWub667tmzMzBg1JF5EWQFAxKCJSV1Y5u3YD77pOs5g9/AA4ckGOi29gA4IYbJDx6+235ubZWqpHUZmCGKisTb2sDIoFNvKHUiQ7bBuwHSUVF0mdoZNAgVcJ8OwAAIABJREFUexVJwWDkOXJy/Ekom5uBbdvY1tYFGCQRERERERFlMFU4Ul/fNef3atA2IEFYSQlw8837UFIC3HMPcM01kcKhtrbY4pj58yUTUu1tKkiyVFGR+KBtwF5FUnOzpF/JqkgyamtTBg8Gdu+WPkiriqRAAPjd7+T2z37mT0L597/LdZx/vvfPTZZyuvoCiIiIiIiIqOuoDGPXrq45/9at0pk0ebI3zxcIAM3NpQgERgKQYpj8fMkc8vJii2Nyc2UA91NPSZhWVxdnxzZAXrSpUxO/WDsVSceOyZqsiqR4QZKaRh5vPtTcubJ6EbgZ+fBDWVmRlHSsSCIiIiIiIspgKkjavTu27SsZtmwBJkwAunXz5/lVldKyZbIaFcfccINsnPbKK0muSOrVS5Isq4okVSrmRUXSsWPWb7KdIEmJFySp38cLr9zatEneAzXwipKGQRIREREREVGGam4Gjh4Fxo4FWluBPXuSfw1eDdq2EggAd95p3mEVCADDh0t7W9wg6eRJqcrxIkjSNHkeq4okFSR5UZEEyHwjM06CJKvWNkB2U8vJsT5fIjZtkmoky2FW5AcGSURERERERBmqqkrWOXNkTXZ724oVwJEj8Ytb/KZpMmz83XdllrRla5t60bwYtq2ex6oiSbW2eVGRBJhXCDU1ybmsgqRBgyK3471pmibn9CNIOnYM+PRTtrV1EQZJREREREREGUrlF7Nny7pzZ/LOHQ4D110ntx97TH7uSjfcIMO4GxvjVCSp6iGvZv/YrUjyO0gqL5fVq9Y2dYwfrW1btgC6zkHbXYRBEhERERERUYZSQdLw4cDQocmtSAqFIuN6Wltjd1NLtnPOASZNkttbt1oEW14HSXYrkvxubbMTJA0cGLltJ0jyqyJp0yZZGSR1CQZJREREREREGUrlF/36AePHJzdICgZltzbAeDe1rnDhhbK+/TYwb55JmBT9onkhXpCUShVJeXlyvd262ZuOXlTkT5D04YfAyJHx5zSRLxgkERERERERZajoTGTCBBk7096enHMHAsCiRUBhofluasnWu7esui4ztQ2rpPxobWtokJ46I14P204kSFLXkZtrrxfRr9Y2NWibugSDJCIiIiIiogxVWSlVQX36SEVSYyOwf3/yzp+TIy11qRAiAcBVV0mhTXa2RZVUZaUEKSp1SpSqbDKrSlKtbT16JHaewkL5o+IFSVYBWTgMfPmlXJNpyVYUP1rbjhwBDhxgkNSFGCQRERERERFlqMpK+a6flSVBEpDc9raqqtTqTgoEpDpq2TKLKqmKCgl/vNp2XgU3ZgO36+slRMpK8Ou72kXNKkjq3RsoKDB/jlAo8neblmxFKSoCTpyQHeG88uGHsnI+UpfJ6eoLICIiIiIioq6hMhGgY5C0cGFyzl9VBYwenZxz2RUIxKmQqqjwrq0NsFeRlOh8JCVekBSvrS0YlKqmkyftDbZSA7lrajru+JaITZukZGzqVG+ejxxjkERERERERJShKisjmUhxsdzeuTN556+qAmbOTN75PFFZ6d2gbcBeRVKqBEmqZCsUkhApXk9i9E5xXgVJH34ITJworXrUJRgkERERERERZajKSmDKlMjPydy5Tdcl0+jbNznn80xFBTBqlHfPF68iqb4+8UHbSnEx8Nlnxr8rLwfOOSf+c8Qt2YqiKpK8Grit61KRdO213jwfucIZSURERERERBmqc3HNhAkSJOm6/+eurwdaWtI0SPKyta1nTyA/37wiKVmtbYcOAQcP2tuNzcn5AO8Gbn/xBVBby0HbXYxBEhERERERUQZqaZHv5NFB0vjxQF2dbIzlt6oqWdMqSGpsBBoavG1t0zR5vmRVJFVXxyaFoZCcZ+NGe7ux2RU9I8kLzz4ra16eN89HrjBIIiIiIiIiykCqMKVzkAQkp70tLYMkFfZ4WZEEWAdJFRXA/v3ehDvFxZIgNjR0vP/pp2XVdXu7sdnlZWtbOAzcf7/c/u53va2cIkcYJBEREREREWUglVswSHJAtZ95WZEESDBl1Nq2YQNw+DDw8cfeVAqpVrPOwc6xY7JmZ9vbjc2uwkJ5Pi8qkkIhoLVVbnsZdpFjDJKIiIiIiIgykFGQNHiwdFElY+e2tAySkl2R9PzzsnpVKWQUJOk6sHkzcOGFwLJlsiub3WHa8WiaVCV5ESQFg0DWqQjDy7CLHOOubURERERERBnIqLhG05K3c1taBknqRfM6SDKrSFKzjLyqFDJqNdu+XVrnli4FvvOdxJ7f7JxetLYFAsBZZwE9egBPPuld2EWOsSKJiIiIiIgoA5kV1yQzSMrJ8W6OdFIYlXF5oV8/4MQJ4Pjxjvfv3i3hiVeVQkYVSStWyLpoUWLPbXVOr4ZtnzgBXHQRQ6QuxiCJiIiIiIgoA1VWRjqPok2YILu21db6e/6qKskYNM3f83iqogIoKJCqGC+pNC+6va25WVrZrroKuPNOb8ITsyBp+nRg0KDEn9+IVxVJ7e0SSKVVCdvpiUESERERERFRBqqslFwhO7vj/ckauF1VlYaZQEWFhD5ep1+qwik6SNqwQSpwvvY1787TubWtogLYuBFYvNi7c3TmVUXS0aNAW1safmhOPwySiIiIiIiIMlBlpXGHVrKCpOrqNMwEzF60RBlVJK1cKb1/Xg6VzskBeveOBElvvCFzmPwMkrwatq2GaqmqKuoyDJKIiIiIiIgykFkmMnw4kJ/PiiRDqiLJa+qNiB64vXIlMGsW0LOnt+cqLo4ESStWAEOGAFOmeHuOaEVFQGOj/JMIdc1p96E5/TBIIiIiIiIiykBmQVJ2NnD22cDOnf6eP22DJD8qkjq3tlVWAlu3AgsWeH8uFSQ1NUlYtWiRv4OqVAVRolVJabnN3+mJQRIREREREVEGsurS8nvntvb2NGxt03V50fyoSOrRQ4Z4q4qkVatk9XI+kqKCpFBIdonzs60NiMxlYpB02mCQRERERERElGHa2iRLMAuSevQA9u0DVq/25/xpOTf5+HFpz/IjSNI0eTNURdLKlUCfPsC0ad6fSwVJK1YA3bsDl1zi/TmidR7w7RZnJKUMBklEREREREQZprpaCmyMMpFwGHj6abm9cKH87LW0LC5R1UJ+tLYB8mZUVMgbs3IlMH9+7JZ6XiguljdgxQppnSso8P4cnc8HJF6RVF0N5OZ6PzOKHGOQRERERERElGFU4YtRJhIKAa2tcrulRX72WloGSepF86MiCYhUJO3aBZSV+dPWBkiwU18PHDjgf1sb4G1FUt++/s5zIlsYJBEREREREWUYqyApGJRd2wApiPFy93klLbuUVEWSX0GSqkhauVJ+9mPQNtDxRb/iCn/OYXQ+L2YkpdUH5vTFIImIiIiIiCjDWAVJgQBQUiJzki69VH72WlpXJPnV2qYqklauBMaNA4YN8+c8KowZMgT48kt/zhGtWzdJJr0IktLqA3P6YpBERERERESUYeJlIoEAcO650gHlh7QMkpIxI6mxUSac+1WNBADl5bIeOgTMm+fPEKxomibtbYm2tqXdNn+nLwZJREREREREGUYFSVadQqNHA3v2+HP+6mogL0+qntJGRQVQWCg7nflBBVTNzf7NRwIiKZ6uAydP+jMEq7PiYlYknUYYJBEREREREWWYykrZXT431/yYUaOkaKWx0fvzp+Xc5MpK/+YjAZEgKSfHn8FUysKF0m6WnS1pnp/nUoqKEguS2tslfeSMpJTAIImIiIiIiCjDVFbG79AaPVrWvXu9P39aFpdUVPgbJKnnHjIE2L7dv/OoIVjLlsnqxxCszhJtbaurkzAp7T40pycGSURERERERBnGTiYyapSsfrS3pW2Q5Nd8JAAoK5N1/37/ZxcFAsCddyYnRAISb21TIVTafWhOT74GSZqmXaZp2meapu3RNO0nBr//d03Tdmqa9ndN00o0TfNpLD0REREREREpTiqSvvjC+/OnZZDkd2vbrl1AVlZyZxcli6pI0nV3j0/L6eynL9+CJE3TsgH8FsDlACYAuF7TtAmdDvsIwHRd1ycDeAHAQ35dDxEREREREQk7QVJREXDGGaxIAiABiN+tbcEgkJ+f3NlFyVJcLEPE3Q7cUkESZySlhBwfn/sCAHt0Xd8LAJqmPQfgKgA71QG6rq+JOv4DADf6eD1EREREREQZT80tttOlNXq09xVJbW3S5eQ4SAqHpUonGExeS5Zy9CjQ0uJva5uaXdRVf6Ofiopkralxt+sdW9tSip9B0pkADkT9fBDADIvjvw3gLR+vh4iIiIiIKOPV1kqYYzdI2rTJ+/PrusPikg0bgDlz5MILCpI3JFqprJTVz4okQP6m0ylAUlSQVF0tw8SdYmtbSvEzSDLayNGwIVLTtBsBTAcwx+T3twC4BQAGDBiA0OnUK0oAgIaGBr6vlBT8rFFX42eQuhI/f5RM/LylrtLS7gAuQGXlToRCFZbH5uSMwL59Q7Fq1XvIyXE538bk/BUV8c+vDP/DHzC8tRUAoDc24tBDD2HPv/2b6fFef/56ffIJzgPwcVkZavm5duyMAwcwBcC21atRV1vr+PEjt27FkNxcvLd5M6AZRQ1dJxP/W+dnkHQQwFlRPw8BUNb5IE3T5gNYCmCOruvNRk+k6/oTAJ4AgOnTp+vB06lXlAAAoVAIfF8pGfhZo67GzyB1JX7+KJn4eUtd778v65w5ExAMdh5j29G+fcCf/wwMHz7nq+HbiVq3TtaLL45//q+UlQHPPgtoGjRdx5BXXsGQQYOAq64Ctm6NaQXz/PNXVwcAOHfBAmDqVO+eN1OcqkiaMnSou9lPf/4z0LcvgnPnentdHsjE/9b5GSR9CGCMpmkjABwCsATADdEHaJo2FcDvAVym67q9KJqIiIiIiIhcU11adlrbRo2Sdc8eeBYkuRp3o9qhvvUtYMkS4I03gEceAR5/XHY6y8/3t92t4tTXVb9b205X0a1tblRXs60thfi2a5uu660AbgfwDoBdAP6m6/oOTdPu0zTtylOH/X8AegB4XtO0bZqmvebX9RAREREREZGzTESFR14O3HY17kY96PvfBxYsAH79a+D22+W+9nbg5EkZUu0X9aIxzHBHDcSqqXH3+LTb5u/05mdFEnRdfxPAm53u+2nU7fl+np+IiIiIiIg6UhVJdr6XDxwom2zt2ePd+RMKkqIfdP31wG9/K0FSXp67lim7KiuB3r2l8omc69ZNhqS7rUiqqgImTfL2msg13yqSiIiIiIiIKPWoTCQvL/6xmibtbV5XJHXr5nAXeKMgKRAArr1W/pBVq/zd7ayigm1tiSouTqwiydE2f+QnBklEREREREQZpLLS3nwkZfRo7yuSHHcpVVYCPXvGVgTNmiVtbWPHenZ9hioqnL1oFKuoyF2Q1N4uj2NrW8pgkERERERERJRBnAZJo0YBe/fK93kvuAqSzB40YoSsX36Z8HVZ2rdPdm4Lh/09z+msqMhda1tdnXz4GCSlDAZJREREREREGcRNRVJzM3DokDfn9yVI2rs34esyFQ7L8+/aBcybxzDJLbetba6GapGfGCQRERERERFlEDcVSYB37W2uxt10ZUXSypWy6rr/u8Odzty2tqkgiTOSUgaDJCIiIiIiogyh6+4qkgDvBm57WpHUs6fc72eQ1Lu3rFlZ/u8OdzpTrW267uxxqh2OFUkpg0ESERERERFRhqirA1pbnW1AdtZZQG6uNxVJra1yDZ4FSYBUJfkZJB0+DGRnAz/9KVBS4u/ucKez4mKp6Dpxwtnj2NqWcnK6+gKIiIiIiIicCoelwygY5Pd6JyorZXVSkZSdLVmNFxVJqrPJUSbQ1AQ0NFgHSVu3Jnxtplavlt3h7r3Xv3NkgqIiWaurgcJC+49jkJRyWJFERERERERpJRwGLrkEuOsuCZI4+9g+N0ESIO1tXlQkucoEVGuT2UWPGAHs3w+0tSV0bYZqa4EtW+QDR4lRM46czkmqrpaWQifhE/mKQRIREREREaWVUEh2EQOkU2bpUu+2pj/duQ2SRo2SiiSn4206cxUkqYs2e9DIkUBLi3fbykULheSPnjfP++fONKoiyWmQpNoaNc37ayJXGCQRERERETkQDgMPPsgqmK4UDEa+U2ZnA2vWANdcA9TXd+llpYVEKpLq6yOPd8tVkBTvQX7u3LZ6NdC9OzBjhvfPnWmiW9uccDWdnfzEIImIiIiIyCbVUnX33VKgwDCpa0yfLp0uM2cC770HPPII8PrrMsbmxRcZ9FnZskVWp/OORo2SNdH2trQLkkpKgNmz5QNHiXHb2sYgKeUwSCIiIiIisikUkrm/7e3SUhUKdfUVZaYtW+R9uOMOCY/+9V+Bt98G9u0DrruOQZ+ZcBh46im5vXChs9dn9GhZEx24rTIhlSk4epBZmDB0qJSoeR0kHT4M7NrFtjav9Okjq5sZSY4+MOQ3BklERERERDaNGRO5nZsrLVaUfCrAu/jiyH3z5wO33CK3GfQZC4WA1la57fT1GT5cshovKpJ69AAKChw+SNMiQURneXnAkCHA3r2JXVxnq1fLykHb3ujWTf5ha1vaY5BERERERGTTJ59Ebt97L7ed7yqhEDBxYuycn+uuA3Jy5DaDvljBIJB16htgXp6z1yc/Xwp/vKhIclxcUlUlIZJ6c42MHGldkRQOA8uWOSvDWr1azjtliv3HkLXiYmcVSW1tcjyDpJRi8W8iEREREREp7e3An/4EXHihfBdtbOzqK8pMLS3AunXAN78Z+7tAAHjmGeD664GbbmLQ11kgIOHboEHAY485f31GjfKmIslxJlBVFX86+IgRwMqVxr8Lh4E5c+TDc++9MmRr1ixJx06cAG64IfbF0HWZjxQMykR38kZRkbMgqa5O/uPL1raUwookIiIiIiIbQiFg/37gttuAsWOBjz7q6ivKTFu2AMePm1fTLFkiI23efFOKGSiirU0ymSuucBeyjR7tTUWS4yCpsjL+g0aMAMrKZHhWZ6GQhEjKoUPA738PPPQQ8JvfyIepc6XS3r3yLzznI3mruNhZa5s6lhVJKYVBEhERERGRDcuXA717A1//OjB1KoOkrrJ2razR85E6+973gAMHgDfeSM41pYvDhyVMOussd48fPVqCoLo699dQXe2yIslOkARI+NPZRRfJqmkynOmFF4B77olUGp08Cbz1VsfHcD6SP5xWJLna5o/8xiCJiIiIiCiOY8fku+eSJTIrdupU4ODByHccSh41H6l/f/NjrrwSGDwYePzxpF1WWigtlXXoUHePHzVK1rvvdr8jnuvWNrtBktGcpB49ZP1f/0va1QIBYO5cGRSlwqStWzs+pqREegDPPtvhxZKloiJnFUkMklISgyQiIiIiojief15mIqm5PFOnyrptW5ddUkZS85HmzLE+LidHdnB7++3EW7FOJwcOyOo2SDp+XNbHH5eOL6dh0smTEso6ygR03VmQZLRz2/r1sj70UKSnLxCQsGjZMuCf/1nK1955J3LO1avlj9Q0BxdLcalh27pu73gVJHFGUkphkEREREREFMf//I8UJsyYIT+rTZzY3pZcW7cCDQ32dhv7znek2OR3v/P9stKGqkhy29q2b5+s7e0SCoVCzh7vatxNQ4OcLN6DBg2S4dlGFUnr1wNDhsQmaIEAcOedMi9p/Hj50Bw7BmzfLnOZ2NbmvaIiSYRVKhkPZySlJAZJREREREQWdu+W76Hf/GakOKFvX/leyiApudR8pHgVSYC0tl19NfDHPxrvsLdhA/DAA+5btNJRaanM+erVy93j58+PdILl5VkHeuEw8OCDHV9fV11Kdh+UlQUMH24cJK1bJ9stmlUXFRTIB+XgQeAnP5FKJYBBkh+KimS1295WVSUBYWGhf9dEjjFIIiIiIiKysHy5fEf9p3/qeD8HbidfKARMmGA9Hynad78rXTTPPx+5T9eB++6T+ct33+2uRStdHTjgvhoJkAKe//ovuX3PPeY7v4XDMgz9rrski1Gvr69BEiDtbZ2DpNJSCYguvND6sTNnAv/n/0jf3i9/KYFHWZmDCyVbVIvaL39p71881dbIFsOUwiCJiIiIiMhEWxvw9NPApZdKhUu0qVOBzz6z36FBiWltBd5/315bmzJ3LjBuHPDYY/JzOAzMmgXce29kREtzs/MWrXRVWup+PpJy223AgAHAli3mx7z0krxfANDUBDzxhNxOKEjq1y/+sUZBkpqPFC9IAmRe0plnAocOAbW1mZUyJosK5x57zN7rW13N+UgpiEESEREREZGJRx81L2aYOlXCiE8+Sf51nc6MWqIAZ/ORFE0Dvvc9YONGYOxYCZH27weWLpXd9wCZ9zNxomeXn9K8CJJycoB//Efg9deBo0eNj1FDvbOy5D1Yvlw6xg4flvsd5QKVlbLarUiqrQXq6iL3rV8vu7ZNnhz/8d27AwsXym1ddzcIiqzt2SOr3UFbrrb5I78xSCIiIiIiMhAOA3fcIbeNZumondvY3uadcFiqiIxaztT3zYsvdvacavf23bslBHnmGeD++2UMzg9/KLN+nn7ak8tPaSdOSHFHIq1tyg03SCXXSy/F/q6+HnjrLWDBAnmdV68G/uVfgP/8T+A//kOO2b3bwcmclDGNHClrdFXSunXStpaTY+983/qWpIzZ2fEHQZFzV18tq6bZe30ZJKUkBklERERERAZWrpTWNsD4f5wPHQr06cMgyUurV0tA0d4uA7L/9rfI79aulY21Bgxw9pxbtkhlDCBFJps2ye1AQMa0/OxnwIsvAq+95smfkLJUlVCiFUkAcMEFktn85S+xv1u+XDY+W7ZMNkQLBmXnvP/7f+XfIwC47DIHHWNVVRIC2ZkQPmKErCpIOnZMSgbttLUpgYCkjMuWyWo2CIrcmT0bOOccYNgwe68vg6SUxCCJiIiIiMhAfr6sWVnG/+Nc04ApU8yDpHAY+PnPOWLFiRMnZFVzdX/zG/k+39jofD6SEgzKe2lWYHLHHfK99rbbpJrmdOVlkKRpUpW0enWkXQ2QAPDRR6UAaMaMjo/JzY3s+OaoY8zJsOXOQdIHH8hFOQmSAAk37ryTIZJfgkF5Xzt/SDpra5NWRc5ISjkMkoiIiIiIDHzyiRRB3Hef+f84nzpVjmtp6Xi/atFaurTjrlV+MJsplG5OngSefVaGY99/v8zgue464Kc/lXygvj524Lkd8QpMcnNlGPShQ7IT2emqtFRWL1rbAAmS2ts7Vo299Za0rf3bv8UeHwxKkOe4Y8xJRUqfPkDv3pEgaf16SYJnzrR5MkqK6dNl4Nnnn1sfV1cnHzJWJKUcm42iRERERESZo7kZWLEC+Id/kDDIzNSpcuynnwKTJkXuD4XkfiBSfeFHcUM4LLOEmpul6iadO3GeekoGYb/1lrQ+AcAVVwDTpgE/+pH8/MAD8vc6/RsDAevHBALAd78LPPKIhII33pi+r6OZ0lIp6jnzTG+eb/x4qcj7y18iwdGvfy3Pf+21scerQC8UkhDJ9uvrtLVpxAhg7165vX49cO65QM+e9h9P/ps2TdbNmyNDzIy42uaPkoEVSURERESUceJV8bz7rlTAXHed9fOogdvbtnW8P7oTIyvLv3m9oZBsr253A6RU1dgoVUgXXghcemnH37W0RGYctbT49zd+/esyQ8nuruTp5sABYOBAqQbyyg03yMypPXuAHTuAVatkl7zcXOPjXXWMVVUB/frZP37kSODLL6G1tUlrm9O2NvLf2WfLDnlbtlgfxyApZTFIIiIiIqKMsnat7PxltDOY8sILwBlnSFualXHjgIKC2DlJr70mbXEDBkhBhF/VLcFgJGTxM7Dy2+9+B5SVSZjUeRSO65YohzZvjpw7nUM5M6Wl3sxHirZkibxmf/2rVHMVFAC33OLtOVBZ6bwiad8+9NizBzh+nEFSKsrJkXK2zZutj6uulpUzklIOgyQiIiIiyijLlwOtreZVPCdPAq++Clx5ZfzqjZwcYPLkjkHSRx8Bb7wh7ViLFkm7lq57/VeImTOBoiK5PWFCerZjNTRIddj8+cYhUbI20VKBFSChVbzAKt1mU/kRJJ11loSy//M/wDPPAN/4hsfFI21tQE2N8yCpqQl933tPfr7oIg8viDwzfbr8x1JtjWmEFUkpi0ESEREREWWU6O8tOTmxgcGaNTLjNV5bmzJlirS2qbDo5z+XaqTbbpOQqaoKKC/35NJjlJZKwcbgwTL0W/0P/HTy6KPyNyxbZn5MMjbRCgSAd96REOm666zPtXq1BCj33JMebXC6Lq1tXg3ajnbDDTLburHRh2oxN8OWT+3cNqCkRJKzIUM8vijyxLRpUjH22WfmxzBISlkMkoiIiIgoo+zZA4waJSM6Jk+ODQxeeEFm8y5YYO/5pk6V77v79gG7dgEvvgj8679Ka5wawP33v3v6J3xl3TpZ771Xvm+/9ZY/5/HLypWyK96FF6bGxlpz5siO5Pv3Wx/3xBNS1dbWlh5tcNXVEvR4XZEEAMOGRW7fcovHoZqbIOFUkFRQXs62tlQ2fbqsVu1tVVXSL9m9e3KuiWxjkEREREREGeP4ceDDD6Xi5P775fbq1ZHft7YCr7wCLF4s31/sUAO3P/pIWp26dQN+8AO5TwVJn3zi3d8Qbd06qX761rdkkPJrr/lzHj+Ew7IrW1OTfJdMlaqeWbPketSue0aOH4/c9nNuk1cOHJDVjyBp69bInC7PQzU3QdLw4ZHbDJJS17hxQGGh9cDt6mqZj9R5cBp1OQZJRERERJQxPvhAwqI5c2S797POkpYp1Zb23nvy3dVo+3IzkybJF+mXXpKt0G+9NfK9t29fYNAgfyuSZs2SXbIWLQLeflu+zKeDUEjeC0DWVKnqmTVLQqTOA9QVXY+8n1lZEt6l+myq0lJZ/WhtCwaB/HyfhqG7CZK6dYsMZ+7Z08OLIU9lZ0sKb1WR9PnnUvaXKikzfYVBEhGpLBFvAAAgAElEQVQRERFljLVr5cv/hRdKxdG998r25a++Kr9/4QXporjsMvvP2b27VHo8+6z8j/Mf/rDj7ydP9qciqbYW2L49Mkt48WKgvl7CsHSgOls0LbWqelQotGGD8e+/+EKCmSVLpJ2wri551+aWCpL8qEjydRi6myApHAZqa6EDkuoyhEhd06bJgDmVKEcLh+VfwiNH0mMQWYZhkEREREREGWPtWvmf4L16yc833SQdFkuXAi0twMsvS7uVk5Ec4XCkdQiIna8zaRKwc6fxd6VErF8vqwqS5s+XcGzFCm/P4xfVOvjP/+zvbmxODRwIjBxpHiSVlMh6zz1Anz7A668n79rcOnBAqob69fPn+X0bhu4mSAqFAF2HBqTHAKtMNn06cOIE8Omnsb974w1JagG+jymIQRIRERERZYSmJmDjRmlrU3JyZFbSzp3S6nbkiLO2NkC+36jvO7oe+31n8mRpldq9O5Grj7VunbS0nX++/Ny9u4RJr70WadVLZdu2yfrgg6kTIimzZklQZ/Q6lpTIRmDjxwOXXw68+ab1DuapoLRU2trSbtRMZaV8sJ0ku8EgUFCA9qys1Cp1o1hWA7fVFpS+9ExSohgkEREREVFG2LhRAp3oIAmQ4GjaNOCppyRYUuNV7Dr1vdX0+45fO7etWyfXHf0de/Fi2T1uxw5vz+WHjz4C+veXCqBUM2uWhIqdq8va22U4+7x5EsosXixZx6ZNXXOddpWW+tPW5ruqKudbv5/qtdt3882pVepGscaOBXr0iB243doqpX7Tp/vUM0mJYpBERERERBnhvffky//s2R3v1zTgxhvldmsrcOWVUeM4Vq+W/ekt5nPEmxEzfryETF7OSWpqkh3nVFubsmiRrF3d3rZ2LfDss0Mtx5ps2wZMmZKaVTKzZsnaub3t44+lUGL+fPn50kvlvU319rYDB/wZtO07N0ESAAQCKP3GNxg+pLqsLOC882Irkl55BTh4UPpHfemZpEQxSCIiIiKijLB2rbSZ9ekT+7sTJyKBxlfjOMJhYMECmcgdZ9ir1YyY/HyZw+RlRdLmzXKdnUOxwYOlSqkrg6Q//lGqsp56aoTpy3bypFRNTZmS9Muz5ZxzpFCic5C0apWsl1wia58+EualcpDU0gKUlWVQRRKlF6OB248+CowYIQPrKCUxSCIiIiKitBMOy2wduxv5nDwpoUDntjZl7lyD9jQPh71OnuxtkLRunayqcibalVcCH3wAVFR4dz672tqkiAAAdF0zfdk+/VRe0qlTk3p5tmVnAzNnxgZJJSVSYTZ4cOS+RYvkvVU7o6WasjL5GDNIopQ0fbqUWO7cKT9v2yblo7ffLv8iUkpikEREREREaSUcluDn7rvt7wq9eTPQ2AhcfLHx7w3b07p1ixygaQkNe500SebtHD3q+ik6eP99CTSMvmMvXixDot94w5tzOfH44xJcCN10Ru5HH8maqhVJgHwGPv4YaGiQn5ub5futamtTFi+WNZlVSU6CVLWjYEa1tlH6mDZNVjUn6dFHZfDbzTd33TVRXAySiIiIiCitrFkjX+rb2+0XCq1dK6tZkAQYtKeVlsoXmrFjgZ49IzsMuTB5sqzbt7t+iq+0t8uOYp3nIylTpsiuYnbb25xWd5k5fBhYulS6AW+5BQA0vPSScbvftm2S040Zk9g5/TRrlrzWapD2Bx9IGDlvXsfjxo4FRo9OXpCkKuvuucdekKoqpdKuIqmlRZJXBkmntzFj5L+vmzdLcPjss8BNNwFnnNHVV0YWGCQRERERUVqJLhTKzbVXKPTee8CECUC/fg5OVFIi5ScPPwzU1iaUFKid27wYuL1jh3y/NguSNE3ard56SyqsrIKGcFjmLC1dar+6y8y//7sEfL/9LfBP/yT3NTUZH7ttm4Rrqdy5MnOmrKq9raREZgN3/ryp13v1auD4cf+v689/loylrc1ekJq2FUlVVbI6+peW0k70wO0nn5T/iNx+e1dfFcXBIImIiIiI0sr69ZHB2D/7WfwNfVpbZaaQ2XwkQ/v2AV98IenKZZdJic8TT5gfH6esZ+hQoFcvb+YkqflIZkESIP+Tv6lJXh+rgGjFCgkkdD2xMVDvvgs895xUdI0ZA5x/PpCX1/ZVJVg0XZcgKVXnIylnnAFMnBgJklatkr+rd+/YYxctku+/JSXJuS7FrHUwWmmpDAXv0cPXy/KeCpJYkXT6mz5d+kgfe0xKGidM6OorojgYJBERERFR2igvB159Fbj1Vvkf2SdOxH/MRx/JnBtHQZJKBObPl7KZb38beOcdCZg6C4clrbEY2qRpUoHjRUXSunUy7HnECPNjVGVMvPY/XY/ctlvd1VlTE3DbbdLe9eMfy335+cDEiccMg6T9+4G6utSej6TMmiVvZ12dtLh1bmtTZs+WoDAZ7YTNzbLm5spHMl6QWlrqsq3Nq55Ht+dhkJQ5pk2TD/bBgxIkUcpjkEREREREaeNPf5IKo+9/X4ZNq/msVlSY4ShIWrUKGDRITgLI4FdNA556KvbYkhIZnhMntZk0SYKk6PDGjXXrpBpJVWUZUfkXYF21snNnpFLlX/4lfijRWTgs1Ti7d0sxQUFB5HfnnluHbdskhIm2bZus6RIk1dUBv/+9VG51HrSt5OUBl14KvPwy8POfW2cv69fLZ9FtO+GOHfLet7RYfwaUAwdctLXZCEc9oSbn33VX7HkYJGWO6B7Xe+/1P7ykhDFIIiIiIqK0oOvAH/4g1R9nny1jNewGSWPHAgMH2jxRe7uEQ/PmRb6pDx0KXH65BEmtrR0v6sMPIz8bDdE5ZfJkmW2kZta48fLLUmFy5pnWxwUCMowZAH79a+OAqLFRWtJuugkYNw749FNn1xIOA5dcIi9VdnZs69S55x6Frkda8ZRt2+RlUnOjUtmsWbL+139JSGYVtJ19NlBdbT0Eu75eAruWFvfthDt3ykcxK0vyznhcVSSFQs4n2rsRCsnzA1LaFn0eBkmZY8+eyG0/P2/kGQZJRERERJQW1q6VypfvfEd+njYNOHIkerv5WOvWSVgybpyDE23fDlRWxvYx3XKLbE32xhuR+x55BHjtNZkuPWyYzFIySRtUcOJ2TlI4DCxZIrcfeyz+/7T/wQ+k/Wn3buPfr14tYdLixcDChfLdzU6roKKyhuifo40ffwx5eYhpb9u2Td6P7t3tn8sRD1uyxowBiovl4zB7dseKq87a2yNrc3NsyLNnjwzw3rlTQiDAeTvhsWMSRF54oYyViTeTqaFB5sQ7DpKCwUiIahGOJiz6eXW94787KkgqLvbn3JQ65s6VXRSys+0N/qIuxyCJiIiIiNLCk0/KoONrr5Wfp02TdetW4+PDYWlFam6WWTK2cwX17bxzkLRwoQwnUkO333pLtiq7+mpg+XLgRz8CvvzSdBDSOefI6nZOUigklSyAFEXF+5/2vXtLxdDLLxu3061YIVVEwaBUuDQ3A2vW2L+eYDASiBh998vPb8cFF8iOedE++sjHtjbVKmVVFuSApkmlESAzoKxccYXMhgIkTPrNb6SA7f33gW99S4aLl5dLsPm3v8lxt9/urJ1w505ZJ06UP++DD6TKyYzrHdumTpU3FZDPt9OeR7vGjZMP56hR8nN0WVxVlXyIc3P9OTeljkBA/ru7bJmsfn3eyDMMkoiIiIgo5dXUAC++CNx4Y6SSZcoU+aJv1t4W3TXT1uagW2LVKumF6/ztOydHhm6/9Zb884//KP1qzzwjicp118n/UX/uOcOn7d1bipbcViRFz3iy+z/tr75aNp/bsaPj/boOvP468LWvSfhx8cXyur75pv3rCQRkjNSECebf/ebMkfdHhR01NdJq5VuQ9PTTkoi1tXnSIhMOy5BtAPjjH61zqUBAgrgHHgD++7+B4cOB//2/5TVYvlwGoD/xhARA11wjmaRVNZ2R6CBp/nwJFDsHddFKS2V1XJH07rtSrpaXFzvkykvq4pcvB2bMAB56KNI6WlUF9Ovn37kptQQCsu0jQ6S0wCCJiIiIiFLeM89IPqDa2gCpphk3zjxIiu7Osd0t0dIivVhmU5W//W1JYRYulEqJFSuAwkL5Xf/+khI895zpRO3Jk90HSUVF8rRf/7r9/2l/5ZXyGrzySsf7t20DDh2SQdmAhEnz5kmQZHcYeF2dbLL0jW+YX8ucOZLpbNggP3/8say+BUn790due9AiEwpFWtbsVIEFAjI3+vvfl2qhG2+MvJ5ZWcBnn8ltTZP2tPXrnV3Pjh3SXjdihMxvKiiwnpOkKpIcB0kvvgiccYYkkSq98kMoJC1NF1wgIcKXXwL/7//J7yorOR+JKEUxSCIiIiKilKbr0tZ2/vnAued2/N20aeatbRMnyhf2iy920C2xcaOUjpjt815WFunnOn48dnL29dcDe/dGylg6mTRJwoTo2UJ2vf22rL/6lf3/aT9okMzlefnljvevWCGvzRVXRO5buBDYty8SdsSzebOs559vfsysWVLIpeYk+bpjW3W1DH7KypJkbOXKhKsbgkHJo9yMbtE04HvfMx/9ctFFkns5Gb6+Y4e02mVnS4g0e7Z1kFRaKi/H4MH2z4GTJ4FXX5UU8txzJS206p9LxJo1kqjl5cmwrokTgV/8QtK7qioGSUQpikESEREREaW0J5+UL9CXXBL7u2nTpLKmvDz2dyUlUg1z330O8oSSEkkA5s41/n0oFClzMipRufpqCTH++lfDh0+eLNd0xx3Ox/e8/baECMOHO3vc178uYZtqcwIkSJoxQ4qolMsvl9Vue5varG76dPNjCgvl9ypI+ugjCTWiz+uZ5cslofvxj2VVlWIJSHR0i9XjL7pIVidVSTt3StaizJ8vs+GPHDE+fvNmqdyL3lgwrjVrpNzs2muB8ePlPqdb+tlRXS3leSpdy/r/2zvz8CiKrY2/NVkIyiIKiCsKogIiKIhGERBkERdERFHhExcQl+t1vSoqelHihnqvV3AH3PEqLqhsggnBTBQQRUBFwesC4g4iSwjJnO+PM0337D1LMpPh/T3PPMn0VHdXV5+urnrr1CkPcPPNekHvvkshiZAMhkISIYQQQgjJWMrL1asD0AXSgsUXK+B2uOlts2YBjRrZS7i7Yt48PWiTJuF/j+Wi0rixuva88ooqRkFYmyZOjC8W9LZtKsb07+/6SnYyaJD+taa3/fijCgynnx6YrmVLjXc0a5a74y5erKuaRSoqi+7dNe3WreqRVCPeSD4f8Pjjqs5YBhO8XFyCJBu6JdL+Rx6pIs8HH7g7jrViW7t29jZrBma41dvKyzXI/KZNccYdnz5dM9a3r32ympjeZsVHcj5DQ4eqUjp+PIUkQjIYCkmEEEIIISRjefxxW3wJFzvZEiWChSQRFUROPjmORZ82b9bANpHiIwHuXFTOO09dRMIIGd9+a+cvnljQCxYAFRW211A8tGmjeoAlJL37rv4NFpIA1cBKS7UoYrFoUfRpbRY9emjoqZIS4IsvakhImj8fWL0aGD0a2H9/oFWr6FGoM4DcXDUft0KSM9C2RadOGjsr3PS2qVPt+E6uba26Wg3l1FN17lyrViqYfvGFu0zGgxUfyWlEubm6+uFHH6l6SiGJkIyEQhIhSVBeDtxzT9IryxJCCCEZRaa831auBF57TWeSRXIAatRIF1gLjpO0YoWGdhkwII4TlpbqdLVI8ZEsYrmonHqqenSEmd520knaVwbii7kza5b2ubvnf5jQzRk0SC/v9991WlvLlsARR4SmO+UUFR3efz/68dav1ymFboSkbt101tJjj2nxHnVUXFl3x2OPqehw9tn6vXt3vWC3kcPTRLduOrvrzz9jpw0nJHk8aq7z5gVe6ubNuipftGcnLAsXapDrwYP1e26uKpE14ZFUUmLHR3Jy0UXA3nvr/4sWpb8iIoSEQCGJkAQpLdUAh7fdFqe7MCGEEJLBLFyoffB0v99++009Zho10kDR0RyAOncO9UiypmfFNRXs+ee1120pPYmy227AwIE6RaiyMuCnwkINlg1oGbudLjV7NtCz0wYU9Ouhy4LFeXPOPFOdTV59VUWH00+3Qz056dZNNbBYcZKsmDtuhKRGjVQ8sjyhUu6RtG4dMGMGcPHFGp8KUCP+/feaXXEsBXTrpgKQm1vpXLHNycknq2j61Vf2tptuUrHv0UfjjO80fboqlk7Xt3btUu+RFBwfyUlBgS1kvfkmG9qEZCAUkghJkCef1AaZzxefazohhBCSyTz1lHqNpPP9VlmpjiU//qj9yIEDozsAde6ssWN+/dXeNmuWxqDZbz+XJy0rs+MaDRiQfMf1vPOADRs0SE0Qo0cDzZoBy5e7O9Q336hI0H+vJbYwtX17XDenc2ed8TV2rM4YOu208Ony81WYmDUrujPP4sWqubn1LurRQ4/XoIHOlkopTz2lBnvZZYEnBDJ+etuxx2o5ugm47VyxzYnlQGdNb3vvPWDSJOCaazRclOv4Tj4f8Prrqr42aGBvb9tWjbCiwtU1uSJcfCQnzZur0smGNiEZCYUkQhLEinEAxL8cLMksMmUKByGEZALr1tn/p+P9JgJcdZXGBHrmGe1ox+Loo/Wv5ZW0aZPGnXE9rW37du1xW8pJKjquffoADRsCt98e8oLJzVUPoXfecdc3t7So/uc0sjeKqNeNS4zRc/76q97XgoLIaQcM0BXeojnzLF6sU6x2283d+a2s7rWXhr9JGTt2qJDUr1+gQnXwwaoiZriQtPvuKsa5iZMUvGKbRatWGp963jydInfxxcBhh2m86rj46CNVby1vIIt27VTQcbo8JUu4+EhO+vZVI41rXh4hpLagkERIAvz0k8biBDTAYSLLwZLM4IMPtG1y++30nCaEkI0b1TPCWpr90Udr//123XWqCwwfDlxwgbt9LCHJipM0b556VbkKTL1pk8Y0+uwzjcqdqo7rxx/rMmXLloV9wZx9tsaxmTs39qFmz1ZdpM3+23RDx44qJP3wQ1xZOvRQ/VtZqWUT6Z1nlduNN4ZPI6JCUteu7s9tCVfff5/i9+3bb6v4cfnlgduNUfVqwYLIrlUZMpLUrZtqOEGzIAOwVmwLJyQZo15kxcXA3/6mxfHcc6rTxMX06foMBLurtW2rf1M5vS1SfCQLN0HtCSFpg0JShpMh7zcSxPPPq+f7+eer13rHjunOEUmURx7Rhlt1NT2nCSHktdfUOWfqVA3i+7//1e75x48H/vUvOy9u2z+NGwOHHGJ7JM2cqXF5YvY916/XKVAlJXrRCxakruNaUmILGGGmoZ10EtCkiV5nNCorNTv9+wOm+H29McXFGin7zjtVMXOJM6BztHfeDz+oODFrVnjR55tvgD/+cBcfyWLpUs16vKvVRaW8XIMBNW+uYmAwPXroPV6zJvy+vXplxEhSt2463fCTTyKnsbzD2rUL//vJJ+v9ff55FWHjEfkAAF6vugB26aIPlJNDD9Wbl6p4U1Z8pJNOip4uVlB7QkjaoJCUwZSXa/16661pf78RByLA5Mk6iDJokH7/8st054okggjw6af297w8ek4TQnZtnn9e+4z9+2vn9q23au/cM2dq/B6LeMUGK+C2iHrw9O2r9XpEXnnFDiL89tvAhRemtuPas6cd+Nn67iAvT2M/zZgR3ROlrAzYssUfNLy4WDv6TZoA//wnsGoV8NJLrrPUu7d6qcRyunKWe7j7EE+gbQurOFI2U8lqKK9erarWokWhaaz5dAsWhP42b57OK8yAkaQTTtC/0aa3hVuxzUnDhvb///1vnP0GS1TbuBFYsiR054ICnT+XKo+kWPGRCCEZD4WkDGbyZB3AEtH3HD0lMoOPPlLh6KKL7Jf5ihXpzRNJjJIS4OuvNZZAbq6uwsdBL0LIrsp332n/bvhw9UYZOFCDQdeGV1JJiYZladPGndARjqOP1msoKdE4T1Gntc2eDQwdqh1nANhjj8QzHwlrak6/fhpfpkmTkCRnn61eJPPnR89qXh5wUtctOq/e8uIYNEiD64wbp3GC4shSLKernj0DYygF34fFi/X3I45wddq4zu2at9/WhjKgjeVwDeXDD9eo5uHiJK1fb/+fk5NWUaNFC/WoiyYkRVqxzWLZMnUaAhLQxUpK7LL0+cLv3LZt6oSkkhINrtWlS2qORwipdSgkZRLz5+voUnk5PvlEB5isZVlFtF4n6WfyZH33nXOOvvTz8/XlTuoeDz2k7cuJE4Gbb9ZVTsINaBJCyK7Aiy/qXysu0cCB+remvZI++kiXom/VSjvSiYoNnTvrXyvAcP/+URI//bT9f1VVzY3WFRYCzz6roxXOc/o5+WSdghdtetvs2TrQ0XDZB5rXXr30B2O03bhmjQbEiSNLsZyuLNHnxBO1/bn33oG/L14MdOoUw+MrwXO7YvNmjecDRFcdrThJwULSzz8DL7ygGWncWD3T0jyS1K2bep9FCucUacU2i6Q8vnbfXf8aE3nndu3UAy6OqZQRKS6OHh+JEJLxUEjKFMrL1Qf7zjux+qSR6N+7Ek2bAm+8oQNN7dsDd99tuxKT9LB1KzBtGjBkiLoQ5+XpqhgUkuoeX36pq+VceaWO8P3jH9pQvu666MsdE0JINiKi09q6dbM9Hlq3Vo+TmhSSnn9e+6yNG+tMo6ZNExcbrIDb8+eryLHvvlES//qrdpprY0WovfcGzjhDBSXL68NPvXoqor35Zninoh9/1FAy/fsDeP99bXhY86AADYrctasqb9HmxyVAYSHw8suqgT34oL29qkqnEMYzrS2lVFUB556rAtqECbFVx+7ddand77+3t91xhwYlmjJFYyR9+qkdYCtNnHCCmuXXX4f/PdKKbRYJe3xVVGhU/f33V2Ey0s5t26qRfvONywNH4Lff1NWR09oIqdNQSMoU3ngD8PmwHi3Qd/sM+LZXYe5cHQ28/Xat01u00HaI8z1Iapfp04G//tJpbRbt21NIqov861/agLcWeWnYUEXbsjLg9dfTmzdCCKltli5VgX348MDtAwcCCxdqCJpUM2MG8H//p/3Y33/Xvn4yNGlii0cdOkRJWFGhcWAGDaq9FaFGjtQOdBhV7uyztXzDhfGZOFH/7rMP1Ivj2GNt7xFAxbBx43RO3znn2LFtRNRrZ86cpFZt2W8/tYnJk1XkAHR209atCQRzTgUiwFVXaUCtiROB66+PrTpacZIsr6Tly3VZwCuu0NHASy8FGjQAHn645vMfhW7d9G+46W3RVmxzkpAIe++9ql5Zolqkna2V25INuP3UU/q3adPkjkMISSsUkjKF7dsxFyfjKCzFerTAzEdW47DD7J/33lu9J7Zu1anxd97J4NvpYMoUHaG12iSAvtS//Vbba6Ru8NtvOjA8fLi9xDWgsZLat9cFYFI8sEsIIRnN88+rY86QIYHbBw7UWMTvvpv6c955p/3/jh3Jzy4rL9cZS0CMYMPvv68NqpEja29FqD59gAMPtDvRDvr1U20oeHrbiy+qBgQAo0YJypfk2dPanDRsqMFx3npL3Vr22UcP2LChujIluWrLjTeqI9V//qPfEwm0nRLKyzXw1RNP6Hz0yy5zt1+HDhoDq7RUhajrr1cXOCuye+PGKia98gqwdm3N5T8Ghx2m0xwnTQq9VbECbSfMqlVqZOefr/Mso2EJScnESSovV7EKAK65hp0ZQuowFJIyhJL3q3EKZuNntIAgB1Vt2oakad9eG13ffKOepz17qoeMNQ2nvDypQScSg//9TwcDR4ywY1cB9ks9VfEHSc3z+OM6IH3ttYHbc3PVS37NGm3IZQusGwgh0aiq0ilMp50WGg+6c2f18ok0vS3R+mXJEl3qPDc3dbPLSkrsNlHUsEczZqgHSqylx1NJTg5wySU6fy9oalD9+rpy/RtvqGj33Xfa1hg2zL6eyu2CEukeXkhyujKJqJB0xRV2kCgRVYISVOoOP1wFxUcf1UGzxYtV8GjTJqHDJUZ5uRrInDlalqed5n7fnBx191mwAJg1SwMijh0L7LWXnebqqzUY1KOPpjzrbvnwQy3fjz8O1f0sIalduxSeUETtpH59DRoZi4YNdfpbMg3eV19VIwfSvlIeISQ5KCRlANVr1+OqFZfBhxwABlXwoOTJVWHTVlTYIkZlpbpDN22qns7du6vIn8SgE4nC1Kla9hdeGLjdEpI4vS311IQAUlnpwaOP6qBmuAZZv346cDx2rD5Pdf1ZKi/XOiHJAWlCSBbz3nvAL7+ETmsD1NHljDM04HNFReBv1urrt90WX/0iokJ+8+bar0/V7DJXwYZFdLWvfv00cW1y8cVaoM88E/LT4MF6Dzp21IU8pk1TJ5GCAv/1eKrQM78cOO640OM6L7x+fZ3yNWGCvsjq19c0Pp/GSEiQm24CNmzQeOGLF+tiW57a7EVMnBjoKhxuFbZo9OgBfPWVBkZs00YFFCcHHwycdZZ6O6XJxdypqVRUqOOcRawV2xLihRf0JPfeGxpNPRLt2iU3tW3ZMv1bG7HJCCE1CoWkNCMCXDvsV6xEB+TlCnJyBPmmCj3XTA6b3lqONSdH2ww33qjvvR9+0NG36mp9+cyZU7vXke34fNq2aN061Ou5dWu9FxSSUovVQUm1ODp/fnP8/LMG1Q6HMdqZ+usvXfmnrosvxcUaTzTJAWmSBdAzjYSjvFxnCTVsCAwYED7NwIHAli2hS9QXFWm94vOFdnyjMX26xoG56y6dTZOq2WWugg0vXaoRrE8/PfkTxsv+++soxpQpIStfWc4xK1dqfT1tmk5te/99//W0vASFJ+aGF78iXbi1/ZZbVEQaM0bdnRLguON0BbcHH9Tg37U6rW3uXJ125vEkLkBYMQm+/VY9w8KtFnbddcDGjTpymAYsPdAYtYEFC2wzWblSZ5ZFWrEtbubM0SCR7dsDo0a5369tWw2mlshS0p9+qgY9YkTtxSYjhNQcIlKnPp07d5Zs4v77RQCR6wLux3UAACAASURBVJpMFq9XpKhIxHvRkyLGiHz/fdh9dqbzBm4rKNDdAJEmTUSefFKktDQ0bSZSXFyc7ixE5PffRfr00XL1eETq1w8tz44dRU45JT35y1ZGjdIyB0RyctSO4yHcc1JWJtKkSYW0bi3i80Xet6jIfpY8nvjPnUlceaVdjsZkfl2wK5CO+m7WLLVlY8LXYWTXwOsVufTSNTvv/9y5IvXq2fVsJLuoqBBp2FBk5Ej9Xl0tcsMNdh1p1ZedOomsXx89D9u2iRx8sEiHDiJVVam7NtfccYdm+pdf0nByEXnzTS2sN98M2FxUpNkK+8775Rf9Yfz4xM+7cqVI48Yi7duLbNwY+FtVlchLL4mMHRu1cnjnHft94jYrSdd3paVaaXXsKDJ7duKN2tJSO/PRKsHjjhNp3TpNxmm3XUaP1qyee67Ijh0iBxwgcsEFKTxJbq6eoF69+Mrz8cd1v2+/jf+8p54qssceIhs2xL9vgmRy/4JkF9lkawCWiAtdJjfdQtauzEsv6ZLj5+IVPHD5N/AU+oX5b/sAU6EjVlYgQAeFhaECfmGhivwlJUCzZjqYMmqUjmoYoyMcFP7j5403dMDGWiXY57OndDvLsn17XdWGpAafL9Br3eOJb/CxvFzDSGzfrqN3vXrpIOPixYBIPWzZorEIIj0Pluef5clTV5+b0lKNB3XSSRoO5O23a38mB0k/GzfqjBprANnyTKurdk0Sw64XD8aUKTqtbP36wDSR7KJePQ238/bbWi9edJE6iFxxBXDeefr+q6gAHngAOPpoXVn9jz+0Lg0+3iOPaMzBuXNT6F0RDzNmAMcfr42ldHDqqRrD6P77dYqQv5Asb5TKyjAON1YMpGRiOrVrp0uS9uunbmBt2mjDZt064KOP7HmLDzwQscHYpIntLXPXXZqdGqtHyst16tXUqRqkfO5cNdp+/RI73gcfaGMiUkPO4rrrdPW7ESPUwGu5onS28Vu10n7C2rU686BhwxSdZM4c29XJCibm9jqtmABffAG0bOn+nGVlGrH/nns08DkhpO7jRm3KpE+2eCQ98oiOPB114C9SgXyRpUsDE/TpI3LggQmPiPh8OnLh9ES4447k811TZJKK6/WK3HqrSO/e9gjr1Kk6gJWTE34ga/x4Tfvnn+nJc7bx/PNanrfdJtKqlXrbrVrlbt9Nm0S6dbNt3/LQ23//+DycvF6RESPsfNQ11q8XadFC5NBD1S7/+EMHHq+4It05I7VZ3/35p0jXrmrz+fn2MzBtWq1lgWQIl14aWC926CBy2WVqF5HebU5eeEH3a9ZM/953X6hn57JlIvvtZ7c7CgoCj/nzzyKNGqljQlr4/ns78+nk//7Pfhk5Cj6cJ62IiFx+uUiDBiKVlcmf+7bbAg2hXTv1wnHhhhvVayoCCdV3lpu9ZUhB3lsJ4fVGb8hZlJbaZZEB7ptXX23fqvz8FGXnxhuju9lH49dfdd+HHnK/j88n0qOHyN57i2zeHHd2kyGT+hcku8kmW4NLjyTGSEoDc+bYi0N8ubYRlu5zGtCpU2CiSy8Fvv9eV/dIAGM0nmD9+vbo0ZNParyUZKjLMTbc5N1aFGT8eB2QGzkSWLRIA2xHi7tgBdyOJ/5gXS7LmmTrVg3n0Lmzrk64YAGw224adNQZZ9NJebnG6rj7bp2+/8EHOtJtxR19911dCrp+fcDj8bkKr1BYqE6Bw4ZpHMrly1N+qTVGVZWW159/6nLSjRrpSPLgwRpzY9u2dOeQOHFbF8RbZ2zerDFvli7VmDQlJRowt2FD4L771DOJZD8i6vzyzDPaHvB4BPXra9y/xx8HSv6zHHf1mIf5/1oe1SmhaVP9++uv6jFz4omBK5gCwJFHqvebdd6KCv3+8svqNX366RpracKEmrnWmLzzjv4944w0ZcBP8+b6t7o6YOWqwsII8aLef19j/OTlJX/u3Xazo2Tn5OhL7qGH1A3XIsIL0lUw81Qwd67tIeXxJBfc2cJVAC1oA8IiAwILtmhhP2fV1SnIjohGzm/TJrE4RU2bqjdfPPdk3jxtzN12G7D77vHnmRCSmbhRmzLpkw0eSQEjOqiUohPfDU1UUSGy114iZ5+d1Lms0a1Jk0QOOUTPOWiQeiU8/bTIRx+JfPihxlO69dbogxJer3o0GCOSlyfy73/r6KLzPMFxm9xOZa9pFbe0VAehok0H/+knDR2QSFye1at1n6efdpfeGmxLZDAo27n7bi3LBQvsba+/rttuuik0vXPgElAPnPLyyDbpjA/ihl9/FWnaVL060hQyIS68XpGePbUsnn028Lf583X7Cy+kJ29EcdZ3ZWVan8aKXWQNprutM4qL1ZvPGJH//jfwNytEy7XXJnUZJMPxejXkTffuer+HDBF5772gOtDrtV3VcnI0Bk0E3HqjOB0/cnNtDybrk5ubxnde//4ibdpED5JXGzjL3RiRV1+NnHbdOk33wAOpO3c4zxyvV+S00/Rc778fdfd4whQl1L4bODBxj5lkscrHMtjnn4+dvgaDkUZ1pErk3B98oNf1xBOJZ6p7d5ETTnCX1ucT6dJFZ1lUVCR+zgTJJi8Rktlkk63BpUdS2oWheD/ZICTtfCl4qqU+toj3yeXhE157rfYwLLUmSbZs0aB9zgZd8CcvTzs2wfh8KkCF26dJE7tx6fGoYHXAAdo2chvY1c3Dl8y7OniqU6tWKi55vTot7c47VbfLzdUycOPm76S6WtO77ZhZU+GyIZhzKlm/Xr33Bw0K/W3UKLWn+fP1e1WVdohbtw4sy7vvjn6ORCr6l16SuD25gykrE/nHP2q2Pfz883b8zHCBc6urNcjtSSfVXB7qKjXcFwjAssHqapHCQnd1wR13BNZht94a+fhvv23XyZGmQlx1lf7+bphxDFL3CRbY//Y3WzsJqAOtKS7Wp0EDkenTIx7TzcwgK631PFVXa5Bua7ZQIosnRKSkRB8ONw/uX3/pA3HddSk6eZJ4vRpRuWFDkebNRZYsCZ/OevinTEntucNVeNu26dzEE05ImdgW9zt3xgy93gsuSN9qMV6vyJgx2sBt315k69bw6Z5+WivbGha8wt6u997TF368577gArW5v/5KPEOXXaZl48ZG7rlH7+eYMYmfLwmyqXNPMptssjUKSRmO1ytS1PY58TY9XVtZ4Vi5Um/RKaek7OXkHFH0eHSa/oUX2tsAkcMPD1x1ZcsWTWPtk5OjDdRHHhF5+GGRzp0D26Ft24oceWR8Qkmsh+/11+0Osscjcv752qZatEiFhWhtjeeek52joDk5KhQ1aWIfyxkm4PPPE+9QHn20SN++7tL+61+BZTZzZnznylZGjdL79NVXob9t3ixy2GHqHdS3r8b/seJ1xCP+JVLR+3wiAwaoN9sNN8RvG84FUvLyEl9w5pZb1NPEart5vSK33659wWOOCbSpSJ01y+Nr9WqpXfUkg5k5U8urtlY0Ky4ulu3bRYYOtesm677ddVdo+m3bdEDXcl6w7L68PDBddbUuqGOtwhXNDrZt03q6cWO1q1jepLuCqWTTNToHjYLfwTvrwB07NFCSZSj16qm3DiAyeLAqkkEFkmgZxSNCuebJJ+0Hwk3wmOnTNW1JSQpOnkK+/FLkoINEdt9dRyuKitQjaNEikZtvthsqteWZM2mSnm/OnJQcLq537k8/aeXWqVNavFdCmD3bVmKDeeWVwMo7pQqpC045Jf5z//KLPitXXZXcuf/9b1scimaTb7yR9nhT2dS5J5lNNtkahaRMZ9MmbbSFezlZeL0pb0CEa8w5t+Xl6WevvbTDee219vSIsWNFFi4M38GIdEw3nsHhphtZnkKPP67u+NZ7yPnOdH6P1AFctEiLuWdP7Yhbed+yRYUB5/6xPFliMXy4DuTFwufTwb5mzXRp9pwcvcZdneXL1dz//vfIaaZMCe0c7dhRO9Morel1QGgA2Vg4A98D2smLh+LiwGcgJ0cHFJ3bWrXSsisoiN5ZW7tWy27M0NX6sO/i8ytLSzX4r7MuiLasdSrEhpkzS6VvXz3fffept9o//6nCTn6+7XUnorF1Tz9d095+u557yhT1LMvLU0G/rEzvvaUJHHVUbDsQsT3trOs+9lgVaXNz9Xtursb4/dvfss9UvF519HjtNZ3iPWGCln1duMZoNrh9u94v58BP8PXsrAPHjdOEd9xhH7CyUv/Py4v+ck1xvuNKXFWlL+zghkGXLtG9LEaM0FGkHTsSvoYa48cfbREv0qe2hIqKCp2G1LVrSrySXL9zfT6Nwl5QoAOpmcI110iA+6bPpxU2oJWupdwbE9GbL+Vs366jas4A6eGmEwRz332afsWK5M5vjYZGqzB//z1wXmttC21+sqlzTzKbbLI1CkmZzrRpEnNkzOk+ZEzKKuBYo82ff65eSc72y8MPJ3bMf/xDRamWLXWgKdx+BQUixvgkL087LcOHBw7yNGigHXFnx6i0VFfxuuCCwLbkyJH2sdevV2GnZUsdhAl37vr1qiTHVEn9elVJt5PvvVfzsGFD9HTvvafpJk3S75bXb11fRSmZDrbXq23ohg217RGJRFaMCSbRit55bkCn37lpY69YYce2ycmx/86d6/7cVowTqyro2VMX2XG2zyzxI+Z98PlkwFE/yr5mneyAQ5E966zMGAGuJaqrtcxycnRFPyv+G6CemuGw6ysVHZ5+WheBWrDAve3PnCnSrNk28XhEJk8O/O2PP3QWRcOGIp98ov3l887TPE2cGJrWCmfitMvbblO7dPM8Btv0fvvZ3pqRPqkQ3WsbqyzKyrRcR4wI1SCcn0SnG9eGR5PXq7bq8QQK2l6vOq9YYuI11wQOnjgpLi5Wd7acHHXvDce11wYWSmGhyDff1M5FvvWWfYPy8kReftk26ptuUqUUEDn55MBgTIDOdX7qqdA8Llwosttu7t2G08HYsfZ1G6MNnP/+twZcuVzw1FOaj3feSe44Xq+sufRSd/l+7DE95yOPJHfOVGO5bzZpou6/J5+s+Rw+XN+ZXq8urdaggcZ2cLr01xTPPqt5eOghe1Q01kqE1tz27t2TP/+YMdEFoi1bRI4/Xp/LevVq334dZFPnnmQ22WRrFJIynV691I154cLIaSy3Hqth8fjjtZa9u+5KXTyDxYv1Mo47Tt/HFqtW6XSwcB0VZ4P+zjs1fSSxyuqkW/tdfbV6Ix94oHb2PvkkQsa8XvHmdZci3CLe/B5Jv+DeflvPH21QyOfTeE3772/32XfsUE+APffUQcm6iLNzE29bweu1Y47GmvaViukRiVb0znNbne/zz1dhMFK/6o8/tF25997aNyoq0tkCHTpom3Px4tjnteJi5uRE9iR0XRbr1omceaZMxyDtI+QODHx4WrTQTP7xR9zlk6m8+aaGRHn9dQ03t2mThuCwFh847zzdZnlBnnFG+DZ5RYVIv37RRRaPR70MP/pIHTusY778slbfvXtbaX0RZ+L88IPGmNtzT3uK8L33hr+26mrZ6dmUSF0dy0O1fn2dYTN3ri2gASJ9+mSmU0c4nOKfs4/uvGf/93/ab3bGFIq3/7xwoe3JVZP9pSFDAm2uUSORE08MHHwZNy76MUrffVddGFu2jDzy4TQE62OMXQHW1EVu3aqKZvDDte++ga7It98eqpguWKCVrXWTc3P1ATn++NhBwzKBSJV6OuZcVlaqjRx9dGJeSZs26UiixyM+ILYb70sv6f069tj0B0IPx4svBtrj6NGh+fR6Vaw88khthLq5Z4ncW59PGxFHHKH/+3xaMXg86r4ciZkzNe8vv+z+XJFwNtwAnR9tlceOHTrKYYy6fKZ5znA2de5JZpNNtkYhKZMpLrYbOm4iVt5xh3bwWrfWQDG1QKrjGVihCfr00ZHSvn31nZefb8UK9ElBgXZaysriO7f1jpo/33bptz5R24yjRoU2DJLgm2/0MNEWwpg3T9M8+mjg9i+/1HbWaadlZhsqFs7BKY8n+tSgYJyxXt10hJNtkyRT0VvnXrjQFluNCd+vqqrSEAZ5eSoGOVm3TvtwzZppmIVI1/PXX/rYH3xweMHKdVmUlanH0e67ixQUyPZ7HpRmzXwyqMdvtqvG3Ln6gAKa7pprRL79NtGiSojiYvV2SUXbu6pKPU+iCT/hFheoqrLjy9x4o57ngQds4cnyKKtXT+T++0XOPDO8d4u1KqNzW8OG7mzdOeUs1gpXydbVsTxUg7ddfrnm69xz64aYdOutgffgrLN0hkqk/vo11+j2Cy6I7zwnnZS4oOeW+fNtHcfjUfvt00dnuLg+t9crf7Zpo0ZbWhr9hE5DWLs20DWyJi7S51N13np5WwEZb7hBA+S5OffYsYE3vEkTFaFq+uakijR3ugOYOlXLbNgw95XylCnatmrQILRSbN1aK7fiYlU7J03SxoLTvTbeeeO1RVFR4DSySDY0d64dADua4Lptm04PS0R9njVL8zF1qr1t0yadStC8uT6r4Tj9dP19+3Z354mF5QZpBUo991wdKbO+W273aSabOvcks8kmW6OQlMmMHx///JySEn3ZXHllzefPT6rbM6NHB7Ypzj9fp7t5veFjJCV67pEjXbQZV6zQho6lAliKwD/+Eeg2FQfV1ToYdfXV4X/3+XTkeL/9wp/CmnI+eHBmtqOiceqpgff2tNPczZKqrNRBNete1Vag41ThtDVA20+vvqptyR49oguLq1ZpoONIQpSIdtqN0YH2hCkrC4xU718L/vrrtcyvuy5ITPn0U+04WNHpzztPZOnSJDIQG58vsMMfrS9RVmaHb8nPD+8B+NtvgZ461qWffrqKe7G8LSsr1YnBuf+BB+ogc3DdFCzkzJih4qCzb+Tx2OWsHpTVUW093imctd33vP9+zduQIVpWbigr01dfKvMY67p9Plv7iMfJw1oka/Zsd/l46y37HNb9dhOuJB5WrND6on177atFs8GIZbxggV0XxFIow2G5nia6fyyKivTYlqEkcpFu3Ozq2gs2XZSW2pVltErZcvtzjuCNGKHB0OvXF5/Ho/ZirZAR/GnevIaW9Esh8dhQcFDENm10zvE99+hL6PjjtbEY/IJye929emlDMlgQWrlSB4E6dNCRLmceX39dyzjSvO1kqKoK7NfUVP2QINnUuSeZTTbZGoWkTCbRRo0Vs+C992o2fzXE+PGR2wqpfPhiFu8PP+jcshYt1FWqqEjL1FIFWrbUHnwCL8EuXXT6Sjjmz9fD/+c/4X//4AP7PVyvXs2+g+PpeMZK6/Vqni+4QO/xRRfp92OPtadzRdrX8mQaN672l15PBZatWV4qwYOwOTnRr+mKK+y0xuhsDYs5c3R70itVR3CVcHq9WGY/YIBq1RMmiLz+5K/yyfAHZWMD/zST3r11JDTFLnNffGGLbs7PNdeEpt26NXBFSEAfZWdw6iVL9Fry8zWcSqJ9SiuWqnVvwq2mZhHJgyeS10uwcB7ueJne733wQS2bnj1D+yzBvPde6taN8PnUI9ASr6MN5lthXq66Kr76paJCHWAOOii2E/CqVTq9rEsXdbSwwpW8+WbclxaRdet0uuM++4h89134NDHr9A8/tKd9JdNh93r1Yo3R1Szi3TdSJt98U/N13nmR6xi3Ly63bnYkOsFB1P75z/Dprr8+UBBxvsi8jhhJ1dUil1wS6Nlz2211o8ITic/+LJfUnBx7xRrnC2XwYHV1da5K8/bbsfPw8cea9v77w/9uBdC3znPcceqGad3HmvT4co4WZ5AgmE2de5LZZJOtUUjKdBJp1Gzdqq3bZs3UfTsVKkAtEq2tkOqHL+JlW9FsGzVSz4tgHnrIfuHn5sa9TPCFF6o+FYw1Mr7vvpEdnoqKAkNAXHxxXKcWEXe32+u1PTo8Ho37Mm6cthFHjdJBs3//W6f19OkT3UO7qkrjnu63X+BiOa+9Zg9QRtp33jwt6ksuif86E8YbR+BP94fcWeY7dmgZuh1ctdqbVvo99lAPplmz1ERbtkzYQU656y47I0EPXnAs/3btdMXlxo1DRZ0m9bfK0XnLZDBelRuaTpZJ/1cus2ZUypdfJp6/4mLVuHJydPaJU/QBVJRzPn7r1mn/FVD7zclRsah5c912TNtN0q/NasnLrZYDDrD7uIn2KVPRt4l0Hjf1XQZV3RH5+99tG4lURpWVgYtRxVoVLxxer4bgGD3aPpYzPEe4Y65apYP+vXtr/zVeFizQY99wQ+Q0f/2lz81ee9mzQCsr9RVz0EH6yk6WefNUQCooSMAx0OtV9ypr6dNmzUTy86U62RhHGzeqgtu+vfsA/U7VvaAgMJbLc8/pQ922bWoKjaQG5z0DtBFTVRWY5vvvbU+jCJVlQH0XTWHP9AovHoKv5847w7uZer06apKfr42xWJXV0KE6R3rjxvC/B4t/++4b6C1WkwJPhgqC2dS5J5lNNtkahaRs5emn7RdCQUGg/3xwj/aZZ7RxZi0x9K9/6XD9a6+lfo6BS8K2FWqgcx+W4mJt3efmajCmcASrOc2bxzXqak35CF557D//0e3XXht5X+c72IoT+tprrk+9c9Q/1nT7QYMCRYJwwoHVUXOu4BTO83riRP3tlVdCz3P11YHHGzbMboP+/LO2Pdu2rbWwXzsL2GdM7FG5qiot/FiuFpFPE3eMrylTdOqjs8yS8kx74AE9yPDh6sIR9OBFy+cff2hV8eqratOXXy7Sv2+1HNZio9QzFSG2su++IiecoPd47Fi9lpIS9Z6oqtJjjx2rz8H996tnvrNdawU2tspi+nS1jbw8bX9fcYXGgdl9d3VccNYj27aJXD3kRwF8aqeokndvLw8t4AQKsqb6NmlrbCxYoN4Cs2drkOWNG7XicBOYqqxMvQcc7xxn2BDLs9CJz6eCuCX+WWnjmaHtnI0FiHTsqPY1f37gWhSDB9t9sMpKFR333NMfLsStmhi0beRIrfemTAlNWlamM0iMCXUStsIgjh3r/jqtU8+frzHz5s/XW5VwjGiv156GZhXQn3+m7n1rBe4dM8Zd+uCYhIAKW87YR5kaH2dXxjJMSzX+299sj7GffxY59FAd9Zg8OWJlGVLfZZto5IZYDYNJk7R8oy2R/L//6f7R1O1w56lNgScD7202de5JZpNNtkYhKVsJbrk3aKBzrkeO1JamFXDF2YCM9El3o+2333TejrWqR6rmc1VX67ydYcO08XPNNdpDt8otWovc+cLNz9fea06ONpZLSmJ2PKy2tRXD9MsvRc45xy7ygHd4mBeutWn2bHuhmSefjH3JmzerRua8vdZqd05mzLBNxNmmCB4sGzPGXhDHOZjlXD3ql1/Ug6ZXr/AzEayidK6W1LKldiLbtNGO5WefRS6LlPLFF4FBayz3n6FDteH2yCPq/n3WWbrMtfP5ScAuE70cn0+zlNTgoddrrwt/zjlRIyInks/qKp+sfW6+LDz6ankOw+Sf+XfLiPaLpMdx2+TAA0MDTzt12Z0eTk1iX+Mff9irfFteJ889Fy5D1VJ0+FTJwQ49HiqlCDerEjV4sB20d1cbIfV6VYmYMEHdeTp2jP4+8HjUXl56SeNo3XGHPhd3360qoTPtUUeJXH21eG+ZIfXzdogH1QJosooK2WlYd17yvQCaDa9Xxy969dJ7+cYbsS/hk08Cw6oE24p1TCs+88UXq3BpTZl97TXRyth6N+bmauIhQwJXIevZUzPvVG1KS2XDBhWjnK/VRx7RjyVuRVpp8rzzNP3q1bGvc86cQLEs3CeuuqC62rlEYMgoQMrs7+KLNWPRlp/cuNGe8mIVZH6+CkujRgW6q2XQdBgShuuu0/s0YYJW0B07ar0abfVhya7OVVJEe+H6fLpkaH5+eG95r1fbJjk5Gp4h3vNkoMBTW9D+SG2RTbaWEUISgP4AVgFYDeDmML/XA/CK//ePABwU65i7vJDkFDry8jRy7OGHh7Y6Cwt1eLigwF75ZNIk9U5w9vROOSXUVbkmWbBABZ7u3e35Vc5P586qUMTDnDka2PHiizXC7u67hwpm8cSGcL5wN2ywg/44p7xdcom6FwV1Ur/7TpN06mQvXKF9E/WWyPFUS9GwFSJnnx0YJ2D0aC2b4uKd5968WW8PoD9HciLbskX7QcaI5OdW+zt1PmnbVuTXX+10ZWVaFF266HQJt3FMrf5o27Z66dOm6fZLLtHvn38epSif+EyK+hZL6aTPZPp0LRfrNuzsgFlqlTXl4d13bdeCeDwJxo/XTuPmzdrIfecdtfdjjrHvW06OeiTl5WmP9oADQm2wUydV8ZzPSfv2tbaCWVKDh08/HRjxN9aqTMmyZIkqXzk5Wr7Dhsn2xcvk66814PgTTwTGP/J4NKi222scNy7GNMF160T69BEvjpP62CI5qJT62CLewRNE+vcPrGOcixUk06hOtkEeziMkmWNWVmpBDxkictll+jnuuED7zcnRqUjOOmfAAP0400VSM5o1s9MZo8+Nv5714jgpws1yI+4VQGRA/fdlm6kvk3GRACIXFn4pvo1/7rzGrcUfSteuOu3s4ynLworpd90lcumlmp099xTJz6uWHFMl9etVhXizSlGR+Mq8OwNkdzl8kwA+Oa3Lj+pBFRy4LDc3dKCleXOdPxYsNN9/v5w/ONQDz43As26dnvq008LbgBQVyZb3P5T77gsU643RW1lcrJ6ecdcFv/9uvzjCTGkVSWFjd8MGndfcqpU+rME2PWyYDsZ4PPq+DH7xWOkycDoMCUN1tRonYA+yuYhIn02dqxrll19UOT/oII01YD0Lc+bYdVaswIskBNofqS2yydbSLiQByAGwBkArAPkAlgFoF5TmCgCP+/8fCuCVWMfd5YUkkfCdjrlz9UUTa965s9HmnPf+2mtJd44idu5fekmHcLt1C2yBDx0q8uyzIvXra8wGa5WoJk109bRg5cQ6R3GxNkhvvjlURGvdWqRr18Dep3WcZBqrF14YuSdhfYYNtM9VxQAAFZpJREFUk7IFO3aKRgY+GX1Rhbxz0WuBnVwcF3v4OTdXZPx4qfx+/c4V2QGf5OdV2zNLyspk683/lN7tfxSPxycvDnxFvDndpAi3yL05Y6Qgv1oOO0ynF33+uXbIDjlEvdHd3kInf/6pt9DjsT0Azj8/SplZypU1lP/oo1J02bfiMeq9kGOqpKjDS4HuKc7e2V57Bd7H4cPVw8zpXdCrlypcse7NyJF64eE68bfcEhq7IFiwzc/Xa7n0Utu9IlrBxSMMhPNM8wtw3ic+i5pOvF7twN12my2YpWN0/3//03tjibh9++p8H58v4qMXtoiCNnq9IvXrVYWKCF6vGl/DhnrQxx4T7xPLQstswQK1PadYYrnDWXb58ssa52PWLL2377yjKsC336pnzpVXauCwRx7Rc1pCXW6ueuusXq227ryYykqdUzVlitrM/feLvPii1mt5ebaYOWaMdhjy8+38/Pe/KgaEmY64s3zmzdM6e9iwUKFkjz0Clzv3eNTl0M2Uh9JSnbriJhhudbUG2XUE2nrioCIBRNpihRhUyTH4ULYjz1ZI/H/XN+sgB3q+l6b4RW5CkbyDU2XRsVfJ+F7zJM9TtbMO7XP0b/LbuInizT1Riswt4s3ppvfjlltEzjwzcB7wRRfJFR1KdtaVO+va448P9UqLVRb5+Tvd4bx53aUAW8WDHVIP22Tidatl4kSReuHErSD7tWaXnn34cnnx4nmy8t4ZsvKs2+RFc4GcienSFL8IIFLYcXP440mEuiAcXq+WTYsWmv/HHgu1Sz8pbexOmBBoa23aBLqRGaMCd6y876LeEnWO4uK451tmU+eqxnn44cDnKXilO3rtxQ3tj9QW2WRrmSAkFQKY4/h+C4BbgtLMAVDo/z8XwG8ATLTjUkiKgtvGmJWurEw7OtYypFYspYkTVX2I1pEpLdWO+Rdf6Gi41RHKy1MPnsGDQ+e0NGkS3r3A2blfsSLQbcXj0e9dugQGELQ6ci1bhh4zrp5rHGUb3OGaOTOkk1pUf5x4UKXZQaUUmVvEOWrvRaG68y9YEHi8WbN0WdbgeUGAjG9QJMZ/TECkRc5P8krDS+R99JBDsEqAankWw0P2K93rTGlcb6s0bbBVGtfbJk0aVsqaNVFsJVL5OLZv3mwHPAZ8gZ2esjKdu3/zzTqvI7iD6y+HAFGtyQB1p7I69vn5OnI9ZozzRLYtBAtEljrm9Jbo31+XdIrgyhI2XkMse/nuu8DAPoCKmL16qR1awsCVV2pAH2dssgceECkvV4FgzBgVAD79VG3ogQdsYSwvTwXLs88O9Crq0kWXKnNeY/v2us1ZJi1b6tSDdI7u//67CreWB2CnTiIvvCDeSZ+EdoYXLlT3pGnTNJ/OssjNVRs64wzxek7QZ8ccryO1TZsGdlJffjl6nqz7OHu2BmkK9jyJ5xNunp7zY0zkoGOJfozRzvlRR4Wef6+9RI4+OroQGqsOjDbY4GbfoLQ3D//BLwT5pD62ivfKF1RYdOb7qKPkuVZjdwpG4T4e7NApipHuQ/Dy2YAU4ebA+vfEme6vO9y2Tz8V6dzZUX8fp2JpYeFO0d6b001k4ECRk08OjF7fooWU1u8rxj/tL/w1VslEjA59RxxyiN7vww6zj5mbq8LdrFlq83//u9rztGlaZ1qDEy6Em5Q2doOn2x9+uD73mb6cO0kMZxxJl/c2mzpXNU7w89Shg7qkZ+AU7boC7Y/UFtlka5kgJJ0N4GnH9+EAHg1KswLA/o7vawA0jXZcCkk1wI03xu7M7LGHBlR02/lx+up7PCowRPEKCnj4xo8P7CAffLDIgQcGdqwuvFBk06aaEY0iEa3jUVoq8tZb4m05NFAoOfpKbey7yWPwtTz5pMiDD4r34PN3HjMfFdIy9wexhBxAJA8V4h14rwoVTi+aDh3kOQwT+Ke61cM28Tbsqx1ppyjRtq1+grcdc0zY7eOa/ntn5ygHlVK0+12htrHnntp5tJbX8nskyUUXidccrx0mzwmBK5fE6qSWlakYYE3XdOtd4GZahxt7CV7m7JBD9DpTLRo4nx1Abb9Vq8BthxwSuM3jsZetyoTR/W3btDMb7DFojHoRhZvWGvzJywsVI9u31zmjyXRSvV7bUy4/X711zjor0AvnzDMDl0y2AoeVlQXa1ZQpGr3e2fA/9lg95plnBu5/7bUib71le2AWFGhU8Zde0ufDys/ttwcKocZoOTqDoBmjnk47dtSccJ6gR11RkYjHWFN5fXp7wuSxaPS34vHHtfKgSob3/1mmDnojsP4ceK/Wg5a3bUGBemNZAdycx/zgA/H+e1Hg/rG8eNyWhbNePfXUwKnSgNqpU+D0i2VFB0zaGbvLgyoZeugSGdrrp0Cxa8hSkXPPDbShtm019qEzELXbj4tnIqWN3TjrX1LHSeDeZlPnqsapzTbtLgLtj9QW2WRrboUko2lTjzFmCIB+InKp//twAF1F5G+ONCv9adb6v6/xp/k96FijAIwCgL333rvztGnTaiTPuyqNVq5Ex+uvh9mxA5Kbi29GjsQey5ah6QcfwAAQAJvatgWMQaPPP9dtxuC3447Dr716IX/DBrR66imY6mr4cnOxbMIEwOOxj5mXh2UPPohN7duj0cqV2OPTT7GxUydsat9+Zx42b96MBg0ahObHvy+AsMez0oc7ZjpotHIltl7zCkqru6F7bhl2e/icqNcdbv/gdI1WrsTWa/+L0qoT0D23DPUePBdjnzsZs5e0AWCQgx0YffoSnH3d9pD9Z177Cx769CxUIxc52IFbm/0HNzSahAZr1uy8t1v33x8AsNvatQHbKvbbDwXr1oVs/2j70Tjt15dRiTzkYwdm7D8CxzRcgUZffKHpPB787+KL8f0FF4TkJ9y9TaQ8Et0GBNpavPc2ql3m5mL5PfdAjMGRt9yyc9vXf/87Gn/2GVrMnQsjAjEGP/fqhZ9POQX1fvoJbR55BKaqCpKbq8c0xpX9h9uWbvsPwefD4ffdh73nzrXrknbtILm5aPzZZzvrkp/69cOfRxxhl0UNX7cbu4x0Hrc2HW17/UWLsK1r14i2WpfrwJUrG+H66ztixw6DvDzBgw8uQ/v2m0LyuHJlI1x/bQdUVXmQm+vDgw8vRyHKA+q6WPVnuO3fvv0bVpZ60L67Dwed3jQl15To/fnsm71xxUMDdtaVk66biS2tWoW9bjc2tPL229H0ww+xz7vval3i8WDtoEHYcMwxaH/HHa6fiUTrQLflE2kbyQ7ivbeptrdsh89OaqH9kdoim2ztpJNO+lhEusRKV5NCUiGAO0Wkn//7LQAgIvc40szxpyk3xuQC+AlAM4mSqS5dusiSJUtqJM+7NOXlQEkJ0LMnUFio33v3Biorgfx8YP58TRe8rbAw/P6RtkWgpKQEPXv2jJyfOI+XVmoin0HHLC8Hep9Ubd+K4pywpyp/cjl6X9Z6Z0dm/hNrUNhhs/t7G8EOynvegpIdJ6BnXhkKS+6JvH9tlU8chNhaPLi1SzfPU7zPTl19JuKpS9J53cmcJ1K6CNtd2WBdvd9IstjqyDW6vT/lTy5HyfTf0XPwXigc1SHirq5tKFJdksz7lpAahPZG0gntj9QW2WRrxpi0C0m5AL4C0BvAOgCLAZwvIisdaa4E0EFERhtjhgI4S0TOiXZcCkm1SC12ZLLp4astXHfWwnRk4rq32SRqII22VkfKp0aow/ZSE7C+I0mR5LND+yO1Ce2NpBPaH6ktssnW3ApJuTWVARGpMsZcBQ2onQNgsoisNMaMg867mwHgGQDPG2NWA/gDunIbyRQKC0MbqeG2kbTg9lYUjuqAwlEudo50QLdpaRvR2ZXLh/ZCSOrgs0MIIYSQNFNjQhIAiMhMADODto11/F8BYEhN5oEQQgghhBBCCCGEpAZPujNACCGEEEIIIYQQQuoGFJIIIYQQQgghhBBCiCsoJBFCCCGEEEIIIYQQV1BIIoQQQgghhBBCCCGuoJBECCGEEEIIIYQQQlxBIYkQQgghhBBCCCGEuIJCEiGEEEIIIYQQQghxBYUkQgghhBBCCCGEEOIKCkmEEEIIIYQQQgghxBUUkgghhBBCCCGEEEKIKygkEUIIIYQQQgghhBBXUEgihBBCCCGEEEIIIa6gkEQIIYQQQgghhBBCXEEhiRBCCCGEEEIIIYS4gkISIYQQQgghhBBCCHEFhSRCCCGEEEIIIYQQ4goKSYQQQgghhBBCCCHEFRSSCCGEEEIIIYQQQogrKCQRQgghhBBCCCGEEFdQSCKEEEIIIYQQQgghrjAiku48xIUx5lcA36U7HyTlNAXwW7ozQXYJaGsk3dAGSTqh/ZHahPZG0gntj9QW2WRrLUWkWaxEdU5IItmJMWaJiHRJdz5I9kNbI+mGNkjSCe2P1Ca0N5JOaH+kttgVbY1T2wghhBBCCCGEEEKIKygkEUIIIYQQQgghhBBXUEgimcKT6c4A2WWgrZF0Qxsk6YT2R2oT2htJJ7Q/UlvscrbGGEmEEEIIIYQQQgghxBX0SCKEEEIIIYQQQgghrqCQRBLCGHOAMabYGPOFMWalMebv/u17GmPeM8Z87f/bxL/9cGNMuTFmuzHmBsdxDjPGfOr4bDLGXBPhnP2NMauMMauNMTc7thtjzHhjzFf+/Fxd09dPao8Ms7WFjv1/NMa8WdPXT9JPhtlgb2PMUv/+HxhjDqnp6yfpJcPsr5ff/lYYY541xuTW9PWT2iVN9jbZGPOLMWZF0Paw5yTZS4bZ3xB/HnzGmF1qNa5dgQyztQeMMV8aYz4zxrxhjNmjJq89VXBqG0kIY8w+APYRkaXGmIYAPgZwJoARAP4QkXv9jc8mInKTMaY5gJb+NBtEZEKYY+YAWAfgWBH5LsxvXwHoA2AtgMUAzhORz40xFwE4CcAIEfEZY5qLyC81dOmklskkWwtKNx3AWyLyXGqvmGQamWSDxpivAAwUkS+MMVcA6CoiI2rmykkmkCn2B+BLAN8B6C0iXxljxgH4TkSeqZELJ2mhtu3N/3t3AJsBPCciRzi23x/unKm+ZpI5ZJj9tQXgA/AEgBtEZEmKL5ekkQyztb4A3heRKmPMfQBQF+o6eiSRhBCR9SKy1P//XwC+ALAfgIEAnvUnexb6sEFEfhGRxQB2RDlsbwBrwj14ALoCWC0i34hIJYBp/nMBwOUAxomIzzpXUhdHMooMszUAgP+F0wsAPZJ2ATLMBgVAI///jQH8mPCFkTpBBtnfXgC2i8hX/nTvARic1MWRjCMN9gYRKQXwR5ifwp6TZC+ZZH8i8oWIrEr0Wkhmk2G2NldEqvxfPwSwf/xXVPtQSCJJY4w5CMBRAD4CsLeIrAf0AQXQPI5DDQXwcoTf9gPwg+P7Wv82AGgN4FxjzBJjzCxjTJs4zknqEBlgaxaDAMwXkU1xnJNkARlgg5cCmGmMWQtgOIB74zgnqeOk2f5+A5DnmOJxNoAD4jgnqWPUkr1FI5lzkjpOBtgf2UXIMFu7GMCsJI9RK1BIIklhjGkAYDqAa5LpVBtj8gGcAeDVSEnCbLPmZdYDUCEiXQA8BWByovkgmUuG2JrFeWCjZJcjQ2zwWgADRGR/AFMAPJRoPkjdIt32JyICbSQ/bIxZBOAvAFVh0pIsoBbtjZAQaH+ktsgkWzPG3Ap9r76Y6DFqEwpJJGGMMXnQB+9FEXndv/ln/5xTa+6p22lmpwBYKiI/+/c9wBG0bDR0RNQ58rk/7Ckda/35AIA3AByZ6DWRzCSDbA3GmL2gUz/eTeaaSN0iE2zQGNMMQEcR+ci//RUAxyd1YaROkAn2BwAiUi4iJ4pIVwClAL5O9tpI5lHL9haNRM9J6jAZZH8ky8kkWzPGXAjgNAAX+AduMh6utkESwhhjADwD4AsRcY6IzwBwIXS6xYUA3nJ5yAAPDxH5AUAnx/lyAbQxxhwMDWI2FMD5/p/fhMarmQygBzRIKMkSMszWAGAIgHdEpCL+qyF1kQyywQ0AGhtjDvXHqekDndNPspgMsj8Y/2IWxph6AG4CMD7R6yKZSW3bWwwSPSepo2SY/ZEsJpNszRjTH/pO7SEiW12eL/2ICD/8xP0B0A061eIzAJ/6PwOgwTjnQ0cp5wPY05++BXSUcxOAjf7/G/l/2w3A7wAaxzjnAKhItAbArY7te0C9Q5YDKIeO2Ke9jPjJPlvz/1YCoH+6y4Wf2vtkkg1C43MtB7DMb4ut0l0+/OxS9vcAVLxcBZ0GkPby4Scr7O1lAOuhQWzXArjEvz3sOfnJ3k+G2d8g//ftAH4GMCfd5cNP1traamhsQisfj6e7fNx8jD/zhBBCCCGEEEIIIYREhTGSCCGEEEIIIYQQQogrKCQRQgghhBBCCCGEEFdQSCKEEEIIIYQQQgghrqCQRAghhBBCCCGEEEJcQSGJEEIIIYQQQgghhLiCQhIhhBBCSBDGmDuNMTdE+f1MY0w7F8cJSGeMGWeMOTlV+SSEEEIIqW0oJBFCCCGExM+ZAGIKScHpRGSsiMyrsVwRQgghhNQwFJIIIYQQQgAYY241xqwyxswDcJh/20hjzGJjzDJjzHRjzG7GmOMBnAHgAWPMp8aY1v7PbGPMx8aYhcaYwyOkm2qMOdt/7G+NMUXGmHJjzBJjzNHGmDnGmDXGmNGOfN3oz8Nnxph/pqFoCCGEEEJ2kpvuDBBCCCGEpBtjTGcAQwEcBW0fLQXwMYDXReQpf5q7AVwiIv8xxswA8I6IvOb/bT6A0SLytTHmWACTRKRXmHTBp/5BRAqNMQ8DmArgBAAFAFYCeNwY0xdAGwBdARgAM4wx3UWktMYKgxBCCCEkChSSCCGEEEKAEwG8ISJbAcAvAAHAEX4BaQ8ADQDMCd7RGNMAwPEAXnUIRfVcntc6z3IADUTkLwB/GWMqjDF7AOjr/3ziT9cAKixRSCKEEEJIWqCQRAghhBCiSJhtUwGcKSLLjDEjAPQMk8YDYKOIdErgnNv9f32O/63vuVAvpHtE5IkEjk0IIYQQknIYI4kQQgghRD18Bhlj6htjGgI43b+9IYD1xpg8ABc40v/l/w0isgnA/4wxQwDAKB2D0yXIHAAX+72eYIzZzxjTPInjEUIIIYQkBYUkQgghhOzyiMhSAK8A+BTAdAAL/T/dDuAjAO8B+NKxyzQANxpjPjHGtIaKTJcYY5ZB4xsNjJAu3nzNBfASgHJjzHIAryE5YYoQQgghJCmMSDgvbkIIIYQQQgghhBBCAqFHEiGEEEIIIYQQQghxBYUkQgghhBBCCCGEEOIKCkmEEEIIIYQQQgghxBUUkgghhBBCCCGEEEKIKygkEUIIIYQQQgghhBBXUEgihBBCCCGEEEIIIa6gkEQIIYQQQgghhBBCXEEhiRBCCCGEEEIIIYS44v8BMM7fDfbACIkAAAAASUVORK5CYII=\n",
      "text/plain": [
       "<Figure size 1440x720 with 1 Axes>"
      ]
     },
     "metadata": {
      "needs_background": "light"
     },
     "output_type": "display_data"
    }
   ],
   "source": [
    "plt.figure(figsize=(20,10))\n",
    "\n",
    "#This will plot the prediction \n",
    "plt.title('DNN-Daily sampling\\n MSE='+str(mean_squared_error(y_test,y_predict)))\n",
    "plt.plot(x_datetime,y_predict,'.-',color='r',label='Predicted data')\n",
    "plt.xlabel('datetime')\n",
    "plt.ylabel('gasPower')\n",
    "plt.grid(True)\n",
    "\n",
    "#This will plot the real data\n",
    "plt.plot(x_datetime,y_test,'.-',color='b',label='Real data')\n",
    "plt.xlabel('datetime')\n",
    "plt.ylabel('gasPower')\n",
    "plt.legend()\n",
    "plt.show()"
=======
   "execution_count": 15,
   "metadata": {},
   "outputs": [],
   "source": [
    "y_pred = forecast_model.predict(X_test)"
>>>>>>> fd99a7be00e3c9a0c47da8ad00d07df942a759d1
   ]
  },
  {
   "cell_type": "code",
   "execution_count": null,
   "metadata": {},
   "outputs": [],
   "source": []
<<<<<<< HEAD
  },
  {
   "cell_type": "code",
   "execution_count": null,
   "metadata": {},
   "outputs": [],
   "source": []
=======
>>>>>>> fd99a7be00e3c9a0c47da8ad00d07df942a759d1
  }
 ],
 "metadata": {
  "kernelspec": {
   "display_name": "Python 3",
   "language": "python",
   "name": "python3"
  },
  "language_info": {
   "codemirror_mode": {
    "name": "ipython",
    "version": 3
   },
   "file_extension": ".py",
   "mimetype": "text/x-python",
   "name": "python",
   "nbconvert_exporter": "python",
   "pygments_lexer": "ipython3",
   "version": "3.6.6"
  }
 },
 "nbformat": 4,
 "nbformat_minor": 2
}
