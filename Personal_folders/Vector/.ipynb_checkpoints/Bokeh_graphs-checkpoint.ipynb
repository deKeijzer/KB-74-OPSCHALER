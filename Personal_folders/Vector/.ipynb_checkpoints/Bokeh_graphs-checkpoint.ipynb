{
 "cells": [
  {
   "cell_type": "code",
   "execution_count": null,
   "metadata": {},
   "outputs": [],
   "source": [
    "import glob\n",
    "import numpy as np\n",
    "import pandas as pd\n",
    "from bokeh.layouts import widgetbox, row, column\n",
    "from ipywidgets import interact\n",
    "from bokeh.models import Slider, ColumnDataSource, Select\n",
    "from bokeh.models.callbacks import CustomJS\n",
    "from bokeh.plotting import figure, curdoc\n",
    "from bokeh.io import output_file, output_notebook, push_notebook, show\n",
    "output_notebook()"
   ]
  },
  {
   "cell_type": "code",
   "execution_count": null,
   "metadata": {},
   "outputs": [],
   "source": [
    "#IMPORTANT: The original code for this notebook was corrupted, this is a recovered version, 'bugs' my occur\n",
    "#IMPORTANT: The execution of this code recquires to start bokeh server\n",
    "#Generating sources to work with Bokeh (from data)\n",
    "df =pd.read_csv(\"/datc/opschaler/smartmeter_data/export_P01S01W0373.csv\",header=0,delimiter=\";\",parse_dates=['Timestamp', 'gasTimestamp'])\n",
    "source = ColumnDataSource(data={'x': df.Timestamp,'y': df.eMeter})\n",
    "source2 = ColumnDataSource(data={'x': df.Timestamp,'y': df.eMeter})\n",
    "\n",
    "path = '/datc/opschaler/smartmeter_data'\n",
    "file_paths = np.array(glob.glob(path + \"/*.csv\"))\n",
    "dwelling_ids = np.array(list((map(lambda x: x[-15:-4], file_paths))))\n",
    "b=list(dwelling_ids)"
   ]
  },
  {
   "cell_type": "code",
   "execution_count": null,
   "metadata": {},
   "outputs": [],
   "source": [
    "plot1 = figure( x_axis_type='datetime',x_axis_label='Time', y_axis_label='ds')\n",
    "plot1.line('x','y', source=source)\n",
    "plot2 = figure( x_axis_type='datetime',x_axis_label='Time', y_axis_label='ds')\n",
    "plot2.line('x','y', source=source2)"
   ]
  },
  {
   "cell_type": "code",
   "execution_count": null,
   "metadata": {},
   "outputs": [],
   "source": [
    "#Making the previous plots responsive to changes (selections in the boxes to visualize \n",
    "#                                                  the different dwellings or Y variables)\n",
    "def update_plot(attr, old, new):\n",
    "    yaxis=select_yaxis.value\n",
    "    df =pd.read_csv(\"/datc/opschaler/smartmeter_data/export_\" + select_dwellingID.value + \".csv\",header=0,delimiter=\";\",parse_dates=['Timestamp', 'gasTimestamp'])\n",
    "    source.data = {'x' : df.Timestamp, 'y': df[yaxis]}\n",
    "    push_notebook()\n",
    "    \n",
    "select_yaxis = Select(title=\"Smartmeter data\", options=['eMeter', 'eMeterReturn','eMeterLow','eMeterLowReturn','ePower',\n",
    "                                             'ePowerReturn','gasMeter'], value='eMeter')\n",
    "select_dwellingID = Select(title=\"Dwelling ID\", options=b, value='P01S01W0373')\n",
    "\n",
    "select_yaxis.on_change('value', update_plot)\n",
    "select_dwellingID.on_change('value', update_plot)\n",
    "\n",
    "layout=column(widgetbox(select_dwellingID,select_yaxis),plot1)\n",
    "curdoc().add_root(layout)\n",
    "show((layout), notebook_handle=True)"
   ]
  },
  {
   "cell_type": "code",
   "execution_count": null,
   "metadata": {},
   "outputs": [],
   "source": [
    "#Repeated from previous one, this is just for comparing porpouses\n",
    "def update_plot2(attr, old, new):\n",
    "    yaxis=select_yaxis2.value\n",
    "    df =pd.read_csv(\"/datc/opschaler/smartmeter_data/export_\" + select_dwellingID2.value + \".csv\",header=0,delimiter=\";\",parse_dates=['Timestamp', 'gasTimestamp'])\n",
    "    source.data = {'x' : df.Timestamp, 'y': df[yaxis]}\n",
    "    push_notebook()\n",
    "    \n",
    "select_yaxis2 = Select(title=\"Smartmeter data\", options=['eMeter', 'eMeterReturn','eMeterLow','eMeterLowReturn','ePower',\n",
    "                                             'ePowerReturn','gasMeter'], value='eMeter')\n",
    "select_dwellingID2 = Select(title=\"Dwelling ID\", options=b, value='P01S01W0373')\n",
    "\n",
    "select_yaxis.on_change('value', update_plot)\n",
    "select_dwellingID.on_change('value', update_plot)\n",
    "\n",
    "layout=column(widgetbox(select_dwellingID,select_yaxis), plot2)\n",
    "curdoc().add_root(layout)\n",
    "show((layout), notebook_handle=True)"
   ]
  },
  {
   "cell_type": "code",
   "execution_count": null,
   "metadata": {},
   "outputs": [],
   "source": []
  }
 ],
 "metadata": {
  "kernelspec": {
   "display_name": "Python 3",
   "language": "python",
   "name": "python3"
  },
  "language_info": {
   "codemirror_mode": {
    "name": "ipython",
    "version": 3
   },
   "file_extension": ".py",
   "mimetype": "text/x-python",
   "name": "python",
   "nbconvert_exporter": "python",
   "pygments_lexer": "ipython3",
   "version": "3.6.8"
  }
 },
 "nbformat": 4,
 "nbformat_minor": 2
}
