{
 "cells": [
  {
   "cell_type": "code",
   "execution_count": 1,
   "metadata": {},
   "outputs": [],
   "source": [
    "import pandas as pd\n",
    "import numpy as np\n",
    "import matplotlib.pyplot as plt"
   ]
  },
  {
   "cell_type": "code",
   "execution_count": 2,
   "metadata": {},
   "outputs": [],
   "source": [
    "global gas\n",
    "\n",
    "df =pd.read_csv(\"/datc/opschaler/smartmeter_data/P01S01W0373.csv\",header=0,delimiter=\";\",parse_dates=['Timestamp', 'gasTimestamp'])\n",
    "\n",
    "# Split the smartmeter and gasmeter data\n",
    "smart = df.iloc[:,:7]\n",
    "gas = df.iloc[:, 7:]"
   ]
  },
  {
   "cell_type": "code",
   "execution_count": 3,
   "metadata": {},
   "outputs": [],
   "source": [
    "# Change all datetime columns to the same column name\n",
    "gas = gas.rename(index=str, columns={\"gasTimestamp\":\"datetime\"})\n",
    "\n",
    "#df = df[['datetime', 'eMeter', 'eMeterLow', 'ePower', 'gasMeter', 'T', 'Q']]\n",
    "#df = df[['datetime', 'eMeter', 'eMeterLow', 'ePower', 'gasMeter']]\n",
    "smart.head()\n",
    "\n",
    "# Set datetime as index\n",
    "smart = smart.set_index(['datetime'])\n",
    "gas = gas.set_index(['datetime'])"
   ]
  },
  {
   "cell_type": "code",
   "execution_count": null,
   "metadata": {},
   "outputs": [],
   "source": [
    "\n",
    "#These columns should be created in the end: column_names = ['House_ID','Amount_of_NaNs','Max_consecutive_NaNs', 'Interpolated','Days','File_size','Usable']#These  \n",
    "#Create a df to store max consecutive NaNs\n",
    "info_data = pd.DataFrame(columns={'House_ID','File_size','Initial_Date','Final_Date','Days','Amount_of_NaNs','Max_Consecutive_NaNs'})\n",
    "\n",
    "nan_dir = '//datc//opschaler//combined_gas_smart_weather_dfs//unprocessed//'\n",
    "paths_h = glob.glob(nan_dir+'*_hour.csv')\n",
    "paths_s = glob.glob(nan_dir+'*_10s.csv')\n",
    "\n",
    "def extract_info(paths_list):\n",
    "\n",
    "    for dwelling_name in paths_list :\n",
    "        \n",
    "        df=pd.read_csv()\n",
    "        df_nan=df.isnull().any(axis=1)*1\n",
    "        temp = pd.DataFrame()\n",
    "        temp['temp']=df_nan.groupby((df_nan != df_nan.shift()).cumsum()).transform('size') * df_nan\n",
    "        max_gap=temp['temp'].max()\n",
    "\n",
    "        #Extract information about dates and number of NaNs\n",
    "        initial_date_string= df.index[0].strftime('%Y-%m-%d %H:%M:%S')\n",
    "        final_date_string= df.index[-1].strftime('%Y-%m-%d %H:%M:%S')\n",
    "        days=df.index[-1]-df.index[0]\n",
    "        NaN_count=df.isnull().sum()[0]\n",
    "\n",
    "        #Append all information to the global info_data dataframe\n",
    "        info_data.loc[len(info_data.index)] = [dwelling_id, df.memory_usage(index=True).sum()/1000000, initial_date_string, final_date_string, days, NaN_count, max_gap]"
   ]
  },
  {
   "cell_type": "code",
   "execution_count": 4,
   "metadata": {},
   "outputs": [],
   "source": [
    "\"\"\"\n",
    "Resample the dataframes to 10s intervals.\n",
    "https://pandas.pydata.org/pandas-docs/stable/generated/pandas.DataFrame.resample.html\n",
    "https://pandas.pydata.org/pandas-docs/stable/generated/pandas.DataFrame.interpolate.html#pandas.DataFrame.interpolate\n",
    "\"\"\"\n",
    "smart = smart.resample('10s').mean()\n",
    "gas = gas.resample('H').mean() # Does not look nice, but it works"
   ]
  }
 ],
 "metadata": {
  "kernelspec": {
   "display_name": "Python 3",
   "language": "python",
   "name": "python3"
  },
  "language_info": {
   "codemirror_mode": {
    "name": "ipython",
    "version": 3
   },
   "file_extension": ".py",
   "mimetype": "text/x-python",
   "name": "python",
   "nbconvert_exporter": "python",
   "pygments_lexer": "ipython3",
   "version": "3.6.6"
  }
 },
 "nbformat": 4,
 "nbformat_minor": 2
}
