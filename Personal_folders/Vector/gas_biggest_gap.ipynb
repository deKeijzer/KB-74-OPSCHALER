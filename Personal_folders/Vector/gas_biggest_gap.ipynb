{
 "cells": [
  {
   "cell_type": "code",
   "execution_count": 1,
   "metadata": {},
   "outputs": [],
   "source": [
    "import glob\n",
    "import pandas as pd\n",
    "import numpy as np\n",
    "import matplotlib.pyplot as plt\n",
    "from tqdm import tqdm\n",
    "from datetime import datetime, timedelta"
   ]
  },
  {
   "cell_type": "code",
   "execution_count": 2,
   "metadata": {},
   "outputs": [],
   "source": [
    "global gas\n",
    "global info_data"
   ]
  },
  {
   "cell_type": "code",
   "execution_count": 3,
   "metadata": {},
   "outputs": [],
   "source": [
    "unprocessed_dir = '//datc//opschaler//combined_gas_smart_weather_dfs//unprocessed//'\n",
    "nan_info_dir = '//datc//opschaler//nan_information//'\n",
    "paths_h = glob.glob(unprocessed_dir+'P*_hour.csv')\n",
    "dwelling_ids = np.array(list((map(lambda x: x[-20::], paths_h))))\n",
    "#paths_s = glob.glob(unprocessed_dir+'*_10s.csv')"
   ]
  },
  {
   "cell_type": "code",
   "execution_count": 4,
   "metadata": {},
   "outputs": [],
   "source": [
    "def extract_info(dwelling_ids):\n",
    "    \n",
    "    info_data = pd.DataFrame(columns={'House_ID','Initial_Date','Final_Date','Days','Amount_of_NaNs','Max_Consecutive_NaNs','First_Gap_Valid_Data'})\n",
    "    for dwelling in tqdm(dwelling_ids) :\n",
    "                \n",
    "        df=pd.read_csv(unprocessed_dir+dwelling, delimiter='\\t', parse_dates=['datetime'])\n",
    "        df = df.set_index(['datetime'])\n",
    "        df_nan=df.gasMeter.isnull()\n",
    "        temp = pd.DataFrame()\n",
    "        temp['temp']=df_nan.groupby((df_nan != df_nan.shift()).cumsum()).transform('size') * df_nan\n",
    "        max_gap=temp['temp'].max()\n",
    "        \n",
    "        nan_table=pd.read_csv(nan_info_dir+dwelling, delimiter='\\t')\n",
    "        nan_table=nan_table.loc[nan_table['Column name'] == 'gasMeter']\n",
    "        nan_table.set_index('Unnamed: 0')\n",
    "        first_big_nan_index=nan_table[nan_table['Amount of NaNs']>=5].index\n",
    "        \n",
    "        if first_big_nan_index.empty:\n",
    "            valid_data='All_file_good'\n",
    "        else :\n",
    "            valid_data=datetime.strptime(nan_table['Start index'].loc[first_big_nan_index[0]],'%Y-%m-%d %H:%M:%S')-df.index[0]\n",
    "            \n",
    "        #Extract information about dates and number of NaNs\n",
    "        initial_date_string= df.index[0].strftime('%Y-%m-%d %H:%M:%S')\n",
    "        final_date_string= df.index[-1].strftime('%Y-%m-%d %H:%M:%S')\n",
    "        days=df.index[-1]-df.index[0]\n",
    "        NaN_count=df.gasMeter.isnull().sum()\n",
    "        \n",
    "        temp={'House_ID':dwelling,'Initial_Date':initial_date_string,'Final_Date':final_date_string,'Days':days,'Amount_of_NaNs':NaN_count,'Max_Consecutive_NaNs':max_gap,'First_Gap_Valid_Data':valid_data}\n",
    "        #Append all information to the global info_data dataframe\n",
    "        info_data = info_data.append(temp, ignore_index=True)\n",
    "        #info_data.loc[len(info_data.index)] = [dwelling_name[-20:], initial_date_string, final_date_string, days, NaN_count, max_gap]\n",
    "    return (info_data)"
   ]
  },
  {
   "cell_type": "code",
   "execution_count": null,
   "metadata": {},
   "outputs": [],
   "source": []
  },
  {
   "cell_type": "code",
   "execution_count": 48,
   "metadata": {},
   "outputs": [],
   "source": [
    "def drop_week_big_nan(dwelling_ids, gap_size):\n",
    "    \"\"\"\n",
    "    Drop whole weeks containing NaN gaps bigger than the gap_size specified in the input\n",
    "    :param df: Pandas DataDrame to process NaNs off\n",
    "    :param df_nan_table: NaN info Pandas DataFrame of the input df\n",
    "    :param gap_size: number of consecutive NaNs \n",
    "    :return: Pandas DataFrame\n",
    "    \"\"\"\n",
    "\n",
    "    for dwelling in tqdm(dwelling_ids):\n",
    "        \n",
    "        nan_table=pd.read_csv(nan_info_dir+dwelling, delimiter='\\t')\n",
    "        nan_table=nan_table.loc[nan_table['Column name'] == 'gasMeter']\n",
    "        big_nans_index=nan_table[nan_table['Amount of NaNs']>=gap_size].index\n",
    "        \n",
    "        df = pd.read_csv(unprocessed_dir+dwelling, delimiter='\\t', parse_dates=['datetime'])\n",
    "        df = df.set_index(['datetime'])\n",
    "        #print(big_nans_index)\n",
    "        \n",
    "        \n",
    "        if big_nans_index.empty:\n",
    "            pass\n",
    "        else :\n",
    "            \n",
    "            for index in big_nans_index:\n",
    "                dt=datetime.strptime(nan_table['Start index'].loc[index],'%Y-%m-%d %H:%M:%S')\n",
    "                start = dt - timedelta(days=dt.weekday())\n",
    "                start.replace(hour=0,minute=0,second=0)\n",
    "                start=start.date()\n",
    "                end = start + timedelta(days=7)             \n",
    "                start=df.index.searchsorted(start)\n",
    "                end=df.index.searchsorted(end)\n",
    "                \n",
    "                df.drop(df.index[start:end],inplace=True)\n",
    "            \n",
    "        dir = '//datc//opschaler//combined_gas_smart_weather_dfs//processed//Weeks_gas_drop//'\n",
    "        df.to_csv(dir +'weeks_removed_'+ dwelling, sep='\\t', index=True)  \n",
    " \n",
    "\n",
    "    \"\"\"\n",
    "    print('Dropping NaN streaks > threshold')\n",
    "    l1 = len(df)\n",
    "    df = df.drop(indices_to_drop)\n",
    "    l2 = len(df)\n",
    "    print('Removed %s rows' % (l1-l2))\n",
    "    \"\"\"\n",
    "    \n",
    "    return"
   ]
  },
  {
   "cell_type": "code",
   "execution_count": 49,
   "metadata": {},
   "outputs": [
    {
     "name": "stderr",
     "output_type": "stream",
     "text": [
      "100%|██████████| 52/52 [00:02<00:00, 20.45it/s]\n"
     ]
    }
   ],
   "source": [
    "drop_week_big_nan(dwelling_ids,5)"
   ]
  },
  {
   "cell_type": "code",
   "execution_count": 7,
   "metadata": {},
   "outputs": [
    {
     "name": "stderr",
     "output_type": "stream",
     "text": [
      "100%|██████████| 52/52 [00:01<00:00, 44.86it/s]\n"
     ]
    }
   ],
   "source": [
    "hourly_nans=extract_info(dwelling_ids)\n",
    "hourly_nans.to_csv('Hour_NaN_Gas_Table.csv', sep='\\t', index=True,na_rep='NA')\n",
    "#Ten_secs_nans=extract_info(paths_s)\n",
    "#Ten_secs_nans.to_csv('Secs_NaN_Gas_Table.csv', sep='\\t', index=True)"
   ]
  },
  {
   "cell_type": "code",
   "execution_count": null,
   "metadata": {},
   "outputs": [],
   "source": []
  }
 ],
 "metadata": {
  "kernelspec": {
   "display_name": "Python 3",
   "language": "python",
   "name": "python3"
  },
  "language_info": {
   "codemirror_mode": {
    "name": "ipython",
    "version": 3
   },
   "file_extension": ".py",
   "mimetype": "text/x-python",
   "name": "python",
   "nbconvert_exporter": "python",
   "pygments_lexer": "ipython3",
   "version": "3.6.6"
  }
 },
 "nbformat": 4,
 "nbformat_minor": 2
}
