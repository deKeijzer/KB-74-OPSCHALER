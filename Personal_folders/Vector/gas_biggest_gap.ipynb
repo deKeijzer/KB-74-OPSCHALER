{
 "cells": [
  {
   "cell_type": "code",
   "execution_count": 1,
   "metadata": {},
   "outputs": [],
   "source": [
    "import glob\n",
    "import pandas as pd\n",
    "import numpy as np\n",
    "import matplotlib.pyplot as plt\n",
    "from tqdm import tqdm"
   ]
  },
  {
   "cell_type": "code",
   "execution_count": 2,
   "metadata": {},
   "outputs": [],
   "source": [
    "global gas\n",
    "global info_data\n",
    "#df =pd.read_csv(\"/datc/opschaler/smartmeter_data/P01S01W0373.csv\",header=0,delimiter=\";\",parse_dates=['Timestamp', 'gasTimestamp'])\n",
    "\n",
    "# Split the smartmeter and gasmeter data\n",
    "#smart = df.iloc[:,:7]\n",
    "#gas = df.iloc[:, 7:]"
   ]
  },
  {
   "cell_type": "code",
   "execution_count": 3,
   "metadata": {},
   "outputs": [],
   "source": [
    "\n",
    "#These columns should be created in the end: column_names = ['House_ID','Amount_of_NaNs','Max_consecutive_NaNs', 'Interpolated','Days','File_size','Usable']#These  \n",
    "#Create a df to store max consecutive NaNs\n",
    "\n",
    "nan_dir = '//datc//opschaler//combined_gas_smart_weather_dfs//unprocessed//'\n",
    "paths_h = glob.glob(nan_dir+'*_hour.csv')\n",
    "paths_s = glob.glob(nan_dir+'*_10s.csv')\n",
    "\n",
    "def extract_info(paths_list):\n",
    "    info_data = pd.DataFrame(columns={'House_ID','Initial_Date','Final_Date','Days','Amount_of_NaNs','Max_Consecutive_NaNs'})\n",
    "    for dwelling_name in tqdm(paths_list) :\n",
    "        \n",
    "        df=pd.read_csv(dwelling_name,delimiter='\\t', parse_dates=['datetime'])\n",
    "        df = df.set_index(['datetime'])\n",
    "        df_nan=df.gasMeter.isnull()\n",
    "        temp = pd.DataFrame()\n",
    "        temp['temp']=df_nan.groupby((df_nan != df_nan.shift()).cumsum()).transform('size') * df_nan\n",
    "        max_gap=temp['temp'].max()\n",
    "\n",
    "        #Extract information about dates and number of NaNs\n",
    "        initial_date_string= df.index[0].strftime('%Y-%m-%d %H:%M:%S')\n",
    "        final_date_string= df.index[-1].strftime('%Y-%m-%d %H:%M:%S')\n",
    "        days=df.index[-1]-df.index[0]\n",
    "        NaN_count=df.gasMeter.isnull().sum()\n",
    "        \n",
    "        temp={'House_ID':dwelling_name[-20:],'Initial_Date':initial_date_string,'Final_Date':final_date_string,'Days':days,'Amount_of_NaNs':NaN_count,'Max_Consecutive_NaNs':max_gap}\n",
    "        #Append all information to the global info_data dataframe\n",
    "        info_data = info_data.append(temp, ignore_index=True)\n",
    "        #info_data.loc[len(info_data.index)] = [dwelling_name[-20:], initial_date_string, final_date_string, days, NaN_count, max_gap]\n",
    "    return (info_data)"
   ]
  },
  {
   "cell_type": "code",
   "execution_count": 10,
   "metadata": {},
   "outputs": [
    {
     "data": {
      "text/plain": [
       "0     False\n",
       "1     False\n",
       "2     False\n",
       "3     False\n",
       "4     False\n",
       "5     False\n",
       "6     False\n",
       "7     False\n",
       "8     False\n",
       "9     False\n",
       "10    False\n",
       "11    False\n",
       "12    False\n",
       "13    False\n",
       "14    False\n",
       "15    False\n",
       "16    False\n",
       "17    False\n",
       "18     True\n",
       "19     True\n",
       "20     True\n",
       "21     True\n",
       "22     True\n",
       "23     True\n",
       "24    False\n",
       "25    False\n",
       "26    False\n",
       "27    False\n",
       "28    False\n",
       "29    False\n",
       "30    False\n",
       "31    False\n",
       "32    False\n",
       "33    False\n",
       "34    False\n",
       "35    False\n",
       "36    False\n",
       "37    False\n",
       "38    False\n",
       "39    False\n",
       "40    False\n",
       "41    False\n",
       "42    False\n",
       "43    False\n",
       "Name: gasMeter, dtype: bool"
      ]
     },
     "execution_count": 10,
     "metadata": {},
     "output_type": "execute_result"
    }
   ],
   "source": [
    "testdf=pd.read_csv('/datc//opschaler//combined_gas_smart_weather_dfs//unprocessed//P01S01W0000_hour.csv',delimiter='\\t',parse_dates=['datetime'])\n",
    "testdf.gasMeter.isnull()"
   ]
  },
  {
   "cell_type": "code",
   "execution_count": 4,
   "metadata": {},
   "outputs": [
    {
     "name": "stderr",
     "output_type": "stream",
     "text": [
      " 89%|████████▉ | 50/56 [00:01<00:00, 26.47it/s]/opt/jupyterhub/anaconda/lib/python3.6/site-packages/pandas/core/computation/expressions.py:183: UserWarning: evaluating in Python space because the '*' operator is not supported by numexpr for the bool dtype, use '&' instead\n",
      "  unsupported[op_str]))\n",
      "100%|██████████| 56/56 [00:02<00:00, 27.31it/s]\n"
     ]
    }
   ],
   "source": [
    "hourly_nans=extract_info(paths_h)\n",
    "hourly_nans.to_csv('Hour_NaN_Gas_Table.csv', sep='\\t', index=True,na_rep='NA')\n",
    "#Ten_secs_nans=extract_info(paths_s)\n",
    "#Ten_secs_nans.to_csv('Secs_NaN_Gas_Table.csv', sep='\\t', index=True)"
   ]
  },
  {
   "cell_type": "code",
   "execution_count": null,
   "metadata": {},
   "outputs": [],
   "source": []
  }
 ],
 "metadata": {
  "kernelspec": {
   "display_name": "Python 3",
   "language": "python",
   "name": "python3"
  },
  "language_info": {
   "codemirror_mode": {
    "name": "ipython",
    "version": 3
   },
   "file_extension": ".py",
   "mimetype": "text/x-python",
   "name": "python",
   "nbconvert_exporter": "python",
   "pygments_lexer": "ipython3",
   "version": "3.6.6"
  }
 },
 "nbformat": 4,
 "nbformat_minor": 2
}
