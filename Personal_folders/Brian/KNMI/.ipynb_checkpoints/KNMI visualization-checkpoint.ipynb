{
 "cells": [
  {
   "cell_type": "code",
   "execution_count": 1,
   "metadata": {},
   "outputs": [],
   "source": [
    "import pandas as pd\n",
    "import matplotlib.pyplot as plt\n",
    "import seaborn as sns\n",
    "import numpy as np\n",
    "\n",
    "plt.style.use('default')"
   ]
  },
  {
   "cell_type": "code",
   "execution_count": 2,
   "metadata": {
    "scrolled": false
   },
   "outputs": [
    {
     "data": {
      "text/html": [
       "<div>\n",
       "<style>\n",
       "    .dataframe thead tr:only-child th {\n",
       "        text-align: right;\n",
       "    }\n",
       "\n",
       "    .dataframe thead th {\n",
       "        text-align: left;\n",
       "    }\n",
       "\n",
       "    .dataframe tbody tr th {\n",
       "        vertical-align: top;\n",
       "    }\n",
       "</style>\n",
       "<table border=\"1\" class=\"dataframe\">\n",
       "  <thead>\n",
       "    <tr style=\"text-align: right;\">\n",
       "      <th></th>\n",
       "      <th>DD</th>\n",
       "      <th>DR</th>\n",
       "      <th>FF</th>\n",
       "      <th>FX</th>\n",
       "      <th>N</th>\n",
       "      <th>P</th>\n",
       "      <th>Q</th>\n",
       "      <th>RG</th>\n",
       "      <th>SQ</th>\n",
       "      <th>T</th>\n",
       "      <th>T10</th>\n",
       "      <th>TD</th>\n",
       "      <th>U</th>\n",
       "      <th>VV</th>\n",
       "      <th>WW</th>\n",
       "    </tr>\n",
       "    <tr>\n",
       "      <th>datetime</th>\n",
       "      <th></th>\n",
       "      <th></th>\n",
       "      <th></th>\n",
       "      <th></th>\n",
       "      <th></th>\n",
       "      <th></th>\n",
       "      <th></th>\n",
       "      <th></th>\n",
       "      <th></th>\n",
       "      <th></th>\n",
       "      <th></th>\n",
       "      <th></th>\n",
       "      <th></th>\n",
       "      <th></th>\n",
       "      <th></th>\n",
       "    </tr>\n",
       "  </thead>\n",
       "  <tbody>\n",
       "    <tr>\n",
       "      <th>2015-01-01 00:20:00</th>\n",
       "      <td>200.700000</td>\n",
       "      <td>0.0</td>\n",
       "      <td>4.970000</td>\n",
       "      <td>6.900</td>\n",
       "      <td>0.0</td>\n",
       "      <td>1033.900000</td>\n",
       "      <td>0.0</td>\n",
       "      <td>0.0</td>\n",
       "      <td>0.0</td>\n",
       "      <td>3.200000</td>\n",
       "      <td>2.300000</td>\n",
       "      <td>1.000000</td>\n",
       "      <td>85.0</td>\n",
       "      <td>3650.000000</td>\n",
       "      <td>10.0</td>\n",
       "    </tr>\n",
       "    <tr>\n",
       "      <th>2015-01-01 00:20:10</th>\n",
       "      <td>200.838333</td>\n",
       "      <td>0.0</td>\n",
       "      <td>4.967833</td>\n",
       "      <td>6.899</td>\n",
       "      <td>0.0</td>\n",
       "      <td>1033.906667</td>\n",
       "      <td>0.0</td>\n",
       "      <td>0.0</td>\n",
       "      <td>0.0</td>\n",
       "      <td>3.198333</td>\n",
       "      <td>2.296667</td>\n",
       "      <td>0.998333</td>\n",
       "      <td>85.0</td>\n",
       "      <td>3641.683333</td>\n",
       "      <td>10.0</td>\n",
       "    </tr>\n",
       "    <tr>\n",
       "      <th>2015-01-01 00:20:20</th>\n",
       "      <td>200.976667</td>\n",
       "      <td>0.0</td>\n",
       "      <td>4.965667</td>\n",
       "      <td>6.898</td>\n",
       "      <td>0.0</td>\n",
       "      <td>1033.913333</td>\n",
       "      <td>0.0</td>\n",
       "      <td>0.0</td>\n",
       "      <td>0.0</td>\n",
       "      <td>3.196667</td>\n",
       "      <td>2.293333</td>\n",
       "      <td>0.996667</td>\n",
       "      <td>85.0</td>\n",
       "      <td>3633.366667</td>\n",
       "      <td>10.0</td>\n",
       "    </tr>\n",
       "    <tr>\n",
       "      <th>2015-01-01 00:20:30</th>\n",
       "      <td>201.115000</td>\n",
       "      <td>0.0</td>\n",
       "      <td>4.963500</td>\n",
       "      <td>6.897</td>\n",
       "      <td>0.0</td>\n",
       "      <td>1033.920000</td>\n",
       "      <td>0.0</td>\n",
       "      <td>0.0</td>\n",
       "      <td>0.0</td>\n",
       "      <td>3.195000</td>\n",
       "      <td>2.290000</td>\n",
       "      <td>0.995000</td>\n",
       "      <td>85.0</td>\n",
       "      <td>3625.050000</td>\n",
       "      <td>10.0</td>\n",
       "    </tr>\n",
       "    <tr>\n",
       "      <th>2015-01-01 00:20:40</th>\n",
       "      <td>201.253333</td>\n",
       "      <td>0.0</td>\n",
       "      <td>4.961333</td>\n",
       "      <td>6.896</td>\n",
       "      <td>0.0</td>\n",
       "      <td>1033.926667</td>\n",
       "      <td>0.0</td>\n",
       "      <td>0.0</td>\n",
       "      <td>0.0</td>\n",
       "      <td>3.193333</td>\n",
       "      <td>2.286667</td>\n",
       "      <td>0.993333</td>\n",
       "      <td>85.0</td>\n",
       "      <td>3616.733333</td>\n",
       "      <td>10.0</td>\n",
       "    </tr>\n",
       "  </tbody>\n",
       "</table>\n",
       "</div>"
      ],
      "text/plain": [
       "                             DD   DR        FF     FX    N            P    Q  \\\n",
       "datetime                                                                       \n",
       "2015-01-01 00:20:00  200.700000  0.0  4.970000  6.900  0.0  1033.900000  0.0   \n",
       "2015-01-01 00:20:10  200.838333  0.0  4.967833  6.899  0.0  1033.906667  0.0   \n",
       "2015-01-01 00:20:20  200.976667  0.0  4.965667  6.898  0.0  1033.913333  0.0   \n",
       "2015-01-01 00:20:30  201.115000  0.0  4.963500  6.897  0.0  1033.920000  0.0   \n",
       "2015-01-01 00:20:40  201.253333  0.0  4.961333  6.896  0.0  1033.926667  0.0   \n",
       "\n",
       "                      RG   SQ         T       T10        TD     U  \\\n",
       "datetime                                                            \n",
       "2015-01-01 00:20:00  0.0  0.0  3.200000  2.300000  1.000000  85.0   \n",
       "2015-01-01 00:20:10  0.0  0.0  3.198333  2.296667  0.998333  85.0   \n",
       "2015-01-01 00:20:20  0.0  0.0  3.196667  2.293333  0.996667  85.0   \n",
       "2015-01-01 00:20:30  0.0  0.0  3.195000  2.290000  0.995000  85.0   \n",
       "2015-01-01 00:20:40  0.0  0.0  3.193333  2.286667  0.993333  85.0   \n",
       "\n",
       "                              VV    WW  \n",
       "datetime                                \n",
       "2015-01-01 00:20:00  3650.000000  10.0  \n",
       "2015-01-01 00:20:10  3641.683333  10.0  \n",
       "2015-01-01 00:20:20  3633.366667  10.0  \n",
       "2015-01-01 00:20:30  3625.050000  10.0  \n",
       "2015-01-01 00:20:40  3616.733333  10.0  "
      ]
     },
     "execution_count": 2,
     "metadata": {},
     "output_type": "execute_result"
    }
   ],
   "source": [
    "weather = pd.read_csv('//datc//opschaler//weather_data//weather.csv', delimiter='\\t', comment='#', parse_dates=['datetime'])\n",
    "weather = weather.set_index(['datetime'])\n",
    "weather.head()"
   ]
  },
  {
   "cell_type": "raw",
   "metadata": {},
   "source": [
    "# Import figure from bokeh.plotting\n",
    "from bokeh.plotting import figure, ColumnDataSource\n",
    "from bokeh.io import output_notebook, show\n",
    "output_notebook()\n",
    "\n",
    "source = ColumnDataSource(weather)"
   ]
  },
  {
   "cell_type": "raw",
   "metadata": {},
   "source": [
    "# Create a figure with x_axis_type=\"datetime\": p\n",
    "p = figure(x_axis_type='datetime', x_axis_label='Date', y_axis_label='Temperature')\n",
    "\n",
    "# Plot date along the x axis and price along the y axis\n",
    "p.circle('T', 'Q', source=source)\n",
    "\n",
    "# Specify the name of the output file and show the result"
   ]
  },
  {
   "cell_type": "code",
   "execution_count": 3,
   "metadata": {},
   "outputs": [],
   "source": [
    "#show(p)"
   ]
  },
  {
   "cell_type": "code",
   "execution_count": null,
   "metadata": {},
   "outputs": [],
   "source": []
  },
  {
   "cell_type": "code",
   "execution_count": 4,
   "metadata": {},
   "outputs": [
    {
     "name": "stdout",
     "output_type": "stream",
     "text": [
      "<class 'pandas.core.frame.DataFrame'>\n",
      "DatetimeIndex: 11655181 entries, 2015-01-01 00:20:00 to 2018-09-10 23:50:00\n",
      "Data columns (total 15 columns):\n",
      "DD     float64\n",
      "DR     float64\n",
      "FF     float64\n",
      "FX     float64\n",
      "N      float64\n",
      "P      float64\n",
      "Q      float64\n",
      "RG     float64\n",
      "SQ     float64\n",
      "T      float64\n",
      "T10    float64\n",
      "TD     float64\n",
      "U      float64\n",
      "VV     float64\n",
      "WW     float64\n",
      "dtypes: float64(15)\n",
      "memory usage: 1.4 GB\n"
     ]
    }
   ],
   "source": [
    "weather.info(memory_usage='deep')"
   ]
  },
  {
   "cell_type": "code",
   "execution_count": 5,
   "metadata": {},
   "outputs": [
    {
     "name": "stdout",
     "output_type": "stream",
     "text": [
      "<class 'pandas.core.frame.DataFrame'>\n",
      "DatetimeIndex: 11655181 entries, 2015-01-01 00:20:00 to 2018-09-10 23:50:00\n",
      "Data columns (total 15 columns):\n",
      "DD     float32\n",
      "DR     float32\n",
      "FF     float32\n",
      "FX     float32\n",
      "N      float32\n",
      "P      float32\n",
      "Q      float32\n",
      "RG     float32\n",
      "SQ     float32\n",
      "T      float32\n",
      "T10    float32\n",
      "TD     float32\n",
      "U      float32\n",
      "VV     float32\n",
      "WW     float32\n",
      "dtypes: float32(15)\n",
      "memory usage: 755.8 MB\n"
     ]
    }
   ],
   "source": [
    "t = weather.astype(dtype=np.float32)\n",
    "t.info()"
   ]
  },
  {
   "cell_type": "code",
   "execution_count": 6,
   "metadata": {},
   "outputs": [],
   "source": [
    "import matplotlib.pyplot as plt\n",
    "import seaborn as sns\n",
    "\n",
    "%matplotlib inline"
   ]
  },
  {
   "cell_type": "code",
   "execution_count": 7,
   "metadata": {
    "scrolled": true
   },
   "outputs": [
    {
     "data": {
      "image/png": "[encoded data removed]",
      "text/plain": [
       "<matplotlib.figure.Figure at 0x7f75a783cfd0>"
      ]
     },
     "metadata": {},
     "output_type": "display_data"
    }
   ],
   "source": [
    "plt.subplot(2, 1, 1)\n",
    "\n",
    "plt.plot(weather.index, weather['T'],'.', color='r', markersize=0.1)\n",
    "plt.xlabel('Date [-]')\n",
    "plt.ylabel('Temperature [°C]')\n",
    "plt.xticks(rotation=45)\n",
    "plt.grid()\n",
    "plt.tight_layout()\n",
    "\n",
    "plt.subplot(2,1, 2)\n",
    "plt.plot(weather.index, weather['Q'],'.', color='r', markersize=0.1)\n",
    "plt.xlabel('Date [-]')\n",
    "plt.ylabel('Global Radiation [J/m$^2$]')\n",
    "plt.xticks(rotation=45)\n",
    "plt.grid()\n",
    "plt.tight_layout()"
   ]
  },
  {
   "cell_type": "code",
   "execution_count": 8,
   "metadata": {},
   "outputs": [],
   "source": [
    "#_ = pd.plotting.scatter_matrix(weather[['T', 'Q']], marker='.')"
   ]
  },
  {
   "cell_type": "code",
   "execution_count": 9,
   "metadata": {},
   "outputs": [
    {
     "data": {
      "image/png": "[encoded data removed]",
      "text/plain": [
       "<matplotlib.figure.Figure at 0x7f757bf3d278>"
      ]
     },
     "metadata": {},
     "output_type": "display_data"
    }
   ],
   "source": [
    "_ = sns.heatmap(t.corr(), square=False, cmap='RdYlGn', annot=False, linewidths=.5)"
   ]
  },
  {
   "cell_type": "code",
   "execution_count": 10,
   "metadata": {},
   "outputs": [
    {
     "name": "stderr",
     "output_type": "stream",
     "text": [
      "/opt/jupyterhub/anaconda/lib/python3.6/site-packages/matplotlib/cbook/deprecation.py:106: MatplotlibDeprecationWarning: The axisbg attribute was deprecated in version 2.0. Use facecolor instead.\n",
      "  warnings.warn(message, mplDeprecation, stacklevel=1)\n"
     ]
    },
    {
     "data": {
      "image/png": "[encoded data removed]",
      "text/plain": [
       "<matplotlib.figure.Figure at 0x7f757ccddb70>"
      ]
     },
     "metadata": {},
     "output_type": "display_data"
    }
   ],
   "source": [
    "_ = sns.clustermap(t.corr(), square=False, cmap='RdYlGn', annot=False, linewidths=.5)"
   ]
  },
  {
   "cell_type": "code",
   "execution_count": null,
   "metadata": {},
   "outputs": [],
   "source": []
  }
 ],
 "metadata": {
  "kernelspec": {
   "display_name": "Python 3",
   "language": "python",
   "name": "python3"
  },
  "language_info": {
   "codemirror_mode": {
    "name": "ipython",
    "version": 3
   },
   "file_extension": ".py",
   "mimetype": "text/x-python",
   "name": "python",
   "nbconvert_exporter": "python",
   "pygments_lexer": "ipython3",
   "version": "3.6.1"
  }
 },
 "nbformat": 4,
 "nbformat_minor": 2
}
