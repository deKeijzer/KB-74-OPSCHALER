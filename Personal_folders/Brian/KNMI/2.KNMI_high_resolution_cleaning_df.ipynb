{
 "cells": [
  {
   "cell_type": "markdown",
   "metadata": {},
   "source": [
    "# Dateframe information"
   ]
  },
  {
   "cell_type": "raw",
   "metadata": {},
   "source": [
    "files: keijzer_hhs_toa_*\n",
    "\n",
    "stn= Rotterdam(344)\n",
    "lcd= locatie \n",
    "datum= JJJJMMDD\n",
    "tijd= in UT (1200 UT = 1300 MET = 1400 MEZT)\n",
    "WW=Weercode automatisch station in code.\n",
    "VV=Horizontaal zicht (10 min. gemiddeld) in meters.\n",
    "P=Luchtdruk op NAP (MSL)  (1 min. gem.) in hPa.\n",
    "Indien een gegeven ontbreekt dan spaties op de betreffende posities.\n",
    "  stn,lcd     ,datum   ,tijd,    WW,    VV,P \n",
    "  344,24t     ,20150101,  10,    10,  4150,1034.0\n",
    "  344,24t     ,20150101,  20,    10,  3650,1033.9\n",
    "  344,24t     ,20150101,  30,    10,  3151,1034.3\n",
    "  344,24t     ,20150101,  40,    10,  5830,1034.1\n",
    "\n",
    "files: keijzer_hhs_toc_*\n",
    "\n",
    "stn= Rotterdam(344)\n",
    "lcd= locatie \n",
    "datum= JJJJMMDD\n",
    "tijd= in UT (1200 UT = 1300 MET = 1400 MEZT)\n",
    "N=Totale bedekkingsgraad bewolking in okta.\n",
    "Indien een gegeven ontbreekt dan spaties op de betreffende posities.\n",
    "  stn,lcd     ,datum   ,tijd,     N\n",
    "  344,24t     ,20150101,  10,     0\n",
    "  344,24t     ,20150101,  20,     0\n",
    "  344,24t     ,20150101,  30,     0\n",
    "  344,24t     ,20150101,  40,     0\n",
    "\n",
    "files: keijzer_hhs_tor_*\n",
    "\n",
    "stn= Rotterdam(344)\n",
    "lcd= locatie \n",
    "datum= JJJJMMDD\n",
    "tijd= in UT (1200 UT = 1300 MET = 1400 MEZT)\n",
    "RG=Neerslag intensiteit  Regenmeter (10 min. gem.) in mm/uur.(delen door 6)\n",
    "DR=Neerslagduur PWS (10 min. som) in seconden.(delen door 600)\n",
    "Indien een gegeven ontbreekt dan spaties op de betreffende posities.\n",
    "  stn,lcd     ,datum   ,tijd,    RG,    DR \n",
    "  344,24t     ,20150101,  10,     0,     0\n",
    "  344,24t     ,20150101,  20,     0,     0\n",
    "  344,24t     ,20150101,  30,     0,     0\n",
    "  344,24t     ,20150101,  40,     0,     0\n",
    "\n",
    "files: keijzer_hhs_tos_*\n",
    "\n",
    "stn= Rotterdam(344)\n",
    "lcd= locatie \n",
    "datum= JJJJMMDD\n",
    "tijd= in UT (1200 UT = 1300 MET = 1400 MEZT)\n",
    "Q=Globale straling 10 min. gemiddeld in W/m2.\n",
    "SQ=Zonneschijnduur in minuten.\n",
    "Indien een gegeven ontbreekt dan spaties op de betreffende posities.\n",
    "  stn,lcd     ,datum   ,tijd,     Q,    SQ \n",
    "  344,24t     ,20150101,  10,     0,     0\n",
    "  344,24t     ,20150101,  20,     0,     0\n",
    "  344,24t     ,20150101,  30,     0,     0\n",
    "  344,24t     ,20150101,  40,     0,     0\n",
    "\n",
    "files: keijzer_hhs_tot_*\n",
    "\n",
    "stn= Rotterdam(344)\n",
    "lcd= locatie \n",
    "datum= JJJJMMDD\n",
    "tijd= in UT (1200 UT = 1300 MET = 1400 MEZT)\n",
    "T10=Minimum Gras temperatuur 10 cm (over 10 min) in graden Celsius.\n",
    "TD=Dauwpunts temperatuur (1 min. gem) in graden Celsius.\n",
    "T=Temperatuur 1 min gemiddeld (1,5 m hoogte) in graden Celsius.\n",
    "U=Relatieve vochtigheid 1,5 m  1min. gemiddeld in procenten.\n",
    "Indien een gegeven ontbreekt dan spaties op de betreffende posities.\n",
    "  stn,lcd     ,datum   ,tijd,   T10,    TD,     T,     U \n",
    "  344,24t     ,20150101,  10,   2.2,   1.3,   3.5,    85\n",
    "  344,24t     ,20150101,  20,   2.3,     1,   3.2,    85\n",
    "  344,24t     ,20150101,  30,   2.1,    .9,   3.1,    85\n",
    "  344,24t     ,20150101,  40,   2.1,     1,   3.4,    84\n",
    "\n",
    "\n",
    "files: keijzer_hhs_tow_*\n",
    "\n",
    "stn= Rotterdam(344)\n",
    "lcd= locatie \n",
    "datum= JJJJMMDD\n",
    "tijd= in UT (1200 UT = 1300 MET = 1400 MEZT)\n",
    "DD=Gemiddelde windrichting in graden.\n",
    "FF=Gemiddelde windsnelheid (op 10 m) in m/s.\n",
    "FX=Maximum windstoot (op 10 m.) in m/s.\n",
    "Indien een gegeven ontbreekt dan spaties op de betreffende posities.\n",
    "  stn,lcd     ,datum   ,tijd,    DD,    FF,    FX\n",
    "  344,24t     ,20150101,  10, 209.8,  5.36,  7.52\n",
    "  344,24t     ,20150101,  20, 200.7,  4.97,   6.9\n",
    "  344,24t     ,20150101,  30,   209,  4.84,  6.84\n",
    "  344,24t     ,20150101,  40, 212.9,  5.03,   6.7"
   ]
  },
  {
   "cell_type": "markdown",
   "metadata": {},
   "source": [
    "## Summary\n",
    "##########\n",
    "#To see how this was created: https://github.com/deKeijzer/KB-74-OPSCHALER/tree/master/Personal_folders/Brian/KNMI\n",
    "#\n",
    "#Column info\n",
    "#\n",
    "#stn= Rotterdam(344)  \n",
    "#lcd= locatie  \n",
    "#datum= JJJJMMDD  \n",
    "#tijd= in UT (1200 UT = 1300 MET = 1400 MEZT)  \n",
    "#WW=Weercode automatisch station in code.  \n",
    "#VV=Horizontaal zicht (10 min. gemiddeld) in meters.  \n",
    "#P=Luchtdruk op NAP (MSL)  (1 min. gem.) in hPa.  \n",
    "#N=Totale bedekkingsgraad bewolking in okta.  \n",
    "#RG=Neerslag intensiteit  Regenmeter (10 min. gem.) in mm/uur.(delen door 6)  \n",
    "#DR=Neerslagduur PWS (10 min. som) in seconden.(delen door 600)  \n",
    "#Q=Globale straling 10 min. gemiddeld in W/m2.  \n",
    "#SQ=Zonneschijnduur in minuten.  \n",
    "#T10=Minimum Gras temperatuur 10 cm (over 10 min) in graden Celsius.  \n",
    "#TD=Dauwpunts temperatuur (1 min. gem) in graden Celsius.  \n",
    "#T=Temperatuur 1 min gemiddeld (1,5 m hoogte) in graden Celsius.  \n",
    "#U=Relatieve vochtigheid 1,5 m  1min. gemiddeld in procenten.  \n",
    "#DD=Gemiddelde windrichting in graden.  \n",
    "#FF=Gemiddelde windsnelheid (op 10 m) in m/s.  \n",
    "#FX=Maximum windstoot (op 10 m.) in m/s.  \n",
    "##########"
   ]
  },
  {
   "cell_type": "markdown",
   "metadata": {},
   "source": [
    "# Reading in the df and having a first look"
   ]
  },
  {
   "cell_type": "code",
   "execution_count": 1,
   "metadata": {},
   "outputs": [
    {
     "data": {
      "text/html": [
       "<div>\n",
       "<style>\n",
       "    .dataframe thead tr:only-child th {\n",
       "        text-align: right;\n",
       "    }\n",
       "\n",
       "    .dataframe thead th {\n",
       "        text-align: left;\n",
       "    }\n",
       "\n",
       "    .dataframe tbody tr th {\n",
       "        vertical-align: top;\n",
       "    }\n",
       "</style>\n",
       "<table border=\"1\" class=\"dataframe\">\n",
       "  <thead>\n",
       "    <tr style=\"text-align: right;\">\n",
       "      <th></th>\n",
       "      <th>DD</th>\n",
       "      <th>DR</th>\n",
       "      <th>FF</th>\n",
       "      <th>FX</th>\n",
       "      <th>N</th>\n",
       "      <th>P</th>\n",
       "      <th>Q</th>\n",
       "      <th>RG</th>\n",
       "      <th>SQ</th>\n",
       "      <th>T</th>\n",
       "      <th>T10</th>\n",
       "      <th>TD</th>\n",
       "      <th>U</th>\n",
       "      <th>VV</th>\n",
       "      <th>WW</th>\n",
       "    </tr>\n",
       "    <tr>\n",
       "      <th>datetime</th>\n",
       "      <th></th>\n",
       "      <th></th>\n",
       "      <th></th>\n",
       "      <th></th>\n",
       "      <th></th>\n",
       "      <th></th>\n",
       "      <th></th>\n",
       "      <th></th>\n",
       "      <th></th>\n",
       "      <th></th>\n",
       "      <th></th>\n",
       "      <th></th>\n",
       "      <th></th>\n",
       "      <th></th>\n",
       "      <th></th>\n",
       "    </tr>\n",
       "  </thead>\n",
       "  <tbody>\n",
       "    <tr>\n",
       "      <th>2015-01-01 00:20:00</th>\n",
       "      <td>200.7</td>\n",
       "      <td>0.0</td>\n",
       "      <td>4.97</td>\n",
       "      <td>6.90</td>\n",
       "      <td>0.0</td>\n",
       "      <td>1033.9</td>\n",
       "      <td>0.0</td>\n",
       "      <td>0.0</td>\n",
       "      <td>0.0</td>\n",
       "      <td>3.2</td>\n",
       "      <td>2.3</td>\n",
       "      <td>1.0</td>\n",
       "      <td>85.0</td>\n",
       "      <td>3650.0</td>\n",
       "      <td>10.0</td>\n",
       "    </tr>\n",
       "    <tr>\n",
       "      <th>2015-01-01 00:30:00</th>\n",
       "      <td>209.0</td>\n",
       "      <td>0.0</td>\n",
       "      <td>4.84</td>\n",
       "      <td>6.84</td>\n",
       "      <td>0.0</td>\n",
       "      <td>1034.3</td>\n",
       "      <td>0.0</td>\n",
       "      <td>0.0</td>\n",
       "      <td>0.0</td>\n",
       "      <td>3.1</td>\n",
       "      <td>2.1</td>\n",
       "      <td>0.9</td>\n",
       "      <td>85.0</td>\n",
       "      <td>3151.0</td>\n",
       "      <td>10.0</td>\n",
       "    </tr>\n",
       "    <tr>\n",
       "      <th>2015-01-01 00:40:00</th>\n",
       "      <td>212.9</td>\n",
       "      <td>0.0</td>\n",
       "      <td>5.03</td>\n",
       "      <td>6.70</td>\n",
       "      <td>0.0</td>\n",
       "      <td>1034.1</td>\n",
       "      <td>0.0</td>\n",
       "      <td>0.0</td>\n",
       "      <td>0.0</td>\n",
       "      <td>3.4</td>\n",
       "      <td>2.1</td>\n",
       "      <td>1.0</td>\n",
       "      <td>84.0</td>\n",
       "      <td>5830.0</td>\n",
       "      <td>10.0</td>\n",
       "    </tr>\n",
       "    <tr>\n",
       "      <th>2015-01-01 00:50:00</th>\n",
       "      <td>213.9</td>\n",
       "      <td>0.0</td>\n",
       "      <td>4.92</td>\n",
       "      <td>7.30</td>\n",
       "      <td>0.0</td>\n",
       "      <td>1034.2</td>\n",
       "      <td>0.0</td>\n",
       "      <td>0.0</td>\n",
       "      <td>0.0</td>\n",
       "      <td>3.2</td>\n",
       "      <td>2.3</td>\n",
       "      <td>0.9</td>\n",
       "      <td>84.0</td>\n",
       "      <td>6900.0</td>\n",
       "      <td>10.0</td>\n",
       "    </tr>\n",
       "    <tr>\n",
       "      <th>2015-01-01 01:00:00</th>\n",
       "      <td>214.6</td>\n",
       "      <td>0.0</td>\n",
       "      <td>5.15</td>\n",
       "      <td>8.29</td>\n",
       "      <td>0.0</td>\n",
       "      <td>1034.3</td>\n",
       "      <td>0.0</td>\n",
       "      <td>0.0</td>\n",
       "      <td>0.0</td>\n",
       "      <td>3.6</td>\n",
       "      <td>2.3</td>\n",
       "      <td>0.9</td>\n",
       "      <td>82.0</td>\n",
       "      <td>8780.0</td>\n",
       "      <td>10.0</td>\n",
       "    </tr>\n",
       "  </tbody>\n",
       "</table>\n",
       "</div>"
      ],
      "text/plain": [
       "                        DD   DR    FF    FX    N       P    Q   RG   SQ    T  \\\n",
       "datetime                                                                       \n",
       "2015-01-01 00:20:00  200.7  0.0  4.97  6.90  0.0  1033.9  0.0  0.0  0.0  3.2   \n",
       "2015-01-01 00:30:00  209.0  0.0  4.84  6.84  0.0  1034.3  0.0  0.0  0.0  3.1   \n",
       "2015-01-01 00:40:00  212.9  0.0  5.03  6.70  0.0  1034.1  0.0  0.0  0.0  3.4   \n",
       "2015-01-01 00:50:00  213.9  0.0  4.92  7.30  0.0  1034.2  0.0  0.0  0.0  3.2   \n",
       "2015-01-01 01:00:00  214.6  0.0  5.15  8.29  0.0  1034.3  0.0  0.0  0.0  3.6   \n",
       "\n",
       "                     T10   TD     U      VV    WW  \n",
       "datetime                                           \n",
       "2015-01-01 00:20:00  2.3  1.0  85.0  3650.0  10.0  \n",
       "2015-01-01 00:30:00  2.1  0.9  85.0  3151.0  10.0  \n",
       "2015-01-01 00:40:00  2.1  1.0  84.0  5830.0  10.0  \n",
       "2015-01-01 00:50:00  2.3  0.9  84.0  6900.0  10.0  \n",
       "2015-01-01 01:00:00  2.3  0.9  82.0  8780.0  10.0  "
      ]
     },
     "execution_count": 1,
     "metadata": {},
     "output_type": "execute_result"
    }
   ],
   "source": [
    "import pandas as pd\n",
    "import numpy as np\n",
    "import matplotlib.pyplot as plt\n",
    "\n",
    "plt.style.use('default')\n",
    "%matplotlib inline\n",
    "\n",
    "df = pd.read_csv('//datc//opschaler//weather_data//knmi_10_min_raw_data//output//df_combined_uncleaned.csv', delimiter='\\t', parse_dates=['datetime'])\n",
    "df = df.set_index(['datetime'])\n",
    "df.head()"
   ]
  },
  {
   "cell_type": "code",
   "execution_count": 6,
   "metadata": {},
   "outputs": [
    {
     "name": "stdout",
     "output_type": "stream",
     "text": [
      "<class 'pandas.core.frame.DataFrame'>\n",
      "DatetimeIndex: 194248 entries, 2015-01-01 00:20:00 to 2018-09-10 23:50:00\n",
      "Data columns (total 15 columns):\n",
      "DD     173429 non-null float64\n",
      "DR     192783 non-null float64\n",
      "FF     173429 non-null float64\n",
      "FX     173429 non-null float64\n",
      "N      192612 non-null float64\n",
      "P      192842 non-null float64\n",
      "Q      192810 non-null float64\n",
      "RG     192843 non-null float64\n",
      "SQ     192825 non-null float64\n",
      "T      192828 non-null float64\n",
      "T10    192811 non-null float64\n",
      "TD     192827 non-null float64\n",
      "U      192827 non-null float64\n",
      "VV     192696 non-null float64\n",
      "WW     192770 non-null float64\n",
      "dtypes: float64(15)\n",
      "memory usage: 23.7 MB\n"
     ]
    }
   ],
   "source": [
    "df.info()"
   ]
  },
  {
   "cell_type": "code",
   "execution_count": 3,
   "metadata": {},
   "outputs": [
    {
     "data": {
      "text/html": [
       "<div>\n",
       "<style>\n",
       "    .dataframe thead tr:only-child th {\n",
       "        text-align: right;\n",
       "    }\n",
       "\n",
       "    .dataframe thead th {\n",
       "        text-align: left;\n",
       "    }\n",
       "\n",
       "    .dataframe tbody tr th {\n",
       "        vertical-align: top;\n",
       "    }\n",
       "</style>\n",
       "<table border=\"1\" class=\"dataframe\">\n",
       "  <thead>\n",
       "    <tr style=\"text-align: right;\">\n",
       "      <th></th>\n",
       "      <th>DD</th>\n",
       "      <th>DR</th>\n",
       "      <th>FF</th>\n",
       "      <th>FX</th>\n",
       "      <th>N</th>\n",
       "      <th>P</th>\n",
       "      <th>Q</th>\n",
       "      <th>RG</th>\n",
       "      <th>SQ</th>\n",
       "      <th>T</th>\n",
       "      <th>T10</th>\n",
       "      <th>TD</th>\n",
       "      <th>U</th>\n",
       "      <th>VV</th>\n",
       "      <th>WW</th>\n",
       "    </tr>\n",
       "  </thead>\n",
       "  <tbody>\n",
       "    <tr>\n",
       "      <th>count</th>\n",
       "      <td>173429.000000</td>\n",
       "      <td>192783.000000</td>\n",
       "      <td>173429.000000</td>\n",
       "      <td>173429.000000</td>\n",
       "      <td>192612.000000</td>\n",
       "      <td>192842.000000</td>\n",
       "      <td>192810.000000</td>\n",
       "      <td>192843.000000</td>\n",
       "      <td>192825.000000</td>\n",
       "      <td>192828.000000</td>\n",
       "      <td>192811.000000</td>\n",
       "      <td>192827.000000</td>\n",
       "      <td>192827.000000</td>\n",
       "      <td>192696.000000</td>\n",
       "      <td>192770.000000</td>\n",
       "    </tr>\n",
       "    <tr>\n",
       "      <th>mean</th>\n",
       "      <td>197.188189</td>\n",
       "      <td>47.269479</td>\n",
       "      <td>4.338159</td>\n",
       "      <td>6.457601</td>\n",
       "      <td>4.527960</td>\n",
       "      <td>1015.983677</td>\n",
       "      <td>132.365824</td>\n",
       "      <td>0.102122</td>\n",
       "      <td>2.243176</td>\n",
       "      <td>11.370061</td>\n",
       "      <td>10.822624</td>\n",
       "      <td>7.783012</td>\n",
       "      <td>79.813211</td>\n",
       "      <td>21756.506925</td>\n",
       "      <td>12.998835</td>\n",
       "    </tr>\n",
       "    <tr>\n",
       "      <th>std</th>\n",
       "      <td>93.612039</td>\n",
       "      <td>148.287690</td>\n",
       "      <td>2.629547</td>\n",
       "      <td>3.855367</td>\n",
       "      <td>3.559168</td>\n",
       "      <td>9.782878</td>\n",
       "      <td>212.635463</td>\n",
       "      <td>0.777468</td>\n",
       "      <td>4.000189</td>\n",
       "      <td>6.645344</td>\n",
       "      <td>7.333862</td>\n",
       "      <td>5.608731</td>\n",
       "      <td>14.298392</td>\n",
       "      <td>13296.464517</td>\n",
       "      <td>20.792795</td>\n",
       "    </tr>\n",
       "    <tr>\n",
       "      <th>min</th>\n",
       "      <td>0.000000</td>\n",
       "      <td>0.000000</td>\n",
       "      <td>0.000000</td>\n",
       "      <td>0.000000</td>\n",
       "      <td>0.000000</td>\n",
       "      <td>967.950000</td>\n",
       "      <td>0.000000</td>\n",
       "      <td>0.000000</td>\n",
       "      <td>0.000000</td>\n",
       "      <td>-8.000000</td>\n",
       "      <td>-10.300000</td>\n",
       "      <td>-14.300000</td>\n",
       "      <td>19.000000</td>\n",
       "      <td>92.000000</td>\n",
       "      <td>0.000000</td>\n",
       "    </tr>\n",
       "    <tr>\n",
       "      <th>25%</th>\n",
       "      <td>120.500000</td>\n",
       "      <td>0.000000</td>\n",
       "      <td>2.390000</td>\n",
       "      <td>3.560000</td>\n",
       "      <td>0.000000</td>\n",
       "      <td>1010.700000</td>\n",
       "      <td>0.000000</td>\n",
       "      <td>0.000000</td>\n",
       "      <td>0.000000</td>\n",
       "      <td>6.400000</td>\n",
       "      <td>5.600000</td>\n",
       "      <td>3.600000</td>\n",
       "      <td>71.000000</td>\n",
       "      <td>10600.000000</td>\n",
       "      <td>2.000000</td>\n",
       "    </tr>\n",
       "    <tr>\n",
       "      <th>50%</th>\n",
       "      <td>213.700000</td>\n",
       "      <td>0.000000</td>\n",
       "      <td>3.910000</td>\n",
       "      <td>5.870000</td>\n",
       "      <td>6.000000</td>\n",
       "      <td>1016.900000</td>\n",
       "      <td>7.000000</td>\n",
       "      <td>0.000000</td>\n",
       "      <td>0.000000</td>\n",
       "      <td>11.200000</td>\n",
       "      <td>10.500000</td>\n",
       "      <td>8.100000</td>\n",
       "      <td>82.000000</td>\n",
       "      <td>20200.000000</td>\n",
       "      <td>3.000000</td>\n",
       "    </tr>\n",
       "    <tr>\n",
       "      <th>75%</th>\n",
       "      <td>262.500000</td>\n",
       "      <td>0.000000</td>\n",
       "      <td>5.770000</td>\n",
       "      <td>8.620000</td>\n",
       "      <td>8.000000</td>\n",
       "      <td>1022.400000</td>\n",
       "      <td>185.000000</td>\n",
       "      <td>0.000000</td>\n",
       "      <td>1.934500</td>\n",
       "      <td>16.300000</td>\n",
       "      <td>15.900000</td>\n",
       "      <td>12.300000</td>\n",
       "      <td>91.000000</td>\n",
       "      <td>31900.000000</td>\n",
       "      <td>10.000000</td>\n",
       "    </tr>\n",
       "    <tr>\n",
       "      <th>max</th>\n",
       "      <td>359.900000</td>\n",
       "      <td>600.000000</td>\n",
       "      <td>21.050000</td>\n",
       "      <td>32.070000</td>\n",
       "      <td>9.000000</td>\n",
       "      <td>1045.500000</td>\n",
       "      <td>1080.000000</td>\n",
       "      <td>78.000000</td>\n",
       "      <td>10.000000</td>\n",
       "      <td>35.900000</td>\n",
       "      <td>37.700000</td>\n",
       "      <td>22.500000</td>\n",
       "      <td>100.000000</td>\n",
       "      <td>49900.000000</td>\n",
       "      <td>91.000000</td>\n",
       "    </tr>\n",
       "  </tbody>\n",
       "</table>\n",
       "</div>"
      ],
      "text/plain": [
       "                  DD             DR             FF             FX  \\\n",
       "count  173429.000000  192783.000000  173429.000000  173429.000000   \n",
       "mean      197.188189      47.269479       4.338159       6.457601   \n",
       "std        93.612039     148.287690       2.629547       3.855367   \n",
       "min         0.000000       0.000000       0.000000       0.000000   \n",
       "25%       120.500000       0.000000       2.390000       3.560000   \n",
       "50%       213.700000       0.000000       3.910000       5.870000   \n",
       "75%       262.500000       0.000000       5.770000       8.620000   \n",
       "max       359.900000     600.000000      21.050000      32.070000   \n",
       "\n",
       "                   N              P              Q             RG  \\\n",
       "count  192612.000000  192842.000000  192810.000000  192843.000000   \n",
       "mean        4.527960    1015.983677     132.365824       0.102122   \n",
       "std         3.559168       9.782878     212.635463       0.777468   \n",
       "min         0.000000     967.950000       0.000000       0.000000   \n",
       "25%         0.000000    1010.700000       0.000000       0.000000   \n",
       "50%         6.000000    1016.900000       7.000000       0.000000   \n",
       "75%         8.000000    1022.400000     185.000000       0.000000   \n",
       "max         9.000000    1045.500000    1080.000000      78.000000   \n",
       "\n",
       "                  SQ              T            T10             TD  \\\n",
       "count  192825.000000  192828.000000  192811.000000  192827.000000   \n",
       "mean        2.243176      11.370061      10.822624       7.783012   \n",
       "std         4.000189       6.645344       7.333862       5.608731   \n",
       "min         0.000000      -8.000000     -10.300000     -14.300000   \n",
       "25%         0.000000       6.400000       5.600000       3.600000   \n",
       "50%         0.000000      11.200000      10.500000       8.100000   \n",
       "75%         1.934500      16.300000      15.900000      12.300000   \n",
       "max        10.000000      35.900000      37.700000      22.500000   \n",
       "\n",
       "                   U             VV             WW  \n",
       "count  192827.000000  192696.000000  192770.000000  \n",
       "mean       79.813211   21756.506925      12.998835  \n",
       "std        14.298392   13296.464517      20.792795  \n",
       "min        19.000000      92.000000       0.000000  \n",
       "25%        71.000000   10600.000000       2.000000  \n",
       "50%        82.000000   20200.000000       3.000000  \n",
       "75%        91.000000   31900.000000      10.000000  \n",
       "max       100.000000   49900.000000      91.000000  "
      ]
     },
     "execution_count": 3,
     "metadata": {},
     "output_type": "execute_result"
    }
   ],
   "source": [
    "df.describe()"
   ]
  },
  {
   "cell_type": "markdown",
   "metadata": {},
   "source": [
    "# Check for missing data"
   ]
  },
  {
   "cell_type": "code",
   "execution_count": 4,
   "metadata": {},
   "outputs": [
    {
     "data": {
      "text/plain": [
       "DD     20819\n",
       "DR      1465\n",
       "FF     20819\n",
       "FX     20819\n",
       "N       1636\n",
       "P       1406\n",
       "Q       1438\n",
       "RG      1405\n",
       "SQ      1423\n",
       "T       1420\n",
       "T10     1437\n",
       "TD      1421\n",
       "U       1421\n",
       "VV      1552\n",
       "WW      1478\n",
       "dtype: int64"
      ]
     },
     "execution_count": 4,
     "metadata": {},
     "output_type": "execute_result"
    }
   ],
   "source": [
    "df.isnull().sum()"
   ]
  },
  {
   "cell_type": "markdown",
   "metadata": {},
   "source": [
    "## Inspect the NaNs further\n",
    "DD,FF,FX have got 'a lot' of NaNs.  \n",
    "\n",
    "DD=Mean wind direction in degrees.  \n",
    "FF=Mean wind speed (at 10 m) in m/s.  \n",
    "FX=Max wind blast (at 10 m.) in m/s.  \n",
    "\n",
    "Later on decide what to do with them?\n",
    "-> Create df_nans which only contains rows with a NaN. Later on inspect the csv file to see how the NaNs are devided."
   ]
  },
  {
   "cell_type": "code",
   "execution_count": 5,
   "metadata": {
    "scrolled": true
   },
   "outputs": [
    {
     "ename": "PermissionError",
     "evalue": "[Errno 13] Permission denied: '//datc//opschaler//weather_data//knmi_10_min_raw_data//output//df_combined_NaNs.csv'",
     "output_type": "error",
     "traceback": [
      "\u001b[0;31m---------------------------------------------------------------------------\u001b[0m",
      "\u001b[0;31mPermissionError\u001b[0m                           Traceback (most recent call last)",
      "\u001b[0;32m<ipython-input-5-6858cd3b239b>\u001b[0m in \u001b[0;36m<module>\u001b[0;34m()\u001b[0m\n\u001b[1;32m      2\u001b[0m \u001b[0mdf_nans\u001b[0m \u001b[0;34m=\u001b[0m \u001b[0mdf\u001b[0m\u001b[0;34m[\u001b[0m\u001b[0mdf\u001b[0m\u001b[0;34m.\u001b[0m\u001b[0misnull\u001b[0m\u001b[0;34m(\u001b[0m\u001b[0;34m)\u001b[0m\u001b[0;34m.\u001b[0m\u001b[0many\u001b[0m\u001b[0;34m(\u001b[0m\u001b[0maxis\u001b[0m\u001b[0;34m=\u001b[0m\u001b[0;36m1\u001b[0m\u001b[0;34m)\u001b[0m\u001b[0;34m]\u001b[0m\u001b[0;34m\u001b[0m\u001b[0m\n\u001b[1;32m      3\u001b[0m \u001b[0;31m# Finally, save the dataframe\u001b[0m\u001b[0;34m\u001b[0m\u001b[0;34m\u001b[0m\u001b[0m\n\u001b[0;32m----> 4\u001b[0;31m \u001b[0mdf_nans\u001b[0m\u001b[0;34m.\u001b[0m\u001b[0mto_csv\u001b[0m\u001b[0;34m(\u001b[0m\u001b[0;34m'//datc//opschaler//weather_data//knmi_10_min_raw_data//output//df_combined_NaNs.csv'\u001b[0m\u001b[0;34m,\u001b[0m \u001b[0msep\u001b[0m\u001b[0;34m=\u001b[0m\u001b[0;34m'\\t'\u001b[0m\u001b[0;34m,\u001b[0m \u001b[0mindex\u001b[0m\u001b[0;34m=\u001b[0m\u001b[0;32mTrue\u001b[0m\u001b[0;34m)\u001b[0m\u001b[0;34m\u001b[0m\u001b[0m\n\u001b[0m\u001b[1;32m      5\u001b[0m \u001b[0mdf_nans\u001b[0m\u001b[0;34m.\u001b[0m\u001b[0mloc\u001b[0m\u001b[0;34m[\u001b[0m\u001b[0;34m'2016-08-01'\u001b[0m\u001b[0;34m:\u001b[0m\u001b[0;34m,\u001b[0m\u001b[0;34m:\u001b[0m\u001b[0;34m]\u001b[0m\u001b[0;34m\u001b[0m\u001b[0m\n",
      "\u001b[0;32m/opt/jupyterhub/anaconda/lib/python3.6/site-packages/pandas/core/frame.py\u001b[0m in \u001b[0;36mto_csv\u001b[0;34m(self, path_or_buf, sep, na_rep, float_format, columns, header, index, index_label, mode, encoding, compression, quoting, quotechar, line_terminator, chunksize, tupleize_cols, date_format, doublequote, escapechar, decimal)\u001b[0m\n\u001b[1;32m   1411\u001b[0m                                      \u001b[0mdoublequote\u001b[0m\u001b[0;34m=\u001b[0m\u001b[0mdoublequote\u001b[0m\u001b[0;34m,\u001b[0m\u001b[0;34m\u001b[0m\u001b[0m\n\u001b[1;32m   1412\u001b[0m                                      escapechar=escapechar, decimal=decimal)\n\u001b[0;32m-> 1413\u001b[0;31m         \u001b[0mformatter\u001b[0m\u001b[0;34m.\u001b[0m\u001b[0msave\u001b[0m\u001b[0;34m(\u001b[0m\u001b[0;34m)\u001b[0m\u001b[0;34m\u001b[0m\u001b[0m\n\u001b[0m\u001b[1;32m   1414\u001b[0m \u001b[0;34m\u001b[0m\u001b[0m\n\u001b[1;32m   1415\u001b[0m         \u001b[0;32mif\u001b[0m \u001b[0mpath_or_buf\u001b[0m \u001b[0;32mis\u001b[0m \u001b[0;32mNone\u001b[0m\u001b[0;34m:\u001b[0m\u001b[0;34m\u001b[0m\u001b[0m\n",
      "\u001b[0;32m/opt/jupyterhub/anaconda/lib/python3.6/site-packages/pandas/io/formats/format.py\u001b[0m in \u001b[0;36msave\u001b[0;34m(self)\u001b[0m\n\u001b[1;32m   1566\u001b[0m             f, handles = _get_handle(self.path_or_buf, self.mode,\n\u001b[1;32m   1567\u001b[0m                                      \u001b[0mencoding\u001b[0m\u001b[0;34m=\u001b[0m\u001b[0mself\u001b[0m\u001b[0;34m.\u001b[0m\u001b[0mencoding\u001b[0m\u001b[0;34m,\u001b[0m\u001b[0;34m\u001b[0m\u001b[0m\n\u001b[0;32m-> 1568\u001b[0;31m                                      compression=self.compression)\n\u001b[0m\u001b[1;32m   1569\u001b[0m             \u001b[0mclose\u001b[0m \u001b[0;34m=\u001b[0m \u001b[0;32mTrue\u001b[0m\u001b[0;34m\u001b[0m\u001b[0m\n\u001b[1;32m   1570\u001b[0m \u001b[0;34m\u001b[0m\u001b[0m\n",
      "\u001b[0;32m/opt/jupyterhub/anaconda/lib/python3.6/site-packages/pandas/io/common.py\u001b[0m in \u001b[0;36m_get_handle\u001b[0;34m(path_or_buf, mode, encoding, compression, memory_map, is_text)\u001b[0m\n\u001b[1;32m    380\u001b[0m         \u001b[0;32melif\u001b[0m \u001b[0mis_text\u001b[0m\u001b[0;34m:\u001b[0m\u001b[0;34m\u001b[0m\u001b[0m\n\u001b[1;32m    381\u001b[0m             \u001b[0;31m# Python 3 and no explicit encoding\u001b[0m\u001b[0;34m\u001b[0m\u001b[0;34m\u001b[0m\u001b[0m\n\u001b[0;32m--> 382\u001b[0;31m             \u001b[0mf\u001b[0m \u001b[0;34m=\u001b[0m \u001b[0mopen\u001b[0m\u001b[0;34m(\u001b[0m\u001b[0mpath_or_buf\u001b[0m\u001b[0;34m,\u001b[0m \u001b[0mmode\u001b[0m\u001b[0;34m,\u001b[0m \u001b[0merrors\u001b[0m\u001b[0;34m=\u001b[0m\u001b[0;34m'replace'\u001b[0m\u001b[0;34m)\u001b[0m\u001b[0;34m\u001b[0m\u001b[0m\n\u001b[0m\u001b[1;32m    383\u001b[0m         \u001b[0;32melse\u001b[0m\u001b[0;34m:\u001b[0m\u001b[0;34m\u001b[0m\u001b[0m\n\u001b[1;32m    384\u001b[0m             \u001b[0;31m# Python 3 and binary mode\u001b[0m\u001b[0;34m\u001b[0m\u001b[0;34m\u001b[0m\u001b[0m\n",
      "\u001b[0;31mPermissionError\u001b[0m: [Errno 13] Permission denied: '//datc//opschaler//weather_data//knmi_10_min_raw_data//output//df_combined_NaNs.csv'"
     ]
    }
   ],
   "source": [
    "# Return a df with all the NaNs\n",
    "df_nans = df[df.isnull().any(axis=1)]\n",
    "# Finally, save the dataframe\n",
    "df_nans.to_csv('//datc//opschaler//weather_data//knmi_10_min_raw_data//output//df_combined_NaNs.csv', sep='\\t', index=True)\n",
    "df_nans.loc['2016-08-01':,:]"
   ]
  },
  {
   "cell_type": "markdown",
   "metadata": {},
   "source": [
    "When inspecting 'df_combined_NaNs.csv' one can see that most NaNs are at 00:00:00. \n",
    "Some others are randomly placed. Interpolation looks fine to do, as a quick tool to deal with the NaNs."
   ]
  },
  {
   "cell_type": "markdown",
   "metadata": {},
   "source": [
    "# Dealing with the NaNs"
   ]
  },
  {
   "cell_type": "code",
   "execution_count": null,
   "metadata": {},
   "outputs": [],
   "source": [
    "df_filled = df.resample('10min').interpolate(method='time')\n",
    "df_filled.describe()"
   ]
  },
  {
   "cell_type": "markdown",
   "metadata": {},
   "source": [
    "# Check for 'major' changes after interpolating"
   ]
  },
  {
   "cell_type": "code",
   "execution_count": null,
   "metadata": {},
   "outputs": [],
   "source": [
    "_ = pd.plotting.scatter_matrix(df[['T', 'Q']], marker='.')"
   ]
  },
  {
   "cell_type": "code",
   "execution_count": null,
   "metadata": {},
   "outputs": [],
   "source": [
    "_ = pd.plotting.scatter_matrix(df_filled[['T', 'Q']], marker='.')"
   ]
  },
  {
   "cell_type": "code",
   "execution_count": null,
   "metadata": {},
   "outputs": [],
   "source": [
    "import seaborn as sns\n",
    "plt.style.use('default') # Keep using the default matplotlib style\n",
    "\n",
    "sns.heatmap(df.corr(), square=False, cmap='RdYlGn')"
   ]
  },
  {
   "cell_type": "code",
   "execution_count": null,
   "metadata": {},
   "outputs": [],
   "source": [
    "sns.heatmap(df_filled.corr(), square=False, cmap='RdYlGn')"
   ]
  },
  {
   "cell_type": "markdown",
   "metadata": {},
   "source": [
    "Conclusion: By eyeballing the interpolated data looks the same as the one with the NaNs. So interpolation might be fine to do?"
   ]
  },
  {
   "cell_type": "code",
   "execution_count": null,
   "metadata": {},
   "outputs": [],
   "source": [
    "df_nans_final = df_filled[df_filled.isnull().any(axis=1)]\n",
    "df_nans_final"
   ]
  },
  {
   "cell_type": "markdown",
   "metadata": {},
   "source": [
    "# Upsample df_filled\n",
    "Upsample from 10 min to a 10 second resolution by interpolation. This is to match the smartmeter resolution. Note that for some columns inteprolation probably is not the best thing to do. But that's a detail to deal with later?"
   ]
  },
  {
   "cell_type": "code",
   "execution_count": null,
   "metadata": {},
   "outputs": [],
   "source": [
    "df_final = df_filled.resample('10s').interpolate(method='time')\n",
    "df_final.info()"
   ]
  },
  {
   "cell_type": "markdown",
   "metadata": {},
   "source": [
    "# Compare df_final with the original df."
   ]
  },
  {
   "cell_type": "code",
   "execution_count": null,
   "metadata": {},
   "outputs": [],
   "source": [
    "df_final.describe()"
   ]
  },
  {
   "cell_type": "code",
   "execution_count": null,
   "metadata": {},
   "outputs": [],
   "source": [
    "df.describe()"
   ]
  },
  {
   "cell_type": "markdown",
   "metadata": {},
   "source": [
    "## Actual difference  between df_final and the original df\n",
    "The difference looks minimal, that's good."
   ]
  },
  {
   "cell_type": "code",
   "execution_count": null,
   "metadata": {},
   "outputs": [],
   "source": [
    "df_final.describe() - df.describe()"
   ]
  },
  {
   "cell_type": "markdown",
   "metadata": {},
   "source": [
    "# Save the final dataframe\n",
    "<b>WARNING: Takes a lot of time!</b>"
   ]
  },
  {
   "cell_type": "code",
   "execution_count": null,
   "metadata": {},
   "outputs": [],
   "source": [
    "\"\"\"\n",
    "Finally, save the dataframe.\n",
    "Manually add the column information (received by mail) as '#' comments in the file.\n",
    "\"\"\"\n",
    "#df_final.to_csv('//datc//opschaler//weather_data//knmi_10_min_raw_data//output//weather.csv', sep='\\t')"
   ]
  },
  {
   "cell_type": "markdown",
   "metadata": {},
   "source": [
    "# EDA"
   ]
  },
  {
   "cell_type": "code",
   "execution_count": null,
   "metadata": {},
   "outputs": [],
   "source": [
    "plt.plot(df_final.index, df_final['T'],'.', markersize=0.1, color='r')\n",
    "plt.xlabel('Date [-]')\n",
    "plt.ylabel('Temperature [°C]')\n",
    "plt.xticks(rotation=45)\n",
    "plt.grid()\n",
    "plt.tight_layout()"
   ]
  },
  {
   "cell_type": "code",
   "execution_count": null,
   "metadata": {},
   "outputs": [],
   "source": [
    "plt.plot(df_final.index, df_final['Q'],'.', color='r', markersize=0.1)\n",
    "plt.xlabel('Date [-]')\n",
    "plt.ylabel('Global Radiation [J/m$^2$]')\n",
    "plt.xticks(rotation=45)\n",
    "plt.grid()\n",
    "plt.tight_layout()"
   ]
  },
  {
   "cell_type": "markdown",
   "metadata": {},
   "source": [
    "# Test read in of saved DF"
   ]
  },
  {
   "cell_type": "code",
   "execution_count": null,
   "metadata": {},
   "outputs": [],
   "source": [
    "# Manually copied the saved df from 'weather_data//knmi_10_min_raw_data//output' to 'weather_data//'\n",
    "\n",
    "weather = pd.read_csv('//datc//opschaler//weather_data//weather.csv', delimiter='\\t', comment='#', parse_dates=['datetime'])\n",
    "weather = weather.set_index(['datetime'])\n",
    "weather.head()"
   ]
  },
  {
   "cell_type": "code",
   "execution_count": null,
   "metadata": {},
   "outputs": [],
   "source": [
    "plt.plot(weather.index, weather['T'],'.', markersize=0.1, color='r')\n",
    "plt.xlabel('Date [-]')\n",
    "plt.ylabel('Temperature [°C]')\n",
    "plt.xticks(rotation=45)\n",
    "plt.grid()\n",
    "plt.tight_layout()"
   ]
  },
  {
   "cell_type": "code",
   "execution_count": null,
   "metadata": {},
   "outputs": [],
   "source": [
    "plt.plot(weather.index, weather['Q'],'.', color='r', markersize=0.1)\n",
    "plt.xlabel('Date [-]')\n",
    "plt.ylabel('Global Radiation [J/m$^2$]')\n",
    "plt.xticks(rotation=45)\n",
    "plt.grid()\n",
    "plt.tight_layout()"
   ]
  },
  {
   "cell_type": "code",
   "execution_count": null,
   "metadata": {},
   "outputs": [],
   "source": []
  }
 ],
 "metadata": {
  "kernelspec": {
   "display_name": "Python 3",
   "language": "python",
   "name": "python3"
  },
  "language_info": {
   "codemirror_mode": {
    "name": "ipython",
    "version": 3
   },
   "file_extension": ".py",
   "mimetype": "text/x-python",
   "name": "python",
   "nbconvert_exporter": "python",
   "pygments_lexer": "ipython3",
   "version": "3.6.1"
  }
 },
 "nbformat": 4,
 "nbformat_minor": 2
}
