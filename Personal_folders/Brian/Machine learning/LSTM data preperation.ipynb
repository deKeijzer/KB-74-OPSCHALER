{
 "cells": [
  {
   "cell_type": "markdown",
   "metadata": {},
   "source": [
    "# Imports"
   ]
  },
  {
   "cell_type": "code",
   "execution_count": 81,
   "metadata": {},
   "outputs": [],
   "source": [
    "import pandas as pd\n",
    "import matplotlib.pyplot as plt\n",
    "import matplotlib as mpl\n",
    "from mpl_toolkits.mplot3d import Axes3D\n",
    "import seaborn as sns\n",
    "import numpy as np\n",
    "from tqdm import tqdm\n",
    "import dask.dataframe as dd\n",
    "\n",
    "from keras.models import Sequential\n",
    "from keras.layers.core import Dense, Activation, Dropout, Flatten\n",
    "from keras.layers.recurrent import LSTM\n",
    "from keras.layers import Dense, Conv1D, MaxPool2D, Flatten, Dropout\n",
    "from keras.callbacks import EarlyStopping, TensorBoard\n",
    "from keras.optimizers import Adam, SGD, Nadam\n",
    "from time import time\n",
    "from livelossplot import PlotLossesKeras\n",
    "from keras.layers.advanced_activations import LeakyReLU, PReLU\n",
    "import tensorflow as tf\n",
    "from keras.utils.training_utils import multi_gpu_model\n",
    "from tensorflow.python.client import device_lib\n",
    "from sklearn.preprocessing import StandardScaler\n",
    "\n",
    "from keijzer import setup_multi_gpus, create_corr_matrix, reduce_memory, resample_df\n",
    "\n",
    "mpl.style.use('default')\n",
    "#%matplotlib notebook\n",
    "%matplotlib inline\n",
    "sns.set()"
   ]
  },
  {
   "cell_type": "code",
   "execution_count": 82,
   "metadata": {},
   "outputs": [
    {
     "name": "stdout",
     "output_type": "stream",
     "text": [
      "Amount of GPUs available: 4\n"
     ]
    }
   ],
   "source": [
    "# Setup multi GPU usage\n",
    "num_gpu = setup_multi_gpus()"
   ]
  },
  {
   "cell_type": "markdown",
   "metadata": {},
   "source": [
    "# Load data"
   ]
  },
  {
   "cell_type": "code",
   "execution_count": 83,
   "metadata": {},
   "outputs": [],
   "source": [
    "df = pd.read_csv('//datc//opschaler//combined_gas_smart_weather_dfs//processed/all_dwellings_combined_hour.csv', delimiter='\\t', parse_dates=['datetime'])\n",
    "df = df.set_index(['datetime'])\n",
    "df = df.dropna()\n",
    "\n",
    "# Get an hour dataframe\n",
    "df = resample_df(df, 'D', combine_all_dwellings=True)\n",
    "\n",
    "#df['year'] = df.index.year\n",
    "#df['month'] = df.index.month\n",
    "#df['day'] = df.index.day\n",
    "#df['hour'] = df.index.hour #create column containing the hour\n",
    "#df['dayofweek'] = df.index.dayofweek\n",
    "#df['season'] = (df.index.month%12 + 3)//3 # Calculates the season (categorical)"
   ]
  },
  {
   "cell_type": "code",
   "execution_count": 84,
   "metadata": {},
   "outputs": [
    {
     "data": {
      "text/html": [
       "<div>\n",
       "<style scoped>\n",
       "    .dataframe tbody tr th:only-of-type {\n",
       "        vertical-align: middle;\n",
       "    }\n",
       "\n",
       "    .dataframe tbody tr th {\n",
       "        vertical-align: top;\n",
       "    }\n",
       "\n",
       "    .dataframe thead th {\n",
       "        text-align: right;\n",
       "    }\n",
       "</style>\n",
       "<table border=\"1\" class=\"dataframe\">\n",
       "  <thead>\n",
       "    <tr style=\"text-align: right;\">\n",
       "      <th></th>\n",
       "      <th>ePower</th>\n",
       "      <th>ePowerReturn</th>\n",
       "      <th>DD</th>\n",
       "      <th>DR</th>\n",
       "      <th>FF</th>\n",
       "      <th>FX</th>\n",
       "      <th>N</th>\n",
       "      <th>P</th>\n",
       "      <th>Q</th>\n",
       "      <th>RG</th>\n",
       "      <th>SQ</th>\n",
       "      <th>T</th>\n",
       "      <th>T10</th>\n",
       "      <th>TD</th>\n",
       "      <th>U</th>\n",
       "      <th>VV</th>\n",
       "      <th>WW</th>\n",
       "      <th>gasPower</th>\n",
       "      <th>dwelling</th>\n",
       "    </tr>\n",
       "    <tr>\n",
       "      <th>datetime</th>\n",
       "      <th></th>\n",
       "      <th></th>\n",
       "      <th></th>\n",
       "      <th></th>\n",
       "      <th></th>\n",
       "      <th></th>\n",
       "      <th></th>\n",
       "      <th></th>\n",
       "      <th></th>\n",
       "      <th></th>\n",
       "      <th></th>\n",
       "      <th></th>\n",
       "      <th></th>\n",
       "      <th></th>\n",
       "      <th></th>\n",
       "      <th></th>\n",
       "      <th></th>\n",
       "      <th></th>\n",
       "      <th></th>\n",
       "    </tr>\n",
       "  </thead>\n",
       "  <tbody>\n",
       "    <tr>\n",
       "      <th>2017-02-22</th>\n",
       "      <td>185.730438</td>\n",
       "      <td>0.0</td>\n",
       "      <td>243.831944</td>\n",
       "      <td>444.333333</td>\n",
       "      <td>8.236250</td>\n",
       "      <td>12.023750</td>\n",
       "      <td>7.388889</td>\n",
       "      <td>1005.554169</td>\n",
       "      <td>30.708333</td>\n",
       "      <td>1.112500</td>\n",
       "      <td>0.000000</td>\n",
       "      <td>9.236111</td>\n",
       "      <td>8.973611</td>\n",
       "      <td>8.283333</td>\n",
       "      <td>93.319444</td>\n",
       "      <td>9911.805583</td>\n",
       "      <td>54.069444</td>\n",
       "      <td>0.256246</td>\n",
       "      <td>All dwellings</td>\n",
       "    </tr>\n",
       "    <tr>\n",
       "      <th>2017-02-23</th>\n",
       "      <td>173.374907</td>\n",
       "      <td>0.0</td>\n",
       "      <td>239.148194</td>\n",
       "      <td>265.916667</td>\n",
       "      <td>11.608438</td>\n",
       "      <td>17.165569</td>\n",
       "      <td>7.612500</td>\n",
       "      <td>995.103327</td>\n",
       "      <td>24.312500</td>\n",
       "      <td>0.461319</td>\n",
       "      <td>0.149737</td>\n",
       "      <td>8.590000</td>\n",
       "      <td>8.163889</td>\n",
       "      <td>6.441597</td>\n",
       "      <td>86.511805</td>\n",
       "      <td>12887.305430</td>\n",
       "      <td>41.759722</td>\n",
       "      <td>0.485713</td>\n",
       "      <td>All dwellings</td>\n",
       "    </tr>\n",
       "    <tr>\n",
       "      <th>2017-02-24</th>\n",
       "      <td>246.992340</td>\n",
       "      <td>0.0</td>\n",
       "      <td>278.093543</td>\n",
       "      <td>45.766667</td>\n",
       "      <td>5.032826</td>\n",
       "      <td>7.413604</td>\n",
       "      <td>4.665972</td>\n",
       "      <td>1011.765422</td>\n",
       "      <td>107.562499</td>\n",
       "      <td>0.054306</td>\n",
       "      <td>2.962413</td>\n",
       "      <td>4.746250</td>\n",
       "      <td>3.968194</td>\n",
       "      <td>2.241736</td>\n",
       "      <td>83.740972</td>\n",
       "      <td>28850.902303</td>\n",
       "      <td>13.997222</td>\n",
       "      <td>0.276830</td>\n",
       "      <td>All dwellings</td>\n",
       "    </tr>\n",
       "    <tr>\n",
       "      <th>2017-02-25</th>\n",
       "      <td>150.144606</td>\n",
       "      <td>0.0</td>\n",
       "      <td>202.265418</td>\n",
       "      <td>14.750000</td>\n",
       "      <td>6.502271</td>\n",
       "      <td>9.496715</td>\n",
       "      <td>6.166667</td>\n",
       "      <td>1016.465144</td>\n",
       "      <td>49.312501</td>\n",
       "      <td>0.002083</td>\n",
       "      <td>0.361316</td>\n",
       "      <td>5.606806</td>\n",
       "      <td>4.653194</td>\n",
       "      <td>2.398264</td>\n",
       "      <td>79.870832</td>\n",
       "      <td>28918.541423</td>\n",
       "      <td>9.211111</td>\n",
       "      <td>0.017166</td>\n",
       "      <td>All dwellings</td>\n",
       "    </tr>\n",
       "    <tr>\n",
       "      <th>2017-02-26</th>\n",
       "      <td>679.171475</td>\n",
       "      <td>0.0</td>\n",
       "      <td>208.350207</td>\n",
       "      <td>82.633334</td>\n",
       "      <td>7.540049</td>\n",
       "      <td>11.129507</td>\n",
       "      <td>7.694444</td>\n",
       "      <td>1008.878202</td>\n",
       "      <td>24.770834</td>\n",
       "      <td>0.098611</td>\n",
       "      <td>0.039483</td>\n",
       "      <td>8.688750</td>\n",
       "      <td>8.264306</td>\n",
       "      <td>6.636181</td>\n",
       "      <td>86.559028</td>\n",
       "      <td>20726.805461</td>\n",
       "      <td>17.117361</td>\n",
       "      <td>0.503001</td>\n",
       "      <td>All dwellings</td>\n",
       "    </tr>\n",
       "  </tbody>\n",
       "</table>\n",
       "</div>"
      ],
      "text/plain": [
       "                ePower  ePowerReturn          DD          DR         FF  \\\n",
       "datetime                                                                  \n",
       "2017-02-22  185.730438           0.0  243.831944  444.333333   8.236250   \n",
       "2017-02-23  173.374907           0.0  239.148194  265.916667  11.608438   \n",
       "2017-02-24  246.992340           0.0  278.093543   45.766667   5.032826   \n",
       "2017-02-25  150.144606           0.0  202.265418   14.750000   6.502271   \n",
       "2017-02-26  679.171475           0.0  208.350207   82.633334   7.540049   \n",
       "\n",
       "                   FX         N            P           Q        RG        SQ  \\\n",
       "datetime                                                                       \n",
       "2017-02-22  12.023750  7.388889  1005.554169   30.708333  1.112500  0.000000   \n",
       "2017-02-23  17.165569  7.612500   995.103327   24.312500  0.461319  0.149737   \n",
       "2017-02-24   7.413604  4.665972  1011.765422  107.562499  0.054306  2.962413   \n",
       "2017-02-25   9.496715  6.166667  1016.465144   49.312501  0.002083  0.361316   \n",
       "2017-02-26  11.129507  7.694444  1008.878202   24.770834  0.098611  0.039483   \n",
       "\n",
       "                   T       T10        TD          U            VV         WW  \\\n",
       "datetime                                                                       \n",
       "2017-02-22  9.236111  8.973611  8.283333  93.319444   9911.805583  54.069444   \n",
       "2017-02-23  8.590000  8.163889  6.441597  86.511805  12887.305430  41.759722   \n",
       "2017-02-24  4.746250  3.968194  2.241736  83.740972  28850.902303  13.997222   \n",
       "2017-02-25  5.606806  4.653194  2.398264  79.870832  28918.541423   9.211111   \n",
       "2017-02-26  8.688750  8.264306  6.636181  86.559028  20726.805461  17.117361   \n",
       "\n",
       "            gasPower       dwelling  \n",
       "datetime                             \n",
       "2017-02-22  0.256246  All dwellings  \n",
       "2017-02-23  0.485713  All dwellings  \n",
       "2017-02-24  0.276830  All dwellings  \n",
       "2017-02-25  0.017166  All dwellings  \n",
       "2017-02-26  0.503001  All dwellings  "
      ]
     },
     "execution_count": 84,
     "metadata": {},
     "output_type": "execute_result"
    }
   ],
   "source": [
    "df.head()"
   ]
  },
  {
   "cell_type": "markdown",
   "metadata": {},
   "source": [
    "# Select data to use"
   ]
  },
  {
   "cell_type": "code",
   "execution_count": 85,
   "metadata": {},
   "outputs": [
    {
     "name": "stdout",
     "output_type": "stream",
     "text": [
      "Saving heatmap\n",
      "Len of data:  278\n"
     ]
    },
    {
     "name": "stderr",
     "output_type": "stream",
     "text": [
      "/opt/jupyterhub/anaconda/lib/python3.6/site-packages/matplotlib/figure.py:459: UserWarning: matplotlib is currently using a non-GUI backend, so cannot show the figure\n",
      "  \"matplotlib is currently using a non-GUI backend, \"\n"
     ]
    },
    {
     "data": {
      "text/plain": [
       "<Figure size 576x396 with 0 Axes>"
      ]
     },
     "metadata": {},
     "output_type": "display_data"
    },
    {
     "data": {
      "image/png": "[encoded data removed]",
      "text/plain": [
       "<Figure size 360x360 with 2 Axes>"
      ]
     },
     "metadata": {},
     "output_type": "display_data"
    }
   ],
   "source": [
    "data = df\n",
    "#data = data.drop(['eMeter', 'eMeterReturn', 'eMeterLow', 'eMeterLowReturn', 'gasMeter', 'dwelling'], axis=1) # Not needed\n",
    "data = data.drop(['dwelling'], axis=1) # Not needed\n",
    "data = data.drop(['WW', 'VV', 'P', 'DR', 'SQ', 'TD', 'T10', 'FX'], axis=1) # Drop weather columns which contain correlated information, keep only one type\n",
    "#sns.heatmap(data.corr(), annot=True)\n",
    "\n",
    "data = data.drop(['ePower', 'ePowerReturn'], axis=1) # Drop if want to predict gasPower\n",
    "\n",
    "# Drop columns with that have a |corr| > 0.1 with T\n",
    "data = data.drop(['U', 'N', 'Q', 'DD'], axis=1)\n",
    "\n",
    "\n",
    "#data = data[data['T'] < 0] #filter data based on condition\n",
    "#data = data.reset_index()\n",
    "magnitude = 1\n",
    "data['gasPower'] = data['gasPower']*10**magnitude\n",
    "data = data.dropna()\n",
    "\n",
    "fig = create_corr_matrix(data, '', True, size=(5,5))\n",
    "\n",
    "print('Len of data: ', len(data))"
   ]
  },
  {
   "cell_type": "code",
   "execution_count": 86,
   "metadata": {},
   "outputs": [
    {
     "data": {
      "text/plain": [
       "(array([736389., 736420., 736450., 736481., 736511., 736542., 736573.,\n",
       "        736603., 736634., 736664.]), <a list of 10 Text xticklabel objects>)"
      ]
     },
     "execution_count": 86,
     "metadata": {},
     "output_type": "execute_result"
    },
    {
     "data": {
      "image/png": "[encoded data removed]",
      "text/plain": [
       "<Figure size 576x396 with 1 Axes>"
      ]
     },
     "metadata": {},
     "output_type": "display_data"
    }
   ],
   "source": [
    "plt.plot(data.index, data['gasPower'], '.-', color='r', label='Original data')\n",
    "plt.xlabel('Temperature [°C]')\n",
    "plt.ylabel(r'gasPower $\\cdot$ 10$^{-%s}$ [m$^3$/h]' % magnitude)\n",
    "plt.legend()\n",
    "plt.xticks(rotation=45)"
   ]
  },
  {
   "cell_type": "markdown",
   "metadata": {},
   "source": [
    "# Preprocessing"
   ]
  },
  {
   "cell_type": "code",
   "execution_count": 87,
   "metadata": {},
   "outputs": [
    {
     "name": "stdout",
     "output_type": "stream",
     "text": [
      "<class 'pandas.core.frame.DataFrame'>\n",
      "DatetimeIndex: 278 entries, 2017-02-22 to 2017-12-01\n",
      "Data columns (total 4 columns):\n",
      "FF          278 non-null float64\n",
      "RG          278 non-null float64\n",
      "T           278 non-null float64\n",
      "gasPower    278 non-null float64\n",
      "dtypes: float64(4)\n",
      "memory usage: 10.9 KB\n"
     ]
    }
   ],
   "source": [
    "data.info()"
   ]
  },
  {
   "cell_type": "code",
   "execution_count": 89,
   "metadata": {},
   "outputs": [
    {
     "data": {
      "text/plain": [
       "(278, 4)"
      ]
     },
     "execution_count": 89,
     "metadata": {},
     "output_type": "execute_result"
    }
   ],
   "source": [
    "data.values.shape"
   ]
  },
  {
   "cell_type": "code",
   "execution_count": 118,
   "metadata": {},
   "outputs": [
    {
     "data": {
      "text/plain": [
       "array([[ 0. ,  2. ,  0.5],\n",
       "       [ 1. ,  4. ,  1. ],\n",
       "       [ 2. ,  6. ,  1.5],\n",
       "       [ 3. ,  8. ,  2. ],\n",
       "       [ 4. , 10. ,  2.5]])"
      ]
     },
     "execution_count": 118,
     "metadata": {},
     "output_type": "execute_result"
    }
   ],
   "source": [
    "# Create some artificial data to easier see what the reshaping is actually doing\n",
    "\n",
    "a = np.arange(0, 50, 1).reshape(50,1) # 1 to 50 in steps of 1\n",
    "b = np.arange(2, 102, 2).reshape(50,1) # 2 to 102 in stepf of 2\n",
    "c = np.arange(0.5, 25.5, 0.5).reshape(50,1) # 0.5 to 25.5 in steps of 0.5\n",
    "\n",
    "data = np.concatenate([a,b,c], axis=1)\n",
    "data[:5] # data is now in the same format as a pandas dataframe with 3 columns"
   ]
  },
  {
   "cell_type": "code",
   "execution_count": 128,
   "metadata": {},
   "outputs": [
    {
     "data": {
      "text/html": [
       "<div>\n",
       "<style scoped>\n",
       "    .dataframe tbody tr th:only-of-type {\n",
       "        vertical-align: middle;\n",
       "    }\n",
       "\n",
       "    .dataframe tbody tr th {\n",
       "        vertical-align: top;\n",
       "    }\n",
       "\n",
       "    .dataframe thead th {\n",
       "        text-align: right;\n",
       "    }\n",
       "</style>\n",
       "<table border=\"1\" class=\"dataframe\">\n",
       "  <thead>\n",
       "    <tr style=\"text-align: right;\">\n",
       "      <th></th>\n",
       "      <th>a</th>\n",
       "      <th>b</th>\n",
       "      <th>c</th>\n",
       "    </tr>\n",
       "  </thead>\n",
       "  <tbody>\n",
       "    <tr>\n",
       "      <th>0</th>\n",
       "      <td>0.0</td>\n",
       "      <td>2.0</td>\n",
       "      <td>0.5</td>\n",
       "    </tr>\n",
       "    <tr>\n",
       "      <th>1</th>\n",
       "      <td>1.0</td>\n",
       "      <td>4.0</td>\n",
       "      <td>1.0</td>\n",
       "    </tr>\n",
       "    <tr>\n",
       "      <th>2</th>\n",
       "      <td>2.0</td>\n",
       "      <td>6.0</td>\n",
       "      <td>1.5</td>\n",
       "    </tr>\n",
       "    <tr>\n",
       "      <th>3</th>\n",
       "      <td>3.0</td>\n",
       "      <td>8.0</td>\n",
       "      <td>2.0</td>\n",
       "    </tr>\n",
       "    <tr>\n",
       "      <th>4</th>\n",
       "      <td>4.0</td>\n",
       "      <td>10.0</td>\n",
       "      <td>2.5</td>\n",
       "    </tr>\n",
       "  </tbody>\n",
       "</table>\n",
       "</div>"
      ],
      "text/plain": [
       "     a     b    c\n",
       "0  0.0   2.0  0.5\n",
       "1  1.0   4.0  1.0\n",
       "2  2.0   6.0  1.5\n",
       "3  3.0   8.0  2.0\n",
       "4  4.0  10.0  2.5"
      ]
     },
     "execution_count": 128,
     "metadata": {},
     "output_type": "execute_result"
    }
   ],
   "source": [
    "# Make it a dataframe, because the original data is still a dataframe at this point\n",
    "data = pd.DataFrame(data, columns=['a', 'b', 'c'])\n",
    "data.head()"
   ]
  },
  {
   "cell_type": "markdown",
   "metadata": {},
   "source": [
    "## Define train size and target column number"
   ]
  },
  {
   "cell_type": "code",
   "execution_count": 129,
   "metadata": {},
   "outputs": [
    {
     "data": {
      "text/plain": [
       "5"
      ]
     },
     "execution_count": 129,
     "metadata": {},
     "output_type": "execute_result"
    }
   ],
   "source": [
    "train_size = 0.1\n",
    "target_column = 2\n",
    "\n",
    "split_idx = int(data.shape[0]*train_size) # index nummer to split at\n",
    "split_idx"
   ]
  },
  {
   "cell_type": "code",
   "execution_count": 163,
   "metadata": {},
   "outputs": [
    {
     "data": {
      "text/plain": [
       "(50, 3)"
      ]
     },
     "execution_count": 163,
     "metadata": {},
     "output_type": "execute_result"
    }
   ],
   "source": [
    "data.values.shape # 278 rows by 4 columns"
   ]
  },
  {
   "cell_type": "markdown",
   "metadata": {},
   "source": [
    "## Split data to X/y train/test"
   ]
  },
  {
   "cell_type": "code",
   "execution_count": 131,
   "metadata": {},
   "outputs": [],
   "source": [
    "# ...train\n",
    "X_train = data.values[:split_idx, :target_column]\n",
    "y_train = data.values[:split_idx, target_column]\n",
    "\n",
    "# ...test\n",
    "X_test = data.values[split_idx:-1, :target_column]\n",
    "y_test = data.values[split_idx:-1, target_column]"
   ]
  },
  {
   "cell_type": "code",
   "execution_count": 228,
   "metadata": {},
   "outputs": [
    {
     "data": {
      "text/plain": [
       "array([[ 0.,  2.],\n",
       "       [ 1.,  4.],\n",
       "       [ 2.,  6.],\n",
       "       [ 3.,  8.],\n",
       "       [ 4., 10.]])"
      ]
     },
     "execution_count": 228,
     "metadata": {},
     "output_type": "execute_result"
    }
   ],
   "source": [
    "X_train"
   ]
  },
  {
   "cell_type": "code",
   "execution_count": 137,
   "metadata": {},
   "outputs": [
    {
     "data": {
      "text/plain": [
       "(5, 2)"
      ]
     },
     "execution_count": 137,
     "metadata": {},
     "output_type": "execute_result"
    }
   ],
   "source": [
    "X_train.shape # 27 rows by 3 columns"
   ]
  },
  {
   "cell_type": "code",
   "execution_count": 138,
   "metadata": {},
   "outputs": [
    {
     "data": {
      "text/plain": [
       "array([0.5, 1. , 1.5, 2. , 2.5])"
      ]
     },
     "execution_count": 138,
     "metadata": {},
     "output_type": "execute_result"
    }
   ],
   "source": [
    "y_train"
   ]
  },
  {
   "cell_type": "code",
   "execution_count": 133,
   "metadata": {},
   "outputs": [
    {
     "data": {
      "text/plain": [
       "(5,)"
      ]
     },
     "execution_count": 133,
     "metadata": {},
     "output_type": "execute_result"
    }
   ],
   "source": [
    "y_train.shape # 27 rows"
   ]
  },
  {
   "cell_type": "code",
   "execution_count": 134,
   "metadata": {},
   "outputs": [
    {
     "data": {
      "text/plain": [
       "array([0.5, 1. , 1.5, 2. , 2.5])"
      ]
     },
     "execution_count": 134,
     "metadata": {},
     "output_type": "execute_result"
    }
   ],
   "source": [
    "y_train"
   ]
  },
  {
   "cell_type": "markdown",
   "metadata": {},
   "source": [
    "## Scale X train/test"
   ]
  },
  {
   "cell_type": "code",
   "execution_count": 34,
   "metadata": {},
   "outputs": [],
   "source": [
    "# Scale the data\n",
    "#scalerX = StandardScaler(with_mean=True, with_std=True).fit(X_train)\n",
    "#X_train = scalerX.transform(X_train)\n",
    "#X_test = scalerX.transform(X_test)"
   ]
  },
  {
   "cell_type": "markdown",
   "metadata": {},
   "source": [
    "## Get the data in LSTM format\n",
    "format = (samples, timesteps, feautures)  \n",
    "or in other words (samples, lookback, feautures)"
   ]
  },
  {
   "cell_type": "code",
   "execution_count": 217,
   "metadata": {},
   "outputs": [],
   "source": [
    "# Define variables\n",
    "look_back = 2 # look back 5 steps\n",
    "n_features = 2 # using 3 feautures\n",
    "output_dim = 1 # to predict 1 y value"
   ]
  },
  {
   "cell_type": "code",
   "execution_count": 218,
   "metadata": {},
   "outputs": [
    {
     "data": {
      "text/plain": [
       "5"
      ]
     },
     "execution_count": 218,
     "metadata": {},
     "output_type": "execute_result"
    }
   ],
   "source": [
    "samples = len(X_train) # total amount of samples\n",
    "samples"
   ]
  },
  {
   "cell_type": "code",
   "execution_count": 219,
   "metadata": {},
   "outputs": [
    {
     "data": {
      "text/plain": [
       "3"
      ]
     },
     "execution_count": 219,
     "metadata": {},
     "output_type": "execute_result"
    }
   ],
   "source": [
    "samples_train = X_train.shape[0] - look_back \n",
    "samples_train"
   ]
  },
  {
   "cell_type": "markdown",
   "metadata": {},
   "source": [
    "## Reshape train data\n",
    "### Visual explanation"
   ]
  },
  {
   "cell_type": "markdown",
   "metadata": {},
   "source": [
    "Let $A$ be a (5 $\\times$ 3) matrix, so 5 rows by 3 columns.  \n",
    "There are 2 feautures $X$, column 1 is feature $X_1$ and column 2 is the second feature $X_2$.  \n",
    "Column 3 is the target $y$.  \n",
    "  \n",
    "This matrix is obtained by `df.values`.  \n",
    "To prepare this for usage with LSTM it has to be split in $X$ and $y$.  \n",
    "Where $X$ is in the shape $(samples, timesteps, features)$.  \n",
    "In which timesteps can be interpreted as 'lookback', i.e. the amount of timesteps being looked back to predict the $y$ value at said point.  "
   ]
  },
  {
   "cell_type": "markdown",
   "metadata": {},
   "source": [
    "For example:"
   ]
  },
  {
   "cell_type": "markdown",
   "metadata": {},
   "source": [
    "$A = \\begin{bmatrix}\n",
    "0 & 2 & 0.5 \\\\ \n",
    "1 & 4 & 1.0 \\\\ \n",
    "2 & 6 & 1.5 \\\\ \n",
    "3 & 8 & 2.0 \\\\ \n",
    "4 & 10 & 2.5 \n",
    "\\end{bmatrix}$"
   ]
  },
  {
   "cell_type": "markdown",
   "metadata": {},
   "source": [
    "Or more precise, in numpy this would be in the form:"
   ]
  },
  {
   "cell_type": "markdown",
   "metadata": {},
   "source": [
    "$ A = \\begin{bmatrix}\n",
    "\\begin{bmatrix} 0 & 2 & 0.5 \\end{bmatrix} \\\\ \n",
    "\\begin{bmatrix} 1 & 4 & 1.0 \\end{bmatrix} \\\\ \n",
    "\\begin{bmatrix} 2 & 6 & 1.5 \\end{bmatrix} \\\\ \n",
    "\\begin{bmatrix} 3 & 8 & 2.0 \\end{bmatrix} \\\\ \n",
    "\\begin{bmatrix} 4 & 10 & 2.5 \\end{bmatrix}\n",
    "\\end{bmatrix}$"
   ]
  },
  {
   "cell_type": "markdown",
   "metadata": {},
   "source": [
    "Next step is to split $A$ into the feature matrix $X$ and the target matrix $y$."
   ]
  },
  {
   "cell_type": "markdown",
   "metadata": {},
   "source": [
    "$ X = \\begin{bmatrix}\n",
    "\\begin{bmatrix} 0 & 2 \\end{bmatrix} \\\\ \n",
    "\\begin{bmatrix} 1 & 4 \\end{bmatrix} \\\\ \n",
    "\\begin{bmatrix} 2 & 6 \\end{bmatrix} \\\\ \n",
    "\\begin{bmatrix} 3 & 8 \\end{bmatrix} \\\\ \n",
    "\\begin{bmatrix} 4 & 10 \\end{bmatrix}\n",
    "\\end{bmatrix}$ $ \\ \\ \\ \\ \\ \\ \\ \\ \\ \\    y = \\begin{bmatrix} 0.5 & 1.0 & 1.5 & 2.0 & 2.5 \\end{bmatrix}$"
   ]
  },
  {
   "cell_type": "markdown",
   "metadata": {},
   "source": [
    "Now say that timesteps (or lookback) equals 2.  \n",
    "So the idea is to use the two previous $X$ values to predict the current $y$ value.   \n",
    "\n",
    "Then $\\begin{bmatrix}\n",
    "\\begin{bmatrix} 0 & 2  \\end{bmatrix} \\\\ \n",
    "\\begin{bmatrix} 1 & 4 \\end{bmatrix}\n",
    "\\end{bmatrix}$ will be used to predict $\\begin{bmatrix}\n",
    "\\begin{bmatrix} 1.5 \\end{bmatrix}\n",
    "\\end{bmatrix}$.  \n",
    "\n",
    "Note that $\\begin{bmatrix}\n",
    "\\begin{bmatrix} 0.5  \\end{bmatrix} \\\\ \n",
    "\\begin{bmatrix} 1.0 \\end{bmatrix}\n",
    "\\end{bmatrix}$ cannot be predicted because the previous two $X$ values for them are not available."
   ]
  },
  {
   "cell_type": "markdown",
   "metadata": {},
   "source": [
    "To get this done $X$ has to be reshaped to size $(samples, timesteps, features)$."
   ]
  },
  {
   "cell_type": "markdown",
   "metadata": {},
   "source": [
    "$ X = \\begin{bmatrix} \\begin{bmatrix}\n",
    "\\begin{bmatrix} 0 & 2 \\end{bmatrix} \\\\\n",
    "\\begin{bmatrix} 1 & 4 \\end{bmatrix}\n",
    "\\end{bmatrix} \\\\ \n",
    "\\begin{bmatrix}\n",
    "\\begin{bmatrix} 1 & 4 \\end{bmatrix} \\\\\n",
    "\\begin{bmatrix} 2 & 6 \\end{bmatrix}\n",
    "\\end{bmatrix} \\\\\n",
    "\\begin{bmatrix}\n",
    "\\begin{bmatrix} 2 & 6 \\end{bmatrix} \\\\\n",
    "\\begin{bmatrix} 3 & 8 \\end{bmatrix}\n",
    "\\end{bmatrix} \\end{bmatrix}  \\ \\ \\ \\ \\ $ to predict  $ \\ \\ \\ \\ \\     y = \\begin{bmatrix} 1.5 & 2.0 & 2.5 \\end{bmatrix}$"
   ]
  },
  {
   "cell_type": "markdown",
   "metadata": {},
   "source": [
    "Finally, $X$ and $y$ can be used as input for a LSTM network."
   ]
  },
  {
   "cell_type": "markdown",
   "metadata": {},
   "source": [
    "### The code"
   ]
  },
  {
   "cell_type": "code",
   "execution_count": 237,
   "metadata": {},
   "outputs": [
    {
     "data": {
      "text/plain": [
       "(3, 2, 2)"
      ]
     },
     "execution_count": 237,
     "metadata": {},
     "output_type": "execute_result"
    }
   ],
   "source": [
    "# Define zeros array with the target shape\n",
    "X_train_reshaped = np.zeros((samples_train, look_back, n_features))\n",
    "y_train_reshaped = np.zeros((samples_train))\n",
    "X_train_reshaped.shape"
   ]
  },
  {
   "cell_type": "code",
   "execution_count": 238,
   "metadata": {},
   "outputs": [
    {
     "data": {
      "text/plain": [
       "array([[[0., 0.],\n",
       "        [0., 0.]],\n",
       "\n",
       "       [[0., 0.],\n",
       "        [0., 0.]],\n",
       "\n",
       "       [[0., 0.],\n",
       "        [0., 0.]]])"
      ]
     },
     "execution_count": 238,
     "metadata": {},
     "output_type": "execute_result"
    }
   ],
   "source": [
    "X_train_reshaped"
   ]
  },
  {
   "cell_type": "code",
   "execution_count": 239,
   "metadata": {},
   "outputs": [],
   "source": [
    "# Create the reshaped train data\n",
    "for i in range(samples_train):\n",
    "    y_position = i + look_back\n",
    "    X_train_reshaped[i] = X_train[i:y_position]\n",
    "    y_train_reshaped[i] = y_train[y_position]"
   ]
  },
  {
   "cell_type": "code",
   "execution_count": 240,
   "metadata": {},
   "outputs": [
    {
     "data": {
      "text/plain": [
       "(3, 2, 2)"
      ]
     },
     "execution_count": 240,
     "metadata": {},
     "output_type": "execute_result"
    }
   ],
   "source": [
    "X_train_reshaped.shape"
   ]
  },
  {
   "cell_type": "code",
   "execution_count": 241,
   "metadata": {},
   "outputs": [
    {
     "data": {
      "text/plain": [
       "array([[[0., 2.],\n",
       "        [1., 4.]],\n",
       "\n",
       "       [[1., 4.],\n",
       "        [2., 6.]],\n",
       "\n",
       "       [[2., 6.],\n",
       "        [3., 8.]]])"
      ]
     },
     "execution_count": 241,
     "metadata": {},
     "output_type": "execute_result"
    }
   ],
   "source": [
    "X_train_reshaped"
   ]
  },
  {
   "cell_type": "code",
   "execution_count": 242,
   "metadata": {},
   "outputs": [
    {
     "data": {
      "text/plain": [
       "array([[ 0.,  2.],\n",
       "       [ 1.,  4.],\n",
       "       [ 2.,  6.],\n",
       "       [ 3.,  8.],\n",
       "       [ 4., 10.]])"
      ]
     },
     "execution_count": 242,
     "metadata": {},
     "output_type": "execute_result"
    }
   ],
   "source": [
    "X_train"
   ]
  },
  {
   "cell_type": "code",
   "execution_count": 243,
   "metadata": {},
   "outputs": [
    {
     "data": {
      "text/plain": [
       "array([0.5, 1. , 1.5, 2. , 2.5])"
      ]
     },
     "execution_count": 243,
     "metadata": {},
     "output_type": "execute_result"
    }
   ],
   "source": [
    "y_train"
   ]
  },
  {
   "cell_type": "code",
   "execution_count": 245,
   "metadata": {},
   "outputs": [],
   "source": [
    "# Do the same for the test data\n",
    "samples_test = X_test.shape[0] - look_back\n",
    "X_test_reshaped = np.zeros((samples_test, look_back, n_features))\n",
    "y_test_reshaped = np.zeros((samples_test))\n",
    "\n",
    "for i in range(samples_test):\n",
    "    y_position = i + look_back\n",
    "    X_test_reshaped[i] = X_test[i:y_position]\n",
    "    y_test_reshaped[i] = y_test[y_position]"
   ]
  },
  {
   "cell_type": "markdown",
   "metadata": {},
   "source": [
    "# Pandas DataFrame to LSTM format\n",
    "Lets make the above as a general function that transforms a dataframe into the required LSTM format."
   ]
  },
  {
   "cell_type": "code",
   "execution_count": 304,
   "metadata": {},
   "outputs": [],
   "source": [
    "def df_to_lstm_format(df, test_size=0.5, look_back=5, target_column='target', scale_X=True):\n",
    "    \"\"\"\n",
    "    Input is a Pandas DataFrame. \n",
    "    Output is a np array in the format of (samples, timesteps, features).\n",
    "    Currently this function only accepts one target variable.\n",
    "\n",
    "    Usage example:\n",
    "\n",
    "    # variables\n",
    "    df = data # should be a pandas dataframe\n",
    "    test_size = 0.5 # percentage to use for training\n",
    "    target_column = 'c' # target column name, all other columns are taken as features\n",
    "    scale_X = False\n",
    "    look_back = 5 # Amount of previous X values to look at when predicting the current y value\n",
    "    \"\"\"\n",
    "    df = df.copy()\n",
    "\n",
    "    # Make sure the target column is the last column in the dataframe\n",
    "    df['target'] = df[target_column] # Make a copy of the target column\n",
    "    df = df.drop(columns=[target_column]) # Drop the original target column\n",
    "    \n",
    "    target_location = df.shape[1] - 1 # column index number of target\n",
    "    split_index = int(df.shape[0]*test_size) # the index at which to split df into train and test\n",
    "    \n",
    "    # ...train\n",
    "    X_train = df.values[:split_index, :target_location]\n",
    "    y_train = df.values[:split_index, target_location]\n",
    "\n",
    "    # ...test\n",
    "    X_test = df.values[split_index:, :target_location] # original is split_index:-1\n",
    "    y_test = df.values[split_index:, target_location] # original is split_index:-1\n",
    "\n",
    "    # Scale the features\n",
    "    if scale_X:\n",
    "        scalerX = StandardScaler(with_mean=True, with_std=True).fit(X_train)\n",
    "        X_train = scalerX.transform(X_train)\n",
    "        X_test = scalerX.transform(X_test)\n",
    "        \n",
    "    # Reshape the arrays\n",
    "    samples = len(X_train) # in this case 217 samples in the training set\n",
    "    num_features = target_location # All columns before the target column are features\n",
    "\n",
    "    samples_train = X_train.shape[0] - look_back\n",
    "    X_train_reshaped = np.zeros((samples_train, look_back, num_features))\n",
    "    y_train_reshaped = np.zeros((samples_train))\n",
    "\n",
    "    for i in range(samples_train):\n",
    "        y_position = i + look_back\n",
    "        X_train_reshaped[i] = X_train[i:y_position]\n",
    "        y_train_reshaped[i] = y_train[y_position]\n",
    "\n",
    "\n",
    "    samples_test = X_test.shape[0] - look_back\n",
    "    X_test_reshaped = np.zeros((samples_test, look_back, num_features))\n",
    "    y_test_reshaped = np.zeros((samples_test))\n",
    "\n",
    "    for i in range(samples_test):\n",
    "        y_position = i + look_back\n",
    "        X_test_reshaped[i] = X_test[i:y_position]\n",
    "        y_test_reshaped[i] = y_test[y_position]\n",
    "    \n",
    "    return X_train_reshaped, y_train_reshaped, X_test_reshaped, y_test_reshaped"
   ]
  },
  {
   "cell_type": "code",
   "execution_count": 318,
   "metadata": {},
   "outputs": [
    {
     "data": {
      "text/html": [
       "<div>\n",
       "<style scoped>\n",
       "    .dataframe tbody tr th:only-of-type {\n",
       "        vertical-align: middle;\n",
       "    }\n",
       "\n",
       "    .dataframe tbody tr th {\n",
       "        vertical-align: top;\n",
       "    }\n",
       "\n",
       "    .dataframe thead th {\n",
       "        text-align: right;\n",
       "    }\n",
       "</style>\n",
       "<table border=\"1\" class=\"dataframe\">\n",
       "  <thead>\n",
       "    <tr style=\"text-align: right;\">\n",
       "      <th></th>\n",
       "      <th>a</th>\n",
       "      <th>b</th>\n",
       "      <th>c</th>\n",
       "    </tr>\n",
       "  </thead>\n",
       "  <tbody>\n",
       "    <tr>\n",
       "      <th>0</th>\n",
       "      <td>0.0</td>\n",
       "      <td>2.0</td>\n",
       "      <td>0.5</td>\n",
       "    </tr>\n",
       "    <tr>\n",
       "      <th>1</th>\n",
       "      <td>1.0</td>\n",
       "      <td>4.0</td>\n",
       "      <td>1.0</td>\n",
       "    </tr>\n",
       "    <tr>\n",
       "      <th>2</th>\n",
       "      <td>2.0</td>\n",
       "      <td>6.0</td>\n",
       "      <td>1.5</td>\n",
       "    </tr>\n",
       "    <tr>\n",
       "      <th>3</th>\n",
       "      <td>3.0</td>\n",
       "      <td>8.0</td>\n",
       "      <td>2.0</td>\n",
       "    </tr>\n",
       "    <tr>\n",
       "      <th>4</th>\n",
       "      <td>4.0</td>\n",
       "      <td>10.0</td>\n",
       "      <td>2.5</td>\n",
       "    </tr>\n",
       "  </tbody>\n",
       "</table>\n",
       "</div>"
      ],
      "text/plain": [
       "     a     b    c\n",
       "0  0.0   2.0  0.5\n",
       "1  1.0   4.0  1.0\n",
       "2  2.0   6.0  1.5\n",
       "3  3.0   8.0  2.0\n",
       "4  4.0  10.0  2.5"
      ]
     },
     "execution_count": 318,
     "metadata": {},
     "output_type": "execute_result"
    }
   ],
   "source": [
    "# Print just to see what we're dealing with\n",
    "data.head()"
   ]
  },
  {
   "cell_type": "code",
   "execution_count": 316,
   "metadata": {},
   "outputs": [],
   "source": [
    "# Test the function\n",
    "X_train, y_train, X_test, y_test = df_to_lstm_format(data, test_size=0.5, look_back=5, target_column='c', scale_X=False)"
   ]
  },
  {
   "cell_type": "code",
   "execution_count": 317,
   "metadata": {},
   "outputs": [
    {
     "data": {
      "text/plain": [
       "(array([[[ 0.,  2.],\n",
       "         [ 1.,  4.],\n",
       "         [ 2.,  6.],\n",
       "         [ 3.,  8.],\n",
       "         [ 4., 10.]],\n",
       " \n",
       "        [[ 1.,  4.],\n",
       "         [ 2.,  6.],\n",
       "         [ 3.,  8.],\n",
       "         [ 4., 10.],\n",
       "         [ 5., 12.]],\n",
       " \n",
       "        [[ 2.,  6.],\n",
       "         [ 3.,  8.],\n",
       "         [ 4., 10.],\n",
       "         [ 5., 12.],\n",
       "         [ 6., 14.]],\n",
       " \n",
       "        [[ 3.,  8.],\n",
       "         [ 4., 10.],\n",
       "         [ 5., 12.],\n",
       "         [ 6., 14.],\n",
       "         [ 7., 16.]],\n",
       " \n",
       "        [[ 4., 10.],\n",
       "         [ 5., 12.],\n",
       "         [ 6., 14.],\n",
       "         [ 7., 16.],\n",
       "         [ 8., 18.]]]), array([3. , 3.5, 4. , 4.5, 5. ]))"
      ]
     },
     "execution_count": 317,
     "metadata": {},
     "output_type": "execute_result"
    }
   ],
   "source": [
    "X_train, y_train"
   ]
  },
  {
   "cell_type": "code",
   "execution_count": null,
   "metadata": {},
   "outputs": [],
   "source": []
  }
 ],
 "metadata": {
  "kernelspec": {
   "display_name": "Python 3",
   "language": "python",
   "name": "python3"
  },
  "language_info": {
   "codemirror_mode": {
    "name": "ipython",
    "version": 3
   },
   "file_extension": ".py",
   "mimetype": "text/x-python",
   "name": "python",
   "nbconvert_exporter": "python",
   "pygments_lexer": "ipython3",
   "version": "3.6.6"
  }
 },
 "nbformat": 4,
 "nbformat_minor": 2
}
