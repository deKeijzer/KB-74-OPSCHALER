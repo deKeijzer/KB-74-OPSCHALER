{
 "cells": [
  {
   "cell_type": "markdown",
   "metadata": {},
   "source": [
    "# Imports"
   ]
  },
  {
   "cell_type": "code",
   "execution_count": 1,
   "metadata": {},
   "outputs": [],
   "source": [
    "import pandas as pd\n",
    "import matplotlib.pyplot as plt\n",
    "import matplotlib as mpl\n",
    "from mpl_toolkits.mplot3d import Axes3D\n",
    "import seaborn as sns\n",
    "import numpy as np\n",
    "from tqdm import tqdm\n",
    "import dask.dataframe as dd\n",
    "\n",
    "mpl.style.use('default')\n",
    "#%matplotlib notebook\n",
    "%matplotlib inline"
   ]
  },
  {
   "cell_type": "markdown",
   "metadata": {},
   "source": [
    "# Tensorflow backend initialization"
   ]
  },
  {
   "cell_type": "code",
   "execution_count": 2,
   "metadata": {},
   "outputs": [
    {
     "name": "stderr",
     "output_type": "stream",
     "text": [
      "/opt/jupyterhub/anaconda/lib/python3.6/importlib/_bootstrap.py:219: RuntimeWarning: compiletime version 3.5 of module 'tensorflow.python.framework.fast_tensor_util' does not match runtime version 3.6\n",
      "  return f(*args, **kwds)\n",
      "Using TensorFlow backend.\n"
     ]
    },
    {
     "name": "stdout",
     "output_type": "stream",
     "text": [
      "Amount of GPUs available: 4\n"
     ]
    }
   ],
   "source": [
    "\"\"\"\n",
    "Setup multi GPU usage\n",
    "\n",
    "Example usage:\n",
    "model = Sequential()\n",
    "...\n",
    "multi_model = multi_gpu_model(model, gpus=num_gpu)\n",
    "multi_model.fit()\n",
    "\n",
    "About memory usage:\n",
    "https://stackoverflow.com/questions/34199233/how-to-prevent-tensorflow-from-allocating-the-totality-of-a-gpu-memory\n",
    "\"\"\"\n",
    "import tensorflow as tf\n",
    "from keras.utils.training_utils import multi_gpu_model\n",
    "from tensorflow.python.client import device_lib\n",
    "\n",
    "# IMPORTANT: Tells tf to not occupy a specific amount of memory\n",
    "from keras.backend.tensorflow_backend import set_session  \n",
    "config = tf.ConfigProto()  \n",
    "config.gpu_options.allow_growth = True  # dynamically grow the memory used on the GPU  \n",
    "sess = tf.Session(config=config)  \n",
    "set_session(sess)  # set this TensorFlow session as the default session for Keras.\n",
    "\n",
    "\n",
    "# getting the number of GPUs \n",
    "def get_available_gpus():\n",
    "   local_device_protos = device_lib.list_local_devices()\n",
    "   return [x.name for x in local_device_protos if x.device_type    == 'GPU']\n",
    "num_gpu = len(get_available_gpus())\n",
    "print('Amount of GPUs available: %s' % num_gpu)"
   ]
  },
  {
   "cell_type": "markdown",
   "metadata": {},
   "source": [
    "# Function definitions"
   ]
  },
  {
   "cell_type": "code",
   "execution_count": 3,
   "metadata": {},
   "outputs": [],
   "source": [
    "def create_corr_matrix(df, dwelling_id, annot):\n",
    "    \"\"\"\n",
    "    Pearson correlation coefficient matrix. \n",
    "    The Pearson correlation coefficient is a measure of the linear correlation between two variables.\n",
    "    \"\"\"\n",
    "    plt.clf()\n",
    "    \n",
    "    corr = df.corr()\n",
    "    mask = np.zeros_like(corr)\n",
    "    mask[np.triu_indices_from(mask)] = True\n",
    "\n",
    "    if annot:\n",
    "        fig, ax = plt.subplots(figsize=(25,25))\n",
    "    else:\n",
    "        fig, ax = plt.subplots()\n",
    "\n",
    "    fig = sns.heatmap(corr, mask=mask, square=False, cmap='RdYlGn', annot=annot, ax=ax, \n",
    "                cbar_kws={'label':'Pearson correlation coefficient [-]'})\n",
    "\n",
    "    fig.set_title('Correlation matrix of dwelling ID: '+dwelling_id)\n",
    "    fig.tick_params(axis='x', rotation=90)\n",
    "    fig.tick_params(axis='y', rotation=0)\n",
    "\n",
    "    fig = fig.get_figure()\n",
    "    fig.tight_layout()\n",
    "    fig.show()\n",
    "    \n",
    "    print('Saving heatmap')\n",
    "    #fig.savefig('//datc//opschaler//EDA//Pearson_corr//' + dwelling_id + '.png', dpi=300)\n",
    "    return fig\n",
    "\n",
    "\n",
    "def reduce_memory(df):\n",
    "    \"\"\"\n",
    "    Reduces memory footprint of the input dataframe.\n",
    "    Changes float64 columns to float32 dtype.\n",
    "    \"\"\"\n",
    "    columns = df.columns\n",
    "    memory_before = df.memory_usage(deep=False).sum() / 2**30 # convert bytes to GB\n",
    "\n",
    "    for column in tqdm(columns):\n",
    "        if df[column].dtype == 'float64':\n",
    "            df[column] = df[column].astype('float32')\n",
    "        \n",
    "    memory_after = df.memory_usage(deep=False).sum() / 2**30 # convert bytes to GB\n",
    "    print('Memory uasge reduced from %.3f GB to %.3f GB' % (memory_before, memory_after))\n",
    "    \n",
    "    return df\n",
    "\n",
    "\n",
    "def resample_df(df, sample_rate):\n",
    "    \"\"\"\n",
    "    Resampled a (un)processed dataframe to the specified sample_rate.\n",
    "    Input is a (un)processed df.\n",
    "    Sample rate must be a string. \n",
    "    For example '1H', '1D', '60s'.\n",
    "    \"\"\"\n",
    "    #if sample_rate == 'H' or '1H':\n",
    "    #    return df\n",
    "    \n",
    "    input_df = df\n",
    "    \n",
    "    to_last = ['gasMeter', 'eMeter'] # resample.last(), take last known value from the columns\n",
    "    \n",
    "    input_df[to_last] = input_df[to_last].resample(sample_rate).last() # take last value most nearby the sample_rate\n",
    "    \n",
    "    input_df = input_df.resample(sample_rate).mean() # resample to rest by mean\n",
    "    \n",
    "    return input_df"
   ]
  },
  {
   "cell_type": "markdown",
   "metadata": {},
   "source": [
    "# Preparing dataframe for preprocessing"
   ]
  },
  {
   "cell_type": "code",
   "execution_count": 4,
   "metadata": {},
   "outputs": [
    {
     "name": "stdout",
     "output_type": "stream",
     "text": [
      "CPU times: user 84.5 ms, sys: 12.2 ms, total: 96.8 ms\n",
      "Wall time: 91.1 ms\n"
     ]
    }
   ],
   "source": [
    "%%time\n",
    "df = pd.read_csv('//datc//opschaler//combined_gas_smart_weather_dfs//processed//P01S01W8655_hour.csv', delimiter='\\t', parse_dates=['datetime'])\n",
    "df = df.set_index(['datetime'])\n",
    "df = df.drop(['dwelling'], axis=1)\n",
    "df = df.dropna()\n",
    "\n",
    "# Get an hour dataframe\n",
    "df = resample_df(df, 'D') # For some reason this makes df equal h, so it changes the df variable being read in at the start...\n",
    "df['year'] = df.index.year\n",
    "df['month'] = df.index.month\n",
    "df['day'] = df.index.day\n",
    "df['hour'] = df.index.hour #create column containing the hour\n",
    "df['dayofweek'] = df.index.dayofweek\n",
    "df['season'] = (df.index.month%12 + 3)//3 # Calculates the season (categorical)"
   ]
  },
  {
   "cell_type": "code",
   "execution_count": 5,
   "metadata": {},
   "outputs": [
    {
     "data": {
      "text/html": [
       "<div>\n",
       "<style scoped>\n",
       "    .dataframe tbody tr th:only-of-type {\n",
       "        vertical-align: middle;\n",
       "    }\n",
       "\n",
       "    .dataframe tbody tr th {\n",
       "        vertical-align: top;\n",
       "    }\n",
       "\n",
       "    .dataframe thead th {\n",
       "        text-align: right;\n",
       "    }\n",
       "</style>\n",
       "<table border=\"1\" class=\"dataframe\">\n",
       "  <thead>\n",
       "    <tr style=\"text-align: right;\">\n",
       "      <th></th>\n",
       "      <th>eMeter</th>\n",
       "      <th>eMeterReturn</th>\n",
       "      <th>eMeterLow</th>\n",
       "      <th>eMeterLowReturn</th>\n",
       "      <th>ePower</th>\n",
       "      <th>ePowerReturn</th>\n",
       "      <th>gasMeter</th>\n",
       "      <th>DD</th>\n",
       "      <th>DR</th>\n",
       "      <th>FF</th>\n",
       "      <th>...</th>\n",
       "      <th>U</th>\n",
       "      <th>VV</th>\n",
       "      <th>WW</th>\n",
       "      <th>gasPower</th>\n",
       "      <th>year</th>\n",
       "      <th>month</th>\n",
       "      <th>day</th>\n",
       "      <th>hour</th>\n",
       "      <th>dayofweek</th>\n",
       "      <th>season</th>\n",
       "    </tr>\n",
       "    <tr>\n",
       "      <th>datetime</th>\n",
       "      <th></th>\n",
       "      <th></th>\n",
       "      <th></th>\n",
       "      <th></th>\n",
       "      <th></th>\n",
       "      <th></th>\n",
       "      <th></th>\n",
       "      <th></th>\n",
       "      <th></th>\n",
       "      <th></th>\n",
       "      <th></th>\n",
       "      <th></th>\n",
       "      <th></th>\n",
       "      <th></th>\n",
       "      <th></th>\n",
       "      <th></th>\n",
       "      <th></th>\n",
       "      <th></th>\n",
       "      <th></th>\n",
       "      <th></th>\n",
       "      <th></th>\n",
       "    </tr>\n",
       "  </thead>\n",
       "  <tbody>\n",
       "    <tr>\n",
       "      <th>2017-04-24</th>\n",
       "      <td>NaN</td>\n",
       "      <td>0.0</td>\n",
       "      <td>736.983000</td>\n",
       "      <td>0.0</td>\n",
       "      <td>450.653377</td>\n",
       "      <td>0.0</td>\n",
       "      <td>NaN</td>\n",
       "      <td>267.907575</td>\n",
       "      <td>151.272727</td>\n",
       "      <td>4.926667</td>\n",
       "      <td>...</td>\n",
       "      <td>75.712122</td>\n",
       "      <td>29368.333455</td>\n",
       "      <td>29.696970</td>\n",
       "      <td>0.201372</td>\n",
       "      <td>2017</td>\n",
       "      <td>4</td>\n",
       "      <td>24</td>\n",
       "      <td>0</td>\n",
       "      <td>0</td>\n",
       "      <td>2</td>\n",
       "    </tr>\n",
       "    <tr>\n",
       "      <th>2017-04-25</th>\n",
       "      <td>790.166</td>\n",
       "      <td>0.0</td>\n",
       "      <td>738.217500</td>\n",
       "      <td>0.0</td>\n",
       "      <td>365.682568</td>\n",
       "      <td>0.0</td>\n",
       "      <td>1597.476</td>\n",
       "      <td>285.680485</td>\n",
       "      <td>47.416667</td>\n",
       "      <td>5.478194</td>\n",
       "      <td>...</td>\n",
       "      <td>72.906250</td>\n",
       "      <td>36118.680500</td>\n",
       "      <td>23.550000</td>\n",
       "      <td>0.150121</td>\n",
       "      <td>2017</td>\n",
       "      <td>4</td>\n",
       "      <td>25</td>\n",
       "      <td>0</td>\n",
       "      <td>1</td>\n",
       "      <td>2</td>\n",
       "    </tr>\n",
       "    <tr>\n",
       "      <th>2017-04-26</th>\n",
       "      <td>796.967</td>\n",
       "      <td>0.0</td>\n",
       "      <td>739.742318</td>\n",
       "      <td>0.0</td>\n",
       "      <td>376.575828</td>\n",
       "      <td>0.0</td>\n",
       "      <td>1605.915</td>\n",
       "      <td>270.914473</td>\n",
       "      <td>42.545455</td>\n",
       "      <td>3.074758</td>\n",
       "      <td>...</td>\n",
       "      <td>76.340910</td>\n",
       "      <td>34583.575909</td>\n",
       "      <td>12.346970</td>\n",
       "      <td>0.375732</td>\n",
       "      <td>2017</td>\n",
       "      <td>4</td>\n",
       "      <td>26</td>\n",
       "      <td>0</td>\n",
       "      <td>2</td>\n",
       "      <td>2</td>\n",
       "    </tr>\n",
       "    <tr>\n",
       "      <th>2017-04-27</th>\n",
       "      <td>796.967</td>\n",
       "      <td>0.0</td>\n",
       "      <td>744.674917</td>\n",
       "      <td>0.0</td>\n",
       "      <td>411.699121</td>\n",
       "      <td>0.0</td>\n",
       "      <td>1611.051</td>\n",
       "      <td>233.521111</td>\n",
       "      <td>17.708333</td>\n",
       "      <td>2.968375</td>\n",
       "      <td>...</td>\n",
       "      <td>76.137500</td>\n",
       "      <td>36665.555917</td>\n",
       "      <td>11.267361</td>\n",
       "      <td>0.213999</td>\n",
       "      <td>2017</td>\n",
       "      <td>4</td>\n",
       "      <td>27</td>\n",
       "      <td>0</td>\n",
       "      <td>3</td>\n",
       "      <td>2</td>\n",
       "    </tr>\n",
       "    <tr>\n",
       "      <th>2017-04-28</th>\n",
       "      <td>807.578</td>\n",
       "      <td>0.0</td>\n",
       "      <td>751.724250</td>\n",
       "      <td>0.0</td>\n",
       "      <td>511.259890</td>\n",
       "      <td>0.0</td>\n",
       "      <td>1617.091</td>\n",
       "      <td>266.770347</td>\n",
       "      <td>58.366667</td>\n",
       "      <td>2.997917</td>\n",
       "      <td>...</td>\n",
       "      <td>78.612500</td>\n",
       "      <td>33648.791625</td>\n",
       "      <td>18.394445</td>\n",
       "      <td>0.251663</td>\n",
       "      <td>2017</td>\n",
       "      <td>4</td>\n",
       "      <td>28</td>\n",
       "      <td>0</td>\n",
       "      <td>4</td>\n",
       "      <td>2</td>\n",
       "    </tr>\n",
       "  </tbody>\n",
       "</table>\n",
       "<p>5 rows × 29 columns</p>\n",
       "</div>"
      ],
      "text/plain": [
       "             eMeter  eMeterReturn   eMeterLow  eMeterLowReturn      ePower  \\\n",
       "datetime                                                                     \n",
       "2017-04-24      NaN           0.0  736.983000              0.0  450.653377   \n",
       "2017-04-25  790.166           0.0  738.217500              0.0  365.682568   \n",
       "2017-04-26  796.967           0.0  739.742318              0.0  376.575828   \n",
       "2017-04-27  796.967           0.0  744.674917              0.0  411.699121   \n",
       "2017-04-28  807.578           0.0  751.724250              0.0  511.259890   \n",
       "\n",
       "            ePowerReturn  gasMeter          DD          DR        FF   ...    \\\n",
       "datetime                                                               ...     \n",
       "2017-04-24           0.0       NaN  267.907575  151.272727  4.926667   ...     \n",
       "2017-04-25           0.0  1597.476  285.680485   47.416667  5.478194   ...     \n",
       "2017-04-26           0.0  1605.915  270.914473   42.545455  3.074758   ...     \n",
       "2017-04-27           0.0  1611.051  233.521111   17.708333  2.968375   ...     \n",
       "2017-04-28           0.0  1617.091  266.770347   58.366667  2.997917   ...     \n",
       "\n",
       "                    U            VV         WW  gasPower  year  month  day  \\\n",
       "datetime                                                                     \n",
       "2017-04-24  75.712122  29368.333455  29.696970  0.201372  2017      4   24   \n",
       "2017-04-25  72.906250  36118.680500  23.550000  0.150121  2017      4   25   \n",
       "2017-04-26  76.340910  34583.575909  12.346970  0.375732  2017      4   26   \n",
       "2017-04-27  76.137500  36665.555917  11.267361  0.213999  2017      4   27   \n",
       "2017-04-28  78.612500  33648.791625  18.394445  0.251663  2017      4   28   \n",
       "\n",
       "            hour  dayofweek  season  \n",
       "datetime                             \n",
       "2017-04-24     0          0       2  \n",
       "2017-04-25     0          1       2  \n",
       "2017-04-26     0          2       2  \n",
       "2017-04-27     0          3       2  \n",
       "2017-04-28     0          4       2  \n",
       "\n",
       "[5 rows x 29 columns]"
      ]
     },
     "execution_count": 5,
     "metadata": {},
     "output_type": "execute_result"
    }
   ],
   "source": [
    "df.head()"
   ]
  },
  {
   "cell_type": "markdown",
   "metadata": {},
   "source": [
    "## Get a proper hourly dataframe"
   ]
  },
  {
   "cell_type": "code",
   "execution_count": 6,
   "metadata": {},
   "outputs": [
    {
     "name": "stdout",
     "output_type": "stream",
     "text": [
      "Saving heatmap\n"
     ]
    },
    {
     "name": "stderr",
     "output_type": "stream",
     "text": [
      "/opt/jupyterhub/anaconda/lib/python3.6/site-packages/matplotlib/figure.py:459: UserWarning: matplotlib is currently using a non-GUI backend, so cannot show the figure\n",
      "  \"matplotlib is currently using a non-GUI backend, \"\n"
     ]
    },
    {
     "data": {
      "text/plain": [
       "<Figure size 432x288 with 0 Axes>"
      ]
     },
     "metadata": {},
     "output_type": "display_data"
    },
    {
     "data": {
      "image/png": "[encoded data removed]",
      "text/plain": [
       "<Figure size 432x288 with 2 Axes>"
      ]
     },
     "metadata": {},
     "output_type": "display_data"
    }
   ],
   "source": [
    "fig = create_corr_matrix(df, '', False)"
   ]
  },
  {
   "cell_type": "markdown",
   "metadata": {},
   "source": [
    "## Select data we want"
   ]
  },
  {
   "cell_type": "code",
   "execution_count": 7,
   "metadata": {},
   "outputs": [
    {
     "data": {
      "text/plain": [
       "<matplotlib.axes._subplots.AxesSubplot at 0x7f691c533898>"
      ]
     },
     "execution_count": 7,
     "metadata": {},
     "output_type": "execute_result"
    },
    {
     "data": {
      "image/png": "[encoded data removed]",
      "text/plain": [
       "<Figure size 432x288 with 2 Axes>"
      ]
     },
     "metadata": {},
     "output_type": "display_data"
    }
   ],
   "source": [
    "data = df\n",
    "data = data.drop(['eMeter', 'eMeterReturn', 'eMeterLow', 'eMeterLowReturn', 'gasMeter'], axis=1) # Not needed\n",
    "data = data.drop(['WW', 'VV', 'P', 'DR', 'SQ', 'TD', 'T10', 'FX'], axis=1) # Drop weather columns which contain correlated information, keep only one type\n",
    "#sns.heatmap(data.corr(), annot=True)\n",
    "\n",
    "data = data.drop(['ePower', 'ePowerReturn'], axis=1) # Drop if want to predict gasPower\n",
    "\n",
    "# Drop columns with that have a |corr| > 0.1 with T\n",
    "data = data.drop(['U', 'N', 'Q', 'DD'], axis=1)\n",
    "\n",
    "\n",
    "#data = data[data['T'] < 0] #filter data based on condition\n",
    "data = data.reset_index()\n",
    "magnitude = 1\n",
    "data['gasPower'] = data['gasPower']*10**magnitude\n",
    "data = data.dropna()\n",
    "\n",
    "sns.heatmap(data.corr(), annot=True)"
   ]
  },
  {
   "cell_type": "markdown",
   "metadata": {},
   "source": [
    "# EDA"
   ]
  },
  {
   "cell_type": "code",
   "execution_count": 8,
   "metadata": {},
   "outputs": [
    {
     "data": {
      "text/plain": [
       "<matplotlib.legend.Legend at 0x7f691c3da198>"
      ]
     },
     "execution_count": 8,
     "metadata": {},
     "output_type": "execute_result"
    },
    {
     "data": {
      "image/png": "[encoded data removed]",
      "text/plain": [
       "<Figure size 432x288 with 1 Axes>"
      ]
     },
     "metadata": {},
     "output_type": "display_data"
    }
   ],
   "source": [
    "plt.plot(data['T'], data['gasPower'], '.', color='r', label='Original data')\n",
    "plt.grid()\n",
    "plt.xlabel('Temperature [°C]')\n",
    "plt.ylabel(r'gasPower $\\cdot$ 10$^{-%s}$ [m$^3$/h]' % magnitude)\n",
    "plt.legend()"
   ]
  },
  {
   "cell_type": "code",
   "execution_count": 9,
   "metadata": {},
   "outputs": [],
   "source": [
    "#sns.pairplot(data)"
   ]
  },
  {
   "cell_type": "markdown",
   "metadata": {},
   "source": [
    "# Preprocessing"
   ]
  },
  {
   "cell_type": "code",
   "execution_count": 10,
   "metadata": {},
   "outputs": [],
   "source": [
    "def scale_reshape(X_train, X_test, y_train, y_test):\n",
    "    \"\"\"\n",
    "    Input: X and y as pandas dataframes.\n",
    "    Scales and reshapes X and y. \n",
    "    Output: X and y as numpy ndarrays.\n",
    "    \"\"\"\n",
    "    \n",
    "    # Scale the data\n",
    "    scalerX = StandardScaler(with_mean=True, with_std=True).fit(X_train)\n",
    "    #scalery = StandardScaler(with_mean=True, with_std=True).fit(y_train)\n",
    "\n",
    "    # Normalize X arrrays\n",
    "    X_train = scalerX.transform(X_train)\n",
    "    X_test = scalerX.transform(X_test)\n",
    "\n",
    "    # Get test data in the correct shape and format\n",
    "    y_train = np.array(y_train).reshape(-1,1) #reshape if y_train is not scaled, transforming should not be needed\n",
    "    y_test = np.array(y_test).reshape(-1,1)\n",
    "    \n",
    "    return X_train, X_test, y_train, y_test"
   ]
  },
  {
   "cell_type": "code",
   "execution_count": 11,
   "metadata": {},
   "outputs": [
    {
     "name": "stdout",
     "output_type": "stream",
     "text": [
      "X columns final: ['FF', 'RG', 'T', 'year', 'month', 'day', 'hour', 'dayofweek', 'season']\n"
     ]
    }
   ],
   "source": [
    "from sklearn.preprocessing import MinMaxScaler, StandardScaler\n",
    "from sklearn.model_selection import train_test_split, TimeSeriesSplit\n",
    "\n",
    "seed = 42\n",
    "\n",
    "X = data.drop(['gasPower', 'datetime'], axis=1)\n",
    "print('X columns final: %s' % list(X.columns))\n",
    "\n",
    "#sns.heatmap(X.corr(), annot=True)\n",
    "\n",
    "y = data[['gasPower']]\n",
    "\n",
    "# Get it in the right shape\n",
    "X = np.array(X).reshape(-1, len(X.columns))\n",
    "y = np.array(y).reshape(-1, len(y.columns))"
   ]
  },
  {
   "cell_type": "markdown",
   "metadata": {},
   "source": [
    "# Keras"
   ]
  },
  {
   "cell_type": "code",
   "execution_count": 12,
   "metadata": {},
   "outputs": [],
   "source": [
    "from keras.models import Sequential\n",
    "from keras.layers.core import Dense, Activation, Dropout, Flatten\n",
    "from keras.layers.recurrent import LSTM\n",
    "from keras.layers import Dense, Conv1D, MaxPool2D, Flatten, Dropout\n",
    "from keras.callbacks import EarlyStopping, TensorBoard\n",
    "from keras.optimizers import Adam, SGD, Nadam\n",
    "from time import time\n",
    "from livelossplot import PlotLossesKeras"
   ]
  },
  {
   "cell_type": "code",
   "execution_count": 13,
   "metadata": {},
   "outputs": [],
   "source": [
    "def make_model():\n",
    "    # Create model\n",
    "    model = Sequential()\n",
    "\n",
    "    activation = 'relu'\n",
    "    #19\n",
    "    model.add(Dense(16, input_shape=(X_train.shape[1],), kernel_initializer='normal'))\n",
    "    model.add(Activation(activation))\n",
    "    model.add(Dropout(0.5, seed=seed)) \n",
    "\n",
    "    # Dropout: 1 wont ''drop'' any data, 0.5 will drop half of the data\n",
    "    # https://www.quora.com/How-does-the-dropout-method-work-in-deep-learning-And-why-is-it-claimed-to-be-an-effective-trick-to-improve-your-network\n",
    "    N = 256 #45\n",
    "\n",
    "    for i in range(4):\n",
    "        model.add(Dense(N-i*4, kernel_initializer='normal'))\n",
    "        model.add(Activation(activation))\n",
    "        model.add(Dropout(0.5, seed=seed))\n",
    "\n",
    "\n",
    "    model.add(Dense(1, kernel_initializer='normal'))\n",
    "    model.add(Activation('linear'))\n",
    "    return model\n",
    "\n",
    "\n",
    "def compile_fit(model):\n",
    "    # Compile and fit\n",
    "    multi_model = multi_gpu_model(model, gpus=num_gpu)\n",
    "\n",
    "    lr = 0.55\n",
    "    epochs = 100\n",
    "    #decay_rate = 1*10**(-8)\n",
    "    decay_rate = 0\n",
    "    sgd = SGD(lr=lr, momentum=0.9, decay=decay_rate, nesterov=True) # sgd in general yields better results, but needs a lot of tweeking and is slower\n",
    "\n",
    "    # compiling the sequential model\n",
    "    #multi_model.compile(loss='mean_squared_error', optimizer='adam')\n",
    "    multi_model.compile(loss='mean_squared_error', metrics=['mse', abs_percentage_error], optimizer='adam')\n",
    "\n",
    "    early_stopping_monitor = EarlyStopping(patience=3)\n",
    "\n",
    "    tensorboard = TensorBoard(log_dir=\"/home/16011015/notebooks/logs/{}\".format(time()))\n",
    "\n",
    "    # training the model and saving metrics in history\n",
    "    multi_model.fit(X_train, y_train, batch_size=int(len(X_train)), \n",
    "                    epochs=epochs, verbose=2, validation_data=(X_test, y_test), \n",
    "                    callbacks=[early_stopping_monitor, PlotLossesKeras(), tensorboard])\n",
    "    return multi_model"
   ]
  },
  {
   "cell_type": "markdown",
   "metadata": {},
   "source": [
    "# Compile and fit "
   ]
  },
  {
   "cell_type": "code",
   "execution_count": null,
   "metadata": {},
   "outputs": [],
   "source": [
    "def abs_percentage_error(y_true, y_pred):\n",
    "    import keras.backend as K\n",
    "    \"\"\"\n",
    "    Returns the absolute value of the difference between y_true and y_pred (in percentage).\n",
    "    For examples on losses see:\n",
    "    https://github.com/keras-team/keras/blob/master/keras/losses.py\n",
    "    \"\"\"\n",
    "    return (K.abs(y_true - y_pred) / K.abs(y_pred)) * 100"
   ]
  },
  {
   "cell_type": "code",
   "execution_count": null,
   "metadata": {},
   "outputs": [
    {
     "data": {
      "image/png": "[encoded data removed]",
      "text/plain": [
       "<Figure size 864x864 with 3 Axes>"
      ]
     },
     "metadata": {},
     "output_type": "display_data"
    },
    {
     "name": "stdout",
     "output_type": "stream",
     "text": [
      " - 0s - loss: 0.2284 - mean_squared_error: 0.2284 - abs_percentage_error: 193.2771 - val_loss: 0.3027 - val_mean_squared_error: 0.3027 - val_abs_percentage_error: 244.4183\n",
      "Epoch 12/100\n"
     ]
    }
   ],
   "source": [
    "scores = []\n",
    "y_tests = []\n",
    "y_preds = []\n",
    "test_indices = []\n",
    "\n",
    "n = 26\n",
    "\n",
    "for train_index, test_index in TimeSeriesSplit(n_splits=n, max_train_size=1*7).split(X):\n",
    "    # Train on one month, try to predict 1 week ahead, n_splits=26, max_train_size=4*7\n",
    "    print(\"Train: %s \\t Test: %s\" % (train_index, test_index))\n",
    "    X_train, X_test = X[train_index], X[test_index]\n",
    "    y_train, y_test = y[train_index], y[test_index]\n",
    "    \n",
    "    #Scale reshape\n",
    "    X_train, X_test, y_train, y_test = scale_reshape(X_train, X_test, y_train, y_test)\n",
    "    \n",
    "    # Create the keras model\n",
    "    model = make_model()\n",
    "    \n",
    "    # Compile and fit the model\n",
    "    model = compile_fit(model)\n",
    "    \n",
    "    scores.append(model.evaluate(X_test, y_test))\n",
    "    y_tests.append(y_test)\n",
    "    y_preds.append(model.predict(X_test))\n",
    "    test_indices.append(test_index)"
   ]
  },
  {
   "cell_type": "code",
   "execution_count": null,
   "metadata": {},
   "outputs": [],
   "source": [
    "# Create a dataframe containing the model scores\n",
    "df_scores = pd.DataFrame(scores, columns=['loss', 'mse', 'abs percentage error'])\n",
    "df_scores"
   ]
  },
  {
   "cell_type": "code",
   "execution_count": null,
   "metadata": {},
   "outputs": [],
   "source": [
    "y_t = np.vstack(y_tests) # List of ndarrays to one ndarray\n",
    "y_p = np.vstack(y_preds)\n",
    "\n",
    "# Get the x values for y predictions\n",
    "start = np.concatenate(test_indices)[0] # start y pred index\n",
    "stop = np.concatenate(test_indices)[-1] # stop y pred index\n",
    "x = data['datetime'][start:stop+1] # series of dates from start to stop+1\n",
    "\n",
    "plt.figure(figsize=(20,10))\n",
    "plt.plot(x, y_t, '.-', color='r')\n",
    "plt.plot(x, y_p, '.-', color='b')\n",
    "\n",
    "plt.plot(data['datetime'][:start], data['gasPower'][:start], '.-', color='seagreen', label='Real values') # shows training data\n",
    "plt.plot(x, y_t, '.-', color='firebrick', label='Real values', alpha=1)\n",
    "plt.plot(x, y_p, '.-', color='royalblue', label='Predicted values', alpha=1)\n",
    "\n",
    "plt.xlabel('datetime [-]')\n",
    "plt.ylabel(r'gasPower $\\cdot$ 10$^{-%s}$ [m$^3$/h]' % magnitude)\n",
    "plt.xticks(rotation=45)\n",
    "plt.legend()\n",
    "plt.grid()\n",
    "\n",
    "mse_mean = df_scores['mse'].mean()\n",
    "mse_std = df_scores['mse'].std()\n",
    "percentage_mean = df_scores['abs percentage error'].mean()\n",
    "percentage_std = df_scores['abs percentage error'].std()\n",
    "\n",
    "plt.title('Deep neural network regression results with gasPower as the target \\n \\\n",
    "          MSE$_{mean}$ = %.2f \\t MSE$_{std}$ = %.2f \\n \\\n",
    "          Error in percentage:    mean = %.2f [%%]    std = %.2f [%%]' % (mse_mean, mse_std, percentage_mean, percentage_std), fontsize = 14)\n",
    "plt.tight_layout()\n",
    "\n",
    "#plt.savefig('figures/8655 result.png', dpi=1000)\n",
    "print('FINISHED')"
   ]
  },
  {
   "cell_type": "markdown",
   "metadata": {},
   "source": [
    "# Plot results"
   ]
  },
  {
   "cell_type": "code",
   "execution_count": null,
   "metadata": {},
   "outputs": [],
   "source": [
    "# X_test is already transformed\n",
    "x_pred = X_test\n",
    "#x_pred = scalerX.transform(x_pred)\n",
    "\n",
    "y_pred = model.predict(x_pred)\n",
    "\n",
    "\n",
    "print('x_pred scaled-> \\t shape: %s \\t var: %.1E \\t mean: %.1E \\t std: %.1E'% (x_pred.shape, x_pred.var(), x_pred.mean(), x_pred.std()))\n",
    "\n",
    "x_pred = scalerX.inverse_transform(x_pred)\n",
    "print('x_pred inverse-> \\t shape: %s \\t var: %.1E \\t mean: %.1E \\t std: %.1E'% (x_pred.shape, x_pred.var(), x_pred.mean(), x_pred.std()))\n",
    "\n",
    "# select test variables\n",
    "FF = x_pred[:,0]\n",
    "RG = x_pred[:,1]\n",
    "T = x_pred[:,2]\n",
    "\n",
    "fig, axarr = plt.subplots(2,2)\n",
    "\n",
    "\n",
    "axarr[0, 0].plot(data['T'], data['gasPower'], '.', color='r', alpha=0.3, label='Real')\n",
    "axarr[0, 0].plot(T, y_test, 'v', color='g', label='X_test, y_test', alpha=0.3)\n",
    "axarr[0, 0].plot(T, y_pred, 'x', color='b', label='Predicted', alpha=0.3)\n",
    "axarr[0, 0].grid()\n",
    "axarr[0, 0].set_xlabel('Temperature at 1,5 m $T$ [$\\degree$C] \\n (1 min mean)')\n",
    "axarr[0, 0].set_ylabel(r'gasPower $\\cdot$ 10$^{-%s}$ [m$^3$/h]' % magnitude)\n",
    "\n",
    "axarr[0, 1].plot(data['RG'], data['gasPower'], '.', color='r', alpha=0.3, label='Real')\n",
    "axarr[0, 1].plot(RG, y_test, 'v', color='g', alpha=0.3, label='X_test, y_test')\n",
    "axarr[0, 1].plot(RG, y_pred, 'x', color='b', alpha=0.3, label='Predicted')\n",
    "axarr[0, 1].grid()\n",
    "axarr[0, 1].set_xlabel('Rain intensity $RG$ [mm/h] \\n (10 min mean)')\n",
    "axarr[0, 1].set_ylabel(r'gasPower $\\cdot$ 10$^{-%s}$ [m$^3$/h]' % magnitude)\n",
    "\n",
    "\n",
    "axarr[1, 0].plot(data['FF'], data['gasPower'], '.', color='r', alpha=0.3, label='All real data')\n",
    "axarr[1, 0].plot(FF, y_test, 'v', color='g', label='X_test, y_test', alpha=0.3)\n",
    "axarr[1, 0].plot(FF, y_pred, 'x', color='b', label='X_test, y_predicted', alpha=0.3)\n",
    "axarr[1, 0].grid()\n",
    "axarr[1, 0].set_xlabel('Wind speed $FF$ [m/s] \\n (10 min mean)')\n",
    "axarr[1, 0].set_ylabel(r'gasPower $\\cdot$ 10$^{-%s}$ [m$^3$/h]' % magnitude)\n",
    "\n",
    "fig.delaxes(axarr[1, 1])\n",
    "\n",
    "mse = multi_model.evaluate(X_test, y_test)[0]\n",
    "mse_val = str(mse)[:4]\n",
    "mse_power = str(mse)[-1:]\n",
    "\n",
    "#fig.suptitle('Deep neural network regression results with gasPower as the target \\n Validation MSE = %s $\\cdot$ 10$^{-%s}$' % (mse_val, mse_power), fontsize = 14)\n",
    "fig.suptitle('Deep neural network regression results with gasPower as the target \\n Validation MSE = %s' % (mse_val), fontsize = 14)\n",
    "\n",
    "fig.set_size_inches(10,10)\n",
    "fig.tight_layout()\n",
    "\n",
    "fig.subplots_adjust(top=0.9) # Adjust title spacing at the top\n",
    "\n",
    "axarr[1, 0].legend(loc='lower left', bbox_to_anchor= (1.25, 0.3), borderaxespad=0, frameon=False, fontsize=14, markerscale=3)"
   ]
  },
  {
   "cell_type": "code",
   "execution_count": null,
   "metadata": {},
   "outputs": [],
   "source": [
    "fig.savefig('DDN last result.png', dpi=1200)"
   ]
  },
  {
   "cell_type": "code",
   "execution_count": null,
   "metadata": {},
   "outputs": [],
   "source": [
    "# Complete plot, commented out\n",
    "# X_test is already transformed\n",
    "x_pred = X_test\n",
    "#x_pred = scalerX.transform(x_pred)\n",
    "\n",
    "y_pred = model.predict(x_pred)\n",
    "\n",
    "\n",
    "print('x_pred scaled-> \\t shape: %s \\t var: %.1E \\t mean: %.1E \\t std: %.1E'% (x_pred.shape, x_pred.var(), x_pred.mean(), x_pred.std()))\n",
    "\n",
    "x_pred = scalerX.inverse_transform(x_pred)\n",
    "print('x_pred inverse-> \\t shape: %s \\t var: %.1E \\t mean: %.1E \\t std: %.1E'% (x_pred.shape, x_pred.var(), x_pred.mean(), x_pred.std()))\n",
    "\n",
    "# select test variables\n",
    "DD = x_pred[:,0]\n",
    "FF = x_pred[:,1]\n",
    "N = x_pred[:,2]\n",
    "Q = x_pred[:,3]\n",
    "RG = x_pred[:,4]\n",
    "T = x_pred[:,5]\n",
    "U = x_pred[:,6]\n",
    "\n",
    "fig, axarr = plt.subplots(3,3)\n",
    "\n",
    "axarr[0, 0].plot(data['DD'], data['gasPower'], '.', color='r', alpha=0.3, label='All real data')\n",
    "axarr[0, 0].plot(DD, y_test, 'v', color='g', label='X_test, y_test', alpha=0.3)\n",
    "axarr[0, 0].plot(DD, y_pred, 'x', color='b', label='X_test, y_predict', alpha=0.3)\n",
    "axarr[0, 0].grid()\n",
    "axarr[0, 0].set_xlabel('Wind direction $DD$ [$\\degree$] \\n (10 min mean)')\n",
    "axarr[0, 0].set_ylabel(r'gasPower $\\cdot$ 10$^{-2}$ [m$^3$/h]')\n",
    "\n",
    "axarr[0, 1].plot(data['N'], data['gasPower'], '.', color='r', alpha=0.3, label='Real')\n",
    "axarr[0, 1].plot(N, y_test, 'v', color='g', label='X_test, y_test', alpha=0.3)\n",
    "axarr[0, 1].plot(N, y_pred, 'x', color='b', label='Predicted', alpha=0.3)\n",
    "axarr[0, 1].grid()\n",
    "axarr[0, 1].set_xlabel('Total cloud coverage $N$ [octa]')\n",
    "axarr[0, 1].set_ylabel(r'gasPower $\\cdot$ 10$^{-2}$ [m$^3$/h]')\n",
    "\n",
    "axarr[0, 2].plot(data['Q'], data['gasPower'], '.', color='r', alpha=0.3, label='Real')\n",
    "axarr[0, 2].plot(Q, y_test, 'v', color='g', label='X_test, y_test', alpha=0.3)\n",
    "axarr[0, 2].plot(Q, y_pred, 'x', color='b', label='Predicted', alpha=0.3)\n",
    "axarr[0, 2].grid()\n",
    "axarr[0, 2].set_xlabel('global radiation $Q$ [W/m$^2$] \\n (10 min mean)')\n",
    "axarr[0, 2].set_ylabel(r'gasPower $\\cdot$ 10$^{-2}$ [m$^3$/h]')\n",
    "\n",
    "axarr[1, 0].plot(data['RG'], data['gasPower'], '.', color='r', alpha=0.3, label='Real')\n",
    "axarr[1, 0].plot(RG, y_test, 'v', color='g', label='X_test, y_test', alpha=0.3)\n",
    "axarr[1, 0].plot(RG, y_pred, 'x', color='b', label='Predicted', alpha=0.3)\n",
    "axarr[1, 0].grid()\n",
    "axarr[1, 0].set_xlabel('Rain intensity $RG$ [mm/h] \\n (10 min mean)')\n",
    "axarr[1, 0].set_ylabel(r'gasPower $\\cdot$ 10$^{-2}$ [m$^3$/h]')\n",
    "\n",
    "axarr[1, 1].plot(data['T'], data['gasPower'], '.', color='r', alpha=0.3, label='Real')\n",
    "axarr[1, 1].plot(T, y_test, 'v', color='g', alpha=0.3, label='X_test, y_test')\n",
    "axarr[1, 1].plot(T, y_pred, 'x', color='b', alpha=0.3, label='Predicted')\n",
    "axarr[1, 1].grid()\n",
    "axarr[1, 1].set_xlabel('Temperature at 1,5 m $T$ [$\\degree$C] \\n (1 min mean)')\n",
    "axarr[1, 1].set_ylabel(r'gasPower $\\cdot$ 10$^{-2}$ [m$^3$/h]')\n",
    "\n",
    "axarr[1, 2].plot(data['U'], data['gasPower'], '.', color='r', alpha=0.3, label='Real')\n",
    "axarr[1, 2].plot(U, y_test, 'v', color='g', label='X_test, y_test', alpha=0.3)\n",
    "axarr[1, 2].plot(U, y_pred, 'x', color='b', label='Predicted', alpha=0.3)\n",
    "axarr[1, 2].grid()\n",
    "axarr[1, 2].set_xlabel('Relative humidity at 1,5 m $U$ [%] \\n (1 min mean)')\n",
    "axarr[1, 2].set_ylabel(r'gasPower $\\cdot$ 10$^{-2}$ [m$^3$/h]')\n",
    "\n",
    "axarr[2, 0].plot(data['FF'], data['gasPower'], '.', color='r', alpha=0.3, label='All real data')\n",
    "axarr[2, 0].plot(FF, y_test, 'v', color='g', label='X_test, y_test', alpha=0.3)\n",
    "axarr[2, 0].plot(FF, y_pred, 'x', color='b', label='X_test, y_predicted', alpha=0.3)\n",
    "axarr[2, 0].grid()\n",
    "axarr[2, 0].set_xlabel('Wind speed $FF$ [m/s] \\n (10 min mean)')\n",
    "axarr[2, 0].set_ylabel(r'gasPower $\\cdot$ 10$^{-2}$ [m$^3$/h]')\n",
    "\n",
    "fig.delaxes(axarr[2, 1])\n",
    "fig.delaxes(axarr[2, 2])\n",
    "\n",
    "mse = multi_model.evaluate(X_test, y_test)[0]\n",
    "mse_val = str(mse)[:4]\n",
    "mse_power = str(mse)[-1:]\n",
    "\n",
    "fig.suptitle('Deep neural network regression results with gasPower as the target \\n Validation MSE = %s' % (mse_val), fontsize = 14)\n",
    "\n",
    "fig.set_size_inches(10,10)\n",
    "fig.tight_layout()\n",
    "\n",
    "\n",
    "\n",
    "fig.subplots_adjust(top=0.9) # Adjust title spacing at the top\n",
    "\n",
    "axarr[2, 0].legend(loc='lower left', bbox_to_anchor= (2, 0.3), borderaxespad=0, frameon=False, fontsize=14, markerscale=3)"
   ]
  },
  {
   "cell_type": "code",
   "execution_count": null,
   "metadata": {},
   "outputs": [],
   "source": [
    "fig.savefig('DDN last result.png', dpi=1200)"
   ]
  },
  {
   "cell_type": "code",
   "execution_count": null,
   "metadata": {},
   "outputs": [],
   "source": []
  }
 ],
 "metadata": {
  "kernelspec": {
   "display_name": "Python 3",
   "language": "python",
   "name": "python3"
  },
  "language_info": {
   "codemirror_mode": {
    "name": "ipython",
    "version": 3
   },
   "file_extension": ".py",
   "mimetype": "text/x-python",
   "name": "python",
   "nbconvert_exporter": "python",
   "pygments_lexer": "ipython3",
   "version": "3.6.6"
  }
 },
 "nbformat": 4,
 "nbformat_minor": 2
}
