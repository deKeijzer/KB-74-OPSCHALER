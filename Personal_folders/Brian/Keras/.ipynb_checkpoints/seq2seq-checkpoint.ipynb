{
 "cells": [
  {
   "cell_type": "markdown",
   "metadata": {},
   "source": [
    "# Imports"
   ]
  },
  {
   "cell_type": "code",
   "execution_count": 1,
   "metadata": {},
   "outputs": [
    {
     "name": "stderr",
     "output_type": "stream",
     "text": [
      "Using TensorFlow backend.\n",
      "/opt/jupyterhub/anaconda/lib/python3.6/importlib/_bootstrap.py:219: RuntimeWarning: compiletime version 3.5 of module 'tensorflow.python.framework.fast_tensor_util' does not match runtime version 3.6\n",
      "  return f(*args, **kwds)\n"
     ]
    }
   ],
   "source": [
    "import pandas as pd\n",
    "import matplotlib.pyplot as plt\n",
    "import matplotlib as mpl\n",
    "from mpl_toolkits.mplot3d import Axes3D\n",
    "import seaborn as sns\n",
    "import numpy as np\n",
    "from tqdm import tqdm\n",
    "import dask.dataframe as dd\n",
    "\n",
    "from keras.models import Sequential\n",
    "from keras.layers.core import Dense, Activation, Dropout, Flatten\n",
    "from keras.layers.recurrent import LSTM\n",
    "from keras.layers import Dense, Conv1D, MaxPool2D, Flatten, Dropout\n",
    "from keras.callbacks import EarlyStopping, TensorBoard\n",
    "from keras.optimizers import Adam, SGD, Nadam\n",
    "from time import time\n",
    "from livelossplot import PlotLossesKeras\n",
    "from keras.layers.advanced_activations import LeakyReLU, PReLU\n",
    "import tensorflow as tf\n",
    "from keras.utils.training_utils import multi_gpu_model\n",
    "from tensorflow.python.client import device_lib\n",
    "from sklearn.preprocessing import StandardScaler\n",
    "\n",
    "from keijzer import setup_multi_gpus, create_corr_matrix, reduce_memory, resample_df, df_to_lstm_format\n",
    "\n",
    "mpl.style.use('default')\n",
    "#%matplotlib notebook\n",
    "%matplotlib inline\n",
    "sns.set()"
   ]
  },
  {
   "cell_type": "code",
   "execution_count": 2,
   "metadata": {},
   "outputs": [
    {
     "name": "stdout",
     "output_type": "stream",
     "text": [
      "Amount of GPUs available: 4\n"
     ]
    }
   ],
   "source": [
    "# Setup multi GPU usage\n",
    "num_gpu = setup_multi_gpus()"
   ]
  },
  {
   "cell_type": "markdown",
   "metadata": {},
   "source": [
    "# Load data"
   ]
  },
  {
   "cell_type": "code",
   "execution_count": 3,
   "metadata": {},
   "outputs": [],
   "source": [
    "df = pd.read_csv('//datc//opschaler//combined_gas_smart_weather_dfs//processed/all_dwellings_combined_hour.csv', delimiter='\\t', parse_dates=['datetime'])\n",
    "df = df.set_index(['datetime'])\n",
    "df = df.dropna()\n",
    "\n",
    "# Get an hour dataframe\n",
    "df = resample_df(df, 'D', combine_all_dwellings=True)\n",
    "\n",
    "#df['year'] = df.index.year\n",
    "#df['month'] = df.index.month\n",
    "#df['day'] = df.index.day\n",
    "#df['hour'] = df.index.hour #create column containing the hour\n",
    "#df['dayofweek'] = df.index.dayofweek\n",
    "#df['season'] = (df.index.month%12 + 3)//3 # Calculates the season (categorical)\n"
   ]
  },
  {
   "cell_type": "code",
   "execution_count": 4,
   "metadata": {},
   "outputs": [
    {
     "data": {
      "text/html": [
       "<div>\n",
       "<style scoped>\n",
       "    .dataframe tbody tr th:only-of-type {\n",
       "        vertical-align: middle;\n",
       "    }\n",
       "\n",
       "    .dataframe tbody tr th {\n",
       "        vertical-align: top;\n",
       "    }\n",
       "\n",
       "    .dataframe thead th {\n",
       "        text-align: right;\n",
       "    }\n",
       "</style>\n",
       "<table border=\"1\" class=\"dataframe\">\n",
       "  <thead>\n",
       "    <tr style=\"text-align: right;\">\n",
       "      <th></th>\n",
       "      <th>ePower</th>\n",
       "      <th>ePowerReturn</th>\n",
       "      <th>DD</th>\n",
       "      <th>DR</th>\n",
       "      <th>FF</th>\n",
       "      <th>FX</th>\n",
       "      <th>N</th>\n",
       "      <th>P</th>\n",
       "      <th>Q</th>\n",
       "      <th>RG</th>\n",
       "      <th>SQ</th>\n",
       "      <th>T</th>\n",
       "      <th>T10</th>\n",
       "      <th>TD</th>\n",
       "      <th>U</th>\n",
       "      <th>VV</th>\n",
       "      <th>WW</th>\n",
       "      <th>gasPower</th>\n",
       "      <th>dwelling</th>\n",
       "    </tr>\n",
       "    <tr>\n",
       "      <th>datetime</th>\n",
       "      <th></th>\n",
       "      <th></th>\n",
       "      <th></th>\n",
       "      <th></th>\n",
       "      <th></th>\n",
       "      <th></th>\n",
       "      <th></th>\n",
       "      <th></th>\n",
       "      <th></th>\n",
       "      <th></th>\n",
       "      <th></th>\n",
       "      <th></th>\n",
       "      <th></th>\n",
       "      <th></th>\n",
       "      <th></th>\n",
       "      <th></th>\n",
       "      <th></th>\n",
       "      <th></th>\n",
       "      <th></th>\n",
       "    </tr>\n",
       "  </thead>\n",
       "  <tbody>\n",
       "    <tr>\n",
       "      <th>2017-02-22 12:00:00</th>\n",
       "      <td>87.033333</td>\n",
       "      <td>0.0</td>\n",
       "      <td>240.149994</td>\n",
       "      <td>0.0</td>\n",
       "      <td>11.266666</td>\n",
       "      <td>16.063334</td>\n",
       "      <td>6.000000</td>\n",
       "      <td>1006.333313</td>\n",
       "      <td>90.166664</td>\n",
       "      <td>0.000000</td>\n",
       "      <td>0.0</td>\n",
       "      <td>10.233334</td>\n",
       "      <td>10.100000</td>\n",
       "      <td>8.216666</td>\n",
       "      <td>86.833336</td>\n",
       "      <td>14500.000000</td>\n",
       "      <td>2.000000</td>\n",
       "      <td>1.001953</td>\n",
       "      <td>All dwellings</td>\n",
       "    </tr>\n",
       "    <tr>\n",
       "      <th>2017-02-22 13:00:00</th>\n",
       "      <td>92.240356</td>\n",
       "      <td>0.0</td>\n",
       "      <td>236.633331</td>\n",
       "      <td>464.0</td>\n",
       "      <td>10.581667</td>\n",
       "      <td>15.056667</td>\n",
       "      <td>6.833333</td>\n",
       "      <td>1006.016663</td>\n",
       "      <td>71.333336</td>\n",
       "      <td>0.200000</td>\n",
       "      <td>0.0</td>\n",
       "      <td>9.966667</td>\n",
       "      <td>9.733334</td>\n",
       "      <td>8.400000</td>\n",
       "      <td>89.500000</td>\n",
       "      <td>11551.666992</td>\n",
       "      <td>63.333332</td>\n",
       "      <td>0.000000</td>\n",
       "      <td>All dwellings</td>\n",
       "    </tr>\n",
       "    <tr>\n",
       "      <th>2017-02-22 14:00:00</th>\n",
       "      <td>93.821724</td>\n",
       "      <td>0.0</td>\n",
       "      <td>234.149994</td>\n",
       "      <td>196.0</td>\n",
       "      <td>10.683333</td>\n",
       "      <td>15.986667</td>\n",
       "      <td>7.833333</td>\n",
       "      <td>1005.483337</td>\n",
       "      <td>91.500000</td>\n",
       "      <td>0.033333</td>\n",
       "      <td>0.0</td>\n",
       "      <td>9.700000</td>\n",
       "      <td>9.550000</td>\n",
       "      <td>8.516666</td>\n",
       "      <td>92.000000</td>\n",
       "      <td>11733.333008</td>\n",
       "      <td>48.500000</td>\n",
       "      <td>0.000000</td>\n",
       "      <td>All dwellings</td>\n",
       "    </tr>\n",
       "    <tr>\n",
       "      <th>2017-02-22 15:00:00</th>\n",
       "      <td>133.030640</td>\n",
       "      <td>0.0</td>\n",
       "      <td>237.500000</td>\n",
       "      <td>190.0</td>\n",
       "      <td>11.036667</td>\n",
       "      <td>16.288334</td>\n",
       "      <td>7.666667</td>\n",
       "      <td>1004.983337</td>\n",
       "      <td>51.500000</td>\n",
       "      <td>0.050000</td>\n",
       "      <td>0.0</td>\n",
       "      <td>9.700000</td>\n",
       "      <td>9.550000</td>\n",
       "      <td>8.500000</td>\n",
       "      <td>91.833336</td>\n",
       "      <td>12416.666992</td>\n",
       "      <td>49.000000</td>\n",
       "      <td>0.000000</td>\n",
       "      <td>All dwellings</td>\n",
       "    </tr>\n",
       "    <tr>\n",
       "      <th>2017-02-22 16:00:00</th>\n",
       "      <td>111.652779</td>\n",
       "      <td>0.0</td>\n",
       "      <td>237.649994</td>\n",
       "      <td>562.0</td>\n",
       "      <td>10.688334</td>\n",
       "      <td>14.911667</td>\n",
       "      <td>7.666667</td>\n",
       "      <td>1004.650024</td>\n",
       "      <td>26.833334</td>\n",
       "      <td>0.616667</td>\n",
       "      <td>0.0</td>\n",
       "      <td>9.566667</td>\n",
       "      <td>9.300000</td>\n",
       "      <td>8.533334</td>\n",
       "      <td>92.833336</td>\n",
       "      <td>7686.666504</td>\n",
       "      <td>71.166664</td>\n",
       "      <td>0.769043</td>\n",
       "      <td>All dwellings</td>\n",
       "    </tr>\n",
       "  </tbody>\n",
       "</table>\n",
       "</div>"
      ],
      "text/plain": [
       "                         ePower  ePowerReturn          DD     DR         FF  \\\n",
       "datetime                                                                      \n",
       "2017-02-22 12:00:00   87.033333           0.0  240.149994    0.0  11.266666   \n",
       "2017-02-22 13:00:00   92.240356           0.0  236.633331  464.0  10.581667   \n",
       "2017-02-22 14:00:00   93.821724           0.0  234.149994  196.0  10.683333   \n",
       "2017-02-22 15:00:00  133.030640           0.0  237.500000  190.0  11.036667   \n",
       "2017-02-22 16:00:00  111.652779           0.0  237.649994  562.0  10.688334   \n",
       "\n",
       "                            FX         N            P          Q        RG  \\\n",
       "datetime                                                                     \n",
       "2017-02-22 12:00:00  16.063334  6.000000  1006.333313  90.166664  0.000000   \n",
       "2017-02-22 13:00:00  15.056667  6.833333  1006.016663  71.333336  0.200000   \n",
       "2017-02-22 14:00:00  15.986667  7.833333  1005.483337  91.500000  0.033333   \n",
       "2017-02-22 15:00:00  16.288334  7.666667  1004.983337  51.500000  0.050000   \n",
       "2017-02-22 16:00:00  14.911667  7.666667  1004.650024  26.833334  0.616667   \n",
       "\n",
       "                      SQ          T        T10        TD          U  \\\n",
       "datetime                                                              \n",
       "2017-02-22 12:00:00  0.0  10.233334  10.100000  8.216666  86.833336   \n",
       "2017-02-22 13:00:00  0.0   9.966667   9.733334  8.400000  89.500000   \n",
       "2017-02-22 14:00:00  0.0   9.700000   9.550000  8.516666  92.000000   \n",
       "2017-02-22 15:00:00  0.0   9.700000   9.550000  8.500000  91.833336   \n",
       "2017-02-22 16:00:00  0.0   9.566667   9.300000  8.533334  92.833336   \n",
       "\n",
       "                               VV         WW  gasPower       dwelling  \n",
       "datetime                                                               \n",
       "2017-02-22 12:00:00  14500.000000   2.000000  1.001953  All dwellings  \n",
       "2017-02-22 13:00:00  11551.666992  63.333332  0.000000  All dwellings  \n",
       "2017-02-22 14:00:00  11733.333008  48.500000  0.000000  All dwellings  \n",
       "2017-02-22 15:00:00  12416.666992  49.000000  0.000000  All dwellings  \n",
       "2017-02-22 16:00:00   7686.666504  71.166664  0.769043  All dwellings  "
      ]
     },
     "execution_count": 4,
     "metadata": {},
     "output_type": "execute_result"
    }
   ],
   "source": [
    "df.head()"
   ]
  },
  {
   "cell_type": "code",
   "execution_count": 5,
   "metadata": {},
   "outputs": [
    {
     "name": "stdout",
     "output_type": "stream",
     "text": [
      "Saving heatmap\n"
     ]
    },
    {
     "name": "stderr",
     "output_type": "stream",
     "text": [
      "/opt/jupyterhub/anaconda/lib/python3.6/site-packages/matplotlib/figure.py:459: UserWarning: matplotlib is currently using a non-GUI backend, so cannot show the figure\n",
      "  \"matplotlib is currently using a non-GUI backend, \"\n"
     ]
    },
    {
     "data": {
      "text/plain": [
       "<Figure size 576x396 with 0 Axes>"
      ]
     },
     "metadata": {},
     "output_type": "display_data"
    },
    {
     "data": {
      "image/png": "[encoded data removed]",
      "text/plain": [
       "<Figure size 576x396 with 2 Axes>"
      ]
     },
     "metadata": {},
     "output_type": "display_data"
    }
   ],
   "source": [
    "fig = create_corr_matrix(df, '', False)"
   ]
  },
  {
   "cell_type": "markdown",
   "metadata": {},
   "source": [
    "# Select data to use"
   ]
  },
  {
   "cell_type": "code",
   "execution_count": 6,
   "metadata": {},
   "outputs": [
    {
     "name": "stdout",
     "output_type": "stream",
     "text": [
      "Saving heatmap\n",
      "Len of data:  6584\n"
     ]
    },
    {
     "name": "stderr",
     "output_type": "stream",
     "text": [
      "/opt/jupyterhub/anaconda/lib/python3.6/site-packages/matplotlib/figure.py:459: UserWarning: matplotlib is currently using a non-GUI backend, so cannot show the figure\n",
      "  \"matplotlib is currently using a non-GUI backend, \"\n"
     ]
    },
    {
     "data": {
      "text/plain": [
       "<Figure size 576x396 with 0 Axes>"
      ]
     },
     "metadata": {},
     "output_type": "display_data"
    },
    {
     "data": {
      "image/png": "[encoded data removed]",
      "text/plain": [
       "<Figure size 360x360 with 2 Axes>"
      ]
     },
     "metadata": {},
     "output_type": "display_data"
    }
   ],
   "source": [
    "data = df\n",
    "#data = data.drop(['eMeter', 'eMeterReturn', 'eMeterLow', 'eMeterLowReturn', 'gasMeter', 'dwelling'], axis=1) # Not needed\n",
    "data = data.drop(['dwelling'], axis=1) # Not needed\n",
    "data = data.drop(['WW', 'VV', 'P', 'DR', 'SQ', 'TD', 'T10', 'FX'], axis=1) # Drop weather columns which contain correlated information, keep only one type\n",
    "#sns.heatmap(data.corr(), annot=True)\n",
    "\n",
    "data = data.drop(['ePower', 'ePowerReturn'], axis=1) # Drop if want to predict gasPower\n",
    "\n",
    "# Drop columns with that have a |corr| > 0.1 with T\n",
    "data = data.drop(['U', 'N', 'Q', 'DD'], axis=1)\n",
    "\n",
    "\n",
    "#data = data[data['T'] < 0] #filter data based on condition\n",
    "#data = data.reset_index()\n",
    "magnitude = 1\n",
    "data['gasPower'] = data['gasPower']*10**magnitude\n",
    "data = data.dropna()\n",
    "\n",
    "fig = create_corr_matrix(data, '', True, size=(5,5))\n",
    "\n",
    "print('Len of data: ', len(data))"
   ]
  },
  {
   "cell_type": "code",
   "execution_count": 7,
   "metadata": {},
   "outputs": [
    {
     "data": {
      "text/plain": [
       "(array([736389., 736420., 736450., 736481., 736511., 736542., 736573.,\n",
       "        736603., 736634., 736664.]), <a list of 10 Text xticklabel objects>)"
      ]
     },
     "execution_count": 7,
     "metadata": {},
     "output_type": "execute_result"
    },
    {
     "data": {
      "image/png": "[encoded data removed]",
      "text/plain": [
       "<Figure size 576x396 with 1 Axes>"
      ]
     },
     "metadata": {},
     "output_type": "display_data"
    }
   ],
   "source": [
    "plt.plot(data.index, data['gasPower'], '.-', color='r', label='Original data')\n",
    "plt.xlabel('Temperature [°C]')\n",
    "plt.ylabel(r'gasPower $\\cdot$ 10$^{-%s}$ [m$^3$/h]' % magnitude)\n",
    "plt.legend()\n",
    "plt.xticks(rotation=45)"
   ]
  },
  {
   "cell_type": "markdown",
   "metadata": {},
   "source": [
    "# Preprocessing"
   ]
  },
  {
   "cell_type": "code",
   "execution_count": 8,
   "metadata": {},
   "outputs": [
    {
     "data": {
      "text/html": [
       "<div>\n",
       "<style scoped>\n",
       "    .dataframe tbody tr th:only-of-type {\n",
       "        vertical-align: middle;\n",
       "    }\n",
       "\n",
       "    .dataframe tbody tr th {\n",
       "        vertical-align: top;\n",
       "    }\n",
       "\n",
       "    .dataframe thead th {\n",
       "        text-align: right;\n",
       "    }\n",
       "</style>\n",
       "<table border=\"1\" class=\"dataframe\">\n",
       "  <thead>\n",
       "    <tr style=\"text-align: right;\">\n",
       "      <th></th>\n",
       "      <th>FF</th>\n",
       "      <th>RG</th>\n",
       "      <th>T</th>\n",
       "      <th>gasPower</th>\n",
       "      <th>gasPower_copy</th>\n",
       "    </tr>\n",
       "    <tr>\n",
       "      <th>datetime</th>\n",
       "      <th></th>\n",
       "      <th></th>\n",
       "      <th></th>\n",
       "      <th></th>\n",
       "      <th></th>\n",
       "    </tr>\n",
       "  </thead>\n",
       "  <tbody>\n",
       "    <tr>\n",
       "      <th>2017-02-22 12:00:00</th>\n",
       "      <td>11.266666</td>\n",
       "      <td>0.000000</td>\n",
       "      <td>10.233334</td>\n",
       "      <td>10.019531</td>\n",
       "      <td>10.019531</td>\n",
       "    </tr>\n",
       "    <tr>\n",
       "      <th>2017-02-22 13:00:00</th>\n",
       "      <td>10.581667</td>\n",
       "      <td>0.200000</td>\n",
       "      <td>9.966667</td>\n",
       "      <td>0.000000</td>\n",
       "      <td>0.000000</td>\n",
       "    </tr>\n",
       "    <tr>\n",
       "      <th>2017-02-22 14:00:00</th>\n",
       "      <td>10.683333</td>\n",
       "      <td>0.033333</td>\n",
       "      <td>9.700000</td>\n",
       "      <td>0.000000</td>\n",
       "      <td>0.000000</td>\n",
       "    </tr>\n",
       "    <tr>\n",
       "      <th>2017-02-22 15:00:00</th>\n",
       "      <td>11.036667</td>\n",
       "      <td>0.050000</td>\n",
       "      <td>9.700000</td>\n",
       "      <td>0.000000</td>\n",
       "      <td>0.000000</td>\n",
       "    </tr>\n",
       "    <tr>\n",
       "      <th>2017-02-22 16:00:00</th>\n",
       "      <td>10.688334</td>\n",
       "      <td>0.616667</td>\n",
       "      <td>9.566667</td>\n",
       "      <td>7.690430</td>\n",
       "      <td>7.690430</td>\n",
       "    </tr>\n",
       "  </tbody>\n",
       "</table>\n",
       "</div>"
      ],
      "text/plain": [
       "                            FF        RG          T   gasPower  gasPower_copy\n",
       "datetime                                                                     \n",
       "2017-02-22 12:00:00  11.266666  0.000000  10.233334  10.019531      10.019531\n",
       "2017-02-22 13:00:00  10.581667  0.200000   9.966667   0.000000       0.000000\n",
       "2017-02-22 14:00:00  10.683333  0.033333   9.700000   0.000000       0.000000\n",
       "2017-02-22 15:00:00  11.036667  0.050000   9.700000   0.000000       0.000000\n",
       "2017-02-22 16:00:00  10.688334  0.616667   9.566667   7.690430       7.690430"
      ]
     },
     "execution_count": 8,
     "metadata": {},
     "output_type": "execute_result"
    }
   ],
   "source": [
    "\"\"\"\n",
    "Add a copy of gasPower column, so previous gasPower values are also in X_reshaped\n",
    "\"\"\"\n",
    "data['gasPower_copy'] = data['gasPower']\n",
    "data.head()"
   ]
  },
  {
   "cell_type": "markdown",
   "metadata": {},
   "source": [
    "# Preprocessing, data to lstm format"
   ]
  },
  {
   "cell_type": "code",
   "execution_count": 13,
   "metadata": {},
   "outputs": [],
   "source": [
    "look_back = 5 # D -> 5\n",
    "num_features = data.shape[1] - 1\n",
    "output_dim = 1\n",
    "test_size = 0.5\n",
    "\n",
    "X_train, y_train, X_test, y_test = df_to_lstm_format(df=data, test_size=test_size, look_back=look_back, target_column='gasPower', scale_X=True)"
   ]
  },
  {
   "cell_type": "code",
   "execution_count": 14,
   "metadata": {},
   "outputs": [],
   "source": [
    "def abs_percentage_error(y_true, y_pred):\n",
    "    import keras.backend as K\n",
    "    \"\"\"\n",
    "    Returns the absolute value of the difference between y_true and y_pred (in percentage).\n",
    "    For examples on losses see:\n",
    "    https://github.com/keras-team/keras/blob/master/keras/losses.py\n",
    "    \"\"\"\n",
    "    return (K.abs(y_true - y_pred) / K.abs(y_pred)) * 100"
   ]
  },
  {
   "cell_type": "code",
   "execution_count": null,
   "metadata": {},
   "outputs": [],
   "source": [
    "hidden_nodes = 35 # 35\n",
    "epochs = 1000\n",
    "\n",
    "# Create model\n",
    "model = Sequential()\n",
    "\n",
    "model.add(LSTM(hidden_nodes, input_shape=(look_back, num_features), kernel_initializer='TruncatedNormal'))\n",
    "model.add(LeakyReLU())\n",
    "\n",
    "#model.add(Dense(35, kernel_initializer='TruncatedNormal'))\n",
    "#model.add(LeakyReLU())\n",
    "\n",
    "#N = 256 #45  \n",
    "#for i in range(4):\n",
    "#    model.add(Dense(N-i*4, kernel_initializer='TruncatedNormal'))\n",
    "#    model.add(LeakyReLU())\n",
    "    #model.add(Dropout(0.5))\n",
    "\n",
    "\n",
    "model.add(Dense(units=output_dim, kernel_initializer='TruncatedNormal'))\n",
    "#model.add(Activation('linear'))\n",
    "\n",
    "model = multi_gpu_model(model, gpus=num_gpu)\n",
    "\n",
    "sgd = SGD(lr=0.005, momentum=0.9, decay=0, nesterov=True) # sgd in general yields better results, but needs a lot of tweeking and is slower\n",
    "\n",
    "# compile & fit\n",
    "model.compile(optimizer='sgd', loss = ['mse'], metrics=['mse', abs_percentage_error])"
   ]
  },
  {
   "cell_type": "code",
   "execution_count": null,
   "metadata": {},
   "outputs": [
    {
     "data": {
      "image/png": "[encoded data removed]",
      "text/plain": [
       "<Figure size 864x864 with 3 Axes>"
      ]
     },
     "metadata": {},
     "output_type": "display_data"
    },
    {
     "name": "stdout",
     "output_type": "stream",
     "text": [
      " - 1s - loss: 1.0284 - mean_squared_error: 1.0284 - abs_percentage_error: 85.6485 - val_loss: 0.4677 - val_mean_squared_error: 0.4677 - val_abs_percentage_error: 73.1018\n",
      "Epoch 314/1000\n"
     ]
    }
   ],
   "source": [
    "early_stopping_monitor = EarlyStopping(patience=1000)\n",
    "\n",
    "\n",
    "\n",
    "model.fit(X_train, y_train, epochs=epochs, batch_size=int(len(X_train)/4), validation_data=(X_test, y_test),\n",
    "         verbose=2, callbacks=[PlotLossesKeras(), early_stopping_monitor])\n",
    "\n",
    "print(model.summary())"
   ]
  },
  {
   "cell_type": "code",
   "execution_count": null,
   "metadata": {},
   "outputs": [],
   "source": [
    "# variables\n",
    "df = data # should be a pandas dataframe\n",
    "test_size = 0.5 # percentage to use for training\n",
    "target_column = 'c' # target column name\n",
    "scale_X = False\n",
    "look_back = 5 # Amount of previous X values to look at when predicting the current y value\n",
    "\n",
    "\n",
    "def df_to_lstm_format(df, test_size=0.5, look_back=5, target_column='target', scale_X=True):\n",
    "    \"\"\"\n",
    "    Input is a Pandas DataFrame. \n",
    "    Output is a np array in the format of (samples, timesteps, features).\n",
    "    Currently this function only accepts one target variable.\n",
    "\n",
    "    Usage example:\n",
    "\n",
    "    # variables\n",
    "    df = data # should be a pandas dataframe\n",
    "    test_size = 0.5 # percentage to use for training\n",
    "    target_column = 'c' # target column name, all other columns are taken as features\n",
    "    scale_X = False\n",
    "    look_back = 5 # Amount of previous X values to look at when predicting the current y value\n",
    "    \"\"\"\n",
    "    df = df.copy()\n",
    "\n",
    "    # Make sure the target column is the last column in the dataframe\n",
    "    df['target'] = df[target_column] # Make a copy of the target column\n",
    "    df = df.drop(columns=[target_column]) # Drop the original target column\n",
    "    \n",
    "    target_location = df.shape[1] - 1 # column index number of target\n",
    "    split_index = int(df.shape[0]*split) # the index at which to split df into train and test\n",
    "    \n",
    "    # ...train\n",
    "    X_train = df.values[:split_index, :target_location]\n",
    "    y_train = df.values[:split_index, target_location]\n",
    "\n",
    "    # ...test\n",
    "    X_test = df.values[split_index:, :target_location] # original is split_index:-1\n",
    "    y_test = df.values[split_index:, target_location] # original is split_index:-1\n",
    "\n",
    "    # Scale the features\n",
    "    if scale_X:\n",
    "        scalerX = StandardScaler(with_mean=True, with_std=True).fit(X_train)\n",
    "        X_train = scalerX.transform(X_train)\n",
    "        X_test = scalerX.transform(X_test)\n",
    "        \n",
    "    # Reshape the arrays\n",
    "    samples = len(X_train) # in this case 217 samples in the training set\n",
    "    num_features = target_location # All columns before the target column are features\n",
    "\n",
    "    samples_train = X_train.shape[0] - look_back\n",
    "    X_train_reshaped = np.zeros((samples_train, look_back, n_features))\n",
    "    y_train_reshaped = np.zeros((samples_train))\n",
    "\n",
    "    for i in range(samples_train):\n",
    "        y_position = i + look_back\n",
    "        X_train_reshaped[i] = X_train[i:y_position]\n",
    "        y_train_reshaped[i] = y_train[y_position]\n",
    "\n",
    "\n",
    "    samples_test = X_test.shape[0] - look_back\n",
    "    X_test_reshaped = np.zeros((samples_test, look_back, num_features))\n",
    "    y_test_reshaped = np.zeros((samples_test))\n",
    "\n",
    "    for i in range(samples_test):\n",
    "        y_position = i + look_back\n",
    "        X_test_reshaped[i] = X_test[i:y_position]\n",
    "        y_test_reshaped[i] = y_test[y_position]\n",
    "    \n",
    "    return X_train_reshaped, y_train_reshaped, X_test_reshaped, y_test_reshaped"
   ]
  },
  {
   "cell_type": "code",
   "execution_count": null,
   "metadata": {},
   "outputs": [],
   "source": [
    "y_preds = model.predict(X_test)\n",
    "y_true = y_test.reshape(y_test.shape[0], 1)\n",
    "\n",
    "split_index = int(data.shape[0]*test_size)\n",
    "x = data[split_index:]\n",
    "len(y_true), len(x)"
   ]
  },
  {
   "cell_type": "code",
   "execution_count": null,
   "metadata": {},
   "outputs": [],
   "source": [
    "datetime_difference = len(x) - len(y_true)\n",
    "x = x[datetime_difference:] # Correct for datetime difference, this is a dirty way of doing it"
   ]
  },
  {
   "cell_type": "code",
   "execution_count": null,
   "metadata": {},
   "outputs": [],
   "source": [
    "plt.figure(figsize=(20,10))\n",
    "plt.plot(x.index, y_true, '.-', color='r', label='Real values', alpha=0.5)\n",
    "plt.plot(x.index, y_preds, '.-', color='b', label='Predicted values')\n",
    "\n",
    "plt.ylabel(r'gasPower $\\cdot$ 10$^{-%s}$ [m$^3$/h]' % magnitude, fontsize=14)\n",
    "plt.xlabel('datetime [-]', fontsize=14) #TODO: set x values as actual dates\n",
    "\n",
    "plt.legend(loc='upper left', borderaxespad=0, frameon=False, fontsize=14, markerscale=3)\n",
    "\n",
    "mse = model.evaluate(X_test, y_test)[1]\n",
    "perc = model.evaluate(X_test, y_test)[2]\n",
    "\n",
    "plt.title('LSTM result \\n MSE = %.2f \\n Avarage error = %.1f [%%]' % (mse, perc), fontsize = 14)\n",
    "\n",
    "plt.savefig('figures/LSTM result.png', dpi=1200)"
   ]
  },
  {
   "cell_type": "code",
   "execution_count": null,
   "metadata": {},
   "outputs": [],
   "source": [
    "plt.savefig('figures/LSTM result.png', dpi=1200)\n",
    "print('FINISHED')"
   ]
  },
  {
   "cell_type": "code",
   "execution_count": null,
   "metadata": {},
   "outputs": [],
   "source": []
  },
  {
   "cell_type": "code",
   "execution_count": null,
   "metadata": {},
   "outputs": [],
   "source": []
  }
 ],
 "metadata": {
  "kernelspec": {
   "display_name": "Python 3",
   "language": "python",
   "name": "python3"
  },
  "language_info": {
   "codemirror_mode": {
    "name": "ipython",
    "version": 3
   },
   "file_extension": ".py",
   "mimetype": "text/x-python",
   "name": "python",
   "nbconvert_exporter": "python",
   "pygments_lexer": "ipython3",
   "version": "3.6.6"
  }
 },
 "nbformat": 4,
 "nbformat_minor": 2
}
