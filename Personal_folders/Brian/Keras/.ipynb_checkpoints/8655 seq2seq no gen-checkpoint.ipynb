{
 "cells": [
  {
   "cell_type": "markdown",
   "metadata": {},
   "source": [
    "# Imports"
   ]
  },
  {
   "cell_type": "code",
   "execution_count": 1,
   "metadata": {},
   "outputs": [],
   "source": [
    "import pandas as pd\n",
    "import matplotlib.pyplot as plt\n",
    "import matplotlib as mpl\n",
    "from mpl_toolkits.mplot3d import Axes3D\n",
    "import seaborn as sns\n",
    "import numpy as np\n",
    "from tqdm import tqdm\n",
    "import dask.dataframe as dd\n",
    "\n",
    "mpl.style.use('default')\n",
    "#%matplotlib notebook\n",
    "%matplotlib inline\n",
    "sns.set()"
   ]
  },
  {
   "cell_type": "markdown",
   "metadata": {},
   "source": [
    "# Tensorflow backend initialization"
   ]
  },
  {
   "cell_type": "code",
   "execution_count": 2,
   "metadata": {},
   "outputs": [
    {
     "name": "stderr",
     "output_type": "stream",
     "text": [
      "/opt/jupyterhub/anaconda/lib/python3.6/importlib/_bootstrap.py:219: RuntimeWarning: compiletime version 3.5 of module 'tensorflow.python.framework.fast_tensor_util' does not match runtime version 3.6\n",
      "  return f(*args, **kwds)\n",
      "Using TensorFlow backend.\n"
     ]
    },
    {
     "name": "stdout",
     "output_type": "stream",
     "text": [
      "Amount of GPUs available: 4\n"
     ]
    }
   ],
   "source": [
    "\"\"\"\n",
    "Setup multi GPU usage\n",
    "\n",
    "Example usage:\n",
    "model = Sequential()\n",
    "...\n",
    "multi_model = multi_gpu_model(model, gpus=num_gpu)\n",
    "multi_model.fit()\n",
    "\n",
    "About memory usage:\n",
    "https://stackoverflow.com/questions/34199233/how-to-prevent-tensorflow-from-allocating-the-totality-of-a-gpu-memory\n",
    "\"\"\"\n",
    "import tensorflow as tf\n",
    "from keras.utils.training_utils import multi_gpu_model\n",
    "from tensorflow.python.client import device_lib\n",
    "\n",
    "# IMPORTANT: Tells tf to not occupy a specific amount of memory\n",
    "from keras.backend.tensorflow_backend import set_session  \n",
    "config = tf.ConfigProto()  \n",
    "config.gpu_options.allow_growth = True  # dynamically grow the memory used on the GPU  \n",
    "sess = tf.Session(config=config)  \n",
    "set_session(sess)  # set this TensorFlow session as the default session for Keras.\n",
    "\n",
    "\n",
    "# getting the number of GPUs \n",
    "def get_available_gpus():\n",
    "   local_device_protos = device_lib.list_local_devices()\n",
    "   return [x.name for x in local_device_protos if x.device_type    == 'GPU']\n",
    "num_gpu = len(get_available_gpus())\n",
    "print('Amount of GPUs available: %s' % num_gpu)"
   ]
  },
  {
   "cell_type": "markdown",
   "metadata": {},
   "source": [
    "# Function definitions"
   ]
  },
  {
   "cell_type": "code",
   "execution_count": 3,
   "metadata": {},
   "outputs": [],
   "source": [
    "def create_corr_matrix(df, dwelling_id, annot):\n",
    "    \"\"\"\n",
    "    Pearson correlation coefficient matrix. \n",
    "    The Pearson correlation coefficient is a measure of the linear correlation between two variables.\n",
    "    \"\"\"\n",
    "    plt.clf()\n",
    "    \n",
    "    corr = df.corr()\n",
    "    mask = np.zeros_like(corr)\n",
    "    mask[np.triu_indices_from(mask)] = True\n",
    "\n",
    "    if annot:\n",
    "        fig, ax = plt.subplots(figsize=(25,25))\n",
    "    else:\n",
    "        fig, ax = plt.subplots()\n",
    "\n",
    "    fig = sns.heatmap(corr, mask=mask, square=False, cmap='RdYlGn', annot=annot, ax=ax, \n",
    "                cbar_kws={'label':'Pearson correlation coefficient [-]'})\n",
    "\n",
    "    fig.set_title('Correlation matrix of dwelling ID: '+dwelling_id)\n",
    "    fig.tick_params(axis='x', rotation=90)\n",
    "    fig.tick_params(axis='y', rotation=0)\n",
    "\n",
    "    fig = fig.get_figure()\n",
    "    fig.tight_layout()\n",
    "    fig.show()\n",
    "    \n",
    "    print('Saving heatmap')\n",
    "    #fig.savefig('//datc//opschaler//EDA//Pearson_corr//' + dwelling_id + '.png', dpi=300)\n",
    "    return fig\n",
    "\n",
    "\n",
    "def reduce_memory(df):\n",
    "    \"\"\"\n",
    "    Reduces memory footprint of the input dataframe.\n",
    "    Changes float64 columns to float32 dtype.\n",
    "    \"\"\"\n",
    "    columns = df.columns\n",
    "    memory_before = df.memory_usage(deep=False).sum() / 2**30 # convert bytes to GB\n",
    "\n",
    "    for column in tqdm(columns):\n",
    "        if df[column].dtype == 'float64':\n",
    "            df[column] = df[column].astype('float32')\n",
    "        \n",
    "    memory_after = df.memory_usage(deep=False).sum() / 2**30 # convert bytes to GB\n",
    "    print('Memory uasge reduced from %.3f GB to %.3f GB' % (memory_before, memory_after))\n",
    "    \n",
    "    return df\n",
    "\n",
    "\n",
    "def resample_df(df, sample_rate, combine_all_dwellings=False):\n",
    "    \"\"\"\n",
    "    Resampled a (un)processed dataframe to the specified sample_rate.\n",
    "    Input is a (un)processed df.\n",
    "    Input df may also be multiple dwelling dfs combined.\n",
    "    Sample rate must be a string. \n",
    "    For example '1H', '1D', '60s'.\n",
    "    \n",
    "    Combine all dwellings: resamples the df and ignores the fact that there are unique dwellings.\n",
    "    \n",
    "    TODO: add std to ePower, gasPower when combine_all_dwellings=False\n",
    "    \"\"\"\n",
    "    df = df.copy()\n",
    "    \n",
    "    def resample_dwelling(df, sample_rate, dwelling_id):\n",
    "        df = df.resample(sample_rate).mean() # resample to rest by mean\n",
    "        df['dwelling'] = dwelling_id\n",
    "        return df\n",
    "        \n",
    "                      \n",
    "    resampled_dwellings = []\n",
    "    \n",
    "    if combine_all_dwellings: # Ignore dwelling_ids\n",
    "        df = df.drop(['eMeter', 'eMeterReturn', 'eMeterLow', 'eMeterLowReturn', 'gasMeter'], axis=1) # Drop columns because they are meaningless when ignoring dwelling ids\n",
    "        resampled_df = resample_dwelling(df, sample_rate, 'All dwellings')\n",
    "        resampled_dwellings.append(resampled_df)\n",
    "    else:\n",
    "        dwellings = df['dwelling'].unique() # Get dwelling ids\n",
    "        for dwelling_id in tqdm(dwellings):\n",
    "            dwelling_df = df[df['dwelling'] == dwelling_id] # Get the data from only that dwelling_id\n",
    "            resampled_dwelling = resample_dwelling(dwelling_df, sample_rate, dwelling_id)\n",
    "            resampled_dwellings.append(resampled_dwelling)\n",
    "    \n",
    "    resampled_df = pd.concat(resampled_dwellings)\n",
    "    \n",
    "    return resampled_df"
   ]
  },
  {
   "cell_type": "markdown",
   "metadata": {},
   "source": [
    "# Preparing dataframe for preprocessing"
   ]
  },
  {
   "cell_type": "code",
   "execution_count": 4,
   "metadata": {},
   "outputs": [
    {
     "name": "stdout",
     "output_type": "stream",
     "text": [
      "CPU times: user 2.82 s, sys: 134 ms, total: 2.96 s\n",
      "Wall time: 559 ms\n"
     ]
    }
   ],
   "source": [
    "%%time\n",
    "df = pd.read_csv('//datc//opschaler//combined_gas_smart_weather_dfs//processed/all_dwellings_combined_hour.csv', delimiter='\\t', parse_dates=['datetime'])\n",
    "df = df.set_index(['datetime'])\n",
    "df = df.dropna()\n",
    "\n",
    "# Get an hour dataframe\n",
    "df = resample_df(df, 'H', combine_all_dwellings=True) # For some reason this makes df equal h, so it changes the df variable being read in at the start...\n",
    "#df['year'] = df.index.year\n",
    "#df['month'] = df.index.month\n",
    "#df['day'] = df.index.day\n",
    "#df['hour'] = df.index.hour #create column containing the hour\n",
    "#df['dayofweek'] = df.index.dayofweek\n",
    "#df['season'] = (df.index.month%12 + 3)//3 # Calculates the season (categorical)\n",
    "\n",
    "#df = df.iloc[-7*5:]"
   ]
  },
  {
   "cell_type": "code",
   "execution_count": 5,
   "metadata": {},
   "outputs": [
    {
     "data": {
      "text/html": [
       "<div>\n",
       "<style scoped>\n",
       "    .dataframe tbody tr th:only-of-type {\n",
       "        vertical-align: middle;\n",
       "    }\n",
       "\n",
       "    .dataframe tbody tr th {\n",
       "        vertical-align: top;\n",
       "    }\n",
       "\n",
       "    .dataframe thead th {\n",
       "        text-align: right;\n",
       "    }\n",
       "</style>\n",
       "<table border=\"1\" class=\"dataframe\">\n",
       "  <thead>\n",
       "    <tr style=\"text-align: right;\">\n",
       "      <th></th>\n",
       "      <th>ePower</th>\n",
       "      <th>ePowerReturn</th>\n",
       "      <th>DD</th>\n",
       "      <th>DR</th>\n",
       "      <th>FF</th>\n",
       "      <th>FX</th>\n",
       "      <th>N</th>\n",
       "      <th>P</th>\n",
       "      <th>Q</th>\n",
       "      <th>RG</th>\n",
       "      <th>SQ</th>\n",
       "      <th>T</th>\n",
       "      <th>T10</th>\n",
       "      <th>TD</th>\n",
       "      <th>U</th>\n",
       "      <th>VV</th>\n",
       "      <th>WW</th>\n",
       "      <th>gasPower</th>\n",
       "      <th>dwelling</th>\n",
       "    </tr>\n",
       "    <tr>\n",
       "      <th>datetime</th>\n",
       "      <th></th>\n",
       "      <th></th>\n",
       "      <th></th>\n",
       "      <th></th>\n",
       "      <th></th>\n",
       "      <th></th>\n",
       "      <th></th>\n",
       "      <th></th>\n",
       "      <th></th>\n",
       "      <th></th>\n",
       "      <th></th>\n",
       "      <th></th>\n",
       "      <th></th>\n",
       "      <th></th>\n",
       "      <th></th>\n",
       "      <th></th>\n",
       "      <th></th>\n",
       "      <th></th>\n",
       "      <th></th>\n",
       "    </tr>\n",
       "  </thead>\n",
       "  <tbody>\n",
       "    <tr>\n",
       "      <th>2017-02-22 12:00:00</th>\n",
       "      <td>87.033333</td>\n",
       "      <td>0.0</td>\n",
       "      <td>240.149994</td>\n",
       "      <td>0.0</td>\n",
       "      <td>11.266666</td>\n",
       "      <td>16.063334</td>\n",
       "      <td>6.000000</td>\n",
       "      <td>1006.333313</td>\n",
       "      <td>90.166664</td>\n",
       "      <td>0.000000</td>\n",
       "      <td>0.0</td>\n",
       "      <td>10.233334</td>\n",
       "      <td>10.100000</td>\n",
       "      <td>8.216666</td>\n",
       "      <td>86.833336</td>\n",
       "      <td>14500.000000</td>\n",
       "      <td>2.000000</td>\n",
       "      <td>1.001953</td>\n",
       "      <td>All dwellings</td>\n",
       "    </tr>\n",
       "    <tr>\n",
       "      <th>2017-02-22 13:00:00</th>\n",
       "      <td>92.240356</td>\n",
       "      <td>0.0</td>\n",
       "      <td>236.633331</td>\n",
       "      <td>464.0</td>\n",
       "      <td>10.581667</td>\n",
       "      <td>15.056667</td>\n",
       "      <td>6.833333</td>\n",
       "      <td>1006.016663</td>\n",
       "      <td>71.333336</td>\n",
       "      <td>0.200000</td>\n",
       "      <td>0.0</td>\n",
       "      <td>9.966667</td>\n",
       "      <td>9.733334</td>\n",
       "      <td>8.400000</td>\n",
       "      <td>89.500000</td>\n",
       "      <td>11551.666992</td>\n",
       "      <td>63.333332</td>\n",
       "      <td>0.000000</td>\n",
       "      <td>All dwellings</td>\n",
       "    </tr>\n",
       "    <tr>\n",
       "      <th>2017-02-22 14:00:00</th>\n",
       "      <td>93.821724</td>\n",
       "      <td>0.0</td>\n",
       "      <td>234.149994</td>\n",
       "      <td>196.0</td>\n",
       "      <td>10.683333</td>\n",
       "      <td>15.986667</td>\n",
       "      <td>7.833333</td>\n",
       "      <td>1005.483337</td>\n",
       "      <td>91.500000</td>\n",
       "      <td>0.033333</td>\n",
       "      <td>0.0</td>\n",
       "      <td>9.700000</td>\n",
       "      <td>9.550000</td>\n",
       "      <td>8.516666</td>\n",
       "      <td>92.000000</td>\n",
       "      <td>11733.333008</td>\n",
       "      <td>48.500000</td>\n",
       "      <td>0.000000</td>\n",
       "      <td>All dwellings</td>\n",
       "    </tr>\n",
       "    <tr>\n",
       "      <th>2017-02-22 15:00:00</th>\n",
       "      <td>133.030640</td>\n",
       "      <td>0.0</td>\n",
       "      <td>237.500000</td>\n",
       "      <td>190.0</td>\n",
       "      <td>11.036667</td>\n",
       "      <td>16.288334</td>\n",
       "      <td>7.666667</td>\n",
       "      <td>1004.983337</td>\n",
       "      <td>51.500000</td>\n",
       "      <td>0.050000</td>\n",
       "      <td>0.0</td>\n",
       "      <td>9.700000</td>\n",
       "      <td>9.550000</td>\n",
       "      <td>8.500000</td>\n",
       "      <td>91.833336</td>\n",
       "      <td>12416.666992</td>\n",
       "      <td>49.000000</td>\n",
       "      <td>0.000000</td>\n",
       "      <td>All dwellings</td>\n",
       "    </tr>\n",
       "    <tr>\n",
       "      <th>2017-02-22 16:00:00</th>\n",
       "      <td>111.652779</td>\n",
       "      <td>0.0</td>\n",
       "      <td>237.649994</td>\n",
       "      <td>562.0</td>\n",
       "      <td>10.688334</td>\n",
       "      <td>14.911667</td>\n",
       "      <td>7.666667</td>\n",
       "      <td>1004.650024</td>\n",
       "      <td>26.833334</td>\n",
       "      <td>0.616667</td>\n",
       "      <td>0.0</td>\n",
       "      <td>9.566667</td>\n",
       "      <td>9.300000</td>\n",
       "      <td>8.533334</td>\n",
       "      <td>92.833336</td>\n",
       "      <td>7686.666504</td>\n",
       "      <td>71.166664</td>\n",
       "      <td>0.769043</td>\n",
       "      <td>All dwellings</td>\n",
       "    </tr>\n",
       "  </tbody>\n",
       "</table>\n",
       "</div>"
      ],
      "text/plain": [
       "                         ePower  ePowerReturn          DD     DR         FF  \\\n",
       "datetime                                                                      \n",
       "2017-02-22 12:00:00   87.033333           0.0  240.149994    0.0  11.266666   \n",
       "2017-02-22 13:00:00   92.240356           0.0  236.633331  464.0  10.581667   \n",
       "2017-02-22 14:00:00   93.821724           0.0  234.149994  196.0  10.683333   \n",
       "2017-02-22 15:00:00  133.030640           0.0  237.500000  190.0  11.036667   \n",
       "2017-02-22 16:00:00  111.652779           0.0  237.649994  562.0  10.688334   \n",
       "\n",
       "                            FX         N            P          Q        RG  \\\n",
       "datetime                                                                     \n",
       "2017-02-22 12:00:00  16.063334  6.000000  1006.333313  90.166664  0.000000   \n",
       "2017-02-22 13:00:00  15.056667  6.833333  1006.016663  71.333336  0.200000   \n",
       "2017-02-22 14:00:00  15.986667  7.833333  1005.483337  91.500000  0.033333   \n",
       "2017-02-22 15:00:00  16.288334  7.666667  1004.983337  51.500000  0.050000   \n",
       "2017-02-22 16:00:00  14.911667  7.666667  1004.650024  26.833334  0.616667   \n",
       "\n",
       "                      SQ          T        T10        TD          U  \\\n",
       "datetime                                                              \n",
       "2017-02-22 12:00:00  0.0  10.233334  10.100000  8.216666  86.833336   \n",
       "2017-02-22 13:00:00  0.0   9.966667   9.733334  8.400000  89.500000   \n",
       "2017-02-22 14:00:00  0.0   9.700000   9.550000  8.516666  92.000000   \n",
       "2017-02-22 15:00:00  0.0   9.700000   9.550000  8.500000  91.833336   \n",
       "2017-02-22 16:00:00  0.0   9.566667   9.300000  8.533334  92.833336   \n",
       "\n",
       "                               VV         WW  gasPower       dwelling  \n",
       "datetime                                                               \n",
       "2017-02-22 12:00:00  14500.000000   2.000000  1.001953  All dwellings  \n",
       "2017-02-22 13:00:00  11551.666992  63.333332  0.000000  All dwellings  \n",
       "2017-02-22 14:00:00  11733.333008  48.500000  0.000000  All dwellings  \n",
       "2017-02-22 15:00:00  12416.666992  49.000000  0.000000  All dwellings  \n",
       "2017-02-22 16:00:00   7686.666504  71.166664  0.769043  All dwellings  "
      ]
     },
     "execution_count": 5,
     "metadata": {},
     "output_type": "execute_result"
    }
   ],
   "source": [
    "df.head()"
   ]
  },
  {
   "cell_type": "markdown",
   "metadata": {},
   "source": [
    "## Get a proper hourly dataframe"
   ]
  },
  {
   "cell_type": "code",
   "execution_count": 6,
   "metadata": {},
   "outputs": [
    {
     "name": "stdout",
     "output_type": "stream",
     "text": [
      "Saving heatmap\n"
     ]
    },
    {
     "name": "stderr",
     "output_type": "stream",
     "text": [
      "/opt/jupyterhub/anaconda/lib/python3.6/site-packages/matplotlib/figure.py:459: UserWarning: matplotlib is currently using a non-GUI backend, so cannot show the figure\n",
      "  \"matplotlib is currently using a non-GUI backend, \"\n"
     ]
    },
    {
     "data": {
      "text/plain": [
       "<Figure size 576x396 with 0 Axes>"
      ]
     },
     "metadata": {},
     "output_type": "display_data"
    },
    {
     "data": {
      "image/png": "[encoded data removed]",
      "text/plain": [
       "<Figure size 576x396 with 2 Axes>"
      ]
     },
     "metadata": {},
     "output_type": "display_data"
    }
   ],
   "source": [
    "fig = create_corr_matrix(df, '', False)"
   ]
  },
  {
   "cell_type": "markdown",
   "metadata": {},
   "source": [
    "## Select data we want"
   ]
  },
  {
   "cell_type": "code",
   "execution_count": 7,
   "metadata": {},
   "outputs": [
    {
     "name": "stdout",
     "output_type": "stream",
     "text": [
      "Len of data:  6584\n"
     ]
    },
    {
     "data": {
      "image/png": "[encoded data removed]",
      "text/plain": [
       "<Figure size 576x396 with 2 Axes>"
      ]
     },
     "metadata": {},
     "output_type": "display_data"
    }
   ],
   "source": [
    "data = df\n",
    "#data = data.drop(['eMeter', 'eMeterReturn', 'eMeterLow', 'eMeterLowReturn', 'gasMeter', 'dwelling'], axis=1) # Not needed\n",
    "data = data.drop(['dwelling'], axis=1) # Not needed\n",
    "data = data.drop(['WW', 'VV', 'P', 'DR', 'SQ', 'TD', 'T10', 'FX'], axis=1) # Drop weather columns which contain correlated information, keep only one type\n",
    "#sns.heatmap(data.corr(), annot=True)\n",
    "\n",
    "data = data.drop(['ePower', 'ePowerReturn'], axis=1) # Drop if want to predict gasPower\n",
    "\n",
    "# Drop columns with that have a |corr| > 0.1 with T\n",
    "data = data.drop(['U', 'N', 'Q', 'DD'], axis=1)\n",
    "\n",
    "\n",
    "#data = data[data['T'] < 0] #filter data based on condition\n",
    "#data = data.reset_index()\n",
    "magnitude = 1\n",
    "data['gasPower'] = data['gasPower']*10**magnitude\n",
    "data = data.dropna()\n",
    "\n",
    "sns.heatmap(data.corr(), annot=True)\n",
    "\n",
    "print('Len of data: ', len(data))"
   ]
  },
  {
   "cell_type": "markdown",
   "metadata": {},
   "source": [
    "# EDA"
   ]
  },
  {
   "cell_type": "code",
   "execution_count": 8,
   "metadata": {},
   "outputs": [
    {
     "data": {
      "text/plain": [
       "<matplotlib.legend.Legend at 0x7f366c1a4a58>"
      ]
     },
     "execution_count": 8,
     "metadata": {},
     "output_type": "execute_result"
    },
    {
     "data": {
      "image/png": "[encoded data removed]",
      "text/plain": [
       "<Figure size 576x396 with 1 Axes>"
      ]
     },
     "metadata": {},
     "output_type": "display_data"
    }
   ],
   "source": [
    "plt.plot(data['T'], data['gasPower'], '.', color='r', label='Original data')\n",
    "plt.xlabel('Temperature [°C]')\n",
    "plt.ylabel(r'gasPower $\\cdot$ 10$^{-%s}$ [m$^3$/h]' % magnitude)\n",
    "plt.legend()"
   ]
  },
  {
   "cell_type": "code",
   "execution_count": 9,
   "metadata": {},
   "outputs": [],
   "source": [
    "#sns.pairplot(data)"
   ]
  },
  {
   "cell_type": "markdown",
   "metadata": {},
   "source": [
    "# Preprocessing"
   ]
  },
  {
   "cell_type": "code",
   "execution_count": 10,
   "metadata": {},
   "outputs": [],
   "source": [
    "from sklearn.model_selection import TimeSeriesSplit, train_test_split\n",
    "from sklearn.preprocessing import StandardScaler"
   ]
  },
  {
   "cell_type": "code",
   "execution_count": 11,
   "metadata": {},
   "outputs": [],
   "source": [
    "#data = data['2017-06-01':'2017-09-01']"
   ]
  },
  {
   "cell_type": "code",
   "execution_count": 12,
   "metadata": {},
   "outputs": [
    {
     "name": "stdout",
     "output_type": "stream",
     "text": [
      "Index(['FF', 'RG', 'T', 'gasPower'], dtype='object')\n",
      "6584\n"
     ]
    }
   ],
   "source": [
    "# Get the gasPower column\n",
    "#gp = data[['gasPower']]*10\n",
    "gp = data\n",
    "print(gp.columns)\n",
    "print(len(gp))\n",
    "\n",
    "train_length = 0.5\n",
    "\n",
    "\n",
    "gp_train = gp[:int(len(gp)*train_length)]\n",
    "gp_test = gp[int(len(gp)*train_length):]"
   ]
  },
  {
   "cell_type": "code",
   "execution_count": null,
   "metadata": {},
   "outputs": [],
   "source": []
  },
  {
   "cell_type": "code",
   "execution_count": 13,
   "metadata": {},
   "outputs": [
    {
     "data": {
      "text/plain": [
       "<matplotlib.legend.Legend at 0x7f3624180048>"
      ]
     },
     "execution_count": 13,
     "metadata": {},
     "output_type": "execute_result"
    },
    {
     "data": {
      "image/png": "[encoded data removed]",
      "text/plain": [
       "<Figure size 576x396 with 1 Axes>"
      ]
     },
     "metadata": {},
     "output_type": "display_data"
    }
   ],
   "source": [
    "plt.plot(gp_train.index, gp_train['gasPower'], '.-', label='train', color='r')\n",
    "plt.plot(gp_test.index, gp_test['gasPower'], '.-', label='test', color='b')\n",
    "plt.legend()"
   ]
  },
  {
   "cell_type": "code",
   "execution_count": 14,
   "metadata": {},
   "outputs": [
    {
     "data": {
      "text/plain": [
       "3292"
      ]
     },
     "execution_count": 14,
     "metadata": {},
     "output_type": "execute_result"
    }
   ],
   "source": [
    "gp_train = np.array(gp_train)\n",
    "gp_test = np.array(gp_test)\n",
    "\n",
    "len(gp_train)"
   ]
  },
  {
   "cell_type": "code",
   "execution_count": 15,
   "metadata": {},
   "outputs": [],
   "source": [
    "def array_to_seq2seq_format(array, target_index, input_seq_len, output_seq_len, batch_size, n_epochs):\n",
    "    \"\"\"\n",
    "    Input is an array, for example (when data is a pd df):\n",
    "    array = data[['gasPower']]\n",
    "    array = np.array(array)\n",
    "    \"\"\"\n",
    "    array = array.copy()\n",
    "    \n",
    "    n_columns = array.shape[1]\n",
    "    num_points = input_seq_len + output_seq_len\n",
    "    \n",
    "    n_folds = array.shape[0] // num_points # For example with 208 / 14 = 14.85 then 208//14=14\n",
    "    #print('n_folds is %.1f so taking value %s ' % (gp.shape[0]/num_points, n_folds))\n",
    "    \n",
    "    total_folds = n_folds // batch_size\n",
    "    print('total_folds', total_folds)\n",
    "    #print('total_batches is %.1f so taking value %s' % (n_folds/batch_size, total_batches))\n",
    "    \n",
    "    \n",
    "    signals = []\n",
    "    #print('signals initial shape: ', signals.shape)\n",
    "\n",
    "    for fold in range(n_folds): # slice the array in n_folds\n",
    "        start = fold*num_points\n",
    "        signal = array[start:start+num_points] # take values of the slices\n",
    "        signals.append(signal) # append slice to the signals list\n",
    "\n",
    "    signals = np.asarray(signals) # list of arrays to one array\n",
    "\n",
    "    #print('signals final shape: ', signals.shape)\n",
    "    \n",
    "    \"\"\"\n",
    "    Split all signals into amount of total batches, generator should iterate over this and return each batch. \n",
    "    i.e. iterate with i over (i, 3, 14, 1) if  size is (4, 2, 14, 1), from 0 to i=3.\n",
    "    \"\"\"\n",
    "\n",
    "    batch_len = signals.shape[0] // total_folds\n",
    "    print('batch_len: ', batch_len)\n",
    "\n",
    "    folds = []\n",
    "    for i in range(total_folds):\n",
    "        start = i*batch_len\n",
    "        stop = start + batch_len\n",
    "        fold = signals[start:stop] # take the values of the slices\n",
    "        folds.append(fold)\n",
    "\n",
    "    folds = np.asarray(folds)\n",
    "    \n",
    "    print('We have got %s folds with %s batches of %s steps with %s columns.' % (folds.shape[0], folds.shape[1], folds.shape[2], folds.shape[3]))\n",
    "    \n",
    "    for _ in range(n_epochs):\n",
    "        for fold in folds:\n",
    "            encoder_input = fold[:, :input_seq_len, :]\n",
    "            decoder_output = fold[:, input_seq_len:, [target_index]]\n",
    "            decoder_input = np.zeros((decoder_output.shape[0], decoder_output.shape[1], 1))\n",
    "        \n",
    "            yield [encoder_input, decoder_input], decoder_output\n",
    "    \n",
    "    "
   ]
  },
  {
   "cell_type": "markdown",
   "metadata": {},
   "source": [
    "# Create model"
   ]
  },
  {
   "cell_type": "markdown",
   "metadata": {},
   "source": [
    "# Hyperparameters and model configuration"
   ]
  },
  {
   "cell_type": "code",
   "execution_count": 16,
   "metadata": {},
   "outputs": [
    {
     "data": {
      "text/plain": [
       "3292"
      ]
     },
     "execution_count": 16,
     "metadata": {},
     "output_type": "execute_result"
    }
   ],
   "source": [
    "len(gp_train)"
   ]
  },
  {
   "cell_type": "code",
   "execution_count": 17,
   "metadata": {},
   "outputs": [
    {
     "data": {
      "text/plain": [
       "3292"
      ]
     },
     "execution_count": 17,
     "metadata": {},
     "output_type": "execute_result"
    }
   ],
   "source": [
    "len(gp_test)"
   ]
  },
  {
   "cell_type": "code",
   "execution_count": 18,
   "metadata": {},
   "outputs": [],
   "source": [
    "import numpy as np\n",
    "import keras\n",
    "import matplotlib.pyplot as plt\n",
    "import tensorflow as tf\n",
    "from livelossplot import PlotLossesKeras\n",
    "\n",
    "keras.backend.clear_session()\n",
    "\n",
    "layers = [100, 100] # Number of hidden neuros in each layer of the encoder and decoder\n",
    "\n",
    "learning_rate = 0.01\n",
    "decay = 0 # Learning rate decay\n",
    "optimiser = keras.optimizers.Adam(lr=learning_rate, decay=decay) # Other possible optimiser \"sgd\" (Stochastic Gradient Descent)\n",
    "\n",
    "num_input_features = 4 # The dimensionality of the input at each time step. In this case a 1D signal.\n",
    "num_output_features = 1 # The dimensionality of the output at each time step. In this case a 1D signal.\n",
    "# There is no reason for the input sequence to be of same dimension as the ouput sequence.\n",
    "# For instance, using 3 input signals: consumer confidence, inflation and house prices to predict the future house prices.\n",
    "\n",
    "loss = \"mse\" # Other loss functions are possible, see Keras documentation.\n",
    "\n",
    "# Regularisation isn't really needed for this application\n",
    "lambda_regulariser = 0.000001 # Will not be used if regulariser is None\n",
    "regulariser = None # Possible regulariser: keras.regularizers.l2(lambda_regulariser)\n",
    "\n",
    "###########################################\n",
    "\n",
    "n_folds = 1\n",
    "batch_size = n_folds\n",
    "input_sequence_length = 24*7*4 #Length of the sequence used by the encoder\n",
    "target_sequence_length = 24 # Length of the sequence predicted by the decoder\n",
    "num_steps_to_predict = 24 # Length to use when testing the model\n",
    "\n",
    "target_index = 3\n",
    "\n",
    "# Amount of epochs to do\n",
    "steps_per_epoch = n_folds # batch_size * steps_per_epoch = total number of training examples\n",
    "###########################################\n",
    "\n",
    "#train_gen = array_to_seq2seq_format(gp_train, target_index, input_sequence_length, target_sequence_length, batch_size, n_folds)\n",
    "#_ = next(train_gen)\n",
    "\n",
    "#test_gen = array_to_seq2seq_format(gp_test, target_index, input_sequence_length, target_sequence_length, batch_size, n_folds)\n",
    "#_ = next(test_gen)"
   ]
  },
  {
   "cell_type": "markdown",
   "metadata": {},
   "source": [
    "## Create encoder"
   ]
  },
  {
   "cell_type": "code",
   "execution_count": 19,
   "metadata": {},
   "outputs": [],
   "source": [
    "# Define an input sequence.\n",
    "encoder_inputs = keras.layers.Input(shape=(None, num_input_features))\n",
    "\n",
    "# Create a list of RNN Cells, these are then concatenated into a single layer\n",
    "# with the RNN layer.\n",
    "encoder_cells = []\n",
    "for hidden_neurons in layers:\n",
    "    encoder_cells.append(keras.layers.GRUCell(hidden_neurons,\n",
    "                                              kernel_regularizer=regulariser,\n",
    "                                              recurrent_regularizer=regulariser,\n",
    "                                              bias_regularizer=regulariser))\n",
    "\n",
    "encoder = keras.layers.RNN(encoder_cells, return_state=True)\n",
    "\n",
    "encoder_outputs_and_states = encoder(encoder_inputs)\n",
    "\n",
    "# Discard encoder outputs and only keep the states.\n",
    "# The outputs are of no interest to us, the encoder's\n",
    "# job is to create a state describing the input sequence.\n",
    "encoder_states = encoder_outputs_and_states[1:]"
   ]
  },
  {
   "cell_type": "markdown",
   "metadata": {},
   "source": [
    "## Create decoder"
   ]
  },
  {
   "cell_type": "code",
   "execution_count": 20,
   "metadata": {},
   "outputs": [],
   "source": [
    "# The decoder input will be set to zero (see random_sine function of the utils module).\n",
    "# Do not worry about the input size being 1, I will explain that in the next cell.\n",
    "decoder_inputs = keras.layers.Input(shape=(None, 1))\n",
    "\n",
    "decoder_cells = []\n",
    "for hidden_neurons in layers:\n",
    "    decoder_cells.append(keras.layers.GRUCell(hidden_neurons,\n",
    "                                              kernel_regularizer=regulariser,\n",
    "                                              recurrent_regularizer=regulariser,\n",
    "                                              bias_regularizer=regulariser))\n",
    "\n",
    "decoder = keras.layers.RNN(decoder_cells, return_sequences=True, return_state=True)\n",
    "\n",
    "# Set the initial state of the decoder to be the ouput state of the encoder.\n",
    "# This is the fundamental part of the encoder-decoder.\n",
    "decoder_outputs_and_states = decoder(decoder_inputs, initial_state=encoder_states)\n",
    "\n",
    "# Only select the output of the decoder (not the states)\n",
    "decoder_outputs = decoder_outputs_and_states[0]\n",
    "\n",
    "# Apply a dense layer with linear activation to set output to correct dimension\n",
    "# and scale (tanh is default activation for GRU in Keras, our output sine function can be larger then 1)\n",
    "decoder_dense = keras.layers.Dense(num_output_features,\n",
    "                                   activation='linear',\n",
    "                                   kernel_regularizer=regulariser,\n",
    "                                   bias_regularizer=regulariser)\n",
    "\n",
    "decoder_outputs = decoder_dense(decoder_outputs)"
   ]
  },
  {
   "cell_type": "markdown",
   "metadata": {},
   "source": [
    "## Create model and compile"
   ]
  },
  {
   "cell_type": "code",
   "execution_count": 21,
   "metadata": {},
   "outputs": [],
   "source": [
    "# Create a model using the functional API provided by Keras.\n",
    "# The functional API is great, it gives an amazing amount of freedom in architecture of your NN.\n",
    "# A read worth your time: https://keras.io/getting-started/functional-api-guide/ \n",
    "model = keras.models.Model(inputs=[encoder_inputs, decoder_inputs], outputs=decoder_outputs)\n",
    "\n",
    "#model = multi_gpu_model(model, gpus=num_gpu)\n",
    "\n",
    "model.compile(optimizer='adam', loss='mse', metrics=['mse'])\n"
   ]
  },
  {
   "cell_type": "markdown",
   "metadata": {},
   "source": [
    "## Fit model"
   ]
  },
  {
   "cell_type": "code",
   "execution_count": 22,
   "metadata": {},
   "outputs": [],
   "source": [
    "def kfold_array_to_seq2seq_format(array, target_index, input_seq_len, output_seq_len, n_folds):\n",
    "\n",
    "    n_columns = array.shape[1]\n",
    "    sample_length = input_seq_len+output_seq_len # Sample length \n",
    "    n_samples = array.shape[0] // sample_length # Amount of samples that can be get from the array\n",
    "    total_folds = n_samples // n_folds\n",
    "\n",
    "    #print('sample_length: ', sample_length)\n",
    "    #print('n_samples: ', n_samples)\n",
    "    #print('total_folds: ', total_folds)\n",
    "    \n",
    "    while True:\n",
    "        samples = []\n",
    "        for i in range(n_samples):\n",
    "            start = i*sample_length\n",
    "            stop = start + sample_length\n",
    "            sample = array[start:stop]\n",
    "            samples.append(sample)\n",
    "\n",
    "        samples = np.asarray(samples)\n",
    "        #print('samples.shape: ', samples.shape)\n",
    "\n",
    "        # Create the folds\n",
    "        fold_length = samples.shape[0] // n_folds\n",
    "        #print('fold_length: ', fold_length)\n",
    "\n",
    "        folds = []\n",
    "        for i in range(n_folds):\n",
    "            start = i*fold_length\n",
    "            stop = i*fold_length + fold_length\n",
    "            fold = samples[start:stop]\n",
    "            folds.append(fold)\n",
    "\n",
    "        folds = np.asarray(folds)\n",
    "        #print('folds.shape ', folds.shape) # (n_folds, n_samples, sample_length, n_columns) or (n_folds, samples, timesteps, feautures)\n",
    "\n",
    "        # Create the output per fold\n",
    "        for fold in folds:\n",
    "            encoder_input = fold[:, :input_seq_len, :]\n",
    "            decoder_output = fold[:, input_seq_len:, [target_index]]\n",
    "            decoder_input = np.zeros((decoder_output.shape[0], decoder_output.shape[1], 1))\n",
    "\n",
    "            yield [encoder_input, decoder_input], decoder_output"
   ]
  },
  {
   "cell_type": "code",
   "execution_count": 23,
   "metadata": {},
   "outputs": [
    {
     "data": {
      "image/png": "[encoded data removed]",
      "text/plain": [
       "<Figure size 864x576 with 2 Axes>"
      ]
     },
     "metadata": {},
     "output_type": "display_data"
    },
    {
     "name": "stdout",
     "output_type": "stream",
     "text": [
      " - 1s - loss: 0.8708 - mean_squared_error: 0.8708\n"
     ]
    },
    {
     "data": {
      "text/plain": [
       "<keras.callbacks.History at 0x7f361c147668>"
      ]
     },
     "execution_count": 23,
     "metadata": {},
     "output_type": "execute_result"
    }
   ],
   "source": [
    "train_generator = kfold_array_to_seq2seq_format(array=gp_train, \n",
    "                                                target_index=target_index, \n",
    "                                                input_seq_len=input_sequence_length, \n",
    "                                                output_seq_len=target_sequence_length, \n",
    "                                                n_folds=n_folds)\n",
    "\n",
    "model.fit_generator(train_generator, steps_per_epoch=steps_per_epoch,  epochs=10, verbose=2, callbacks=[PlotLossesKeras()])\n",
    "\n",
    "# steps_per_epoch should generate entire dataset\n",
    "# epochs is amount of times to train over the entire dataset"
   ]
  },
  {
   "cell_type": "markdown",
   "metadata": {},
   "source": [
    "train_gen = array_to_seq2seq_format(gp_train, target_index, input_sequence_length, target_sequence_length, batch_size, steps_per_epoch)\n",
    "test_gen = array_to_seq2seq_format(gp_test, target_index, input_sequence_length, target_sequence_length, batch_size, steps_per_epoch)\n",
    "\n",
    "#model.fit_generator(generator=train_gen, steps_per_epoch=steps_per_epoch, epochs=n_folds, validation_data=test_gen, validation_steps=steps_per_epoch)\n",
    "model.fit_generator(generator=train_gen, steps_per_epoch=steps_per_epoch, epochs=n_folds)"
   ]
  },
  {
   "cell_type": "markdown",
   "metadata": {},
   "source": [
    "# Create 'prediction' models"
   ]
  },
  {
   "cell_type": "code",
   "execution_count": 24,
   "metadata": {},
   "outputs": [],
   "source": [
    "def plot_prediction(x, y_true, y_pred):\n",
    "    \"\"\"Plots the predictions.\n",
    "    \n",
    "    Arguments\n",
    "    ---------\n",
    "    x: Input sequence of shape (input_sequence_length,\n",
    "        dimension_of_signal)\n",
    "    y_true: True output sequence of shape (input_sequence_length,\n",
    "        dimension_of_signal)\n",
    "    y_pred: Predicted output sequence (input_sequence_length,\n",
    "        dimension_of_signal)\n",
    "    \"\"\"\n",
    "\n",
    "    plt.figure(figsize=(12, 3))\n",
    "\n",
    "    output_dim = x.shape[-1]\n",
    "    for j in range(output_dim):\n",
    "        past = x[:, j] \n",
    "        true = y_true[:, j]\n",
    "        pred = y_pred[:, j]\n",
    "\n",
    "        label1 = \"Seen (past) values\" if j==0 else \"_nolegend_\"\n",
    "        label2 = \"True future values\" if j==0 else \"_nolegend_\"\n",
    "        label3 = \"Predictions\" if j==0 else \"_nolegend_\"\n",
    "\n",
    "        #plt.plot(range(len(past)), past, \"o--b\",\n",
    "        #         label=label1)\n",
    "        plt.plot(range(len(past),\n",
    "                 len(true)+len(past)), true, \"x--b\", label=label2)\n",
    "        plt.plot(range(len(past), len(pred)+len(past)), pred, \"o--y\",\n",
    "                 label=label3)\n",
    "    plt.legend(loc='best')\n",
    "    plt.title(\"Predictions v.s. true values\")\n",
    "    plt.show()"
   ]
  },
  {
   "cell_type": "code",
   "execution_count": 25,
   "metadata": {},
   "outputs": [],
   "source": [
    "encoder_predict_model = keras.models.Model(encoder_inputs,\n",
    "                                           encoder_states)\n",
    "\n",
    "decoder_states_inputs = []\n",
    "\n",
    "# Read layers backwards to fit the format of initial_state\n",
    "# For some reason, the states of the model are order backwards (state of the first layer at the end of the list)\n",
    "# If instead of a GRU you were using an LSTM Cell, you would have to append two Input tensors since the LSTM has 2 states.\n",
    "for hidden_neurons in layers[::-1]:\n",
    "    # One state for GRU\n",
    "    decoder_states_inputs.append(keras.layers.Input(shape=(hidden_neurons,)))\n",
    "\n",
    "decoder_outputs_and_states = decoder(\n",
    "    decoder_inputs, initial_state=decoder_states_inputs)\n",
    "\n",
    "decoder_outputs = decoder_outputs_and_states[0]\n",
    "decoder_states = decoder_outputs_and_states[1:]\n",
    "\n",
    "decoder_outputs = decoder_dense(decoder_outputs)\n",
    "\n",
    "decoder_predict_model = keras.models.Model(\n",
    "        [decoder_inputs] + decoder_states_inputs,\n",
    "        [decoder_outputs] + decoder_states)"
   ]
  },
  {
   "cell_type": "code",
   "execution_count": 26,
   "metadata": {},
   "outputs": [],
   "source": [
    "# Let's define a small function that predicts based on the trained encoder and decoder models\n",
    "\n",
    "def predict(x, encoder_predict_model, decoder_predict_model, num_steps_to_predict):\n",
    "    \"\"\"Predict time series with encoder-decoder.\n",
    "    \n",
    "    Uses the encoder and decoder models previously trained to predict the next\n",
    "    num_steps_to_predict values of the time series.\n",
    "    \n",
    "    Arguments\n",
    "    ---------\n",
    "    x: input time series of shape (batch_size, input_sequence_length, input_dimension).\n",
    "    encoder_predict_model: The Keras encoder model.\n",
    "    decoder_predict_model: The Keras decoder model.\n",
    "    num_steps_to_predict: The number of steps in the future to predict\n",
    "    \n",
    "    Returns\n",
    "    -------\n",
    "    y_predicted: output time series for shape (batch_size, target_sequence_length,\n",
    "        ouput_dimension)\n",
    "    \"\"\"\n",
    "    y_predicted = []\n",
    "\n",
    "    # Encode the values as a state vector\n",
    "    states = encoder_predict_model.predict(x)\n",
    "\n",
    "    # The states must be a list\n",
    "    if not isinstance(states, list):\n",
    "        states = [states]\n",
    "\n",
    "    # Generate first value of the decoder input sequence\n",
    "    decoder_input = np.zeros((x.shape[0], 1, 1))\n",
    "\n",
    "\n",
    "    for _ in range(num_steps_to_predict):\n",
    "        outputs_and_states = decoder_predict_model.predict(\n",
    "        [decoder_input] + states, batch_size=batch_size)\n",
    "        output = outputs_and_states[0]\n",
    "        states = outputs_and_states[1:]\n",
    "\n",
    "        # add predicted value\n",
    "        y_predicted.append(output)\n",
    "\n",
    "    return np.concatenate(y_predicted, axis=1)\n",
    "    "
   ]
  },
  {
   "cell_type": "code",
   "execution_count": 27,
   "metadata": {},
   "outputs": [
    {
     "data": {
      "text/plain": [
       "3292"
      ]
     },
     "execution_count": 27,
     "metadata": {},
     "output_type": "execute_result"
    }
   ],
   "source": [
    "len(gp_test)"
   ]
  },
  {
   "cell_type": "code",
   "execution_count": 28,
   "metadata": {},
   "outputs": [],
   "source": [
    "# The aim of this tutorial isn't to present how to evaluate the model or investigate the training.\n",
    "# We could plot evaluation metrics such as RMSE over time, compare train and test batches for overfitting,\n",
    "# produce validation and learning curves to analyse the effect of the number of epochs or training examples,\n",
    "# have fun playing with tensorboard etc... We would need at least a whole other post for this.\n",
    "# However, let's at least make sure that our model can predict correctly...\n",
    "# Ask the generator to produce a batch of samples, don't forget to set the seed to something other than what was\n",
    "# used for training or you will be testing on train data.\n",
    "# The next function asks the generator to produce it's first batch.\n",
    "\n",
    "l = 50\n",
    "x = np.arange(l)\n",
    "test_input = (np.sin(x)*0.35).reshape(l,1)\n",
    "test_input.shape\n",
    "\n",
    "test_generator = kfold_array_to_seq2seq_format(array=gp_test, target_index=target_index, input_seq_len=input_sequence_length, output_seq_len=target_sequence_length, n_folds=n_folds)\n",
    "\n",
    "(x_test, _), y_test = next(test_generator)"
   ]
  },
  {
   "cell_type": "code",
   "execution_count": 29,
   "metadata": {},
   "outputs": [
    {
     "data": {
      "image/png": "[encoded data removed]",
      "text/plain": [
       "<Figure size 864x216 with 1 Axes>"
      ]
     },
     "metadata": {},
     "output_type": "display_data"
    }
   ],
   "source": [
    "y_test_predicted = predict(x_test, encoder_predict_model, decoder_predict_model, num_steps_to_predict)\n",
    "\n",
    "np.random.seed(42)\n",
    "# Select 10 random examples to plot\n",
    "indices = np.random.choice(range(x_test.shape[0]), replace=True, size=n_folds)\n",
    "\n",
    "\n",
    "for index in indices:\n",
    "    plot_prediction(x_test[index, :, target_index].reshape(x_test.shape[1], 1) , y_test[index, :, :], y_test_predicted[index, :, :])\n",
    "    \n",
    "# The model seems to struggle on very low wave signals. But that makes sense, the model doesn't see enough of the signal\n",
    "# to make a good estimation of the frequency components."
   ]
  },
  {
   "cell_type": "code",
   "execution_count": null,
   "metadata": {},
   "outputs": [],
   "source": []
  }
 ],
 "metadata": {
  "kernelspec": {
   "display_name": "Python 3",
   "language": "python",
   "name": "python3"
  },
  "language_info": {
   "codemirror_mode": {
    "name": "ipython",
    "version": 3
   },
   "file_extension": ".py",
   "mimetype": "text/x-python",
   "name": "python",
   "nbconvert_exporter": "python",
   "pygments_lexer": "ipython3",
   "version": "3.6.6"
  }
 },
 "nbformat": 4,
 "nbformat_minor": 2
}
