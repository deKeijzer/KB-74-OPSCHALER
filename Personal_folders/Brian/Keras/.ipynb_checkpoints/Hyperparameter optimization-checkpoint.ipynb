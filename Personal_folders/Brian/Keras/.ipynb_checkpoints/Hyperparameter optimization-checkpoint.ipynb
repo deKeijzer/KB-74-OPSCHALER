{
 "cells": [
  {
   "cell_type": "markdown",
   "metadata": {},
   "source": [
    "# Imports"
   ]
  },
  {
   "cell_type": "code",
   "execution_count": 1,
   "metadata": {},
   "outputs": [],
   "source": [
    "import pandas as pd\n",
    "import matplotlib.pyplot as plt\n",
    "import matplotlib as mpl\n",
    "from mpl_toolkits.mplot3d import Axes3D\n",
    "import seaborn as sns\n",
    "import numpy as np\n",
    "from tqdm import tqdm\n",
    "\n",
    "from dask.distributed import Client, LocalCluster, progress, fire_and_forget\n",
    "from dask import delayed\n",
    "\n",
    "mpl.style.use('default')\n",
    "#%matplotlib notebook\n",
    "%matplotlib inline"
   ]
  },
  {
   "cell_type": "markdown",
   "metadata": {},
   "source": [
    "# Setting up Dask cluster\n",
    "To connect to the Dask dashboard use ssh portforwarding: http://distributed.dask.org/en/latest/web.html#id1"
   ]
  },
  {
   "cell_type": "markdown",
   "metadata": {},
   "source": [
    "cluster = LocalCluster(processes=False, n_workers=1)\n",
    "client=Client(cluster, processes=True)\n",
    "client"
   ]
  },
  {
   "cell_type": "markdown",
   "metadata": {},
   "source": [
    "# Tensorflow backend initialization"
   ]
  },
  {
   "cell_type": "code",
   "execution_count": 2,
   "metadata": {},
   "outputs": [
    {
     "name": "stderr",
     "output_type": "stream",
     "text": [
      "/opt/jupyterhub/anaconda/lib/python3.6/importlib/_bootstrap.py:219: RuntimeWarning: compiletime version 3.5 of module 'tensorflow.python.framework.fast_tensor_util' does not match runtime version 3.6\n",
      "  return f(*args, **kwds)\n",
      "Using TensorFlow backend.\n"
     ]
    },
    {
     "name": "stdout",
     "output_type": "stream",
     "text": [
      "Amount of GPUs available: 4\n"
     ]
    }
   ],
   "source": [
    "\"\"\"\n",
    "Setup multi GPU usage\n",
    "\n",
    "Example usage:\n",
    "model = Sequential()\n",
    "...\n",
    "multi_model = multi_gpu_model(model, gpus=num_gpu)\n",
    "multi_model.fit()\n",
    "\n",
    "About memory usage:\n",
    "https://stackoverflow.com/questions/34199233/how-to-prevent-tensorflow-from-allocating-the-totality-of-a-gpu-memory\n",
    "\"\"\"\n",
    "import tensorflow as tf\n",
    "from keras.utils.training_utils import multi_gpu_model\n",
    "from tensorflow.python.client import device_lib\n",
    "\n",
    "# IMPORTANT: Tells tf to not occupy a specific amount of memory\n",
    "from keras.backend.tensorflow_backend import set_session  \n",
    "config = tf.ConfigProto()  \n",
    "config.gpu_options.allow_growth = True  # dynamically grow the memory used on the GPU  \n",
    "sess = tf.Session(config=config)  \n",
    "set_session(sess)  # set this TensorFlow session as the default session for Keras.\n",
    "\n",
    "\n",
    "# getting the number of GPUs \n",
    "def get_available_gpus():\n",
    "   local_device_protos = device_lib.list_local_devices()\n",
    "   return [x.name for x in local_device_protos if x.device_type    == 'GPU']\n",
    "num_gpu = len(get_available_gpus())\n",
    "print('Amount of GPUs available: %s' % num_gpu)"
   ]
  },
  {
   "cell_type": "markdown",
   "metadata": {},
   "source": [
    "# Function definitions"
   ]
  },
  {
   "cell_type": "code",
   "execution_count": 3,
   "metadata": {},
   "outputs": [],
   "source": [
    "def create_corr_matrix(df, dwelling_id, annot):\n",
    "    \"\"\"\n",
    "    Pearson correlation coefficient matrix. \n",
    "    The Pearson correlation coefficient is a measure of the linear correlation between two variables.\n",
    "    \"\"\"\n",
    "    plt.clf()\n",
    "    \n",
    "    corr = df.corr()\n",
    "    mask = np.zeros_like(corr)\n",
    "    mask[np.triu_indices_from(mask)] = True\n",
    "\n",
    "    if annot:\n",
    "        fig, ax = plt.subplots(figsize=(25,25))\n",
    "    else:\n",
    "        fig, ax = plt.subplots()\n",
    "\n",
    "    fig = sns.heatmap(corr, mask=mask, square=False, cmap='RdYlGn', annot=annot, ax=ax, \n",
    "                cbar_kws={'label':'Pearson correlation coefficient [-]'})\n",
    "\n",
    "    fig.set_title('Correlation matrix of dwelling ID: '+dwelling_id)\n",
    "    fig.tick_params(axis='x', rotation=90)\n",
    "    fig.tick_params(axis='y', rotation=0)\n",
    "\n",
    "    fig = fig.get_figure()\n",
    "    fig.tight_layout()\n",
    "    fig.show()\n",
    "    \n",
    "    print('Saving heatmap')\n",
    "    #fig.savefig('//datc//opschaler//EDA//Pearson_corr//' + dwelling_id + '.png', dpi=300)\n",
    "    return fig\n",
    "\n",
    "\n",
    "def reduce_memory(df):\n",
    "    \"\"\"\n",
    "    Reduces memory footprint of the input dataframe.\n",
    "    Changes float64 columns to float32 dtype.\n",
    "    \"\"\"\n",
    "    columns = df.columns\n",
    "    memory_before = df.memory_usage(deep=False).sum() / 2**30 # convert bytes to GB\n",
    "\n",
    "    for column in tqdm(columns):\n",
    "        if df[column].dtype == 'float64':\n",
    "            df[column] = df[column].astype('float32')\n",
    "        \n",
    "    memory_after = df.memory_usage(deep=False).sum() / 2**30 # convert bytes to GB\n",
    "    print('Memory uasge reduced from %.3f GB to %.3f GB' % (memory_before, memory_after))\n",
    "    \n",
    "    return df\n",
    "\n",
    "\n",
    "def resample_df(df, sample_rate, combine_all_dwellings=False):\n",
    "    \"\"\"\n",
    "    Resampled a (un)processed dataframe to the specified sample_rate.\n",
    "    Input is a (un)processed df.\n",
    "    Input df may also be multiple dwelling dfs combined.\n",
    "    Sample rate must be a string. \n",
    "    For example '1H', '1D', '60s'.\n",
    "    \n",
    "    Combine all dwellings: resamples the df and ignores the fact that there are unique dwellings.\n",
    "    \n",
    "    TODO: add std to ePower, gasPower when combine_all_dwellings=False\n",
    "    \"\"\"\n",
    "    def resample_dwelling(df, sample_rate, dwelling_id):\n",
    "        df = df.resample(sample_rate).mean() # resample to rest by mean\n",
    "        df['dwelling'] = dwelling_id\n",
    "        return df\n",
    "        \n",
    "                      \n",
    "    resampled_dwellings = []\n",
    "    \n",
    "    if combine_all_dwellings: # Ignore dwelling_ids\n",
    "        df = df.drop(['eMeter', 'eMeterReturn', 'eMeterLow', 'eMeterLowReturn', 'gasMeter'], axis=1) # Drop columns because they are meaningless when ignoring dwelling ids\n",
    "        resampled_df = resample_dwelling(df, sample_rate, 'All dwellings')\n",
    "        resampled_dwellings.append(resampled_df)\n",
    "    else:\n",
    "        dwellings = df['dwelling'].unique() # Get dwelling ids\n",
    "        for dwelling_id in tqdm(dwellings):\n",
    "            dwelling_df = df[df['dwelling'] == dwelling_id] # Get the data from only that dwelling_id\n",
    "            resampled_dwelling = resample_dwelling(dwelling_df, sample_rate, dwelling_id)\n",
    "            resampled_dwellings.append(resampled_dwelling)\n",
    "    \n",
    "    resampled_df = pd.concat(resampled_dwellings)\n",
    "    \n",
    "    return resampled_df"
   ]
  },
  {
   "cell_type": "markdown",
   "metadata": {},
   "source": [
    "# Preparing dataframe for preprocessing"
   ]
  },
  {
   "cell_type": "code",
   "execution_count": 4,
   "metadata": {},
   "outputs": [
    {
     "name": "stderr",
     "output_type": "stream",
     "text": [
      "100%|██████████| 51/51 [00:00<00:00, 132.45it/s]"
     ]
    },
    {
     "name": "stdout",
     "output_type": "stream",
     "text": [
      "CPU times: user 840 ms, sys: 112 ms, total: 953 ms\n",
      "Wall time: 883 ms\n"
     ]
    },
    {
     "name": "stderr",
     "output_type": "stream",
     "text": [
      "\n"
     ]
    }
   ],
   "source": [
    "%%time\n",
    "#df = pd.read_csv('//datc//opschaler//combined_gas_smart_weather_dfs//processed//P01S01W8655_hour.csv', delimiter='\\t', parse_dates=['datetime'])\n",
    "df = pd.read_csv('//datc//opschaler//combined_gas_smart_weather_dfs//processed//all_dwellings_combined_hour.csv', delimiter='\\t', parse_dates=['datetime'])\n",
    "df = df.set_index(['datetime'])\n",
    "df = df.dropna()\n",
    "\n",
    "# Get an hour dataframe\n",
    "h = resample_df(df, 'D') # For some reason this makes df equal h, so it changes the df variable being read in at the start...\n",
    "h['hour'] = h.index.hour #create column containing the hour\n",
    "h['dayofweek'] = h.index.dayofweek"
   ]
  },
  {
   "cell_type": "code",
   "execution_count": 5,
   "metadata": {},
   "outputs": [
    {
     "data": {
      "text/html": [
       "<div>\n",
       "<style>\n",
       "    .dataframe thead tr:only-child th {\n",
       "        text-align: right;\n",
       "    }\n",
       "\n",
       "    .dataframe thead th {\n",
       "        text-align: left;\n",
       "    }\n",
       "\n",
       "    .dataframe tbody tr th {\n",
       "        vertical-align: top;\n",
       "    }\n",
       "</style>\n",
       "<table border=\"1\" class=\"dataframe\">\n",
       "  <thead>\n",
       "    <tr style=\"text-align: right;\">\n",
       "      <th></th>\n",
       "      <th>eMeter</th>\n",
       "      <th>eMeterReturn</th>\n",
       "      <th>eMeterLow</th>\n",
       "      <th>eMeterLowReturn</th>\n",
       "      <th>ePower</th>\n",
       "      <th>ePowerReturn</th>\n",
       "      <th>gasMeter</th>\n",
       "      <th>DD</th>\n",
       "      <th>DR</th>\n",
       "      <th>FF</th>\n",
       "      <th>...</th>\n",
       "      <th>T</th>\n",
       "      <th>T10</th>\n",
       "      <th>TD</th>\n",
       "      <th>U</th>\n",
       "      <th>VV</th>\n",
       "      <th>WW</th>\n",
       "      <th>gasPower</th>\n",
       "      <th>dwelling</th>\n",
       "      <th>hour</th>\n",
       "      <th>dayofweek</th>\n",
       "    </tr>\n",
       "    <tr>\n",
       "      <th>datetime</th>\n",
       "      <th></th>\n",
       "      <th></th>\n",
       "      <th></th>\n",
       "      <th></th>\n",
       "      <th></th>\n",
       "      <th></th>\n",
       "      <th></th>\n",
       "      <th></th>\n",
       "      <th></th>\n",
       "      <th></th>\n",
       "      <th></th>\n",
       "      <th></th>\n",
       "      <th></th>\n",
       "      <th></th>\n",
       "      <th></th>\n",
       "      <th></th>\n",
       "      <th></th>\n",
       "      <th></th>\n",
       "      <th></th>\n",
       "      <th></th>\n",
       "      <th></th>\n",
       "    </tr>\n",
       "  </thead>\n",
       "  <tbody>\n",
       "    <tr>\n",
       "      <th>2017-03-07</th>\n",
       "      <td>626.292503</td>\n",
       "      <td>0.0</td>\n",
       "      <td>359.521881</td>\n",
       "      <td>0.0</td>\n",
       "      <td>282.870693</td>\n",
       "      <td>0.0</td>\n",
       "      <td>307.980381</td>\n",
       "      <td>265.558334</td>\n",
       "      <td>0.000000</td>\n",
       "      <td>3.374167</td>\n",
       "      <td>...</td>\n",
       "      <td>7.050000</td>\n",
       "      <td>6.966667</td>\n",
       "      <td>4.175000</td>\n",
       "      <td>81.541667</td>\n",
       "      <td>21814.583496</td>\n",
       "      <td>2.125000</td>\n",
       "      <td>0.250999</td>\n",
       "      <td>P01S01W7548</td>\n",
       "      <td>0</td>\n",
       "      <td>1</td>\n",
       "    </tr>\n",
       "    <tr>\n",
       "      <th>2017-03-08</th>\n",
       "      <td>629.484212</td>\n",
       "      <td>0.0</td>\n",
       "      <td>360.328082</td>\n",
       "      <td>0.0</td>\n",
       "      <td>356.053646</td>\n",
       "      <td>0.0</td>\n",
       "      <td>310.351919</td>\n",
       "      <td>213.084098</td>\n",
       "      <td>224.500000</td>\n",
       "      <td>5.064417</td>\n",
       "      <td>...</td>\n",
       "      <td>6.746875</td>\n",
       "      <td>5.942014</td>\n",
       "      <td>5.512361</td>\n",
       "      <td>91.376389</td>\n",
       "      <td>12635.340159</td>\n",
       "      <td>27.159722</td>\n",
       "      <td>0.107499</td>\n",
       "      <td>P01S01W7548</td>\n",
       "      <td>0</td>\n",
       "      <td>2</td>\n",
       "    </tr>\n",
       "    <tr>\n",
       "      <th>2017-03-09</th>\n",
       "      <td>636.767047</td>\n",
       "      <td>0.0</td>\n",
       "      <td>361.247515</td>\n",
       "      <td>0.0</td>\n",
       "      <td>344.359775</td>\n",
       "      <td>0.0</td>\n",
       "      <td>312.175391</td>\n",
       "      <td>251.361233</td>\n",
       "      <td>39.913043</td>\n",
       "      <td>5.038065</td>\n",
       "      <td>...</td>\n",
       "      <td>8.107826</td>\n",
       "      <td>7.240290</td>\n",
       "      <td>6.275217</td>\n",
       "      <td>88.585507</td>\n",
       "      <td>12942.542630</td>\n",
       "      <td>17.879710</td>\n",
       "      <td>0.020870</td>\n",
       "      <td>P01S01W7548</td>\n",
       "      <td>0</td>\n",
       "      <td>3</td>\n",
       "    </tr>\n",
       "    <tr>\n",
       "      <th>2017-03-10</th>\n",
       "      <td>643.745875</td>\n",
       "      <td>0.0</td>\n",
       "      <td>362.233957</td>\n",
       "      <td>0.0</td>\n",
       "      <td>274.205846</td>\n",
       "      <td>0.0</td>\n",
       "      <td>312.732838</td>\n",
       "      <td>192.034376</td>\n",
       "      <td>0.000000</td>\n",
       "      <td>2.295215</td>\n",
       "      <td>...</td>\n",
       "      <td>6.000347</td>\n",
       "      <td>4.032222</td>\n",
       "      <td>2.408819</td>\n",
       "      <td>79.414583</td>\n",
       "      <td>17732.680524</td>\n",
       "      <td>9.366667</td>\n",
       "      <td>0.050125</td>\n",
       "      <td>P01S01W7548</td>\n",
       "      <td>0</td>\n",
       "      <td>4</td>\n",
       "    </tr>\n",
       "    <tr>\n",
       "      <th>2017-03-11</th>\n",
       "      <td>647.536987</td>\n",
       "      <td>0.0</td>\n",
       "      <td>365.092253</td>\n",
       "      <td>0.0</td>\n",
       "      <td>289.915380</td>\n",
       "      <td>0.0</td>\n",
       "      <td>313.870837</td>\n",
       "      <td>128.449862</td>\n",
       "      <td>0.000000</td>\n",
       "      <td>2.373917</td>\n",
       "      <td>...</td>\n",
       "      <td>8.258403</td>\n",
       "      <td>6.653681</td>\n",
       "      <td>3.016389</td>\n",
       "      <td>69.589583</td>\n",
       "      <td>24022.708252</td>\n",
       "      <td>1.887500</td>\n",
       "      <td>0.023083</td>\n",
       "      <td>P01S01W7548</td>\n",
       "      <td>0</td>\n",
       "      <td>5</td>\n",
       "    </tr>\n",
       "  </tbody>\n",
       "</table>\n",
       "<p>5 rows × 26 columns</p>\n",
       "</div>"
      ],
      "text/plain": [
       "                eMeter  eMeterReturn   eMeterLow  eMeterLowReturn      ePower  \\\n",
       "datetime                                                                        \n",
       "2017-03-07  626.292503           0.0  359.521881              0.0  282.870693   \n",
       "2017-03-08  629.484212           0.0  360.328082              0.0  356.053646   \n",
       "2017-03-09  636.767047           0.0  361.247515              0.0  344.359775   \n",
       "2017-03-10  643.745875           0.0  362.233957              0.0  274.205846   \n",
       "2017-03-11  647.536987           0.0  365.092253              0.0  289.915380   \n",
       "\n",
       "            ePowerReturn    gasMeter          DD          DR        FF  \\\n",
       "datetime                                                                 \n",
       "2017-03-07           0.0  307.980381  265.558334    0.000000  3.374167   \n",
       "2017-03-08           0.0  310.351919  213.084098  224.500000  5.064417   \n",
       "2017-03-09           0.0  312.175391  251.361233   39.913043  5.038065   \n",
       "2017-03-10           0.0  312.732838  192.034376    0.000000  2.295215   \n",
       "2017-03-11           0.0  313.870837  128.449862    0.000000  2.373917   \n",
       "\n",
       "              ...             T       T10        TD          U            VV  \\\n",
       "datetime      ...                                                              \n",
       "2017-03-07    ...      7.050000  6.966667  4.175000  81.541667  21814.583496   \n",
       "2017-03-08    ...      6.746875  5.942014  5.512361  91.376389  12635.340159   \n",
       "2017-03-09    ...      8.107826  7.240290  6.275217  88.585507  12942.542630   \n",
       "2017-03-10    ...      6.000347  4.032222  2.408819  79.414583  17732.680524   \n",
       "2017-03-11    ...      8.258403  6.653681  3.016389  69.589583  24022.708252   \n",
       "\n",
       "                   WW  gasPower     dwelling  hour  dayofweek  \n",
       "datetime                                                       \n",
       "2017-03-07   2.125000  0.250999  P01S01W7548     0          1  \n",
       "2017-03-08  27.159722  0.107499  P01S01W7548     0          2  \n",
       "2017-03-09  17.879710  0.020870  P01S01W7548     0          3  \n",
       "2017-03-10   9.366667  0.050125  P01S01W7548     0          4  \n",
       "2017-03-11   1.887500  0.023083  P01S01W7548     0          5  \n",
       "\n",
       "[5 rows x 26 columns]"
      ]
     },
     "execution_count": 5,
     "metadata": {},
     "output_type": "execute_result"
    }
   ],
   "source": [
    "h.head()"
   ]
  },
  {
   "cell_type": "markdown",
   "metadata": {},
   "source": [
    "## Get a proper hourly dataframe"
   ]
  },
  {
   "cell_type": "code",
   "execution_count": 6,
   "metadata": {},
   "outputs": [
    {
     "name": "stdout",
     "output_type": "stream",
     "text": [
      "Saving heatmap\n"
     ]
    },
    {
     "name": "stderr",
     "output_type": "stream",
     "text": [
      "/opt/jupyterhub/anaconda/lib/python3.6/site-packages/matplotlib/figure.py:459: UserWarning: matplotlib is currently using a non-GUI backend, so cannot show the figure\n",
      "  \"matplotlib is currently using a non-GUI backend, \"\n"
     ]
    },
    {
     "data": {
      "text/plain": [
       "<Figure size 432x288 with 0 Axes>"
      ]
     },
     "metadata": {},
     "output_type": "display_data"
    },
    {
     "data": {
      "image/png": "[encoded data removed]",
      "text/plain": [
       "<Figure size 432x288 with 2 Axes>"
      ]
     },
     "metadata": {},
     "output_type": "display_data"
    }
   ],
   "source": [
    "fig = create_corr_matrix(h, '', False)"
   ]
  },
  {
   "cell_type": "markdown",
   "metadata": {},
   "source": [
    "## Select data we want"
   ]
  },
  {
   "cell_type": "code",
   "execution_count": 7,
   "metadata": {},
   "outputs": [
    {
     "data": {
      "image/png": "[encoded data removed]",
      "text/plain": [
       "<Figure size 432x288 with 2 Axes>"
      ]
     },
     "metadata": {},
     "output_type": "display_data"
    }
   ],
   "source": [
    "data = h\n",
    "data = data.drop(['eMeter', 'eMeterReturn', 'eMeterLow', 'eMeterLowReturn', 'gasMeter'], axis=1) # Not needed\n",
    "data = data.drop(['WW', 'VV', 'P', 'DR', 'SQ', 'TD', 'T10', 'FX'], axis=1) # Drop weather columns which contain correlated information, keep only one type\n",
    "\n",
    "\"\"\"\n",
    "Set dwelling id as category data. \n",
    "This way all data of one dwelling is in one category. \n",
    "Might lateron expand this to take house characteristics into account (The Excel data?), once this gets decent results)\n",
    "\"\"\"\n",
    "data['dwelling_cat'] = data['dwelling'].astype('category').cat.codes\n",
    "\n",
    "#sns.heatmap(data.corr(), annot=True)\n",
    "\n",
    "data = data.drop(['ePower', 'ePowerReturn'], axis=1) # Drop if want to predict gasPower\n",
    "\n",
    "# Drop columns with that have a |corr| > 0.1 with T\n",
    "data = data.drop(['U', 'N', 'Q', 'DD'], axis=1)\n",
    "\n",
    "#data = data[data['gasPower'] > 0] #filter data based on condition\n",
    "data = data.dropna()\n",
    "magnitude = 1\n",
    "data['gasPower'] = data['gasPower']*10**magnitude\n",
    "\n",
    "sns.heatmap(data.corr(), annot=True)\n",
    "plt.title('Pearson correlation coefficient')\n",
    "plt.tight_layout()\n",
    "#plt.savefig('figures//NN corr heatmap.png', dpi=1000)"
   ]
  },
  {
   "cell_type": "markdown",
   "metadata": {},
   "source": [
    "# EDA"
   ]
  },
  {
   "cell_type": "code",
   "execution_count": 8,
   "metadata": {},
   "outputs": [
    {
     "data": {
      "text/plain": [
       "<matplotlib.legend.Legend at 0x7fa63c7797b8>"
      ]
     },
     "execution_count": 8,
     "metadata": {},
     "output_type": "execute_result"
    },
    {
     "data": {
      "image/png": "[encoded data removed]",
      "text/plain": [
       "<Figure size 432x288 with 1 Axes>"
      ]
     },
     "metadata": {},
     "output_type": "display_data"
    }
   ],
   "source": [
    "plt.plot(data['T'], data['gasPower'], '.', color='r', label='Original data')\n",
    "plt.grid()\n",
    "plt.xlabel('Temperature [°C]')\n",
    "plt.ylabel(r'gasPower $\\cdot$ 10$^{-%s}$ [m$^3$/h]' % magnitude)\n",
    "plt.legend()"
   ]
  },
  {
   "cell_type": "markdown",
   "metadata": {},
   "source": [
    "# Preprocessing"
   ]
  },
  {
   "cell_type": "code",
   "execution_count": 9,
   "metadata": {},
   "outputs": [
    {
     "name": "stdout",
     "output_type": "stream",
     "text": [
      "X columns final: ['FF', 'RG', 'T', 'hour', 'dayofweek', 'dwelling_cat']\n"
     ]
    }
   ],
   "source": [
    "from sklearn.preprocessing import MinMaxScaler, StandardScaler\n",
    "from sklearn.model_selection import train_test_split\n",
    "\n",
    "seed = 42\n",
    "\n",
    "X = data.drop(['gasPower', 'dwelling'], axis=1)\n",
    "#X = data[['T']] # Only select T column\n",
    "print('X columns final: %s' % list(X.columns))\n",
    "#sns.heatmap(X.corr(), annot=True)\n",
    "\n",
    "y = data[['gasPower']]"
   ]
  },
  {
   "cell_type": "markdown",
   "metadata": {},
   "source": [
    "# train_test_split the data"
   ]
  },
  {
   "cell_type": "code",
   "execution_count": 10,
   "metadata": {},
   "outputs": [
    {
     "name": "stdout",
     "output_type": "stream",
     "text": [
      "\n",
      "X_train -> \t shape: (2292, 6) \t var: 0.8 \t mean: -0.0 \t std: 0.9, \t min: -2.9 \t max: 12.6\n",
      "X_test -> \t shape: (2292, 6) \t var: 0.8 \t mean: 0.0 \t std: 0.9, \t min: -2.9 \t max: 7.9\n",
      "\n",
      "y_train -> \t shape: (2292, 1) \t var: 7.7E-01 \t mean: 8.2E-01  std: 8.8E-01, \t min: 0.0E+00 \t max: 1.4E+01\n",
      "y_test -> \t shape: (2292, 1) \t var: 7.9E-01 \t mean: 8.3E-01 \t std: 8.9E-01, \t min: 0.0E+00 \t max: 6.1E+00\n"
     ]
    }
   ],
   "source": [
    "X = np.array(X).reshape(-1, len(X.columns))\n",
    "y = np.array(y).reshape(-1, 1)\n",
    "\n",
    "X_train, X_test, y_train, y_test = train_test_split(X, y, test_size=0.5, random_state=seed)\n",
    "\n",
    "# fit scalers to training data\n",
    "scalerX = StandardScaler(with_mean=True, with_std=True).fit(X_train)\n",
    "scalery = StandardScaler(with_mean=True, with_std=True).fit(y_train)\n",
    "\n",
    "# Normalize X arrrays\n",
    "X_train = scalerX.transform(X_train)\n",
    "X_test = scalerX.transform(X_test)\n",
    "\n",
    "# Get test data in the correct shape and format\n",
    "y_train = np.array(y_train).reshape(-1,1) #reshape if y_train is not scaled, transforming should not be needed\n",
    "y_test = np.array(y_test).reshape(-1,1)\n",
    "\n",
    "def stats(ndarray):\n",
    "    shape = ndarray.shape\n",
    "    var = ndarray.var()\n",
    "    mean = ndarray.mean()\n",
    "    std = ndarray.std()\n",
    "    min_ = ndarray.min()\n",
    "    max_ = ndarray.max()\n",
    "    return shape, var, mean, std, min_, max_\n",
    "\n",
    "print('')\n",
    "print('X_train -> \\t shape: %s \\t var: %.1f \\t mean: %.1f \\t std: %.1f, \\t min: %.1f \\t max: %.1f'% (stats(X_train)))\n",
    "print('X_test -> \\t shape: %s \\t var: %.1f \\t mean: %.1f \\t std: %.1f, \\t min: %.1f \\t max: %.1f'% (stats(X_test)))\n",
    "print('')\n",
    "print('y_train -> \\t shape: %s \\t var: %.1E \\t mean: %.1E  std: %.1E, \\t min: %.1E \\t max: %.1E'% (stats(y_train)))\n",
    "print('y_test -> \\t shape: %s \\t var: %.1E \\t mean: %.1E \\t std: %.1E, \\t min: %.1E \\t max: %.1E'% (stats(y_test)))"
   ]
  },
  {
   "cell_type": "markdown",
   "metadata": {},
   "source": [
    "# Predict gasPower with most other variables"
   ]
  },
  {
   "cell_type": "markdown",
   "metadata": {},
   "source": [
    "# Create the model"
   ]
  },
  {
   "cell_type": "code",
   "execution_count": 11,
   "metadata": {},
   "outputs": [],
   "source": [
    "from keras.models import Sequential\n",
    "from keras.layers.core import Dense, Activation, Dropout, Flatten\n",
    "from keras.layers.recurrent import LSTM\n",
    "from keras.layers import Dense, Conv1D, MaxPool2D, Flatten, Dropout\n",
    "from keras.callbacks import EarlyStopping, TensorBoard\n",
    "from keras.optimizers import Adam, SGD, Nadam\n",
    "from time import time\n",
    "from livelossplot import PlotLossesKeras"
   ]
  },
  {
   "cell_type": "markdown",
   "metadata": {},
   "source": [
    "# Model node size & layer size scanner"
   ]
  },
  {
   "cell_type": "code",
   "execution_count": 12,
   "metadata": {
    "scrolled": true
   },
   "outputs": [],
   "source": [
    "def compile_model(model):\n",
    "    # Compile model\n",
    "    model = multi_gpu_model(model, gpus=num_gpu)\n",
    "    model.compile(loss='mean_squared_error', metrics=['mse'], optimizer='adam')\n",
    "    return model\n",
    "\n",
    "\n",
    "def generate_models(first_layer_sizes, deep_layers, deep_layer_sizes, dropouts, activations, optimizers):\n",
    "    \"\"\"\n",
    "    TODO: Add model, first layer size, deep layers, deep layer size to a dict.\n",
    "    \n",
    "    Generate different models, depending on input variables. \n",
    "    Loops works from the inside out, in comparisment to a regular model. \n",
    "    For example with input: \n",
    "    first_layer_sizes = [8, 16]\n",
    "    deep_layers = [0, 4, 8, 16]\n",
    "    deep_layer_sizes = [8, 16, 32, 64]\n",
    "    dropouts = [0.5]\n",
    "    activations = ['relu']\n",
    "    optimizers = ['adam']\n",
    "    \n",
    "    Will do create models with:\n",
    "    model i output:\n",
    "    first_layer_size, deep_layers, deep_layer_size\n",
    "    \n",
    "    first model -> 8 0 8\n",
    "    second model -> 8 1 8\n",
    "    third model -> 8 2 8\n",
    "    ...\n",
    "    16 0 8\n",
    "    16 1 8\n",
    "    16 3 8\n",
    "    ...\n",
    "    32 0 8\n",
    "    32 1 8\n",
    "    32 2 8\n",
    "    ...\n",
    "    64 0 8\n",
    "    64 1 8\n",
    "    64 2 8\n",
    "    ...\n",
    "    8 0 16\n",
    "    8 1 16\n",
    "    8 2 16\n",
    "    ...\n",
    "    16 0 16\n",
    "    16 1 16\n",
    "    16 2 16\n",
    "    ...\n",
    "\n",
    "    This will be more clear if you look at the prints being generated while you run this function. \n",
    "    \"\"\"\n",
    "    N = len(deep_layers)*len(deep_layer_sizes)*len(first_layer_sizes)*len(dropouts)*len(activations)*len(optimizers)\n",
    "    print('Models to compile: %s' % N)\n",
    "    N = 0\n",
    "    \n",
    "    models = []\n",
    "    info_first_layer_sizes = []\n",
    "    info_deep_layers = []\n",
    "    info_deep_layer_sizes = []\n",
    "    info_dropouts = []\n",
    "    info_activations = []\n",
    "    info_optimizers = []\n",
    "    \n",
    "    for deep_layer_size in deep_layer_sizes:\n",
    "        #print('selected deep_layer_size: %s' % deep_layer_size)  \n",
    "        for first_layer_size in first_layer_sizes:  \n",
    "            #print('selected first_layer_size: %s' % first_layer_size)  \n",
    "            for layers in deep_layers:\n",
    "                for d in dropouts:\n",
    "                    for a in activations:\n",
    "                        for o in optimizers:\n",
    "                            print('model: %s \\t first_layer_size: %s \\t deep layers: %s \\t deep_layer_size: %s \\t' % (N, first_layer_size, layers, deep_layer_size))\n",
    "                            model = Sequential()\n",
    "\n",
    "                            # Input layer\n",
    "                            model.add(Dense(first_layer_size, input_shape=(X_train.shape[1],), kernel_initializer='normal'))\n",
    "                            model.add(Activation('relu'))\n",
    "                            model.add(Dropout(d, seed=seed))\n",
    "                \n",
    "                            # Add deep layers\n",
    "                            for j in range(layers):\n",
    "                                #print('Added deep layer: %s' % j)\n",
    "                                model.add(Dense(deep_layer_size, kernel_initializer='normal'))\n",
    "                                model.add(Activation('relu'))\n",
    "                                model.add(Dropout(d, seed=seed))\n",
    "\n",
    "        \n",
    "                            # Output layer\n",
    "                            model.add(Dense(1, kernel_initializer='normal'))\n",
    "                            model.add(Activation('linear'))\n",
    "                \n",
    "                            #model = multi_gpu_model(model, gpus=num_gpu)\n",
    "                            #model.compile(loss='mean_squared_error', metrics=['mse'], optimizer='adam')\n",
    "                            model = multi_gpu_model(model, gpus=num_gpu)\n",
    "                            model.compile(loss='mean_squared_error', metrics=['mse'], optimizer=o)\n",
    "                            #model = delayed(compile_model)(model)\n",
    "                            #model = model.persist()\n",
    "                            models.append(model)\n",
    "                \n",
    "                            # Append erchitecture info to lists\n",
    "                            info_first_layer_sizes.append(first_layer_size)\n",
    "                            info_deep_layers.append(layers) # Amount of deep layers\n",
    "                            info_deep_layer_sizes.append(deep_layer_size)\n",
    "                            info_dropouts.append(d)\n",
    "                            info_activations.append(a)\n",
    "                            info_optimizers.append(o)\n",
    "\n",
    "                            N +=1\n",
    "                            #print('------------------------------------------------model compiled')\n",
    "                \n",
    "    # Create model architecture df, list of lists to df\n",
    "    headers = ['First layer size', 'Amount of deep layers', 'Deep layer sizes', 'Dropout', 'Activation', 'Optimizer']\n",
    "    z = [info_first_layer_sizes, info_deep_layers, info_deep_layer_sizes, info_dropouts, info_activations, info_optimizers]\n",
    "    df = pd.DataFrame(z)\n",
    "    df = df.T # Take the transpose\n",
    "    df.columns = headers\n",
    "    df['Model number'] = df.index\n",
    "        \n",
    "    return models, df"
   ]
  },
  {
   "cell_type": "markdown",
   "metadata": {},
   "source": [
    "# Scan layer & node sizes"
   ]
  },
  {
   "cell_type": "code",
   "execution_count": 13,
   "metadata": {
    "scrolled": true
   },
   "outputs": [
    {
     "name": "stdout",
     "output_type": "stream",
     "text": [
      "Models to compile: 24\n",
      "model: 0 \t first_layer_size: 128 \t deep layers: 2 \t deep_layer_size: 32 \t\n",
      "model: 1 \t first_layer_size: 128 \t deep layers: 2 \t deep_layer_size: 32 \t\n",
      "model: 2 \t first_layer_size: 128 \t deep layers: 2 \t deep_layer_size: 32 \t\n",
      "model: 3 \t first_layer_size: 128 \t deep layers: 2 \t deep_layer_size: 32 \t\n",
      "model: 4 \t first_layer_size: 128 \t deep layers: 2 \t deep_layer_size: 32 \t\n",
      "model: 5 \t first_layer_size: 128 \t deep layers: 2 \t deep_layer_size: 32 \t\n",
      "model: 6 \t first_layer_size: 128 \t deep layers: 3 \t deep_layer_size: 32 \t\n",
      "model: 7 \t first_layer_size: 128 \t deep layers: 3 \t deep_layer_size: 32 \t\n",
      "model: 8 \t first_layer_size: 128 \t deep layers: 3 \t deep_layer_size: 32 \t\n",
      "model: 9 \t first_layer_size: 128 \t deep layers: 3 \t deep_layer_size: 32 \t\n",
      "model: 10 \t first_layer_size: 128 \t deep layers: 3 \t deep_layer_size: 32 \t\n",
      "model: 11 \t first_layer_size: 128 \t deep layers: 3 \t deep_layer_size: 32 \t\n",
      "model: 12 \t first_layer_size: 128 \t deep layers: 2 \t deep_layer_size: 64 \t\n",
      "model: 13 \t first_layer_size: 128 \t deep layers: 2 \t deep_layer_size: 64 \t\n",
      "model: 14 \t first_layer_size: 128 \t deep layers: 2 \t deep_layer_size: 64 \t\n",
      "model: 15 \t first_layer_size: 128 \t deep layers: 2 \t deep_layer_size: 64 \t\n",
      "model: 16 \t first_layer_size: 128 \t deep layers: 2 \t deep_layer_size: 64 \t\n",
      "model: 17 \t first_layer_size: 128 \t deep layers: 2 \t deep_layer_size: 64 \t\n",
      "model: 18 \t first_layer_size: 128 \t deep layers: 3 \t deep_layer_size: 64 \t\n",
      "model: 19 \t first_layer_size: 128 \t deep layers: 3 \t deep_layer_size: 64 \t\n",
      "model: 20 \t first_layer_size: 128 \t deep layers: 3 \t deep_layer_size: 64 \t\n",
      "model: 21 \t first_layer_size: 128 \t deep layers: 3 \t deep_layer_size: 64 \t\n",
      "model: 22 \t first_layer_size: 128 \t deep layers: 3 \t deep_layer_size: 64 \t\n",
      "model: 23 \t first_layer_size: 128 \t deep layers: 3 \t deep_layer_size: 64 \t\n",
      "CPU times: user 13.3 s, sys: 877 ms, total: 14.2 s\n",
      "Wall time: 13.1 s\n"
     ]
    }
   ],
   "source": [
    "%%time\n",
    "\n",
    "first_layer_sizes = [128]\n",
    "deep_layers = [2, 3]\n",
    "deep_layer_sizes = [32, 64]\n",
    "#dropouts = np.linspace(0, 1, 10)\n",
    "dropouts = [0.1]\n",
    "activations = ['relu', 'sigmoid']\n",
    "optimizers = ['adam', 'nadam', 'sgd']\n",
    "\n",
    "models, architectures = generate_models(first_layer_sizes, deep_layers, deep_layer_sizes, dropouts, activations, optimizers)"
   ]
  },
  {
   "cell_type": "code",
   "execution_count": null,
   "metadata": {},
   "outputs": [
    {
     "data": {
      "text/html": [
       "<div>\n",
       "<style>\n",
       "    .dataframe thead tr:only-child th {\n",
       "        text-align: right;\n",
       "    }\n",
       "\n",
       "    .dataframe thead th {\n",
       "        text-align: left;\n",
       "    }\n",
       "\n",
       "    .dataframe tbody tr th {\n",
       "        vertical-align: top;\n",
       "    }\n",
       "</style>\n",
       "<table border=\"1\" class=\"dataframe\">\n",
       "  <thead>\n",
       "    <tr style=\"text-align: right;\">\n",
       "      <th></th>\n",
       "      <th>First layer size</th>\n",
       "      <th>Amount of deep layers</th>\n",
       "      <th>Deep layer sizes</th>\n",
       "      <th>Dropout</th>\n",
       "      <th>Activation</th>\n",
       "      <th>Optimizer</th>\n",
       "      <th>Model number</th>\n",
       "    </tr>\n",
       "  </thead>\n",
       "  <tbody>\n",
       "    <tr>\n",
       "      <th>0</th>\n",
       "      <td>128</td>\n",
       "      <td>2</td>\n",
       "      <td>32</td>\n",
       "      <td>0.1</td>\n",
       "      <td>relu</td>\n",
       "      <td>adam</td>\n",
       "      <td>0</td>\n",
       "    </tr>\n",
       "    <tr>\n",
       "      <th>1</th>\n",
       "      <td>128</td>\n",
       "      <td>2</td>\n",
       "      <td>32</td>\n",
       "      <td>0.1</td>\n",
       "      <td>relu</td>\n",
       "      <td>nadam</td>\n",
       "      <td>1</td>\n",
       "    </tr>\n",
       "    <tr>\n",
       "      <th>2</th>\n",
       "      <td>128</td>\n",
       "      <td>2</td>\n",
       "      <td>32</td>\n",
       "      <td>0.1</td>\n",
       "      <td>relu</td>\n",
       "      <td>sgd</td>\n",
       "      <td>2</td>\n",
       "    </tr>\n",
       "    <tr>\n",
       "      <th>3</th>\n",
       "      <td>128</td>\n",
       "      <td>2</td>\n",
       "      <td>32</td>\n",
       "      <td>0.1</td>\n",
       "      <td>sigmoid</td>\n",
       "      <td>adam</td>\n",
       "      <td>3</td>\n",
       "    </tr>\n",
       "    <tr>\n",
       "      <th>4</th>\n",
       "      <td>128</td>\n",
       "      <td>2</td>\n",
       "      <td>32</td>\n",
       "      <td>0.1</td>\n",
       "      <td>sigmoid</td>\n",
       "      <td>nadam</td>\n",
       "      <td>4</td>\n",
       "    </tr>\n",
       "  </tbody>\n",
       "</table>\n",
       "</div>"
      ],
      "text/plain": [
       "  First layer size Amount of deep layers Deep layer sizes Dropout Activation  \\\n",
       "0              128                     2               32     0.1       relu   \n",
       "1              128                     2               32     0.1       relu   \n",
       "2              128                     2               32     0.1       relu   \n",
       "3              128                     2               32     0.1    sigmoid   \n",
       "4              128                     2               32     0.1    sigmoid   \n",
       "\n",
       "  Optimizer  Model number  \n",
       "0      adam             0  \n",
       "1     nadam             1  \n",
       "2       sgd             2  \n",
       "3      adam             3  \n",
       "4     nadam             4  "
      ]
     },
     "execution_count": 14,
     "metadata": {},
     "output_type": "execute_result"
    }
   ],
   "source": [
    "architectures.head()"
   ]
  },
  {
   "cell_type": "markdown",
   "metadata": {},
   "source": [
    "# Fit the models"
   ]
  },
  {
   "cell_type": "markdown",
   "metadata": {},
   "source": [
    "To load tensorboard follow these steps in the datascience terminal:  \n",
    "`cd notebooks/KB-74-OPSCHALER/Personal_folder/Brian/Keras`  \n",
    "`tensorboard --logdir=.logs/ --port=6009`  \n",
    "Then ssh port-forward in your own terminal:  \n",
    "`ssh -NL 6009:localhost:6009 16011015@datascience.hhs.nl`  \n"
   ]
  },
  {
   "cell_type": "code",
   "execution_count": null,
   "metadata": {
    "scrolled": true
   },
   "outputs": [
    {
     "data": {
      "image/png": "[encoded data removed]",
      "text/plain": [
       "<Figure size 864x576 with 2 Axes>"
      ]
     },
     "metadata": {},
     "output_type": "display_data"
    },
    {
     "name": "stdout",
     "output_type": "stream",
     "text": [
      "Epoch 131/2000\n"
     ]
    }
   ],
   "source": [
    "from datetime import datetime\n",
    "now = datetime.now()\n",
    "\n",
    "histories = []\n",
    "\n",
    "N_epochs = 2000\n",
    "\n",
    "# Use dask on this?\n",
    "for i, model in enumerate(tqdm(models)):\n",
    "    df = architectures.iloc[i,:]\n",
    "    model_name = (\"| model: %s (layers x nodes) 1x%s - %sx%s - 1 | %s | %s | %s\" % (df[6], df[0], df[1], df[2], df[3], df[4], df[5])) # Give the model a name, containing architecture information\n",
    "    tensorboard = TensorBoard(log_dir=\".logs/\"+now.strftime(\"%Y%m%d-%H%M%S\")+\"/{}\".format(model_name)) # save model in 'now' dir.\n",
    "    early_stopping_monitor = EarlyStopping(patience=500)\n",
    "    \n",
    "    history = model.fit(X_train, y_train, batch_size=int(len(X_train)), \n",
    "                epochs=N_epochs, verbose=3, validation_data=(X_test, y_test),\n",
    "                callbacks=[early_stopping_monitor, PlotLossesKeras(), tensorboard])\n",
    "    \n",
    "    histories.append(history)"
   ]
  },
  {
   "cell_type": "markdown",
   "metadata": {},
   "source": [
    "# Plot the results"
   ]
  },
  {
   "cell_type": "code",
   "execution_count": null,
   "metadata": {},
   "outputs": [],
   "source": [
    "# Show results\n",
    "for i, history in enumerate(histories):\n",
    "    plt.subplot(1,2,1)\n",
    "    plt.title('val_mean_squared_error')\n",
    "    plt.plot(history.history['val_mean_squared_error'], label=i)\n",
    "    plt.xlabel('epoch')\n",
    "    plt.tight_layout()\n",
    "    \n",
    "    plt.subplot(1,2,2)\n",
    "    plt.title('mean_squared_error')\n",
    "    plt.plot(history.history['mean_squared_error'], label=i)\n",
    "    plt.xlabel('epoch')\n",
    "    plt.tight_layout()\n",
    "    \n",
    "    #plt.legend()"
   ]
  },
  {
   "cell_type": "code",
   "execution_count": null,
   "metadata": {
    "scrolled": true
   },
   "outputs": [],
   "source": [
    "final_scores = []\n",
    "for i in tqdm(range(len(histories))):\n",
    "    model = models[i]\n",
    "    final_score = model.fit(X_test, y_test, verbose=0).history['mean_squared_error'][0]\n",
    "    final_scores.append(final_score)\n",
    "\n",
    "plt.plot(final_scores, '.', color='r')\n",
    "plt.ylabel('mean squared error')\n",
    "plt.xlabel('model number [-]')\n",
    "plt.title('Validation MSE of models at %sth epoch' % N_epochs)\n",
    "plt.grid()\n",
    "\n",
    "plt.savefig('scan results', dpi=1000)"
   ]
  },
  {
   "cell_type": "markdown",
   "metadata": {},
   "source": [
    "# Update the model architecture dataframe"
   ]
  },
  {
   "cell_type": "code",
   "execution_count": null,
   "metadata": {
    "scrolled": true
   },
   "outputs": [],
   "source": [
    "architectures['Final MSE'] = final_scores\n",
    "#architectures.to_csv('architectures_all_dwellings_day_2.csv', sep='\\t')\n",
    "architectures"
   ]
  },
  {
   "cell_type": "code",
   "execution_count": null,
   "metadata": {},
   "outputs": [],
   "source": [
    "architectures[architectures['Final MSE'] < 0.48]"
   ]
  },
  {
   "cell_type": "markdown",
   "metadata": {},
   "source": [
    "# Plot insights"
   ]
  },
  {
   "cell_type": "code",
   "execution_count": null,
   "metadata": {},
   "outputs": [],
   "source": [
    "df = architectures\n",
    "\n",
    "fig, axarr = plt.subplots(2,2)\n",
    "\n",
    "\n",
    "axarr[0, 0].plot(df['First layer size'], df['Final MSE'], '.', color='r', alpha=1, label='Real')\n",
    "axarr[0, 0].grid()\n",
    "axarr[0, 0].set_xlabel('Input layer size [-]')\n",
    "axarr[0, 0].set_ylabel('MSE')\n",
    "\n",
    "axarr[0, 1].plot(df['Amount of deep layers'], df['Final MSE'], '.', color='r', alpha=1, label='Real')\n",
    "axarr[0, 1].grid()\n",
    "axarr[0, 1].set_xlabel('Amount of deep layers [-]')\n",
    "axarr[0, 1].set_ylabel('MSE')\n",
    "\n",
    "axarr[1, 0].plot(df['Deep layer sizes'], df['Final MSE'], '.', color='r', alpha=1, label='Real')\n",
    "axarr[1, 0].grid()\n",
    "axarr[1, 0].set_xlabel('Deep layer sizes [-]')\n",
    "axarr[1, 0].set_ylabel('MSE')\n",
    "\n",
    "axarr[1, 1].plot(df['Model number'], df['Final MSE'], '.', color='r', alpha=1, label='Real')\n",
    "axarr[1, 1].grid()\n",
    "axarr[1, 1].set_xlabel('Model number [-]')\n",
    "axarr[1, 1].set_ylabel('MSE')\n",
    "\n",
    "\n",
    "fig.suptitle('Deep neural network structure results after %s epochs' % N_epochs, fontsize = 14)\n",
    "fig.set_size_inches(10,10)\n",
    "fig.tight_layout()\n",
    "\n",
    "fig.subplots_adjust(top=0.93) # Adjust title spacing at the top"
   ]
  },
  {
   "cell_type": "code",
   "execution_count": null,
   "metadata": {},
   "outputs": [],
   "source": [
    "sns.pairplot(df)"
   ]
  },
  {
   "cell_type": "markdown",
   "metadata": {},
   "source": [
    "# Plot results"
   ]
  },
  {
   "cell_type": "code",
   "execution_count": null,
   "metadata": {},
   "outputs": [],
   "source": [
    "# model number to select\n",
    "N = 0\n",
    "\n",
    "\n",
    "# X_test is already transformed\n",
    "x_pred = X_test\n",
    "#x_pred = scalerX.transform(x_pred)\n",
    "\n",
    "y_pred = models[N].predict(x_pred)\n",
    "\n",
    "\n",
    "print('x_pred scaled-> \\t shape: %s \\t var: %.1E \\t mean: %.1E \\t std: %.1E'% (x_pred.shape, x_pred.var(), x_pred.mean(), x_pred.std()))\n",
    "\n",
    "x_pred = scalerX.inverse_transform(x_pred)\n",
    "print('x_pred inverse-> \\t shape: %s \\t var: %.1E \\t mean: %.1E \\t std: %.1E'% (x_pred.shape, x_pred.var(), x_pred.mean(), x_pred.std()))\n",
    "\n",
    "# select test variables\n",
    "FF = x_pred[:,0]\n",
    "RG = x_pred[:,1]\n",
    "T = x_pred[:,2]\n",
    "\n",
    "fig, axarr = plt.subplots(2,2)\n",
    "\n",
    "\n",
    "axarr[0, 0].plot(data['T'], data['gasPower'], '.', color='r', alpha=0.3, label='Real')\n",
    "axarr[0, 0].plot(T, y_test, 'v', color='g', label='X_test, y_test', alpha=0.3)\n",
    "axarr[0, 0].plot(T, y_pred, 'x', color='b', label='Predicted', alpha=0.3)\n",
    "axarr[0, 0].grid()\n",
    "axarr[0, 0].set_xlabel('Temperature at 1,5 m $T$ [$\\degree$C] \\n (1 min mean)')\n",
    "axarr[0, 0].set_ylabel(r'gasPower $\\cdot$ 10$^{-%s}$ [m$^3$/h]' % magnitude)\n",
    "\n",
    "axarr[0, 1].plot(data['RG'], data['gasPower'], '.', color='r', alpha=0.3, label='Real')\n",
    "axarr[0, 1].plot(RG, y_test, 'v', color='g', alpha=0.3, label='X_test, y_test')\n",
    "axarr[0, 1].plot(RG, y_pred, 'x', color='b', alpha=0.3, label='Predicted')\n",
    "axarr[0, 1].grid()\n",
    "axarr[0, 1].set_xlabel('Rain intensity $RG$ [mm/h] \\n (10 min mean)')\n",
    "axarr[0, 1].set_ylabel(r'gasPower $\\cdot$ 10$^{-%s}$ [m$^3$/h]' % magnitude)\n",
    "\n",
    "\n",
    "axarr[1, 0].plot(data['FF'], data['gasPower'], '.', color='r', alpha=0.3, label='All real data')\n",
    "axarr[1, 0].plot(FF, y_test, 'v', color='g', label='X_test, y_test', alpha=0.3)\n",
    "axarr[1, 0].plot(FF, y_pred, 'x', color='b', label='X_test, y_predicted', alpha=0.3)\n",
    "axarr[1, 0].grid()\n",
    "axarr[1, 0].set_xlabel('Wind speed $FF$ [m/s] \\n (10 min mean)')\n",
    "axarr[1, 0].set_ylabel(r'gasPower $\\cdot$ 10$^{-%s}$ [m$^3$/h]' % magnitude)\n",
    "\n",
    "fig.delaxes(axarr[1, 1])\n",
    "\n",
    "mse = models[N].evaluate(X_test, y_test)[0]\n",
    "mse_val = str(mse)[:4]\n",
    "mse_power = str(mse)[-1:]\n",
    "\n",
    "#fig.suptitle('Deep neural network regression results with gasPower as the target \\n Validation MSE = %s $\\cdot$ 10$^{-%s}$' % (mse_val, mse_power), fontsize = 14)\n",
    "fig.suptitle('Deep neural network regression results with gasPower as the target \\n Validation MSE = %s' % (mse_val), fontsize = 14)\n",
    "\n",
    "fig.set_size_inches(10,10)\n",
    "fig.tight_layout()\n",
    "\n",
    "fig.subplots_adjust(top=0.9) # Adjust title spacing at the top\n",
    "\n",
    "axarr[1, 0].legend(loc='lower left', bbox_to_anchor= (1.25, 0.3), borderaxespad=0, frameon=False, fontsize=14, markerscale=3)"
   ]
  },
  {
   "cell_type": "code",
   "execution_count": null,
   "metadata": {},
   "outputs": [],
   "source": [
    "fig.savefig('DDN last result.png', dpi=1200)\n",
    "print('FINISHED')"
   ]
  },
  {
   "cell_type": "code",
   "execution_count": null,
   "metadata": {},
   "outputs": [],
   "source": [
    "# Complete plot, commented out\n",
    "# X_test is already transformed\n",
    "x_pred = X_test\n",
    "#x_pred = scalerX.transform(x_pred)\n",
    "\n",
    "y_pred = model.predict(x_pred)\n",
    "\n",
    "\n",
    "print('x_pred scaled-> \\t shape: %s \\t var: %.1E \\t mean: %.1E \\t std: %.1E'% (x_pred.shape, x_pred.var(), x_pred.mean(), x_pred.std()))\n",
    "\n",
    "x_pred = scalerX.inverse_transform(x_pred)\n",
    "print('x_pred inverse-> \\t shape: %s \\t var: %.1E \\t mean: %.1E \\t std: %.1E'% (x_pred.shape, x_pred.var(), x_pred.mean(), x_pred.std()))\n",
    "\n",
    "# select test variables\n",
    "DD = x_pred[:,0]\n",
    "FF = x_pred[:,1]\n",
    "N = x_pred[:,2]\n",
    "Q = x_pred[:,3]\n",
    "RG = x_pred[:,4]\n",
    "T = x_pred[:,5]\n",
    "U = x_pred[:,6]\n",
    "\n",
    "fig, axarr = plt.subplots(3,3)\n",
    "\n",
    "axarr[0, 0].plot(data['DD'], data['gasPower'], '.', color='r', alpha=0.3, label='All real data')\n",
    "axarr[0, 0].plot(DD, y_test, 'v', color='g', label='X_test, y_test', alpha=0.3)\n",
    "axarr[0, 0].plot(DD, y_pred, 'x', color='b', label='X_test, y_predict', alpha=0.3)\n",
    "axarr[0, 0].grid()\n",
    "axarr[0, 0].set_xlabel('Wind direction $DD$ [$\\degree$] \\n (10 min mean)')\n",
    "axarr[0, 0].set_ylabel(r'gasPower $\\cdot$ 10$^{-2}$ [m$^3$/h]')\n",
    "\n",
    "axarr[0, 1].plot(data['N'], data['gasPower'], '.', color='r', alpha=0.3, label='Real')\n",
    "axarr[0, 1].plot(N, y_test, 'v', color='g', label='X_test, y_test', alpha=0.3)\n",
    "axarr[0, 1].plot(N, y_pred, 'x', color='b', label='Predicted', alpha=0.3)\n",
    "axarr[0, 1].grid()\n",
    "axarr[0, 1].set_xlabel('Total cloud coverage $N$ [octa]')\n",
    "axarr[0, 1].set_ylabel(r'gasPower $\\cdot$ 10$^{-2}$ [m$^3$/h]')\n",
    "\n",
    "axarr[0, 2].plot(data['Q'], data['gasPower'], '.', color='r', alpha=0.3, label='Real')\n",
    "axarr[0, 2].plot(Q, y_test, 'v', color='g', label='X_test, y_test', alpha=0.3)\n",
    "axarr[0, 2].plot(Q, y_pred, 'x', color='b', label='Predicted', alpha=0.3)\n",
    "axarr[0, 2].grid()\n",
    "axarr[0, 2].set_xlabel('global radiation $Q$ [W/m$^2$] \\n (10 min mean)')\n",
    "axarr[0, 2].set_ylabel(r'gasPower $\\cdot$ 10$^{-2}$ [m$^3$/h]')\n",
    "\n",
    "axarr[1, 0].plot(data['RG'], data['gasPower'], '.', color='r', alpha=0.3, label='Real')\n",
    "axarr[1, 0].plot(RG, y_test, 'v', color='g', label='X_test, y_test', alpha=0.3)\n",
    "axarr[1, 0].plot(RG, y_pred, 'x', color='b', label='Predicted', alpha=0.3)\n",
    "axarr[1, 0].grid()\n",
    "axarr[1, 0].set_xlabel('Rain intensity $RG$ [mm/h] \\n (10 min mean)')\n",
    "axarr[1, 0].set_ylabel(r'gasPower $\\cdot$ 10$^{-2}$ [m$^3$/h]')\n",
    "\n",
    "axarr[1, 1].plot(data['T'], data['gasPower'], '.', color='r', alpha=0.3, label='Real')\n",
    "axarr[1, 1].plot(T, y_test, 'v', color='g', alpha=0.3, label='X_test, y_test')\n",
    "axarr[1, 1].plot(T, y_pred, 'x', color='b', alpha=0.3, label='Predicted')\n",
    "axarr[1, 1].grid()\n",
    "axarr[1, 1].set_xlabel('Temperature at 1,5 m $T$ [$\\degree$C] \\n (1 min mean)')\n",
    "axarr[1, 1].set_ylabel(r'gasPower $\\cdot$ 10$^{-2}$ [m$^3$/h]')\n",
    "\n",
    "axarr[1, 2].plot(data['U'], data['gasPower'], '.', color='r', alpha=0.3, label='Real')\n",
    "axarr[1, 2].plot(U, y_test, 'v', color='g', label='X_test, y_test', alpha=0.3)\n",
    "axarr[1, 2].plot(U, y_pred, 'x', color='b', label='Predicted', alpha=0.3)\n",
    "axarr[1, 2].grid()\n",
    "axarr[1, 2].set_xlabel('Relative humidity at 1,5 m $U$ [%] \\n (1 min mean)')\n",
    "axarr[1, 2].set_ylabel(r'gasPower $\\cdot$ 10$^{-2}$ [m$^3$/h]')\n",
    "\n",
    "axarr[2, 0].plot(data['FF'], data['gasPower'], '.', color='r', alpha=0.3, label='All real data')\n",
    "axarr[2, 0].plot(FF, y_test, 'v', color='g', label='X_test, y_test', alpha=0.3)\n",
    "axarr[2, 0].plot(FF, y_pred, 'x', color='b', label='X_test, y_predicted', alpha=0.3)\n",
    "axarr[2, 0].grid()\n",
    "axarr[2, 0].set_xlabel('Wind speed $FF$ [m/s] \\n (10 min mean)')\n",
    "axarr[2, 0].set_ylabel(r'gasPower $\\cdot$ 10$^{-2}$ [m$^3$/h]')\n",
    "\n",
    "fig.delaxes(axarr[2, 1])\n",
    "fig.delaxes(axarr[2, 2])\n",
    "\n",
    "mse = multi_model.evaluate(X_test, y_test)[0]\n",
    "mse_val = str(mse)[:4]\n",
    "mse_power = str(mse)[-1:]\n",
    "\n",
    "fig.suptitle('Deep neural network regression results with gasPower as the target \\n Validation MSE = %s' % (mse_val), fontsize = 14)\n",
    "\n",
    "fig.set_size_inches(10,10)\n",
    "fig.tight_layout()\n",
    "\n",
    "\n",
    "\n",
    "fig.subplots_adjust(top=0.9) # Adjust title spacing at the top\n",
    "\n",
    "axarr[2, 0].legend(loc='lower left', bbox_to_anchor= (2, 0.3), borderaxespad=0, frameon=False, fontsize=14, markerscale=3)"
   ]
  },
  {
   "cell_type": "code",
   "execution_count": null,
   "metadata": {},
   "outputs": [],
   "source": [
    "fig.savefig('DDN last result.png', dpi=1200)"
   ]
  },
  {
   "cell_type": "code",
   "execution_count": null,
   "metadata": {},
   "outputs": [],
   "source": [
    "# Multi variate regression"
   ]
  },
  {
   "cell_type": "code",
   "execution_count": null,
   "metadata": {},
   "outputs": [],
   "source": [
    "from sklearn.linear_model import LinearRegression\n",
    "from sklearn.model_selection import train_test_split\n",
    "\n",
    "\n",
    "model = LinearRegression()\n",
    "model.fit(X_train, y_train)\n",
    "model.score(X_test, y_test) # Still sucks"
   ]
  },
  {
   "cell_type": "code",
   "execution_count": null,
   "metadata": {},
   "outputs": [],
   "source": [
    "model"
   ]
  },
  {
   "cell_type": "code",
   "execution_count": null,
   "metadata": {},
   "outputs": [],
   "source": [
    "# model number to select\n",
    "N = 35\n",
    "\n",
    "\n",
    "# X_test is already transformed\n",
    "x_pred = X_test\n",
    "#x_pred = scalerX.transform(x_pred)\n",
    "\n",
    "y_pred = model.predict(x_pred)\n",
    "\n",
    "\n",
    "print('x_pred scaled-> \\t shape: %s \\t var: %.1E \\t mean: %.1E \\t std: %.1E'% (x_pred.shape, x_pred.var(), x_pred.mean(), x_pred.std()))\n",
    "\n",
    "x_pred = scalerX.inverse_transform(x_pred)\n",
    "print('x_pred inverse-> \\t shape: %s \\t var: %.1E \\t mean: %.1E \\t std: %.1E'% (x_pred.shape, x_pred.var(), x_pred.mean(), x_pred.std()))\n",
    "\n",
    "# select test variables\n",
    "FF = x_pred[:,0]\n",
    "RG = x_pred[:,1]\n",
    "T = x_pred[:,2]\n",
    "\n",
    "fig, axarr = plt.subplots(2,2)\n",
    "\n",
    "\n",
    "axarr[0, 0].plot(data['T'], data['gasPower'], '.', color='r', alpha=0.3, label='Real')\n",
    "axarr[0, 0].plot(T, y_test, 'v', color='g', label='X_test, y_test', alpha=0.3)\n",
    "axarr[0, 0].plot(T, y_pred, 'x', color='b', label='Predicted', alpha=0.3)\n",
    "axarr[0, 0].grid()\n",
    "axarr[0, 0].set_xlabel('Temperature at 1,5 m $T$ [$\\degree$C] \\n (1 min mean)')\n",
    "axarr[0, 0].set_ylabel(r'gasPower $\\cdot$ 10$^{-%s}$ [m$^3$/h]' % magnitude)\n",
    "\n",
    "axarr[0, 1].plot(data['RG'], data['gasPower'], '.', color='r', alpha=0.3, label='Real')\n",
    "axarr[0, 1].plot(RG, y_test, 'v', color='g', alpha=0.3, label='X_test, y_test')\n",
    "axarr[0, 1].plot(RG, y_pred, 'x', color='b', alpha=0.3, label='Predicted')\n",
    "axarr[0, 1].grid()\n",
    "axarr[0, 1].set_xlabel('Rain intensity $RG$ [mm/h] \\n (10 min mean)')\n",
    "axarr[0, 1].set_ylabel(r'gasPower $\\cdot$ 10$^{-%s}$ [m$^3$/h]' % magnitude)\n",
    "\n",
    "\n",
    "axarr[1, 0].plot(data['FF'], data['gasPower'], '.', color='r', alpha=0.3, label='All real data')\n",
    "axarr[1, 0].plot(FF, y_test, 'v', color='g', label='X_test, y_test', alpha=0.3)\n",
    "axarr[1, 0].plot(FF, y_pred, 'x', color='b', label='X_test, y_predicted', alpha=0.3)\n",
    "axarr[1, 0].grid()\n",
    "axarr[1, 0].set_xlabel('Wind speed $FF$ [m/s] \\n (10 min mean)')\n",
    "axarr[1, 0].set_ylabel(r'gasPower $\\cdot$ 10$^{-%s}$ [m$^3$/h]' % magnitude)\n",
    "\n",
    "fig.delaxes(axarr[1, 1])\n",
    "\n",
    "r2 = model.score(X_test, y_test)\n",
    "\n",
    "#fig.suptitle('Deep neural network regression results with gasPower as the target \\n Validation MSE = %s $\\cdot$ 10$^{-%s}$' % (mse_val, mse_power), fontsize = 14)\n",
    "fig.suptitle('Multivariate linear regression results with gasPower as the target \\n Validation R$^2$ = %.2f' % (r2), fontsize = 14)\n",
    "\n",
    "fig.set_size_inches(10,10)\n",
    "fig.tight_layout()\n",
    "\n",
    "fig.subplots_adjust(top=0.9) # Adjust title spacing at the top\n",
    "\n",
    "axarr[1, 0].legend(loc='lower left', bbox_to_anchor= (1.25, 0.3), borderaxespad=0, frameon=False, fontsize=14, markerscale=3)"
   ]
  },
  {
   "cell_type": "code",
   "execution_count": null,
   "metadata": {},
   "outputs": [],
   "source": [
    "fig.savefig('multi var lin.png', dpi=1000)"
   ]
  },
  {
   "cell_type": "code",
   "execution_count": null,
   "metadata": {},
   "outputs": [],
   "source": []
  }
 ],
 "metadata": {
  "kernelspec": {
   "display_name": "Python 3",
   "language": "python",
   "name": "python3"
  },
  "language_info": {
   "codemirror_mode": {
    "name": "ipython",
    "version": 3
   },
   "file_extension": ".py",
   "mimetype": "text/x-python",
   "name": "python",
   "nbconvert_exporter": "python",
   "pygments_lexer": "ipython3",
   "version": "3.6.6"
  }
 },
 "nbformat": 4,
 "nbformat_minor": 2
}
