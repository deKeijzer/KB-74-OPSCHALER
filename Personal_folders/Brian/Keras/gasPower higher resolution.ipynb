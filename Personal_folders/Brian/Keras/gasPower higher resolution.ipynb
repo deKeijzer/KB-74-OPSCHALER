{
 "cells": [
  {
   "cell_type": "markdown",
   "metadata": {},
   "source": [
    "# Imports"
   ]
  },
  {
   "cell_type": "code",
   "execution_count": 54,
   "metadata": {},
   "outputs": [],
   "source": [
    "import pandas as pd\n",
    "import matplotlib.pyplot as plt\n",
    "import matplotlib as mpl\n",
    "from mpl_toolkits.mplot3d import Axes3D\n",
    "import seaborn as sns\n",
    "import numpy as np\n",
    "from tqdm import tqdm\n",
    "import dask.dataframe as dd\n",
    "\n",
    "mpl.style.use('default')\n",
    "#%matplotlib notebook\n",
    "%matplotlib inline"
   ]
  },
  {
   "cell_type": "markdown",
   "metadata": {},
   "source": [
    "# Tensorflow backend initialization"
   ]
  },
  {
   "cell_type": "code",
   "execution_count": 55,
   "metadata": {},
   "outputs": [
    {
     "name": "stdout",
     "output_type": "stream",
     "text": [
      "Amount of GPUs available: 4\n"
     ]
    }
   ],
   "source": [
    "\"\"\"\n",
    "Setup multi GPU usage\n",
    "\n",
    "Example usage:\n",
    "model = Sequential()\n",
    "...\n",
    "multi_model = multi_gpu_model(model, gpus=num_gpu)\n",
    "multi_model.fit()\n",
    "\n",
    "About memory usage:\n",
    "https://stackoverflow.com/questions/34199233/how-to-prevent-tensorflow-from-allocating-the-totality-of-a-gpu-memory\n",
    "\"\"\"\n",
    "import tensorflow as tf\n",
    "from keras.utils.training_utils import multi_gpu_model\n",
    "from tensorflow.python.client import device_lib\n",
    "\n",
    "# IMPORTANT: Tells tf to not occupy a specific amount of memory\n",
    "from keras.backend.tensorflow_backend import set_session  \n",
    "config = tf.ConfigProto()  \n",
    "config.gpu_options.allow_growth = True  # dynamically grow the memory used on the GPU  \n",
    "sess = tf.Session(config=config)  \n",
    "set_session(sess)  # set this TensorFlow session as the default session for Keras.\n",
    "\n",
    "\n",
    "# getting the number of GPUs \n",
    "def get_available_gpus():\n",
    "   local_device_protos = device_lib.list_local_devices()\n",
    "   return [x.name for x in local_device_protos if x.device_type    == 'GPU']\n",
    "num_gpu = len(get_available_gpus())\n",
    "print('Amount of GPUs available: %s' % num_gpu)"
   ]
  },
  {
   "cell_type": "markdown",
   "metadata": {},
   "source": [
    "# Function definitions"
   ]
  },
  {
   "cell_type": "code",
   "execution_count": 1,
   "metadata": {},
   "outputs": [],
   "source": [
    "def create_corr_matrix(df, dwelling_id, annot):\n",
    "    \"\"\"\n",
    "    Pearson correlation coefficient matrix. \n",
    "    The Pearson correlation coefficient is a measure of the linear correlation between two variables.\n",
    "    \"\"\"\n",
    "    plt.clf()\n",
    "    \n",
    "    corr = df.corr()\n",
    "    mask = np.zeros_like(corr)\n",
    "    mask[np.triu_indices_from(mask)] = True\n",
    "\n",
    "    if annot:\n",
    "        fig, ax = plt.subplots(figsize=(25,25))\n",
    "    else:\n",
    "        fig, ax = plt.subplots()\n",
    "\n",
    "    fig = sns.heatmap(corr, mask=mask, square=False, cmap='RdYlGn', annot=annot, ax=ax, \n",
    "                cbar_kws={'label':'Pearson correlation coefficient [-]'})\n",
    "\n",
    "    fig.set_title('Correlation matrix of dwelling ID: '+dwelling_id)\n",
    "    fig.tick_params(axis='x', rotation=90)\n",
    "    fig.tick_params(axis='y', rotation=0)\n",
    "\n",
    "    fig = fig.get_figure()\n",
    "    fig.tight_layout()\n",
    "    fig.show()\n",
    "    \n",
    "    print('Saving heatmap')\n",
    "    #fig.savefig('//datc//opschaler//EDA//Pearson_corr//' + dwelling_id + '.png', dpi=300)\n",
    "    return fig\n",
    "\n",
    "\n",
    "def reduce_memory(df):\n",
    "    \"\"\"\n",
    "    Reduces memory footprint of the input dataframe.\n",
    "    Changes float64 columns to float32 dtype.\n",
    "    \"\"\"\n",
    "    columns = df.columns\n",
    "    memory_before = df.memory_usage(deep=False).sum() / 2**30 # convert bytes to GB\n",
    "\n",
    "    for column in tqdm(columns):\n",
    "        if df[column].dtype == 'float64':\n",
    "            df[column] = df[column].astype('float32')\n",
    "        \n",
    "    memory_after = df.memory_usage(deep=False).sum() / 2**30 # convert bytes to GB\n",
    "    print('Memory uasge reduced from %.3f GB to %.3f GB' % (memory_before, memory_after))\n",
    "    \n",
    "    return df\n",
    "\n",
    "\n",
    "def resample_df(df, sample_rate):\n",
    "    \"\"\"\n",
    "    Temp. fix for the \n",
    "    Resampled a (un)processed dataframe to the specified sample_rate.\n",
    "    Input is a (un)processed df\n",
    "    Sample rate must be a string. \n",
    "    For example '1H', '1D', '60s'.\n",
    "    \"\"\"\n",
    "    new_df = df.drop(['gasPower'], axis=1) # Drop gasPower, calculate it again later\n",
    "    \n",
    "    to_sum = ['eMeterReturn', 'eMeterLow', 'eMeterLowReturn', 'ePower', 'ePowerReturn'] # resampler.sum() these columns\n",
    "    to_last = ['gasMeter', 'eMeter'] # resample.last(), take last known value from the columns\n",
    "    \n",
    "    new_df[to_sum] = new_df[to_sum].resample(sample_rate).sum() # sum values\n",
    "    new_df[to_last] = new_df[to_last].resample(sample_rate).last() # take last value most nearby the sample_rate\n",
    "    new_df = new_df.resample(sample_rate).mean() # resample to 1H by mean (this wont change the values calculated by .sum() and .last())\n",
    "    \n",
    "    # Calculate gasPower\n",
    "    new_df['gasPower'] = new_df['gasMeter'].diff()\n",
    "    new_df['gasPower'][0] = new_df['gasPower'][1] # Replace 1st entry (NaN) with 2nd entry\n",
    "    \n",
    "    return new_df"
   ]
  },
  {
   "cell_type": "markdown",
   "metadata": {},
   "source": [
    "# Preparing dataframe for preprocessing"
   ]
  },
  {
   "cell_type": "code",
   "execution_count": 57,
   "metadata": {},
   "outputs": [
    {
     "name": "stdout",
     "output_type": "stream",
     "text": [
      "CPU times: user 10.2 s, sys: 1.76 s, total: 11.9 s\n",
      "Wall time: 10.7 s\n"
     ]
    }
   ],
   "source": [
    "%%time\n",
    "df = pd.read_csv('//datc//opschaler//combined_gas_smart_weather_dfs//processed//P01S01W6495_10s.csv', delimiter='\\t', parse_dates=['datetime'])\n",
    "df = df.set_index(['datetime'])\n",
    "df = df.dropna()\n",
    "#df['hour'] = df.index"
   ]
  },
  {
   "cell_type": "code",
   "execution_count": 58,
   "metadata": {},
   "outputs": [
    {
     "data": {
      "text/html": [
       "<div>\n",
       "<style>\n",
       "    .dataframe thead tr:only-child th {\n",
       "        text-align: right;\n",
       "    }\n",
       "\n",
       "    .dataframe thead th {\n",
       "        text-align: left;\n",
       "    }\n",
       "\n",
       "    .dataframe tbody tr th {\n",
       "        vertical-align: top;\n",
       "    }\n",
       "</style>\n",
       "<table border=\"1\" class=\"dataframe\">\n",
       "  <thead>\n",
       "    <tr style=\"text-align: right;\">\n",
       "      <th></th>\n",
       "      <th>eMeter</th>\n",
       "      <th>eMeterReturn</th>\n",
       "      <th>eMeterLow</th>\n",
       "      <th>eMeterLowReturn</th>\n",
       "      <th>ePower</th>\n",
       "      <th>ePowerReturn</th>\n",
       "      <th>gasMeter</th>\n",
       "      <th>gasPower</th>\n",
       "      <th>DD</th>\n",
       "      <th>DR</th>\n",
       "      <th>...</th>\n",
       "      <th>P</th>\n",
       "      <th>Q</th>\n",
       "      <th>RG</th>\n",
       "      <th>SQ</th>\n",
       "      <th>T</th>\n",
       "      <th>T10</th>\n",
       "      <th>TD</th>\n",
       "      <th>U</th>\n",
       "      <th>VV</th>\n",
       "      <th>WW</th>\n",
       "    </tr>\n",
       "    <tr>\n",
       "      <th>datetime</th>\n",
       "      <th></th>\n",
       "      <th></th>\n",
       "      <th></th>\n",
       "      <th></th>\n",
       "      <th></th>\n",
       "      <th></th>\n",
       "      <th></th>\n",
       "      <th></th>\n",
       "      <th></th>\n",
       "      <th></th>\n",
       "      <th></th>\n",
       "      <th></th>\n",
       "      <th></th>\n",
       "      <th></th>\n",
       "      <th></th>\n",
       "      <th></th>\n",
       "      <th></th>\n",
       "      <th></th>\n",
       "      <th></th>\n",
       "      <th></th>\n",
       "      <th></th>\n",
       "    </tr>\n",
       "  </thead>\n",
       "  <tbody>\n",
       "    <tr>\n",
       "      <th>2017-04-24 12:00:10</th>\n",
       "      <td>1286.578003</td>\n",
       "      <td>0.0</td>\n",
       "      <td>1490.328979</td>\n",
       "      <td>0.0</td>\n",
       "      <td>111.0</td>\n",
       "      <td>0.0</td>\n",
       "      <td>921.323975</td>\n",
       "      <td>0.0</td>\n",
       "      <td>251.0</td>\n",
       "      <td>0.0</td>\n",
       "      <td>...</td>\n",
       "      <td>1015.200012</td>\n",
       "      <td>500.0</td>\n",
       "      <td>0.0</td>\n",
       "      <td>3.1732</td>\n",
       "      <td>12.5</td>\n",
       "      <td>13.9</td>\n",
       "      <td>6.7</td>\n",
       "      <td>67.0</td>\n",
       "      <td>37300.0</td>\n",
       "      <td>3.0</td>\n",
       "    </tr>\n",
       "    <tr>\n",
       "      <th>2017-04-24 12:00:20</th>\n",
       "      <td>1286.578003</td>\n",
       "      <td>0.0</td>\n",
       "      <td>1490.328979</td>\n",
       "      <td>0.0</td>\n",
       "      <td>111.0</td>\n",
       "      <td>0.0</td>\n",
       "      <td>921.323975</td>\n",
       "      <td>0.0</td>\n",
       "      <td>251.0</td>\n",
       "      <td>0.0</td>\n",
       "      <td>...</td>\n",
       "      <td>1015.200012</td>\n",
       "      <td>500.0</td>\n",
       "      <td>0.0</td>\n",
       "      <td>3.1732</td>\n",
       "      <td>12.5</td>\n",
       "      <td>13.9</td>\n",
       "      <td>6.7</td>\n",
       "      <td>67.0</td>\n",
       "      <td>37300.0</td>\n",
       "      <td>3.0</td>\n",
       "    </tr>\n",
       "    <tr>\n",
       "      <th>2017-04-24 12:00:30</th>\n",
       "      <td>1286.578979</td>\n",
       "      <td>0.0</td>\n",
       "      <td>1490.328979</td>\n",
       "      <td>0.0</td>\n",
       "      <td>111.0</td>\n",
       "      <td>0.0</td>\n",
       "      <td>921.323975</td>\n",
       "      <td>0.0</td>\n",
       "      <td>251.0</td>\n",
       "      <td>0.0</td>\n",
       "      <td>...</td>\n",
       "      <td>1015.200012</td>\n",
       "      <td>500.0</td>\n",
       "      <td>0.0</td>\n",
       "      <td>3.1732</td>\n",
       "      <td>12.5</td>\n",
       "      <td>13.9</td>\n",
       "      <td>6.7</td>\n",
       "      <td>67.0</td>\n",
       "      <td>37300.0</td>\n",
       "      <td>3.0</td>\n",
       "    </tr>\n",
       "    <tr>\n",
       "      <th>2017-04-24 12:00:40</th>\n",
       "      <td>1286.578979</td>\n",
       "      <td>0.0</td>\n",
       "      <td>1490.328979</td>\n",
       "      <td>0.0</td>\n",
       "      <td>114.0</td>\n",
       "      <td>0.0</td>\n",
       "      <td>921.323975</td>\n",
       "      <td>0.0</td>\n",
       "      <td>251.0</td>\n",
       "      <td>0.0</td>\n",
       "      <td>...</td>\n",
       "      <td>1015.200012</td>\n",
       "      <td>500.0</td>\n",
       "      <td>0.0</td>\n",
       "      <td>3.1732</td>\n",
       "      <td>12.5</td>\n",
       "      <td>13.9</td>\n",
       "      <td>6.7</td>\n",
       "      <td>67.0</td>\n",
       "      <td>37300.0</td>\n",
       "      <td>3.0</td>\n",
       "    </tr>\n",
       "    <tr>\n",
       "      <th>2017-04-24 12:00:50</th>\n",
       "      <td>1286.578979</td>\n",
       "      <td>0.0</td>\n",
       "      <td>1490.328979</td>\n",
       "      <td>0.0</td>\n",
       "      <td>112.0</td>\n",
       "      <td>0.0</td>\n",
       "      <td>921.323975</td>\n",
       "      <td>0.0</td>\n",
       "      <td>251.0</td>\n",
       "      <td>0.0</td>\n",
       "      <td>...</td>\n",
       "      <td>1015.200012</td>\n",
       "      <td>500.0</td>\n",
       "      <td>0.0</td>\n",
       "      <td>3.1732</td>\n",
       "      <td>12.5</td>\n",
       "      <td>13.9</td>\n",
       "      <td>6.7</td>\n",
       "      <td>67.0</td>\n",
       "      <td>37300.0</td>\n",
       "      <td>3.0</td>\n",
       "    </tr>\n",
       "  </tbody>\n",
       "</table>\n",
       "<p>5 rows × 23 columns</p>\n",
       "</div>"
      ],
      "text/plain": [
       "                          eMeter  eMeterReturn    eMeterLow  eMeterLowReturn  \\\n",
       "datetime                                                                       \n",
       "2017-04-24 12:00:10  1286.578003           0.0  1490.328979              0.0   \n",
       "2017-04-24 12:00:20  1286.578003           0.0  1490.328979              0.0   \n",
       "2017-04-24 12:00:30  1286.578979           0.0  1490.328979              0.0   \n",
       "2017-04-24 12:00:40  1286.578979           0.0  1490.328979              0.0   \n",
       "2017-04-24 12:00:50  1286.578979           0.0  1490.328979              0.0   \n",
       "\n",
       "                     ePower  ePowerReturn    gasMeter  gasPower     DD   DR  \\\n",
       "datetime                                                                      \n",
       "2017-04-24 12:00:10   111.0           0.0  921.323975       0.0  251.0  0.0   \n",
       "2017-04-24 12:00:20   111.0           0.0  921.323975       0.0  251.0  0.0   \n",
       "2017-04-24 12:00:30   111.0           0.0  921.323975       0.0  251.0  0.0   \n",
       "2017-04-24 12:00:40   114.0           0.0  921.323975       0.0  251.0  0.0   \n",
       "2017-04-24 12:00:50   112.0           0.0  921.323975       0.0  251.0  0.0   \n",
       "\n",
       "                    ...             P      Q   RG      SQ     T   T10   TD  \\\n",
       "datetime            ...                                                      \n",
       "2017-04-24 12:00:10 ...   1015.200012  500.0  0.0  3.1732  12.5  13.9  6.7   \n",
       "2017-04-24 12:00:20 ...   1015.200012  500.0  0.0  3.1732  12.5  13.9  6.7   \n",
       "2017-04-24 12:00:30 ...   1015.200012  500.0  0.0  3.1732  12.5  13.9  6.7   \n",
       "2017-04-24 12:00:40 ...   1015.200012  500.0  0.0  3.1732  12.5  13.9  6.7   \n",
       "2017-04-24 12:00:50 ...   1015.200012  500.0  0.0  3.1732  12.5  13.9  6.7   \n",
       "\n",
       "                        U       VV   WW  \n",
       "datetime                                 \n",
       "2017-04-24 12:00:10  67.0  37300.0  3.0  \n",
       "2017-04-24 12:00:20  67.0  37300.0  3.0  \n",
       "2017-04-24 12:00:30  67.0  37300.0  3.0  \n",
       "2017-04-24 12:00:40  67.0  37300.0  3.0  \n",
       "2017-04-24 12:00:50  67.0  37300.0  3.0  \n",
       "\n",
       "[5 rows x 23 columns]"
      ]
     },
     "execution_count": 58,
     "metadata": {},
     "output_type": "execute_result"
    }
   ],
   "source": [
    "df.head()"
   ]
  },
  {
   "cell_type": "markdown",
   "metadata": {},
   "source": [
    "## Get a proper hourly dataframe"
   ]
  },
  {
   "cell_type": "code",
   "execution_count": 59,
   "metadata": {},
   "outputs": [
    {
     "data": {
      "text/plain": [
       "Index(['eMeter', 'eMeterReturn', 'eMeterLow', 'eMeterLowReturn', 'ePower',\n",
       "       'ePowerReturn', 'gasMeter', 'gasPower', 'DD', 'DR', 'FF', 'FX', 'N',\n",
       "       'P', 'Q', 'RG', 'SQ', 'T', 'T10', 'TD', 'U', 'VV', 'WW'],\n",
       "      dtype='object')"
      ]
     },
     "execution_count": 59,
     "metadata": {},
     "output_type": "execute_result"
    }
   ],
   "source": [
    "df.columns"
   ]
  },
  {
   "cell_type": "code",
   "execution_count": 60,
   "metadata": {},
   "outputs": [
    {
     "name": "stdout",
     "output_type": "stream",
     "text": [
      "<class 'pandas.core.frame.DataFrame'>\n",
      "DatetimeIndex: 5098 entries, 2017-04-24 12:00:00 to 2017-11-22 21:00:00\n",
      "Freq: H\n",
      "Data columns (total 24 columns):\n",
      "eMeter             4931 non-null float64\n",
      "eMeterReturn       4931 non-null float64\n",
      "eMeterLow          4931 non-null float64\n",
      "eMeterLowReturn    4931 non-null float64\n",
      "ePower             4931 non-null float64\n",
      "ePowerReturn       4931 non-null float64\n",
      "gasMeter           4931 non-null float64\n",
      "DD                 4994 non-null float64\n",
      "DR                 4994 non-null float64\n",
      "FF                 4994 non-null float64\n",
      "FX                 4994 non-null float64\n",
      "N                  4994 non-null float64\n",
      "P                  4994 non-null float64\n",
      "Q                  4994 non-null float64\n",
      "RG                 4994 non-null float64\n",
      "SQ                 4994 non-null float64\n",
      "T                  4994 non-null float64\n",
      "T10                4994 non-null float64\n",
      "TD                 4994 non-null float64\n",
      "U                  4994 non-null float64\n",
      "VV                 4994 non-null float64\n",
      "WW                 4994 non-null float64\n",
      "gasPower           4868 non-null float64\n",
      "hour               5098 non-null int64\n",
      "dtypes: float64(23), int64(1)\n",
      "memory usage: 1.1 MB\n"
     ]
    }
   ],
   "source": [
    "d = resample_df(df, '1H')\n",
    "d['hour'] = d.index.hour #create column containing the hour\n",
    "d.info()"
   ]
  },
  {
   "cell_type": "code",
   "execution_count": 61,
   "metadata": {},
   "outputs": [
    {
     "data": {
      "text/html": [
       "<div>\n",
       "<style>\n",
       "    .dataframe thead tr:only-child th {\n",
       "        text-align: right;\n",
       "    }\n",
       "\n",
       "    .dataframe thead th {\n",
       "        text-align: left;\n",
       "    }\n",
       "\n",
       "    .dataframe tbody tr th {\n",
       "        vertical-align: top;\n",
       "    }\n",
       "</style>\n",
       "<table border=\"1\" class=\"dataframe\">\n",
       "  <thead>\n",
       "    <tr style=\"text-align: right;\">\n",
       "      <th></th>\n",
       "      <th>eMeter</th>\n",
       "      <th>eMeterReturn</th>\n",
       "      <th>eMeterLow</th>\n",
       "      <th>eMeterLowReturn</th>\n",
       "      <th>ePower</th>\n",
       "      <th>ePowerReturn</th>\n",
       "      <th>gasMeter</th>\n",
       "      <th>DD</th>\n",
       "      <th>DR</th>\n",
       "      <th>FF</th>\n",
       "      <th>...</th>\n",
       "      <th>RG</th>\n",
       "      <th>SQ</th>\n",
       "      <th>T</th>\n",
       "      <th>T10</th>\n",
       "      <th>TD</th>\n",
       "      <th>U</th>\n",
       "      <th>VV</th>\n",
       "      <th>WW</th>\n",
       "      <th>gasPower</th>\n",
       "      <th>hour</th>\n",
       "    </tr>\n",
       "    <tr>\n",
       "      <th>datetime</th>\n",
       "      <th></th>\n",
       "      <th></th>\n",
       "      <th></th>\n",
       "      <th></th>\n",
       "      <th></th>\n",
       "      <th></th>\n",
       "      <th></th>\n",
       "      <th></th>\n",
       "      <th></th>\n",
       "      <th></th>\n",
       "      <th></th>\n",
       "      <th></th>\n",
       "      <th></th>\n",
       "      <th></th>\n",
       "      <th></th>\n",
       "      <th></th>\n",
       "      <th></th>\n",
       "      <th></th>\n",
       "      <th></th>\n",
       "      <th></th>\n",
       "      <th></th>\n",
       "    </tr>\n",
       "  </thead>\n",
       "  <tbody>\n",
       "    <tr>\n",
       "      <th>2017-04-24 12:00:00</th>\n",
       "      <td>NaN</td>\n",
       "      <td>NaN</td>\n",
       "      <td>NaN</td>\n",
       "      <td>NaN</td>\n",
       "      <td>NaN</td>\n",
       "      <td>NaN</td>\n",
       "      <td>NaN</td>\n",
       "      <td>255.065922</td>\n",
       "      <td>44.24581</td>\n",
       "      <td>7.053548</td>\n",
       "      <td>...</td>\n",
       "      <td>0.0</td>\n",
       "      <td>1.273794</td>\n",
       "      <td>12.450559</td>\n",
       "      <td>13.983519</td>\n",
       "      <td>7.001955</td>\n",
       "      <td>68.840782</td>\n",
       "      <td>29950.558659</td>\n",
       "      <td>10.879888</td>\n",
       "      <td>NaN</td>\n",
       "      <td>12</td>\n",
       "    </tr>\n",
       "    <tr>\n",
       "      <th>2017-04-24 13:00:00</th>\n",
       "      <td>1286.758057</td>\n",
       "      <td>0.0</td>\n",
       "      <td>520124.813843</td>\n",
       "      <td>0.0</td>\n",
       "      <td>38189.5</td>\n",
       "      <td>0.0</td>\n",
       "      <td>921.323975</td>\n",
       "      <td>252.765615</td>\n",
       "      <td>59.82808</td>\n",
       "      <td>6.930430</td>\n",
       "      <td>...</td>\n",
       "      <td>0.0</td>\n",
       "      <td>0.529203</td>\n",
       "      <td>12.764757</td>\n",
       "      <td>13.848424</td>\n",
       "      <td>6.542693</td>\n",
       "      <td>65.389685</td>\n",
       "      <td>35924.355301</td>\n",
       "      <td>32.971347</td>\n",
       "      <td>NaN</td>\n",
       "      <td>13</td>\n",
       "    </tr>\n",
       "    <tr>\n",
       "      <th>2017-04-24 14:00:00</th>\n",
       "      <td>1286.834961</td>\n",
       "      <td>0.0</td>\n",
       "      <td>535028.103638</td>\n",
       "      <td>0.0</td>\n",
       "      <td>27573.0</td>\n",
       "      <td>0.0</td>\n",
       "      <td>921.323975</td>\n",
       "      <td>259.850135</td>\n",
       "      <td>0.00000</td>\n",
       "      <td>7.098301</td>\n",
       "      <td>...</td>\n",
       "      <td>0.0</td>\n",
       "      <td>1.512050</td>\n",
       "      <td>12.800557</td>\n",
       "      <td>14.267409</td>\n",
       "      <td>6.481894</td>\n",
       "      <td>64.991643</td>\n",
       "      <td>40376.880223</td>\n",
       "      <td>5.509749</td>\n",
       "      <td>0.0</td>\n",
       "      <td>14</td>\n",
       "    </tr>\n",
       "    <tr>\n",
       "      <th>2017-04-24 15:00:00</th>\n",
       "      <td>1286.996948</td>\n",
       "      <td>0.0</td>\n",
       "      <td>536518.432617</td>\n",
       "      <td>0.0</td>\n",
       "      <td>57859.0</td>\n",
       "      <td>0.0</td>\n",
       "      <td>921.323975</td>\n",
       "      <td>263.516665</td>\n",
       "      <td>0.00000</td>\n",
       "      <td>6.660000</td>\n",
       "      <td>...</td>\n",
       "      <td>0.0</td>\n",
       "      <td>0.000000</td>\n",
       "      <td>12.400000</td>\n",
       "      <td>13.633334</td>\n",
       "      <td>6.600000</td>\n",
       "      <td>67.333333</td>\n",
       "      <td>34000.000000</td>\n",
       "      <td>2.000000</td>\n",
       "      <td>0.0</td>\n",
       "      <td>15</td>\n",
       "    </tr>\n",
       "    <tr>\n",
       "      <th>2017-04-24 16:00:00</th>\n",
       "      <td>1287.126953</td>\n",
       "      <td>0.0</td>\n",
       "      <td>526086.129761</td>\n",
       "      <td>0.0</td>\n",
       "      <td>45629.5</td>\n",
       "      <td>0.0</td>\n",
       "      <td>921.323975</td>\n",
       "      <td>252.950140</td>\n",
       "      <td>0.00000</td>\n",
       "      <td>6.369773</td>\n",
       "      <td>...</td>\n",
       "      <td>0.0</td>\n",
       "      <td>0.132833</td>\n",
       "      <td>12.152975</td>\n",
       "      <td>13.039943</td>\n",
       "      <td>6.416714</td>\n",
       "      <td>67.322946</td>\n",
       "      <td>35071.954674</td>\n",
       "      <td>2.000000</td>\n",
       "      <td>0.0</td>\n",
       "      <td>16</td>\n",
       "    </tr>\n",
       "  </tbody>\n",
       "</table>\n",
       "<p>5 rows × 24 columns</p>\n",
       "</div>"
      ],
      "text/plain": [
       "                          eMeter  eMeterReturn      eMeterLow  \\\n",
       "datetime                                                        \n",
       "2017-04-24 12:00:00          NaN           NaN            NaN   \n",
       "2017-04-24 13:00:00  1286.758057           0.0  520124.813843   \n",
       "2017-04-24 14:00:00  1286.834961           0.0  535028.103638   \n",
       "2017-04-24 15:00:00  1286.996948           0.0  536518.432617   \n",
       "2017-04-24 16:00:00  1287.126953           0.0  526086.129761   \n",
       "\n",
       "                     eMeterLowReturn   ePower  ePowerReturn    gasMeter  \\\n",
       "datetime                                                                  \n",
       "2017-04-24 12:00:00              NaN      NaN           NaN         NaN   \n",
       "2017-04-24 13:00:00              0.0  38189.5           0.0  921.323975   \n",
       "2017-04-24 14:00:00              0.0  27573.0           0.0  921.323975   \n",
       "2017-04-24 15:00:00              0.0  57859.0           0.0  921.323975   \n",
       "2017-04-24 16:00:00              0.0  45629.5           0.0  921.323975   \n",
       "\n",
       "                             DD        DR        FF  ...    RG        SQ  \\\n",
       "datetime                                             ...                   \n",
       "2017-04-24 12:00:00  255.065922  44.24581  7.053548  ...   0.0  1.273794   \n",
       "2017-04-24 13:00:00  252.765615  59.82808  6.930430  ...   0.0  0.529203   \n",
       "2017-04-24 14:00:00  259.850135   0.00000  7.098301  ...   0.0  1.512050   \n",
       "2017-04-24 15:00:00  263.516665   0.00000  6.660000  ...   0.0  0.000000   \n",
       "2017-04-24 16:00:00  252.950140   0.00000  6.369773  ...   0.0  0.132833   \n",
       "\n",
       "                             T        T10        TD          U            VV  \\\n",
       "datetime                                                                       \n",
       "2017-04-24 12:00:00  12.450559  13.983519  7.001955  68.840782  29950.558659   \n",
       "2017-04-24 13:00:00  12.764757  13.848424  6.542693  65.389685  35924.355301   \n",
       "2017-04-24 14:00:00  12.800557  14.267409  6.481894  64.991643  40376.880223   \n",
       "2017-04-24 15:00:00  12.400000  13.633334  6.600000  67.333333  34000.000000   \n",
       "2017-04-24 16:00:00  12.152975  13.039943  6.416714  67.322946  35071.954674   \n",
       "\n",
       "                            WW  gasPower  hour  \n",
       "datetime                                        \n",
       "2017-04-24 12:00:00  10.879888       NaN    12  \n",
       "2017-04-24 13:00:00  32.971347       NaN    13  \n",
       "2017-04-24 14:00:00   5.509749       0.0    14  \n",
       "2017-04-24 15:00:00   2.000000       0.0    15  \n",
       "2017-04-24 16:00:00   2.000000       0.0    16  \n",
       "\n",
       "[5 rows x 24 columns]"
      ]
     },
     "execution_count": 61,
     "metadata": {},
     "output_type": "execute_result"
    }
   ],
   "source": [
    "d.head()"
   ]
  },
  {
   "cell_type": "code",
   "execution_count": 62,
   "metadata": {},
   "outputs": [
    {
     "name": "stdout",
     "output_type": "stream",
     "text": [
      "Saving heatmap\n"
     ]
    },
    {
     "name": "stderr",
     "output_type": "stream",
     "text": [
      "/opt/jupyterhub/anaconda/lib/python3.6/site-packages/matplotlib/figure.py:459: UserWarning: matplotlib is currently using a non-GUI backend, so cannot show the figure\n",
      "  \"matplotlib is currently using a non-GUI backend, \"\n"
     ]
    },
    {
     "data": {
      "text/plain": [
       "<Figure size 432x288 with 0 Axes>"
      ]
     },
     "metadata": {},
     "output_type": "display_data"
    },
    {
     "data": {
      "image/png": "[encoded data removed]",
      "text/plain": [
       "<Figure size 432x288 with 2 Axes>"
      ]
     },
     "metadata": {},
     "output_type": "display_data"
    }
   ],
   "source": [
    "fig = create_corr_matrix(d, '', False)"
   ]
  },
  {
   "cell_type": "markdown",
   "metadata": {},
   "source": [
    "## Select data we want"
   ]
  },
  {
   "cell_type": "code",
   "execution_count": 63,
   "metadata": {},
   "outputs": [
    {
     "name": "stdout",
     "output_type": "stream",
     "text": [
      "Saving heatmap\n"
     ]
    },
    {
     "name": "stderr",
     "output_type": "stream",
     "text": [
      "/opt/jupyterhub/anaconda/lib/python3.6/site-packages/matplotlib/figure.py:459: UserWarning: matplotlib is currently using a non-GUI backend, so cannot show the figure\n",
      "  \"matplotlib is currently using a non-GUI backend, \"\n"
     ]
    },
    {
     "data": {
      "text/plain": [
       "<Figure size 432x288 with 0 Axes>"
      ]
     },
     "metadata": {},
     "output_type": "display_data"
    },
    {
     "data": {
      "image/png": "[encoded data removed]",
      "text/plain": [
       "<Figure size 432x288 with 2 Axes>"
      ]
     },
     "metadata": {},
     "output_type": "display_data"
    }
   ],
   "source": [
    "data = d\n",
    "data = data.drop(['eMeter', 'eMeterReturn', 'eMeterLow', 'eMeterLowReturn', 'gasMeter'], axis=1) # Not needed\n",
    "data = data.drop(['WW', 'VV', 'P', 'DR', 'SQ', 'TD', 'T10', 'FX'], axis=1) # Drop weather columns which contain correlated information, keep only one type\n",
    "fig = create_corr_matrix(d, '', False)\n",
    "\n",
    "data = data.drop(['ePower', 'ePowerReturn'], axis=1) # Drop if want to predict gasPower\n",
    "\n",
    "data = data.drop(['U', 'N', 'Q', 'DD'], axis=1) # Drop columns with that have a |corr| > 0.1 with T\n",
    "\n",
    "data = data[data['gasPower'] > 0] #filter data based on condition\n",
    "data = data.dropna()\n",
    "\n",
    "#sns.heatmap(data.corr(), annot=True)"
   ]
  },
  {
   "cell_type": "markdown",
   "metadata": {},
   "source": [
    "# EDA"
   ]
  },
  {
   "cell_type": "code",
   "execution_count": 64,
   "metadata": {},
   "outputs": [
    {
     "data": {
      "text/plain": [
       "<matplotlib.legend.Legend at 0x7fc75671dba8>"
      ]
     },
     "execution_count": 64,
     "metadata": {},
     "output_type": "execute_result"
    },
    {
     "data": {
      "image/png": "[encoded data removed]",
      "text/plain": [
       "<Figure size 432x288 with 1 Axes>"
      ]
     },
     "metadata": {},
     "output_type": "display_data"
    }
   ],
   "source": [
    "plt.plot(data['T'], data['gasPower'], '.', color='r', label='Original data')\n",
    "plt.grid()\n",
    "plt.xlabel('Temperature [°C]')\n",
    "plt.ylabel('gasPower [m$^3$ per hour]')\n",
    "plt.legend()"
   ]
  },
  {
   "cell_type": "markdown",
   "metadata": {},
   "source": [
    "# Preprocessing"
   ]
  },
  {
   "cell_type": "markdown",
   "metadata": {},
   "source": [
    "# Predict gasPower with most other variables"
   ]
  },
  {
   "cell_type": "code",
   "execution_count": 65,
   "metadata": {},
   "outputs": [
    {
     "name": "stdout",
     "output_type": "stream",
     "text": [
      "X columns final: ['FF', 'RG', 'T', 'hour']\n",
      "\n",
      "X_train -> \t shape: (360, 4) \t var: 1.0 \t mean: -0.0 \t std: 1.0, \t min: -3.8 \t max: 11.8\n",
      "X_test -> \t shape: (360, 4) \t var: 2.1 \t mean: 0.0 \t std: 1.5, \t min: -3.8 \t max: 35.3\n",
      "\n",
      "y_train -> \t shape: (360, 1) \t var: 6.0E-02 \t mean: 2.0E-01  std: 2.5E-01, \t min: 1.8E-04 \t max: 1.7E+00\n",
      "y_test -> \t shape: (360, 1) \t var: 4.4E-02 \t mean: 1.7E-01 \t std: 2.1E-01, \t min: 3.1E-04 \t max: 1.5E+00\n"
     ]
    }
   ],
   "source": [
    "from sklearn.preprocessing import MinMaxScaler, StandardScaler\n",
    "from sklearn.model_selection import train_test_split\n",
    "\n",
    "seed = 42\n",
    "\n",
    "X = data.drop(['gasPower'], axis=1)\n",
    "#X = data[['T']] # Only select T column\n",
    "print('X columns final: %s' % list(X.columns))\n",
    "#sns.heatmap(X.corr(), annot=True)\n",
    "\n",
    "y = data[['gasPower']]\n",
    "\n",
    "X = np.array(X).reshape(-1, len(X.columns))\n",
    "y = np.array(y).reshape(-1, 1)\n",
    "\n",
    "X_train, X_test, y_train, y_test = train_test_split(X, y, test_size=0.5, random_state=seed)\n",
    "\n",
    "# fit scalers to training data\n",
    "scalerX = StandardScaler(with_mean=True, with_std=True).fit(X_train)\n",
    "scalery = StandardScaler(with_mean=True, with_std=True).fit(y_train)\n",
    "\n",
    "# Normalize X arrrays\n",
    "X_train = scalerX.transform(X_train)\n",
    "X_test = scalerX.transform(X_test)\n",
    "\n",
    "# Get test data in the correct shape and format\n",
    "y_train = np.array(y_train).reshape(-1,1) #reshape if y_train is not scaled, transforming should not be needed\n",
    "y_test = np.array(y_test).reshape(-1,1)\n",
    "\n",
    "def stats(ndarray):\n",
    "    shape = ndarray.shape\n",
    "    var = ndarray.var()\n",
    "    mean = ndarray.mean()\n",
    "    std = ndarray.std()\n",
    "    min_ = ndarray.min()\n",
    "    max_ = ndarray.max()\n",
    "    return shape, var, mean, std, min_, max_\n",
    "\n",
    "print('')\n",
    "print('X_train -> \\t shape: %s \\t var: %.1f \\t mean: %.1f \\t std: %.1f, \\t min: %.1f \\t max: %.1f'% (stats(X_train)))\n",
    "print('X_test -> \\t shape: %s \\t var: %.1f \\t mean: %.1f \\t std: %.1f, \\t min: %.1f \\t max: %.1f'% (stats(X_test)))\n",
    "print('')\n",
    "print('y_train -> \\t shape: %s \\t var: %.1E \\t mean: %.1E  std: %.1E, \\t min: %.1E \\t max: %.1E'% (stats(y_train)))\n",
    "print('y_test -> \\t shape: %s \\t var: %.1E \\t mean: %.1E \\t std: %.1E, \\t min: %.1E \\t max: %.1E'% (stats(y_test)))"
   ]
  },
  {
   "cell_type": "markdown",
   "metadata": {},
   "source": [
    "# Create the model"
   ]
  },
  {
   "cell_type": "code",
   "execution_count": 66,
   "metadata": {},
   "outputs": [],
   "source": [
    "from keras.models import Sequential\n",
    "from keras.layers.core import Dense, Activation, Dropout, Flatten\n",
    "from keras.layers.recurrent import LSTM\n",
    "from keras.layers import Dense, Conv1D, MaxPool2D, Flatten, Dropout\n",
    "from keras.callbacks import EarlyStopping, TensorBoard\n",
    "from keras.optimizers import Adam, SGD, Nadam\n",
    "from time import time"
   ]
  },
  {
   "cell_type": "code",
   "execution_count": 67,
   "metadata": {},
   "outputs": [],
   "source": [
    "# Create model\n",
    "model = Sequential()\n",
    "\n",
    "activation = 'relu'\n",
    "#19\n",
    "model.add(Dense(128, input_shape=(X_train.shape[1],), kernel_initializer='normal'))\n",
    "model.add(Activation(activation))\n",
    "model.add(Dropout(0.5, seed=seed)) \n",
    "\n",
    "# Dropout: 1 wont ''drop'' any data, 0.5 will drop half of the data\n",
    "# https://www.quora.com/How-does-the-dropout-method-work-in-deep-learning-And-why-is-it-claimed-to-be-an-effective-trick-to-improve-your-network\n",
    "N = 32*4 #45\n",
    "\n",
    "for i in range(3):\n",
    "    model.add(Dense(N, kernel_initializer='normal'))\n",
    "    model.add(Activation(activation))\n",
    "    model.add(Dropout(0.5, seed=seed))\n",
    "\n",
    "\n",
    "model.add(Dense(1, kernel_initializer='normal'))\n",
    "model.add(Activation('linear'))"
   ]
  },
  {
   "cell_type": "markdown",
   "metadata": {},
   "source": [
    "# Compile & fit"
   ]
  },
  {
   "cell_type": "code",
   "execution_count": 68,
   "metadata": {},
   "outputs": [
    {
     "name": "stdout",
     "output_type": "stream",
     "text": [
      "/home/16011015/notebooks/KB-74-OPSCHALER/Personal_folders/Brian/Keras\n"
     ]
    }
   ],
   "source": [
    "%%bash\n",
    "pwd"
   ]
  },
  {
   "cell_type": "code",
   "execution_count": 69,
   "metadata": {},
   "outputs": [
    {
     "data": {
      "image/png": "[encoded data removed]",
      "text/plain": [
       "<Figure size 864x576 with 2 Axes>"
      ]
     },
     "metadata": {},
     "output_type": "display_data"
    },
    {
     "name": "stdout",
     "output_type": "stream",
     "text": [
      " - 0s - loss: 0.0505 - mean_squared_error: 0.0505 - val_loss: 0.0444 - val_mean_squared_error: 0.0444\n",
      "CPU times: user 32.5 s, sys: 1.87 s, total: 34.3 s\n",
      "Wall time: 29.2 s\n"
     ]
    }
   ],
   "source": [
    "%%time\n",
    "\n",
    "# Compile and fit\n",
    "multi_model = multi_gpu_model(model, gpus=num_gpu)\n",
    "\n",
    "lr = 0.55\n",
    "epochs = 50\n",
    "#decay_rate = 1*10**(-8)\n",
    "decay_rate = 0\n",
    "sgd = SGD(lr=lr, momentum=0.9, decay=decay_rate, nesterov=True) # sgd in general yields better results, but needs a lot of tweeking and is slower\n",
    "\n",
    "# compiling the sequential model\n",
    "#multi_model.compile(loss='mean_squared_error', optimizer='adam')\n",
    "multi_model.compile(loss='mean_squared_error', metrics=['mse'], optimizer='nadam')\n",
    "\n",
    "early_stopping_monitor = EarlyStopping(patience=5000)\n",
    "\n",
    "from livelossplot import PlotLossesKeras\n",
    "\n",
    "tensorboard = TensorBoard(log_dir=\"/home/16011015/notebooks/logs/{}\".format(time()))\n",
    "\n",
    "# training the model and saving metrics in history\n",
    "multi_model.fit(X_train, y_train, batch_size=int(len(X_train)), \n",
    "                epochs=epochs, verbose=2, validation_data=(X_test, y_test), \n",
    "                callbacks=[early_stopping_monitor, PlotLossesKeras(), tensorboard])"
   ]
  },
  {
   "cell_type": "markdown",
   "metadata": {},
   "source": [
    "# Plot results"
   ]
  },
  {
   "cell_type": "code",
   "execution_count": null,
   "metadata": {},
   "outputs": [],
   "source": [
    "# X_test is already transformed\n",
    "x_pred = X_test\n",
    "#x_pred = scalerX.transform(x_pred)\n",
    "\n",
    "y_pred = model.predict(x_pred)\n",
    "\n",
    "\n",
    "print('x_pred scaled-> \\t shape: %s \\t var: %.1E \\t mean: %.1E \\t std: %.1E'% (x_pred.shape, x_pred.var(), x_pred.mean(), x_pred.std()))\n",
    "\n",
    "x_pred = scalerX.inverse_transform(x_pred)\n",
    "print('x_pred inverse-> \\t shape: %s \\t var: %.1E \\t mean: %.1E \\t std: %.1E'% (x_pred.shape, x_pred.var(), x_pred.mean(), x_pred.std()))\n",
    "\n",
    "# select test variables\n",
    "FF = x_pred[:,0]\n",
    "RG = x_pred[:,1]\n",
    "T = x_pred[:,2]\n",
    "\n",
    "fig, axarr = plt.subplots(2,2)\n",
    "\n",
    "\n",
    "axarr[0, 0].plot(data['T'], data['gasPower'], '.', color='r', alpha=0.3, label='Real')\n",
    "axarr[0, 0].plot(T, y_test, 'v', color='g', label='X_test, y_test', alpha=0.3)\n",
    "axarr[0, 0].plot(T, y_pred, '.', color='b', label='Predicted', alpha=0.3)\n",
    "axarr[0, 0].grid()\n",
    "axarr[0, 0].set_xlabel('Temperature at 1,5 m $T$ [$\\degree$C] \\n (1 min mean)')\n",
    "axarr[0, 0].set_ylabel(r'gasPower $\\cdot$ 10$^{-4}$ [m$^3$]')\n",
    "\n",
    "axarr[0, 1].plot(data['RG'], data['gasPower'], '.', color='r', alpha=0.3, label='Real')\n",
    "axarr[0, 1].plot(RG, y_test, 'v', color='g', alpha=0.3, label='X_test, y_test')\n",
    "axarr[0, 1].plot(RG, y_pred, '.', color='b', alpha=0.3, label='Predicted')\n",
    "axarr[0, 1].grid()\n",
    "axarr[0, 1].set_xlabel('Rain intensity $RG$ [mm/h] \\n (10 min mean)')\n",
    "axarr[0, 1].set_ylabel(r'gasPower $\\cdot$ 10$^{-4}$ [m$^3$]')\n",
    "\n",
    "\n",
    "axarr[1, 0].plot(data['FF'], data['gasPower'], '.', color='r', alpha=0.3, label='All real data')\n",
    "axarr[1, 0].plot(FF, y_test, 'v', color='g', label='X_test, y_test', alpha=0.3)\n",
    "axarr[1, 0].plot(FF, y_pred, '.', color='b', label='X_test, y_predicted', alpha=0.3)\n",
    "axarr[1, 0].grid()\n",
    "axarr[1, 0].set_xlabel('Wind speed $FF$ [m/s] \\n (10 min mean)')\n",
    "axarr[1, 0].set_ylabel(r'gasPower $\\cdot$ 10$^{-4}$ [m$^3$]')\n",
    "\n",
    "fig.delaxes(axarr[1, 1])\n",
    "\n",
    "mse = multi_model.evaluate(X_test, y_test)[0]\n",
    "mse_val = str(mse)[:4]\n",
    "mse_power = str(mse)[-1:]\n",
    "\n",
    "#fig.suptitle('Deep neural network regression results with gasPower as the target \\n Validation MSE = %s $\\cdot$ 10$^{-%s}$' % (mse_val, mse_power), fontsize = 14)\n",
    "fig.suptitle('Deep neural network regression results with gasPower as the target \\n Validation MSE = %s' % (mse_val), fontsize = 14)\n",
    "\n",
    "fig.set_size_inches(10,10)\n",
    "fig.tight_layout()\n",
    "\n",
    "fig.subplots_adjust(top=0.9) # Adjust title spacing at the top\n",
    "\n",
    "axarr[1, 0].legend(loc='lower left', bbox_to_anchor= (1.25, 0.3), borderaxespad=0, frameon=False, fontsize=14, markerscale=3)"
   ]
  },
  {
   "cell_type": "code",
   "execution_count": null,
   "metadata": {},
   "outputs": [],
   "source": [
    "fig.savefig('DDN last result.png', dpi=1200)"
   ]
  },
  {
   "cell_type": "code",
   "execution_count": null,
   "metadata": {},
   "outputs": [],
   "source": [
    "# Complete plot, commented out\n",
    "# X_test is already transformed\n",
    "x_pred = X_test\n",
    "#x_pred = scalerX.transform(x_pred)\n",
    "\n",
    "y_pred = model.predict(x_pred)\n",
    "\n",
    "\n",
    "print('x_pred scaled-> \\t shape: %s \\t var: %.1E \\t mean: %.1E \\t std: %.1E'% (x_pred.shape, x_pred.var(), x_pred.mean(), x_pred.std()))\n",
    "\n",
    "x_pred = scalerX.inverse_transform(x_pred)\n",
    "print('x_pred inverse-> \\t shape: %s \\t var: %.1E \\t mean: %.1E \\t std: %.1E'% (x_pred.shape, x_pred.var(), x_pred.mean(), x_pred.std()))\n",
    "\n",
    "# select test variables\n",
    "DD = x_pred[:,0]\n",
    "FF = x_pred[:,1]\n",
    "N = x_pred[:,2]\n",
    "Q = x_pred[:,3]\n",
    "RG = x_pred[:,4]\n",
    "T = x_pred[:,5]\n",
    "U = x_pred[:,6]\n",
    "\n",
    "fig, axarr = plt.subplots(3,3)\n",
    "\n",
    "axarr[0, 0].plot(data['DD'], data['gasPower'], '.', color='r', alpha=0.3, label='All real data')\n",
    "axarr[0, 0].plot(DD, y_test, 'v', color='g', label='X_test, y_test', alpha=0.3)\n",
    "axarr[0, 0].plot(DD, y_pred, 'x', color='b', label='X_test, y_predict', alpha=0.3)\n",
    "axarr[0, 0].grid()\n",
    "axarr[0, 0].set_xlabel('Wind direction $DD$ [$\\degree$] \\n (10 min mean)')\n",
    "axarr[0, 0].set_ylabel(r'gasPower [m$^3$]')\n",
    "\n",
    "axarr[0, 1].plot(data['N'], data['gasPower'], '.', color='r', alpha=0.3, label='Real')\n",
    "axarr[0, 1].plot(N, y_test, 'v', color='g', label='X_test, y_test', alpha=0.3)\n",
    "axarr[0, 1].plot(N, y_pred, 'x', color='b', label='Predicted', alpha=0.3)\n",
    "axarr[0, 1].grid()\n",
    "axarr[0, 1].set_xlabel('Total cloud coverage $N$ [octa]')\n",
    "axarr[0, 1].set_ylabel(r'gasPower [m$^3$]')\n",
    "\n",
    "axarr[0, 2].plot(data['Q'], data['gasPower'], '.', color='r', alpha=0.3, label='Real')\n",
    "axarr[0, 2].plot(Q, y_test, 'v', color='g', label='X_test, y_test', alpha=0.3)\n",
    "axarr[0, 2].plot(Q, y_pred, 'x', color='b', label='Predicted', alpha=0.3)\n",
    "axarr[0, 2].grid()\n",
    "axarr[0, 2].set_xlabel('global radiation $Q$ [W/m$^2$] \\n (10 min mean)')\n",
    "axarr[0, 2].set_ylabel(r'gasPower [m$^3$]')\n",
    "\n",
    "axarr[1, 0].plot(data['RG'], data['gasPower'], '.', color='r', alpha=0.3, label='Real')\n",
    "axarr[1, 0].plot(RG, y_test, 'v', color='g', label='X_test, y_test', alpha=0.3)\n",
    "axarr[1, 0].plot(RG, y_pred, 'x', color='b', label='Predicted', alpha=0.3)\n",
    "axarr[1, 0].grid()\n",
    "axarr[1, 0].set_xlabel('Rain intensity $RG$ [mm/h] \\n (10 min mean)')\n",
    "axarr[1, 0].set_ylabel(r'gasPower [m$^3$]')\n",
    "\n",
    "axarr[1, 1].plot(data['T'], data['gasPower'], '.', color='r', alpha=0.3, label='Real')\n",
    "axarr[1, 1].plot(T, y_test, 'v', color='g', alpha=0.3, label='X_test, y_test')\n",
    "axarr[1, 1].plot(T, y_pred, 'x', color='b', alpha=0.3, label='Predicted')\n",
    "axarr[1, 1].grid()\n",
    "axarr[1, 1].set_xlabel('Temperature at 1,5 m $T$ [$\\degree$C] \\n (1 min mean)')\n",
    "axarr[1, 1].set_ylabel(r'gasPower [m$^3$]')\n",
    "\n",
    "axarr[1, 2].plot(data['U'], data['gasPower'], '.', color='r', alpha=0.3, label='Real')\n",
    "axarr[1, 2].plot(U, y_test, 'v', color='g', label='X_test, y_test', alpha=0.3)\n",
    "axarr[1, 2].plot(U, y_pred, 'x', color='b', label='Predicted', alpha=0.3)\n",
    "axarr[1, 2].grid()\n",
    "axarr[1, 2].set_xlabel('Relative humidity at 1,5m $U$ [%] \\n (1 min mean)')\n",
    "axarr[1, 2].set_ylabel(r'gasPower [m$^3$]')\n",
    "\n",
    "axarr[2, 0].plot(data['FF'], data['gasPower'], '.', color='r', alpha=0.3, label='All real data')\n",
    "axarr[2, 0].plot(FF, y_test, 'v', color='g', label='X_test, y_test', alpha=0.3)\n",
    "axarr[2, 0].plot(FF, y_pred, 'x', color='b', label='X_test, y_predicted', alpha=0.3)\n",
    "axarr[2, 0].grid()\n",
    "axarr[2, 0].set_xlabel('Wind speed $FF$ [m/s] \\n (10 min mean)')\n",
    "axarr[2, 0].set_ylabel(r'gasPower [m$^3$]')\n",
    "\n",
    "fig.delaxes(axarr[2, 1])\n",
    "fig.delaxes(axarr[2, 2])\n",
    "\n",
    "mse = multi_model.evaluate(X_test, y_test)[0]\n",
    "mse_val = str(mse)[:4]\n",
    "mse_power = str(mse)[-1:]\n",
    "\n",
    "fig.suptitle('Deep neural network regression results with gasPower as the target \\n Validation MSE = %s' % (mse_val), fontsize = 14)\n",
    "\n",
    "fig.set_size_inches(10,10)\n",
    "fig.tight_layout()\n",
    "\n",
    "\n",
    "\n",
    "fig.subplots_adjust(top=0.9) # Adjust title spacing at the top\n",
    "\n",
    "axarr[2, 0].legend(loc='lower left', bbox_to_anchor= (2, 0.3), borderaxespad=0, frameon=False, fontsize=14, markerscale=3)"
   ]
  },
  {
   "cell_type": "code",
   "execution_count": null,
   "metadata": {},
   "outputs": [],
   "source": [
    "fig.savefig('DDN last result.png', dpi=1200)"
   ]
  },
  {
   "cell_type": "code",
   "execution_count": null,
   "metadata": {},
   "outputs": [],
   "source": []
  }
 ],
 "metadata": {
  "kernelspec": {
   "display_name": "Python 3",
   "language": "python",
   "name": "python3"
  },
  "language_info": {
   "codemirror_mode": {
    "name": "ipython",
    "version": 3
   },
   "file_extension": ".py",
   "mimetype": "text/x-python",
   "name": "python",
   "nbconvert_exporter": "python",
   "pygments_lexer": "ipython3",
   "version": "3.6.0"
  }
 },
 "nbformat": 4,
 "nbformat_minor": 2
}
