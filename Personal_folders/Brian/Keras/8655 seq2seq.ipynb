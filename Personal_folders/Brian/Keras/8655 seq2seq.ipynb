{
 "cells": [
  {
   "cell_type": "markdown",
   "metadata": {},
   "source": [
    "# Imports"
   ]
  },
  {
   "cell_type": "code",
   "execution_count": 1,
   "metadata": {},
   "outputs": [],
   "source": [
    "import pandas as pd\n",
    "import matplotlib.pyplot as plt\n",
    "import matplotlib as mpl\n",
    "from mpl_toolkits.mplot3d import Axes3D\n",
    "import seaborn as sns\n",
    "import numpy as np\n",
    "from tqdm import tqdm\n",
    "import dask.dataframe as dd\n",
    "\n",
    "mpl.style.use('default')\n",
    "#%matplotlib notebook\n",
    "%matplotlib inline\n",
    "sns.set()"
   ]
  },
  {
   "cell_type": "markdown",
   "metadata": {},
   "source": [
    "# Tensorflow backend initialization"
   ]
  },
  {
   "cell_type": "code",
   "execution_count": 2,
   "metadata": {},
   "outputs": [
    {
     "name": "stderr",
     "output_type": "stream",
     "text": [
      "/opt/jupyterhub/anaconda/lib/python3.6/importlib/_bootstrap.py:219: RuntimeWarning: compiletime version 3.5 of module 'tensorflow.python.framework.fast_tensor_util' does not match runtime version 3.6\n",
      "  return f(*args, **kwds)\n",
      "Using TensorFlow backend.\n"
     ]
    },
    {
     "name": "stdout",
     "output_type": "stream",
     "text": [
      "Amount of GPUs available: 4\n"
     ]
    }
   ],
   "source": [
    "\"\"\"\n",
    "Setup multi GPU usage\n",
    "\n",
    "Example usage:\n",
    "model = Sequential()\n",
    "...\n",
    "multi_model = multi_gpu_model(model, gpus=num_gpu)\n",
    "multi_model.fit()\n",
    "\n",
    "About memory usage:\n",
    "https://stackoverflow.com/questions/34199233/how-to-prevent-tensorflow-from-allocating-the-totality-of-a-gpu-memory\n",
    "\"\"\"\n",
    "import tensorflow as tf\n",
    "from keras.utils.training_utils import multi_gpu_model\n",
    "from tensorflow.python.client import device_lib\n",
    "\n",
    "# IMPORTANT: Tells tf to not occupy a specific amount of memory\n",
    "from keras.backend.tensorflow_backend import set_session  \n",
    "config = tf.ConfigProto()  \n",
    "config.gpu_options.allow_growth = True  # dynamically grow the memory used on the GPU  \n",
    "sess = tf.Session(config=config)  \n",
    "set_session(sess)  # set this TensorFlow session as the default session for Keras.\n",
    "\n",
    "\n",
    "# getting the number of GPUs \n",
    "def get_available_gpus():\n",
    "   local_device_protos = device_lib.list_local_devices()\n",
    "   return [x.name for x in local_device_protos if x.device_type    == 'GPU']\n",
    "num_gpu = len(get_available_gpus())\n",
    "print('Amount of GPUs available: %s' % num_gpu)"
   ]
  },
  {
   "cell_type": "markdown",
   "metadata": {},
   "source": [
    "# Function definitions"
   ]
  },
  {
   "cell_type": "code",
   "execution_count": 3,
   "metadata": {},
   "outputs": [],
   "source": [
    "def create_corr_matrix(df, dwelling_id, annot):\n",
    "    \"\"\"\n",
    "    Pearson correlation coefficient matrix. \n",
    "    The Pearson correlation coefficient is a measure of the linear correlation between two variables.\n",
    "    \"\"\"\n",
    "    plt.clf()\n",
    "    \n",
    "    corr = df.corr()\n",
    "    mask = np.zeros_like(corr)\n",
    "    mask[np.triu_indices_from(mask)] = True\n",
    "\n",
    "    if annot:\n",
    "        fig, ax = plt.subplots(figsize=(25,25))\n",
    "    else:\n",
    "        fig, ax = plt.subplots()\n",
    "\n",
    "    fig = sns.heatmap(corr, mask=mask, square=False, cmap='RdYlGn', annot=annot, ax=ax, \n",
    "                cbar_kws={'label':'Pearson correlation coefficient [-]'})\n",
    "\n",
    "    fig.set_title('Correlation matrix of dwelling ID: '+dwelling_id)\n",
    "    fig.tick_params(axis='x', rotation=90)\n",
    "    fig.tick_params(axis='y', rotation=0)\n",
    "\n",
    "    fig = fig.get_figure()\n",
    "    fig.tight_layout()\n",
    "    fig.show()\n",
    "    \n",
    "    print('Saving heatmap')\n",
    "    #fig.savefig('//datc//opschaler//EDA//Pearson_corr//' + dwelling_id + '.png', dpi=300)\n",
    "    return fig\n",
    "\n",
    "\n",
    "def reduce_memory(df):\n",
    "    \"\"\"\n",
    "    Reduces memory footprint of the input dataframe.\n",
    "    Changes float64 columns to float32 dtype.\n",
    "    \"\"\"\n",
    "    columns = df.columns\n",
    "    memory_before = df.memory_usage(deep=False).sum() / 2**30 # convert bytes to GB\n",
    "\n",
    "    for column in tqdm(columns):\n",
    "        if df[column].dtype == 'float64':\n",
    "            df[column] = df[column].astype('float32')\n",
    "        \n",
    "    memory_after = df.memory_usage(deep=False).sum() / 2**30 # convert bytes to GB\n",
    "    print('Memory uasge reduced from %.3f GB to %.3f GB' % (memory_before, memory_after))\n",
    "    \n",
    "    return df\n",
    "\n",
    "\n",
    "def resample_df(df, sample_rate, combine_all_dwellings=False):\n",
    "    \"\"\"\n",
    "    Resampled a (un)processed dataframe to the specified sample_rate.\n",
    "    Input is a (un)processed df.\n",
    "    Input df may also be multiple dwelling dfs combined.\n",
    "    Sample rate must be a string. \n",
    "    For example '1H', '1D', '60s'.\n",
    "    \n",
    "    Combine all dwellings: resamples the df and ignores the fact that there are unique dwellings.\n",
    "    \n",
    "    TODO: add std to ePower, gasPower when combine_all_dwellings=False\n",
    "    \"\"\"\n",
    "    df = df.copy()\n",
    "    \n",
    "    def resample_dwelling(df, sample_rate, dwelling_id):\n",
    "        df = df.resample(sample_rate).mean() # resample to rest by mean\n",
    "        df['dwelling'] = dwelling_id\n",
    "        return df\n",
    "        \n",
    "                      \n",
    "    resampled_dwellings = []\n",
    "    \n",
    "    if combine_all_dwellings: # Ignore dwelling_ids\n",
    "        df = df.drop(['eMeter', 'eMeterReturn', 'eMeterLow', 'eMeterLowReturn', 'gasMeter'], axis=1) # Drop columns because they are meaningless when ignoring dwelling ids\n",
    "        resampled_df = resample_dwelling(df, sample_rate, 'All dwellings')\n",
    "        resampled_dwellings.append(resampled_df)\n",
    "    else:\n",
    "        dwellings = df['dwelling'].unique() # Get dwelling ids\n",
    "        for dwelling_id in tqdm(dwellings):\n",
    "            dwelling_df = df[df['dwelling'] == dwelling_id] # Get the data from only that dwelling_id\n",
    "            resampled_dwelling = resample_dwelling(dwelling_df, sample_rate, dwelling_id)\n",
    "            resampled_dwellings.append(resampled_dwelling)\n",
    "    \n",
    "    resampled_df = pd.concat(resampled_dwellings)\n",
    "    \n",
    "    return resampled_df"
   ]
  },
  {
   "cell_type": "markdown",
   "metadata": {},
   "source": [
    "# Preparing dataframe for preprocessing"
   ]
  },
  {
   "cell_type": "code",
   "execution_count": 4,
   "metadata": {},
   "outputs": [
    {
     "name": "stderr",
     "output_type": "stream",
     "text": [
      "100%|██████████| 1/1 [00:00<00:00, 157.74it/s]"
     ]
    },
    {
     "name": "stdout",
     "output_type": "stream",
     "text": [
      "CPU times: user 32.5 ms, sys: 4.63 ms, total: 37.2 ms\n",
      "Wall time: 34.8 ms\n"
     ]
    },
    {
     "name": "stderr",
     "output_type": "stream",
     "text": [
      "\n"
     ]
    }
   ],
   "source": [
    "%%time\n",
    "df = pd.read_csv('//datc//opschaler//combined_gas_smart_weather_dfs//processed//P01S01W8655_hour.csv', delimiter='\\t', parse_dates=['datetime'])\n",
    "df = df.set_index(['datetime'])\n",
    "df = df.dropna()\n",
    "\n",
    "# Get an hour dataframe\n",
    "df = resample_df(df, 'D') # For some reason this makes df equal h, so it changes the df variable being read in at the start...\n",
    "#df['year'] = df.index.year\n",
    "#df['month'] = df.index.month\n",
    "#df['day'] = df.index.day\n",
    "#df['hour'] = df.index.hour #create column containing the hour\n",
    "#df['dayofweek'] = df.index.dayofweek\n",
    "#df['season'] = (df.index.month%12 + 3)//3 # Calculates the season (categorical)\n",
    "\n",
    "#df = df.iloc[-7*5:]"
   ]
  },
  {
   "cell_type": "code",
   "execution_count": 5,
   "metadata": {},
   "outputs": [
    {
     "data": {
      "text/html": [
       "<div>\n",
       "<style scoped>\n",
       "    .dataframe tbody tr th:only-of-type {\n",
       "        vertical-align: middle;\n",
       "    }\n",
       "\n",
       "    .dataframe tbody tr th {\n",
       "        vertical-align: top;\n",
       "    }\n",
       "\n",
       "    .dataframe thead th {\n",
       "        text-align: right;\n",
       "    }\n",
       "</style>\n",
       "<table border=\"1\" class=\"dataframe\">\n",
       "  <thead>\n",
       "    <tr style=\"text-align: right;\">\n",
       "      <th></th>\n",
       "      <th>eMeter</th>\n",
       "      <th>eMeterReturn</th>\n",
       "      <th>eMeterLow</th>\n",
       "      <th>eMeterLowReturn</th>\n",
       "      <th>ePower</th>\n",
       "      <th>ePowerReturn</th>\n",
       "      <th>gasMeter</th>\n",
       "      <th>DD</th>\n",
       "      <th>DR</th>\n",
       "      <th>FF</th>\n",
       "      <th>...</th>\n",
       "      <th>RG</th>\n",
       "      <th>SQ</th>\n",
       "      <th>T</th>\n",
       "      <th>T10</th>\n",
       "      <th>TD</th>\n",
       "      <th>U</th>\n",
       "      <th>VV</th>\n",
       "      <th>WW</th>\n",
       "      <th>gasPower</th>\n",
       "      <th>dwelling</th>\n",
       "    </tr>\n",
       "    <tr>\n",
       "      <th>datetime</th>\n",
       "      <th></th>\n",
       "      <th></th>\n",
       "      <th></th>\n",
       "      <th></th>\n",
       "      <th></th>\n",
       "      <th></th>\n",
       "      <th></th>\n",
       "      <th></th>\n",
       "      <th></th>\n",
       "      <th></th>\n",
       "      <th></th>\n",
       "      <th></th>\n",
       "      <th></th>\n",
       "      <th></th>\n",
       "      <th></th>\n",
       "      <th></th>\n",
       "      <th></th>\n",
       "      <th></th>\n",
       "      <th></th>\n",
       "      <th></th>\n",
       "      <th></th>\n",
       "    </tr>\n",
       "  </thead>\n",
       "  <tbody>\n",
       "    <tr>\n",
       "      <th>2017-04-24</th>\n",
       "      <td>780.522364</td>\n",
       "      <td>0.0</td>\n",
       "      <td>736.983000</td>\n",
       "      <td>0.0</td>\n",
       "      <td>450.653377</td>\n",
       "      <td>0.0</td>\n",
       "      <td>1592.778182</td>\n",
       "      <td>267.907575</td>\n",
       "      <td>151.272727</td>\n",
       "      <td>4.926667</td>\n",
       "      <td>...</td>\n",
       "      <td>0.350000</td>\n",
       "      <td>0.220361</td>\n",
       "      <td>10.819697</td>\n",
       "      <td>11.121212</td>\n",
       "      <td>6.662121</td>\n",
       "      <td>75.712122</td>\n",
       "      <td>29368.333455</td>\n",
       "      <td>29.696970</td>\n",
       "      <td>0.201372</td>\n",
       "      <td>P01S01W8655</td>\n",
       "    </tr>\n",
       "    <tr>\n",
       "      <th>2017-04-25</th>\n",
       "      <td>784.964250</td>\n",
       "      <td>0.0</td>\n",
       "      <td>738.217500</td>\n",
       "      <td>0.0</td>\n",
       "      <td>365.682568</td>\n",
       "      <td>0.0</td>\n",
       "      <td>1595.581708</td>\n",
       "      <td>285.680485</td>\n",
       "      <td>47.416667</td>\n",
       "      <td>5.478194</td>\n",
       "      <td>...</td>\n",
       "      <td>0.080208</td>\n",
       "      <td>4.004910</td>\n",
       "      <td>6.503472</td>\n",
       "      <td>6.373403</td>\n",
       "      <td>1.977500</td>\n",
       "      <td>72.906250</td>\n",
       "      <td>36118.680500</td>\n",
       "      <td>23.550000</td>\n",
       "      <td>0.150121</td>\n",
       "      <td>P01S01W8655</td>\n",
       "    </tr>\n",
       "    <tr>\n",
       "      <th>2017-04-26</th>\n",
       "      <td>792.118045</td>\n",
       "      <td>0.0</td>\n",
       "      <td>739.742318</td>\n",
       "      <td>0.0</td>\n",
       "      <td>376.575828</td>\n",
       "      <td>0.0</td>\n",
       "      <td>1601.333091</td>\n",
       "      <td>270.914473</td>\n",
       "      <td>42.545455</td>\n",
       "      <td>3.074758</td>\n",
       "      <td>...</td>\n",
       "      <td>0.112348</td>\n",
       "      <td>3.856208</td>\n",
       "      <td>6.132197</td>\n",
       "      <td>5.827121</td>\n",
       "      <td>2.092727</td>\n",
       "      <td>76.340910</td>\n",
       "      <td>34583.575909</td>\n",
       "      <td>12.346970</td>\n",
       "      <td>0.375732</td>\n",
       "      <td>P01S01W8655</td>\n",
       "    </tr>\n",
       "    <tr>\n",
       "      <th>2017-04-27</th>\n",
       "      <td>796.967000</td>\n",
       "      <td>0.0</td>\n",
       "      <td>744.674917</td>\n",
       "      <td>0.0</td>\n",
       "      <td>411.699121</td>\n",
       "      <td>0.0</td>\n",
       "      <td>1608.707583</td>\n",
       "      <td>233.521111</td>\n",
       "      <td>17.708333</td>\n",
       "      <td>2.968375</td>\n",
       "      <td>...</td>\n",
       "      <td>0.023264</td>\n",
       "      <td>2.682295</td>\n",
       "      <td>6.181319</td>\n",
       "      <td>5.922500</td>\n",
       "      <td>2.129722</td>\n",
       "      <td>76.137500</td>\n",
       "      <td>36665.555917</td>\n",
       "      <td>11.267361</td>\n",
       "      <td>0.213999</td>\n",
       "      <td>P01S01W8655</td>\n",
       "    </tr>\n",
       "    <tr>\n",
       "      <th>2017-04-28</th>\n",
       "      <td>800.575875</td>\n",
       "      <td>0.0</td>\n",
       "      <td>751.724250</td>\n",
       "      <td>0.0</td>\n",
       "      <td>511.259890</td>\n",
       "      <td>0.0</td>\n",
       "      <td>1614.828083</td>\n",
       "      <td>266.770347</td>\n",
       "      <td>58.366667</td>\n",
       "      <td>2.997917</td>\n",
       "      <td>...</td>\n",
       "      <td>0.156111</td>\n",
       "      <td>2.737647</td>\n",
       "      <td>7.958750</td>\n",
       "      <td>7.910486</td>\n",
       "      <td>4.364167</td>\n",
       "      <td>78.612500</td>\n",
       "      <td>33648.791625</td>\n",
       "      <td>18.394445</td>\n",
       "      <td>0.251663</td>\n",
       "      <td>P01S01W8655</td>\n",
       "    </tr>\n",
       "  </tbody>\n",
       "</table>\n",
       "<p>5 rows × 24 columns</p>\n",
       "</div>"
      ],
      "text/plain": [
       "                eMeter  eMeterReturn   eMeterLow  eMeterLowReturn      ePower  \\\n",
       "datetime                                                                        \n",
       "2017-04-24  780.522364           0.0  736.983000              0.0  450.653377   \n",
       "2017-04-25  784.964250           0.0  738.217500              0.0  365.682568   \n",
       "2017-04-26  792.118045           0.0  739.742318              0.0  376.575828   \n",
       "2017-04-27  796.967000           0.0  744.674917              0.0  411.699121   \n",
       "2017-04-28  800.575875           0.0  751.724250              0.0  511.259890   \n",
       "\n",
       "            ePowerReturn     gasMeter          DD          DR        FF  \\\n",
       "datetime                                                                  \n",
       "2017-04-24           0.0  1592.778182  267.907575  151.272727  4.926667   \n",
       "2017-04-25           0.0  1595.581708  285.680485   47.416667  5.478194   \n",
       "2017-04-26           0.0  1601.333091  270.914473   42.545455  3.074758   \n",
       "2017-04-27           0.0  1608.707583  233.521111   17.708333  2.968375   \n",
       "2017-04-28           0.0  1614.828083  266.770347   58.366667  2.997917   \n",
       "\n",
       "               ...             RG        SQ          T        T10        TD  \\\n",
       "datetime       ...                                                            \n",
       "2017-04-24     ...       0.350000  0.220361  10.819697  11.121212  6.662121   \n",
       "2017-04-25     ...       0.080208  4.004910   6.503472   6.373403  1.977500   \n",
       "2017-04-26     ...       0.112348  3.856208   6.132197   5.827121  2.092727   \n",
       "2017-04-27     ...       0.023264  2.682295   6.181319   5.922500  2.129722   \n",
       "2017-04-28     ...       0.156111  2.737647   7.958750   7.910486  4.364167   \n",
       "\n",
       "                    U            VV         WW  gasPower     dwelling  \n",
       "datetime                                                               \n",
       "2017-04-24  75.712122  29368.333455  29.696970  0.201372  P01S01W8655  \n",
       "2017-04-25  72.906250  36118.680500  23.550000  0.150121  P01S01W8655  \n",
       "2017-04-26  76.340910  34583.575909  12.346970  0.375732  P01S01W8655  \n",
       "2017-04-27  76.137500  36665.555917  11.267361  0.213999  P01S01W8655  \n",
       "2017-04-28  78.612500  33648.791625  18.394445  0.251663  P01S01W8655  \n",
       "\n",
       "[5 rows x 24 columns]"
      ]
     },
     "execution_count": 5,
     "metadata": {},
     "output_type": "execute_result"
    }
   ],
   "source": [
    "df.head()"
   ]
  },
  {
   "cell_type": "markdown",
   "metadata": {},
   "source": [
    "## Get a proper hourly dataframe"
   ]
  },
  {
   "cell_type": "code",
   "execution_count": 6,
   "metadata": {},
   "outputs": [
    {
     "name": "stdout",
     "output_type": "stream",
     "text": [
      "Saving heatmap\n"
     ]
    },
    {
     "name": "stderr",
     "output_type": "stream",
     "text": [
      "/opt/jupyterhub/anaconda/lib/python3.6/site-packages/matplotlib/figure.py:459: UserWarning: matplotlib is currently using a non-GUI backend, so cannot show the figure\n",
      "  \"matplotlib is currently using a non-GUI backend, \"\n"
     ]
    },
    {
     "data": {
      "text/plain": [
       "<Figure size 576x396 with 0 Axes>"
      ]
     },
     "metadata": {},
     "output_type": "display_data"
    },
    {
     "data": {
      "image/png": "[encoded data removed]",
      "text/plain": [
       "<Figure size 576x396 with 2 Axes>"
      ]
     },
     "metadata": {},
     "output_type": "display_data"
    }
   ],
   "source": [
    "fig = create_corr_matrix(df, '', False)"
   ]
  },
  {
   "cell_type": "markdown",
   "metadata": {},
   "source": [
    "## Select data we want"
   ]
  },
  {
   "cell_type": "code",
   "execution_count": 7,
   "metadata": {},
   "outputs": [
    {
     "name": "stdout",
     "output_type": "stream",
     "text": [
      "Len of data:  208\n"
     ]
    },
    {
     "data": {
      "image/png": "[encoded data removed]",
      "text/plain": [
       "<Figure size 576x396 with 2 Axes>"
      ]
     },
     "metadata": {},
     "output_type": "display_data"
    }
   ],
   "source": [
    "data = df\n",
    "data = data.drop(['eMeter', 'eMeterReturn', 'eMeterLow', 'eMeterLowReturn', 'gasMeter', 'dwelling'], axis=1) # Not needed\n",
    "data = data.drop(['WW', 'VV', 'P', 'DR', 'SQ', 'TD', 'T10', 'FX'], axis=1) # Drop weather columns which contain correlated information, keep only one type\n",
    "#sns.heatmap(data.corr(), annot=True)\n",
    "\n",
    "data = data.drop(['ePower', 'ePowerReturn'], axis=1) # Drop if want to predict gasPower\n",
    "\n",
    "# Drop columns with that have a |corr| > 0.1 with T\n",
    "data = data.drop(['U', 'N', 'Q', 'DD'], axis=1)\n",
    "\n",
    "\n",
    "#data = data[data['T'] < 0] #filter data based on condition\n",
    "#data = data.reset_index()\n",
    "magnitude = 1\n",
    "data['gasPower'] = data['gasPower']*10**magnitude\n",
    "data = data.dropna()\n",
    "\n",
    "sns.heatmap(data.corr(), annot=True)\n",
    "\n",
    "print('Len of data: ', len(data))"
   ]
  },
  {
   "cell_type": "markdown",
   "metadata": {},
   "source": [
    "# EDA"
   ]
  },
  {
   "cell_type": "code",
   "execution_count": 8,
   "metadata": {},
   "outputs": [
    {
     "data": {
      "text/plain": [
       "<matplotlib.legend.Legend at 0x7f666fdd7630>"
      ]
     },
     "execution_count": 8,
     "metadata": {},
     "output_type": "execute_result"
    },
    {
     "data": {
      "image/png": "[encoded data removed]",
      "text/plain": [
       "<Figure size 576x396 with 1 Axes>"
      ]
     },
     "metadata": {},
     "output_type": "display_data"
    }
   ],
   "source": [
    "plt.plot(data['T'], data['gasPower'], '.', color='r', label='Original data')\n",
    "plt.xlabel('Temperature [°C]')\n",
    "plt.ylabel(r'gasPower $\\cdot$ 10$^{-%s}$ [m$^3$/h]' % magnitude)\n",
    "plt.legend()"
   ]
  },
  {
   "cell_type": "code",
   "execution_count": 9,
   "metadata": {},
   "outputs": [],
   "source": [
    "#sns.pairplot(data)"
   ]
  },
  {
   "cell_type": "markdown",
   "metadata": {},
   "source": [
    "# Preprocessing"
   ]
  },
  {
   "cell_type": "code",
   "execution_count": 10,
   "metadata": {},
   "outputs": [],
   "source": [
    "from sklearn.model_selection import TimeSeriesSplit, train_test_split\n",
    "from sklearn.preprocessing import StandardScaler"
   ]
  },
  {
   "cell_type": "code",
   "execution_count": 11,
   "metadata": {},
   "outputs": [
    {
     "name": "stdout",
     "output_type": "stream",
     "text": [
      "Index(['gasPower'], dtype='object')\n",
      "208\n"
     ]
    }
   ],
   "source": [
    "# Get the gasPower column\n",
    "gp = data[['gasPower']]*10\n",
    "#gp = data\n",
    "print(gp.columns)\n",
    "print(len(gp))\n",
    "\n",
    "train_length = 0.3\n",
    "\n",
    "\n",
    "\n",
    "gp_train = gp[:int(len(gp)*train_length)]\n",
    "gp_test = gp[int(len(gp)*train_length):]"
   ]
  },
  {
   "cell_type": "code",
   "execution_count": 12,
   "metadata": {},
   "outputs": [
    {
     "data": {
      "text/plain": [
       "<matplotlib.legend.Legend at 0x7f664c0ced30>"
      ]
     },
     "execution_count": 12,
     "metadata": {},
     "output_type": "execute_result"
    },
    {
     "data": {
      "image/png": "[encoded data removed]",
      "text/plain": [
       "<Figure size 576x396 with 1 Axes>"
      ]
     },
     "metadata": {},
     "output_type": "display_data"
    }
   ],
   "source": [
    "plt.plot(gp_train.index, gp_train['gasPower'], '.-', label='train', color='r')\n",
    "plt.plot(gp_test.index, gp_test['gasPower'], '.-', label='train', color='b')\n",
    "plt.legend()"
   ]
  },
  {
   "cell_type": "code",
   "execution_count": 13,
   "metadata": {},
   "outputs": [
    {
     "data": {
      "text/plain": [
       "array([[20.13716282],\n",
       "       [15.01210527],\n",
       "       [37.57324159],\n",
       "       [21.3999431 ],\n",
       "       [25.16632053],\n",
       "       [24.25925477],\n",
       "       [19.94578005],\n",
       "       [ 6.5419515 ],\n",
       "       [ 8.84551988],\n",
       "       [11.2670898 ],\n",
       "       [12.94148742],\n",
       "       [15.1418051 ],\n",
       "       [17.8995767 ],\n",
       "       [ 8.10038251],\n",
       "       [14.88591983],\n",
       "       [14.79187065],\n",
       "       [ 0.80899324],\n",
       "       [ 1.02945965],\n",
       "       [ 1.15000404],\n",
       "       [ 4.3665569 ],\n",
       "       [ 1.76645911],\n",
       "       [ 2.14996337],\n",
       "       [ 1.78782147],\n",
       "       [ 0.95825194],\n",
       "       [ 1.06252033],\n",
       "       [ 1.54164625],\n",
       "       [ 1.10015875],\n",
       "       [ 1.06252033],\n",
       "       [ 0.        ],\n",
       "       [ 0.63587536],\n",
       "       [ 0.42521159],\n",
       "       [ 2.54974365],\n",
       "       [ 1.45467121],\n",
       "       [ 2.27915445],\n",
       "       [ 1.26241048],\n",
       "       [ 0.26245117],\n",
       "       [ 1.09558105],\n",
       "       [ 1.49180095],\n",
       "       [ 1.34989426],\n",
       "       [ 1.14186604],\n",
       "       [ 0.        ],\n",
       "       [ 0.        ],\n",
       "       [ 0.        ],\n",
       "       [ 0.        ],\n",
       "       [ 0.        ],\n",
       "       [ 0.87076822],\n",
       "       [ 1.25427246],\n",
       "       [ 2.49582929],\n",
       "       [ 1.17085772],\n",
       "       [ 0.27923583],\n",
       "       [ 0.36214194],\n",
       "       [ 2.42919921],\n",
       "       [ 1.66676841],\n",
       "       [ 0.5956014 ],\n",
       "       [ 1.65456137],\n",
       "       [ 0.94146729],\n",
       "       [ 1.95007326],\n",
       "       [ 0.487264  ],\n",
       "       [ 1.071167  ],\n",
       "       [ 0.87483727],\n",
       "       [ 1.016744  ],\n",
       "       [ 1.04092682]])"
      ]
     },
     "execution_count": 13,
     "metadata": {},
     "output_type": "execute_result"
    }
   ],
   "source": [
    "gp_train = np.array(gp_train)\n",
    "gp_test = np.array(gp_test)\n",
    "\n",
    "gp_train"
   ]
  },
  {
   "cell_type": "code",
   "execution_count": 14,
   "metadata": {},
   "outputs": [
    {
     "data": {
      "text/plain": [
       "array([[20.13716282],\n",
       "       [15.01210527],\n",
       "       [37.57324159],\n",
       "       [21.3999431 ],\n",
       "       [25.16632053]])"
      ]
     },
     "execution_count": 14,
     "metadata": {},
     "output_type": "execute_result"
    }
   ],
   "source": [
    "batch_size = 1\n",
    "input_sequence_length = 7 #Length of the sequence used by the encoder\n",
    "target_sequence_length = 7 # Length of the sequence predicted by the decoder\n",
    "num_steps_to_predict = 7 # Length to use when testing the model\n",
    "\n",
    "\n",
    "# Amount of epochs to do\n",
    "steps_per_epoch = 200 # batch_size * steps_per_epoch = total number of training examples\n",
    "n_folds = 2\n",
    "\n",
    "array = np.array(gp)\n",
    "array[:5]"
   ]
  },
  {
   "cell_type": "code",
   "execution_count": 15,
   "metadata": {},
   "outputs": [
    {
     "name": "stdout",
     "output_type": "stream",
     "text": [
      "total_folds 14\n"
     ]
    },
    {
     "data": {
      "text/plain": [
       "array([[[20.13716282],\n",
       "        [15.01210527],\n",
       "        [37.57324159],\n",
       "        [21.3999431 ],\n",
       "        [25.16632053],\n",
       "        [24.25925477],\n",
       "        [19.94578005],\n",
       "        [ 6.5419515 ],\n",
       "        [ 8.84551988],\n",
       "        [11.2670898 ],\n",
       "        [12.94148742],\n",
       "        [15.1418051 ],\n",
       "        [17.8995767 ],\n",
       "        [ 8.10038251]],\n",
       "\n",
       "       [[14.88591983],\n",
       "        [14.79187065],\n",
       "        [ 0.80899324],\n",
       "        [ 1.02945965],\n",
       "        [ 1.15000404],\n",
       "        [ 4.3665569 ],\n",
       "        [ 1.76645911],\n",
       "        [ 2.14996337],\n",
       "        [ 1.78782147],\n",
       "        [ 0.95825194],\n",
       "        [ 1.06252033],\n",
       "        [ 1.54164625],\n",
       "        [ 1.10015875],\n",
       "        [ 1.06252033]],\n",
       "\n",
       "       [[ 0.        ],\n",
       "        [ 0.63587536],\n",
       "        [ 0.42521159],\n",
       "        [ 2.54974365],\n",
       "        [ 1.45467121],\n",
       "        [ 2.27915445],\n",
       "        [ 1.26241048],\n",
       "        [ 0.26245117],\n",
       "        [ 1.09558105],\n",
       "        [ 1.49180095],\n",
       "        [ 1.34989426],\n",
       "        [ 1.14186604],\n",
       "        [ 0.        ],\n",
       "        [ 0.        ]],\n",
       "\n",
       "       [[ 0.        ],\n",
       "        [ 0.        ],\n",
       "        [ 0.        ],\n",
       "        [ 0.87076822],\n",
       "        [ 1.25427246],\n",
       "        [ 2.49582929],\n",
       "        [ 1.17085772],\n",
       "        [ 0.27923583],\n",
       "        [ 0.36214194],\n",
       "        [ 2.42919921],\n",
       "        [ 1.66676841],\n",
       "        [ 0.5956014 ],\n",
       "        [ 1.65456137],\n",
       "        [ 0.94146729]],\n",
       "\n",
       "       [[ 1.95007326],\n",
       "        [ 0.487264  ],\n",
       "        [ 1.071167  ],\n",
       "        [ 0.87483727],\n",
       "        [ 1.016744  ],\n",
       "        [ 1.04092682],\n",
       "        [ 0.        ],\n",
       "        [ 1.74987796],\n",
       "        [ 2.30407712],\n",
       "        [ 1.26241048],\n",
       "        [ 0.98368325],\n",
       "        [ 1.62506105],\n",
       "        [ 0.        ],\n",
       "        [ 0.        ]],\n",
       "\n",
       "       [[ 1.59962973],\n",
       "        [ 0.74208578],\n",
       "        [ 2.19573975],\n",
       "        [ 1.17492677],\n",
       "        [ 0.81685383],\n",
       "        [ 1.30045573],\n",
       "        [ 0.92468261],\n",
       "        [ 2.10011801],\n",
       "        [ 1.11236574],\n",
       "        [ 3.18756102],\n",
       "        [ 1.64184571],\n",
       "        [ 0.        ],\n",
       "        [ 0.68423621],\n",
       "        [ 0.        ]],\n",
       "\n",
       "       [[ 0.        ],\n",
       "        [ 0.        ],\n",
       "        [ 0.        ],\n",
       "        [ 2.07061771],\n",
       "        [ 0.79193117],\n",
       "        [ 0.79549152],\n",
       "        [ 1.07523601],\n",
       "        [ 1.22070312],\n",
       "        [ 1.69576008],\n",
       "        [ 2.29593914],\n",
       "        [ 1.62913003],\n",
       "        [ 1.4460246 ],\n",
       "        [ 1.27919515],\n",
       "        [ 1.87710848]],\n",
       "\n",
       "       [[ 0.33772788],\n",
       "        [ 1.020813  ],\n",
       "        [ 1.6540527 ],\n",
       "        [ 1.79138188],\n",
       "        [ 1.62963867],\n",
       "        [ 1.06658938],\n",
       "        [ 2.58738198],\n",
       "        [ 0.87890625],\n",
       "        [ 2.06705728],\n",
       "        [ 1.5769265 ],\n",
       "        [ 1.06367632],\n",
       "        [ 0.30415854],\n",
       "        [ 0.27109783],\n",
       "        [ 1.9454956 ]],\n",
       "\n",
       "       [[ 0.73343915],\n",
       "        [ 1.30411785],\n",
       "        [ 1.72526042],\n",
       "        [ 2.02077228],\n",
       "        [ 1.4541626 ],\n",
       "        [ 0.04170736],\n",
       "        [ 0.17496745],\n",
       "        [ 0.        ],\n",
       "        [ 0.        ],\n",
       "        [ 0.        ],\n",
       "        [ 1.80816651],\n",
       "        [ 1.17492677],\n",
       "        [ 2.24202472],\n",
       "        [ 2.05790201]],\n",
       "\n",
       "       [[ 1.01267496],\n",
       "        [ 0.9165446 ],\n",
       "        [ 0.81278483],\n",
       "        [ 5.6955973 ],\n",
       "        [ 0.87076822],\n",
       "        [ 1.47094725],\n",
       "        [ 1.10015868],\n",
       "        [ 1.30411783],\n",
       "        [ 2.64994301],\n",
       "        [ 1.61692301],\n",
       "        [ 0.92875164],\n",
       "        [ 4.2500814 ],\n",
       "        [ 2.01670331],\n",
       "        [ 1.83766681]],\n",
       "\n",
       "       [[ 9.61659738],\n",
       "        [ 0.37078858],\n",
       "        [11.12060564],\n",
       "        [10.38360575],\n",
       "        [ 3.2374065 ],\n",
       "        [ 1.62506103],\n",
       "        [ 1.17085775],\n",
       "        [ 0.72072346],\n",
       "        [ 1.90836586],\n",
       "        [ 1.6916911 ],\n",
       "        [11.0209147 ],\n",
       "        [ 2.575175  ],\n",
       "        [ 1.95414221],\n",
       "        [ 5.19154871]],\n",
       "\n",
       "       [[ 2.37070717],\n",
       "        [ 1.88751221],\n",
       "        [11.39577242],\n",
       "        [ 9.47926808],\n",
       "        [ 3.47900388],\n",
       "        [ 1.32090252],\n",
       "        [ 0.99182128],\n",
       "        [ 3.67482504],\n",
       "        [ 9.76257317],\n",
       "        [ 9.17104083],\n",
       "        [10.81237796],\n",
       "        [ 4.38741046],\n",
       "        [ 4.73327637],\n",
       "        [ 3.78367098]],\n",
       "\n",
       "       [[ 6.73319492],\n",
       "        [ 1.99991865],\n",
       "        [11.87489838],\n",
       "        [ 1.84651696],\n",
       "        [ 2.10658484],\n",
       "        [ 0.87534586],\n",
       "        [ 3.9138067 ],\n",
       "        [ 3.08329266],\n",
       "        [ 8.93758133],\n",
       "        [ 2.08333329],\n",
       "        [21.67510975],\n",
       "        [10.76253279],\n",
       "        [ 1.2664795 ],\n",
       "        [ 4.30857346]],\n",
       "\n",
       "       [[13.73748773],\n",
       "        [ 2.34578452],\n",
       "        [16.03749571],\n",
       "        [21.0876465 ],\n",
       "        [12.90791853],\n",
       "        [20.20416276],\n",
       "        [15.79589857],\n",
       "        [ 8.73362213],\n",
       "        [25.60424829],\n",
       "        [ 3.14534504],\n",
       "        [34.20461004],\n",
       "        [23.9456174 ],\n",
       "        [23.55855305],\n",
       "        [32.02463745]]])"
      ]
     },
     "execution_count": 15,
     "metadata": {},
     "output_type": "execute_result"
    }
   ],
   "source": [
    "\"\"\"\n",
    "Input is an array, for example (when data is a pd df):\n",
    "array = data[['gasPower']]\n",
    "array = np.array(array)\n",
    "\"\"\"\n",
    "array = array.copy()\n",
    "    \n",
    "n_columns = array.shape[1]\n",
    "num_points = input_sequence_length + target_sequence_length\n",
    "    \n",
    "n_folds = array.shape[0] // num_points # For example with 208 / 14 = 14.85 then 208//14=14\n",
    "#print('n_folds is %.1f so taking value %s ' % (gp.shape[0]/num_points, n_folds))\n",
    "    \n",
    "total_folds = n_folds // batch_size\n",
    "print('total_folds', total_folds)\n",
    "#print('total_batches is %.1f so taking value %s' % (n_folds/batch_size, total_batches))\n",
    "    \n",
    "    \n",
    "signals = []\n",
    "#print('signals initial shape: ', signals.shape)\n",
    "\n",
    "for fold in range(n_folds): # slice the array in n_folds\n",
    "    start = fold*num_points\n",
    "    signal = array[start:start+num_points] # take values of the slices\n",
    "    signals.append(signal) # append slice to the signals list\n",
    "\n",
    "\n",
    "signals = np.asarray(signals) # list of arrays to one array\n",
    "signals"
   ]
  },
  {
   "cell_type": "code",
   "execution_count": 16,
   "metadata": {},
   "outputs": [
    {
     "name": "stdout",
     "output_type": "stream",
     "text": [
      "batch_len:  1\n",
      "We have got 14 folds with 1 batches of 14 steps with 1 columns.\n"
     ]
    }
   ],
   "source": [
    "#print('signals final shape: ', signals.shape)\n",
    "    \n",
    "\"\"\"\n",
    "Split all signals into amount of total batches, generator should iterate over this and return each batch. \n",
    "i.e. iterate with i over (i, 3, 14, 1) if  size is (4, 2, 14, 1), from 0 to i=3.\n",
    "\"\"\"\n",
    "\n",
    "batch_len = signals.shape[0] // total_folds\n",
    "print('batch_len: ', batch_len)\n",
    "\n",
    "folds = []\n",
    "for i in range(total_folds):\n",
    "    start = i*batch_len\n",
    "    stop = start + batch_len\n",
    "    fold = signals[start:stop] # take the values of the slices\n",
    "    folds.append(fold)\n",
    "\n",
    "folds = np.asarray(folds)\n",
    "    \n",
    "print('We have got %s folds with %s batches of %s steps with %s columns.' % (folds.shape[0], folds.shape[1], folds.shape[2], folds.shape[3]))"
   ]
  },
  {
   "cell_type": "code",
   "execution_count": 17,
   "metadata": {},
   "outputs": [
    {
     "name": "stdout",
     "output_type": "stream",
     "text": [
      "fold shape (1, 14, 1)\n",
      "[[[20.13716282]\n",
      "  [15.01210527]\n",
      "  [37.57324159]\n",
      "  [21.3999431 ]\n",
      "  [25.16632053]\n",
      "  [24.25925477]\n",
      "  [19.94578005]\n",
      "  [ 6.5419515 ]\n",
      "  [ 8.84551988]\n",
      "  [11.2670898 ]\n",
      "  [12.94148742]\n",
      "  [15.1418051 ]\n",
      "  [17.8995767 ]\n",
      "  [ 8.10038251]]]\n",
      "[[[0.]\n",
      "  [0.]\n",
      "  [0.]\n",
      "  [0.]\n",
      "  [0.]\n",
      "  [0.]\n",
      "  [0.]]]\n"
     ]
    },
    {
     "data": {
      "text/plain": [
       "array([[[ 6.5419515 ],\n",
       "        [ 8.84551988],\n",
       "        [11.2670898 ],\n",
       "        [12.94148742],\n",
       "        [15.1418051 ],\n",
       "        [17.8995767 ],\n",
       "        [ 8.10038251]]])"
      ]
     },
     "execution_count": 17,
     "metadata": {},
     "output_type": "execute_result"
    }
   ],
   "source": [
    "fold = folds[0]\n",
    "print('fold shape', fold.shape)\n",
    "print(fold)\n",
    "\n",
    "encoder_input = fold[:, :input_sequence_length, :]\n",
    "decoder_output = fold[:, input_sequence_length:, :]\n",
    "decoder_input = np.zeros((decoder_output.shape[0], decoder_output.shape[1], 1))\n",
    "\n",
    "print(decoder_input)\n",
    "decoder_output"
   ]
  },
  {
   "cell_type": "markdown",
   "metadata": {},
   "source": [
    "gp = np.arange(100)\n",
    "gp = gp.reshape(100, 1)\n",
    "gp.shape"
   ]
  },
  {
   "cell_type": "code",
   "execution_count": 18,
   "metadata": {},
   "outputs": [],
   "source": [
    "def array_to_seq2seq_format(array, target_index, input_seq_len, output_seq_len, batch_size, n_epochs):\n",
    "    \"\"\"\n",
    "    Input is an array, for example (when data is a pd df):\n",
    "    array = data[['gasPower']]\n",
    "    array = np.array(array)\n",
    "    \"\"\"\n",
    "    array = array.copy()\n",
    "    \n",
    "    n_columns = array.shape[1]\n",
    "    num_points = input_seq_len + output_seq_len\n",
    "    \n",
    "    n_folds = array.shape[0] // num_points # For example with 208 / 14 = 14.85 then 208//14=14\n",
    "    #print('n_folds is %.1f so taking value %s ' % (gp.shape[0]/num_points, n_folds))\n",
    "    \n",
    "    total_folds = n_folds // batch_size\n",
    "    print('total_folds', total_folds)\n",
    "    #print('total_batches is %.1f so taking value %s' % (n_folds/batch_size, total_batches))\n",
    "    \n",
    "    \n",
    "    signals = []\n",
    "    #print('signals initial shape: ', signals.shape)\n",
    "\n",
    "    for fold in range(n_folds): # slice the array in n_folds\n",
    "        start = fold*num_points\n",
    "        signal = array[start:start+num_points] # take values of the slices\n",
    "        signals.append(signal) # append slice to the signals list\n",
    "\n",
    "    signals = np.asarray(signals) # list of arrays to one array\n",
    "\n",
    "    #print('signals final shape: ', signals.shape)\n",
    "    \n",
    "    \"\"\"\n",
    "    Split all signals into amount of total batches, generator should iterate over this and return each batch. \n",
    "    i.e. iterate with i over (i, 3, 14, 1) if  size is (4, 2, 14, 1), from 0 to i=3.\n",
    "    \"\"\"\n",
    "\n",
    "    batch_len = signals.shape[0] // total_folds\n",
    "    print('batch_len: ', batch_len)\n",
    "\n",
    "    folds = []\n",
    "    for i in range(total_folds):\n",
    "        start = i*batch_len\n",
    "        stop = start + batch_len\n",
    "        fold = signals[start:stop] # take the values of the slices\n",
    "        folds.append(fold)\n",
    "\n",
    "    folds = np.asarray(folds)\n",
    "    \n",
    "    print('We have got %s folds with %s batches of %s steps with %s columns.' % (folds.shape[0], folds.shape[1], folds.shape[2], folds.shape[3]))\n",
    "    \n",
    "    for _ in range(n_epochs):\n",
    "        for fold in folds:\n",
    "            encoder_input = fold[:, :input_seq_len, :]\n",
    "            decoder_output = fold[:, input_seq_len:, [target_index]]\n",
    "            decoder_input = np.zeros((decoder_output.shape[0], decoder_output.shape[1], 1))\n",
    "        \n",
    "            yield [encoder_input, decoder_input], decoder_output\n",
    "    \n",
    "    "
   ]
  },
  {
   "cell_type": "markdown",
   "metadata": {},
   "source": [
    "# Create model"
   ]
  },
  {
   "cell_type": "markdown",
   "metadata": {},
   "source": [
    "# Hyperparameters and model configuration"
   ]
  },
  {
   "cell_type": "code",
   "execution_count": 19,
   "metadata": {},
   "outputs": [
    {
     "name": "stdout",
     "output_type": "stream",
     "text": [
      "total_folds 4\n",
      "batch_len:  1\n",
      "We have got 4 folds with 1 batches of 14 steps with 1 columns.\n",
      "total_folds 10\n",
      "batch_len:  1\n",
      "We have got 10 folds with 1 batches of 14 steps with 1 columns.\n"
     ]
    }
   ],
   "source": [
    "import numpy as np\n",
    "import keras\n",
    "import matplotlib.pyplot as plt\n",
    "import tensorflow as tf\n",
    "\n",
    "keras.backend.clear_session()\n",
    "\n",
    "layers = [35, 35] # Number of hidden neuros in each layer of the encoder and decoder\n",
    "\n",
    "learning_rate = 0.01\n",
    "decay = 0 # Learning rate decay\n",
    "optimiser = keras.optimizers.Adam(lr=learning_rate, decay=decay) # Other possible optimiser \"sgd\" (Stochastic Gradient Descent)\n",
    "\n",
    "num_input_features = 1 # The dimensionality of the input at each time step. In this case a 1D signal.\n",
    "num_output_features = 1 # The dimensionality of the output at each time step. In this case a 1D signal.\n",
    "# There is no reason for the input sequence to be of same dimension as the ouput sequence.\n",
    "# For instance, using 3 input signals: consumer confidence, inflation and house prices to predict the future house prices.\n",
    "\n",
    "loss = \"mse\" # Other loss functions are possible, see Keras documentation.\n",
    "\n",
    "# Regularisation isn't really needed for this application\n",
    "lambda_regulariser = 0.000001 # Will not be used if regulariser is None\n",
    "regulariser = None # Possible regulariser: keras.regularizers.l2(lambda_regulariser)\n",
    "\n",
    "###########################################\n",
    "\n",
    "\n",
    "batch_size = 1\n",
    "input_sequence_length = 7 #Length of the sequence used by the encoder\n",
    "target_sequence_length = 7 # Length of the sequence predicted by the decoder\n",
    "num_steps_to_predict = 7 # Length to use when testing the model\n",
    "\n",
    "target_index = 0\n",
    "\n",
    "# Amount of epochs to do\n",
    "steps_per_epoch = 1000 # batch_size * steps_per_epoch = total number of training examples\n",
    "n_folds = 1\n",
    "###########################################\n",
    "\n",
    "\n",
    "\n",
    "\n",
    "\n",
    "train_gen = array_to_seq2seq_format(gp_train, target_index, input_sequence_length, target_sequence_length, batch_size, n_folds)\n",
    "_ = next(train_gen)\n",
    "\n",
    "test_gen = array_to_seq2seq_format(gp_test, target_index, input_sequence_length, target_sequence_length, batch_size, n_folds)\n",
    "_ = next(test_gen)"
   ]
  },
  {
   "cell_type": "markdown",
   "metadata": {},
   "source": [
    "## Create encoder"
   ]
  },
  {
   "cell_type": "code",
   "execution_count": 20,
   "metadata": {},
   "outputs": [],
   "source": [
    "# Define an input sequence.\n",
    "encoder_inputs = keras.layers.Input(shape=(None, num_input_features))\n",
    "\n",
    "# Create a list of RNN Cells, these are then concatenated into a single layer\n",
    "# with the RNN layer.\n",
    "encoder_cells = []\n",
    "for hidden_neurons in layers:\n",
    "    encoder_cells.append(keras.layers.GRUCell(hidden_neurons,\n",
    "                                              kernel_regularizer=regulariser,\n",
    "                                              recurrent_regularizer=regulariser,\n",
    "                                              bias_regularizer=regulariser))\n",
    "\n",
    "encoder = keras.layers.RNN(encoder_cells, return_state=True)\n",
    "\n",
    "encoder_outputs_and_states = encoder(encoder_inputs)\n",
    "\n",
    "# Discard encoder outputs and only keep the states.\n",
    "# The outputs are of no interest to us, the encoder's\n",
    "# job is to create a state describing the input sequence.\n",
    "encoder_states = encoder_outputs_and_states[1:]"
   ]
  },
  {
   "cell_type": "markdown",
   "metadata": {},
   "source": [
    "## Create decoder"
   ]
  },
  {
   "cell_type": "code",
   "execution_count": 21,
   "metadata": {},
   "outputs": [],
   "source": [
    "# The decoder input will be set to zero (see random_sine function of the utils module).\n",
    "# Do not worry about the input size being 1, I will explain that in the next cell.\n",
    "decoder_inputs = keras.layers.Input(shape=(None, 1))\n",
    "\n",
    "decoder_cells = []\n",
    "for hidden_neurons in layers:\n",
    "    decoder_cells.append(keras.layers.GRUCell(hidden_neurons,\n",
    "                                              kernel_regularizer=regulariser,\n",
    "                                              recurrent_regularizer=regulariser,\n",
    "                                              bias_regularizer=regulariser))\n",
    "\n",
    "decoder = keras.layers.RNN(decoder_cells, return_sequences=True, return_state=True)\n",
    "\n",
    "# Set the initial state of the decoder to be the ouput state of the encoder.\n",
    "# This is the fundamental part of the encoder-decoder.\n",
    "decoder_outputs_and_states = decoder(decoder_inputs, initial_state=encoder_states)\n",
    "\n",
    "# Only select the output of the decoder (not the states)\n",
    "decoder_outputs = decoder_outputs_and_states[0]\n",
    "\n",
    "# Apply a dense layer with linear activation to set output to correct dimension\n",
    "# and scale (tanh is default activation for GRU in Keras, our output sine function can be larger then 1)\n",
    "decoder_dense = keras.layers.Dense(num_output_features,\n",
    "                                   activation='linear',\n",
    "                                   kernel_regularizer=regulariser,\n",
    "                                   bias_regularizer=regulariser)\n",
    "\n",
    "decoder_outputs = decoder_dense(decoder_outputs)"
   ]
  },
  {
   "cell_type": "markdown",
   "metadata": {},
   "source": [
    "## Create model and compile"
   ]
  },
  {
   "cell_type": "code",
   "execution_count": 22,
   "metadata": {},
   "outputs": [],
   "source": [
    "# Create a model using the functional API provided by Keras.\n",
    "# The functional API is great, it gives an amazing amount of freedom in architecture of your NN.\n",
    "# A read worth your time: https://keras.io/getting-started/functional-api-guide/ \n",
    "model = keras.models.Model(inputs=[encoder_inputs, decoder_inputs], outputs=decoder_outputs)\n",
    "\n",
    "#model = multi_gpu_model(model, gpus=num_gpu)\n",
    "\n",
    "model.compile(optimizer='adam', loss='mse', metrics=['mse'])\n"
   ]
  },
  {
   "cell_type": "markdown",
   "metadata": {},
   "source": [
    "## Fit model"
   ]
  },
  {
   "cell_type": "code",
   "execution_count": 23,
   "metadata": {},
   "outputs": [],
   "source": [
    "l = 50\n",
    "x1 = np.arange(l)\n",
    "x2 = np.arange(l, l*2)\n",
    "\n",
    "encoder_input_train = (np.sin(x1)*0.1*x1).reshape(1, l, 1)\n",
    "decoder_input_train = np.zeros(l).reshape(1, l, 1)\n",
    "decoder_output_train = (np.sin(x2)*0.1*x2).reshape(1, l, 1)"
   ]
  },
  {
   "cell_type": "code",
   "execution_count": 24,
   "metadata": {},
   "outputs": [
    {
     "name": "stdout",
     "output_type": "stream",
     "text": [
      "208\n",
      "[[20.13716282]\n",
      " [15.01210527]\n",
      " [37.57324159]]\n",
      "[[23.99139413]\n",
      " [18.72507729]\n",
      " [16.31673165]]\n"
     ]
    }
   ],
   "source": [
    "gp = np.array(gp)\n",
    "print(len(gp))\n",
    "\n",
    "l= len(gp) - num_steps_to_predict\n",
    "gp_train = gp[:l]\n",
    "gp_test = gp[l:]\n",
    "\n",
    "\n",
    "print(gp_train[:3])\n",
    "\n",
    "print(gp_test[:3])"
   ]
  },
  {
   "cell_type": "code",
   "execution_count": 25,
   "metadata": {},
   "outputs": [],
   "source": [
    "encoder_input_train = gp_train.reshape(1, len(gp_train), 1)\n",
    "decoder_input_train = gp_train.reshape(1, len(gp_train), 1)\n",
    "decoder_output_train = gp_train.reshape(1, len(gp_train), 1)"
   ]
  },
  {
   "cell_type": "code",
   "execution_count": 43,
   "metadata": {},
   "outputs": [
    {
     "data": {
      "image/png": "[encoded data removed]",
      "text/plain": [
       "<Figure size 864x576 with 2 Axes>"
      ]
     },
     "metadata": {},
     "output_type": "display_data"
    },
    {
     "name": "stdout",
     "output_type": "stream",
     "text": [
      "1/1 [==============================] - 1s 729ms/step - loss: 0.3254 - mean_squared_error: 0.3254\n"
     ]
    },
    {
     "data": {
      "text/plain": [
       "<keras.callbacks.History at 0x7f645c3f98d0>"
      ]
     },
     "execution_count": 43,
     "metadata": {},
     "output_type": "execute_result"
    }
   ],
   "source": [
    "from livelossplot import PlotLossesKeras\n",
    "\n",
    "model.fit([encoder_input_train, decoder_input_train], decoder_output_train, epochs=1000, verbose=1, callbacks=[PlotLossesKeras()])"
   ]
  },
  {
   "cell_type": "markdown",
   "metadata": {},
   "source": [
    "train_gen = array_to_seq2seq_format(gp_train, target_index, input_sequence_length, target_sequence_length, batch_size, steps_per_epoch)\n",
    "test_gen = array_to_seq2seq_format(gp_test, target_index, input_sequence_length, target_sequence_length, batch_size, steps_per_epoch)\n",
    "\n",
    "#model.fit_generator(generator=train_gen, steps_per_epoch=steps_per_epoch, epochs=n_folds, validation_data=test_gen, validation_steps=steps_per_epoch)\n",
    "model.fit_generator(generator=train_gen, steps_per_epoch=steps_per_epoch, epochs=n_folds)"
   ]
  },
  {
   "cell_type": "code",
   "execution_count": null,
   "metadata": {},
   "outputs": [],
   "source": []
  },
  {
   "cell_type": "markdown",
   "metadata": {},
   "source": [
    "# Create 'prediction' models"
   ]
  },
  {
   "cell_type": "code",
   "execution_count": 44,
   "metadata": {},
   "outputs": [],
   "source": [
    "def plot_prediction(x, y_true, y_pred):\n",
    "    \"\"\"Plots the predictions.\n",
    "    \n",
    "    Arguments\n",
    "    ---------\n",
    "    x: Input sequence of shape (input_sequence_length,\n",
    "        dimension_of_signal)\n",
    "    y_true: True output sequence of shape (input_sequence_length,\n",
    "        dimension_of_signal)\n",
    "    y_pred: Predicted output sequence (input_sequence_length,\n",
    "        dimension_of_signal)\n",
    "    \"\"\"\n",
    "\n",
    "    plt.figure(figsize=(12, 3))\n",
    "\n",
    "    output_dim = x.shape[-1]\n",
    "    for j in range(output_dim):\n",
    "        past = x[:, j] \n",
    "        true = y_true[:, j]\n",
    "        pred = y_pred[:, j]\n",
    "\n",
    "        label1 = \"Seen (past) values\" if j==0 else \"_nolegend_\"\n",
    "        label2 = \"True future values\" if j==0 else \"_nolegend_\"\n",
    "        label3 = \"Predictions\" if j==0 else \"_nolegend_\"\n",
    "\n",
    "        plt.plot(range(len(past)), past, \"o--b\",\n",
    "                 label=label1)\n",
    "        plt.plot(range(len(past),\n",
    "                 len(true)+len(past)), true, \"x--b\", label=label2)\n",
    "        plt.plot(range(len(past), len(pred)+len(past)), pred, \"o--y\",\n",
    "                 label=label3)\n",
    "    plt.legend(loc='best')\n",
    "    plt.title(\"Predictions v.s. true values\")\n",
    "    plt.show()"
   ]
  },
  {
   "cell_type": "code",
   "execution_count": 45,
   "metadata": {},
   "outputs": [],
   "source": [
    "encoder_predict_model = keras.models.Model(encoder_inputs,\n",
    "                                           encoder_states)\n",
    "\n",
    "decoder_states_inputs = []\n",
    "\n",
    "# Read layers backwards to fit the format of initial_state\n",
    "# For some reason, the states of the model are order backwards (state of the first layer at the end of the list)\n",
    "# If instead of a GRU you were using an LSTM Cell, you would have to append two Input tensors since the LSTM has 2 states.\n",
    "for hidden_neurons in layers[::-1]:\n",
    "    # One state for GRU\n",
    "    decoder_states_inputs.append(keras.layers.Input(shape=(hidden_neurons,)))\n",
    "\n",
    "decoder_outputs_and_states = decoder(\n",
    "    decoder_inputs, initial_state=decoder_states_inputs)\n",
    "\n",
    "decoder_outputs = decoder_outputs_and_states[0]\n",
    "decoder_states = decoder_outputs_and_states[1:]\n",
    "\n",
    "decoder_outputs = decoder_dense(decoder_outputs)\n",
    "\n",
    "decoder_predict_model = keras.models.Model(\n",
    "        [decoder_inputs] + decoder_states_inputs,\n",
    "        [decoder_outputs] + decoder_states)"
   ]
  },
  {
   "cell_type": "code",
   "execution_count": 46,
   "metadata": {},
   "outputs": [],
   "source": [
    "# Let's define a small function that predicts based on the trained encoder and decoder models\n",
    "\n",
    "def predict(x, encoder_predict_model, decoder_predict_model, num_steps_to_predict):\n",
    "    \"\"\"Predict time series with encoder-decoder.\n",
    "    \n",
    "    Uses the encoder and decoder models previously trained to predict the next\n",
    "    num_steps_to_predict values of the time series.\n",
    "    \n",
    "    Arguments\n",
    "    ---------\n",
    "    x: input time series of shape (batch_size, input_sequence_length, input_dimension).\n",
    "    encoder_predict_model: The Keras encoder model.\n",
    "    decoder_predict_model: The Keras decoder model.\n",
    "    num_steps_to_predict: The number of steps in the future to predict\n",
    "    \n",
    "    Returns\n",
    "    -------\n",
    "    y_predicted: output time series for shape (batch_size, target_sequence_length,\n",
    "        ouput_dimension)\n",
    "    \"\"\"\n",
    "    y_predicted = []\n",
    "\n",
    "    # Encode the values as a state vector\n",
    "    states = encoder_predict_model.predict(x)\n",
    "\n",
    "    # The states must be a list\n",
    "    if not isinstance(states, list):\n",
    "        states = [states]\n",
    "\n",
    "    # Generate first value of the decoder input sequence\n",
    "    decoder_input = np.zeros((x.shape[0], 1, 1))\n",
    "\n",
    "\n",
    "    for _ in range(num_steps_to_predict):\n",
    "        outputs_and_states = decoder_predict_model.predict(\n",
    "        [decoder_input] + states, batch_size=batch_size)\n",
    "        output = outputs_and_states[0]\n",
    "        states = outputs_and_states[1:]\n",
    "\n",
    "        # add predicted value\n",
    "        y_predicted.append(output)\n",
    "\n",
    "    return np.concatenate(y_predicted, axis=1)\n",
    "    "
   ]
  },
  {
   "cell_type": "markdown",
   "metadata": {},
   "source": [
    "# The aim of this tutorial isn't to present how to evaluate the model or investigate the training.\n",
    "# We could plot evaluation metrics such as RMSE over time, compare train and test batches for overfitting,\n",
    "# produce validation and learning curves to analyse the effect of the number of epochs or training examples,\n",
    "# have fun playing with tensorboard etc... We would need at least a whole other post for this.\n",
    "# However, let's at least make sure that our model can predict correctly...\n",
    "# Ask the generator to produce a batch of samples, don't forget to set the seed to something other than what was\n",
    "# used for training or you will be testing on train data.\n",
    "# The next function asks the generator to produce it's first batch.\n",
    "\n",
    "test_gen = array_to_seq2seq_format(gp_test, target_index, input_sequence_length, target_sequence_length, batch_size, steps_per_epoch)\n",
    "\n",
    "(x_test, _), y_test = next(test_gen)\n",
    "\n",
    "\n",
    "\n",
    "\n",
    "l = 50\n",
    "x1 = np.arange(l)\n",
    "x2 = np.arange(l, l*2)\n",
    "\n",
    "encoder_input_test = (np.sin(x1)*0.35*x1).reshape(1, l, 1)\n",
    "decoder_input_test = np.zeros(l).reshape(1, l, 1)\n",
    "decoder_output_test = (np.sin(x2)*0.35*x2).reshape(1, l, 1)"
   ]
  },
  {
   "cell_type": "code",
   "execution_count": 47,
   "metadata": {},
   "outputs": [],
   "source": [
    "encoder_input_test = gp_test.reshape(1, len(gp_test), 1)\n",
    "decoder_input_test = np.zeros(len(gp_test)).reshape(1, len(gp_test), 1)\n",
    "decoder_output_test = gp_test.reshape(1, len(gp_test), 1)\n",
    "\n",
    "x_test = encoder_input_test\n",
    "y_test = decoder_output_test"
   ]
  },
  {
   "cell_type": "code",
   "execution_count": 48,
   "metadata": {},
   "outputs": [
    {
     "data": {
      "image/png": "[encoded data removed]",
      "text/plain": [
       "<Figure size 864x216 with 1 Axes>"
      ]
     },
     "metadata": {},
     "output_type": "display_data"
    }
   ],
   "source": [
    "y_test_predicted = predict(x_test, encoder_predict_model, decoder_predict_model, num_steps_to_predict)\n",
    "\n",
    "\n",
    "#y_test_predicted = decoder_output_test\n",
    "\n",
    "np.random.seed(42)\n",
    "# Select 10 random examples to plot\n",
    "indices = np.random.choice(range(x_test.shape[0]), replace=False, size=batch_size)\n",
    "\n",
    "\n",
    "for index in indices:\n",
    "    plot_prediction(x_test[index, :, :], y_test[index, :, :], y_test_predicted[index, :, :])\n",
    "    \n",
    "# The model seems to struggle on very low wave signals. But that makes sense, the model doesn't see enough of the signal\n",
    "# to make a good estimation of the frequency components."
   ]
  },
  {
   "cell_type": "code",
   "execution_count": null,
   "metadata": {},
   "outputs": [],
   "source": []
  },
  {
   "cell_type": "code",
   "execution_count": null,
   "metadata": {},
   "outputs": [],
   "source": []
  },
  {
   "cell_type": "code",
   "execution_count": null,
   "metadata": {},
   "outputs": [],
   "source": []
  }
 ],
 "metadata": {
  "kernelspec": {
   "display_name": "Python 3",
   "language": "python",
   "name": "python3"
  },
  "language_info": {
   "codemirror_mode": {
    "name": "ipython",
    "version": 3
   },
   "file_extension": ".py",
   "mimetype": "text/x-python",
   "name": "python",
   "nbconvert_exporter": "python",
   "pygments_lexer": "ipython3",
   "version": "3.6.6"
  }
 },
 "nbformat": 4,
 "nbformat_minor": 2
}
