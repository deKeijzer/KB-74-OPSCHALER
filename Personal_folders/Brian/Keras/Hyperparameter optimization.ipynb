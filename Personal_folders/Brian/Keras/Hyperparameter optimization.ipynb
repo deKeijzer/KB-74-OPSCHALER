{
 "cells": [
  {
   "cell_type": "markdown",
   "metadata": {},
   "source": [
    "# Imports"
   ]
  },
  {
   "cell_type": "code",
   "execution_count": 2,
   "metadata": {},
   "outputs": [],
   "source": [
    "import pandas as pd\n",
    "import matplotlib.pyplot as plt\n",
    "import matplotlib as mpl\n",
    "from mpl_toolkits.mplot3d import Axes3D\n",
    "import seaborn as sns\n",
    "import numpy as np\n",
    "from tqdm import tqdm\n",
    "\n",
    "from dask.distributed import Client, LocalCluster, progress, fire_and_forget\n",
    "from dask import delayed\n",
    "\n",
    "mpl.style.use('default')\n",
    "#%matplotlib notebook\n",
    "%matplotlib inline"
   ]
  },
  {
   "cell_type": "markdown",
   "metadata": {},
   "source": [
    "# Setting up Dask cluster\n",
    "To connect to the Dask dashboard use ssh portforwarding: http://distributed.dask.org/en/latest/web.html#id1"
   ]
  },
  {
   "cell_type": "code",
   "execution_count": 3,
   "metadata": {},
   "outputs": [
    {
     "data": {
      "text/html": [
       "<table style=\"border: 2px solid white;\">\n",
       "<tr>\n",
       "<td style=\"vertical-align: top; border: 0px solid white\">\n",
       "<h3>Client</h3>\n",
       "<ul>\n",
       "  <li><b>Scheduler: </b>inproc://145.52.252.19/227432/1\n",
       "  <li><b>Dashboard: </b><a href='http://localhost:8787/status' target='_blank'>http://localhost:8787/status</a>\n",
       "</ul>\n",
       "</td>\n",
       "<td style=\"vertical-align: top; border: 0px solid white\">\n",
       "<h3>Cluster</h3>\n",
       "<ul>\n",
       "  <li><b>Workers: </b>1</li>\n",
       "  <li><b>Cores: </b>48</li>\n",
       "  <li><b>Memory: </b>67.18 GB</li>\n",
       "</ul>\n",
       "</td>\n",
       "</tr>\n",
       "</table>"
      ],
      "text/plain": [
       "<Client: scheduler='inproc://145.52.252.19/227432/1' processes=1 cores=48>"
      ]
     },
     "execution_count": 3,
     "metadata": {},
     "output_type": "execute_result"
    }
   ],
   "source": [
    "cluster = LocalCluster(processes=False, n_workers=1)\n",
    "client=Client(cluster, processes=True)\n",
    "client"
   ]
  },
  {
   "cell_type": "code",
   "execution_count": null,
   "metadata": {},
   "outputs": [],
   "source": []
  },
  {
   "cell_type": "markdown",
   "metadata": {},
   "source": [
    "# Tensorflow backend initialization"
   ]
  },
  {
   "cell_type": "code",
   "execution_count": 4,
   "metadata": {},
   "outputs": [
    {
     "name": "stderr",
     "output_type": "stream",
     "text": [
      "/opt/jupyterhub/anaconda/lib/python3.6/importlib/_bootstrap.py:219: RuntimeWarning: compiletime version 3.5 of module 'tensorflow.python.framework.fast_tensor_util' does not match runtime version 3.6\n",
      "  return f(*args, **kwds)\n",
      "Using TensorFlow backend.\n"
     ]
    },
    {
     "name": "stdout",
     "output_type": "stream",
     "text": [
      "Amount of GPUs available: 4\n"
     ]
    }
   ],
   "source": [
    "\"\"\"\n",
    "Setup multi GPU usage\n",
    "\n",
    "Example usage:\n",
    "model = Sequential()\n",
    "...\n",
    "multi_model = multi_gpu_model(model, gpus=num_gpu)\n",
    "multi_model.fit()\n",
    "\n",
    "About memory usage:\n",
    "https://stackoverflow.com/questions/34199233/how-to-prevent-tensorflow-from-allocating-the-totality-of-a-gpu-memory\n",
    "\"\"\"\n",
    "import tensorflow as tf\n",
    "from keras.utils.training_utils import multi_gpu_model\n",
    "from tensorflow.python.client import device_lib\n",
    "\n",
    "# IMPORTANT: Tells tf to not occupy a specific amount of memory\n",
    "from keras.backend.tensorflow_backend import set_session  \n",
    "config = tf.ConfigProto()  \n",
    "config.gpu_options.allow_growth = True  # dynamically grow the memory used on the GPU  \n",
    "sess = tf.Session(config=config)  \n",
    "set_session(sess)  # set this TensorFlow session as the default session for Keras.\n",
    "\n",
    "\n",
    "# getting the number of GPUs \n",
    "def get_available_gpus():\n",
    "   local_device_protos = device_lib.list_local_devices()\n",
    "   return [x.name for x in local_device_protos if x.device_type    == 'GPU']\n",
    "num_gpu = len(get_available_gpus())\n",
    "print('Amount of GPUs available: %s' % num_gpu)"
   ]
  },
  {
   "cell_type": "markdown",
   "metadata": {},
   "source": [
    "# Function definitions"
   ]
  },
  {
   "cell_type": "code",
   "execution_count": 5,
   "metadata": {},
   "outputs": [],
   "source": [
    "def create_corr_matrix(df, dwelling_id, annot):\n",
    "    \"\"\"\n",
    "    Pearson correlation coefficient matrix. \n",
    "    The Pearson correlation coefficient is a measure of the linear correlation between two variables.\n",
    "    \"\"\"\n",
    "    plt.clf()\n",
    "    \n",
    "    corr = df.corr()\n",
    "    mask = np.zeros_like(corr)\n",
    "    mask[np.triu_indices_from(mask)] = True\n",
    "\n",
    "    if annot:\n",
    "        fig, ax = plt.subplots(figsize=(25,25))\n",
    "    else:\n",
    "        fig, ax = plt.subplots()\n",
    "\n",
    "    fig = sns.heatmap(corr, mask=mask, square=False, cmap='RdYlGn', annot=annot, ax=ax, \n",
    "                cbar_kws={'label':'Pearson correlation coefficient [-]'})\n",
    "\n",
    "    fig.set_title('Correlation matrix of dwelling ID: '+dwelling_id)\n",
    "    fig.tick_params(axis='x', rotation=90)\n",
    "    fig.tick_params(axis='y', rotation=0)\n",
    "\n",
    "    fig = fig.get_figure()\n",
    "    fig.tight_layout()\n",
    "    fig.show()\n",
    "    \n",
    "    print('Saving heatmap')\n",
    "    #fig.savefig('//datc//opschaler//EDA//Pearson_corr//' + dwelling_id + '.png', dpi=300)\n",
    "    return fig\n",
    "\n",
    "\n",
    "def reduce_memory(df):\n",
    "    \"\"\"\n",
    "    Reduces memory footprint of the input dataframe.\n",
    "    Changes float64 columns to float32 dtype.\n",
    "    \"\"\"\n",
    "    columns = df.columns\n",
    "    memory_before = df.memory_usage(deep=False).sum() / 2**30 # convert bytes to GB\n",
    "\n",
    "    for column in tqdm(columns):\n",
    "        if df[column].dtype == 'float64':\n",
    "            df[column] = df[column].astype('float32')\n",
    "        \n",
    "    memory_after = df.memory_usage(deep=False).sum() / 2**30 # convert bytes to GB\n",
    "    print('Memory uasge reduced from %.3f GB to %.3f GB' % (memory_before, memory_after))\n",
    "    \n",
    "    return df\n",
    "\n",
    "\n",
    "def resample_df(df, sample_rate):\n",
    "    \"\"\"\n",
    "    Resampled a (un)processed dataframe to the specified sample_rate.\n",
    "    Input is a (un)processed df.\n",
    "    Sample rate must be a string. \n",
    "    For example '1H', '1D', '60s'.\n",
    "    \"\"\"\n",
    "    \n",
    "    input_df = df\n",
    "    \n",
    "    to_last = ['gasMeter', 'eMeter'] # resample.last(), take last known value from the columns\n",
    "    \n",
    "    input_df[to_last] = input_df[to_last].resample(sample_rate).last() # take last value most nearby the sample_rate\n",
    "    \n",
    "    input_df = input_df.resample(sample_rate).mean() # resample to rest by mean\n",
    "    \n",
    "    return input_df"
   ]
  },
  {
   "cell_type": "markdown",
   "metadata": {},
   "source": [
    "# Preparing dataframe for preprocessing"
   ]
  },
  {
   "cell_type": "code",
   "execution_count": 6,
   "metadata": {},
   "outputs": [
    {
     "name": "stdout",
     "output_type": "stream",
     "text": [
      "CPU times: user 134 ms, sys: 12.3 ms, total: 146 ms\n",
      "Wall time: 132 ms\n"
     ]
    }
   ],
   "source": [
    "%%time\n",
    "df = pd.read_csv('//datc//opschaler//combined_gas_smart_weather_dfs//processed//P01S01W8655_hour.csv', delimiter='\\t', parse_dates=['datetime'])\n",
    "df = df.set_index(['datetime'])\n",
    "df = df.drop(['dwelling'], axis=1)\n",
    "df = df.dropna()\n",
    "\n",
    "# Get an hour dataframe\n",
    "h = resample_df(df, 'D') # For some reason this makes df equal h, so it changes the df variable being read in at the start...\n",
    "h['hour'] = h.index.hour #create column containing the hour\n",
    "h['dayofweek'] = h.index.dayofweek"
   ]
  },
  {
   "cell_type": "code",
   "execution_count": 7,
   "metadata": {},
   "outputs": [
    {
     "data": {
      "text/html": [
       "<div>\n",
       "<style>\n",
       "    .dataframe thead tr:only-child th {\n",
       "        text-align: right;\n",
       "    }\n",
       "\n",
       "    .dataframe thead th {\n",
       "        text-align: left;\n",
       "    }\n",
       "\n",
       "    .dataframe tbody tr th {\n",
       "        vertical-align: top;\n",
       "    }\n",
       "</style>\n",
       "<table border=\"1\" class=\"dataframe\">\n",
       "  <thead>\n",
       "    <tr style=\"text-align: right;\">\n",
       "      <th></th>\n",
       "      <th>eMeter</th>\n",
       "      <th>eMeterReturn</th>\n",
       "      <th>eMeterLow</th>\n",
       "      <th>eMeterLowReturn</th>\n",
       "      <th>ePower</th>\n",
       "      <th>ePowerReturn</th>\n",
       "      <th>gasMeter</th>\n",
       "      <th>DD</th>\n",
       "      <th>DR</th>\n",
       "      <th>FF</th>\n",
       "      <th>...</th>\n",
       "      <th>SQ</th>\n",
       "      <th>T</th>\n",
       "      <th>T10</th>\n",
       "      <th>TD</th>\n",
       "      <th>U</th>\n",
       "      <th>VV</th>\n",
       "      <th>WW</th>\n",
       "      <th>gasPower</th>\n",
       "      <th>hour</th>\n",
       "      <th>dayofweek</th>\n",
       "    </tr>\n",
       "    <tr>\n",
       "      <th>datetime</th>\n",
       "      <th></th>\n",
       "      <th></th>\n",
       "      <th></th>\n",
       "      <th></th>\n",
       "      <th></th>\n",
       "      <th></th>\n",
       "      <th></th>\n",
       "      <th></th>\n",
       "      <th></th>\n",
       "      <th></th>\n",
       "      <th></th>\n",
       "      <th></th>\n",
       "      <th></th>\n",
       "      <th></th>\n",
       "      <th></th>\n",
       "      <th></th>\n",
       "      <th></th>\n",
       "      <th></th>\n",
       "      <th></th>\n",
       "      <th></th>\n",
       "      <th></th>\n",
       "    </tr>\n",
       "  </thead>\n",
       "  <tbody>\n",
       "    <tr>\n",
       "      <th>2017-04-24</th>\n",
       "      <td>NaN</td>\n",
       "      <td>0.0</td>\n",
       "      <td>736.983000</td>\n",
       "      <td>0.0</td>\n",
       "      <td>450.653377</td>\n",
       "      <td>0.0</td>\n",
       "      <td>NaN</td>\n",
       "      <td>267.907575</td>\n",
       "      <td>151.272727</td>\n",
       "      <td>4.926667</td>\n",
       "      <td>...</td>\n",
       "      <td>0.220361</td>\n",
       "      <td>10.819697</td>\n",
       "      <td>11.121212</td>\n",
       "      <td>6.662121</td>\n",
       "      <td>75.712122</td>\n",
       "      <td>29368.333455</td>\n",
       "      <td>29.696970</td>\n",
       "      <td>0.201372</td>\n",
       "      <td>0</td>\n",
       "      <td>0</td>\n",
       "    </tr>\n",
       "    <tr>\n",
       "      <th>2017-04-25</th>\n",
       "      <td>790.166</td>\n",
       "      <td>0.0</td>\n",
       "      <td>738.217500</td>\n",
       "      <td>0.0</td>\n",
       "      <td>365.682568</td>\n",
       "      <td>0.0</td>\n",
       "      <td>1597.476</td>\n",
       "      <td>285.680485</td>\n",
       "      <td>47.416667</td>\n",
       "      <td>5.478194</td>\n",
       "      <td>...</td>\n",
       "      <td>4.004910</td>\n",
       "      <td>6.503472</td>\n",
       "      <td>6.373403</td>\n",
       "      <td>1.977500</td>\n",
       "      <td>72.906250</td>\n",
       "      <td>36118.680500</td>\n",
       "      <td>23.550000</td>\n",
       "      <td>0.150121</td>\n",
       "      <td>0</td>\n",
       "      <td>1</td>\n",
       "    </tr>\n",
       "    <tr>\n",
       "      <th>2017-04-26</th>\n",
       "      <td>796.967</td>\n",
       "      <td>0.0</td>\n",
       "      <td>739.742318</td>\n",
       "      <td>0.0</td>\n",
       "      <td>376.575828</td>\n",
       "      <td>0.0</td>\n",
       "      <td>1605.915</td>\n",
       "      <td>270.914473</td>\n",
       "      <td>42.545455</td>\n",
       "      <td>3.074758</td>\n",
       "      <td>...</td>\n",
       "      <td>3.856208</td>\n",
       "      <td>6.132197</td>\n",
       "      <td>5.827121</td>\n",
       "      <td>2.092727</td>\n",
       "      <td>76.340910</td>\n",
       "      <td>34583.575909</td>\n",
       "      <td>12.346970</td>\n",
       "      <td>0.375732</td>\n",
       "      <td>0</td>\n",
       "      <td>2</td>\n",
       "    </tr>\n",
       "    <tr>\n",
       "      <th>2017-04-27</th>\n",
       "      <td>796.967</td>\n",
       "      <td>0.0</td>\n",
       "      <td>744.674917</td>\n",
       "      <td>0.0</td>\n",
       "      <td>411.699121</td>\n",
       "      <td>0.0</td>\n",
       "      <td>1611.051</td>\n",
       "      <td>233.521111</td>\n",
       "      <td>17.708333</td>\n",
       "      <td>2.968375</td>\n",
       "      <td>...</td>\n",
       "      <td>2.682295</td>\n",
       "      <td>6.181319</td>\n",
       "      <td>5.922500</td>\n",
       "      <td>2.129722</td>\n",
       "      <td>76.137500</td>\n",
       "      <td>36665.555917</td>\n",
       "      <td>11.267361</td>\n",
       "      <td>0.213999</td>\n",
       "      <td>0</td>\n",
       "      <td>3</td>\n",
       "    </tr>\n",
       "    <tr>\n",
       "      <th>2017-04-28</th>\n",
       "      <td>807.578</td>\n",
       "      <td>0.0</td>\n",
       "      <td>751.724250</td>\n",
       "      <td>0.0</td>\n",
       "      <td>511.259890</td>\n",
       "      <td>0.0</td>\n",
       "      <td>1617.091</td>\n",
       "      <td>266.770347</td>\n",
       "      <td>58.366667</td>\n",
       "      <td>2.997917</td>\n",
       "      <td>...</td>\n",
       "      <td>2.737647</td>\n",
       "      <td>7.958750</td>\n",
       "      <td>7.910486</td>\n",
       "      <td>4.364167</td>\n",
       "      <td>78.612500</td>\n",
       "      <td>33648.791625</td>\n",
       "      <td>18.394445</td>\n",
       "      <td>0.251663</td>\n",
       "      <td>0</td>\n",
       "      <td>4</td>\n",
       "    </tr>\n",
       "  </tbody>\n",
       "</table>\n",
       "<p>5 rows × 25 columns</p>\n",
       "</div>"
      ],
      "text/plain": [
       "             eMeter  eMeterReturn   eMeterLow  eMeterLowReturn      ePower  \\\n",
       "datetime                                                                     \n",
       "2017-04-24      NaN           0.0  736.983000              0.0  450.653377   \n",
       "2017-04-25  790.166           0.0  738.217500              0.0  365.682568   \n",
       "2017-04-26  796.967           0.0  739.742318              0.0  376.575828   \n",
       "2017-04-27  796.967           0.0  744.674917              0.0  411.699121   \n",
       "2017-04-28  807.578           0.0  751.724250              0.0  511.259890   \n",
       "\n",
       "            ePowerReturn  gasMeter          DD          DR        FF  \\\n",
       "datetime                                                               \n",
       "2017-04-24           0.0       NaN  267.907575  151.272727  4.926667   \n",
       "2017-04-25           0.0  1597.476  285.680485   47.416667  5.478194   \n",
       "2017-04-26           0.0  1605.915  270.914473   42.545455  3.074758   \n",
       "2017-04-27           0.0  1611.051  233.521111   17.708333  2.968375   \n",
       "2017-04-28           0.0  1617.091  266.770347   58.366667  2.997917   \n",
       "\n",
       "              ...            SQ          T        T10        TD          U  \\\n",
       "datetime      ...                                                            \n",
       "2017-04-24    ...      0.220361  10.819697  11.121212  6.662121  75.712122   \n",
       "2017-04-25    ...      4.004910   6.503472   6.373403  1.977500  72.906250   \n",
       "2017-04-26    ...      3.856208   6.132197   5.827121  2.092727  76.340910   \n",
       "2017-04-27    ...      2.682295   6.181319   5.922500  2.129722  76.137500   \n",
       "2017-04-28    ...      2.737647   7.958750   7.910486  4.364167  78.612500   \n",
       "\n",
       "                      VV         WW  gasPower  hour  dayofweek  \n",
       "datetime                                                        \n",
       "2017-04-24  29368.333455  29.696970  0.201372     0          0  \n",
       "2017-04-25  36118.680500  23.550000  0.150121     0          1  \n",
       "2017-04-26  34583.575909  12.346970  0.375732     0          2  \n",
       "2017-04-27  36665.555917  11.267361  0.213999     0          3  \n",
       "2017-04-28  33648.791625  18.394445  0.251663     0          4  \n",
       "\n",
       "[5 rows x 25 columns]"
      ]
     },
     "execution_count": 7,
     "metadata": {},
     "output_type": "execute_result"
    }
   ],
   "source": [
    "h.head()"
   ]
  },
  {
   "cell_type": "markdown",
   "metadata": {},
   "source": [
    "## Get a proper hourly dataframe"
   ]
  },
  {
   "cell_type": "code",
   "execution_count": 8,
   "metadata": {},
   "outputs": [
    {
     "name": "stdout",
     "output_type": "stream",
     "text": [
      "Saving heatmap\n"
     ]
    },
    {
     "name": "stderr",
     "output_type": "stream",
     "text": [
      "/opt/jupyterhub/anaconda/lib/python3.6/site-packages/matplotlib/figure.py:459: UserWarning: matplotlib is currently using a non-GUI backend, so cannot show the figure\n",
      "  \"matplotlib is currently using a non-GUI backend, \"\n"
     ]
    },
    {
     "data": {
      "text/plain": [
       "<Figure size 432x288 with 0 Axes>"
      ]
     },
     "metadata": {},
     "output_type": "display_data"
    },
    {
     "data": {
      "image/png": "[encoded data removed]",
      "text/plain": [
       "<Figure size 432x288 with 2 Axes>"
      ]
     },
     "metadata": {},
     "output_type": "display_data"
    }
   ],
   "source": [
    "fig = create_corr_matrix(h, '', False)"
   ]
  },
  {
   "cell_type": "markdown",
   "metadata": {},
   "source": [
    "## Select data we want"
   ]
  },
  {
   "cell_type": "code",
   "execution_count": 9,
   "metadata": {},
   "outputs": [
    {
     "data": {
      "text/plain": [
       "<matplotlib.axes._subplots.AxesSubplot at 0x7f3ce84d0a20>"
      ]
     },
     "execution_count": 9,
     "metadata": {},
     "output_type": "execute_result"
    },
    {
     "data": {
      "image/png": "[encoded data removed]",
      "text/plain": [
       "<Figure size 432x288 with 2 Axes>"
      ]
     },
     "metadata": {},
     "output_type": "display_data"
    }
   ],
   "source": [
    "data = h\n",
    "data = data.drop(['eMeter', 'eMeterReturn', 'eMeterLow', 'eMeterLowReturn', 'gasMeter'], axis=1) # Not needed\n",
    "data = data.drop(['WW', 'VV', 'P', 'DR', 'SQ', 'TD', 'T10', 'FX'], axis=1) # Drop weather columns which contain correlated information, keep only one type\n",
    "#sns.heatmap(data.corr(), annot=True)\n",
    "\n",
    "data = data.drop(['ePower', 'ePowerReturn'], axis=1) # Drop if want to predict gasPower\n",
    "\n",
    "# Drop columns with that have a |corr| > 0.1 with T\n",
    "data = data.drop(['U', 'N', 'Q', 'DD'], axis=1)\n",
    "\n",
    "data = data[data['gasPower'] > 0] #filter data based on condition\n",
    "data = data.dropna()\n",
    "magnitude = 1\n",
    "data['gasPower'] = data['gasPower']*10**magnitude\n",
    "\n",
    "sns.heatmap(data.corr(), annot=True)"
   ]
  },
  {
   "cell_type": "markdown",
   "metadata": {},
   "source": [
    "# EDA"
   ]
  },
  {
   "cell_type": "code",
   "execution_count": 10,
   "metadata": {},
   "outputs": [
    {
     "data": {
      "text/plain": [
       "<matplotlib.legend.Legend at 0x7f3ce8345390>"
      ]
     },
     "execution_count": 10,
     "metadata": {},
     "output_type": "execute_result"
    },
    {
     "data": {
      "image/png": "[encoded data removed]",
      "text/plain": [
       "<Figure size 432x288 with 1 Axes>"
      ]
     },
     "metadata": {},
     "output_type": "display_data"
    }
   ],
   "source": [
    "plt.plot(data['T'], data['gasPower'], '.', color='r', label='Original data')\n",
    "plt.grid()\n",
    "plt.xlabel('Temperature [°C]')\n",
    "plt.ylabel(r'gasPower $\\cdot$ 10$^{-%s}$ [m$^3$/h]' % magnitude)\n",
    "plt.legend()"
   ]
  },
  {
   "cell_type": "markdown",
   "metadata": {},
   "source": [
    "# Preprocessing"
   ]
  },
  {
   "cell_type": "code",
   "execution_count": 11,
   "metadata": {},
   "outputs": [
    {
     "name": "stdout",
     "output_type": "stream",
     "text": [
      "X columns final: ['FF', 'RG', 'T', 'hour', 'dayofweek']\n"
     ]
    }
   ],
   "source": [
    "from sklearn.preprocessing import MinMaxScaler, StandardScaler\n",
    "from sklearn.model_selection import train_test_split\n",
    "\n",
    "seed = 42\n",
    "\n",
    "X = data.drop(['gasPower'], axis=1)\n",
    "#X = data[['T']] # Only select T column\n",
    "print('X columns final: %s' % list(X.columns))\n",
    "#sns.heatmap(X.corr(), annot=True)\n",
    "\n",
    "y = data[['gasPower']]"
   ]
  },
  {
   "cell_type": "markdown",
   "metadata": {},
   "source": [
    "# train_test_split the data"
   ]
  },
  {
   "cell_type": "code",
   "execution_count": 12,
   "metadata": {},
   "outputs": [
    {
     "name": "stdout",
     "output_type": "stream",
     "text": [
      "\n",
      "X_train -> \t shape: (95, 5) \t var: 0.8 \t mean: -0.0 \t std: 0.9, \t min: -2.6 \t max: 6.0\n",
      "X_test -> \t shape: (96, 5) \t var: 1.1 \t mean: 0.1 \t std: 1.1, \t min: -2.2 \t max: 8.4\n",
      "\n",
      "y_train -> \t shape: (95, 1) \t var: 8.0E-01 \t mean: 6.2E-01  std: 8.9E-01, \t min: 4.2E-03 \t max: 3.7E+00\n",
      "y_test -> \t shape: (96, 1) \t var: 7.6E-01 \t mean: 6.6E-01 \t std: 8.7E-01, \t min: 1.7E-02 \t max: 3.8E+00\n"
     ]
    }
   ],
   "source": [
    "X = np.array(X).reshape(-1, len(X.columns))\n",
    "y = np.array(y).reshape(-1, 1)\n",
    "\n",
    "X_train, X_test, y_train, y_test = train_test_split(X, y, test_size=0.5, random_state=seed)\n",
    "\n",
    "# fit scalers to training data\n",
    "scalerX = StandardScaler(with_mean=True, with_std=True).fit(X_train)\n",
    "scalery = StandardScaler(with_mean=True, with_std=True).fit(y_train)\n",
    "\n",
    "# Normalize X arrrays\n",
    "X_train = scalerX.transform(X_train)\n",
    "X_test = scalerX.transform(X_test)\n",
    "\n",
    "# Get test data in the correct shape and format\n",
    "y_train = np.array(y_train).reshape(-1,1) #reshape if y_train is not scaled, transforming should not be needed\n",
    "y_test = np.array(y_test).reshape(-1,1)\n",
    "\n",
    "def stats(ndarray):\n",
    "    shape = ndarray.shape\n",
    "    var = ndarray.var()\n",
    "    mean = ndarray.mean()\n",
    "    std = ndarray.std()\n",
    "    min_ = ndarray.min()\n",
    "    max_ = ndarray.max()\n",
    "    return shape, var, mean, std, min_, max_\n",
    "\n",
    "print('')\n",
    "print('X_train -> \\t shape: %s \\t var: %.1f \\t mean: %.1f \\t std: %.1f, \\t min: %.1f \\t max: %.1f'% (stats(X_train)))\n",
    "print('X_test -> \\t shape: %s \\t var: %.1f \\t mean: %.1f \\t std: %.1f, \\t min: %.1f \\t max: %.1f'% (stats(X_test)))\n",
    "print('')\n",
    "print('y_train -> \\t shape: %s \\t var: %.1E \\t mean: %.1E  std: %.1E, \\t min: %.1E \\t max: %.1E'% (stats(y_train)))\n",
    "print('y_test -> \\t shape: %s \\t var: %.1E \\t mean: %.1E \\t std: %.1E, \\t min: %.1E \\t max: %.1E'% (stats(y_test)))"
   ]
  },
  {
   "cell_type": "markdown",
   "metadata": {},
   "source": [
    "# Predict gasPower with most other variables"
   ]
  },
  {
   "cell_type": "markdown",
   "metadata": {},
   "source": [
    "# Create the model"
   ]
  },
  {
   "cell_type": "code",
   "execution_count": 13,
   "metadata": {},
   "outputs": [],
   "source": [
    "from keras.models import Sequential\n",
    "from keras.layers.core import Dense, Activation, Dropout, Flatten\n",
    "from keras.layers.recurrent import LSTM\n",
    "from keras.layers import Dense, Conv1D, MaxPool2D, Flatten, Dropout\n",
    "from keras.callbacks import EarlyStopping, TensorBoard\n",
    "from keras.optimizers import Adam, SGD, Nadam\n",
    "from time import time\n",
    "from livelossplot import PlotLossesKeras"
   ]
  },
  {
   "cell_type": "code",
   "execution_count": 14,
   "metadata": {},
   "outputs": [
    {
     "name": "stdout",
     "output_type": "stream",
     "text": [
      "Models to compile: 4\n",
      "model: 0 \t first_layer_size: 8 \t deep layers: 0 \t deep_layer_size: 8 \t\n",
      "model: 1 \t first_layer_size: 8 \t deep layers: 2 \t deep_layer_size: 8 \t\n",
      "model: 2 \t first_layer_size: 16 \t deep layers: 0 \t deep_layer_size: 8 \t\n",
      "model: 3 \t first_layer_size: 16 \t deep layers: 2 \t deep_layer_size: 8 \t\n"
     ]
    }
   ],
   "source": [
    "def compile_model(model):\n",
    "    # Compile model\n",
    "    model = multi_gpu_model(model, gpus=num_gpu)\n",
    "    model.compile(loss='mean_squared_error', metrics=['mse'], optimizer='adam')\n",
    "    return model\n",
    "\n",
    "\n",
    "def generate_models(first_layer_sizes, deep_layers, deep_layer_sizes):\n",
    "    \"\"\"\n",
    "    Generate different models, depending on input variables. \n",
    "    Loops works from the inside out, in comparisment to a regular model. \n",
    "    For example with input: \n",
    "    first_layer_sizes = [8, 16]\n",
    "    deep_layers = [0, 4, 8, 16]\n",
    "    deep_layer_sizes = [8, 16, 32, 64]\n",
    "\n",
    "    Will do create models with:\n",
    "    model i output:\n",
    "    first_layer_size, deep_layers, deep_layer_size\n",
    "    \n",
    "    first model -> 8 0 8\n",
    "    second model -> 8 1 8\n",
    "    third model -> 8 2 8\n",
    "    ...\n",
    "    16 0 8\n",
    "    16 1 8\n",
    "    16 3 8\n",
    "    ...\n",
    "    32 0 8\n",
    "    32 1 8\n",
    "    32 2 8\n",
    "    ...\n",
    "    64 0 8\n",
    "    64 1 8\n",
    "    64 2 8\n",
    "    ...\n",
    "    8 0 16\n",
    "    8 1 16\n",
    "    8 2 16\n",
    "    ...\n",
    "    16 0 16\n",
    "    16 1 16\n",
    "    16 2 16\n",
    "    ...\n",
    "\n",
    "    This will be more clear if you look at the prints being generated while you run this function. \n",
    "    \"\"\"\n",
    "    N = len(deep_layers)*len(deep_layer_sizes)*len(first_layer_sizes)\n",
    "    print('Models to compile: %s' % N)\n",
    "    N = 0\n",
    "    \n",
    "    models = []\n",
    "    \n",
    "    for deep_layer_size in deep_layer_sizes:\n",
    "        #print('selected deep_layer_size: %s' % deep_layer_size)  \n",
    "        for first_layer_size in first_layer_sizes:  \n",
    "            #print('selected first_layer_size: %s' % first_layer_size)  \n",
    "            for layers in deep_layers:\n",
    "                print('model: %s \\t first_layer_size: %s \\t deep layers: %s \\t deep_layer_size: %s \\t' % (N, first_layer_size, layers, deep_layer_size))\n",
    "                model = Sequential()\n",
    "\n",
    "                # Input layer\n",
    "                model.add(Dense(first_layer_size, input_shape=(X_train.shape[1],), kernel_initializer='normal'))\n",
    "                model.add(Activation('relu'))\n",
    "                model.add(Dropout(0.5, seed=seed))\n",
    "                \n",
    "                # Add deep layers\n",
    "                for j in range(layers):\n",
    "                    #print('Added deep layer: %s' % j)\n",
    "                    model.add(Dense(deep_layer_size, kernel_initializer='normal'))\n",
    "                    model.add(Activation('relu'))\n",
    "                    model.add(Dropout(0.5, seed=seed))\n",
    "\n",
    "        \n",
    "                # Output layer\n",
    "                model.add(Dense(1, kernel_initializer='normal'))\n",
    "                model.add(Activation('linear'))\n",
    "                \n",
    "                model = multi_gpu_model(model, gpus=num_gpu)\n",
    "                model.compile(loss='mean_squared_error', metrics=['mse'], optimizer='adam')\n",
    "                #model = compile_model(model)\n",
    "                #delayed(compile_model)(model\n",
    "                models.append(model)\n",
    "                \n",
    "                \n",
    "                N +=1\n",
    "                #print('------------------------------------------------model compiled')\n",
    "        \n",
    "    return models\n",
    "\n",
    "\n",
    "first_layer_sizes = [8, 16, 32, 64]\n",
    "deep_layer_sizes = [8, 16, 32]\n",
    "deep_layers = [0, 2, 4, 8 , 16]\n",
    "\n",
    "models = generate_models(first_layer_sizes, deep_layers, deep_layer_sizes)"
   ]
  },
  {
   "cell_type": "code",
   "execution_count": 15,
   "metadata": {},
   "outputs": [
    {
     "data": {
      "text/plain": [
       "[<keras.engine.training.Model at 0x7f3cb01110b8>,\n",
       " <keras.engine.training.Model at 0x7f3ce813e2e8>,\n",
       " <keras.engine.training.Model at 0x7f3c581f8ac8>,\n",
       " <keras.engine.training.Model at 0x7f3c3c5f1ef0>]"
      ]
     },
     "execution_count": 15,
     "metadata": {},
     "output_type": "execute_result"
    }
   ],
   "source": [
    "models"
   ]
  },
  {
   "cell_type": "code",
   "execution_count": 16,
   "metadata": {},
   "outputs": [
    {
     "data": {
      "image/png": "[encoded data removed]",
      "text/plain": [
       "<Figure size 864x576 with 2 Axes>"
      ]
     },
     "metadata": {},
     "output_type": "display_data"
    },
    {
     "name": "stderr",
     "output_type": "stream",
     "text": [
      "100%|██████████| 4/4 [00:49<00:00, 12.62s/it]\n"
     ]
    }
   ],
   "source": [
    "histories = []\n",
    "\n",
    "# Use dask on this?\n",
    "for model in tqdm(models):\n",
    "    tensorboard = TensorBoard(log_dir=\"/home/16011015/notebooks/logs/{}\".format(time()))\n",
    "    early_stopping_monitor = EarlyStopping(patience=10)\n",
    "    \n",
    "    history = model.fit(X_train, y_train, batch_size=int(len(X_train)), \n",
    "                epochs=50, verbose=3, validation_data=(X_test, y_test),\n",
    "                callbacks=[early_stopping_monitor, PlotLossesKeras(), tensorboard])\n",
    "    \n",
    "    histories.append(history)"
   ]
  },
  {
   "cell_type": "code",
   "execution_count": 17,
   "metadata": {},
   "outputs": [
    {
     "name": "stderr",
     "output_type": "stream",
     "text": [
      "/opt/jupyterhub/anaconda/lib/python3.6/site-packages/matplotlib/cbook/deprecation.py:107: MatplotlibDeprecationWarning: Adding an axes using the same arguments as a previous axes currently reuses the earlier instance.  In a future version, a new instance will always be created and returned.  Meanwhile, this warning can be suppressed, and the future behavior ensured, by passing a unique label to each axes instance.\n",
      "  warnings.warn(message, mplDeprecation, stacklevel=1)\n"
     ]
    },
    {
     "data": {
      "image/png": "[encoded data removed]",
      "text/plain": [
       "<Figure size 432x288 with 2 Axes>"
      ]
     },
     "metadata": {},
     "output_type": "display_data"
    }
   ],
   "source": [
    "# Show results\n",
    "for i, history in enumerate(histories):\n",
    "    plt.subplot(1,2,1)\n",
    "    plt.title('val_mean_squared_error')\n",
    "    plt.plot(history.history['val_mean_squared_error'], label=i)\n",
    "    plt.xlabel('epoch')\n",
    "    plt.tight_layout()\n",
    "    \n",
    "    plt.subplot(1,2,2)\n",
    "    plt.title('mean_squared_error')\n",
    "    plt.plot(history.history['mean_squared_error'], label=i)\n",
    "    plt.xlabel('epoch')\n",
    "    plt.tight_layout()\n",
    "    \n",
    "    plt.legend()"
   ]
  },
  {
   "cell_type": "code",
   "execution_count": null,
   "metadata": {},
   "outputs": [],
   "source": []
  },
  {
   "cell_type": "code",
   "execution_count": 18,
   "metadata": {},
   "outputs": [
    {
     "name": "stderr",
     "output_type": "stream",
     "text": [
      "100%|██████████| 4/4 [00:00<00:00, 54.52it/s]\n"
     ]
    },
    {
     "data": {
      "image/png": "[encoded data removed]",
      "text/plain": [
       "<Figure size 432x288 with 1 Axes>"
      ]
     },
     "metadata": {},
     "output_type": "display_data"
    }
   ],
   "source": [
    "final_scores = []\n",
    "for i in tqdm(range(len(histories))):\n",
    "    model = models[i]\n",
    "    final_score = model.fit(X_test, y_test, verbose=0).history['mean_squared_error'][0]\n",
    "    final_scores.append(final_score)\n",
    "\n",
    "plt.plot(final_scores, '.', color='r')\n",
    "plt.ylabel('mean squared error [-]')\n",
    "plt.xlabel('model number [-]')\n",
    "plt.title('val_mean_squared_error of models at 150 epochs')\n",
    "plt.grid()"
   ]
  },
  {
   "cell_type": "code",
   "execution_count": null,
   "metadata": {},
   "outputs": [],
   "source": []
  },
  {
   "cell_type": "markdown",
   "metadata": {},
   "source": [
    "# Plot results"
   ]
  },
  {
   "cell_type": "code",
   "execution_count": null,
   "metadata": {},
   "outputs": [],
   "source": [
    "# model number to select\n",
    "N = 24\n",
    "\n",
    "\n",
    "# X_test is already transformed\n",
    "x_pred = X_test\n",
    "#x_pred = scalerX.transform(x_pred)\n",
    "\n",
    "y_pred = models[N].predict(x_pred)\n",
    "\n",
    "\n",
    "print('x_pred scaled-> \\t shape: %s \\t var: %.1E \\t mean: %.1E \\t std: %.1E'% (x_pred.shape, x_pred.var(), x_pred.mean(), x_pred.std()))\n",
    "\n",
    "x_pred = scalerX.inverse_transform(x_pred)\n",
    "print('x_pred inverse-> \\t shape: %s \\t var: %.1E \\t mean: %.1E \\t std: %.1E'% (x_pred.shape, x_pred.var(), x_pred.mean(), x_pred.std()))\n",
    "\n",
    "# select test variables\n",
    "FF = x_pred[:,0]\n",
    "RG = x_pred[:,1]\n",
    "T = x_pred[:,2]\n",
    "\n",
    "fig, axarr = plt.subplots(2,2)\n",
    "\n",
    "\n",
    "axarr[0, 0].plot(data['T'], data['gasPower'], '.', color='r', alpha=0.3, label='Real')\n",
    "axarr[0, 0].plot(T, y_test, 'v', color='g', label='X_test, y_test', alpha=0.3)\n",
    "axarr[0, 0].plot(T, y_pred, 'x', color='b', label='Predicted', alpha=0.3)\n",
    "axarr[0, 0].grid()\n",
    "axarr[0, 0].set_xlabel('Temperature at 1,5 m $T$ [$\\degree$C] \\n (1 min mean)')\n",
    "axarr[0, 0].set_ylabel(r'gasPower $\\cdot$ 10$^{-%s}$ [m$^3$/h]' % magnitude)\n",
    "\n",
    "axarr[0, 1].plot(data['RG'], data['gasPower'], '.', color='r', alpha=0.3, label='Real')\n",
    "axarr[0, 1].plot(RG, y_test, 'v', color='g', alpha=0.3, label='X_test, y_test')\n",
    "axarr[0, 1].plot(RG, y_pred, 'x', color='b', alpha=0.3, label='Predicted')\n",
    "axarr[0, 1].grid()\n",
    "axarr[0, 1].set_xlabel('Rain intensity $RG$ [mm/h] \\n (10 min mean)')\n",
    "axarr[0, 1].set_ylabel(r'gasPower $\\cdot$ 10$^{-%s}$ [m$^3$/h]' % magnitude)\n",
    "\n",
    "\n",
    "axarr[1, 0].plot(data['FF'], data['gasPower'], '.', color='r', alpha=0.3, label='All real data')\n",
    "axarr[1, 0].plot(FF, y_test, 'v', color='g', label='X_test, y_test', alpha=0.3)\n",
    "axarr[1, 0].plot(FF, y_pred, 'x', color='b', label='X_test, y_predicted', alpha=0.3)\n",
    "axarr[1, 0].grid()\n",
    "axarr[1, 0].set_xlabel('Wind speed $FF$ [m/s] \\n (10 min mean)')\n",
    "axarr[1, 0].set_ylabel(r'gasPower $\\cdot$ 10$^{-%s}$ [m$^3$/h]' % magnitude)\n",
    "\n",
    "fig.delaxes(axarr[1, 1])\n",
    "\n",
    "mse = models[N].evaluate(X_test, y_test)[0]\n",
    "mse_val = str(mse)[:4]\n",
    "mse_power = str(mse)[-1:]\n",
    "\n",
    "#fig.suptitle('Deep neural network regression results with gasPower as the target \\n Validation MSE = %s $\\cdot$ 10$^{-%s}$' % (mse_val, mse_power), fontsize = 14)\n",
    "fig.suptitle('Deep neural network regression results with gasPower as the target \\n Validation MSE = %s' % (mse_val), fontsize = 14)\n",
    "\n",
    "fig.set_size_inches(10,10)\n",
    "fig.tight_layout()\n",
    "\n",
    "fig.subplots_adjust(top=0.9) # Adjust title spacing at the top\n",
    "\n",
    "axarr[1, 0].legend(loc='lower left', bbox_to_anchor= (1.25, 0.3), borderaxespad=0, frameon=False, fontsize=14, markerscale=3)"
   ]
  },
  {
   "cell_type": "code",
   "execution_count": null,
   "metadata": {},
   "outputs": [],
   "source": [
    "fig.savefig('DDN last result.png', dpi=1200)"
   ]
  },
  {
   "cell_type": "code",
   "execution_count": null,
   "metadata": {},
   "outputs": [],
   "source": [
    "# Complete plot, commented out\n",
    "# X_test is already transformed\n",
    "x_pred = X_test\n",
    "#x_pred = scalerX.transform(x_pred)\n",
    "\n",
    "y_pred = model.predict(x_pred)\n",
    "\n",
    "\n",
    "print('x_pred scaled-> \\t shape: %s \\t var: %.1E \\t mean: %.1E \\t std: %.1E'% (x_pred.shape, x_pred.var(), x_pred.mean(), x_pred.std()))\n",
    "\n",
    "x_pred = scalerX.inverse_transform(x_pred)\n",
    "print('x_pred inverse-> \\t shape: %s \\t var: %.1E \\t mean: %.1E \\t std: %.1E'% (x_pred.shape, x_pred.var(), x_pred.mean(), x_pred.std()))\n",
    "\n",
    "# select test variables\n",
    "DD = x_pred[:,0]\n",
    "FF = x_pred[:,1]\n",
    "N = x_pred[:,2]\n",
    "Q = x_pred[:,3]\n",
    "RG = x_pred[:,4]\n",
    "T = x_pred[:,5]\n",
    "U = x_pred[:,6]\n",
    "\n",
    "fig, axarr = plt.subplots(3,3)\n",
    "\n",
    "axarr[0, 0].plot(data['DD'], data['gasPower'], '.', color='r', alpha=0.3, label='All real data')\n",
    "axarr[0, 0].plot(DD, y_test, 'v', color='g', label='X_test, y_test', alpha=0.3)\n",
    "axarr[0, 0].plot(DD, y_pred, 'x', color='b', label='X_test, y_predict', alpha=0.3)\n",
    "axarr[0, 0].grid()\n",
    "axarr[0, 0].set_xlabel('Wind direction $DD$ [$\\degree$] \\n (10 min mean)')\n",
    "axarr[0, 0].set_ylabel(r'gasPower $\\cdot$ 10$^{-2}$ [m$^3$/h]')\n",
    "\n",
    "axarr[0, 1].plot(data['N'], data['gasPower'], '.', color='r', alpha=0.3, label='Real')\n",
    "axarr[0, 1].plot(N, y_test, 'v', color='g', label='X_test, y_test', alpha=0.3)\n",
    "axarr[0, 1].plot(N, y_pred, 'x', color='b', label='Predicted', alpha=0.3)\n",
    "axarr[0, 1].grid()\n",
    "axarr[0, 1].set_xlabel('Total cloud coverage $N$ [octa]')\n",
    "axarr[0, 1].set_ylabel(r'gasPower $\\cdot$ 10$^{-2}$ [m$^3$/h]')\n",
    "\n",
    "axarr[0, 2].plot(data['Q'], data['gasPower'], '.', color='r', alpha=0.3, label='Real')\n",
    "axarr[0, 2].plot(Q, y_test, 'v', color='g', label='X_test, y_test', alpha=0.3)\n",
    "axarr[0, 2].plot(Q, y_pred, 'x', color='b', label='Predicted', alpha=0.3)\n",
    "axarr[0, 2].grid()\n",
    "axarr[0, 2].set_xlabel('global radiation $Q$ [W/m$^2$] \\n (10 min mean)')\n",
    "axarr[0, 2].set_ylabel(r'gasPower $\\cdot$ 10$^{-2}$ [m$^3$/h]')\n",
    "\n",
    "axarr[1, 0].plot(data['RG'], data['gasPower'], '.', color='r', alpha=0.3, label='Real')\n",
    "axarr[1, 0].plot(RG, y_test, 'v', color='g', label='X_test, y_test', alpha=0.3)\n",
    "axarr[1, 0].plot(RG, y_pred, 'x', color='b', label='Predicted', alpha=0.3)\n",
    "axarr[1, 0].grid()\n",
    "axarr[1, 0].set_xlabel('Rain intensity $RG$ [mm/h] \\n (10 min mean)')\n",
    "axarr[1, 0].set_ylabel(r'gasPower $\\cdot$ 10$^{-2}$ [m$^3$/h]')\n",
    "\n",
    "axarr[1, 1].plot(data['T'], data['gasPower'], '.', color='r', alpha=0.3, label='Real')\n",
    "axarr[1, 1].plot(T, y_test, 'v', color='g', alpha=0.3, label='X_test, y_test')\n",
    "axarr[1, 1].plot(T, y_pred, 'x', color='b', alpha=0.3, label='Predicted')\n",
    "axarr[1, 1].grid()\n",
    "axarr[1, 1].set_xlabel('Temperature at 1,5 m $T$ [$\\degree$C] \\n (1 min mean)')\n",
    "axarr[1, 1].set_ylabel(r'gasPower $\\cdot$ 10$^{-2}$ [m$^3$/h]')\n",
    "\n",
    "axarr[1, 2].plot(data['U'], data['gasPower'], '.', color='r', alpha=0.3, label='Real')\n",
    "axarr[1, 2].plot(U, y_test, 'v', color='g', label='X_test, y_test', alpha=0.3)\n",
    "axarr[1, 2].plot(U, y_pred, 'x', color='b', label='Predicted', alpha=0.3)\n",
    "axarr[1, 2].grid()\n",
    "axarr[1, 2].set_xlabel('Relative humidity at 1,5 m $U$ [%] \\n (1 min mean)')\n",
    "axarr[1, 2].set_ylabel(r'gasPower $\\cdot$ 10$^{-2}$ [m$^3$/h]')\n",
    "\n",
    "axarr[2, 0].plot(data['FF'], data['gasPower'], '.', color='r', alpha=0.3, label='All real data')\n",
    "axarr[2, 0].plot(FF, y_test, 'v', color='g', label='X_test, y_test', alpha=0.3)\n",
    "axarr[2, 0].plot(FF, y_pred, 'x', color='b', label='X_test, y_predicted', alpha=0.3)\n",
    "axarr[2, 0].grid()\n",
    "axarr[2, 0].set_xlabel('Wind speed $FF$ [m/s] \\n (10 min mean)')\n",
    "axarr[2, 0].set_ylabel(r'gasPower $\\cdot$ 10$^{-2}$ [m$^3$/h]')\n",
    "\n",
    "fig.delaxes(axarr[2, 1])\n",
    "fig.delaxes(axarr[2, 2])\n",
    "\n",
    "mse = multi_model.evaluate(X_test, y_test)[0]\n",
    "mse_val = str(mse)[:4]\n",
    "mse_power = str(mse)[-1:]\n",
    "\n",
    "fig.suptitle('Deep neural network regression results with gasPower as the target \\n Validation MSE = %s' % (mse_val), fontsize = 14)\n",
    "\n",
    "fig.set_size_inches(10,10)\n",
    "fig.tight_layout()\n",
    "\n",
    "\n",
    "\n",
    "fig.subplots_adjust(top=0.9) # Adjust title spacing at the top\n",
    "\n",
    "axarr[2, 0].legend(loc='lower left', bbox_to_anchor= (2, 0.3), borderaxespad=0, frameon=False, fontsize=14, markerscale=3)"
   ]
  },
  {
   "cell_type": "code",
   "execution_count": null,
   "metadata": {},
   "outputs": [],
   "source": [
    "fig.savefig('DDN last result.png', dpi=1200)"
   ]
  },
  {
   "cell_type": "code",
   "execution_count": null,
   "metadata": {},
   "outputs": [],
   "source": []
  }
 ],
 "metadata": {
  "kernelspec": {
   "display_name": "Python 3",
   "language": "python",
   "name": "python3"
  },
  "language_info": {
   "codemirror_mode": {
    "name": "ipython",
    "version": 3
   },
   "file_extension": ".py",
   "mimetype": "text/x-python",
   "name": "python",
   "nbconvert_exporter": "python",
   "pygments_lexer": "ipython3",
   "version": "3.6.6"
  }
 },
 "nbformat": 4,
 "nbformat_minor": 2
}
