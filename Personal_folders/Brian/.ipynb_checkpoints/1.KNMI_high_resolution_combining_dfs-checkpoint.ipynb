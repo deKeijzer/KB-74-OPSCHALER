{
 "cells": [
  {
   "cell_type": "raw",
   "metadata": {},
   "source": [
    "files: keijzer_hhs_toa_*\n",
    "\n",
    "stn= Rotterdam(344)\n",
    "lcd= locatie \n",
    "datum= JJJJMMDD\n",
    "tijd= in UT (1200 UT = 1300 MET = 1400 MEZT)\n",
    "WW=Weercode automatisch station in code.\n",
    "VV=Horizontaal zicht (10 min. gemiddeld) in meters.\n",
    "P=Luchtdruk op NAP (MSL)  (1 min. gem.) in hPa.\n",
    "Indien een gegeven ontbreekt dan spaties op de betreffende posities.\n",
    "  stn,lcd     ,datum   ,tijd,    WW,    VV,P \n",
    "  344,24t     ,20150101,  10,    10,  4150,1034.0\n",
    "  344,24t     ,20150101,  20,    10,  3650,1033.9\n",
    "  344,24t     ,20150101,  30,    10,  3151,1034.3\n",
    "  344,24t     ,20150101,  40,    10,  5830,1034.1\n",
    "\n",
    "files: keijzer_hhs_toc_*\n",
    "\n",
    "stn= Rotterdam(344)\n",
    "lcd= locatie \n",
    "datum= JJJJMMDD\n",
    "tijd= in UT (1200 UT = 1300 MET = 1400 MEZT)\n",
    "N=Totale bedekkingsgraad bewolking in okta.\n",
    "Indien een gegeven ontbreekt dan spaties op de betreffende posities.\n",
    "  stn,lcd     ,datum   ,tijd,     N\n",
    "  344,24t     ,20150101,  10,     0\n",
    "  344,24t     ,20150101,  20,     0\n",
    "  344,24t     ,20150101,  30,     0\n",
    "  344,24t     ,20150101,  40,     0\n",
    "\n",
    "files: keijzer_hhs_tor_*\n",
    "\n",
    "stn= Rotterdam(344)\n",
    "lcd= locatie \n",
    "datum= JJJJMMDD\n",
    "tijd= in UT (1200 UT = 1300 MET = 1400 MEZT)\n",
    "RG=Neerslag intensiteit  Regenmeter (10 min. gem.) in mm/uur.(delen door 6)\n",
    "DR=Neerslagduur PWS (10 min. som) in seconden.(delen door 600)\n",
    "Indien een gegeven ontbreekt dan spaties op de betreffende posities.\n",
    "  stn,lcd     ,datum   ,tijd,    RG,    DR \n",
    "  344,24t     ,20150101,  10,     0,     0\n",
    "  344,24t     ,20150101,  20,     0,     0\n",
    "  344,24t     ,20150101,  30,     0,     0\n",
    "  344,24t     ,20150101,  40,     0,     0\n",
    "\n",
    "files: keijzer_hhs_tos_*\n",
    "\n",
    "stn= Rotterdam(344)\n",
    "lcd= locatie \n",
    "datum= JJJJMMDD\n",
    "tijd= in UT (1200 UT = 1300 MET = 1400 MEZT)\n",
    "Q=Globale straling 10 min. gemiddeld in W/m2.\n",
    "SQ=Zonneschijnduur in minuten.\n",
    "Indien een gegeven ontbreekt dan spaties op de betreffende posities.\n",
    "  stn,lcd     ,datum   ,tijd,     Q,    SQ \n",
    "  344,24t     ,20150101,  10,     0,     0\n",
    "  344,24t     ,20150101,  20,     0,     0\n",
    "  344,24t     ,20150101,  30,     0,     0\n",
    "  344,24t     ,20150101,  40,     0,     0\n",
    "\n",
    "files: keijzer_hhs_tot_*\n",
    "\n",
    "stn= Rotterdam(344)\n",
    "lcd= locatie \n",
    "datum= JJJJMMDD\n",
    "tijd= in UT (1200 UT = 1300 MET = 1400 MEZT)\n",
    "T10=Minimum Gras temperatuur 10 cm (over 10 min) in graden Celsius.\n",
    "TD=Dauwpunts temperatuur (1 min. gem) in graden Celsius.\n",
    "T=Temperatuur 1 min gemiddeld (1,5 m hoogte) in graden Celsius.\n",
    "U=Relatieve vochtigheid 1,5 m  1min. gemiddeld in procenten.\n",
    "Indien een gegeven ontbreekt dan spaties op de betreffende posities.\n",
    "  stn,lcd     ,datum   ,tijd,   T10,    TD,     T,     U \n",
    "  344,24t     ,20150101,  10,   2.2,   1.3,   3.5,    85\n",
    "  344,24t     ,20150101,  20,   2.3,     1,   3.2,    85\n",
    "  344,24t     ,20150101,  30,   2.1,    .9,   3.1,    85\n",
    "  344,24t     ,20150101,  40,   2.1,     1,   3.4,    84\n",
    "\n",
    "\n",
    "files: keijzer_hhs_tow_*\n",
    "\n",
    "stn= Rotterdam(344)\n",
    "lcd= locatie \n",
    "datum= JJJJMMDD\n",
    "tijd= in UT (1200 UT = 1300 MET = 1400 MEZT)\n",
    "DD=Gemiddelde windrichting in graden.\n",
    "FF=Gemiddelde windsnelheid (op 10 m) in m/s.\n",
    "FX=Maximum windstoot (op 10 m.) in m/s.\n",
    "Indien een gegeven ontbreekt dan spaties op de betreffende posities.\n",
    "  stn,lcd     ,datum   ,tijd,    DD,    FF,    FX\n",
    "  344,24t     ,20150101,  10, 209.8,  5.36,  7.52\n",
    "  344,24t     ,20150101,  20, 200.7,  4.97,   6.9\n",
    "  344,24t     ,20150101,  30,   209,  4.84,  6.84\n",
    "  344,24t     ,20150101,  40, 212.9,  5.03,   6.7"
   ]
  },
  {
   "cell_type": "code",
   "execution_count": null,
   "metadata": {},
   "outputs": [],
   "source": [
    "import glob\n",
    "import pandas as pd\n",
    "\n",
    "dir = '//datc//opschaler//weather_data//knmi_10_min_raw_data//'\n",
    "pattern = 'keijzer_hhs_****.LST'\n",
    "\n",
    "files = glob.glob(dir+pattern) # Get a list of all the files"
   ]
  },
  {
   "cell_type": "code",
   "execution_count": null,
   "metadata": {},
   "outputs": [],
   "source": [
    "files"
   ]
  },
  {
   "cell_type": "code",
   "execution_count": null,
   "metadata": {},
   "outputs": [],
   "source": [
    "# Get the file labels (tot, toa, tor, tow)\n",
    "\n",
    "file_labels = []\n",
    "\n",
    "for file in files:\n",
    "    file_labels.append(file[-12:-9])\n",
    "\n",
    "file_labels"
   ]
  },
  {
   "cell_type": "code",
   "execution_count": null,
   "metadata": {},
   "outputs": [],
   "source": [
    "toa_names = ['stn', 'lcd', 'datum', 'tijd', 'WW', 'VV', 'P']\n",
    "toc_names = ['stn', 'lcd', 'datum', 'tijd', 'N']\n",
    "tor_names = ['stn', 'lcd', 'datum', 'tijd', 'RG', 'DR']\n",
    "tos_names = ['stn', 'lcd', 'datum', 'tijd', 'Q', 'SQ']\n",
    "tot_names = ['stn', 'lcd', 'datum', 'tijd', 'T10', 'TD', 'T', 'U']\n",
    "tow_names = ['stn', 'lcd', 'datum', 'tijd', 'DD', 'FF', 'FX']\n",
    "\n",
    "dfs = []\n",
    "\n",
    "for i,file in enumerate(files):\n",
    "    if file_labels[i] == 'toa':\n",
    "        column_names = toa_names\n",
    "    elif file_labels[i] == 'toc':\n",
    "        column_names = toc_names\n",
    "    elif file_labels[i] == 'tor':\n",
    "        column_names = tor_names\n",
    "    elif file_labels[i] == 'tos':\n",
    "        column_names = tos_names\n",
    "    elif file_labels[i] == 'tot':\n",
    "        column_names = tot_names\n",
    "    elif file_labels[i] == 'tow':\n",
    "        column_names = tow_names\n",
    "    else:\n",
    "        print('Filelabel not known.')\n",
    "        print('i = %s , file_labels = %s' %(i, file_labels[i]))\n",
    "        \n",
    "    df = pd.read_csv(file, header=0, names=column_names, parse_dates=['datum', 'tijd'])\n",
    "    dfs.append(df)"
   ]
  },
  {
   "cell_type": "code",
   "execution_count": null,
   "metadata": {},
   "outputs": [],
   "source": [
    "dfs[0].head()"
   ]
  },
  {
   "cell_type": "code",
   "execution_count": null,
   "metadata": {
    "scrolled": true
   },
   "outputs": [],
   "source": [
    "# Get the 'tijd' column ready for datetime formatting\n",
    "# It's not a nice way, but it works.\n",
    "import datetime as dt\n",
    "\n",
    "i = 0\n",
    "\n",
    "for i,df in enumerate(dfs):\n",
    "    df.tijd = df.tijd.str.replace(' ', '0') # change '  10' to '0010'\n",
    "    df.tijd = df.tijd.apply(lambda x: (x[:2]+':'+x[2:])+':00') # change '0010' to '00:10:00'\n",
    "    df.tijd = df.tijd.str.replace('24:00:00', '23:59:59')\n",
    "\n",
    "    # tijd & datum need to be str in order to combine them\n",
    "    df.tijd = pd.to_datetime(df.tijd, format='%H:%M:%S').dt.time.astype('str') \n",
    "    df.datum = df.datum.dt.strftime('%Y-%m-%d').astype('str')\n",
    "\n",
    "    df['datetime'] = df.datum+' '+df.tijd\n",
    "    df.datetime = pd.to_datetime(df.datetime, format='%Y-%m-%d %H:%M:%S')\n",
    "\n",
    "    # Delete the no longer needed frames\n",
    "    del df['datum'], df['tijd']\n",
    "\n",
    "    # Set datetime as index\n",
    "    df = df.set_index(['datetime'])\n",
    "    \n",
    "    # Resample to be able to merge\n",
    "    df = df.resample('10min').mean()\n",
    "\n",
    "    # Update the df in the dfs list\n",
    "    dfs[i] = df"
   ]
  },
  {
   "cell_type": "code",
   "execution_count": null,
   "metadata": {},
   "outputs": [],
   "source": [
    "dfs[23].head()"
   ]
  },
  {
   "cell_type": "code",
   "execution_count": null,
   "metadata": {},
   "outputs": [],
   "source": [
    "\"\"\"\n",
    "Probably need to merge the frames of the same year, then concat those together.\n",
    "\"\"\"\n",
    "\n",
    "\n",
    "t = pd.merge(dfs[0], dfs[1])\n",
    "t.info"
   ]
  },
  {
   "cell_type": "code",
   "execution_count": null,
   "metadata": {},
   "outputs": [],
   "source": [
    "dfs[0].head()"
   ]
  },
  {
   "cell_type": "code",
   "execution_count": null,
   "metadata": {},
   "outputs": [],
   "source": [
    "dfs[1].head()"
   ]
  },
  {
   "cell_type": "code",
   "execution_count": null,
   "metadata": {},
   "outputs": [],
   "source": []
  },
  {
   "cell_type": "code",
   "execution_count": null,
   "metadata": {},
   "outputs": [],
   "source": []
  },
  {
   "cell_type": "code",
   "execution_count": null,
   "metadata": {},
   "outputs": [],
   "source": []
  },
  {
   "cell_type": "code",
   "execution_count": null,
   "metadata": {},
   "outputs": [],
   "source": []
  },
  {
   "cell_type": "code",
   "execution_count": null,
   "metadata": {},
   "outputs": [],
   "source": []
  },
  {
   "cell_type": "code",
   "execution_count": null,
   "metadata": {},
   "outputs": [],
   "source": []
  },
  {
   "cell_type": "code",
   "execution_count": null,
   "metadata": {},
   "outputs": [],
   "source": []
  },
  {
   "cell_type": "code",
   "execution_count": null,
   "metadata": {},
   "outputs": [],
   "source": [
    "from functools import reduce\n",
    "reduce(lambda x, y: pd.merge(x, y, left_index=True, right_index=True), dfs)"
   ]
  },
  {
   "cell_type": "code",
   "execution_count": null,
   "metadata": {},
   "outputs": [],
   "source": []
  }
 ],
 "metadata": {
  "kernelspec": {
   "display_name": "Python 3",
   "language": "python",
   "name": "python3"
  },
  "language_info": {
   "codemirror_mode": {
    "name": "ipython",
    "version": 3
   },
   "file_extension": ".py",
   "mimetype": "text/x-python",
   "name": "python",
   "nbconvert_exporter": "python",
   "pygments_lexer": "ipython3",
   "version": "3.6.1"
  }
 },
 "nbformat": 4,
 "nbformat_minor": 2
}
