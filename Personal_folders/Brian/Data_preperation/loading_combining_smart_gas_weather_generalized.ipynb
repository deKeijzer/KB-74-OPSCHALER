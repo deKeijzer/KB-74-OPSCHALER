{
 "cells": [
  {
   "cell_type": "markdown",
   "metadata": {},
   "source": [
    "# README\n",
    "\n",
    "This notebook reads in the raw smartmeter output files located in `//datc//opschaler//smartmeter_data//*.csv`.  \n",
    "It processes this data to clean and prepare it for EDA.  \n",
    "Finally it combines this data per house with the weather data located at `//datc//opschaler//weather_data//weather.csv`.  \n",
    "The final dataframes are saved in `//datc//opschaler//combined_dfs_gas_smart_weather//dwelling_id.csv`.\n",
    "\n",
    "TODO: \n",
    "* Remove 0's from gasMeter column.\n",
    "* Save the amount of NaNs (including how many are behind each other) per column in one Excel file for all houses.\n",
    "\n",
    "## Step by step instruction of the notebook\n",
    "* Load in the weather dataframe.\n",
    "* Get a file_paths list of all the smartmeter_data files.\n",
    "* Iterate over this list with main(), doing the following:\n",
    "\n",
    "* clean_datetime: Remove non-datetime rows from the datetime column.\n",
    "* clean_prepare_smart_gas: Split smartmeter data into smart (=electricity) and a gas dataframe, plus prepare them for upsampling.\n",
    "* resample_smart_gas: Resample smart and gas to have the same datetime index.\n",
    "* merge_smart_gas_weather: Merge the three dataframes together\n",
    "* save_df: save the final dataframe\n",
    "\n",
    "## Warning\n",
    "Running main() with 61 raw smartmeter data files has been estimated to take 45-60 minutes."
   ]
  },
  {
   "cell_type": "markdown",
   "metadata": {},
   "source": [
    "# Basic imports"
   ]
  },
  {
   "cell_type": "code",
   "execution_count": 1,
   "metadata": {},
   "outputs": [],
   "source": [
    "import pandas as pd\n",
    "import numpy as np\n",
    "import glob\n",
    "import time"
   ]
  },
  {
   "cell_type": "markdown",
   "metadata": {},
   "source": [
    "# Defining functions"
   ]
  },
  {
   "cell_type": "code",
   "execution_count": 2,
   "metadata": {},
   "outputs": [],
   "source": [
    "def clean_datetime(df):\n",
    "    \"\"\"\n",
    "    Input should be a df with a column called 'datetime'.\n",
    "    This function checks wether a row in the df.datetime column can be parsed to a pandas datetime object,\n",
    "    by trying pd.to_datetime() on it.\n",
    "    If it fails it will replace that row with np.nan().\n",
    "    Finally this function will return the df with the NaN rows dropped.\n",
    "    It only drops the row if the datetime column contains a NaN.\n",
    "    \"\"\"\n",
    "    for i in range(len(df)):\n",
    "        try:\n",
    "            pd.to_datetime(df.datetime[i])\n",
    "        except ValueError:\n",
    "            print('-----')\n",
    "            print('ValueError at index = %s' % i)\n",
    "            print(df.datetime[i])\n",
    "            df.datetime = df.datetime.replace(df.datetime[i], np.nan)\n",
    "    df = df.dropna(subset = ['datetime'])\n",
    "    return df\n",
    "\n",
    "\n",
    "def clean_prepare_smart_gas(file_path):\n",
    "    \"\"\"\n",
    "    Input is a dwelling_id.csv file.\n",
    "    Output are cleaned & prepared dataframes (smart, gas).\n",
    "    Return: smart, gas\n",
    "    \"\"\"\n",
    "    df = pd.read_csv(file_path, delimiter=';', header=0)\n",
    "    smart = df.iloc[:,:7]\n",
    "    gas = df.iloc[:,7:]\n",
    "    \n",
    "    smart = smart.rename(index=str,columns={\"Timestamp\":\"datetime\"})\n",
    "    gas = gas.rename(index=str,columns={\"gasTimestamp\":\"datetime\"})\n",
    "\n",
    "    smart = clean_datetime(smart)\n",
    "    gas = clean_datetime(gas)\n",
    "    \n",
    "    smart['datetime'] = pd.to_datetime(smart['datetime'])\n",
    "    gas['datetime'] = pd.to_datetime(gas['datetime'])\n",
    "\n",
    "    \n",
    "    smart = smart.set_index(['datetime'])\n",
    "    gas = gas.set_index(['datetime'])\n",
    "\n",
    "    return smart, gas\n",
    "\n",
    "\n",
    "def resample_smart_gas(smart, gas):\n",
    "    \"\"\"\n",
    "    Resamples the (smart, gas) dfs to 10s.\n",
    "    Also calculates gasPower. \n",
    "    Returns (smart_resampled, gas_resampled)\n",
    "    \"\"\"\n",
    "    smart_resampled = smart.resample('10s').mean()\n",
    "    \n",
    "    gas_resampled = gas.resample('H').mean()\n",
    "    # replace 0s with NaNs\n",
    "    gas_resampled = gas_resampled.resample('10s').interpolate(method='time')\n",
    "    gas_resampled['gasPower'] = gas_resampled['gasMeter'].diff()\n",
    "    \n",
    "    return smart_resampled, gas_resampled\n",
    "\n",
    "\n",
    "def merge_smart_gas_weather(smart_resampled, gas_resampled, weather):\n",
    "    \"\"\"\n",
    "    Merges the dataframes, outputs one df.\n",
    "    \"\"\"\n",
    "    df = pd.merge(smart_resampled, gas_resampled, left_index=True, right_index=True)\n",
    "    df = pd.merge(df, weather, left_index=True, right_index=True)\n",
    "    \n",
    "    return df\n",
    "\n",
    "\n",
    "def save_df(df, dwelling_id):\n",
    "    dir = '//datc//opschaler//combined_dfs_gas_smart_weather//'\n",
    "    df.to_csv(dir+dwelling_id+'.csv', sep='\\t', index=True)\n",
    "    print('Saved %s' % dwelling_id)\n",
    "\n",
    "    \n",
    "def main():\n",
    "    for i,file_path in enumerate(file_paths):\n",
    "        t1 = time.time()\n",
    "        #dwelling_id = file_paths[i][-15:-4]\n",
    "        dwelling_id = file_paths[i][-15:-4]\n",
    "        print('Started iteration %s, processing dwelling_id: %s' % (i,dwelling_id))\n",
    "        \n",
    "        smart, gas = clean_prepare_smart_gas(file_paths[i])\n",
    "        smart_resampled, gas_resampled = resample_smart_gas(smart, gas)\n",
    "        df = merge_smart_gas_weather(smart_resampled, gas_resampled, weather)\n",
    "        save_df(df, dwelling_id)\n",
    "        t2 = time.time()\n",
    "        print('Finished iteration %s in %.1f [s], Finished processing dwelling_id: %s, ' % (i,(t2-t1), dwelling_id))\n",
    "        print('-----')"
   ]
  },
  {
   "cell_type": "markdown",
   "metadata": {},
   "source": [
    "# Importing weather plus getting the smartmeter file paths"
   ]
  },
  {
   "cell_type": "code",
   "execution_count": 9,
   "metadata": {},
   "outputs": [],
   "source": [
    "weather=pd.read_csv('//datc//opschaler//weather_data//weather.csv',delimiter='\\t',comment='#',parse_dates=['datetime'])\n",
    "weather=weather.set_index(['datetime'])"
   ]
  },
  {
   "cell_type": "code",
   "execution_count": null,
   "metadata": {},
   "outputs": [],
   "source": [
    "path='/datc/opschaler/smartmeter_data'\n",
    "file_paths = glob.glob(path + \"/*.csv\")"
   ]
  },
  {
   "cell_type": "markdown",
   "metadata": {},
   "source": [
    "# Run main()\n",
    "Warning!  \n",
    "Running main() on 2 raw smartmeter dataframes takes 1,5 minutes.  \n",
    "This will give a run-time of 45 - 60 minutes when there are 61 raw smartmeter dataframes."
   ]
  },
  {
   "cell_type": "code",
   "execution_count": null,
   "metadata": {
    "scrolled": true
   },
   "outputs": [
    {
     "name": "stdout",
     "output_type": "stream",
     "text": [
      "Detected 61 raw smartmeter files.\n",
      "Started iteration 0, processing dwelling_id: P01S01W5855\n",
      "Saved P01S01W5855\n",
      "Finished iteration 0 in 94.8 [s], Finished processing dwelling_id: P01S01W5855, \n",
      "-----\n",
      "Started iteration 1, processing dwelling_id: P01S01W3497\n",
      "Saved P01S01W3497\n",
      "Finished iteration 1 in 96.5 [s], Finished processing dwelling_id: P01S01W3497, \n",
      "-----\n",
      "Started iteration 2, processing dwelling_id: P01S02W5065\n",
      "Saved P01S02W5065\n",
      "Finished iteration 2 in 137.6 [s], Finished processing dwelling_id: P01S02W5065, \n",
      "-----\n",
      "Started iteration 3, processing dwelling_id: P01S01W5040\n",
      "Saved P01S01W5040\n",
      "Finished iteration 3 in 99.0 [s], Finished processing dwelling_id: P01S01W5040, \n",
      "-----\n",
      "Started iteration 4, processing dwelling_id: P01S01W4569\n",
      "Saved P01S01W4569\n",
      "Finished iteration 4 in 97.0 [s], Finished processing dwelling_id: P01S01W4569, \n",
      "-----\n",
      "Started iteration 5, processing dwelling_id: P01S01W8239\n",
      "Saved P01S01W8239\n",
      "Finished iteration 5 in 97.7 [s], Finished processing dwelling_id: P01S01W8239, \n",
      "-----\n",
      "Started iteration 6, processing dwelling_id: P01S01W8655\n",
      "Saved P01S01W8655\n",
      "Finished iteration 6 in 248.4 [s], Finished processing dwelling_id: P01S01W8655, \n",
      "-----\n",
      "Started iteration 7, processing dwelling_id: P01S01W7071\n",
      "Saved P01S01W7071\n",
      "Finished iteration 7 in 102.3 [s], Finished processing dwelling_id: P01S01W7071, \n",
      "-----\n",
      "Started iteration 8, processing dwelling_id: P01S01W4091\n",
      "Saved P01S01W4091\n",
      "Finished iteration 8 in 112.8 [s], Finished processing dwelling_id: P01S01W4091, \n",
      "-----\n",
      "Started iteration 9, processing dwelling_id: P01S01W7548\n",
      "Saved P01S01W7548\n",
      "Finished iteration 9 in 97.7 [s], Finished processing dwelling_id: P01S01W7548, \n",
      "-----\n",
      "Started iteration 10, processing dwelling_id: P01S01W5339\n",
      "Saved P01S01W5339\n",
      "Finished iteration 10 in 218.2 [s], Finished processing dwelling_id: P01S01W5339, \n",
      "-----\n",
      "Started iteration 11, processing dwelling_id: P01S01W4313\n",
      "Saved P01S01W4313\n",
      "Finished iteration 11 in 34.0 [s], Finished processing dwelling_id: P01S01W4313, \n",
      "-----\n",
      "Started iteration 12, processing dwelling_id: P01S01W7042\n",
      "Saved P01S01W7042\n",
      "Finished iteration 12 in 45.3 [s], Finished processing dwelling_id: P01S01W7042, \n",
      "-----\n",
      "Started iteration 13, processing dwelling_id: P01S01W6495\n",
      "Saved P01S01W6495\n",
      "Finished iteration 13 in 241.1 [s], Finished processing dwelling_id: P01S01W6495, \n",
      "-----\n",
      "Started iteration 14, processing dwelling_id: P01S02W4953\n",
      "Saved P01S02W4953\n",
      "Finished iteration 14 in 142.8 [s], Finished processing dwelling_id: P01S02W4953, \n",
      "-----\n",
      "Started iteration 15, processing dwelling_id: P01S01W6835\n",
      "Saved P01S01W6835\n",
      "Finished iteration 15 in 94.2 [s], Finished processing dwelling_id: P01S01W6835, \n",
      "-----\n",
      "Started iteration 16, processing dwelling_id: P01S01W4979\n"
     ]
    }
   ],
   "source": [
    "print('Detected %s raw smartmeter files.' % len(file_paths))\n",
    "\n",
    "t3 = time.time()\n",
    "main()\n",
    "t4 = time.time()\n",
    "\n",
    "print('-----Finished in %s [s]-----' % (t4-t3))"
   ]
  },
  {
   "cell_type": "code",
   "execution_count": null,
   "metadata": {},
   "outputs": [],
   "source": []
  }
 ],
 "metadata": {
  "kernelspec": {
   "display_name": "Python 3",
   "language": "python",
   "name": "python3"
  },
  "language_info": {
   "codemirror_mode": {
    "name": "ipython",
    "version": 3
   },
   "file_extension": ".py",
   "mimetype": "text/x-python",
   "name": "python",
   "nbconvert_exporter": "python",
   "pygments_lexer": "ipython3",
   "version": "3.6.1"
  }
 },
 "nbformat": 4,
 "nbformat_minor": 2
}
