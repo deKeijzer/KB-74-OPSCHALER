{
 "cells": [
  {
   "cell_type": "raw",
   "metadata": {},
   "source": [
    "This notebook reads in the sensor data and combines it into one df per dwelling.   \n",
    "\n",
    "Information given by Opschaler:\n",
    "\n",
    "Field description not yet available; see below for remarksFile description: One directory per dwelling with dwelling ID as name. One data file per sensor and per day.Sensor name has format 1DCxxx, where x is a hexadecimal digit.Name of  Location of sensoris listed in Honeywell serial to room.xlsxfor now.Data description: CO2 in ppm, T in degrees Centigrade, rh in % (255 for bathroom rh is an error). PIR is presence: 0 is no registration in past 5 minutes, 1 is someone present in last 5 minutes, 242 and 255 are error codes.\n",
    "\n",
    "# TODO: Convert serial data to room type"
   ]
  },
  {
   "cell_type": "markdown",
   "metadata": {},
   "source": [
    "The sensordata contains error as numbers:  \n",
    "For 'HumidityBathroom'  \n",
    "    - 255 'no connection'  \n",
    "    - 242 'connection error'\n",
    "  \n",
    "For 'VentilationLevel'  \n",
    "    - 255 'not used'  \n",
    "\n",
    "For 'Presence':    \n",
    "    - 255 'no connection'  \n",
    "    - 242 'connection error'\n",
    "   "
   ]
  },
  {
   "cell_type": "markdown",
   "metadata": {},
   "source": [
    "# Imports"
   ]
  },
  {
   "cell_type": "code",
   "execution_count": 1,
   "metadata": {},
   "outputs": [],
   "source": [
    "import pandas as pd\n",
    "import numpy as np\n",
    "import glob\n",
    "\n",
    "from tqdm import tqdm\n",
    "\n",
    "%matplotlib inline"
   ]
  },
  {
   "cell_type": "markdown",
   "metadata": {},
   "source": [
    "Manually change 'Honeywell_season_01' to 'Honeywell_season_01_02' so both honeywell folders are processed.  \n",
    "Could also make a loop for this, to iterate over the 2 different honeywell.  "
   ]
  },
  {
   "cell_type": "code",
   "execution_count": 6,
   "metadata": {},
   "outputs": [],
   "source": [
    "# The Honeywell_season_01 data\n",
    "path = \"/datc/opschaler/Honeywell_season_01_02\"\n",
    "sub_dirs = np.array(glob.glob(path + \"/*\")) # Get location to all subdirectories\n",
    "dwellings = np.array(list((map(lambda x: x[-11:], sub_dirs))))"
   ]
  },
  {
   "cell_type": "code",
   "execution_count": 3,
   "metadata": {},
   "outputs": [],
   "source": [
    "# Next thing to do is to iterate over each dwelling and combine all its available data from within the sub directories.\n",
    "\n",
    "final_dfs = []"
   ]
  },
  {
   "cell_type": "code",
   "execution_count": 7,
   "metadata": {},
   "outputs": [
    {
     "name": "stderr",
     "output_type": "stream",
     "text": [
      "100%|██████████| 16/16 [03:22<00:00, 10.89s/it]\n"
     ]
    }
   ],
   "source": [
    "for i, sub_dir in enumerate(tqdm(sub_dirs)):\n",
    "    # Select a sub dir and get all the available files\n",
    "    sub_dir = sub_dirs[i]\n",
    "    dwelling = dwellings[i]\n",
    "\n",
    "    # All the datalog files from the selected dwelling\n",
    "    files = glob.glob(sub_dir +\"/datalogFile_******_201*.csv\")\n",
    "    \n",
    "    dfs = []\n",
    "    \n",
    "    # Read all the files in the selected sub dir, append to a list\n",
    "    for file in files:\n",
    "        df = pd.read_csv(file, delimiter=';', parse_dates=['Timestamp'])\n",
    "        dfs.append(df)\n",
    "        \n",
    "    # Concatenate the dfs list into one df. \n",
    "    # Original sample rate is 5 minutes.\n",
    "    data = pd.concat(dfs)\n",
    "    data = data.rename(columns={'Timestamp': 'datetime'})\n",
    "    data = data.set_index(['datetime'])\n",
    "\n",
    "    # Resample to original samplerate so not registered timestamps appear\n",
    "    data = data.resample('5T').mean()\n",
    "    \n",
    "    # Replace the 255 and 242 values with NaNs in the respective columns.\n",
    "    data[['HumidityBathRoom', 'VentilationLevel', 'Presence']] = data[['HumidityBathRoom', 'VentilationLevel', 'Presence']].replace({255:np.nan, 242:np.nan})\n",
    "    data['dwelling'] = dwelling\n",
    "    \n",
    "    final_dfs.append(data)\n",
    "    #data.to_csv('/datc/opschaler/honeywell_sensors_per_dwelling_combined/'+dwelling+'.csv', sep='\\t', index=True)"
   ]
  },
  {
   "cell_type": "code",
   "execution_count": 9,
   "metadata": {},
   "outputs": [
    {
     "name": "stderr",
     "output_type": "stream",
     "text": [
      "/opt/jupyterhub/anaconda/lib/python3.6/site-packages/ipykernel_launcher.py:1: FutureWarning: Sorting because non-concatenation axis is not aligned. A future version\n",
      "of pandas will change to not sort by default.\n",
      "\n",
      "To accept the future behavior, pass 'sort=False'.\n",
      "\n",
      "To retain the current behavior and silence the warning, pass 'sort=True'.\n",
      "\n",
      "  \"\"\"Entry point for launching an IPython kernel.\n"
     ]
    },
    {
     "name": "stdout",
     "output_type": "stream",
     "text": [
      "<class 'pandas.core.frame.DataFrame'>\n",
      "DatetimeIndex: 4305116 entries, 2017-01-04 00:00:00 to 2017-12-13 23:50:00\n",
      "Data columns (total 7 columns):\n",
      "Co2Value            float64\n",
      "Humidity            float64\n",
      "HumidityBathRoom    float64\n",
      "Presence            float64\n",
      "RoomTemp            float64\n",
      "VentilationLevel    float64\n",
      "dwelling            object\n",
      "dtypes: float64(6), object(1)\n",
      "memory usage: 262.8+ MB\n"
     ]
    }
   ],
   "source": [
    "final_df = pd.concat(final_dfs)\n",
    "final_df"
   ]
  },
  {
   "cell_type": "code",
   "execution_count": 11,
   "metadata": {},
   "outputs": [],
   "source": [
    "final_df.to_csv('/datc/opschaler/honeywell_sensors_per_dwelling_combined/honeywell_all_dwellings_combined.csv', sep='\\t', index=True)"
   ]
  },
  {
   "cell_type": "code",
   "execution_count": null,
   "metadata": {},
   "outputs": [],
   "source": []
  }
 ],
 "metadata": {
  "kernelspec": {
   "display_name": "Python 3",
   "language": "python",
   "name": "python3"
  },
  "language_info": {
   "codemirror_mode": {
    "name": "ipython",
    "version": 3
   },
   "file_extension": ".py",
   "mimetype": "text/x-python",
   "name": "python",
   "nbconvert_exporter": "python",
   "pygments_lexer": "ipython3",
   "version": "3.6.6"
  }
 },
 "nbformat": 4,
 "nbformat_minor": 2
}
