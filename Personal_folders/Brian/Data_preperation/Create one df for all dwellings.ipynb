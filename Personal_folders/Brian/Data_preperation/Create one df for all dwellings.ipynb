{
 "cells": [
  {
   "cell_type": "code",
   "execution_count": 9,
   "metadata": {},
   "outputs": [],
   "source": [
    "# Imports\n",
    "import numpy as np\n",
    "import glob\n",
    "import pandas as pd\n",
    "\n",
    "from dask.distributed import Client, LocalCluster\n",
    "from dask import delayed"
   ]
  },
  {
   "cell_type": "code",
   "execution_count": 10,
   "metadata": {},
   "outputs": [],
   "source": [
    "# Initialize Dask"
   ]
  },
  {
   "cell_type": "code",
   "execution_count": 11,
   "metadata": {},
   "outputs": [],
   "source": [
    "cluster = LocalCluster(processes=False, n_workers=1)\n",
    "client = Client(cluster, processes=True)"
   ]
  },
  {
   "cell_type": "code",
   "execution_count": 12,
   "metadata": {},
   "outputs": [
    {
     "data": {
      "text/html": [
       "<table style=\"border: 2px solid white;\">\n",
       "<tr>\n",
       "<td style=\"vertical-align: top; border: 0px solid white\">\n",
       "<h3>Client</h3>\n",
       "<ul>\n",
       "  <li><b>Scheduler: </b>inproc://145.52.252.19/117193/1\n",
       "  <li><b>Dashboard: </b><a href='http://localhost:8787/status' target='_blank'>http://localhost:8787/status</a>\n",
       "</ul>\n",
       "</td>\n",
       "<td style=\"vertical-align: top; border: 0px solid white\">\n",
       "<h3>Cluster</h3>\n",
       "<ul>\n",
       "  <li><b>Workers: </b>1</li>\n",
       "  <li><b>Cores: </b>48</li>\n",
       "  <li><b>Memory: </b>67.18 GB</li>\n",
       "</ul>\n",
       "</td>\n",
       "</tr>\n",
       "</table>"
      ],
      "text/plain": [
       "<Client: scheduler='inproc://145.52.252.19/117193/1' processes=1 cores=48>"
      ]
     },
     "execution_count": 12,
     "metadata": {},
     "output_type": "execute_result"
    }
   ],
   "source": [
    "client"
   ]
  },
  {
   "cell_type": "markdown",
   "metadata": {},
   "source": [
    "# Defining functions"
   ]
  },
  {
   "cell_type": "code",
   "execution_count": 13,
   "metadata": {},
   "outputs": [],
   "source": [
    "def smartmeter_data(sample_rate, unprocessed=True):\n",
    "    \"\"\"\n",
    "    Reads in the file paths and dwelling id's of the combined smartmeter data.\n",
    "    :return: file_paths, dwelling_ids, both as lists.\n",
    "    \"\"\"\n",
    "    path = '//datc//opschaler//combined_gas_smart_weather_dfs//'\n",
    "    folder = 'processed//'\n",
    "    subscript = '_hour'\n",
    "    \n",
    "    if unprocessed:\n",
    "        folder = 'unprocessed//'\n",
    "    if sample_rate == '10s':\n",
    "        subscript = '_10s'\n",
    "        \n",
    "    complete_path = path+folder+'*'+subscript+\".csv\"\n",
    "    file_paths = np.array(glob.glob(complete_path))\n",
    "\n",
    "    print('complete_path: '+complete_path)\n",
    "    print('Detected %s smartmeter_data files.' % len(file_paths))\n",
    "    \n",
    "    dwelling_ids = np.array(list((map(lambda x: x[-20:-9], file_paths)))) # hour ids slicing\n",
    "    \n",
    "    if sample_rate == '10s':\n",
    "        dwelling_ids = np.array(list((map(lambda x: x[-16:-8], file_paths)))) # 10s ids slicing\n",
    "    \n",
    "    \n",
    "    return file_paths, dwelling_ids\n",
    "\n",
    "\n",
    "def read_combined_df(path, dwelling_id):\n",
    "    df = pd.read_csv(path, delimiter='\\t', parse_dates=['datetime'])\n",
    "    df = df.set_index(['datetime'])\n",
    "    df = df.astype('float32')\n",
    "    df['dwelling'] = str(dwelling_id)\n",
    "    #df.dwelling = df.dwelling.astype(str)\n",
    "    return df"
   ]
  },
  {
   "cell_type": "code",
   "execution_count": 14,
   "metadata": {},
   "outputs": [
    {
     "name": "stdout",
     "output_type": "stream",
     "text": [
      "complete_path: //datc//opschaler//combined_gas_smart_weather_dfs//unprocessed//*_10s.csv\n",
      "Detected 56 smartmeter_data files.\n"
     ]
    }
   ],
   "source": [
    "paths, dwelling_ids = smartmeter_data('10s')"
   ]
  },
  {
   "cell_type": "code",
   "execution_count": 15,
   "metadata": {},
   "outputs": [],
   "source": [
    "def use_dask(paths, dwelling_ids):\n",
    "    dfs_hour = []\n",
    "\n",
    "    for i, path in enumerate(paths):\n",
    "        dwelling_id = dwelling_ids[i]\n",
    "        df = delayed(read_combined_df)(path, dwelling_id)\n",
    "        dfs_hour.append(df)\n",
    "    \n",
    "    dfs_hour_computed = client.compute(dfs_hour)\n",
    "    \n",
    "    results = []\n",
    "    for result in dfs_hour_computed:\n",
    "        result.append(result.result())\n",
    "        \n",
    "    final_df = pd.concat(t)\n",
    "    \n",
    "    return final_df"
   ]
  },
  {
   "cell_type": "code",
   "execution_count": 18,
   "metadata": {},
   "outputs": [],
   "source": [
    "def not_dask(paths, dwelling_ids):\n",
    "    dfs_hour = []\n",
    "\n",
    "    for i, path in enumerate(paths):\n",
    "        dwelling_id = dwelling_ids[i]\n",
    "        df = read_combined_df(path, dwelling_id)\n",
    "        dfs_hour.append(df)\n",
    "        \n",
    "    final_df = pd.concat(dfs_hour)\n",
    "    \n",
    "    return final_df"
   ]
  },
  {
   "cell_type": "code",
   "execution_count": 19,
   "metadata": {},
   "outputs": [
    {
     "name": "stdout",
     "output_type": "stream",
     "text": [
      "CPU times: user 2min 31s, sys: 23.3 s, total: 2min 54s\n",
      "Wall time: 2min 38s\n"
     ]
    }
   ],
   "source": [
    "%time a = not_dask(paths, dwelling_ids)"
   ]
  },
  {
   "cell_type": "code",
   "execution_count": null,
   "metadata": {},
   "outputs": [],
   "source": []
  },
  {
   "cell_type": "code",
   "execution_count": null,
   "metadata": {},
   "outputs": [],
   "source": [
    "final.info()"
   ]
  },
  {
   "cell_type": "code",
   "execution_count": null,
   "metadata": {},
   "outputs": [],
   "source": []
  }
 ],
 "metadata": {
  "kernelspec": {
   "display_name": "Python 3",
   "language": "python",
   "name": "python3"
  },
  "language_info": {
   "codemirror_mode": {
    "name": "ipython",
    "version": 3
   },
   "file_extension": ".py",
   "mimetype": "text/x-python",
   "name": "python",
   "nbconvert_exporter": "python",
   "pygments_lexer": "ipython3",
   "version": "3.6.6"
  }
 },
 "nbformat": 4,
 "nbformat_minor": 2
}
