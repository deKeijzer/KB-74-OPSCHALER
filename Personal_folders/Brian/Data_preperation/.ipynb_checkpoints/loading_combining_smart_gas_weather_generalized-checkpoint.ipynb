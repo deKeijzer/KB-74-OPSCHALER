{
 "cells": [
  {
   "cell_type": "code",
   "execution_count": null,
   "metadata": {},
   "outputs": [],
   "source": [
    "import pandas as pd\n",
    "import numpy as np\n",
    "import glob"
   ]
  },
  {
   "cell_type": "code",
   "execution_count": null,
   "metadata": {},
   "outputs": [],
   "source": []
  },
  {
   "cell_type": "code",
   "execution_count": 5,
   "metadata": {},
   "outputs": [],
   "source": [
    "def clean_datetime(df):\n",
    "    \"\"\"\n",
    "    Input should be a df with a column called 'datetime'.\n",
    "    This function checks wether a row in the df.datetime column can be parsed to a pandas datetime object,\n",
    "    by trying pd.to_datetime() on it.\n",
    "    If it fails it will replace that row with np.nan().\n",
    "    Finally this function will return the df with the NaN rows dropped.\n",
    "    It only drops the row if the datetime column contains a NaN.\n",
    "    \"\"\"\n",
    "    for i in range(len(df)):\n",
    "        try:\n",
    "            pd.to_datetime(df.datetime[i])\n",
    "        except ValueError:\n",
    "            print('-----')\n",
    "            print('ValueError at index = %s' % i)\n",
    "            print(df.datetime[i])\n",
    "            df.datetime = df.datetime.replace(df.datetime[i], np.nan)\n",
    "    df = df.dropna(subset = ['datetime'])\n",
    "    return df"
   ]
  },
  {
   "cell_type": "code",
   "execution_count": 22,
   "metadata": {},
   "outputs": [],
   "source": [
    "def clean_prepare_smart_gas(file_path):\n",
    "    \"\"\"\n",
    "    Input is a dwelling_id.csv file.\n",
    "    Output are cleaned & prepared dataframes (smart, gas).\n",
    "    Return: smart, gas\n",
    "    \"\"\"\n",
    "    df = pd.read_csv(file_path, delimiter=';', header=0)\n",
    "    smart = df.iloc[:,:7]\n",
    "    gas = df.iloc[:,7:]\n",
    "    \n",
    "    smart = smart.rename(index=str,columns={\"Timestamp\":\"datetime\"})\n",
    "    gas = gas.rename(index=str,columns={\"gasTimestamp\":\"datetime\"})\n",
    "\n",
    "    smart = clean_datetime(smart)\n",
    "    gas = clean_datetime(gas)\n",
    "    \n",
    "    smart['datetime'] = pd.to_datetime(smart['datetime'])\n",
    "    gas['datetime'] = pd.to_datetime(gas['datetime'])\n",
    "\n",
    "    \n",
    "    smart = smart.set_index(['datetime'])\n",
    "    gas = gas.set_index(['datetime'])\n",
    "\n",
    "    return smart, gas"
   ]
  },
  {
   "cell_type": "code",
   "execution_count": 26,
   "metadata": {},
   "outputs": [],
   "source": [
    "def resample_smart_gas(smart, gas):\n",
    "    \"\"\"\n",
    "    Resamples the (smart, gas) dfs to 10s.\n",
    "    Also calculates gasPower. \n",
    "    Returns (smart_resampled, gas_resampled)\n",
    "    \"\"\"\n",
    "    smart_resampled = smart.resample('10s').mean()\n",
    "    \n",
    "    gas_resampled = gas.resample('H').mean()\n",
    "    # replace 0s with NaNs\n",
    "    gas_resampled = gas_resampled.resample('10s').interpolate(method='time')\n",
    "    gas_resampled['gasPower'] = gas_resampled['gasMeter'].diff()\n",
    "    \n",
    "    return smart_resampled, gas_resampled"
   ]
  },
  {
   "cell_type": "code",
   "execution_count": 27,
   "metadata": {},
   "outputs": [],
   "source": [
    "def merge_smart_gas_weather(smart_resampled, gas_resampled, weather):\n",
    "    \"\"\"\n",
    "    Merges the dataframes, outputs one df.\n",
    "    \"\"\"\n",
    "    df = pd.merge(smart, gas, left_index=True, right_index=True)\n",
    "    df = pd.merge(df, weather, left_index=True, right_index=True)\n",
    "    \n",
    "    return df"
   ]
  },
  {
   "cell_type": "code",
   "execution_count": 42,
   "metadata": {},
   "outputs": [],
   "source": [
    "def save_df(df, dwelling_id):\n",
    "    dir = '//datc//opschaler//combined_dfs_gas_smart_weather//'\n",
    "    df.to_csv(dir+dwelling_id+'_merged_gas_smart_weather.csv', sep='\\t', index=True)\n",
    "    print('Saved %s' % dwelling_id)"
   ]
  },
  {
   "cell_type": "code",
   "execution_count": null,
   "metadata": {},
   "outputs": [],
   "source": [
    "def main():\n",
    "    for i,file_path in enumerate(file_paths):\n",
    "        dwelling_id = file_paths[i][-15:-4]\n",
    "        smart, gas = clean_prepare_smart_gas(file_paths[i])\n",
    "        smart_resampled, gas_resampled = resample_smart_gas(smart, gas)\n",
    "        df = merge_smart_gas_weather(smart_resampled, gas_resampled, weather)\n",
    "        print('Finished iteration: %s' % i)"
   ]
  },
  {
   "cell_type": "code",
   "execution_count": null,
   "metadata": {},
   "outputs": [],
   "source": []
  },
  {
   "cell_type": "code",
   "execution_count": null,
   "metadata": {},
   "outputs": [],
   "source": [
    "weather=pd.read_csv('//datc//opschaler//weather_data//weather.csv',delimiter='\\t',comment='#',parse_dates=['datetime'])\n",
    "weather=weather.set_index(['datetime'])"
   ]
  },
  {
   "cell_type": "code",
   "execution_count": 52,
   "metadata": {},
   "outputs": [
    {
     "data": {
      "text/plain": [
       "['/datc/opschaler/smartmeter_data/P02S01W0998.csv',\n",
       " '/datc/opschaler/smartmeter_data/P01S01W0373.csv']"
      ]
     },
     "execution_count": 52,
     "metadata": {},
     "output_type": "execute_result"
    }
   ],
   "source": [
    "path='/datc/opschaler/smartmeter_data'\n",
    "file_paths = glob.glob(path + \"/*.csv\")\n",
    "\n",
    "file_paths = file_paths[:2]\n",
    "file_paths"
   ]
  },
  {
   "cell_type": "code",
   "execution_count": null,
   "metadata": {},
   "outputs": [],
   "source": []
  },
  {
   "cell_type": "code",
   "execution_count": 53,
   "metadata": {},
   "outputs": [],
   "source": [
    "def main():\n",
    "    for i,file_path in enumerate(file_paths):\n",
    "        dwelling_id = file_paths[i][-15:-4]\n",
    "        smart, gas = clean_prepare_smart_gas(file_paths[i])\n",
    "        smart_resampled, gas_resampled = resample_smart_gas(smart, gas)\n",
    "        df = merge_smart_gas_weather(smart_resampled, gas_resampled, weather)\n",
    "        print('Finished iteration: %s' % i)"
   ]
  },
  {
   "cell_type": "code",
   "execution_count": null,
   "metadata": {},
   "outputs": [
    {
     "name": "stdout",
     "output_type": "stream",
     "text": [
      "Finished iteration: 0\n"
     ]
    }
   ],
   "source": [
    "%timeit main()"
   ]
  },
  {
   "cell_type": "code",
   "execution_count": null,
   "metadata": {},
   "outputs": [],
   "source": []
  },
  {
   "cell_type": "code",
   "execution_count": null,
   "metadata": {},
   "outputs": [],
   "source": []
  }
 ],
 "metadata": {
  "kernelspec": {
   "display_name": "Python 3",
   "language": "python",
   "name": "python3"
  },
  "language_info": {
   "codemirror_mode": {
    "name": "ipython",
    "version": 3
   },
   "file_extension": ".py",
   "mimetype": "text/x-python",
   "name": "python",
   "nbconvert_exporter": "python",
   "pygments_lexer": "ipython3",
   "version": "3.6.1"
  }
 },
 "nbformat": 4,
 "nbformat_minor": 2
}
