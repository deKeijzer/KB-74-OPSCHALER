{
 "cells": [
  {
   "cell_type": "markdown",
   "metadata": {},
   "source": [
    "# README\n",
    "\n",
    "This notebook reads in the raw smartmeter output files located in `//datc//opschaler//smartmeter_data//*.csv`.  \n",
    "It processes this data to clean and prepare it for EDA.  \n",
    "Finally it combines this data per house with the weather data located at `//datc//opschaler//weather_data//weather.csv`.  \n",
    "The final dataframes are saved in `//datc//opschaler//combined_dfs_gas_smart_weather//dwelling_id.csv`.\n",
    "\n",
    "TODO: \n",
    "* Remove 0's from gasMeter column.\n",
    "* Save the amount of NaNs (including how many are behind each other) per column in one Excel file for all houses.\n",
    "\n",
    "## Step by step instruction of the notebook\n",
    "* Load in the weather dataframe.\n",
    "* Get a file_paths list of all the smartmeter_data files.\n",
    "* Iterate over this list with main(), doing the following:\n",
    "\n",
    "* clean_datetime: Remove non-datetime rows from the datetime column.\n",
    "* clean_prepare_smart_gas: Split smartmeter data into smart (=electricity) and a gas dataframe, plus prepare them for upsampling.\n",
    "* resample_smart_gas: Resample smart and gas to have the same datetime index.\n",
    "* merge_smart_gas_weather: Merge the three dataframes together\n",
    "* save_df: save the final dataframe\n",
    "\n",
    "## Warning\n",
    "Running main() with 61 raw smartmeter data files has been estimated to take 45-60 minutes."
   ]
  },
  {
   "cell_type": "markdown",
   "metadata": {},
   "source": [
    "# Basic imports"
   ]
  },
  {
   "cell_type": "code",
   "execution_count": 1,
   "metadata": {},
   "outputs": [],
   "source": [
    "import pandas as pd\n",
    "import numpy as np\n",
    "import glob\n",
    "import time"
   ]
  },
  {
   "cell_type": "markdown",
   "metadata": {},
   "source": [
    "# Defining functions"
   ]
  },
  {
   "cell_type": "code",
   "execution_count": 2,
   "metadata": {},
   "outputs": [],
   "source": [
    "def clean_datetime(df):\n",
    "    \"\"\"\n",
    "    Input should be a df with a column called 'datetime'.\n",
    "    This function checks wether a row in the df.datetime column can be parsed to a pandas datetime object,\n",
    "    by trying pd.to_datetime() on it.\n",
    "    If it fails it will replace that row with np.nan().\n",
    "    Finally this function will return the df with the NaN rows dropped.\n",
    "    It only drops the row if the datetime column contains a NaN.\n",
    "    \"\"\"\n",
    "    for i in range(len(df)):\n",
    "        try:\n",
    "            pd.to_datetime(df.datetime[i])\n",
    "        except ValueError:\n",
    "            print('-----')\n",
    "            print('ValueError at index = %s' % i)\n",
    "            print(df.datetime[i])\n",
    "            df.datetime = df.datetime.replace(df.datetime[i], np.nan)\n",
    "    df = df.dropna(subset = ['datetime'])\n",
    "    return df\n",
    "\n",
    "\n",
    "def clean_prepare_smart_gas(file_path):\n",
    "    \"\"\"\n",
    "    Input is a dwelling_id.csv file.\n",
    "    Output are cleaned & prepared dataframes (smart, gas).\n",
    "    Return: smart, gas\n",
    "    \"\"\"\n",
    "    df = pd.read_csv(file_path, delimiter=';', header=0)\n",
    "    smart = df.iloc[:,:7]\n",
    "    gas = df.iloc[:,7:]\n",
    "    \n",
    "    smart = smart.rename(index=str,columns={\"Timestamp\":\"datetime\"})\n",
    "    gas = gas.rename(index=str,columns={\"gasTimestamp\":\"datetime\"})\n",
    "\n",
    "    smart = clean_datetime(smart)\n",
    "    gas = clean_datetime(gas)\n",
    "    \n",
    "    smart['datetime'] = pd.to_datetime(smart['datetime'])\n",
    "    gas['datetime'] = pd.to_datetime(gas['datetime'])\n",
    "\n",
    "    \n",
    "    smart = smart.set_index(['datetime'])\n",
    "    gas = gas.set_index(['datetime'])\n",
    "\n",
    "    return smart, gas\n",
    "\n",
    "\n",
    "def resample_smart_gas(smart, gas):\n",
    "    \"\"\"\n",
    "    Resamples the (smart, gas) dfs to 10s.\n",
    "    Also calculates gasPower. \n",
    "    Returns (smart_resampled, gas_resampled)\n",
    "    \"\"\"\n",
    "    smart_resampled = smart.resample('10s').mean()\n",
    "    \n",
    "    gas_resampled = gas.resample('H').mean()\n",
    "    # replace 0s with NaNs\n",
    "    gas_resampled = gas_resampled.resample('10s').interpolate(method='time')\n",
    "    gas_resampled['gasPower'] = gas_resampled['gasMeter'].diff()\n",
    "    \n",
    "    return smart_resampled, gas_resampled\n",
    "\n",
    "\n",
    "def merge_smart_gas_weather(smart_resampled, gas_resampled, weather):\n",
    "    \"\"\"\n",
    "    Merges the dataframes, outputs one df.\n",
    "    \"\"\"\n",
    "    df = pd.merge(smart_resampled, gas_resampled, left_index=True, right_index=True)\n",
    "    df = pd.merge(df, weather, left_index=True, right_index=True)\n",
    "    \n",
    "    return df\n",
    "\n",
    "\n",
    "def save_df(df, dwelling_id):\n",
    "    dir = '//datc//opschaler//combined_dfs_gas_smart_weather//'\n",
    "    df.to_csv(dir+dwelling_id+'.csv', sep='\\t', index=True)\n",
    "    print('Saved %s' % dwelling_id)\n",
    "\n",
    "    \n",
    "def main():\n",
    "    for i,file_path in enumerate(file_paths):\n",
    "        t1 = time.time()\n",
    "        dwelling_id = file_paths[i][-15:-4]\n",
    "        print('Started iteration %s, processing dwelling_id: %s' % (i,dwelling_id))\n",
    "        \n",
    "        smart, gas = clean_prepare_smart_gas(file_paths[i])\n",
    "        smart_resampled, gas_resampled = resample_smart_gas(smart, gas)\n",
    "        df = merge_smart_gas_weather(smart_resampled, gas_resampled, weather)\n",
    "        save_df(df, dwelling_id)\n",
    "        t2 = time.time()\n",
    "        print('Finished iteration %s in %.1f [s], Finished processing dwelling_id: %s, ' % (i,(t2-t1), dwelling_id))\n",
    "        print('-----')"
   ]
  },
  {
   "cell_type": "markdown",
   "metadata": {},
   "source": [
    "# Importing weather plus getting the smartmeter file paths"
   ]
  },
  {
   "cell_type": "code",
   "execution_count": 3,
   "metadata": {},
   "outputs": [],
   "source": [
    "weather=pd.read_csv('//datc//opschaler//weather_data//weather.csv',delimiter='\\t',comment='#',parse_dates=['datetime'])\n",
    "weather=weather.set_index(['datetime'])"
   ]
  },
  {
   "cell_type": "code",
   "execution_count": 4,
   "metadata": {},
   "outputs": [],
   "source": [
    "path='/datc/opschaler/smartmeter_data'\n",
    "file_paths = glob.glob(path + \"/*.csv\")"
   ]
  },
  {
   "cell_type": "markdown",
   "metadata": {},
   "source": [
    "# Run main()\n",
    "Warning!  \n",
    "Running main() on 2 raw smartmeter dataframes takes 1,5 minutes.  \n",
    "This will give a run-time of 45 - 60 minutes when there are 61 raw smartmeter dataframes."
   ]
  },
  {
   "cell_type": "code",
   "execution_count": 5,
   "metadata": {
    "scrolled": true
   },
   "outputs": [
    {
     "name": "stdout",
     "output_type": "stream",
     "text": [
      "Detected 23 raw smartmeter files.\n",
      "Started iteration 0, processing dwelling_id: P01S02W6050\n",
      "Saved P01S02W6050\n",
      "Finished iteration 0 in 31.5 [s], Finished processing dwelling_id: P01S02W6050, \n",
      "-----\n",
      "Started iteration 1, processing dwelling_id: P02S01W0998\n",
      "Saved P02S01W0998\n",
      "Finished iteration 1 in 18.6 [s], Finished processing dwelling_id: P02S01W0998, \n",
      "-----\n",
      "Started iteration 2, processing dwelling_id: P01S02W7251\n",
      "-----\n",
      "ValueError at index = 170616\n",
      "<br />\n",
      "-----\n",
      "ValueError at index = 170617\n",
      "<b>Fatal error</b>:  Allowed memory size of 134217728 bytes exhausted (tried to allocate 32 bytes) in <b>D:\\wamp\\www\\opschaler\\downloaddata.php</b> on line <b>20</b><br />\n",
      "Saved P01S02W7251\n",
      "Finished iteration 2 in 32.7 [s], Finished processing dwelling_id: P01S02W7251, \n",
      "-----\n",
      "Started iteration 3, processing dwelling_id: P01S01W8239\n",
      "-----\n",
      "ValueError at index = 180725\n",
      "<br />\n",
      "-----\n",
      "ValueError at index = 180726\n",
      "<b>Fatal error</b>:  Allowed memory size of 134217728 bytes exhausted (tried to allocate 32 bytes) in <b>D:\\wamp\\www\\opschaler\\downloaddata.php</b> on line <b>20</b><br />\n",
      "Saved P01S01W8239\n",
      "Finished iteration 3 in 24.0 [s], Finished processing dwelling_id: P01S01W8239, \n",
      "-----\n",
      "Started iteration 4, processing dwelling_id: P01S02W4042\n",
      "-----\n",
      "ValueError at index = 78561\n",
      "<br />\n",
      "-----\n",
      "ValueError at index = 78562\n",
      "<b>Fatal error</b>:  Allowed memory size of 134217728 bytes exhausted (tried to allocate 32 bytes) in <b>D:\\wamp\\www\\opschaler\\downloaddata.php</b> on line <b>20</b><br />\n",
      "Saved P01S02W4042\n",
      "Finished iteration 4 in 41.8 [s], Finished processing dwelling_id: P01S02W4042, \n",
      "-----\n",
      "Started iteration 5, processing dwelling_id: P01S02W4827\n",
      "-----\n",
      "ValueError at index = 81119\n",
      "<br />\n",
      "-----\n",
      "ValueError at index = 81120\n",
      "<b>Fatal error</b>:  Allowed memory size of 134217728 bytes exhausted (tried to allocate 32 bytes) in <b>D:\\wamp\\www\\opschaler\\downloaddata.php</b> on line <b>20</b><br />\n",
      "Saved P01S02W4827\n",
      "Finished iteration 5 in 11.4 [s], Finished processing dwelling_id: P01S02W4827, \n",
      "-----\n",
      "Started iteration 6, processing dwelling_id: P01S02W4953\n",
      "-----\n",
      "ValueError at index = 119371\n",
      "<br />\n",
      "-----\n",
      "ValueError at index = 119372\n",
      "<b>Fatal error</b>:  Allowed memory size of 134217728 bytes exhausted (tried to allocate 32 bytes) in <b>D:\\wamp\\www\\opschaler\\downloaddata.php</b> on line <b>20</b><br />\n",
      "Saved P01S02W4953\n",
      "Finished iteration 6 in 16.9 [s], Finished processing dwelling_id: P01S02W4953, \n",
      "-----\n",
      "Started iteration 7, processing dwelling_id: P01S01W8828\n",
      "-----\n",
      "ValueError at index = 194944\n",
      "<br />\n",
      "-----\n",
      "ValueError at index = 194945\n",
      "<b>Fatal error</b>:  Allowed memory size of 134217728 bytes exhausted (tried to allocate 32 bytes) in <b>D:\\wamp\\www\\opschaler\\downloaddata.php</b> on line <b>20</b><br />\n"
     ]
    },
    {
     "ename": "KeyboardInterrupt",
     "evalue": "",
     "output_type": "error",
     "traceback": [
      "\u001b[0;31m---------------------------------------------------------------------------\u001b[0m",
      "\u001b[0;31mKeyboardInterrupt\u001b[0m                         Traceback (most recent call last)",
      "\u001b[0;32m<ipython-input-5-3296562487da>\u001b[0m in \u001b[0;36m<module>\u001b[0;34m()\u001b[0m\n\u001b[1;32m      1\u001b[0m \u001b[0mprint\u001b[0m\u001b[0;34m(\u001b[0m\u001b[0;34m'Detected %s raw smartmeter files.'\u001b[0m \u001b[0;34m%\u001b[0m \u001b[0mlen\u001b[0m\u001b[0;34m(\u001b[0m\u001b[0mfile_paths\u001b[0m\u001b[0;34m)\u001b[0m\u001b[0;34m)\u001b[0m\u001b[0;34m\u001b[0m\u001b[0m\n\u001b[1;32m      2\u001b[0m \u001b[0;34m\u001b[0m\u001b[0m\n\u001b[0;32m----> 3\u001b[0;31m \u001b[0mmain\u001b[0m\u001b[0;34m(\u001b[0m\u001b[0;34m)\u001b[0m\u001b[0;34m\u001b[0m\u001b[0m\n\u001b[0m\u001b[1;32m      4\u001b[0m \u001b[0;34m\u001b[0m\u001b[0m\n\u001b[1;32m      5\u001b[0m \u001b[0mprint\u001b[0m\u001b[0;34m(\u001b[0m\u001b[0;34m'-----FINISHED-----'\u001b[0m\u001b[0;34m)\u001b[0m\u001b[0;34m\u001b[0m\u001b[0m\n",
      "\u001b[0;32m<ipython-input-2-789dbd78e71b>\u001b[0m in \u001b[0;36mmain\u001b[0;34m()\u001b[0m\n\u001b[1;32m     84\u001b[0m         \u001b[0mprint\u001b[0m\u001b[0;34m(\u001b[0m\u001b[0;34m'Started iteration %s, processing dwelling_id: %s'\u001b[0m \u001b[0;34m%\u001b[0m \u001b[0;34m(\u001b[0m\u001b[0mi\u001b[0m\u001b[0;34m,\u001b[0m\u001b[0mdwelling_id\u001b[0m\u001b[0;34m)\u001b[0m\u001b[0;34m)\u001b[0m\u001b[0;34m\u001b[0m\u001b[0m\n\u001b[1;32m     85\u001b[0m \u001b[0;34m\u001b[0m\u001b[0m\n\u001b[0;32m---> 86\u001b[0;31m         \u001b[0msmart\u001b[0m\u001b[0;34m,\u001b[0m \u001b[0mgas\u001b[0m \u001b[0;34m=\u001b[0m \u001b[0mclean_prepare_smart_gas\u001b[0m\u001b[0;34m(\u001b[0m\u001b[0mfile_paths\u001b[0m\u001b[0;34m[\u001b[0m\u001b[0mi\u001b[0m\u001b[0;34m]\u001b[0m\u001b[0;34m)\u001b[0m\u001b[0;34m\u001b[0m\u001b[0m\n\u001b[0m\u001b[1;32m     87\u001b[0m         \u001b[0msmart_resampled\u001b[0m\u001b[0;34m,\u001b[0m \u001b[0mgas_resampled\u001b[0m \u001b[0;34m=\u001b[0m \u001b[0mresample_smart_gas\u001b[0m\u001b[0;34m(\u001b[0m\u001b[0msmart\u001b[0m\u001b[0;34m,\u001b[0m \u001b[0mgas\u001b[0m\u001b[0;34m)\u001b[0m\u001b[0;34m\u001b[0m\u001b[0m\n\u001b[1;32m     88\u001b[0m         \u001b[0mdf\u001b[0m \u001b[0;34m=\u001b[0m \u001b[0mmerge_smart_gas_weather\u001b[0m\u001b[0;34m(\u001b[0m\u001b[0msmart_resampled\u001b[0m\u001b[0;34m,\u001b[0m \u001b[0mgas_resampled\u001b[0m\u001b[0;34m,\u001b[0m \u001b[0mweather\u001b[0m\u001b[0;34m)\u001b[0m\u001b[0;34m\u001b[0m\u001b[0m\n",
      "\u001b[0;32m<ipython-input-2-789dbd78e71b>\u001b[0m in \u001b[0;36mclean_prepare_smart_gas\u001b[0;34m(file_path)\u001b[0m\n\u001b[1;32m     34\u001b[0m \u001b[0;34m\u001b[0m\u001b[0m\n\u001b[1;32m     35\u001b[0m     \u001b[0msmart\u001b[0m \u001b[0;34m=\u001b[0m \u001b[0mclean_datetime\u001b[0m\u001b[0;34m(\u001b[0m\u001b[0msmart\u001b[0m\u001b[0;34m)\u001b[0m\u001b[0;34m\u001b[0m\u001b[0m\n\u001b[0;32m---> 36\u001b[0;31m     \u001b[0mgas\u001b[0m \u001b[0;34m=\u001b[0m \u001b[0mclean_datetime\u001b[0m\u001b[0;34m(\u001b[0m\u001b[0mgas\u001b[0m\u001b[0;34m)\u001b[0m\u001b[0;34m\u001b[0m\u001b[0m\n\u001b[0m\u001b[1;32m     37\u001b[0m \u001b[0;34m\u001b[0m\u001b[0m\n\u001b[1;32m     38\u001b[0m     \u001b[0msmart\u001b[0m\u001b[0;34m[\u001b[0m\u001b[0;34m'datetime'\u001b[0m\u001b[0;34m]\u001b[0m \u001b[0;34m=\u001b[0m \u001b[0mpd\u001b[0m\u001b[0;34m.\u001b[0m\u001b[0mto_datetime\u001b[0m\u001b[0;34m(\u001b[0m\u001b[0msmart\u001b[0m\u001b[0;34m[\u001b[0m\u001b[0;34m'datetime'\u001b[0m\u001b[0;34m]\u001b[0m\u001b[0;34m)\u001b[0m\u001b[0;34m\u001b[0m\u001b[0m\n",
      "\u001b[0;32m<ipython-input-2-789dbd78e71b>\u001b[0m in \u001b[0;36mclean_datetime\u001b[0;34m(df)\u001b[0m\n\u001b[1;32m     10\u001b[0m     \u001b[0;32mfor\u001b[0m \u001b[0mi\u001b[0m \u001b[0;32min\u001b[0m \u001b[0mrange\u001b[0m\u001b[0;34m(\u001b[0m\u001b[0mlen\u001b[0m\u001b[0;34m(\u001b[0m\u001b[0mdf\u001b[0m\u001b[0;34m)\u001b[0m\u001b[0;34m)\u001b[0m\u001b[0;34m:\u001b[0m\u001b[0;34m\u001b[0m\u001b[0m\n\u001b[1;32m     11\u001b[0m         \u001b[0;32mtry\u001b[0m\u001b[0;34m:\u001b[0m\u001b[0;34m\u001b[0m\u001b[0m\n\u001b[0;32m---> 12\u001b[0;31m             \u001b[0mpd\u001b[0m\u001b[0;34m.\u001b[0m\u001b[0mto_datetime\u001b[0m\u001b[0;34m(\u001b[0m\u001b[0mdf\u001b[0m\u001b[0;34m.\u001b[0m\u001b[0mdatetime\u001b[0m\u001b[0;34m[\u001b[0m\u001b[0mi\u001b[0m\u001b[0;34m]\u001b[0m\u001b[0;34m)\u001b[0m\u001b[0;34m\u001b[0m\u001b[0m\n\u001b[0m\u001b[1;32m     13\u001b[0m         \u001b[0;32mexcept\u001b[0m \u001b[0mValueError\u001b[0m\u001b[0;34m:\u001b[0m\u001b[0;34m\u001b[0m\u001b[0m\n\u001b[1;32m     14\u001b[0m             \u001b[0mprint\u001b[0m\u001b[0;34m(\u001b[0m\u001b[0;34m'-----'\u001b[0m\u001b[0;34m)\u001b[0m\u001b[0;34m\u001b[0m\u001b[0m\n",
      "\u001b[0;32m/opt/jupyterhub/anaconda/lib/python3.6/site-packages/pandas/core/generic.py\u001b[0m in \u001b[0;36m__getattr__\u001b[0;34m(self, name)\u001b[0m\n\u001b[1;32m   2966\u001b[0m             \u001b[0;32mreturn\u001b[0m \u001b[0mobject\u001b[0m\u001b[0;34m.\u001b[0m\u001b[0m__getattribute__\u001b[0m\u001b[0;34m(\u001b[0m\u001b[0mself\u001b[0m\u001b[0;34m,\u001b[0m \u001b[0mname\u001b[0m\u001b[0;34m)\u001b[0m\u001b[0;34m\u001b[0m\u001b[0m\n\u001b[1;32m   2967\u001b[0m         \u001b[0;32melse\u001b[0m\u001b[0;34m:\u001b[0m\u001b[0;34m\u001b[0m\u001b[0m\n\u001b[0;32m-> 2968\u001b[0;31m             \u001b[0;32mif\u001b[0m \u001b[0mname\u001b[0m \u001b[0;32min\u001b[0m \u001b[0mself\u001b[0m\u001b[0;34m.\u001b[0m\u001b[0m_info_axis\u001b[0m\u001b[0;34m:\u001b[0m\u001b[0;34m\u001b[0m\u001b[0m\n\u001b[0m\u001b[1;32m   2969\u001b[0m                 \u001b[0;32mreturn\u001b[0m \u001b[0mself\u001b[0m\u001b[0;34m[\u001b[0m\u001b[0mname\u001b[0m\u001b[0;34m]\u001b[0m\u001b[0;34m\u001b[0m\u001b[0m\n\u001b[1;32m   2970\u001b[0m             \u001b[0;32mreturn\u001b[0m \u001b[0mobject\u001b[0m\u001b[0;34m.\u001b[0m\u001b[0m__getattribute__\u001b[0m\u001b[0;34m(\u001b[0m\u001b[0mself\u001b[0m\u001b[0;34m,\u001b[0m \u001b[0mname\u001b[0m\u001b[0;34m)\u001b[0m\u001b[0;34m\u001b[0m\u001b[0m\n",
      "\u001b[0;31mKeyboardInterrupt\u001b[0m: "
     ]
    }
   ],
   "source": [
    "print('Detected %s raw smartmeter files.' % len(file_paths))\n",
    "\n",
    "main()\n",
    "\n",
    "print('-----FINISHED-----')"
   ]
  },
  {
   "cell_type": "code",
   "execution_count": null,
   "metadata": {},
   "outputs": [],
   "source": []
  }
 ],
 "metadata": {
  "kernelspec": {
   "display_name": "Python 3",
   "language": "python",
   "name": "python3"
  },
  "language_info": {
   "codemirror_mode": {
    "name": "ipython",
    "version": 3
   },
   "file_extension": ".py",
   "mimetype": "text/x-python",
   "name": "python",
   "nbconvert_exporter": "python",
   "pygments_lexer": "ipython3",
   "version": "3.6.1"
  }
 },
 "nbformat": 4,
 "nbformat_minor": 2
}
