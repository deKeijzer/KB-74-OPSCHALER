{
 "cells": [
  {
   "cell_type": "raw",
   "metadata": {},
   "source": [
    "This notebook reads in the sensor data and combines it into one df per dwelling.   \n",
    "\n",
    "Information given by Opschaler:\n",
    "\n",
    "Field description not yet available; see below for remarksFile description: One directory per dwelling with dwelling ID as name. One data file per sensor and per day.Sensor name has format 1DCxxx, where x is a hexadecimal digit.Name of  Location of sensoris listed in Honeywell serial to room.xlsxfor now.Data description: CO2 in ppm, T in degrees Centigrade, rh in % (255 for bathroom rh is an error). PIR is presence: 0 is no registration in past 5 minutes, 1 is someone present in last 5 minutes, 242 and 255 are error codes.\n",
    "\n",
    "# TODO: Convert serial data to room type"
   ]
  },
  {
   "cell_type": "markdown",
   "metadata": {},
   "source": [
    "# Imports"
   ]
  },
  {
   "cell_type": "code",
   "execution_count": 88,
   "metadata": {},
   "outputs": [],
   "source": [
    "import pandas as pd\n",
    "import numpy as np\n",
    "import glob\n",
    "\n",
    "from tqdm import tqdm\n",
    "\n",
    "%matplotlib inline"
   ]
  },
  {
   "cell_type": "code",
   "execution_count": 55,
   "metadata": {},
   "outputs": [
    {
     "data": {
      "text/plain": [
       "array(['P01S01W6595', 'P01S01W3955', 'P01S01W7042', 'P01S01W7071',\n",
       "       'P01S01W4569', 'P01S01W1347', 'P01S01W8669', 'P01S01W0378',\n",
       "       'P01S01W7980', 'P01S01W8239', 'P01S01W6240', 'P01S01W9431',\n",
       "       'P01S01W5855', 'P01S01W5588', 'P01S01W6271', 'P01S01W8171',\n",
       "       'P01S01W6289', 'P01S01W4091', 'P01S01W4313', 'P01S01W6959',\n",
       "       'P01S01W5292', 'P01S01W0998', 'P01S01W4579', 'P01S01W4002',\n",
       "       'P01S01W8743', 'P01S01W7826', 'P01S01W8828', 'P01S01W0373',\n",
       "       'P01S01W9617', 'P01S01W6549', 'P01S01W1341', 'P01S01W5040',\n",
       "       'P01S01W1270', 'P01S01W5564', 'P01S01W4489', 'P01S01W4589',\n",
       "       'P01S01W3497', 'P01S01W7548', 'P01S01W1554', 'P01S01W2581',\n",
       "       'P01S01W3155', 'P01S01W6835', 'P01S01W4979', 'P01S01W5476',\n",
       "       'P01S01W5746'], dtype='<U11')"
      ]
     },
     "execution_count": 55,
     "metadata": {},
     "output_type": "execute_result"
    }
   ],
   "source": [
    "# Get available directories\n",
    "\n",
    "# The Honeywell_season_01 data\n",
    "path = \"/datc/opschaler/Honeywell_season_01\"\n",
    "sub_dirs = np.array(glob.glob(path + \"/*\")) # Get location to all subdirectories\n",
    "dwellings = np.array(list((map(lambda x: x[-11:], sub_dirs))))\n",
    "dwellings"
   ]
  },
  {
   "cell_type": "markdown",
   "metadata": {},
   "source": [
    "Next thing to do is to iterate over each dwelling and combine all its available data from within the sub directories."
   ]
  },
  {
   "cell_type": "code",
   "execution_count": 56,
   "metadata": {},
   "outputs": [
    {
     "name": "stdout",
     "output_type": "stream",
     "text": [
      "Selected dwelling: P01S01W6595 \n"
     ]
    },
    {
     "data": {
      "text/plain": [
       "['/datc/opschaler/Honeywell_season_01/P01S01W6595/datalogFile_1DC107_20170528_000.csv',\n",
       " '/datc/opschaler/Honeywell_season_01/P01S01W6595/datalogFile_1DC107_20170501_000.csv',\n",
       " '/datc/opschaler/Honeywell_season_01/P01S01W6595/datalogFile_1DC015_20170405_000.csv',\n",
       " '/datc/opschaler/Honeywell_season_01/P01S01W6595/datalogFile_1DC015_20170403_000.csv',\n",
       " '/datc/opschaler/Honeywell_season_01/P01S01W6595/datalogFile_1DC10F_20170515_000.csv']"
      ]
     },
     "execution_count": 56,
     "metadata": {},
     "output_type": "execute_result"
    }
   ],
   "source": [
    "# Select a sub dir and get all the available files\n",
    "\n",
    "sub_dir = sub_dirs[0]\n",
    "\n",
    "print(\"Selected dwelling: %s \" % dwelling)\n",
    "\n",
    "# All the datalog files from the selected dwelling\n",
    "files = glob.glob(sub_dir +\"/datalogFile*\")\n",
    "\n",
    "files[:5]"
   ]
  },
  {
   "cell_type": "code",
   "execution_count": 63,
   "metadata": {},
   "outputs": [],
   "source": [
    "dfs = []\n",
    "\n",
    "for file in files:\n",
    "    df = pd.read_csv(file, delimiter=';', parse_dates=['Timestamp'])\n",
    "    dfs.append(df)"
   ]
  },
  {
   "cell_type": "code",
   "execution_count": 80,
   "metadata": {},
   "outputs": [
    {
     "data": {
      "text/plain": [
       "Device              0\n",
       "Co2Value            0\n",
       "RoomTemp            0\n",
       "Humidity            0\n",
       "HumidityBathRoom    0\n",
       "VentilationLevel    0\n",
       "Presence            0\n",
       "dtype: int64"
      ]
     },
     "execution_count": 80,
     "metadata": {},
     "output_type": "execute_result"
    }
   ],
   "source": [
    "# Sample rate is 5 minutes\n",
    "data = pd.concat(dfs)\n",
    "data = data.rename(columns={'Timestamp': 'datetime'})\n",
    "data = data.set_index(['datetime'])\n",
    "\n",
    "# Check for NaNs\n",
    "data.isnull().sum()"
   ]
  },
  {
   "cell_type": "code",
   "execution_count": 84,
   "metadata": {},
   "outputs": [
    {
     "data": {
      "text/plain": [
       "Co2Value            71134\n",
       "RoomTemp            71134\n",
       "Humidity            71134\n",
       "HumidityBathRoom    71134\n",
       "VentilationLevel    71134\n",
       "Presence            71134\n",
       "dtype: int64"
      ]
     },
     "execution_count": 84,
     "metadata": {},
     "output_type": "execute_result"
    }
   ],
   "source": [
    "# Resample to original samplerate so not registered timestamps appear\n",
    "data = data.resample('5T').mean()\n",
    "\n",
    "data.isnull().sum()"
   ]
  },
  {
   "cell_type": "markdown",
   "metadata": {},
   "source": [
    "The sensordata contains error as numbers:  \n",
    "For 'HumidityBathroom'  \n",
    "    - 255 'no connection'  \n",
    "    - 242 'connection error'\n",
    "  \n",
    "For 'VentilationLevel'  \n",
    "    - 255 'not used'  \n",
    "\n",
    "For 'Presence':      \n",
    "    - 255 'no connection'  \n",
    "    - 242 'connection error'\n",
    "   "
   ]
  },
  {
   "cell_type": "code",
   "execution_count": 103,
   "metadata": {},
   "outputs": [],
   "source": [
    "# Replace the 255 and 242 values with NaNs in the respective columns.\n",
    "data[['HumidityBathRoom', 'VentilationLevel', 'Presence']] = data[['HumidityBathRoom', 'VentilationLevel', 'Presence']].replace({255:np.nan, 242:np.nan})"
   ]
  },
  {
   "cell_type": "code",
   "execution_count": null,
   "metadata": {},
   "outputs": [],
   "source": []
  }
 ],
 "metadata": {
  "kernelspec": {
   "display_name": "Python 3",
   "language": "python",
   "name": "python3"
  },
  "language_info": {
   "codemirror_mode": {
    "name": "ipython",
    "version": 3
   },
   "file_extension": ".py",
   "mimetype": "text/x-python",
   "name": "python",
   "nbconvert_exporter": "python",
   "pygments_lexer": "ipython3",
   "version": "3.6.6"
  }
 },
 "nbformat": 4,
 "nbformat_minor": 2
}
