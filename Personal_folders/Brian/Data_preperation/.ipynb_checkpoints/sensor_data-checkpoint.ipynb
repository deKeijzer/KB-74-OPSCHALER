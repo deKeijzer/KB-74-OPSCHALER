{
 "cells": [
  {
   "cell_type": "raw",
   "metadata": {},
   "source": [
    "This notebook reads in the sensor data and combines it into one df per dwelling.   \n",
    "\n",
    "Information given by Opschaler:\n",
    "\n",
    "Field description not yet available; see below for remarksFile description: One directory per dwelling with dwelling ID as name. One data file per sensor and per day.Sensor name has format 1DCxxx, where x is a hexadecimal digit.Name of  Location of sensoris listed in Honeywell serial to room.xlsxfor now.Data description: CO2 in ppm, T in degrees Centigrade, rh in % (255 for bathroom rh is an error). PIR is presence: 0 is no registration in past 5 minutes, 1 is someone present in last 5 minutes, 242 and 255 are error codes.\n",
    "\n",
    "# TODO: TO DO: Transform the df, see bottom of the notebook"
   ]
  },
  {
   "cell_type": "markdown",
   "metadata": {},
   "source": [
    "The sensordata contains error as numbers:  \n",
    "For 'HumidityBathroom'  \n",
    "    - 255 'no connection'  \n",
    "    - 242 'connection error'\n",
    "  \n",
    "For 'VentilationLevel'  \n",
    "    - 255 'not used'  \n",
    "\n",
    "For 'Presence':    \n",
    "    - 255 'no connection'  \n",
    "    - 242 'connection error'\n",
    "   "
   ]
  },
  {
   "cell_type": "markdown",
   "metadata": {},
   "source": [
    "# Imports"
   ]
  },
  {
   "cell_type": "code",
   "execution_count": 18,
   "metadata": {},
   "outputs": [],
   "source": [
    "import pandas as pd\n",
    "import numpy as np\n",
    "import glob\n",
    "\n",
    "from tqdm import tqdm\n",
    "\n",
    "%matplotlib inline"
   ]
  },
  {
   "cell_type": "markdown",
   "metadata": {},
   "source": [
    "Manually change 'Honeywell_season_01' to 'Honeywell_season_01_02' so both honeywell folders are processed.  \n",
    "Could also make a loop for this, to iterate over the 2 different honeywell.  "
   ]
  },
  {
   "cell_type": "code",
   "execution_count": 19,
   "metadata": {},
   "outputs": [],
   "source": [
    "# The Honeywell_season_01 data\n",
    "path = \"/datc/opschaler/Honeywell_season_01\"\n",
    "#path = \"/datc/opschaler/Honeywell_season_01_02\"\n",
    "sub_dirs = np.array(glob.glob(path + \"/*\")) # Get location to all subdirectories\n",
    "dwellings = np.array(list((map(lambda x: x[-11:], sub_dirs))))"
   ]
  },
  {
   "cell_type": "code",
   "execution_count": 20,
   "metadata": {},
   "outputs": [
    {
     "data": {
      "text/html": [
       "<div>\n",
       "<style scoped>\n",
       "    .dataframe tbody tr th:only-of-type {\n",
       "        vertical-align: middle;\n",
       "    }\n",
       "\n",
       "    .dataframe tbody tr th {\n",
       "        vertical-align: top;\n",
       "    }\n",
       "\n",
       "    .dataframe thead th {\n",
       "        text-align: right;\n",
       "    }\n",
       "</style>\n",
       "<table border=\"1\" class=\"dataframe\">\n",
       "  <thead>\n",
       "    <tr style=\"text-align: right;\">\n",
       "      <th></th>\n",
       "      <th>Living room</th>\n",
       "      <th>Kitchen</th>\n",
       "      <th>Bedroom 1</th>\n",
       "      <th>Bedroom 2</th>\n",
       "    </tr>\n",
       "  </thead>\n",
       "  <tbody>\n",
       "    <tr>\n",
       "      <th>0</th>\n",
       "      <td>1dc018</td>\n",
       "      <td>1dc00e</td>\n",
       "      <td>1dc012</td>\n",
       "      <td>1dc010</td>\n",
       "    </tr>\n",
       "    <tr>\n",
       "      <th>1</th>\n",
       "      <td>1dc029</td>\n",
       "      <td>1dc011</td>\n",
       "      <td>1dc019</td>\n",
       "      <td>1dc01b</td>\n",
       "    </tr>\n",
       "    <tr>\n",
       "      <th>2</th>\n",
       "      <td>1dc02c</td>\n",
       "      <td>1dc015</td>\n",
       "      <td>1dc01f</td>\n",
       "      <td>1dc024</td>\n",
       "    </tr>\n",
       "    <tr>\n",
       "      <th>3</th>\n",
       "      <td>1dc036</td>\n",
       "      <td>1dc01c</td>\n",
       "      <td>1dc026</td>\n",
       "      <td>1dc025</td>\n",
       "    </tr>\n",
       "    <tr>\n",
       "      <th>4</th>\n",
       "      <td>1dc03c</td>\n",
       "      <td>1dc021</td>\n",
       "      <td>1dc031</td>\n",
       "      <td>1dc027</td>\n",
       "    </tr>\n",
       "  </tbody>\n",
       "</table>\n",
       "</div>"
      ],
      "text/plain": [
       "  Living room Kitchen Bedroom 1 Bedroom 2\n",
       "0      1dc018  1dc00e    1dc012    1dc010\n",
       "1      1dc029  1dc011    1dc019    1dc01b\n",
       "2      1dc02c  1dc015    1dc01f    1dc024\n",
       "3      1dc036  1dc01c    1dc026    1dc025\n",
       "4      1dc03c  1dc021    1dc031    1dc027"
      ]
     },
     "execution_count": 20,
     "metadata": {},
     "output_type": "execute_result"
    }
   ],
   "source": [
    "\"\"\"\n",
    "Read the serial to room data.\n",
    "\"\"\"\n",
    "\n",
    "labels = pd.read_excel('//datc//opschaler//honeywell_sensors_per_dwelling_combined//honeywell_serial_to_room.xlsx')\n",
    "labels.head()"
   ]
  },
  {
   "cell_type": "code",
   "execution_count": 21,
   "metadata": {},
   "outputs": [],
   "source": [
    "# Next thing to do is to iterate over each dwelling and combine all its available data from within the sub directories.\n",
    "\n",
    "final_dfs = []"
   ]
  },
  {
   "cell_type": "code",
   "execution_count": 22,
   "metadata": {},
   "outputs": [
    {
     "name": "stderr",
     "output_type": "stream",
     "text": [
      "100%|██████████| 1/1 [00:11<00:00, 11.08s/it]\n"
     ]
    }
   ],
   "source": [
    "for i, sub_dir in enumerate(tqdm(sub_dirs[:1])):\n",
    "    # Select a sub dir and get all the available files\n",
    "    sub_dir = sub_dirs[i]\n",
    "    dwelling = dwellings[i]\n",
    "\n",
    "    # All the datalog files from the selected dwelling\n",
    "    files = glob.glob(sub_dir +\"/datalogFile_******_201*.csv\")\n",
    "    \n",
    "    sensor_ids = np.array(list((map(lambda x: x[-23:-17], files))))\n",
    "    sensor_ids = np.array([x.lower() if isinstance(x, str) else x for x in sensor_ids]) # Concert str to lowercase to match the labels df.\n",
    "    \n",
    "    dfs = []\n",
    "    \n",
    "    # Read all the files in the selected sub dir, append to a list\n",
    "    for j, file in enumerate(files):\n",
    "        sensor_id = sensor_ids[j]\n",
    "        living_room = sensor_id in labels['Living room'].unique() # Returns true if sensor_id is in the living room series\n",
    "        kitchen = sensor_id in labels['Kitchen'].unique()\n",
    "        bedroom1 = sensor_id in labels['Bedroom 1'].unique()\n",
    "        bedroom2 = sensor_id in labels['Bedroom 2'].unique()\n",
    "\n",
    "        df = pd.read_csv(file, delimiter=';', parse_dates=['Timestamp'])\n",
    "        \n",
    "        \"\"\"\n",
    "        Resample to original samplerate (so not registedred timestamps appear) before adding the room category. \n",
    "        If doing this after, the room category will be removed by the resampler.\n",
    "        Note that the device column is lost upon resampling, but the device ID is gathered from the filename, not this column.\n",
    "        \"\"\" \n",
    "        \n",
    "        df = df.rename(columns={'Timestamp': 'datetime'})\n",
    "        df = df.set_index(['datetime'])\n",
    "        df = df.resample('5T').mean()\n",
    "            \n",
    "        # Add a column name containing the room where the sensor is in.\n",
    "        if living_room:\n",
    "            df['room'] = 'living room'\n",
    "        elif kitchen:\n",
    "            df['room'] = 'kitchen'\n",
    "        elif bedroom1:\n",
    "            df['room'] = 'bedroom1'\n",
    "        elif bedroom2:\n",
    "            df['room'] = 'bedroom2'\n",
    "        else:\n",
    "            df['room'] = 'unknown'\n",
    "        \n",
    "        dfs.append(df)\n",
    "\n",
    "    # Concatenate the dfs list into one df. \n",
    "    # Original sample rate is 5 minutes.\n",
    "    data = pd.concat(dfs)\n",
    "    data['room'] = data['room'].astype('category') # change datetypes to category\n",
    "    \n",
    "    # Replace the 255 and 242 values with NaNs in the respective columns.\n",
    "    data[['HumidityBathRoom', 'VentilationLevel', 'Presence']] = data[['HumidityBathRoom', 'VentilationLevel', 'Presence']].replace({255:np.nan, 242:np.nan})\n",
    "    data['dwelling'] = dwelling\n",
    "    \n",
    "    final_dfs.append(data)"
   ]
  },
  {
   "cell_type": "markdown",
   "metadata": {},
   "source": [
    "# Concat all the dataframes"
   ]
  },
  {
   "cell_type": "code",
   "execution_count": 23,
   "metadata": {},
   "outputs": [
    {
     "data": {
      "text/html": [
       "<div>\n",
       "<style scoped>\n",
       "    .dataframe tbody tr th:only-of-type {\n",
       "        vertical-align: middle;\n",
       "    }\n",
       "\n",
       "    .dataframe tbody tr th {\n",
       "        vertical-align: top;\n",
       "    }\n",
       "\n",
       "    .dataframe thead th {\n",
       "        text-align: right;\n",
       "    }\n",
       "</style>\n",
       "<table border=\"1\" class=\"dataframe\">\n",
       "  <thead>\n",
       "    <tr style=\"text-align: right;\">\n",
       "      <th></th>\n",
       "      <th>Co2Value</th>\n",
       "      <th>RoomTemp</th>\n",
       "      <th>Humidity</th>\n",
       "      <th>HumidityBathRoom</th>\n",
       "      <th>VentilationLevel</th>\n",
       "      <th>Presence</th>\n",
       "      <th>room</th>\n",
       "      <th>dwelling</th>\n",
       "    </tr>\n",
       "    <tr>\n",
       "      <th>datetime</th>\n",
       "      <th></th>\n",
       "      <th></th>\n",
       "      <th></th>\n",
       "      <th></th>\n",
       "      <th></th>\n",
       "      <th></th>\n",
       "      <th></th>\n",
       "      <th></th>\n",
       "    </tr>\n",
       "  </thead>\n",
       "  <tbody>\n",
       "    <tr>\n",
       "      <th>2017-05-26 23:50:00</th>\n",
       "      <td>430.0</td>\n",
       "      <td>25.30</td>\n",
       "      <td>38.0</td>\n",
       "      <td>NaN</td>\n",
       "      <td>NaN</td>\n",
       "      <td>0.0</td>\n",
       "      <td>bedroom1</td>\n",
       "      <td>P01S01W6595</td>\n",
       "    </tr>\n",
       "    <tr>\n",
       "      <th>2017-05-26 23:55:00</th>\n",
       "      <td>421.0</td>\n",
       "      <td>25.30</td>\n",
       "      <td>38.0</td>\n",
       "      <td>NaN</td>\n",
       "      <td>NaN</td>\n",
       "      <td>0.0</td>\n",
       "      <td>bedroom1</td>\n",
       "      <td>P01S01W6595</td>\n",
       "    </tr>\n",
       "    <tr>\n",
       "      <th>2017-05-27 00:00:00</th>\n",
       "      <td>428.0</td>\n",
       "      <td>25.19</td>\n",
       "      <td>38.0</td>\n",
       "      <td>NaN</td>\n",
       "      <td>NaN</td>\n",
       "      <td>0.0</td>\n",
       "      <td>bedroom1</td>\n",
       "      <td>P01S01W6595</td>\n",
       "    </tr>\n",
       "    <tr>\n",
       "      <th>2017-05-27 00:05:00</th>\n",
       "      <td>430.0</td>\n",
       "      <td>25.23</td>\n",
       "      <td>38.0</td>\n",
       "      <td>NaN</td>\n",
       "      <td>NaN</td>\n",
       "      <td>0.0</td>\n",
       "      <td>bedroom1</td>\n",
       "      <td>P01S01W6595</td>\n",
       "    </tr>\n",
       "    <tr>\n",
       "      <th>2017-05-27 00:10:00</th>\n",
       "      <td>423.0</td>\n",
       "      <td>25.24</td>\n",
       "      <td>39.0</td>\n",
       "      <td>NaN</td>\n",
       "      <td>NaN</td>\n",
       "      <td>0.0</td>\n",
       "      <td>bedroom1</td>\n",
       "      <td>P01S01W6595</td>\n",
       "    </tr>\n",
       "  </tbody>\n",
       "</table>\n",
       "</div>"
      ],
      "text/plain": [
       "                     Co2Value  RoomTemp  Humidity  HumidityBathRoom  \\\n",
       "datetime                                                              \n",
       "2017-05-26 23:50:00     430.0     25.30      38.0               NaN   \n",
       "2017-05-26 23:55:00     421.0     25.30      38.0               NaN   \n",
       "2017-05-27 00:00:00     428.0     25.19      38.0               NaN   \n",
       "2017-05-27 00:05:00     430.0     25.23      38.0               NaN   \n",
       "2017-05-27 00:10:00     423.0     25.24      39.0               NaN   \n",
       "\n",
       "                     VentilationLevel  Presence      room     dwelling  \n",
       "datetime                                                                \n",
       "2017-05-26 23:50:00               NaN       0.0  bedroom1  P01S01W6595  \n",
       "2017-05-26 23:55:00               NaN       0.0  bedroom1  P01S01W6595  \n",
       "2017-05-27 00:00:00               NaN       0.0  bedroom1  P01S01W6595  \n",
       "2017-05-27 00:05:00               NaN       0.0  bedroom1  P01S01W6595  \n",
       "2017-05-27 00:10:00               NaN       0.0  bedroom1  P01S01W6595  "
      ]
     },
     "execution_count": 23,
     "metadata": {},
     "output_type": "execute_result"
    }
   ],
   "source": [
    "final_df = pd.concat(final_dfs)\n",
    "final_df.head()"
   ]
  },
  {
   "cell_type": "markdown",
   "metadata": {},
   "source": [
    "# Check the created df"
   ]
  },
  {
   "cell_type": "code",
   "execution_count": 24,
   "metadata": {},
   "outputs": [
    {
     "data": {
      "text/html": [
       "<div>\n",
       "<style scoped>\n",
       "    .dataframe tbody tr th:only-of-type {\n",
       "        vertical-align: middle;\n",
       "    }\n",
       "\n",
       "    .dataframe tbody tr th {\n",
       "        vertical-align: top;\n",
       "    }\n",
       "\n",
       "    .dataframe thead th {\n",
       "        text-align: right;\n",
       "    }\n",
       "</style>\n",
       "<table border=\"1\" class=\"dataframe\">\n",
       "  <thead>\n",
       "    <tr style=\"text-align: right;\">\n",
       "      <th></th>\n",
       "      <th>Co2Value</th>\n",
       "      <th>RoomTemp</th>\n",
       "      <th>Humidity</th>\n",
       "      <th>HumidityBathRoom</th>\n",
       "      <th>VentilationLevel</th>\n",
       "      <th>Presence</th>\n",
       "      <th>room</th>\n",
       "      <th>dwelling</th>\n",
       "    </tr>\n",
       "    <tr>\n",
       "      <th>datetime</th>\n",
       "      <th></th>\n",
       "      <th></th>\n",
       "      <th></th>\n",
       "      <th></th>\n",
       "      <th></th>\n",
       "      <th></th>\n",
       "      <th></th>\n",
       "      <th></th>\n",
       "    </tr>\n",
       "  </thead>\n",
       "  <tbody>\n",
       "    <tr>\n",
       "      <th>2017-01-04 00:00:00</th>\n",
       "      <td>1446.0</td>\n",
       "      <td>21.60</td>\n",
       "      <td>52.0</td>\n",
       "      <td>59.0</td>\n",
       "      <td>NaN</td>\n",
       "      <td>NaN</td>\n",
       "      <td>living room</td>\n",
       "      <td>P01S01W6595</td>\n",
       "    </tr>\n",
       "    <tr>\n",
       "      <th>2017-01-04 00:00:00</th>\n",
       "      <td>780.0</td>\n",
       "      <td>21.00</td>\n",
       "      <td>47.0</td>\n",
       "      <td>NaN</td>\n",
       "      <td>NaN</td>\n",
       "      <td>1.0</td>\n",
       "      <td>bedroom1</td>\n",
       "      <td>P01S01W6595</td>\n",
       "    </tr>\n",
       "    <tr>\n",
       "      <th>2017-01-04 00:00:00</th>\n",
       "      <td>1358.0</td>\n",
       "      <td>21.19</td>\n",
       "      <td>54.0</td>\n",
       "      <td>NaN</td>\n",
       "      <td>NaN</td>\n",
       "      <td>0.0</td>\n",
       "      <td>kitchen</td>\n",
       "      <td>P01S01W6595</td>\n",
       "    </tr>\n",
       "    <tr>\n",
       "      <th>2017-01-04 00:00:00</th>\n",
       "      <td>924.0</td>\n",
       "      <td>20.79</td>\n",
       "      <td>49.0</td>\n",
       "      <td>NaN</td>\n",
       "      <td>NaN</td>\n",
       "      <td>0.0</td>\n",
       "      <td>bedroom2</td>\n",
       "      <td>P01S01W6595</td>\n",
       "    </tr>\n",
       "    <tr>\n",
       "      <th>2017-01-04 00:05:00</th>\n",
       "      <td>899.0</td>\n",
       "      <td>21.09</td>\n",
       "      <td>47.0</td>\n",
       "      <td>NaN</td>\n",
       "      <td>NaN</td>\n",
       "      <td>0.0</td>\n",
       "      <td>bedroom1</td>\n",
       "      <td>P01S01W6595</td>\n",
       "    </tr>\n",
       "  </tbody>\n",
       "</table>\n",
       "</div>"
      ],
      "text/plain": [
       "                     Co2Value  RoomTemp  Humidity  HumidityBathRoom  \\\n",
       "datetime                                                              \n",
       "2017-01-04 00:00:00    1446.0     21.60      52.0              59.0   \n",
       "2017-01-04 00:00:00     780.0     21.00      47.0               NaN   \n",
       "2017-01-04 00:00:00    1358.0     21.19      54.0               NaN   \n",
       "2017-01-04 00:00:00     924.0     20.79      49.0               NaN   \n",
       "2017-01-04 00:05:00     899.0     21.09      47.0               NaN   \n",
       "\n",
       "                     VentilationLevel  Presence         room     dwelling  \n",
       "datetime                                                                   \n",
       "2017-01-04 00:00:00               NaN       NaN  living room  P01S01W6595  \n",
       "2017-01-04 00:00:00               NaN       1.0     bedroom1  P01S01W6595  \n",
       "2017-01-04 00:00:00               NaN       0.0      kitchen  P01S01W6595  \n",
       "2017-01-04 00:00:00               NaN       0.0     bedroom2  P01S01W6595  \n",
       "2017-01-04 00:05:00               NaN       0.0     bedroom1  P01S01W6595  "
      ]
     },
     "execution_count": 24,
     "metadata": {},
     "output_type": "execute_result"
    }
   ],
   "source": [
    "# What happens when 4 sensors from different rooms gather data on the same timestamp? Does the same timestap appear 4 times with 4 different rooms?\n",
    "final_df = final_df.sort_index()\n",
    "final_df.head()\n",
    "\n",
    "# Looks like this is the case!"
   ]
  },
  {
   "cell_type": "markdown",
   "metadata": {},
   "source": [
    "# Deal with NaNs"
   ]
  },
  {
   "cell_type": "code",
   "execution_count": 25,
   "metadata": {},
   "outputs": [
    {
     "data": {
      "text/plain": [
       "Co2Value            2095513\n",
       "RoomTemp            2095513\n",
       "Humidity            2095513\n",
       "HumidityBathRoom    2172294\n",
       "VentilationLevel    2197876\n",
       "Presence                  0\n",
       "room                      0\n",
       "dwelling                  0\n",
       "dtype: int64"
      ]
     },
     "execution_count": 25,
     "metadata": {},
     "output_type": "execute_result"
    }
   ],
   "source": [
    "\"\"\"\n",
    "Note that the currently used column in analysis from this data will be Presence, therefor the other NaNs are ignored.\n",
    "\"\"\"\n",
    "\n",
    "final_df['Presence'] = final_df['Presence'].fillna(0)\n",
    "final_df.isnull().sum()"
   ]
  },
  {
   "cell_type": "code",
   "execution_count": 26,
   "metadata": {},
   "outputs": [
    {
     "data": {
      "text/html": [
       "<div>\n",
       "<style scoped>\n",
       "    .dataframe tbody tr th:only-of-type {\n",
       "        vertical-align: middle;\n",
       "    }\n",
       "\n",
       "    .dataframe tbody tr th {\n",
       "        vertical-align: top;\n",
       "    }\n",
       "\n",
       "    .dataframe thead th {\n",
       "        text-align: right;\n",
       "    }\n",
       "</style>\n",
       "<table border=\"1\" class=\"dataframe\">\n",
       "  <thead>\n",
       "    <tr style=\"text-align: right;\">\n",
       "      <th></th>\n",
       "      <th>Co2Value</th>\n",
       "      <th>RoomTemp</th>\n",
       "      <th>Humidity</th>\n",
       "      <th>HumidityBathRoom</th>\n",
       "      <th>VentilationLevel</th>\n",
       "      <th>Presence</th>\n",
       "      <th>room</th>\n",
       "      <th>dwelling</th>\n",
       "    </tr>\n",
       "    <tr>\n",
       "      <th>datetime</th>\n",
       "      <th></th>\n",
       "      <th></th>\n",
       "      <th></th>\n",
       "      <th></th>\n",
       "      <th></th>\n",
       "      <th></th>\n",
       "      <th></th>\n",
       "      <th></th>\n",
       "    </tr>\n",
       "  </thead>\n",
       "  <tbody>\n",
       "    <tr>\n",
       "      <th>2017-01-04 00:00:00</th>\n",
       "      <td>1446.0</td>\n",
       "      <td>21.60</td>\n",
       "      <td>52.0</td>\n",
       "      <td>59.0</td>\n",
       "      <td>NaN</td>\n",
       "      <td>0.0</td>\n",
       "      <td>living room</td>\n",
       "      <td>P01S01W6595</td>\n",
       "    </tr>\n",
       "    <tr>\n",
       "      <th>2017-01-04 00:00:00</th>\n",
       "      <td>780.0</td>\n",
       "      <td>21.00</td>\n",
       "      <td>47.0</td>\n",
       "      <td>NaN</td>\n",
       "      <td>NaN</td>\n",
       "      <td>1.0</td>\n",
       "      <td>bedroom1</td>\n",
       "      <td>P01S01W6595</td>\n",
       "    </tr>\n",
       "    <tr>\n",
       "      <th>2017-01-04 00:00:00</th>\n",
       "      <td>1358.0</td>\n",
       "      <td>21.19</td>\n",
       "      <td>54.0</td>\n",
       "      <td>NaN</td>\n",
       "      <td>NaN</td>\n",
       "      <td>0.0</td>\n",
       "      <td>kitchen</td>\n",
       "      <td>P01S01W6595</td>\n",
       "    </tr>\n",
       "    <tr>\n",
       "      <th>2017-01-04 00:00:00</th>\n",
       "      <td>924.0</td>\n",
       "      <td>20.79</td>\n",
       "      <td>49.0</td>\n",
       "      <td>NaN</td>\n",
       "      <td>NaN</td>\n",
       "      <td>0.0</td>\n",
       "      <td>bedroom2</td>\n",
       "      <td>P01S01W6595</td>\n",
       "    </tr>\n",
       "    <tr>\n",
       "      <th>2017-01-04 00:05:00</th>\n",
       "      <td>899.0</td>\n",
       "      <td>21.09</td>\n",
       "      <td>47.0</td>\n",
       "      <td>NaN</td>\n",
       "      <td>NaN</td>\n",
       "      <td>0.0</td>\n",
       "      <td>bedroom1</td>\n",
       "      <td>P01S01W6595</td>\n",
       "    </tr>\n",
       "  </tbody>\n",
       "</table>\n",
       "</div>"
      ],
      "text/plain": [
       "                     Co2Value  RoomTemp  Humidity  HumidityBathRoom  \\\n",
       "datetime                                                              \n",
       "2017-01-04 00:00:00    1446.0     21.60      52.0              59.0   \n",
       "2017-01-04 00:00:00     780.0     21.00      47.0               NaN   \n",
       "2017-01-04 00:00:00    1358.0     21.19      54.0               NaN   \n",
       "2017-01-04 00:00:00     924.0     20.79      49.0               NaN   \n",
       "2017-01-04 00:05:00     899.0     21.09      47.0               NaN   \n",
       "\n",
       "                     VentilationLevel  Presence         room     dwelling  \n",
       "datetime                                                                   \n",
       "2017-01-04 00:00:00               NaN       0.0  living room  P01S01W6595  \n",
       "2017-01-04 00:00:00               NaN       1.0     bedroom1  P01S01W6595  \n",
       "2017-01-04 00:00:00               NaN       0.0      kitchen  P01S01W6595  \n",
       "2017-01-04 00:00:00               NaN       0.0     bedroom2  P01S01W6595  \n",
       "2017-01-04 00:05:00               NaN       0.0     bedroom1  P01S01W6595  "
      ]
     },
     "execution_count": 26,
     "metadata": {},
     "output_type": "execute_result"
    }
   ],
   "source": [
    "final_df.head()"
   ]
  },
  {
   "cell_type": "markdown",
   "metadata": {},
   "source": [
    "final_df.to_csv('/datc/opschaler/honeywell_sensors_per_dwelling_combined/honeywell_all_dwellings_combined.csv', sep='\\t', index=True)"
   ]
  },
  {
   "cell_type": "markdown",
   "metadata": {},
   "source": [
    "#  TO DO: Transform the df"
   ]
  },
  {
   "cell_type": "markdown",
   "metadata": {},
   "source": [
    "df = pd.read_csv('/datc/opschaler/honeywell_sensors_per_dwelling_combined/honeywell_all_dwellings_combined.csv', delimiter='\\t', parse_dates=['datetime'])\n",
    "df = df.set_index(['datetime'])"
   ]
  },
  {
   "cell_type": "code",
   "execution_count": 34,
   "metadata": {},
   "outputs": [
    {
     "data": {
      "text/plain": [
       "array(['kitchen'], dtype=object)"
      ]
     },
     "execution_count": 34,
     "metadata": {},
     "output_type": "execute_result"
    }
   ],
   "source": [
    "\"\"\"\n",
    "Create one column per feature, per room. \n",
    "i.e. for precense:\n",
    "    presence_living_room, presence_bedroom1, precense_bedroom2, presence_kitchen\n",
    "    \n",
    "This way there will be one row of features per datetime.\n",
    "\"\"\""
   ]
  },
  {
   "cell_type": "code",
   "execution_count": 35,
   "metadata": {},
   "outputs": [
    {
     "ename": "ValueError",
     "evalue": "too many values to unpack (expected 2)",
     "output_type": "error",
     "traceback": [
      "\u001b[0;31m---------------------------------------------------------------------------\u001b[0m",
      "\u001b[0;31mValueError\u001b[0m                                Traceback (most recent call last)",
      "\u001b[0;32m<ipython-input-35-1d7ab6a9ff0e>\u001b[0m in \u001b[0;36m<module>\u001b[0;34m\u001b[0m\n\u001b[1;32m      6\u001b[0m \u001b[0;34m\u001b[0m\u001b[0m\n\u001b[1;32m      7\u001b[0m \u001b[0;34m\u001b[0m\u001b[0m\n\u001b[0;32m----> 8\u001b[0;31m \u001b[0mdf\u001b[0m\u001b[0;34m.\u001b[0m\u001b[0mcolumns\u001b[0m \u001b[0;34m=\u001b[0m \u001b[0;34m[\u001b[0m\u001b[0;34m'{}_{}'\u001b[0m\u001b[0;34m.\u001b[0m\u001b[0mformat\u001b[0m\u001b[0;34m(\u001b[0m\u001b[0mvar\u001b[0m\u001b[0;34m,\u001b[0m\u001b[0mroom\u001b[0m\u001b[0;34m)\u001b[0m \u001b[0;32mfor\u001b[0m \u001b[0mvar\u001b[0m\u001b[0;34m,\u001b[0m \u001b[0mroom\u001b[0m \u001b[0;32min\u001b[0m \u001b[0mdf\u001b[0m\u001b[0;34m.\u001b[0m\u001b[0mcolumns\u001b[0m\u001b[0;34m]\u001b[0m\u001b[0;34m\u001b[0m\u001b[0m\n\u001b[0m",
      "\u001b[0;32m<ipython-input-35-1d7ab6a9ff0e>\u001b[0m in \u001b[0;36m<listcomp>\u001b[0;34m(.0)\u001b[0m\n\u001b[1;32m      6\u001b[0m \u001b[0;34m\u001b[0m\u001b[0m\n\u001b[1;32m      7\u001b[0m \u001b[0;34m\u001b[0m\u001b[0m\n\u001b[0;32m----> 8\u001b[0;31m \u001b[0mdf\u001b[0m\u001b[0;34m.\u001b[0m\u001b[0mcolumns\u001b[0m \u001b[0;34m=\u001b[0m \u001b[0;34m[\u001b[0m\u001b[0;34m'{}_{}'\u001b[0m\u001b[0;34m.\u001b[0m\u001b[0mformat\u001b[0m\u001b[0;34m(\u001b[0m\u001b[0mvar\u001b[0m\u001b[0;34m,\u001b[0m\u001b[0mroom\u001b[0m\u001b[0;34m)\u001b[0m \u001b[0;32mfor\u001b[0m \u001b[0mvar\u001b[0m\u001b[0;34m,\u001b[0m \u001b[0mroom\u001b[0m \u001b[0;32min\u001b[0m \u001b[0mdf\u001b[0m\u001b[0;34m.\u001b[0m\u001b[0mcolumns\u001b[0m\u001b[0;34m]\u001b[0m\u001b[0;34m\u001b[0m\u001b[0m\n\u001b[0m",
      "\u001b[0;31mValueError\u001b[0m: too many values to unpack (expected 2)"
     ]
    }
   ],
   "source": [
    "t = final_df\n",
    "columns = ['Co2Value', 'RoomTemp', 'Humidity', 'HumidityBathRoom',\n",
    "       'VentilationLevel', 'Presence', 'dwelling']\n",
    "\n",
    "rooms = ['living room', 'bedroom1', 'bedroom2', 'kitchen']\n",
    "\n",
    "\n",
    "df.columns = ['{}_{}'.format(var,room) for var, room in df.columns]"
   ]
  },
  {
   "cell_type": "code",
   "execution_count": null,
   "metadata": {},
   "outputs": [],
   "source": [
    "t[:200]"
   ]
  },
  {
   "cell_type": "code",
   "execution_count": null,
   "metadata": {},
   "outputs": [],
   "source": []
  }
 ],
 "metadata": {
  "kernelspec": {
   "display_name": "Python 3",
   "language": "python",
   "name": "python3"
  },
  "language_info": {
   "codemirror_mode": {
    "name": "ipython",
    "version": 3
   },
   "file_extension": ".py",
   "mimetype": "text/x-python",
   "name": "python",
   "nbconvert_exporter": "python",
   "pygments_lexer": "ipython3",
   "version": "3.6.6"
  }
 },
 "nbformat": 4,
 "nbformat_minor": 2
}
