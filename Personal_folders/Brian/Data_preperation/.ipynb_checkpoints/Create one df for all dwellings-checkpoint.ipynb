{
 "cells": [
  {
   "cell_type": "markdown",
   "metadata": {},
   "source": [
    "To connect to the dashboard, type the following in windows cmd of your own laptop:  \n",
    "`ssh -NL 3000:localhost:8787 16011015@datascience.hhs.nl`  \n",
    "\n",
    "This will port localhost:8787 (from the datascience.hhs.nl server) to localhost:3000 on windows.  \n",
    "To connect to the dashboard, open `http://localhost:3000/status` in your browser.  "
   ]
  },
  {
   "cell_type": "markdown",
   "metadata": {},
   "source": [
    "# Imports"
   ]
  },
  {
   "cell_type": "code",
   "execution_count": 1,
   "metadata": {},
   "outputs": [],
   "source": [
    "import numpy as np\n",
    "import glob\n",
    "import pandas as pd\n",
    "\n",
    "from dask.distributed import Client, LocalCluster\n",
    "from dask import delayed\n",
    "from tqdm import tqdm"
   ]
  },
  {
   "cell_type": "markdown",
   "metadata": {},
   "source": [
    "# Initialize Dask"
   ]
  },
  {
   "cell_type": "code",
   "execution_count": 2,
   "metadata": {},
   "outputs": [],
   "source": [
    "cluster = LocalCluster(processes=False, n_workers=1)\n",
    "client = Client(cluster, processes=True)"
   ]
  },
  {
   "cell_type": "code",
   "execution_count": 3,
   "metadata": {},
   "outputs": [
    {
     "data": {
      "text/html": [
       "<table style=\"border: 2px solid white;\">\n",
       "<tr>\n",
       "<td style=\"vertical-align: top; border: 0px solid white\">\n",
       "<h3>Client</h3>\n",
       "<ul>\n",
       "  <li><b>Scheduler: </b>inproc://145.52.252.19/20464/1\n",
       "  <li><b>Dashboard: </b><a href='http://localhost:8787/status' target='_blank'>http://localhost:8787/status</a>\n",
       "</ul>\n",
       "</td>\n",
       "<td style=\"vertical-align: top; border: 0px solid white\">\n",
       "<h3>Cluster</h3>\n",
       "<ul>\n",
       "  <li><b>Workers: </b>1</li>\n",
       "  <li><b>Cores: </b>48</li>\n",
       "  <li><b>Memory: </b>67.18 GB</li>\n",
       "</ul>\n",
       "</td>\n",
       "</tr>\n",
       "</table>"
      ],
      "text/plain": [
       "<Client: scheduler='inproc://145.52.252.19/20464/1' processes=1 cores=48>"
      ]
     },
     "execution_count": 3,
     "metadata": {},
     "output_type": "execute_result"
    }
   ],
   "source": [
    "client"
   ]
  },
  {
   "cell_type": "markdown",
   "metadata": {},
   "source": [
    "# Defining functions"
   ]
  },
  {
   "cell_type": "code",
   "execution_count": 11,
   "metadata": {},
   "outputs": [],
   "source": [
    "def dwelling_data_paths(sample_rate, unprocessed=True):\n",
    "    \"\"\"\n",
    "    Reads in the file paths and dwelling id's of the combined smartmeter data.\n",
    "    :return: file_paths, dwelling_ids, both as lists.\n",
    "    \"\"\"\n",
    "    path = '//datc//opschaler//combined_gas_smart_weather_dfs//'\n",
    "    \n",
    "    # set folder and subscript values to one hour sample rate\n",
    "    folder = 'processed//'\n",
    "    subscript = '_hour'\n",
    "    \n",
    "    # change folder and subscript values if sample_rate is 10s\n",
    "    if unprocessed:\n",
    "        folder = 'unprocessed//'\n",
    "    if sample_rate == '10s':\n",
    "        subscript = '_10s'\n",
    "        \n",
    "    complete_path = path+folder+'*'+subscript+\".csv\"\n",
    "    file_paths = np.array(glob.glob(complete_path)) # find filepaths for files matching the complete_path pattern\n",
    "\n",
    "    print('complete_path: '+complete_path)\n",
    "    print('Detected %s smartmeter_data files.' % len(file_paths))\n",
    "    \n",
    "    dwelling_ids = np.array(list((map(lambda x: x[-20:-9], file_paths)))) # hour ids slicing\n",
    "    \n",
    "    if sample_rate == '10s':\n",
    "        dwelling_ids = np.array(list((map(lambda x: x[-16:-8], file_paths)))) # 10s ids slicing\n",
    "    \n",
    "    \n",
    "    return file_paths, dwelling_ids\n",
    "\n",
    "\n",
    "def read_combined_df(path, dwelling_id):\n",
    "    df = pd.read_csv(path, delimiter='\\t', parse_dates=['datetime'])\n",
    "    df = df.set_index(['datetime'])\n",
    "    df = reduce_memory(df)\n",
    "    df['dwelling'] = str(dwelling_id)\n",
    "    #df.dwelling = df.dwelling.astype(str)\n",
    "    return df\n",
    "\n",
    "def resample_df(df, sample_rate):\n",
    "    \"\"\"\n",
    "    Resampled a (un)processed dataframe to the specified sample_rate.\n",
    "    Input is a (un)processed df.\n",
    "    Sample rate must be a string. \n",
    "    For example '1H', '1D', '60s'.\n",
    "    \"\"\"\n",
    "    \n",
    "    input_df = df\n",
    "    \n",
    "    to_last = ['gasMeter', 'eMeter'] # resample.last(), take last known value from the columns\n",
    "    \n",
    "    input_df[to_last] = input_df[to_last].resample(sample_rate).last() # take last value most nearby the sample_rate\n",
    "    \n",
    "    input_df = input_df.resample(sample_rate).mean() # resample to rest by mean\n",
    "    \n",
    "    return input_df\n",
    "\n",
    "def reduce_memory(df):\n",
    "    \"\"\"\n",
    "    Reduces memory footprint of the input dataframe.\n",
    "    Changes float64 columns to float32 dtype.\n",
    "    \"\"\"\n",
    "    columns = df.columns\n",
    "    memory_before = df.memory_usage(deep=False).sum() / 2**30 # convert bytes to GB\n",
    "\n",
    "    for column in columns:\n",
    "        if df[column].dtype == 'float64':\n",
    "            df[column] = df[column].astype('float32')\n",
    "        \n",
    "    memory_after = df.memory_usage(deep=False).sum() / 2**30 # convert bytes to GB\n",
    "    #print('Memory uasge reduced from %.3f GB to %.3f GB' % (memory_before, memory_after))\n",
    "    \n",
    "    return df"
   ]
  },
  {
   "cell_type": "code",
   "execution_count": 5,
   "metadata": {},
   "outputs": [
    {
     "name": "stdout",
     "output_type": "stream",
     "text": [
      "complete_path: //datc//opschaler//combined_gas_smart_weather_dfs//unprocessed//*_hour.csv\n",
      "Detected 52 smartmeter_data files.\n"
     ]
    }
   ],
   "source": [
    "paths, dwelling_ids = dwelling_data_paths('hour')"
   ]
  },
  {
   "cell_type": "markdown",
   "metadata": {},
   "source": [
    "# Create the main functions\n",
    "One that uses Dask and one that does not.  \n",
    "This way the speed difference can be seen."
   ]
  },
  {
   "cell_type": "code",
   "execution_count": 6,
   "metadata": {},
   "outputs": [],
   "source": [
    "def use_dask(sample_rate):\n",
    "    paths, dwelling_ids = dwelling_data_paths(sample_rate)\n",
    "    dfs = []\n",
    "\n",
    "    for i, path in enumerate(paths):\n",
    "        dwelling_id = dwelling_ids[i]\n",
    "        df = delayed(read_combined_df)(path, dwelling_id)\n",
    "        #df = resample_df(df, sample_rate)\n",
    "        dfs.append(df)\n",
    "    \n",
    "    dfs_computed = client.compute(dfs)\n",
    "    \n",
    "    results = []\n",
    "    for res in dfs_computed:\n",
    "        results.append(res.result())\n",
    "        \n",
    "    final_df = pd.concat(results)\n",
    "    \n",
    "    return final_df"
   ]
  },
  {
   "cell_type": "code",
   "execution_count": 7,
   "metadata": {},
   "outputs": [],
   "source": [
    "def not_dask(sample_rate):\n",
    "    paths, dwelling_ids = dwelling_data_paths(sample_rate)\n",
    "    dfs = []\n",
    "\n",
    "    for i, path in enumerate(paths):\n",
    "        dwelling_id = dwelling_ids[i]\n",
    "        df = read_combined_df(path, dwelling_id)\n",
    "        dfs.append(df)\n",
    "        \n",
    "    final_df = pd.concat(dfs)\n",
    "    \n",
    "    return final_df"
   ]
  },
  {
   "cell_type": "markdown",
   "metadata": {},
   "source": [
    "# Result for the hour sample rate dataframes"
   ]
  },
  {
   "cell_type": "code",
   "execution_count": 8,
   "metadata": {},
   "outputs": [
    {
     "name": "stderr",
     "output_type": "stream",
     "text": [
      "100%|██████████| 24/24 [00:00<00:00, 4014.81it/s]\n",
      "100%|██████████| 24/24 [00:00<00:00, 3049.94it/s]\n",
      "100%|██████████| 24/24 [00:00<00:00, 4060.48it/s]\n",
      "100%|██████████| 24/24 [00:00<00:00, 4094.83it/s]\n",
      "100%|██████████| 24/24 [00:00<00:00, 4506.98it/s]\n",
      "100%|██████████| 24/24 [00:00<00:00, 3968.90it/s]\n",
      "100%|██████████| 24/24 [00:00<00:00, 4279.54it/s]\n",
      "100%|██████████| 24/24 [00:00<00:00, 3933.54it/s]\n",
      "100%|██████████| 24/24 [00:00<00:00, 3621.37it/s]"
     ]
    },
    {
     "name": "stdout",
     "output_type": "stream",
     "text": [
      "complete_path: //datc//opschaler//combined_gas_smart_weather_dfs//unprocessed//*_hour.csv\n",
      "Detected 52 smartmeter_data files.\n"
     ]
    },
    {
     "name": "stderr",
     "output_type": "stream",
     "text": [
      "\n",
      "100%|██████████| 24/24 [00:00<00:00, 4524.40it/s]\n",
      "100%|██████████| 24/24 [00:00<00:00, 4521.35it/s]\n",
      "100%|██████████| 24/24 [00:00<00:00, 3108.23it/s]\n",
      "100%|██████████| 24/24 [00:00<00:00, 3939.70it/s]\n",
      "100%|██████████| 24/24 [00:00<00:00, 3786.90it/s]\n",
      "100%|██████████| 24/24 [00:00<00:00, 3377.17it/s]\n",
      "100%|██████████| 24/24 [00:00<00:00, 2971.26it/s]\n",
      "100%|██████████| 24/24 [00:00<00:00, 3141.41it/s]\n",
      "100%|██████████| 24/24 [00:00<00:00, 3675.86it/s]\n",
      "100%|██████████| 24/24 [00:00<00:00, 3647.35it/s]\n",
      "100%|██████████| 24/24 [00:00<00:00, 3695.29it/s]\n",
      "100%|██████████| 24/24 [00:00<00:00, 2889.39it/s]\n",
      "100%|██████████| 24/24 [00:00<00:00, 3798.18it/s]\n",
      "100%|██████████| 24/24 [00:00<00:00, 3048.19it/s]\n",
      "100%|██████████| 24/24 [00:00<00:00, 4637.15it/s]\n",
      "100%|██████████| 24/24 [00:00<00:00, 3567.98it/s]\n",
      "100%|██████████| 24/24 [00:00<00:00, 2775.08it/s]\n",
      "100%|██████████| 24/24 [00:00<00:00, 3978.63it/s]\n",
      "100%|██████████| 24/24 [00:00<00:00, 3470.07it/s]\n",
      "100%|██████████| 24/24 [00:00<00:00, 4318.27it/s]\n",
      "100%|██████████| 24/24 [00:00<00:00, 2923.62it/s]\n",
      "100%|██████████| 24/24 [00:00<00:00, 3544.98it/s]\n",
      "100%|██████████| 24/24 [00:00<00:00, 3162.53it/s]\n",
      "100%|██████████| 24/24 [00:00<00:00, 3516.74it/s]\n",
      "100%|██████████| 24/24 [00:00<00:00, 4149.01it/s]\n",
      "100%|██████████| 24/24 [00:00<00:00, 4169.12it/s]\n",
      "100%|██████████| 24/24 [00:00<00:00, 4308.11it/s]\n",
      "100%|██████████| 24/24 [00:00<00:00, 4256.38it/s]\n",
      "100%|██████████| 24/24 [00:00<00:00, 3522.90it/s]\n",
      "100%|██████████| 24/24 [00:00<00:00, 3991.88it/s]\n",
      "100%|██████████| 24/24 [00:00<00:00, 3849.16it/s]\n",
      "100%|██████████| 24/24 [00:00<00:00, 3765.37it/s]\n",
      "100%|██████████| 24/24 [00:00<00:00, 3650.13it/s]\n",
      "100%|██████████| 24/24 [00:00<00:00, 3769.31it/s]\n",
      "100%|██████████| 24/24 [00:00<00:00, 2932.82it/s]\n",
      "100%|██████████| 24/24 [00:00<00:00, 3213.41it/s]\n",
      "100%|██████████| 24/24 [00:00<00:00, 3385.69it/s]\n",
      "100%|██████████| 24/24 [00:00<00:00, 4495.30it/s]\n",
      "100%|██████████| 24/24 [00:00<00:00, 4516.48it/s]\n",
      "100%|██████████| 24/24 [00:00<00:00, 4144.23it/s]\n",
      "100%|██████████| 24/24 [00:00<00:00, 4065.40it/s]\n",
      "100%|██████████| 24/24 [00:00<00:00, 3279.15it/s]\n",
      "100%|██████████| 24/24 [00:00<00:00, 3468.04it/s]\n"
     ]
    },
    {
     "name": "stdout",
     "output_type": "stream",
     "text": [
      "CPU times: user 1.08 s, sys: 120 ms, total: 1.2 s\n",
      "Wall time: 1.08 s\n"
     ]
    }
   ],
   "source": [
    "#timeit result: 608 ms\n",
    "%time a = not_dask('hour')"
   ]
  },
  {
   "cell_type": "markdown",
   "metadata": {},
   "source": [
    "#timeit result: 628 ms\n",
    "%time b = use_dask('hour')"
   ]
  },
  {
   "cell_type": "markdown",
   "metadata": {},
   "source": [
    "# Result for the 10 second sample rate dataframes"
   ]
  },
  {
   "cell_type": "markdown",
   "metadata": {},
   "source": [
    "#timeit result: 2 min 35 s\n",
    "%timeit c = not_dask('10s')"
   ]
  },
  {
   "cell_type": "markdown",
   "metadata": {},
   "source": [
    "#timeit result: 1 min 17s\n",
    "%timeit d = use_dask('10s')"
   ]
  },
  {
   "cell_type": "markdown",
   "metadata": {},
   "source": [
    "# Compute and save the result"
   ]
  },
  {
   "cell_type": "code",
   "execution_count": 13,
   "metadata": {},
   "outputs": [
    {
     "name": "stdout",
     "output_type": "stream",
     "text": [
      "complete_path: //datc//opschaler//combined_gas_smart_weather_dfs//unprocessed//*_10s.csv\n",
      "Detected 51 smartmeter_data files.\n"
     ]
    },
    {
     "name": "stderr",
     "output_type": "stream",
     "text": [
      "distributed.comm.inproc - WARNING - Closing dangling queue in <InProc local=inproc://145.52.252.19/20464/12 remote=inproc://145.52.252.19/20464/1>\n",
      "distributed.comm.inproc - WARNING - Closing dangling queue in <InProc local=inproc://145.52.252.19/20464/13 remote=inproc://145.52.252.19/20464/1>\n"
     ]
    },
    {
     "name": "stdout",
     "output_type": "stream",
     "text": [
      "complete_path: //datc//opschaler//combined_gas_smart_weather_dfs//unprocessed//*_hour.csv\n",
      "Detected 52 smartmeter_data files.\n",
      "Ready to save data\n"
     ]
    }
   ],
   "source": [
    "def save_result(ten_seconds, hour):\n",
    "    ten_seconds.to_csv('//datc//opschaler//combined_gas_smart_weather_dfs//processed//all_dwellings_combined_10s.csv', sep='\\t')\n",
    "    hour.to_csv('//datc//opschaler//combined_gas_smart_weather_dfs//processed//all_dwellings_combined_hour.csv', sep='\\t')\n",
    "\n",
    "ten_seconds = use_dask('10s')\n",
    "hour = use_dask('hour')\n",
    "\n",
    "print('Ready to save data')"
   ]
  },
  {
   "cell_type": "code",
   "execution_count": null,
   "metadata": {},
   "outputs": [],
   "source": [
    "%time save_result(ten_seconds, hour)"
   ]
  },
  {
   "cell_type": "code",
   "execution_count": null,
   "metadata": {},
   "outputs": [],
   "source": []
  }
 ],
 "metadata": {
  "kernelspec": {
   "display_name": "Python 3",
   "language": "python",
   "name": "python3"
  },
  "language_info": {
   "codemirror_mode": {
    "name": "ipython",
    "version": 3
   },
   "file_extension": ".py",
   "mimetype": "text/x-python",
   "name": "python",
   "nbconvert_exporter": "python",
   "pygments_lexer": "ipython3",
   "version": "3.6.6"
  }
 },
 "nbformat": 4,
 "nbformat_minor": 2
}
