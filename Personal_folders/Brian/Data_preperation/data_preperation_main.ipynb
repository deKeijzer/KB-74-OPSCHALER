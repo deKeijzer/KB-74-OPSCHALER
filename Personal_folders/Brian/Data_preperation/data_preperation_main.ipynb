{
 "cells": [
  {
   "cell_type": "markdown",
   "metadata": {},
   "source": [
    "# Notebook info\n",
    "This notebook is the main notebook for the data cleaning & preperation of all the data.  \n",
    "It uses and combines all the previously created notebooks/functions."
   ]
  },
  {
   "cell_type": "markdown",
   "metadata": {},
   "source": [
    "# README\n",
    "\n",
    "This notebook reads in the raw smartmeter output files located in `//datc//opschaler//smartmeter_data//*.csv`.  \n",
    "It processes this data to clean and prepare it for EDA.  \n",
    "Finally it combines this data per house with the weather data located at `//datc//opschaler//weather_data//weather.csv`.  \n",
    "The final dataframes are saved in `//datc//opschaler//combined_dfs_gas_smart_weather//dwelling_id.csv`.\n",
    "\n",
    "TODO: \n",
    "* Remove 0's from gasMeter column.\n",
    "* Save the amount of NaNs (including how many are behind each other) per column in one Excel file for all houses.\n",
    "\n",
    "## Step by step instruction of the notebook\n",
    "* Load in the weather dataframe.\n",
    "* Get a file_paths list of all the smartmeter_data files.\n",
    "* Iterate over this list with main(), doing the following:\n",
    "\n",
    "* clean_datetime: Remove non-datetime rows from the datetime column.\n",
    "* clean_prepare_smart_gas: Split smartmeter data into smart (=electricity) and a gas dataframe, plus prepare them for upsampling.\n",
    "* resample_smart_gas: Resample smart and gas to have the same datetime index.\n",
    "* merge_smart_gas_weather: Merge the three dataframes together\n",
    "* save_df: save the final dataframe\n",
    "\n",
    "## Warning\n",
    "Running main() with 61 raw smartmeter data files has been estimated to take 45-60 minutes."
   ]
  },
  {
   "cell_type": "code",
   "execution_count": 5,
   "metadata": {},
   "outputs": [],
   "source": [
    "# Basic imports"
   ]
  },
  {
   "cell_type": "code",
   "execution_count": 6,
   "metadata": {},
   "outputs": [],
   "source": [
    "import pandas as pd\n",
    "import numpy as np\n",
    "import glob\n",
    "import time"
   ]
  },
  {
   "cell_type": "code",
   "execution_count": 7,
   "metadata": {},
   "outputs": [],
   "source": [
    "# Defining functions"
   ]
  },
  {
   "cell_type": "code",
   "execution_count": 9,
   "metadata": {},
   "outputs": [
    {
     "data": {
      "text/plain": [
       "'\\nEnd of functions from:\\nloading_combining_smart_gas_weather_generalized\\n'"
      ]
     },
     "execution_count": 9,
     "metadata": {},
     "output_type": "execute_result"
    }
   ],
   "source": [
    "\"\"\"\n",
    "Start functions from: \n",
    "loading_combining_smart_gas_weather_generalized\n",
    "\"\"\"\n",
    "def clean_datetime(df):\n",
    "    \"\"\"\n",
    "    Input should be a df with a column called 'datetime'.\n",
    "    This function checks wether a row in the df.datetime column can be parsed to a pandas datetime object,\n",
    "    by trying pd.to_datetime() on it.\n",
    "    If it fails it will replace that row with np.nan().\n",
    "    Finally this function will return the df with the NaN rows dropped.\n",
    "    It only drops the row if the datetime column contains a NaN.\n",
    "    \"\"\"\n",
    "    for i in range(len(df)):\n",
    "        try:\n",
    "            pd.to_datetime(df.datetime[i])\n",
    "        except ValueError:\n",
    "            print('-----')\n",
    "            print('ValueError at index = %s' % i)\n",
    "            print(df.datetime[i])\n",
    "            df.datetime = df.datetime.replace(df.datetime[i], np.nan)\n",
    "    df = df.dropna(subset = ['datetime'])\n",
    "    return df\n",
    "\n",
    "\n",
    "def clean_prepare_smart_gas(file_path):\n",
    "    \"\"\"\n",
    "    Input is a dwelling_id.csv file.\n",
    "    Output are cleaned & prepared dataframes (smart, gas).\n",
    "    Return: smart, gas\n",
    "    \"\"\"\n",
    "    df = pd.read_csv(file_path, delimiter=';', header=0)\n",
    "    smart = df.iloc[:,:7]\n",
    "    gas = df.iloc[:,7:]\n",
    "    \n",
    "    smart = smart.rename(index=str,columns={\"Timestamp\":\"datetime\"})\n",
    "    gas = gas.rename(index=str,columns={\"gasTimestamp\":\"datetime\"})\n",
    "\n",
    "    smart = clean_datetime(smart)\n",
    "    gas = clean_datetime(gas)\n",
    "    \n",
    "    smart['datetime'] = pd.to_datetime(smart['datetime'])\n",
    "    gas['datetime'] = pd.to_datetime(gas['datetime'])\n",
    "\n",
    "    \n",
    "    smart = smart.set_index(['datetime'])\n",
    "    gas = gas.set_index(['datetime'])\n",
    "\n",
    "    return smart, gas\n",
    "\n",
    "\n",
    "def resample_smart_gas(smart, gas):\n",
    "    \"\"\"\n",
    "    Resamples the (smart, gas) dfs to 10s.\n",
    "    Also calculates gasPower. \n",
    "    Returns (smart_resampled, gas_resampled)\n",
    "    \"\"\"\n",
    "    smart_resampled = smart.resample('10s').mean()\n",
    "    \n",
    "    gas_resampled = gas.resample('H').mean()\n",
    "    # replace 0s with NaNs\n",
    "    gas_resampled = gas_resampled.resample('10s').interpolate(method='time')\n",
    "    gas_resampled['gasPower'] = gas_resampled['gasMeter'].diff()\n",
    "    \n",
    "    return smart_resampled, gas_resampled\n",
    "\n",
    "\n",
    "def merge_smart_gas_weather(smart_resampled, gas_resampled, weather):\n",
    "    \"\"\"\n",
    "    Merges the dataframes, outputs one df.\n",
    "    \"\"\"\n",
    "    df = pd.merge(smart_resampled, gas_resampled, left_index=True, right_index=True)\n",
    "    df = pd.merge(df, weather, left_index=True, right_index=True)\n",
    "    \n",
    "    return df\n",
    "\n",
    "\n",
    "def save_df(df, dwelling_id):\n",
    "    dir = '//datc//opschaler//combined_dfs_gas_smart_weather//'\n",
    "    df.to_csv(dir+dwelling_id+'.csv', sep='\\t', index=True)\n",
    "    print('Saved %s' % dwelling_id)\n",
    "\n",
    "\"\"\"\n",
    "End of functions from:\n",
    "loading_combining_smart_gas_weather_generalized\n",
    "\"\"\""
   ]
  },
  {
   "cell_type": "markdown",
   "metadata": {},
   "source": [
    "# Main, as a function"
   ]
  },
  {
   "cell_type": "code",
   "execution_count": null,
   "metadata": {},
   "outputs": [],
   "source": [
    "def main():\n",
    "    for i,file_path in enumerate(file_paths):\n",
    "        t1 = time.time()\n",
    "        dwelling_id = file_paths[i][-15:-4]\n",
    "        print('Started iteration %s, processing dwelling_id: %s' % (i,dwelling_id))\n",
    "        \n",
    "        smart, gas = clean_prepare_smart_gas(file_paths[i])\n",
    "        smart_resampled, gas_resampled = resample_smart_gas(smart, gas)\n",
    "        df = merge_smart_gas_weather(smart_resampled, gas_resampled, weather)\n",
    "        save_df(df, dwelling_id)\n",
    "        t2 = time.time()\n",
    "        print('Finished iteration %s in %.1f [s], Finished processing dwelling_id: %s, ' % (i,(t2-t1), dwelling_id))\n",
    "        print('-----')"
   ]
  }
 ],
 "metadata": {
  "kernelspec": {
   "display_name": "Python 3",
   "language": "python",
   "name": "python3"
  },
  "language_info": {
   "codemirror_mode": {
    "name": "ipython",
    "version": 3
   },
   "file_extension": ".py",
   "mimetype": "text/x-python",
   "name": "python",
   "nbconvert_exporter": "python",
   "pygments_lexer": "ipython3",
   "version": "3.6.6"
  }
 },
 "nbformat": 4,
 "nbformat_minor": 2
}
