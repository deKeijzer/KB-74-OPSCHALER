{
 "cells": [
  {
   "cell_type": "code",
   "execution_count": 7,
   "metadata": {},
   "outputs": [],
   "source": [
    "import numpy as np\n",
    "import matplotlib.pyplot as plt\n",
    "from matplotlib import style\n",
    "import pandas as pd\n",
    "from collections import Counter\n",
    "import keras\n",
    "import pickle\n",
    "from keras.layers import Dense, Conv1D, MaxPool2D, Flatten, Dropout, Conv2D, MaxPooling1D, TimeDistributed, LeakyReLU, SeparableConv2D\n",
    "from keras.layers import Input, Dense,Activation, LSTM, MaxPooling1D, Flatten, LeakyReLU, Dropout\n",
    "from keras.models import Model\n",
    "from keras import backend as K\n",
    "from keras.optimizers import Adam\n",
    "from keras.models import load_model\n",
    "from sklearn.model_selection import train_test_split\n",
    "from sklearn.preprocessing import StandardScaler\n",
    "sc=StandardScaler()\n",
    "\n",
    "from sklearn.preprocessing import Normalizer\n",
    "\n",
    "df = pd.read_csv('//datc//opschaler//combined_gas_smart_weather_dfs//processed/all_dwellings_combined_hour.csv', delimiter='\\t', parse_dates=['datetime'])\n",
    "df = df.set_index(['datetime'])\n",
    "df = df.dropna()\n",
    "\n",
    "\n",
    "def getdata():\n",
    "    \"Getting saved features and labels\"\n",
    "    with open('features', 'rb') as fp:\n",
    "        X=pickle.load(fp)\n",
    "\n",
    "    with open('labels', 'rb') as fp:\n",
    "        y=pickle.load(fp)\n",
    "    return X,y\n",
    "\n",
    "X,y=getdata()\n",
    "\n",
    "X=sc.fit_transform(X)\n",
    "\n",
    "X=Normalizer().fit_transform(X)\n",
    "\n",
    "X=np.expand_dims(X,axis=2)\n",
    "\n",
    "X_train, X_test, y_train, y_test=train_test_split(X,y,test_size=0.1)"
   ]
  },
  {
   "cell_type": "code",
   "execution_count": 9,
   "metadata": {},
   "outputs": [
    {
     "name": "stdout",
     "output_type": "stream",
     "text": [
      "Train on 94894 samples, validate on 10544 samples\n",
      "Epoch 1/10\n",
      "94894/94894 [==============================] - 193s - loss: 0.9552 - val_loss: 0.9742\n",
      "Epoch 2/10\n",
      "94894/94894 [==============================] - 186s - loss: 0.9353 - val_loss: 0.9584\n",
      "Epoch 3/10\n",
      "94894/94894 [==============================] - 184s - loss: 0.9239 - val_loss: 0.9484\n",
      "Epoch 4/10\n",
      "94894/94894 [==============================] - 186s - loss: 0.9131 - val_loss: 0.9364\n",
      "Epoch 5/10\n",
      "94894/94894 [==============================] - 185s - loss: 0.9057 - val_loss: 0.9401\n",
      "Epoch 6/10\n",
      "94894/94894 [==============================] - 152s - loss: 0.9013 - val_loss: 0.9430\n",
      "Epoch 7/10\n",
      "94894/94894 [==============================] - 147s - loss: 0.8956 - val_loss: 0.9185\n",
      "Epoch 8/10\n",
      "94894/94894 [==============================] - 147s - loss: 0.8899 - val_loss: 0.9120\n",
      "Epoch 9/10\n",
      "94894/94894 [==============================] - 146s - loss: 0.8851 - val_loss: 0.9118\n",
      "Epoch 10/10\n",
      "94894/94894 [==============================] - 147s - loss: 0.8804 - val_loss: 0.9023\n"
     ]
    }
   ],
   "source": [
    "input = Input(shape=(14,1))  #lstm network\n",
    "\n",
    "lstm=LSTM(16, return_sequences=True)(input)\n",
    "maxp=MaxPooling1D()(lstm)\n",
    "\n",
    "lstm=LSTM(32, return_sequences=True)(maxp)\n",
    "maxp=MaxPooling1D()(lstm)\n",
    "\n",
    "flat=Flatten()(maxp)\n",
    "\n",
    "d=Dense(64, activation='relu')(flat)\n",
    "\n",
    "d=Dense(128, activation='relu')(d)\n",
    "\n",
    "d=Dense(256, activation='relu')(d)\n",
    "\n",
    "d=Dense(512, activation='relu')(d)\n",
    "\n",
    "output = Dense(1, activation='linear')(d)\n",
    "\n",
    "model = Model(inputs=input, outputs=output)\n",
    "\n",
    "adam=Adam(lr=0.0001)\n",
    "\n",
    "model.compile(optimizer=adam, loss='mse')\n",
    "\n",
    "model.fit(X_train,y_train,batch_size=16, epochs=10,validation_data=(X_test,y_test))\n",
    "\n",
    "model.save('lstm')"
   ]
  },
  {
   "cell_type": "code",
   "execution_count": 2,
   "metadata": {},
   "outputs": [
    {
     "ename": "NameError",
     "evalue": "name 'X_test' is not defined",
     "output_type": "error",
     "traceback": [
      "\u001b[0;31m---------------------------------------------------------------------------\u001b[0m",
      "\u001b[0;31mNameError\u001b[0m                                 Traceback (most recent call last)",
      "\u001b[0;32m<ipython-input-2-93e7dd59e237>\u001b[0m in \u001b[0;36m<module>\u001b[0;34m\u001b[0m\n\u001b[1;32m      2\u001b[0m \u001b[0mmodel\u001b[0m\u001b[0;34m=\u001b[0m\u001b[0mload_model\u001b[0m\u001b[0;34m(\u001b[0m\u001b[0;34m'lstm'\u001b[0m\u001b[0;34m)\u001b[0m\u001b[0;34m\u001b[0m\u001b[0;34m\u001b[0m\u001b[0m\n\u001b[1;32m      3\u001b[0m \u001b[0;34m\u001b[0m\u001b[0m\n\u001b[0;32m----> 4\u001b[0;31m \u001b[0mpreds\u001b[0m\u001b[0;34m=\u001b[0m\u001b[0mmodel\u001b[0m\u001b[0;34m.\u001b[0m\u001b[0mpredict\u001b[0m\u001b[0;34m(\u001b[0m\u001b[0mX_test\u001b[0m\u001b[0;34m)\u001b[0m\u001b[0;34m\u001b[0m\u001b[0;34m\u001b[0m\u001b[0m\n\u001b[0m\u001b[1;32m      5\u001b[0m \u001b[0;34m\u001b[0m\u001b[0m\n\u001b[1;32m      6\u001b[0m \u001b[0;32mimport\u001b[0m \u001b[0mmatplotlib\u001b[0m\u001b[0;34m.\u001b[0m\u001b[0mpyplot\u001b[0m \u001b[0;32mas\u001b[0m \u001b[0mplt\u001b[0m\u001b[0;34m\u001b[0m\u001b[0;34m\u001b[0m\u001b[0m\n",
      "\u001b[0;31mNameError\u001b[0m: name 'X_test' is not defined"
     ]
    }
   ],
   "source": [
    "from keras.models import load_model\n",
    "model=load_model('lstm')\n",
    "\n",
    "preds=model.predict(X_test)\n",
    "\n",
    "import matplotlib.pyplot as plt\n",
    "\n",
    "x=np.arange(len(preds))\n",
    "\n",
    "plt.plot(x,preds)\n",
    "plt.plot(x, y_test)\n",
    "\n",
    "plt.xlabel('Testing Example')\n",
    "plt.ylabel('Gas Power')\n",
    "\n",
    "plt.legend((\"Predicted\", \"Actual\"), loc='best')\n",
    "\n",
    "plt.title(\"Results of LSTM\")\n",
    "plt.show()"
   ]
  },
  {
   "cell_type": "code",
   "execution_count": null,
   "metadata": {},
   "outputs": [],
   "source": [
    "#plt load LSTM PNG\n",
    "#See github, sync problem with pycharm\n",
    "#results not accurate"
   ]
  },
  {
   "cell_type": "code",
   "execution_count": null,
   "metadata": {},
   "outputs": [],
   "source": []
  }
 ],
 "metadata": {
  "kernelspec": {
   "display_name": "Python 3",
   "language": "python",
   "name": "python3"
  },
  "language_info": {
   "codemirror_mode": {
    "name": "ipython",
    "version": 3
   },
   "file_extension": ".py",
   "mimetype": "text/x-python",
   "name": "python",
   "nbconvert_exporter": "python",
   "pygments_lexer": "ipython3",
   "version": "3.6.8"
  }
 },
 "nbformat": 4,
 "nbformat_minor": 2
}
