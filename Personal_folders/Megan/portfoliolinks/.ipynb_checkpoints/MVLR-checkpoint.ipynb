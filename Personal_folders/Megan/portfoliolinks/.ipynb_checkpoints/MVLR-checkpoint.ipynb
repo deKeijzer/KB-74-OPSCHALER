{
 "cells": [
  {
   "cell_type": "code",
   "execution_count": 3,
   "metadata": {},
   "outputs": [],
   "source": [
    "import numpy as np\n",
    "import pandas as pd\n",
    "import matplotlib.pyplot as plt\n",
    "from tqdm import tqdm\n",
    "import csv\n",
    "from matplotlib import style\n",
    "import string\n",
    "from collections import Counter\n",
    "import sys\n",
    "import pickle\n",
    "import glob\n",
    "from keras.layers import Dense\n",
    "from keras.layers import LSTM\n",
    "from keras.models import Model\n",
    "from keras.layers import Input, Dense, Flatten, Dropout\n",
    "from keras.optimizers import Adam\n",
    "from keras.preprocessing.sequence import pad_sequences\n",
    "from sklearn.ensemble import RandomForestClassifier\n",
    "import _pickle as cPickle\n",
    "\n",
    "from sklearn.model_selection import train_test_split\n",
    "from sklearn.preprocessing import StandardScaler\n",
    "sc=StandardScaler()"
   ]
  },
  {
   "cell_type": "code",
   "execution_count": 4,
   "metadata": {},
   "outputs": [],
   "source": [
    "df = pd.read_csv('//datc//opschaler//combined_gas_smart_weather_dfs//processed/all_dwellings_combined_hour.csv', delimiter='\\t', parse_dates=['datetime'])\n",
    "df = df.set_index(['datetime'])\n",
    "df = df.dropna()"
   ]
  },
  {
   "cell_type": "code",
   "execution_count": 5,
   "metadata": {},
   "outputs": [
    {
     "name": "stdout",
     "output_type": "stream",
     "text": [
      "(105438, 14)\n",
      "(105438, 1)\n"
     ]
    }
   ],
   "source": [
    "with open('features', 'rb') as fp:\n",
    "    X=pickle.load(fp)\n",
    "\n",
    "with open('labels', 'rb') as fp:\n",
    "    y=pickle.load(fp)\n",
    "\n",
    "print(X.shape)\n",
    "print(y.shape)\n",
    "    \n",
    "X = X.astype(float)\n",
    "y = y.astype(float)\n",
    "\n",
    "X_train, X_test, y_train, y_test=train_test_split(X,y,test_size=0.1)\n"
   ]
  },
  {
   "cell_type": "code",
   "execution_count": 6,
   "metadata": {},
   "outputs": [
    {
     "name": "stdout",
     "output_type": "stream",
     "text": [
      "Testing acc: 13.066692513008427\n",
      "Training acc: 12.175039338986481\n"
     ]
    }
   ],
   "source": [
    "import numpy as np\n",
    "from sklearn.linear_model import LinearRegression\n",
    "clf = LinearRegression(normalize=True,n_jobs=-1)\n",
    "clf.fit(X_train,y_train)        #fitting multivariate linear regression\n",
    "\n",
    "print(\"Testing acc:\",clf.score(X_test,y_test)*100)\n",
    "\n",
    "print(\"Training acc:\",clf.score(X_train,y_train)*100)\n",
    "\n",
    "with open('mvlr.pkl', 'wb') as fid:\n",
    "    cPickle.dump(clf, fid)"
   ]
  },
  {
   "cell_type": "code",
   "execution_count": 8,
   "metadata": {},
   "outputs": [
    {
     "data": {
      "image/png": "[encoded data removed]",
      "text/plain": [
       "<Figure size 432x288 with 1 Axes>"
      ]
     },
     "metadata": {
      "needs_background": "light"
     },
     "output_type": "display_data"
    }
   ],
   "source": [
    "from keras.models import load_model\n",
    "model=clf\n",
    "\n",
    "preds=model.predict(X_test)\n",
    "\n",
    "import matplotlib.pyplot as plt\n",
    "\n",
    "x=np.arange(len(preds))\n",
    "\n",
    "plt.plot(x,preds)\n",
    "plt.plot(x, y_test)\n",
    "\n",
    "plt.xlabel('Testing Example')\n",
    "plt.ylabel('Gas Power')\n",
    "\n",
    "plt.legend((\"Predicted\", \"Actual\"), loc='best')\n",
    "\n",
    "plt.title(\"Results of MVLR\")\n",
    "plt.show()"
   ]
  },
  {
   "cell_type": "code",
   "execution_count": null,
   "metadata": {},
   "outputs": [],
   "source": [
    "#zoals te zien zijn de resultaten van de MVLR t.o.v. niet optimaal in vergelijking met andere modellen"
   ]
  }
 ],
 "metadata": {
  "kernelspec": {
   "display_name": "Python 3",
   "language": "python",
   "name": "python3"
  },
  "language_info": {
   "codemirror_mode": {
    "name": "ipython",
    "version": 3
   },
   "file_extension": ".py",
   "mimetype": "text/x-python",
   "name": "python",
   "nbconvert_exporter": "python",
   "pygments_lexer": "ipython3",
   "version": "3.6.8"
  }
 },
 "nbformat": 4,
 "nbformat_minor": 2
}
