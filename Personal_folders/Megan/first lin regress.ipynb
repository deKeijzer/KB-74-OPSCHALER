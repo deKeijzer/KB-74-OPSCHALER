{
 "cells": [
  {
   "cell_type": "code",
   "execution_count": null,
   "metadata": {},
   "outputs": [],
   "source": [
    "import pandas as pd\n",
    "import numpy as np\n",
    "from sklearn import datasets, linear_model\n",
    "import matplotlib.pyplot as plt\n",
    "%matplotlib notebook\n",
    "from scipy.stats import linregress\n",
    "\n",
    "\n",
    "df = pd.read_csv('/datc/opschaler/output/P01S01W0378_gas_electricity_weather.csv',header = 0, delimiter=\"\\t\")"
   ]
  },
  {
   "cell_type": "code",
   "execution_count": null,
   "metadata": {},
   "outputs": [],
   "source": [
    "df.head()"
   ]
  },
  {
   "cell_type": "code",
   "execution_count": null,
   "metadata": {},
   "outputs": [],
   "source": [
    "df.describe(include = 'all')"
   ]
  },
  {
   "cell_type": "code",
   "execution_count": null,
   "metadata": {},
   "outputs": [],
   "source": [
    "# Nodig voor latex rendering\n",
    "from matplotlib import rc\n",
    "rc('font',**{'family':'sans-serif','sans-serif':['Helvetica']})\n",
    "rc('text', usetex=True)\n",
    "plt.rc('text', usetex=True)\n",
    "plt.rc('font', family='serif')\n"
   ]
  },
  {
   "cell_type": "code",
   "execution_count": null,
   "metadata": {},
   "outputs": [],
   "source": [
    "a = pd.DataFrame()\n",
    "a['eMeter'] = df['ePower']\n",
    "a['gasMeter'] = df['gasPower']"
   ]
  },
  {
   "cell_type": "code",
   "execution_count": null,
   "metadata": {},
   "outputs": [],
   "source": [
    "plt.close()\n",
    "label_tekst = 'Sample 1-%s: $B$=%s' % (sample, B)\n",
    "#plt.errorbar(a['I'], a['U'], df['dU_H'], df['dI_plaat'], 'o', markeredgewidth=1, markeredgecolor='r',markerfacecolor='None', label=label_tekst, capsize=3, elinewidth=1, color='r',markersize=5)\n",
    "plt.errorbar(a['eMeter'], a['gasMeter'], df['ePower'], df['gasPower'], '.', label=label_tekst, capsize=3, elinewidth=0.5, color='crimson')\n",
    "\n",
    "\n",
    "#fit plotten\n",
    "fit = linregress(a['eMeter'], a['gasMeter'])\n",
    "\n",
    "R_H = fit[0]*10**-6*(d/B)*10**11\n",
    "n = 1/(R_H*e)*10**28\n",
    "n = str(n)[:3]\n",
    "fit_label='Fit: $U_H$($I$)=%.3f\\cdot $I$ +%.3f \\quad \\n R$^2$=%.4f \\qquad $\\mathrm{stderr}$=%.3f \\n $R_H$=%.3s \\cdot 10^{11} \\quad $n$=' % (fit[0], fit[1], fit[2], fit[4], R_H)+n+'\\cdot 10^{28}'\n",
    "plt.plot(a['eMeter'], fit[0]*a['eMeter']+fit[1], '-', label=fit_label, color='crimson')\n",
    "\n",
    "plt.legend()\n",
    "plt.grid()\n",
    "plt.xlabel('E $I$ [Kw/h]')\n",
    "plt.ylabel('E $U_H$ \\mathrm{[\\mu V]}}')\n",
    "\n",
    "#correcte opmaak\n",
    "tn.PRECISION_X = 3\n",
    "tn.PRECISION_Y = 3\n",
    "tn.fix_axis(plt.gca())\n",
    "\n",
    "fit\n",
    "print(R_H)\n",
    "print(n)\n",
    "plt.savefig('output\\\\-'+str(sample)+'.png', dpi=200)\n"
   ]
  },
  {
   "cell_type": "code",
   "execution_count": null,
   "metadata": {},
   "outputs": [],
   "source": []
  },
  {
   "cell_type": "code",
   "execution_count": null,
   "metadata": {},
   "outputs": [],
   "source": []
  },
  {
   "cell_type": "code",
   "execution_count": null,
   "metadata": {},
   "outputs": [],
   "source": []
  }
 ],
 "metadata": {
  "kernelspec": {
   "display_name": "Python 3",
   "language": "python",
   "name": "python3"
  },
  "language_info": {
   "codemirror_mode": {
    "name": "ipython",
    "version": 3
   },
   "file_extension": ".py",
   "mimetype": "text/x-python",
   "name": "python",
   "nbconvert_exporter": "python",
   "pygments_lexer": "ipython3",
   "version": "3.6.8"
  }
 },
 "nbformat": 4,
 "nbformat_minor": 2
}
