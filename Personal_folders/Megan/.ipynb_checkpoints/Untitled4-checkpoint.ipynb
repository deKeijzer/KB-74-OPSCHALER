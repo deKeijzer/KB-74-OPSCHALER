{
 "cells": [
  {
   "cell_type": "code",
   "execution_count": 20,
   "metadata": {},
   "outputs": [
    {
     "data": {
      "text/plain": [
       "0.000000    1112\n",
       "0.002930      10\n",
       "0.001953       8\n",
       "0.007080       7\n",
       "0.010010       7\n",
       "0.020996       6\n",
       "0.014893       6\n",
       "0.031982       5\n",
       "0.012939       5\n",
       "0.025146       5\n",
       "0.032959       5\n",
       "0.240967       4\n",
       "0.371094       4\n",
       "0.271973       4\n",
       "0.319092       4\n",
       "0.033936       4\n",
       "0.039062       4\n",
       "0.017822       4\n",
       "0.064941       4\n",
       "0.020020       4\n",
       "0.042969       4\n",
       "0.011963       4\n",
       "0.302979       4\n",
       "0.074951       4\n",
       "0.169922       4\n",
       "0.303955       4\n",
       "0.437012       3\n",
       "0.028076       3\n",
       "0.322021       3\n",
       "0.281982       3\n",
       "            ... \n",
       "0.235840       1\n",
       "0.376221       1\n",
       "0.553955       1\n",
       "0.114990       1\n",
       "0.559814       1\n",
       "0.248779       1\n",
       "0.647949       1\n",
       "0.488037       1\n",
       "0.067871       1\n",
       "0.072998       1\n",
       "0.265869       1\n",
       "0.286133       1\n",
       "0.596924       1\n",
       "0.528076       1\n",
       "0.052979       1\n",
       "1.067871       1\n",
       "0.404053       1\n",
       "0.616211       1\n",
       "1.007080       1\n",
       "0.425049       1\n",
       "0.291016       1\n",
       "0.377930       1\n",
       "0.017090       1\n",
       "0.093018       1\n",
       "1.051025       1\n",
       "0.429199       1\n",
       "0.241211       1\n",
       "0.326904       1\n",
       "0.197021       1\n",
       "0.160889       1\n",
       "Length: 543, dtype: int64"
      ]
     },
     "execution_count": 20,
     "metadata": {},
     "output_type": "execute_result"
    }
   ],
   "source": [
    "import matplotlib.pyplot as plt\n",
    "import numpy as np\n",
    "import pandas as pd\n",
    "\n",
    "dir = '//datc//opschaler//combined_gas_smart_weather_dfs//processed//'\n",
    "dwelling_id = 'P01S01W5855_hour'\n",
    "h = pd.read_csv(dir+dwelling_id+'.csv', delimiter='\\t', parse_dates=['datetime'])\n",
    "h = h.set_index(['datetime'])\n",
    "h.head()\n",
    "pd.value_counts(df['gasPower'].values)"
   ]
  },
  {
   "cell_type": "code",
   "execution_count": 26,
   "metadata": {},
   "outputs": [
    {
     "data": {
      "image/png": "[encoded data removed]",
      "text/plain": [
       "<Figure size 432x288 with 1 Axes>"
      ]
     },
     "metadata": {},
     "output_type": "display_data"
    }
   ],
   "source": [
    "fig = plt.figure()\n",
    "pi  = np.pi\n",
    "x = np.linspace(-pi,pi,100)\n",
    "ao = (1/(2*pi))\n",
    "y = ao + (1/pi)*(np.cos(x)+np.cos(2*x)+np.cos(3*x) + np.cos(4*x)+np.cos(5*x)+np.cos(6*x) + np.cos(7*x) + np.cos(8*x) + np.cos(9*x)+np.cos(10*x))\n",
    "\n",
    "plt.plot(x,y)\n",
    "plt.show()"
   ]
  },
  {
   "cell_type": "code",
   "execution_count": null,
   "metadata": {},
   "outputs": [],
   "source": []
  },
  {
   "cell_type": "code",
   "execution_count": null,
   "metadata": {},
   "outputs": [],
   "source": []
  }
 ],
 "metadata": {
  "kernelspec": {
   "display_name": "Python 3",
   "language": "python",
   "name": "python3"
  },
  "language_info": {
   "codemirror_mode": {
    "name": "ipython",
    "version": 3
   },
   "file_extension": ".py",
   "mimetype": "text/x-python",
   "name": "python",
   "nbconvert_exporter": "python",
   "pygments_lexer": "ipython3",
   "version": "3.6.6"
  }
 },
 "nbformat": 4,
 "nbformat_minor": 2
}
