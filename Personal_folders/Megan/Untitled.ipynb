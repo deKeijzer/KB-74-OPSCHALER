{
 "cells": [
  {
   "cell_type": "code",
   "execution_count": 1,
   "metadata": {},
   "outputs": [],
   "source": [
    "import numpy as np \n",
    "import matplotlib.pyplot as plt\n",
    "\n",
    "class GradientDescent():\n",
    "    def __init__(self, alpha=0.1, tolerance=0.02, max_iterations=500):\n",
    "#alpha is the learning rate or size of step to take in \n",
    "        #the gradient decent\n",
    "        self._alpha = alpha\n",
    "        self._tolerance = tolerance\n",
    "        self._max_iterations = max_iterations\n",
    "#thetas is the array coeffcients for each term\n",
    "#the y-intercept is the last element\n",
    "            self._thetas = None\n",
    "\n",
    "def fit(self, xs, ys):\n",
    "        num_examples, num_features = np.shape(xs)\n",
    "        self._thetas = np.ones(num_features)\n",
    "\n",
    "        xs_transposed = xs.transpose()\n",
    "        for i in range(self._max_iterations):\n",
    "            #difference between our hypothesis and actual values\n",
    "        diffs = np.dot(xs,self._thetas) - ys\n",
    "        #sum of the squares\n",
    "        cost = np.sum(diffs**2) / (2*num_examples)\n",
    "        #calculate averge gradient for every example\n",
    "        gradient = np.dot(xs_transposed, diffs) / num_examples\n",
    "        #update the coeffcients\n",
    "        self._thetas = self._thetas-self._alpha*gradient\n",
    "        #check if fit is \"good enough\"\n",
    "        if cost < self._tolerance:\n",
    "        return self._thetas\n",
    "        return self._thetas\n",
    "\n",
    "    def predict(self, x):\n",
    "        return np.dot(x, self._thetas)"
   ]
  },
  {
   "cell_type": "code",
   "execution_count": null,
   "metadata": {},
   "outputs": [],
   "source": []
  }
 ],
 "metadata": {
  "kernelspec": {
   "display_name": "Python 3",
   "language": "python",
   "name": "python3"
  },
  "language_info": {
   "codemirror_mode": {
    "name": "ipython",
    "version": 3
   },
   "file_extension": ".py",
   "mimetype": "text/x-python",
   "name": "python",
   "nbconvert_exporter": "python",
   "pygments_lexer": "ipython3",
   "version": "3.6.8"
  }
 },
 "nbformat": 4,
 "nbformat_minor": 2
}
