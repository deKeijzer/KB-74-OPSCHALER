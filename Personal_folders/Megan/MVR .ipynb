{
 "cells": [
  {
   "cell_type": "code",
   "execution_count": 2,
   "metadata": {},
   "outputs": [
    {
     "ename": "SyntaxError",
     "evalue": "EOL while scanning string literal (<ipython-input-2-b3f5264d3d59>, line 8)",
     "output_type": "error",
     "traceback": [
      "\u001b[0;36m  File \u001b[0;32m\"<ipython-input-2-b3f5264d3d59>\"\u001b[0;36m, line \u001b[0;32m8\u001b[0m\n\u001b[0;31m    df = pd.read_csv('//datc//opschaler//combined_gas_smart_weather_dfs//processed/all_dwellings_combined_hour.csv', delimiter='\\t', parse_dates=['datetime']).csv')\u001b[0m\n\u001b[0m                                                                                                                                                                    ^\u001b[0m\n\u001b[0;31mSyntaxError\u001b[0m\u001b[0;31m:\u001b[0m EOL while scanning string literal\n"
     ]
    }
   ],
   "source": [
    "import pandas as pd\n",
    "import seaborn as sns\n",
    "import matplotlib.pyplot as plt\n",
    "import numpy as np\n",
    "import sklearn as sk \n",
    "\n",
    "\n",
    "df = pd.read_csv('//datc//opschaler//combined_gas_smart_weather_dfs//processed/all_dwellings_combined_hour.csv', delimiter='\\t', parse_dates=['datetime']).csv')\n",
    "df = df.set_index(['datetime'])\n",
    "df = df.dropna()\n",
    "\n",
    "#voor correlatie seaborn heatmap creëren\n",
    "sns.pairplot(df)\n",
    "\n",
    "Grootte seaborn instellen\n",
    "sns.heatmap(df.corr(),linewidth = 0.2, vmax=1.0, square=True, linecolor='red',annot=True)\n",
    "\n",
    "#Locatie features instellen samen met de juiste labels\n",
    "\n",
    "features = df.iloc[:,0:-1].values\n",
    "labels = df.iloc[:,-1].values\n",
    "\n",
    "#Kruis validatie(train_test_split)\n",
    "\n",
    "from sklearn.cross_validation import train_test_split\n",
    "X_train, X_test, y_train, y_test = train_test_split(features,labels,test_size=0.3,random_state=0)\n",
    "\n",
    "\n",
    "Model lineaire regressie importeren \n",
    "from sklearn.linear_model import LinearRegression\n",
    "\n",
    "regressor = LinearRegression()\n",
    "regressor.fit(X_train,y_train)\n",
    "\n",
    "#Voorspellen regressie\n",
    "y_pred = regressor.predict(X_test)\n",
    "\n",
    "#Regress coeff printen voor weergave\n",
    "\n",
    "print(regressor.coef_)\n",
    "print(regressor.intercept_)\n",
    "\n",
    "#Is niet accuraat ? Why idk\n",
    "\n",
    "print('Train Score :', regressor.score(X_train,y_train))\n",
    "print('Test Score:', regressor.score(X_test,y_test))\n",
    "\n",
    "\n",
    "#verificatie predicted value\n",
    "\n",
    "y_output0 = regressor.intercept_ + regressor.coef_[0]*X_test[0][0] + regressor.coef_[1]*X_test[0][1] + regressor.coef_[2]*X_test[0][2] + regressor.coef_[3]*X_test[0][3] \n",
    "\n",
    "y_output1 = regressor.intercept_ + regressor.coef_[0]*X_test[1][0] + regressor.coef_[1]*X_test[1][1] + regressor.coef_[2]*X_test[1][2] + regressor.coef_[3]*X_test[1][3] \n",
    "\n",
    "#MSE, RMSE printen/berekenen, MSE misschien n.v.t.\n",
    "\n",
    "from sklearn import metrics\n",
    "\n",
    "print('MSE :', metrics.mean_squared_error(y_test,y_pred))\n",
    "\n",
    "print('RMSE :', np.sqrt(metrics.mean_squared_error(y_test,y_pred)))\n",
    "\n",
    "X1 = [[80, 1770000, 6000, 85]]\n",
    "out1 = regressor.predict(X1)\n"
   ]
  },
  {
   "cell_type": "code",
   "execution_count": 1,
   "metadata": {},
   "outputs": [
    {
     "ename": "NameError",
     "evalue": "name 'datc' is not defined",
     "output_type": "error",
     "traceback": [
      "\u001b[0;31m---------------------------------------------------------------------------\u001b[0m",
      "\u001b[0;31mNameError\u001b[0m                                 Traceback (most recent call last)",
      "\u001b[0;32m<ipython-input-1-6258aab2c2f5>\u001b[0m in \u001b[0;36m<module>\u001b[0;34m\u001b[0m\n\u001b[0;32m----> 1\u001b[0;31m \u001b[0mdatc\u001b[0m\u001b[0;34m/\u001b[0m\u001b[0mopschaler\u001b[0m\u001b[0;34m/\u001b[0m\u001b[0mcombined_gas_smart_weather_dfs\u001b[0m\u001b[0;34m/\u001b[0m\u001b[0mprocessed\u001b[0m\u001b[0;34m(\u001b[0m\u001b[0;34m)\u001b[0m\u001b[0;34m\u001b[0m\u001b[0;34m\u001b[0m\u001b[0m\n\u001b[0m",
      "\u001b[0;31mNameError\u001b[0m: name 'datc' is not defined"
     ]
    }
   ],
   "source": [
    "/datc/opschaler/combined_gas_smart_weather_dfs/processed"
   ]
  },
  {
   "cell_type": "code",
   "execution_count": null,
   "metadata": {},
   "outputs": [],
   "source": []
  }
 ],
 "metadata": {
  "kernelspec": {
   "display_name": "Python 3",
   "language": "python",
   "name": "python3"
  },
  "language_info": {
   "codemirror_mode": {
    "name": "ipython",
    "version": 3
   },
   "file_extension": ".py",
   "mimetype": "text/x-python",
   "name": "python",
   "nbconvert_exporter": "python",
   "pygments_lexer": "ipython3",
   "version": "3.6.7"
  }
 },
 "nbformat": 4,
 "nbformat_minor": 2
}
