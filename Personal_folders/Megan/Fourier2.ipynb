{
 "cells": [
  {
   "cell_type": "code",
   "execution_count": 2,
   "metadata": {},
   "outputs": [
    {
     "data": {
      "text/plain": [
       "<Figure size 640x480 with 3 Axes>"
      ]
     },
     "metadata": {},
     "output_type": "display_data"
    }
   ],
   "source": [
    "import numpy as np\n",
    "import matplotlib.pyplot as plt\n",
    "import pandas as pd\n",
    "resolution = 0.0001\n",
    "\n",
    "x = np.arange(-np.pi,np.pi,resolution)# -pi to pi with the interval of 0.0001\n",
    "square = np.array(x)\n",
    "square[range(x.size)] = 0\n",
    "square[range(int(x.size/2))] = 1\n",
    "square[range(int(x.size/2), int(x.size))]= 0\n",
    "np.trapz(square,x) # integration of f(x)\n",
    "a0 = (np.trapz(square,x))/ np.pi # dividing by pi which is present out side the integration\n",
    "n=1\n",
    "harm = np.sin(n*x)\n",
    "mult1 = square*harm\n",
    "fund = np.trapz(mult1,x)\n",
    "np.trapz(mult1,x)\n",
    "b1 = (np.trapz(mult1,x))/np.pi\n",
    "n=3\n",
    "harm = np.sin(n*x)\n",
    "mult2 = square*harm\n",
    "third = np.trapz(mult2,x)\n",
    "np.trapz(mult2,x)\n",
    "b3 = (np.trapz(mult2,x))/np.pi\n",
    "20*np.log10(abs(third/fund))\n",
    "plt.subplot(311)\n",
    "plt.plot(x,square)\n",
    "plt.xlabel('(x)')\n",
    "plt.ylabel('f(x)')\n",
    "plt.title('SIGNAL', fontsize=18)\n",
    "plt.subplot(312)\n",
    "plt.plot(x,mult1)\n",
    "plt.plot(x,square)\n",
    "plt.xlabel('(x)')\n",
    "plt.ylabel('sin(1*x)*f(x)')\n",
    "plt.subplot(313)\n",
    "plt.plot(x,mult2)\n",
    "plt.plot(x,square)\n",
    "plt.xlabel('(x)')\n",
    "plt.ylabel('sin(3*x)*f(x)')\n",
    "plt.show()"
   ]
  },
  {
   "cell_type": "code",
   "execution_count": 4,
   "metadata": {},
   "outputs": [
    {
     "data": {
      "text/plain": [
       "0.000000    1112\n",
       "0.002930      10\n",
       "0.001953       8\n",
       "0.007080       7\n",
       "0.010010       7\n",
       "0.020996       6\n",
       "0.014893       6\n",
       "0.031982       5\n",
       "0.012939       5\n",
       "0.025146       5\n",
       "0.032959       5\n",
       "0.240967       4\n",
       "0.371094       4\n",
       "0.271973       4\n",
       "0.319092       4\n",
       "0.033936       4\n",
       "0.039062       4\n",
       "0.017822       4\n",
       "0.064941       4\n",
       "0.020020       4\n",
       "0.042969       4\n",
       "0.011963       4\n",
       "0.302979       4\n",
       "0.074951       4\n",
       "0.169922       4\n",
       "0.303955       4\n",
       "0.437012       3\n",
       "0.028076       3\n",
       "0.322021       3\n",
       "0.281982       3\n",
       "            ... \n",
       "0.235840       1\n",
       "0.376221       1\n",
       "0.553955       1\n",
       "0.114990       1\n",
       "0.559814       1\n",
       "0.248779       1\n",
       "0.647949       1\n",
       "0.488037       1\n",
       "0.067871       1\n",
       "0.072998       1\n",
       "0.265869       1\n",
       "0.286133       1\n",
       "0.596924       1\n",
       "0.528076       1\n",
       "0.052979       1\n",
       "1.067871       1\n",
       "0.404053       1\n",
       "0.616211       1\n",
       "1.007080       1\n",
       "0.425049       1\n",
       "0.291016       1\n",
       "0.377930       1\n",
       "0.017090       1\n",
       "0.093018       1\n",
       "1.051025       1\n",
       "0.429199       1\n",
       "0.241211       1\n",
       "0.326904       1\n",
       "0.197021       1\n",
       "0.160889       1\n",
       "Length: 543, dtype: int64"
      ]
     },
     "execution_count": 4,
     "metadata": {},
     "output_type": "execute_result"
    }
   ],
   "source": [
    "dir = '//datc//opschaler//combined_gas_smart_weather_dfs//processed//'\n",
    "dwelling_id = 'P01S01W5855_hour'\n",
    "df = pd.read_csv(dir+dwelling_id+'.csv', delimiter='\\t', parse_dates=['datetime'])\n",
    "df = df.set_index(['datetime'])\n",
    "df.head()\n",
    "\n",
    "pd.value_counts(df['gasPower'].values)"
   ]
  },
  {
   "cell_type": "code",
   "execution_count": null,
   "metadata": {},
   "outputs": [],
   "source": []
  },
  {
   "cell_type": "code",
   "execution_count": null,
   "metadata": {},
   "outputs": [],
   "source": []
  },
  {
   "cell_type": "code",
   "execution_count": null,
   "metadata": {},
   "outputs": [],
   "source": []
  }
 ],
 "metadata": {
  "kernelspec": {
   "display_name": "Python 3",
   "language": "python",
   "name": "python3"
  },
  "language_info": {
   "codemirror_mode": {
    "name": "ipython",
    "version": 3
   },
   "file_extension": ".py",
   "mimetype": "text/x-python",
   "name": "python",
   "nbconvert_exporter": "python",
   "pygments_lexer": "ipython3",
   "version": "3.6.6"
  }
 },
 "nbformat": 4,
 "nbformat_minor": 2
}
