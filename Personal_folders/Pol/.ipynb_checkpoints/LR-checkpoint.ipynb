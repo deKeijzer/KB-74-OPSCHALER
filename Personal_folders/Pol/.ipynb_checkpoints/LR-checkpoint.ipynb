{
 "cells": [
  {
   "cell_type": "code",
   "execution_count": 1,
   "metadata": {},
   "outputs": [],
   "source": [
    "import tensorflow as tf\n",
    "import numpy as np\n",
    "import pandas as pd\n",
    "import seaborn as sns\n",
    "import matplotlib.pyplot as plt"
   ]
  },
  {
   "cell_type": "code",
   "execution_count": null,
   "metadata": {},
   "outputs": [],
   "source": []
  },
  {
   "cell_type": "code",
   "execution_count": 7,
   "metadata": {},
   "outputs": [],
   "source": [
    "df = pd.read_csv(\"/datc/opschaler/combined_gas_smart_weather_dfs/processed/all_dwellings_combined_hour.csv\",delimiter=\"\\t\", parse_dates = ['datetime'])"
   ]
  },
  {
   "cell_type": "code",
   "execution_count": 8,
   "metadata": {},
   "outputs": [
    {
     "data": {
      "text/html": [
       "<div>\n",
       "<style scoped>\n",
       "    .dataframe tbody tr th:only-of-type {\n",
       "        vertical-align: middle;\n",
       "    }\n",
       "\n",
       "    .dataframe tbody tr th {\n",
       "        vertical-align: top;\n",
       "    }\n",
       "\n",
       "    .dataframe thead th {\n",
       "        text-align: right;\n",
       "    }\n",
       "</style>\n",
       "<table border=\"1\" class=\"dataframe\">\n",
       "  <thead>\n",
       "    <tr style=\"text-align: right;\">\n",
       "      <th></th>\n",
       "      <th>eMeter</th>\n",
       "      <th>eMeterReturn</th>\n",
       "      <th>eMeterLow</th>\n",
       "      <th>eMeterLowReturn</th>\n",
       "      <th>ePower</th>\n",
       "      <th>ePowerReturn</th>\n",
       "      <th>gasMeter</th>\n",
       "      <th>DD</th>\n",
       "      <th>DR</th>\n",
       "      <th>FF</th>\n",
       "      <th>...</th>\n",
       "      <th>RG</th>\n",
       "      <th>SQ</th>\n",
       "      <th>T</th>\n",
       "      <th>T10</th>\n",
       "      <th>TD</th>\n",
       "      <th>U</th>\n",
       "      <th>VV</th>\n",
       "      <th>WW</th>\n",
       "      <th>dwelling</th>\n",
       "      <th>gasPower</th>\n",
       "    </tr>\n",
       "    <tr>\n",
       "      <th>datetime</th>\n",
       "      <th></th>\n",
       "      <th></th>\n",
       "      <th></th>\n",
       "      <th></th>\n",
       "      <th></th>\n",
       "      <th></th>\n",
       "      <th></th>\n",
       "      <th></th>\n",
       "      <th></th>\n",
       "      <th></th>\n",
       "      <th></th>\n",
       "      <th></th>\n",
       "      <th></th>\n",
       "      <th></th>\n",
       "      <th></th>\n",
       "      <th></th>\n",
       "      <th></th>\n",
       "      <th></th>\n",
       "      <th></th>\n",
       "      <th></th>\n",
       "      <th></th>\n",
       "    </tr>\n",
       "  </thead>\n",
       "  <tbody>\n",
       "    <tr>\n",
       "      <th>2017-03-07 15:00:00</th>\n",
       "      <td>NaN</td>\n",
       "      <td>NaN</td>\n",
       "      <td>NaN</td>\n",
       "      <td>NaN</td>\n",
       "      <td>NaN</td>\n",
       "      <td>NaN</td>\n",
       "      <td>307.44101</td>\n",
       "      <td>305.450012</td>\n",
       "      <td>0.0</td>\n",
       "      <td>5.341667</td>\n",
       "      <td>...</td>\n",
       "      <td>0.0</td>\n",
       "      <td>7.631617</td>\n",
       "      <td>8.733334</td>\n",
       "      <td>9.133333</td>\n",
       "      <td>4.883333</td>\n",
       "      <td>76.500000</td>\n",
       "      <td>31916.666016</td>\n",
       "      <td>1.333333</td>\n",
       "      <td>P01S01W7548</td>\n",
       "      <td>NaN</td>\n",
       "    </tr>\n",
       "    <tr>\n",
       "      <th>2017-03-07 16:00:00</th>\n",
       "      <td>625.401001</td>\n",
       "      <td>0.0</td>\n",
       "      <td>359.501007</td>\n",
       "      <td>0.0</td>\n",
       "      <td>383.994446</td>\n",
       "      <td>0.0</td>\n",
       "      <td>307.44101</td>\n",
       "      <td>288.200012</td>\n",
       "      <td>0.0</td>\n",
       "      <td>5.418334</td>\n",
       "      <td>...</td>\n",
       "      <td>0.0</td>\n",
       "      <td>10.000000</td>\n",
       "      <td>9.116667</td>\n",
       "      <td>10.750000</td>\n",
       "      <td>5.416667</td>\n",
       "      <td>77.166664</td>\n",
       "      <td>23800.000000</td>\n",
       "      <td>2.666667</td>\n",
       "      <td>P01S01W7548</td>\n",
       "      <td>0.0</td>\n",
       "    </tr>\n",
       "    <tr>\n",
       "      <th>2017-03-07 17:00:00</th>\n",
       "      <td>625.679993</td>\n",
       "      <td>0.0</td>\n",
       "      <td>359.501007</td>\n",
       "      <td>0.0</td>\n",
       "      <td>277.722229</td>\n",
       "      <td>0.0</td>\n",
       "      <td>307.44101</td>\n",
       "      <td>285.866669</td>\n",
       "      <td>0.0</td>\n",
       "      <td>4.593333</td>\n",
       "      <td>...</td>\n",
       "      <td>0.0</td>\n",
       "      <td>2.936100</td>\n",
       "      <td>7.866667</td>\n",
       "      <td>8.450000</td>\n",
       "      <td>4.550000</td>\n",
       "      <td>78.833336</td>\n",
       "      <td>22233.333984</td>\n",
       "      <td>1.000000</td>\n",
       "      <td>P01S01W7548</td>\n",
       "      <td>0.0</td>\n",
       "    </tr>\n",
       "    <tr>\n",
       "      <th>2017-03-07 18:00:00</th>\n",
       "      <td>625.820984</td>\n",
       "      <td>0.0</td>\n",
       "      <td>359.501007</td>\n",
       "      <td>0.0</td>\n",
       "      <td>143.624283</td>\n",
       "      <td>0.0</td>\n",
       "      <td>307.44101</td>\n",
       "      <td>286.633331</td>\n",
       "      <td>0.0</td>\n",
       "      <td>3.783333</td>\n",
       "      <td>...</td>\n",
       "      <td>0.0</td>\n",
       "      <td>5.000000</td>\n",
       "      <td>7.066667</td>\n",
       "      <td>6.816667</td>\n",
       "      <td>4.433333</td>\n",
       "      <td>82.833336</td>\n",
       "      <td>20266.666016</td>\n",
       "      <td>2.500000</td>\n",
       "      <td>P01S01W7548</td>\n",
       "      <td>0.0</td>\n",
       "    </tr>\n",
       "    <tr>\n",
       "      <th>2017-03-07 19:00:00</th>\n",
       "      <td>625.963013</td>\n",
       "      <td>0.0</td>\n",
       "      <td>359.501007</td>\n",
       "      <td>0.0</td>\n",
       "      <td>143.376038</td>\n",
       "      <td>0.0</td>\n",
       "      <td>307.44101</td>\n",
       "      <td>278.783325</td>\n",
       "      <td>0.0</td>\n",
       "      <td>2.741667</td>\n",
       "      <td>...</td>\n",
       "      <td>0.0</td>\n",
       "      <td>0.000000</td>\n",
       "      <td>6.616667</td>\n",
       "      <td>6.016667</td>\n",
       "      <td>4.300000</td>\n",
       "      <td>84.666664</td>\n",
       "      <td>17433.333984</td>\n",
       "      <td>2.833333</td>\n",
       "      <td>P01S01W7548</td>\n",
       "      <td>0.0</td>\n",
       "    </tr>\n",
       "  </tbody>\n",
       "</table>\n",
       "<p>5 rows × 24 columns</p>\n",
       "</div>"
      ],
      "text/plain": [
       "                         eMeter  eMeterReturn   eMeterLow  eMeterLowReturn  \\\n",
       "datetime                                                                     \n",
       "2017-03-07 15:00:00         NaN           NaN         NaN              NaN   \n",
       "2017-03-07 16:00:00  625.401001           0.0  359.501007              0.0   \n",
       "2017-03-07 17:00:00  625.679993           0.0  359.501007              0.0   \n",
       "2017-03-07 18:00:00  625.820984           0.0  359.501007              0.0   \n",
       "2017-03-07 19:00:00  625.963013           0.0  359.501007              0.0   \n",
       "\n",
       "                         ePower  ePowerReturn   gasMeter          DD   DR  \\\n",
       "datetime                                                                    \n",
       "2017-03-07 15:00:00         NaN           NaN  307.44101  305.450012  0.0   \n",
       "2017-03-07 16:00:00  383.994446           0.0  307.44101  288.200012  0.0   \n",
       "2017-03-07 17:00:00  277.722229           0.0  307.44101  285.866669  0.0   \n",
       "2017-03-07 18:00:00  143.624283           0.0  307.44101  286.633331  0.0   \n",
       "2017-03-07 19:00:00  143.376038           0.0  307.44101  278.783325  0.0   \n",
       "\n",
       "                           FF    ...      RG         SQ         T        T10  \\\n",
       "datetime                         ...                                           \n",
       "2017-03-07 15:00:00  5.341667    ...     0.0   7.631617  8.733334   9.133333   \n",
       "2017-03-07 16:00:00  5.418334    ...     0.0  10.000000  9.116667  10.750000   \n",
       "2017-03-07 17:00:00  4.593333    ...     0.0   2.936100  7.866667   8.450000   \n",
       "2017-03-07 18:00:00  3.783333    ...     0.0   5.000000  7.066667   6.816667   \n",
       "2017-03-07 19:00:00  2.741667    ...     0.0   0.000000  6.616667   6.016667   \n",
       "\n",
       "                           TD          U            VV        WW     dwelling  \\\n",
       "datetime                                                                        \n",
       "2017-03-07 15:00:00  4.883333  76.500000  31916.666016  1.333333  P01S01W7548   \n",
       "2017-03-07 16:00:00  5.416667  77.166664  23800.000000  2.666667  P01S01W7548   \n",
       "2017-03-07 17:00:00  4.550000  78.833336  22233.333984  1.000000  P01S01W7548   \n",
       "2017-03-07 18:00:00  4.433333  82.833336  20266.666016  2.500000  P01S01W7548   \n",
       "2017-03-07 19:00:00  4.300000  84.666664  17433.333984  2.833333  P01S01W7548   \n",
       "\n",
       "                     gasPower  \n",
       "datetime                       \n",
       "2017-03-07 15:00:00       NaN  \n",
       "2017-03-07 16:00:00       0.0  \n",
       "2017-03-07 17:00:00       0.0  \n",
       "2017-03-07 18:00:00       0.0  \n",
       "2017-03-07 19:00:00       0.0  \n",
       "\n",
       "[5 rows x 24 columns]"
      ]
     },
     "execution_count": 8,
     "metadata": {},
     "output_type": "execute_result"
    }
   ],
   "source": [
    "\n",
    "df = df.set_index(['datetime'])\n",
    "df.head()\n",
    "\n"
   ]
  },
  {
   "cell_type": "markdown",
   "metadata": {},
   "source": [
    "# Quick EDA"
   ]
  },
  {
   "cell_type": "code",
   "execution_count": 9,
   "metadata": {},
   "outputs": [],
   "source": [
    "#creating correlation matrix function\n",
    "def corr_matrix (data):\n",
    "\n",
    "    #initialising correlations\n",
    "    corr = data.corr()\n",
    "\n",
    "    #creating a mask for corr matrix\n",
    "    mask = np.zeros_like(corr, dtype=np.bool)\n",
    "    mask[np.triu_indices_from(mask)] = True\n",
    "\n",
    "    # Set up the matplotlib figure\n",
    "    f, ax = plt.subplots(figsize=(11, 9))\n",
    "\n",
    "    # Generate a custom diverging colormap\n",
    "    cmap = sns.diverging_palette(220, 10, as_cmap=True)\n",
    "\n",
    "    # Draw the heatmap with the mask and correct aspect ratio\n",
    "    return sns.heatmap(corr, mask=mask, cmap=cmap, vmax=.3, center=0,\n",
    "                square=True, linewidths=.5, cbar_kws={\"shrink\": .5})\n",
    "\n"
   ]
  },
  {
   "cell_type": "code",
   "execution_count": 10,
   "metadata": {},
   "outputs": [
    {
     "data": {
      "text/plain": [
       "<matplotlib.axes._subplots.AxesSubplot at 0x7f382dc89940>"
      ]
     },
     "execution_count": 10,
     "metadata": {},
     "output_type": "execute_result"
    },
    {
     "data": {
      "image/png": "[encoded data removed]",
      "text/plain": [
       "<Figure size 792x648 with 2 Axes>"
      ]
     },
     "metadata": {
      "needs_background": "light"
     },
     "output_type": "display_data"
    }
   ],
   "source": [
    "corr_matrix(df)"
   ]
  },
  {
   "cell_type": "code",
   "execution_count": null,
   "metadata": {},
   "outputs": [],
   "source": [
    "#resampling data to day to see differences\n",
    "#df_d = df.resample('d').mean()"
   ]
  },
  {
   "cell_type": "code",
   "execution_count": null,
   "metadata": {},
   "outputs": [],
   "source": [
    "#corr_matrix(df_d)"
   ]
  },
  {
   "cell_type": "markdown",
   "metadata": {},
   "source": [
    "# Creating LR model"
   ]
  },
  {
   "cell_type": "code",
   "execution_count": 11,
   "metadata": {},
   "outputs": [],
   "source": [
    "#creating variables for LR\n",
    "x_data = df['T']\n",
    "y_data = df['gasPower']\n",
    "\n",
    "\n",
    "#initialising variables for lineair function\n",
    "a = tf.Variable(1.0)\n",
    "b = tf.Variable(0.2)\n",
    "\n",
    "#creating the function\n",
    "y = a * x_data + b"
   ]
  },
  {
   "cell_type": "code",
   "execution_count": 12,
   "metadata": {},
   "outputs": [
    {
     "ename": "TypeError",
     "evalue": "Failed to convert object of type <class 'pandas.core.series.Series'> to Tensor. Contents: datetime\n2017-03-07 15:00:00      Tensor(\"sub:0\", shape=(115931,), dtype=float32)\n2017-03-07 16:00:00    Tensor(\"sub_1:0\", shape=(115931,), dtype=float32)\n2017-03-07 17:00:00    Tensor(\"sub_2:0\", shape=(115931,), dtype=float32)\n2017-03-07 18:00:00    Tensor(\"sub_3:0\", shape=(115931,), dtype=float32)\n2017-03-07 19:00:00    Tensor(\"sub_4:0\", shape=(115931,), dtype=float32)\n2017-03-07 20:00:00    Tensor(\"sub_5:0\", shape=(115931,), dtype=float32)\n2017-03-07 21:00:00    Tensor(\"sub_6:0\", shape=(115931,), dtype=float32)\n2017-03-07 22:00:00    Tensor(\"sub_7:0\", shape=(115931,), dtype=float32)\n2017-03-07 23:00:00    Tensor(\"sub_8:0\", shape=(115931,), dtype=float32)\n2017-03-08 00:00:00    Tensor(\"sub_9:0\", shape=(115931,), dtype=float32)\n2017-03-08 01:00:00    Tensor(\"sub_10:0\", shape=(115931,), dtype=floa...\n2017-03-08 02:00:00    Tensor(\"sub_11:0\", shape=(115931,), dtype=floa...\n2017-03-08 03:00:00    Tensor(\"sub_12:0\", shape=(115931,), dtype=floa...\n2017-03-08 04:00:00    Tensor(\"sub_13:0\", shape=(115931,), dtype=floa...\n2017-03-08 05:00:00    Tensor(\"sub_14:0\", shape=(115931,), dtype=floa...\n2017-03-08 06:00:00    Tensor(\"sub_15:0\", shape=(115931,), dtype=floa...\n2017-03-08 07:00:00    Tensor(\"sub_16:0\", shape=(115931,), dtype=floa...\n2017-03-08 08:00:00    Tensor(\"sub_17:0\", shape=(115931,), dtype=floa...\n2017-03-08 09:00:00    Tensor(\"sub_18:0\", shape=(115931,), dtype=floa...\n2017-03-08 10:00:00    Tensor(\"sub_19:0\", shape=(115931,), dtype=floa...\n2017-03-08 11:00:00    Tensor(\"sub_20:0\", shape=(115931,), dtype=floa...\n2017-03-08 12:00:00    Tensor(\"sub_21:0\", shape=(115931,), dtype=floa...\n2017-03-08 13:00:00    Tensor(\"sub_22:0\", shape=(115931,), dtype=floa...\n2017-03-08 14:00:00    Tensor(\"sub_23:0\", shape=(115931,), dtype=floa...\n2017-03-08 15:00:00    Tensor(\"sub_24:0\", shape=(115931,), dtype=floa...\n2017-03-08 16:00:00    Tensor(\"sub_25:0\", shape=(115931,), dtype=floa...\n2017-03-08 17:00:00    Tensor(\"sub_26:0\", shape=(115931,), dtype=floa...\n2017-03-08 18:00:00    Tensor(\"sub_27:0\", shape=(115931,), dtype=floa...\n2017-03-08 19:00:00    Tensor(\"sub_28:0\", shape=(115931,), dtype=floa...\n2017-03-08 20:00:00    Tensor(\"sub_29:0\", shape=(115931,), dtype=floa...\n                                             ...                        \n2017-11-21 06:00:00    Tensor(\"sub_115901:0\", shape=(115931,), dtype=...\n2017-11-21 07:00:00    Tensor(\"sub_115902:0\", shape=(115931,), dtype=...\n2017-11-21 08:00:00    Tensor(\"sub_115903:0\", shape=(115931,), dtype=...\n2017-11-21 09:00:00    Tensor(\"sub_115904:0\", shape=(115931,), dtype=...\n2017-11-21 10:00:00    Tensor(\"sub_115905:0\", shape=(115931,), dtype=...\n2017-11-21 11:00:00    Tensor(\"sub_115906:0\", shape=(115931,), dtype=...\n2017-11-21 12:00:00    Tensor(\"sub_115907:0\", shape=(115931,), dtype=...\n2017-11-21 13:00:00    Tensor(\"sub_115908:0\", shape=(115931,), dtype=...\n2017-11-21 14:00:00    Tensor(\"sub_115909:0\", shape=(115931,), dtype=...\n2017-11-21 15:00:00    Tensor(\"sub_115910:0\", shape=(115931,), dtype=...\n2017-11-21 16:00:00    Tensor(\"sub_115911:0\", shape=(115931,), dtype=...\n2017-11-21 17:00:00    Tensor(\"sub_115912:0\", shape=(115931,), dtype=...\n2017-11-21 18:00:00    Tensor(\"sub_115913:0\", shape=(115931,), dtype=...\n2017-11-21 19:00:00    Tensor(\"sub_115914:0\", shape=(115931,), dtype=...\n2017-11-21 20:00:00    Tensor(\"sub_115915:0\", shape=(115931,), dtype=...\n2017-11-21 21:00:00    Tensor(\"sub_115916:0\", shape=(115931,), dtype=...\n2017-11-21 22:00:00    Tensor(\"sub_115917:0\", shape=(115931,), dtype=...\n2017-11-21 23:00:00    Tensor(\"sub_115918:0\", shape=(115931,), dtype=...\n2017-11-22 00:00:00    Tensor(\"sub_115919:0\", shape=(115931,), dtype=...\n2017-11-22 01:00:00    Tensor(\"sub_115920:0\", shape=(115931,), dtype=...\n2017-11-22 02:00:00    Tensor(\"sub_115921:0\", shape=(115931,), dtype=...\n2017-11-22 03:00:00    Tensor(\"sub_115922:0\", shape=(115931,), dtype=...\n2017-11-22 04:00:00    Tensor(\"sub_115923:0\", shape=(115931,), dtype=...\n2017-11-22 05:00:00    Tensor(\"sub_115924:0\", shape=(115931,), dtype=...\n2017-11-22 06:00:00    Tensor(\"sub_115925:0\", shape=(115931,), dtype=...\n2017-11-22 07:00:00    Tensor(\"sub_115926:0\", shape=(115931,), dtype=...\n2017-11-22 08:00:00    Tensor(\"sub_115927:0\", shape=(115931,), dtype=...\n2017-11-22 09:00:00    Tensor(\"sub_115928:0\", shape=(115931,), dtype=...\n2017-11-22 10:00:00    Tensor(\"sub_115929:0\", shape=(115931,), dtype=...\n2017-11-22 11:00:00    Tensor(\"sub_115930:0\", shape=(115931,), dtype=...\nLength: 115931, dtype: object. Consider casting elements to a supported type.",
     "output_type": "error",
     "traceback": [
      "\u001b[0;31m---------------------------------------------------------------------------\u001b[0m",
      "\u001b[0;31mTypeError\u001b[0m                                 Traceback (most recent call last)",
      "\u001b[0;32m/opt/jupyterhub/anaconda/lib/python3.6/site-packages/tensorflow/python/framework/tensor_util.py\u001b[0m in \u001b[0;36mmake_tensor_proto\u001b[0;34m(values, dtype, shape, verify_shape)\u001b[0m\n\u001b[1;32m    467\u001b[0m     \u001b[0;32mtry\u001b[0m\u001b[0;34m:\u001b[0m\u001b[0;34m\u001b[0m\u001b[0m\n\u001b[0;32m--> 468\u001b[0;31m       \u001b[0mstr_values\u001b[0m \u001b[0;34m=\u001b[0m \u001b[0;34m[\u001b[0m\u001b[0mcompat\u001b[0m\u001b[0;34m.\u001b[0m\u001b[0mas_bytes\u001b[0m\u001b[0;34m(\u001b[0m\u001b[0mx\u001b[0m\u001b[0;34m)\u001b[0m \u001b[0;32mfor\u001b[0m \u001b[0mx\u001b[0m \u001b[0;32min\u001b[0m \u001b[0mproto_values\u001b[0m\u001b[0;34m]\u001b[0m\u001b[0;34m\u001b[0m\u001b[0m\n\u001b[0m\u001b[1;32m    469\u001b[0m     \u001b[0;32mexcept\u001b[0m \u001b[0mTypeError\u001b[0m\u001b[0;34m:\u001b[0m\u001b[0;34m\u001b[0m\u001b[0m\n",
      "\u001b[0;32m/opt/jupyterhub/anaconda/lib/python3.6/site-packages/tensorflow/python/framework/tensor_util.py\u001b[0m in \u001b[0;36m<listcomp>\u001b[0;34m(.0)\u001b[0m\n\u001b[1;32m    467\u001b[0m     \u001b[0;32mtry\u001b[0m\u001b[0;34m:\u001b[0m\u001b[0;34m\u001b[0m\u001b[0m\n\u001b[0;32m--> 468\u001b[0;31m       \u001b[0mstr_values\u001b[0m \u001b[0;34m=\u001b[0m \u001b[0;34m[\u001b[0m\u001b[0mcompat\u001b[0m\u001b[0;34m.\u001b[0m\u001b[0mas_bytes\u001b[0m\u001b[0;34m(\u001b[0m\u001b[0mx\u001b[0m\u001b[0;34m)\u001b[0m \u001b[0;32mfor\u001b[0m \u001b[0mx\u001b[0m \u001b[0;32min\u001b[0m \u001b[0mproto_values\u001b[0m\u001b[0;34m]\u001b[0m\u001b[0;34m\u001b[0m\u001b[0m\n\u001b[0m\u001b[1;32m    469\u001b[0m     \u001b[0;32mexcept\u001b[0m \u001b[0mTypeError\u001b[0m\u001b[0;34m:\u001b[0m\u001b[0;34m\u001b[0m\u001b[0m\n",
      "\u001b[0;32m/opt/jupyterhub/anaconda/lib/python3.6/site-packages/tensorflow/python/util/compat.py\u001b[0m in \u001b[0;36mas_bytes\u001b[0;34m(bytes_or_text, encoding)\u001b[0m\n\u001b[1;32m     64\u001b[0m     raise TypeError('Expected binary or unicode string, got %r' %\n\u001b[0;32m---> 65\u001b[0;31m                     (bytes_or_text,))\n\u001b[0m\u001b[1;32m     66\u001b[0m \u001b[0;34m\u001b[0m\u001b[0m\n",
      "\u001b[0;31mTypeError\u001b[0m: Expected binary or unicode string, got datetime\n2017-03-07 15:00:00      Tensor(\"sub:0\", shape=(115931,), dtype=float32)\n2017-03-07 16:00:00    Tensor(\"sub_1:0\", shape=(115931,), dtype=float32)\n2017-03-07 17:00:00    Tensor(\"sub_2:0\", shape=(115931,), dtype=float32)\n2017-03-07 18:00:00    Tensor(\"sub_3:0\", shape=(115931,), dtype=float32)\n2017-03-07 19:00:00    Tensor(\"sub_4:0\", shape=(115931,), dtype=float32)\n2017-03-07 20:00:00    Tensor(\"sub_5:0\", shape=(115931,), dtype=float32)\n2017-03-07 21:00:00    Tensor(\"sub_6:0\", shape=(115931,), dtype=float32)\n2017-03-07 22:00:00    Tensor(\"sub_7:0\", shape=(115931,), dtype=float32)\n2017-03-07 23:00:00    Tensor(\"sub_8:0\", shape=(115931,), dtype=float32)\n2017-03-08 00:00:00    Tensor(\"sub_9:0\", shape=(115931,), dtype=float32)\n2017-03-08 01:00:00    Tensor(\"sub_10:0\", shape=(115931,), dtype=floa...\n2017-03-08 02:00:00    Tensor(\"sub_11:0\", shape=(115931,), dtype=floa...\n2017-03-08 03:00:00    Tensor(\"sub_12:0\", shape=(115931,), dtype=floa...\n2017-03-08 04:00:00    Tensor(\"sub_13:0\", shape=(115931,), dtype=floa...\n2017-03-08 05:00:00    Tensor(\"sub_14:0\", shape=(115931,), dtype=floa...\n2017-03-08 06:00:00    Tensor(\"sub_15:0\", shape=(115931,), dtype=floa...\n2017-03-08 07:00:00    Tensor(\"sub_16:0\", shape=(115931,), dtype=floa...\n2017-03-08 08:00:00    Tensor(\"sub_17:0\", shape=(115931,), dtype=floa...\n2017-03-08 09:00:00    Tensor(\"sub_18:0\", shape=(115931,), dtype=floa...\n2017-03-08 10:00:00    Tensor(\"sub_19:0\", shape=(115931,), dtype=floa...\n2017-03-08 11:00:00    Tensor(\"sub_20:0\", shape=(115931,), dtype=floa...\n2017-03-08 12:00:00    Tensor(\"sub_21:0\", shape=(115931,), dtype=floa...\n2017-03-08 13:00:00    Tensor(\"sub_22:0\", shape=(115931,), dtype=floa...\n2017-03-08 14:00:00    Tensor(\"sub_23:0\", shape=(115931,), dtype=floa...\n2017-03-08 15:00:00    Tensor(\"sub_24:0\", shape=(115931,), dtype=floa...\n2017-03-08 16:00:00    Tensor(\"sub_25:0\", shape=(115931,), dtype=floa...\n2017-03-08 17:00:00    Tensor(\"sub_26:0\", shape=(115931,), dtype=floa...\n2017-03-08 18:00:00    Tensor(\"sub_27:0\", shape=(115931,), dtype=floa...\n2017-03-08 19:00:00    Tensor(\"sub_28:0\", shape=(115931,), dtype=floa...\n2017-03-08 20:00:00    Tensor(\"sub_29:0\", shape=(115931,), dtype=floa...\n                                             ...                        \n2017-11-21 06:00:00    Tensor(\"sub_115901:0\", shape=(115931,), dtype=...\n2017-11-21 07:00:00    Tensor(\"sub_115902:0\", shape=(115931,), dtype=...\n2017-11-21 08:00:00    Tensor(\"sub_115903:0\", shape=(115931,), dtype=...\n2017-11-21 09:00:00    Tensor(\"sub_115904:0\", shape=(115931,), dtype=...\n2017-11-21 10:00:00    Tensor(\"sub_115905:0\", shape=(115931,), dtype=...\n2017-11-21 11:00:00    Tensor(\"sub_115906:0\", shape=(115931,), dtype=...\n2017-11-21 12:00:00    Tensor(\"sub_115907:0\", shape=(115931,), dtype=...\n2017-11-21 13:00:00    Tensor(\"sub_115908:0\", shape=(115931,), dtype=...\n2017-11-21 14:00:00    Tensor(\"sub_115909:0\", shape=(115931,), dtype=...\n2017-11-21 15:00:00    Tensor(\"sub_115910:0\", shape=(115931,), dtype=...\n2017-11-21 16:00:00    Tensor(\"sub_115911:0\", shape=(115931,), dtype=...\n2017-11-21 17:00:00    Tensor(\"sub_115912:0\", shape=(115931,), dtype=...\n2017-11-21 18:00:00    Tensor(\"sub_115913:0\", shape=(115931,), dtype=...\n2017-11-21 19:00:00    Tensor(\"sub_115914:0\", shape=(115931,), dtype=...\n2017-11-21 20:00:00    Tensor(\"sub_115915:0\", shape=(115931,), dtype=...\n2017-11-21 21:00:00    Tensor(\"sub_115916:0\", shape=(115931,), dtype=...\n2017-11-21 22:00:00    Tensor(\"sub_115917:0\", shape=(115931,), dtype=...\n2017-11-21 23:00:00    Tensor(\"sub_115918:0\", shape=(115931,), dtype=...\n2017-11-22 00:00:00    Tensor(\"sub_115919:0\", shape=(115931,), dtype=...\n2017-11-22 01:00:00    Tensor(\"sub_115920:0\", shape=(115931,), dtype=...\n2017-11-22 02:00:00    Tensor(\"sub_115921:0\", shape=(115931,), dtype=...\n2017-11-22 03:00:00    Tensor(\"sub_115922:0\", shape=(115931,), dtype=...\n2017-11-22 04:00:00    Tensor(\"sub_115923:0\", shape=(115931,), dtype=...\n2017-11-22 05:00:00    Tensor(\"sub_115924:0\", shape=(115931,), dtype=...\n2017-11-22 06:00:00    Tensor(\"sub_115925:0\", shape=(115931,), dtype=...\n2017-11-22 07:00:00    Tensor(\"sub_115926:0\", shape=(115931,), dtype=...\n2017-11-22 08:00:00    Tensor(\"sub_115927:0\", shape=(115931,), dtype=...\n2017-11-22 09:00:00    Tensor(\"sub_115928:0\", shape=(115931,), dtype=...\n2017-11-22 10:00:00    Tensor(\"sub_115929:0\", shape=(115931,), dtype=...\n2017-11-22 11:00:00    Tensor(\"sub_115930:0\", shape=(115931,), dtype=...\nLength: 115931, dtype: object",
      "\nDuring handling of the above exception, another exception occurred:\n",
      "\u001b[0;31mTypeError\u001b[0m                                 Traceback (most recent call last)",
      "\u001b[0;32m<ipython-input-12-7d36548a0beb>\u001b[0m in \u001b[0;36m<module>\u001b[0;34m\u001b[0m\n\u001b[1;32m      1\u001b[0m \u001b[0;31m#creating loss function\u001b[0m\u001b[0;34m\u001b[0m\u001b[0;34m\u001b[0m\u001b[0m\n\u001b[0;32m----> 2\u001b[0;31m \u001b[0mloss\u001b[0m \u001b[0;34m=\u001b[0m \u001b[0mtf\u001b[0m\u001b[0;34m.\u001b[0m\u001b[0mreduce_mean\u001b[0m\u001b[0;34m(\u001b[0m\u001b[0mtf\u001b[0m\u001b[0;34m.\u001b[0m\u001b[0msquare\u001b[0m\u001b[0;34m(\u001b[0m\u001b[0my_data\u001b[0m \u001b[0;34m-\u001b[0m \u001b[0my\u001b[0m\u001b[0;34m)\u001b[0m\u001b[0;34m)\u001b[0m\u001b[0;34m\u001b[0m\u001b[0m\n\u001b[0m",
      "\u001b[0;32m/opt/jupyterhub/anaconda/lib/python3.6/site-packages/tensorflow/python/ops/math_ops.py\u001b[0m in \u001b[0;36msquare\u001b[0;34m(x, name)\u001b[0m\n\u001b[1;32m    447\u001b[0m           indices=x.indices, values=x_square, dense_shape=x.dense_shape)\n\u001b[1;32m    448\u001b[0m     \u001b[0;32melse\u001b[0m\u001b[0;34m:\u001b[0m\u001b[0;34m\u001b[0m\u001b[0m\n\u001b[0;32m--> 449\u001b[0;31m       \u001b[0;32mreturn\u001b[0m \u001b[0mgen_math_ops\u001b[0m\u001b[0;34m.\u001b[0m\u001b[0msquare\u001b[0m\u001b[0;34m(\u001b[0m\u001b[0mx\u001b[0m\u001b[0;34m,\u001b[0m \u001b[0mname\u001b[0m\u001b[0;34m=\u001b[0m\u001b[0mname\u001b[0m\u001b[0;34m)\u001b[0m\u001b[0;34m\u001b[0m\u001b[0m\n\u001b[0m\u001b[1;32m    450\u001b[0m \u001b[0;34m\u001b[0m\u001b[0m\n\u001b[1;32m    451\u001b[0m \u001b[0;34m\u001b[0m\u001b[0m\n",
      "\u001b[0;32m/opt/jupyterhub/anaconda/lib/python3.6/site-packages/tensorflow/python/ops/gen_math_ops.py\u001b[0m in \u001b[0;36msquare\u001b[0;34m(x, name)\u001b[0m\n\u001b[1;32m   4565\u001b[0m   \u001b[0;32mif\u001b[0m \u001b[0m_ctx\u001b[0m\u001b[0;34m.\u001b[0m\u001b[0min_graph_mode\u001b[0m\u001b[0;34m(\u001b[0m\u001b[0;34m)\u001b[0m\u001b[0;34m:\u001b[0m\u001b[0;34m\u001b[0m\u001b[0m\n\u001b[1;32m   4566\u001b[0m     _, _, _op = _op_def_lib._apply_op_helper(\n\u001b[0;32m-> 4567\u001b[0;31m         \"Square\", x=x, name=name)\n\u001b[0m\u001b[1;32m   4568\u001b[0m     \u001b[0m_result\u001b[0m \u001b[0;34m=\u001b[0m \u001b[0m_op\u001b[0m\u001b[0;34m.\u001b[0m\u001b[0moutputs\u001b[0m\u001b[0;34m[\u001b[0m\u001b[0;34m:\u001b[0m\u001b[0;34m]\u001b[0m\u001b[0;34m\u001b[0m\u001b[0m\n\u001b[1;32m   4569\u001b[0m     \u001b[0m_inputs_flat\u001b[0m \u001b[0;34m=\u001b[0m \u001b[0m_op\u001b[0m\u001b[0;34m.\u001b[0m\u001b[0minputs\u001b[0m\u001b[0;34m\u001b[0m\u001b[0m\n",
      "\u001b[0;32m/opt/jupyterhub/anaconda/lib/python3.6/site-packages/tensorflow/python/framework/op_def_library.py\u001b[0m in \u001b[0;36m_apply_op_helper\u001b[0;34m(self, op_type_name, name, **keywords)\u001b[0m\n\u001b[1;32m    511\u001b[0m           \u001b[0;32mexcept\u001b[0m \u001b[0mTypeError\u001b[0m \u001b[0;32mas\u001b[0m \u001b[0merr\u001b[0m\u001b[0;34m:\u001b[0m\u001b[0;34m\u001b[0m\u001b[0m\n\u001b[1;32m    512\u001b[0m             \u001b[0;32mif\u001b[0m \u001b[0mdtype\u001b[0m \u001b[0;32mis\u001b[0m \u001b[0;32mNone\u001b[0m\u001b[0;34m:\u001b[0m\u001b[0;34m\u001b[0m\u001b[0m\n\u001b[0;32m--> 513\u001b[0;31m               \u001b[0;32mraise\u001b[0m \u001b[0merr\u001b[0m\u001b[0;34m\u001b[0m\u001b[0m\n\u001b[0m\u001b[1;32m    514\u001b[0m             \u001b[0;32melse\u001b[0m\u001b[0;34m:\u001b[0m\u001b[0;34m\u001b[0m\u001b[0m\n\u001b[1;32m    515\u001b[0m               raise TypeError(\n",
      "\u001b[0;32m/opt/jupyterhub/anaconda/lib/python3.6/site-packages/tensorflow/python/framework/op_def_library.py\u001b[0m in \u001b[0;36m_apply_op_helper\u001b[0;34m(self, op_type_name, name, **keywords)\u001b[0m\n\u001b[1;32m    508\u001b[0m                 \u001b[0mdtype\u001b[0m\u001b[0;34m=\u001b[0m\u001b[0mdtype\u001b[0m\u001b[0;34m,\u001b[0m\u001b[0;34m\u001b[0m\u001b[0m\n\u001b[1;32m    509\u001b[0m                 \u001b[0mas_ref\u001b[0m\u001b[0;34m=\u001b[0m\u001b[0minput_arg\u001b[0m\u001b[0;34m.\u001b[0m\u001b[0mis_ref\u001b[0m\u001b[0;34m,\u001b[0m\u001b[0;34m\u001b[0m\u001b[0m\n\u001b[0;32m--> 510\u001b[0;31m                 preferred_dtype=default_dtype)\n\u001b[0m\u001b[1;32m    511\u001b[0m           \u001b[0;32mexcept\u001b[0m \u001b[0mTypeError\u001b[0m \u001b[0;32mas\u001b[0m \u001b[0merr\u001b[0m\u001b[0;34m:\u001b[0m\u001b[0;34m\u001b[0m\u001b[0m\n\u001b[1;32m    512\u001b[0m             \u001b[0;32mif\u001b[0m \u001b[0mdtype\u001b[0m \u001b[0;32mis\u001b[0m \u001b[0;32mNone\u001b[0m\u001b[0;34m:\u001b[0m\u001b[0;34m\u001b[0m\u001b[0m\n",
      "\u001b[0;32m/opt/jupyterhub/anaconda/lib/python3.6/site-packages/tensorflow/python/framework/ops.py\u001b[0m in \u001b[0;36minternal_convert_to_tensor\u001b[0;34m(value, dtype, name, as_ref, preferred_dtype, ctx)\u001b[0m\n\u001b[1;32m    924\u001b[0m \u001b[0;34m\u001b[0m\u001b[0m\n\u001b[1;32m    925\u001b[0m     \u001b[0;32mif\u001b[0m \u001b[0mret\u001b[0m \u001b[0;32mis\u001b[0m \u001b[0;32mNone\u001b[0m\u001b[0;34m:\u001b[0m\u001b[0;34m\u001b[0m\u001b[0m\n\u001b[0;32m--> 926\u001b[0;31m       \u001b[0mret\u001b[0m \u001b[0;34m=\u001b[0m \u001b[0mconversion_func\u001b[0m\u001b[0;34m(\u001b[0m\u001b[0mvalue\u001b[0m\u001b[0;34m,\u001b[0m \u001b[0mdtype\u001b[0m\u001b[0;34m=\u001b[0m\u001b[0mdtype\u001b[0m\u001b[0;34m,\u001b[0m \u001b[0mname\u001b[0m\u001b[0;34m=\u001b[0m\u001b[0mname\u001b[0m\u001b[0;34m,\u001b[0m \u001b[0mas_ref\u001b[0m\u001b[0;34m=\u001b[0m\u001b[0mas_ref\u001b[0m\u001b[0;34m)\u001b[0m\u001b[0;34m\u001b[0m\u001b[0m\n\u001b[0m\u001b[1;32m    927\u001b[0m \u001b[0;34m\u001b[0m\u001b[0m\n\u001b[1;32m    928\u001b[0m     \u001b[0;32mif\u001b[0m \u001b[0mret\u001b[0m \u001b[0;32mis\u001b[0m \u001b[0mNotImplemented\u001b[0m\u001b[0;34m:\u001b[0m\u001b[0;34m\u001b[0m\u001b[0m\n",
      "\u001b[0;32m/opt/jupyterhub/anaconda/lib/python3.6/site-packages/tensorflow/python/framework/constant_op.py\u001b[0m in \u001b[0;36m_constant_tensor_conversion_function\u001b[0;34m(v, dtype, name, as_ref)\u001b[0m\n\u001b[1;32m    227\u001b[0m                                          as_ref=False):\n\u001b[1;32m    228\u001b[0m   \u001b[0m_\u001b[0m \u001b[0;34m=\u001b[0m \u001b[0mas_ref\u001b[0m\u001b[0;34m\u001b[0m\u001b[0m\n\u001b[0;32m--> 229\u001b[0;31m   \u001b[0;32mreturn\u001b[0m \u001b[0mconstant\u001b[0m\u001b[0;34m(\u001b[0m\u001b[0mv\u001b[0m\u001b[0;34m,\u001b[0m \u001b[0mdtype\u001b[0m\u001b[0;34m=\u001b[0m\u001b[0mdtype\u001b[0m\u001b[0;34m,\u001b[0m \u001b[0mname\u001b[0m\u001b[0;34m=\u001b[0m\u001b[0mname\u001b[0m\u001b[0;34m)\u001b[0m\u001b[0;34m\u001b[0m\u001b[0m\n\u001b[0m\u001b[1;32m    230\u001b[0m \u001b[0;34m\u001b[0m\u001b[0m\n\u001b[1;32m    231\u001b[0m \u001b[0;34m\u001b[0m\u001b[0m\n",
      "\u001b[0;32m/opt/jupyterhub/anaconda/lib/python3.6/site-packages/tensorflow/python/framework/constant_op.py\u001b[0m in \u001b[0;36mconstant\u001b[0;34m(value, dtype, shape, name, verify_shape)\u001b[0m\n\u001b[1;32m    206\u001b[0m   tensor_value.tensor.CopyFrom(\n\u001b[1;32m    207\u001b[0m       tensor_util.make_tensor_proto(\n\u001b[0;32m--> 208\u001b[0;31m           value, dtype=dtype, shape=shape, verify_shape=verify_shape))\n\u001b[0m\u001b[1;32m    209\u001b[0m   \u001b[0mdtype_value\u001b[0m \u001b[0;34m=\u001b[0m \u001b[0mattr_value_pb2\u001b[0m\u001b[0;34m.\u001b[0m\u001b[0mAttrValue\u001b[0m\u001b[0;34m(\u001b[0m\u001b[0mtype\u001b[0m\u001b[0;34m=\u001b[0m\u001b[0mtensor_value\u001b[0m\u001b[0;34m.\u001b[0m\u001b[0mtensor\u001b[0m\u001b[0;34m.\u001b[0m\u001b[0mdtype\u001b[0m\u001b[0;34m)\u001b[0m\u001b[0;34m\u001b[0m\u001b[0m\n\u001b[1;32m    210\u001b[0m   const_tensor = g.create_op(\n",
      "\u001b[0;32m/opt/jupyterhub/anaconda/lib/python3.6/site-packages/tensorflow/python/framework/tensor_util.py\u001b[0m in \u001b[0;36mmake_tensor_proto\u001b[0;34m(values, dtype, shape, verify_shape)\u001b[0m\n\u001b[1;32m    470\u001b[0m       raise TypeError(\"Failed to convert object of type %s to Tensor. \"\n\u001b[1;32m    471\u001b[0m                       \u001b[0;34m\"Contents: %s. Consider casting elements to a \"\u001b[0m\u001b[0;34m\u001b[0m\u001b[0m\n\u001b[0;32m--> 472\u001b[0;31m                       \"supported type.\" % (type(values), values))\n\u001b[0m\u001b[1;32m    473\u001b[0m     \u001b[0mtensor_proto\u001b[0m\u001b[0;34m.\u001b[0m\u001b[0mstring_val\u001b[0m\u001b[0;34m.\u001b[0m\u001b[0mextend\u001b[0m\u001b[0;34m(\u001b[0m\u001b[0mstr_values\u001b[0m\u001b[0;34m)\u001b[0m\u001b[0;34m\u001b[0m\u001b[0m\n\u001b[1;32m    474\u001b[0m     \u001b[0;32mreturn\u001b[0m \u001b[0mtensor_proto\u001b[0m\u001b[0;34m\u001b[0m\u001b[0m\n",
      "\u001b[0;31mTypeError\u001b[0m: Failed to convert object of type <class 'pandas.core.series.Series'> to Tensor. Contents: datetime\n2017-03-07 15:00:00      Tensor(\"sub:0\", shape=(115931,), dtype=float32)\n2017-03-07 16:00:00    Tensor(\"sub_1:0\", shape=(115931,), dtype=float32)\n2017-03-07 17:00:00    Tensor(\"sub_2:0\", shape=(115931,), dtype=float32)\n2017-03-07 18:00:00    Tensor(\"sub_3:0\", shape=(115931,), dtype=float32)\n2017-03-07 19:00:00    Tensor(\"sub_4:0\", shape=(115931,), dtype=float32)\n2017-03-07 20:00:00    Tensor(\"sub_5:0\", shape=(115931,), dtype=float32)\n2017-03-07 21:00:00    Tensor(\"sub_6:0\", shape=(115931,), dtype=float32)\n2017-03-07 22:00:00    Tensor(\"sub_7:0\", shape=(115931,), dtype=float32)\n2017-03-07 23:00:00    Tensor(\"sub_8:0\", shape=(115931,), dtype=float32)\n2017-03-08 00:00:00    Tensor(\"sub_9:0\", shape=(115931,), dtype=float32)\n2017-03-08 01:00:00    Tensor(\"sub_10:0\", shape=(115931,), dtype=floa...\n2017-03-08 02:00:00    Tensor(\"sub_11:0\", shape=(115931,), dtype=floa...\n2017-03-08 03:00:00    Tensor(\"sub_12:0\", shape=(115931,), dtype=floa...\n2017-03-08 04:00:00    Tensor(\"sub_13:0\", shape=(115931,), dtype=floa...\n2017-03-08 05:00:00    Tensor(\"sub_14:0\", shape=(115931,), dtype=floa...\n2017-03-08 06:00:00    Tensor(\"sub_15:0\", shape=(115931,), dtype=floa...\n2017-03-08 07:00:00    Tensor(\"sub_16:0\", shape=(115931,), dtype=floa...\n2017-03-08 08:00:00    Tensor(\"sub_17:0\", shape=(115931,), dtype=floa...\n2017-03-08 09:00:00    Tensor(\"sub_18:0\", shape=(115931,), dtype=floa...\n2017-03-08 10:00:00    Tensor(\"sub_19:0\", shape=(115931,), dtype=floa...\n2017-03-08 11:00:00    Tensor(\"sub_20:0\", shape=(115931,), dtype=floa...\n2017-03-08 12:00:00    Tensor(\"sub_21:0\", shape=(115931,), dtype=floa...\n2017-03-08 13:00:00    Tensor(\"sub_22:0\", shape=(115931,), dtype=floa...\n2017-03-08 14:00:00    Tensor(\"sub_23:0\", shape=(115931,), dtype=floa...\n2017-03-08 15:00:00    Tensor(\"sub_24:0\", shape=(115931,), dtype=floa...\n2017-03-08 16:00:00    Tensor(\"sub_25:0\", shape=(115931,), dtype=floa...\n2017-03-08 17:00:00    Tensor(\"sub_26:0\", shape=(115931,), dtype=floa...\n2017-03-08 18:00:00    Tensor(\"sub_27:0\", shape=(115931,), dtype=floa...\n2017-03-08 19:00:00    Tensor(\"sub_28:0\", shape=(115931,), dtype=floa...\n2017-03-08 20:00:00    Tensor(\"sub_29:0\", shape=(115931,), dtype=floa...\n                                             ...                        \n2017-11-21 06:00:00    Tensor(\"sub_115901:0\", shape=(115931,), dtype=...\n2017-11-21 07:00:00    Tensor(\"sub_115902:0\", shape=(115931,), dtype=...\n2017-11-21 08:00:00    Tensor(\"sub_115903:0\", shape=(115931,), dtype=...\n2017-11-21 09:00:00    Tensor(\"sub_115904:0\", shape=(115931,), dtype=...\n2017-11-21 10:00:00    Tensor(\"sub_115905:0\", shape=(115931,), dtype=...\n2017-11-21 11:00:00    Tensor(\"sub_115906:0\", shape=(115931,), dtype=...\n2017-11-21 12:00:00    Tensor(\"sub_115907:0\", shape=(115931,), dtype=...\n2017-11-21 13:00:00    Tensor(\"sub_115908:0\", shape=(115931,), dtype=...\n2017-11-21 14:00:00    Tensor(\"sub_115909:0\", shape=(115931,), dtype=...\n2017-11-21 15:00:00    Tensor(\"sub_115910:0\", shape=(115931,), dtype=...\n2017-11-21 16:00:00    Tensor(\"sub_115911:0\", shape=(115931,), dtype=...\n2017-11-21 17:00:00    Tensor(\"sub_115912:0\", shape=(115931,), dtype=...\n2017-11-21 18:00:00    Tensor(\"sub_115913:0\", shape=(115931,), dtype=...\n2017-11-21 19:00:00    Tensor(\"sub_115914:0\", shape=(115931,), dtype=...\n2017-11-21 20:00:00    Tensor(\"sub_115915:0\", shape=(115931,), dtype=...\n2017-11-21 21:00:00    Tensor(\"sub_115916:0\", shape=(115931,), dtype=...\n2017-11-21 22:00:00    Tensor(\"sub_115917:0\", shape=(115931,), dtype=...\n2017-11-21 23:00:00    Tensor(\"sub_115918:0\", shape=(115931,), dtype=...\n2017-11-22 00:00:00    Tensor(\"sub_115919:0\", shape=(115931,), dtype=...\n2017-11-22 01:00:00    Tensor(\"sub_115920:0\", shape=(115931,), dtype=...\n2017-11-22 02:00:00    Tensor(\"sub_115921:0\", shape=(115931,), dtype=...\n2017-11-22 03:00:00    Tensor(\"sub_115922:0\", shape=(115931,), dtype=...\n2017-11-22 04:00:00    Tensor(\"sub_115923:0\", shape=(115931,), dtype=...\n2017-11-22 05:00:00    Tensor(\"sub_115924:0\", shape=(115931,), dtype=...\n2017-11-22 06:00:00    Tensor(\"sub_115925:0\", shape=(115931,), dtype=...\n2017-11-22 07:00:00    Tensor(\"sub_115926:0\", shape=(115931,), dtype=...\n2017-11-22 08:00:00    Tensor(\"sub_115927:0\", shape=(115931,), dtype=...\n2017-11-22 09:00:00    Tensor(\"sub_115928:0\", shape=(115931,), dtype=...\n2017-11-22 10:00:00    Tensor(\"sub_115929:0\", shape=(115931,), dtype=...\n2017-11-22 11:00:00    Tensor(\"sub_115930:0\", shape=(115931,), dtype=...\nLength: 115931, dtype: object. Consider casting elements to a supported type."
     ]
    }
   ],
   "source": [
    "#creating loss function\n",
    "loss = tf.reduce_mean(tf.square(y_data - y))"
   ]
  },
  {
   "cell_type": "code",
   "execution_count": null,
   "metadata": {},
   "outputs": [],
   "source": []
  }
 ],
 "metadata": {
  "kernelspec": {
   "display_name": "Python 3",
   "language": "python",
   "name": "python3"
  },
  "language_info": {
   "codemirror_mode": {
    "name": "ipython",
    "version": 3
   },
   "file_extension": ".py",
   "mimetype": "text/x-python",
   "name": "python",
   "nbconvert_exporter": "python",
   "pygments_lexer": "ipython3",
   "version": "3.6.6"
  }
 },
 "nbformat": 4,
 "nbformat_minor": 2
}
