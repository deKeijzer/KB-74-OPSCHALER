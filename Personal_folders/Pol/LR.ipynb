{
 "cells": [
  {
   "cell_type": "code",
   "execution_count": 32,
   "metadata": {},
   "outputs": [],
   "source": [
    "import tensorflow as tf\n",
    "import numpy as np\n",
    "import pandas as pd\n",
    "import seaborn as sns\n",
    "import matplotlib.pyplot as plt"
   ]
  },
  {
   "cell_type": "code",
   "execution_count": 33,
   "metadata": {},
   "outputs": [],
   "source": [
    "df = pd.read_csv(\"/datc/opschaler/combined_gas_smart_weather_dfs/processed/all_dwellings_combined_hour.csv\",header=0,delimiter=\"\\t\")"
   ]
  },
  {
   "cell_type": "code",
   "execution_count": 36,
   "metadata": {},
   "outputs": [
    {
     "data": {
      "text/html": [
       "<div>\n",
       "<style scoped>\n",
       "    .dataframe tbody tr th:only-of-type {\n",
       "        vertical-align: middle;\n",
       "    }\n",
       "\n",
       "    .dataframe tbody tr th {\n",
       "        vertical-align: top;\n",
       "    }\n",
       "\n",
       "    .dataframe thead th {\n",
       "        text-align: right;\n",
       "    }\n",
       "</style>\n",
       "<table border=\"1\" class=\"dataframe\">\n",
       "  <thead>\n",
       "    <tr style=\"text-align: right;\">\n",
       "      <th></th>\n",
       "      <th>datetime</th>\n",
       "      <th>eMeter</th>\n",
       "      <th>eMeterReturn</th>\n",
       "      <th>eMeterLow</th>\n",
       "      <th>eMeterLowReturn</th>\n",
       "      <th>ePower</th>\n",
       "      <th>ePowerReturn</th>\n",
       "      <th>gasMeter</th>\n",
       "      <th>DD</th>\n",
       "      <th>DR</th>\n",
       "      <th>...</th>\n",
       "      <th>RG</th>\n",
       "      <th>SQ</th>\n",
       "      <th>T</th>\n",
       "      <th>T10</th>\n",
       "      <th>TD</th>\n",
       "      <th>U</th>\n",
       "      <th>VV</th>\n",
       "      <th>WW</th>\n",
       "      <th>dwelling</th>\n",
       "      <th>gasPower</th>\n",
       "    </tr>\n",
       "    <tr>\n",
       "      <th>datetime</th>\n",
       "      <th></th>\n",
       "      <th></th>\n",
       "      <th></th>\n",
       "      <th></th>\n",
       "      <th></th>\n",
       "      <th></th>\n",
       "      <th></th>\n",
       "      <th></th>\n",
       "      <th></th>\n",
       "      <th></th>\n",
       "      <th></th>\n",
       "      <th></th>\n",
       "      <th></th>\n",
       "      <th></th>\n",
       "      <th></th>\n",
       "      <th></th>\n",
       "      <th></th>\n",
       "      <th></th>\n",
       "      <th></th>\n",
       "      <th></th>\n",
       "      <th></th>\n",
       "    </tr>\n",
       "  </thead>\n",
       "  <tbody>\n",
       "    <tr>\n",
       "      <th>2017-03-07 15:00:00</th>\n",
       "      <td>2017-03-07 15:00:00</td>\n",
       "      <td>NaN</td>\n",
       "      <td>NaN</td>\n",
       "      <td>NaN</td>\n",
       "      <td>NaN</td>\n",
       "      <td>NaN</td>\n",
       "      <td>NaN</td>\n",
       "      <td>307.44101</td>\n",
       "      <td>305.450012</td>\n",
       "      <td>0.0</td>\n",
       "      <td>...</td>\n",
       "      <td>0.0</td>\n",
       "      <td>7.631617</td>\n",
       "      <td>8.733334</td>\n",
       "      <td>9.133333</td>\n",
       "      <td>4.883333</td>\n",
       "      <td>76.500000</td>\n",
       "      <td>31916.666016</td>\n",
       "      <td>1.333333</td>\n",
       "      <td>P01S01W7548</td>\n",
       "      <td>NaN</td>\n",
       "    </tr>\n",
       "    <tr>\n",
       "      <th>2017-03-07 16:00:00</th>\n",
       "      <td>2017-03-07 16:00:00</td>\n",
       "      <td>625.401001</td>\n",
       "      <td>0.0</td>\n",
       "      <td>359.501007</td>\n",
       "      <td>0.0</td>\n",
       "      <td>383.994446</td>\n",
       "      <td>0.0</td>\n",
       "      <td>307.44101</td>\n",
       "      <td>288.200012</td>\n",
       "      <td>0.0</td>\n",
       "      <td>...</td>\n",
       "      <td>0.0</td>\n",
       "      <td>10.000000</td>\n",
       "      <td>9.116667</td>\n",
       "      <td>10.750000</td>\n",
       "      <td>5.416667</td>\n",
       "      <td>77.166664</td>\n",
       "      <td>23800.000000</td>\n",
       "      <td>2.666667</td>\n",
       "      <td>P01S01W7548</td>\n",
       "      <td>0.0</td>\n",
       "    </tr>\n",
       "    <tr>\n",
       "      <th>2017-03-07 17:00:00</th>\n",
       "      <td>2017-03-07 17:00:00</td>\n",
       "      <td>625.679993</td>\n",
       "      <td>0.0</td>\n",
       "      <td>359.501007</td>\n",
       "      <td>0.0</td>\n",
       "      <td>277.722229</td>\n",
       "      <td>0.0</td>\n",
       "      <td>307.44101</td>\n",
       "      <td>285.866669</td>\n",
       "      <td>0.0</td>\n",
       "      <td>...</td>\n",
       "      <td>0.0</td>\n",
       "      <td>2.936100</td>\n",
       "      <td>7.866667</td>\n",
       "      <td>8.450000</td>\n",
       "      <td>4.550000</td>\n",
       "      <td>78.833336</td>\n",
       "      <td>22233.333984</td>\n",
       "      <td>1.000000</td>\n",
       "      <td>P01S01W7548</td>\n",
       "      <td>0.0</td>\n",
       "    </tr>\n",
       "    <tr>\n",
       "      <th>2017-03-07 18:00:00</th>\n",
       "      <td>2017-03-07 18:00:00</td>\n",
       "      <td>625.820984</td>\n",
       "      <td>0.0</td>\n",
       "      <td>359.501007</td>\n",
       "      <td>0.0</td>\n",
       "      <td>143.624283</td>\n",
       "      <td>0.0</td>\n",
       "      <td>307.44101</td>\n",
       "      <td>286.633331</td>\n",
       "      <td>0.0</td>\n",
       "      <td>...</td>\n",
       "      <td>0.0</td>\n",
       "      <td>5.000000</td>\n",
       "      <td>7.066667</td>\n",
       "      <td>6.816667</td>\n",
       "      <td>4.433333</td>\n",
       "      <td>82.833336</td>\n",
       "      <td>20266.666016</td>\n",
       "      <td>2.500000</td>\n",
       "      <td>P01S01W7548</td>\n",
       "      <td>0.0</td>\n",
       "    </tr>\n",
       "    <tr>\n",
       "      <th>2017-03-07 19:00:00</th>\n",
       "      <td>2017-03-07 19:00:00</td>\n",
       "      <td>625.963013</td>\n",
       "      <td>0.0</td>\n",
       "      <td>359.501007</td>\n",
       "      <td>0.0</td>\n",
       "      <td>143.376038</td>\n",
       "      <td>0.0</td>\n",
       "      <td>307.44101</td>\n",
       "      <td>278.783325</td>\n",
       "      <td>0.0</td>\n",
       "      <td>...</td>\n",
       "      <td>0.0</td>\n",
       "      <td>0.000000</td>\n",
       "      <td>6.616667</td>\n",
       "      <td>6.016667</td>\n",
       "      <td>4.300000</td>\n",
       "      <td>84.666664</td>\n",
       "      <td>17433.333984</td>\n",
       "      <td>2.833333</td>\n",
       "      <td>P01S01W7548</td>\n",
       "      <td>0.0</td>\n",
       "    </tr>\n",
       "  </tbody>\n",
       "</table>\n",
       "<p>5 rows × 25 columns</p>\n",
       "</div>"
      ],
      "text/plain": [
       "                                datetime      eMeter  eMeterReturn  \\\n",
       "datetime                                                             \n",
       "2017-03-07 15:00:00  2017-03-07 15:00:00         NaN           NaN   \n",
       "2017-03-07 16:00:00  2017-03-07 16:00:00  625.401001           0.0   \n",
       "2017-03-07 17:00:00  2017-03-07 17:00:00  625.679993           0.0   \n",
       "2017-03-07 18:00:00  2017-03-07 18:00:00  625.820984           0.0   \n",
       "2017-03-07 19:00:00  2017-03-07 19:00:00  625.963013           0.0   \n",
       "\n",
       "                      eMeterLow  eMeterLowReturn      ePower  ePowerReturn  \\\n",
       "datetime                                                                     \n",
       "2017-03-07 15:00:00         NaN              NaN         NaN           NaN   \n",
       "2017-03-07 16:00:00  359.501007              0.0  383.994446           0.0   \n",
       "2017-03-07 17:00:00  359.501007              0.0  277.722229           0.0   \n",
       "2017-03-07 18:00:00  359.501007              0.0  143.624283           0.0   \n",
       "2017-03-07 19:00:00  359.501007              0.0  143.376038           0.0   \n",
       "\n",
       "                      gasMeter          DD   DR    ...      RG         SQ  \\\n",
       "datetime                                           ...                      \n",
       "2017-03-07 15:00:00  307.44101  305.450012  0.0    ...     0.0   7.631617   \n",
       "2017-03-07 16:00:00  307.44101  288.200012  0.0    ...     0.0  10.000000   \n",
       "2017-03-07 17:00:00  307.44101  285.866669  0.0    ...     0.0   2.936100   \n",
       "2017-03-07 18:00:00  307.44101  286.633331  0.0    ...     0.0   5.000000   \n",
       "2017-03-07 19:00:00  307.44101  278.783325  0.0    ...     0.0   0.000000   \n",
       "\n",
       "                            T        T10        TD          U            VV  \\\n",
       "datetime                                                                      \n",
       "2017-03-07 15:00:00  8.733334   9.133333  4.883333  76.500000  31916.666016   \n",
       "2017-03-07 16:00:00  9.116667  10.750000  5.416667  77.166664  23800.000000   \n",
       "2017-03-07 17:00:00  7.866667   8.450000  4.550000  78.833336  22233.333984   \n",
       "2017-03-07 18:00:00  7.066667   6.816667  4.433333  82.833336  20266.666016   \n",
       "2017-03-07 19:00:00  6.616667   6.016667  4.300000  84.666664  17433.333984   \n",
       "\n",
       "                           WW     dwelling  gasPower  \n",
       "datetime                                              \n",
       "2017-03-07 15:00:00  1.333333  P01S01W7548       NaN  \n",
       "2017-03-07 16:00:00  2.666667  P01S01W7548       0.0  \n",
       "2017-03-07 17:00:00  1.000000  P01S01W7548       0.0  \n",
       "2017-03-07 18:00:00  2.500000  P01S01W7548       0.0  \n",
       "2017-03-07 19:00:00  2.833333  P01S01W7548       0.0  \n",
       "\n",
       "[5 rows x 25 columns]"
      ]
     },
     "execution_count": 36,
     "metadata": {},
     "output_type": "execute_result"
    }
   ],
   "source": [
    "df = df.set_index(pd.DatetimeIndex(df['datetime']))\n",
    "df.drop(['datetime'], axis=1)\n",
    "df.head()"
   ]
  },
  {
   "cell_type": "markdown",
   "metadata": {},
   "source": [
    "# Quick EDA"
   ]
  },
  {
   "cell_type": "code",
   "execution_count": 41,
   "metadata": {},
   "outputs": [],
   "source": [
    "#creating correlation matrix function\n",
    "def corr_matrix (data):\n",
    "\n",
    "    #initialising correlations\n",
    "    corr = data.corr()\n",
    "\n",
    "    #creating a mask for corr matrix\n",
    "    mask = np.zeros_like(corr, dtype=np.bool)\n",
    "    mask[np.triu_indices_from(mask)] = True\n",
    "\n",
    "    # Set up the matplotlib figure\n",
    "    f, ax = plt.subplots(figsize=(11, 9))\n",
    "\n",
    "    # Generate a custom diverging colormap\n",
    "    cmap = sns.diverging_palette(220, 10, as_cmap=True)\n",
    "\n",
    "    # Draw the heatmap with the mask and correct aspect ratio\n",
    "    return sns.heatmap(corr, mask=mask, cmap=cmap, vmax=.3, center=0,\n",
    "                square=True, linewidths=.5, cbar_kws={\"shrink\": .5})\n",
    "\n"
   ]
  },
  {
   "cell_type": "code",
   "execution_count": 42,
   "metadata": {},
   "outputs": [
    {
     "data": {
      "text/plain": [
       "<matplotlib.axes._subplots.AxesSubplot at 0x7fabe771e198>"
      ]
     },
     "execution_count": 42,
     "metadata": {},
     "output_type": "execute_result"
    },
    {
     "data": {
      "image/png": "[encoded data removed]",
      "text/plain": [
       "<Figure size 792x648 with 2 Axes>"
      ]
     },
     "metadata": {
      "needs_background": "light"
     },
     "output_type": "display_data"
    }
   ],
   "source": [
    "corr_matrix(df)"
   ]
  },
  {
   "cell_type": "code",
   "execution_count": 43,
   "metadata": {},
   "outputs": [],
   "source": [
    "#resampling data to day to see differences\n",
    "df_d = df.resample('d').mean()"
   ]
  },
  {
   "cell_type": "code",
   "execution_count": 44,
   "metadata": {},
   "outputs": [
    {
     "data": {
      "text/plain": [
       "<matplotlib.axes._subplots.AxesSubplot at 0x7fabeba02be0>"
      ]
     },
     "execution_count": 44,
     "metadata": {},
     "output_type": "execute_result"
    },
    {
     "data": {
      "image/png": "[encoded data removed]",
      "text/plain": [
       "<Figure size 792x648 with 2 Axes>"
      ]
     },
     "metadata": {
      "needs_background": "light"
     },
     "output_type": "display_data"
    }
   ],
   "source": [
    "corr_matrix(df_d)"
   ]
  },
  {
   "cell_type": "markdown",
   "metadata": {},
   "source": [
    "# Creating LR model"
   ]
  },
  {
   "cell_type": "code",
   "execution_count": 48,
   "metadata": {},
   "outputs": [],
   "source": [
    "#creating variables for LR\n",
    "x = df['T']\n",
    "y = df['gasPower']\n",
    "\n",
    "#initialising variables for lineair function\n",
    "a = tf.Variable(1.0)\n",
    "b = tf.Variable(0.2)\n",
    "\n",
    "#creating the function\n",
    "y = a * x + b"
   ]
  },
  {
   "cell_type": "code",
   "execution_count": null,
   "metadata": {},
   "outputs": [],
   "source": []
  }
 ],
 "metadata": {
  "kernelspec": {
   "display_name": "Python 3",
   "language": "python",
   "name": "python3"
  },
  "language_info": {
   "codemirror_mode": {
    "name": "ipython",
    "version": 3
   },
   "file_extension": ".py",
   "mimetype": "text/x-python",
   "name": "python",
   "nbconvert_exporter": "python",
   "pygments_lexer": "ipython3",
   "version": "3.6.6"
  }
 },
 "nbformat": 4,
 "nbformat_minor": 2
}
