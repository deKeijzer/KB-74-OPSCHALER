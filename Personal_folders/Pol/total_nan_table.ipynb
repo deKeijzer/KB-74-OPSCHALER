{
 "cells": [
  {
   "cell_type": "code",
   "execution_count": 10,
   "metadata": {},
   "outputs": [],
   "source": [
    "import pandas as pd\n",
    "import glob\n",
    "import numpy as np\n",
    "nan_table = pd.DataFrame()"
   ]
  },
  {
   "cell_type": "code",
   "execution_count": 38,
   "metadata": {},
   "outputs": [
    {
     "name": "stdout",
     "output_type": "stream",
     "text": [
      "  Column name          Start index           Stop index  Amount of NaNs\n",
      "0      eMeter  2017-03-07 07:39:10  2017-03-07 07:39:10               1\n",
      "1      eMeter  2017-03-07 07:40:30  2017-03-07 07:40:30               1\n",
      "2      eMeter  2017-03-07 07:42:00  2017-03-07 07:42:00               1\n",
      "3      eMeter  2017-03-07 08:11:40  2017-03-07 08:11:40               1\n",
      "4      eMeter  2017-03-07 08:13:00  2017-03-07 08:13:00               1\n"
     ]
    }
   ],
   "source": [
    "path = '/datc/opschaler/nan_information'\n",
    "file_paths = np.array(glob.glob(path + \"/*.csv\"))\n",
    "dwelling_ids = np.array(list((map(lambda x: x[-15:-4], file_paths))))\n",
    "b=list(dwelling_ids)\n",
    "df_concat =pd.read_csv(\"/datc/opschaler/nan_information//P01S01W0373_10s.csv\",header=0,delimiter='\\t',index_col=0)\n",
    "print(df_concat.head())\n",
    "\n"
   ]
  },
  {
   "cell_type": "code",
   "execution_count": 41,
   "metadata": {},
   "outputs": [
    {
     "ename": "SyntaxError",
     "evalue": "can't assign to function call (<ipython-input-41-8061c41ff20b>, line 1)",
     "output_type": "error",
     "traceback": [
      "\u001b[0;36m  File \u001b[0;32m\"<ipython-input-41-8061c41ff20b>\"\u001b[0;36m, line \u001b[0;32m1\u001b[0m\n\u001b[0;31m    for len(b) in file_paths:\u001b[0m\n\u001b[0m       ^\u001b[0m\n\u001b[0;31mSyntaxError\u001b[0m\u001b[0;31m:\u001b[0m can't assign to function call\n"
     ]
    }
   ],
   "source": [
    "#for len(b) in file_paths:\n",
    "    #df = pd.read_csv(file_paths + \"/*\", delimiter='\\t', header=0, index_col=0)\n",
    "    #df_concat = pd.concat(df_concat, df)\n",
    "    #return df_concat\n",
    "df_concat = "
   ]
  },
  {
   "cell_type": "code",
   "execution_count": 34,
   "metadata": {},
   "outputs": [
    {
     "name": "stdout",
     "output_type": "stream",
     "text": [
      "Empty DataFrame\n",
      "Columns: []\n",
      "Index: []\n"
     ]
    }
   ],
   "source": []
  },
  {
   "cell_type": "code",
   "execution_count": null,
   "metadata": {},
   "outputs": [],
   "source": []
  }
 ],
 "metadata": {
  "kernelspec": {
   "display_name": "Python 3",
   "language": "python",
   "name": "python3"
  },
  "language_info": {
   "codemirror_mode": {
    "name": "ipython",
    "version": 3
   },
   "file_extension": ".py",
   "mimetype": "text/x-python",
   "name": "python",
   "nbconvert_exporter": "python",
   "pygments_lexer": "ipython3",
   "version": "3.6.6"
  }
 },
 "nbformat": 4,
 "nbformat_minor": 2
}
