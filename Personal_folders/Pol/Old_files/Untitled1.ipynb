{
 "cells": [
  {
   "cell_type": "code",
   "execution_count": 1,
   "metadata": {},
   "outputs": [],
   "source": [
    "import pandas as pd\n",
    "import numpy as np\n",
    "import matplotlib.pyplot as plt\n",
    "import glob\n",
    "%matplotlib inline"
   ]
  },
  {
   "cell_type": "code",
   "execution_count": 3,
   "metadata": {},
   "outputs": [],
   "source": [
    "df =pd.read_csv(\"/datc/opschaler/smartmeter_data/export_P01S01W0373.csv\",header=0,delimiter=\";\",parse_dates=['Timestamp', 'gasTimestamp'])"
   ]
  },
  {
   "cell_type": "code",
   "execution_count": 12,
   "metadata": {},
   "outputs": [],
   "source": [
    "def df_NaN_checker(df):\n",
    "    columns = df.columns\n",
    "    df = df.isnull()\n",
    "    df_info = []\n",
    "\n",
    "    for i in range(len(columns)):\n",
    "        column_name = columns[i]\n",
    "    \n",
    "        column_info_final = []\n",
    "        column_info = []\n",
    "        temp = []\n",
    "        x = False\n",
    "    \n",
    "        for j,value in enumerate(t[column_name]):\n",
    "            if x == False and value == True:\n",
    "                temp.append(j)\n",
    "                x = True\n",
    "            elif x == True and value == True:\n",
    "                temp.append(j)\n",
    "            elif x == True and value == False:\n",
    "                column_info.append(temp)\n",
    "                temp = []\n",
    "                x = False\n",
    "        \n",
    "        lengths = []\n",
    "\n",
    "        for array in column_info:\n",
    "            lengths.append([array[0], array[-1], len(array)])\n",
    "    \n",
    "        df_info.append(lengths)\n",
    "\n",
    "    return df_info"
   ]
  },
  {
   "cell_type": "code",
   "execution_count": null,
   "metadata": {},
   "outputs": [],
   "source": []
  }
 ],
 "metadata": {
  "kernelspec": {
   "display_name": "Python 3",
   "language": "python",
   "name": "python3"
  },
  "language_info": {
   "codemirror_mode": {
    "name": "ipython",
    "version": 3
   },
   "file_extension": ".py",
   "mimetype": "text/x-python",
   "name": "python",
   "nbconvert_exporter": "python",
   "pygments_lexer": "ipython3",
   "version": "3.6.6"
  }
 },
 "nbformat": 4,
 "nbformat_minor": 2
}
