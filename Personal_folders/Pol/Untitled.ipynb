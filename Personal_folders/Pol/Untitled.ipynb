{
 "cells": [
  {
   "cell_type": "code",
   "execution_count": 15,
   "metadata": {},
   "outputs": [],
   "source": [
    "import Opschaler as op"
   ]
  },
  {
   "cell_type": "code",
   "execution_count": 16,
   "metadata": {},
   "outputs": [
    {
     "data": {
      "text/plain": [
       "['P01S01W5855',\n",
       " 'P01S01W3497',\n",
       " 'P01S02W5065',\n",
       " 'P01S01W5040',\n",
       " 'P01S01W4569',\n",
       " 'P01S01W8239',\n",
       " 'P01S01W8655',\n",
       " 'P01S01W7071',\n",
       " 'P01S01W4091',\n",
       " 'P01S01W7548',\n",
       " 'P01S01W5339',\n",
       " 'P01S01W4313',\n",
       " 'P01S01W7042',\n",
       " 'P01S01W6495',\n",
       " 'P01S02W4953',\n",
       " 'P01S01W6835',\n",
       " 'P01S01W4979',\n",
       " 'P01S01W6959',\n",
       " 'P01S01W5564',\n",
       " 'P01S01W1347',\n",
       " 'P01S01W6595',\n",
       " 'P01S01W0373',\n",
       " 'P01S01W4002',\n",
       " 'P01S01W0998',\n",
       " 'P01S01W5476',\n",
       " 'P01S01W5588',\n",
       " 'P01S01W9431',\n",
       " 'P01S01W0001',\n",
       " 'P01S01W8171',\n",
       " 'P01S01W4489',\n",
       " 'P01S01W5292',\n",
       " 'P01S01W6271',\n",
       " 'P01S01W4589',\n",
       " 'P01S02W2995',\n",
       " 'P01S01W2581',\n",
       " 'P01S02W0167',\n",
       " 'P01S01W1341',\n",
       " 'P01S02W4827',\n",
       " 'P01S01W4579',\n",
       " 'P01S01W8669',\n",
       " 'P01S01W5746',\n",
       " 'P01S01W6240',\n",
       " 'P01S01W0000',\n",
       " 'P01S01W1554',\n",
       " 'P01S01W6549',\n",
       " 'P01S01W7980',\n",
       " 'P01S02W7251',\n",
       " 'P01S01W6289',\n",
       " 'P01S01W3955',\n",
       " 'P01S01W8828',\n",
       " 'P01S02W6848',\n",
       " 'P01S02W0599',\n",
       " 'P01S01W9617',\n",
       " 'P01S02W1050',\n",
       " 'P01S01W0378',\n",
       " 'P01S01W2743']"
      ]
     },
     "execution_count": 16,
     "metadata": {},
     "output_type": "execute_result"
    }
   ],
   "source": [
    "op.dwelling_id_list()"
   ]
  },
  {
   "cell_type": "code",
   "execution_count": null,
   "metadata": {},
   "outputs": [],
   "source": []
  }
 ],
 "metadata": {
  "kernelspec": {
   "display_name": "Python 3",
   "language": "python",
   "name": "python3"
  },
  "language_info": {
   "codemirror_mode": {
    "name": "ipython",
    "version": 3
   },
   "file_extension": ".py",
   "mimetype": "text/x-python",
   "name": "python",
   "nbconvert_exporter": "python",
   "pygments_lexer": "ipython3",
   "version": "3.6.6"
  }
 },
 "nbformat": 4,
 "nbformat_minor": 2
}
