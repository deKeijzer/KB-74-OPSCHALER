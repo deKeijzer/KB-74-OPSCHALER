{
 "cells": [
  {
   "cell_type": "code",
   "execution_count": 1,
   "metadata": {},
   "outputs": [
    {
     "ename": "SyntaxError",
     "evalue": "invalid syntax (Opschaler.py, line 12)",
     "output_type": "error",
     "traceback": [
      "\u001b[0;36m  File \u001b[0;32m\"/home/16080696/notebooks/KB-74-OPSCHALER/Opschaler.py\"\u001b[0;36m, line \u001b[0;32m12\u001b[0m\n\u001b[0;31m    %matplotlib inline\u001b[0m\n\u001b[0m    ^\u001b[0m\n\u001b[0;31mSyntaxError\u001b[0m\u001b[0;31m:\u001b[0m invalid syntax\n"
     ]
    }
   ],
   "source": [
    "import sys\n",
    "sys.path.append('/home/16080696/notebooks/KB-74-OPSCHALER/')\n",
    "import Opschaler as op\n",
    "import matplotlib.pyplot as plt\n",
    "import seaborn as sns\n",
    "import numpy as np"
   ]
  },
  {
   "cell_type": "code",
   "execution_count": 2,
   "metadata": {},
   "outputs": [
    {
     "ename": "NameError",
     "evalue": "name 'op' is not defined",
     "output_type": "error",
     "traceback": [
      "\u001b[0;31m---------------------------------------------------------------------------\u001b[0m",
      "\u001b[0;31mNameError\u001b[0m                                 Traceback (most recent call last)",
      "\u001b[0;32m<ipython-input-2-82646cffc676>\u001b[0m in \u001b[0;36m<module>\u001b[0;34m()\u001b[0m\n\u001b[0;32m----> 1\u001b[0;31m \u001b[0mop\u001b[0m\u001b[0;34m.\u001b[0m\u001b[0mdwel_path_id\u001b[0m\u001b[0;34m(\u001b[0m\u001b[0;34m'10s'\u001b[0m\u001b[0;34m,\u001b[0m \u001b[0;34m'processed'\u001b[0m\u001b[0;34m,\u001b[0m \u001b[0;34m'yes'\u001b[0m\u001b[0;34m)\u001b[0m\u001b[0;34m\u001b[0m\u001b[0m\n\u001b[0m",
      "\u001b[0;31mNameError\u001b[0m: name 'op' is not defined"
     ]
    }
   ],
   "source": [
    "op.dwel_path_id('10s', 'processed', 'yes')"
   ]
  },
  {
   "cell_type": "code",
   "execution_count": null,
   "metadata": {},
   "outputs": [],
   "source": [
    "def corr_df(len_measurement, dwelling_id):\n",
    "    %matplotlib inline\n",
    "    plt.style.use('default')\n",
    "\n",
    "    df = pd.read_csv(\"/datc/opschaler/combined_gas_smart_weather_dfs/processed/\"+dwelling_id+\"_hour.csv\",header=0,delimiter=\"\\t\",parse_dates = ['datetime'])\n",
    "    df = df.set_index(['datetime'])\n",
    "\n",
    "    if len_measurement == '3h':\n",
    "        df = df.resample('3H').mean()\n",
    "    if len_measurement == '6h':\n",
    "        df = df.resample('6H').mean()\n",
    "    if len_measurement == '12h':\n",
    "        df = df.resample('12H').mean()\n",
    "    if len_measurement == '1d':\n",
    "        df = df.resample('1D').mean()\n",
    "    if len_measurement == '1w':\n",
    "        df = df.resample('1W').mean()\n",
    "    if len_measurement == '1m':\n",
    "        df = df.resample('1M').mean()\n",
    "    \n",
    "    rdf = df[df['T'] < 16]\n",
    "    \n",
    "    corr = rdf.corr()\n",
    "    mask = np.zeros_like(corr)\n",
    "    mask[np.triu_indices_from(mask)] = True\n",
    "\n",
    "    fig, ax = plt.subplots(figsize=(25,25))\n",
    "\n",
    "    sns.heatmap(corr, mask=mask, square=False, cmap='RdYlGn', annot=True, ax=ax,\n",
    "                cbar_kws={'label':'Pearson correlation coefficient [-]'})\n",
    "\n",
    "    plt.title('Correlation Matrix')\n",
    "    plt.xticks(rotation=90)\n",
    "    plt.yticks(rotation=0)\n",
    "    return plt.show()\n"
   ]
  },
  {
   "cell_type": "code",
   "execution_count": null,
   "metadata": {},
   "outputs": [],
   "source": [
    "#corr_df('3h','P01S01W0373')\n",
    "op.corr_df('3h','P01S01W0373')"
   ]
  },
  {
   "cell_type": "code",
   "execution_count": null,
   "metadata": {},
   "outputs": [],
   "source": []
  }
 ],
 "metadata": {
  "kernelspec": {
   "display_name": "Python 3",
   "language": "python",
   "name": "python3"
  },
  "language_info": {
   "codemirror_mode": {
    "name": "ipython",
    "version": 3
   },
   "file_extension": ".py",
   "mimetype": "text/x-python",
   "name": "python",
   "nbconvert_exporter": "python",
   "pygments_lexer": "ipython3",
   "version": "3.6.6"
  }
 },
 "nbformat": 4,
 "nbformat_minor": 2
}
