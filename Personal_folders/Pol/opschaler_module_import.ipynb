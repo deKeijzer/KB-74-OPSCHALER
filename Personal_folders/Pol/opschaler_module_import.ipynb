{
 "cells": [
  {
   "cell_type": "code",
   "execution_count": 2,
   "metadata": {},
   "outputs": [],
   "source": [
    "import sys\n",
    "sys.path.append('/home/16080696/notebooks/KB-74-OPSCHALER/')\n",
    "import Opschaler as op\n",
    "import pandas as pd"
   ]
  },
  {
   "cell_type": "code",
   "execution_count": 3,
   "metadata": {},
   "outputs": [
    {
     "name": "stdout",
     "output_type": "stream",
     "text": [
      "complete_path: //datc//opschaler//combined_gas_smart_weather_dfs//processed//P*_10s.csv\n",
      "Detected 22 smartmeter_data files.\n",
      "[ '//datc//opschaler//combined_gas_smart_weather_dfs//processed/P01S01W0000_10s.csv'\n",
      " '//datc//opschaler//combined_gas_smart_weather_dfs//processed/P01S01W5588_10s.csv'\n",
      " '//datc//opschaler//combined_gas_smart_weather_dfs//processed/P01S01W3955_10s.csv'\n",
      " '//datc//opschaler//combined_gas_smart_weather_dfs//processed/P01S01W0001_10s.csv'\n",
      " '//datc//opschaler//combined_gas_smart_weather_dfs//processed/P01S01W3497_10s.csv'\n",
      " '//datc//opschaler//combined_gas_smart_weather_dfs//processed/P01S01W6495_10s.csv'\n",
      " '//datc//opschaler//combined_gas_smart_weather_dfs//processed/P01S01W5746_10s.csv'\n",
      " '//datc//opschaler//combined_gas_smart_weather_dfs//processed/P01S01W4002_10s.csv'\n",
      " '//datc//opschaler//combined_gas_smart_weather_dfs//processed/P01S01W5564_10s.csv'\n",
      " '//datc//opschaler//combined_gas_smart_weather_dfs//processed/P01S02W7251_10s.csv'\n",
      " '//datc//opschaler//combined_gas_smart_weather_dfs//processed/P01S01W6240_10s.csv'\n",
      " '//datc//opschaler//combined_gas_smart_weather_dfs//processed/P01S01W0373_10s.csv'\n",
      " '//datc//opschaler//combined_gas_smart_weather_dfs//processed/P01S01W6289_10s.csv'\n",
      " '//datc//opschaler//combined_gas_smart_weather_dfs//processed/P01S01W1554_10s.csv'\n",
      " '//datc//opschaler//combined_gas_smart_weather_dfs//processed/P01S01W6271_10s.csv'\n",
      " '//datc//opschaler//combined_gas_smart_weather_dfs//processed/P01S01W5855_10s.csv'\n",
      " '//datc//opschaler//combined_gas_smart_weather_dfs//processed/P01S01W2581_10s.csv'\n",
      " '//datc//opschaler//combined_gas_smart_weather_dfs//processed/P01S01W1341_10s.csv'\n",
      " '//datc//opschaler//combined_gas_smart_weather_dfs//processed/P01S01W0378_10s.csv'\n",
      " '//datc//opschaler//combined_gas_smart_weather_dfs//processed/P01S01W2743_10s.csv'\n",
      " '//datc//opschaler//combined_gas_smart_weather_dfs//processed/P01S01W0998_10s.csv'\n",
      " '//datc//opschaler//combined_gas_smart_weather_dfs//processed/P01S01W1347_10s.csv']\n"
     ]
    }
   ],
   "source": [
    "\n",
    "file_paths, dwelling_ids = op.dwel_path_id('10s','processed','no')\n",
    "print(file_paths)"
   ]
  },
  {
   "cell_type": "code",
   "execution_count": 7,
   "metadata": {},
   "outputs": [
    {
     "name": "stdout",
     "output_type": "stream",
     "text": [
      "[ '//datc//opschaler//combined_gas_smart_weather_dfs//processed/P01S01W7548_10s.csv'\n",
      " '//datc//opschaler//combined_gas_smart_weather_dfs//processed/P01S01W0000_10s.csv'\n",
      " '//datc//opschaler//combined_gas_smart_weather_dfs//processed/P01S01W8239_10s.csv'\n",
      " '//datc//opschaler//combined_gas_smart_weather_dfs//processed/P01S01W5588_10s.csv'\n",
      " '//datc//opschaler//combined_gas_smart_weather_dfs//processed/P01S01W3955_10s.csv'\n",
      " '//datc//opschaler//combined_gas_smart_weather_dfs//processed/P01S02W5065_10s.csv'\n",
      " '//datc//opschaler//combined_gas_smart_weather_dfs//processed/P01S01W7980_10s.csv'\n",
      " '//datc//opschaler//combined_gas_smart_weather_dfs//processed/P01S02W4827_10s.csv'\n",
      " '//datc//opschaler//combined_gas_smart_weather_dfs//processed/P01S01W4589_10s.csv'\n",
      " '//datc//opschaler//combined_gas_smart_weather_dfs//processed/P01S01W5476_10s.csv'\n",
      " '//datc//opschaler//combined_gas_smart_weather_dfs//processed/P01S01W0001_10s.csv'\n",
      " '//datc//opschaler//combined_gas_smart_weather_dfs//processed/P01S01W7071_10s.csv'\n",
      " '//datc//opschaler//combined_gas_smart_weather_dfs//processed/P01S01W3497_10s.csv'\n",
      " '//datc//opschaler//combined_gas_smart_weather_dfs//processed/P01S02W4953_10s.csv'\n",
      " '//datc//opschaler//combined_gas_smart_weather_dfs//processed/P01S01W5040_10s.csv'\n",
      " '//datc//opschaler//combined_gas_smart_weather_dfs//processed/P01S01W9431_10s.csv'\n",
      " '//datc//opschaler//combined_gas_smart_weather_dfs//processed/P01S01W6495_10s.csv'\n",
      " '//datc//opschaler//combined_gas_smart_weather_dfs//processed/P01S01W4489_10s.csv'\n",
      " '//datc//opschaler//combined_gas_smart_weather_dfs//processed/P01S01W8171_10s.csv'\n",
      " '//datc//opschaler//combined_gas_smart_weather_dfs//processed/P01S01W5746_10s.csv'\n",
      " '//datc//opschaler//combined_gas_smart_weather_dfs//processed/P01S01W4002_10s.csv'\n",
      " '//datc//opschaler//combined_gas_smart_weather_dfs//processed/P01S01W4579_10s.csv'\n",
      " '//datc//opschaler//combined_gas_smart_weather_dfs//processed/P01S01W8669_10s.csv'\n",
      " '//datc//opschaler//combined_gas_smart_weather_dfs//processed/P01S01W5564_10s.csv'\n",
      " '//datc//opschaler//combined_gas_smart_weather_dfs//processed/P01S02W0167_10s.csv'\n",
      " '//datc//opschaler//combined_gas_smart_weather_dfs//processed/P01S02W7251_10s.csv'\n",
      " '//datc//opschaler//combined_gas_smart_weather_dfs//processed/P01S01W6595_10s.csv'\n",
      " '//datc//opschaler//combined_gas_smart_weather_dfs//processed/P01S01W6240_10s.csv'\n",
      " '//datc//opschaler//combined_gas_smart_weather_dfs//processed/P01S01W0373_10s.csv'\n",
      " '//datc//opschaler//combined_gas_smart_weather_dfs//processed/P01S02W2995_10s.csv'\n",
      " '//datc//opschaler//combined_gas_smart_weather_dfs//processed/P01S01W9617_10s.csv'\n",
      " '//datc//opschaler//combined_gas_smart_weather_dfs//processed/P01S01W6289_10s.csv'\n",
      " '//datc//opschaler//combined_gas_smart_weather_dfs//processed/P01S01W8655_10s.csv'\n",
      " '//datc//opschaler//combined_gas_smart_weather_dfs//processed/P01S01W1554_10s.csv'\n",
      " '//datc//opschaler//combined_gas_smart_weather_dfs//processed/P01S01W6549_10s.csv'\n",
      " '//datc//opschaler//combined_gas_smart_weather_dfs//processed/P01S01W6271_10s.csv'\n",
      " '//datc//opschaler//combined_gas_smart_weather_dfs//processed/P01S01W5292_10s.csv'\n",
      " '//datc//opschaler//combined_gas_smart_weather_dfs//processed/P01S01W6959_10s.csv'\n",
      " '//datc//opschaler//combined_gas_smart_weather_dfs//processed/P01S01W4979_10s.csv'\n",
      " '//datc//opschaler//combined_gas_smart_weather_dfs//processed/P01S01W4313_10s.csv'\n",
      " '//datc//opschaler//combined_gas_smart_weather_dfs//processed/P01S02W0599_10s.csv'\n",
      " '//datc//opschaler//combined_gas_smart_weather_dfs//processed/P01S02W1050_10s.csv'\n",
      " '//datc//opschaler//combined_gas_smart_weather_dfs//processed/P01S01W5855_10s.csv'\n",
      " '//datc//opschaler//combined_gas_smart_weather_dfs//processed/P01S01W2581_10s.csv'\n",
      " '//datc//opschaler//combined_gas_smart_weather_dfs//processed/P01S01W8828_10s.csv'\n",
      " '//datc//opschaler//combined_gas_smart_weather_dfs//processed/P01S01W4569_10s.csv'\n",
      " '//datc//opschaler//combined_gas_smart_weather_dfs//processed/P01S01W1341_10s.csv'\n",
      " '//datc//opschaler//combined_gas_smart_weather_dfs//processed/P01S01W7042_10s.csv'\n",
      " '//datc//opschaler//combined_gas_smart_weather_dfs//processed/P01S01W6835_10s.csv'\n",
      " '//datc//opschaler//combined_gas_smart_weather_dfs//processed/P01S01W0378_10s.csv'\n",
      " '//datc//opschaler//combined_gas_smart_weather_dfs//processed/P01S01W2743_10s.csv'\n",
      " '//datc//opschaler//combined_gas_smart_weather_dfs//processed/P01S01W0998_10s.csv'\n",
      " '//datc//opschaler//combined_gas_smart_weather_dfs//processed/P01S01W1347_10s.csv'\n",
      " '//datc//opschaler//combined_gas_smart_weather_dfs//processed/P01S01W5339_10s.csv'\n",
      " '//datc//opschaler//combined_gas_smart_weather_dfs//processed/P01S02W6848_10s.csv'\n",
      " '//datc//opschaler//combined_gas_smart_weather_dfs//processed/P01S01W4091_10s.csv']\n"
     ]
    }
   ],
   "source": [
    "print(file_paths)"
   ]
  },
  {
   "cell_type": "code",
   "execution_count": null,
   "metadata": {},
   "outputs": [],
   "source": []
  }
 ],
 "metadata": {
  "kernelspec": {
   "display_name": "Python 3",
   "language": "python",
   "name": "python3"
  },
  "language_info": {
   "codemirror_mode": {
    "name": "ipython",
    "version": 3
   },
   "file_extension": ".py",
   "mimetype": "text/x-python",
   "name": "python",
   "nbconvert_exporter": "python",
   "pygments_lexer": "ipython3",
   "version": "3.6.6"
  }
 },
 "nbformat": 4,
 "nbformat_minor": 2
}
