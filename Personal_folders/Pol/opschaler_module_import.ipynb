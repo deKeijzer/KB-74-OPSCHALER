{
 "cells": [
  {
   "cell_type": "code",
   "execution_count": 1,
   "metadata": {},
   "outputs": [],
   "source": [
    "import sys\n",
    "sys.path.append('/home/16080696/notebooks/KB-74-OPSCHALER/')\n",
    "import Opschaler as op\n",
    "import matplotlib.pyplot as plt\n",
    "import seaborn as sns\n",
    "import numpy as np"
   ]
  },
  {
   "cell_type": "code",
   "execution_count": 8,
   "metadata": {},
   "outputs": [
    {
     "name": "stdout",
     "output_type": "stream",
     "text": [
      "complete_path: //datc//opschaler//combined_gas_smart_weather_dfs//processed//P*_hour.csv\n",
      "Detected 56 smartmeter_data files.\n"
     ]
    },
    {
     "data": {
      "text/plain": [
       "(array([ '//datc//opschaler//combined_gas_smart_weather_dfs//processed/P01S01W7548_hour.csv',\n",
       "        '//datc//opschaler//combined_gas_smart_weather_dfs//processed/P01S02W0167_hour.csv',\n",
       "        '//datc//opschaler//combined_gas_smart_weather_dfs//processed/P01S02W1050_hour.csv',\n",
       "        '//datc//opschaler//combined_gas_smart_weather_dfs//processed/P01S01W5040_hour.csv',\n",
       "        '//datc//opschaler//combined_gas_smart_weather_dfs//processed/P01S01W8669_hour.csv',\n",
       "        '//datc//opschaler//combined_gas_smart_weather_dfs//processed/P01S01W0000_hour.csv',\n",
       "        '//datc//opschaler//combined_gas_smart_weather_dfs//processed/P01S01W9617_hour.csv',\n",
       "        '//datc//opschaler//combined_gas_smart_weather_dfs//processed/P01S01W5588_hour.csv',\n",
       "        '//datc//opschaler//combined_gas_smart_weather_dfs//processed/P01S01W9431_hour.csv',\n",
       "        '//datc//opschaler//combined_gas_smart_weather_dfs//processed/P01S01W4002_hour.csv',\n",
       "        '//datc//opschaler//combined_gas_smart_weather_dfs//processed/P01S01W7042_hour.csv',\n",
       "        '//datc//opschaler//combined_gas_smart_weather_dfs//processed/P01S01W6289_hour.csv',\n",
       "        '//datc//opschaler//combined_gas_smart_weather_dfs//processed/P01S01W5476_hour.csv',\n",
       "        '//datc//opschaler//combined_gas_smart_weather_dfs//processed/P01S02W4827_hour.csv',\n",
       "        '//datc//opschaler//combined_gas_smart_weather_dfs//processed/P01S01W6271_hour.csv',\n",
       "        '//datc//opschaler//combined_gas_smart_weather_dfs//processed/P01S01W1554_hour.csv',\n",
       "        '//datc//opschaler//combined_gas_smart_weather_dfs//processed/P01S01W8828_hour.csv',\n",
       "        '//datc//opschaler//combined_gas_smart_weather_dfs//processed/P01S01W6240_hour.csv',\n",
       "        '//datc//opschaler//combined_gas_smart_weather_dfs//processed/P01S01W2743_hour.csv',\n",
       "        '//datc//opschaler//combined_gas_smart_weather_dfs//processed/P01S01W5339_hour.csv',\n",
       "        '//datc//opschaler//combined_gas_smart_weather_dfs//processed/P01S01W1341_hour.csv',\n",
       "        '//datc//opschaler//combined_gas_smart_weather_dfs//processed/P01S01W5564_hour.csv',\n",
       "        '//datc//opschaler//combined_gas_smart_weather_dfs//processed/P01S01W2581_hour.csv',\n",
       "        '//datc//opschaler//combined_gas_smart_weather_dfs//processed/P01S01W5746_hour.csv',\n",
       "        '//datc//opschaler//combined_gas_smart_weather_dfs//processed/P01S01W5292_hour.csv',\n",
       "        '//datc//opschaler//combined_gas_smart_weather_dfs//processed/P01S01W8655_hour.csv',\n",
       "        '//datc//opschaler//combined_gas_smart_weather_dfs//processed/P01S01W0998_hour.csv',\n",
       "        '//datc//opschaler//combined_gas_smart_weather_dfs//processed/P01S01W4979_hour.csv',\n",
       "        '//datc//opschaler//combined_gas_smart_weather_dfs//processed/P01S01W6959_hour.csv',\n",
       "        '//datc//opschaler//combined_gas_smart_weather_dfs//processed/P01S01W4091_hour.csv',\n",
       "        '//datc//opschaler//combined_gas_smart_weather_dfs//processed/P01S02W0599_hour.csv',\n",
       "        '//datc//opschaler//combined_gas_smart_weather_dfs//processed/P01S02W6848_hour.csv',\n",
       "        '//datc//opschaler//combined_gas_smart_weather_dfs//processed/P01S01W0373_hour.csv',\n",
       "        '//datc//opschaler//combined_gas_smart_weather_dfs//processed/P01S02W4953_hour.csv',\n",
       "        '//datc//opschaler//combined_gas_smart_weather_dfs//processed/P01S01W6595_hour.csv',\n",
       "        '//datc//opschaler//combined_gas_smart_weather_dfs//processed/P01S01W4489_hour.csv',\n",
       "        '//datc//opschaler//combined_gas_smart_weather_dfs//processed/P01S01W5855_hour.csv',\n",
       "        '//datc//opschaler//combined_gas_smart_weather_dfs//processed/P01S01W3955_hour.csv',\n",
       "        '//datc//opschaler//combined_gas_smart_weather_dfs//processed/P01S01W4313_hour.csv',\n",
       "        '//datc//opschaler//combined_gas_smart_weather_dfs//processed/P01S01W6835_hour.csv',\n",
       "        '//datc//opschaler//combined_gas_smart_weather_dfs//processed/P01S01W8239_hour.csv',\n",
       "        '//datc//opschaler//combined_gas_smart_weather_dfs//processed/P01S01W1347_hour.csv',\n",
       "        '//datc//opschaler//combined_gas_smart_weather_dfs//processed/P01S02W7251_hour.csv',\n",
       "        '//datc//opschaler//combined_gas_smart_weather_dfs//processed/P01S01W8171_hour.csv',\n",
       "        '//datc//opschaler//combined_gas_smart_weather_dfs//processed/P01S01W7980_hour.csv',\n",
       "        '//datc//opschaler//combined_gas_smart_weather_dfs//processed/P01S01W7071_hour.csv',\n",
       "        '//datc//opschaler//combined_gas_smart_weather_dfs//processed/P01S01W3497_hour.csv',\n",
       "        '//datc//opschaler//combined_gas_smart_weather_dfs//processed/P01S01W6495_hour.csv',\n",
       "        '//datc//opschaler//combined_gas_smart_weather_dfs//processed/P01S02W2995_hour.csv',\n",
       "        '//datc//opschaler//combined_gas_smart_weather_dfs//processed/P01S01W0378_hour.csv',\n",
       "        '//datc//opschaler//combined_gas_smart_weather_dfs//processed/P01S01W4589_hour.csv',\n",
       "        '//datc//opschaler//combined_gas_smart_weather_dfs//processed/P01S01W0001_hour.csv',\n",
       "        '//datc//opschaler//combined_gas_smart_weather_dfs//processed/P01S01W4569_hour.csv',\n",
       "        '//datc//opschaler//combined_gas_smart_weather_dfs//processed/P01S01W6549_hour.csv',\n",
       "        '//datc//opschaler//combined_gas_smart_weather_dfs//processed/P01S01W4579_hour.csv',\n",
       "        '//datc//opschaler//combined_gas_smart_weather_dfs//processed/P01S02W5065_hour.csv'], \n",
       "       dtype='<U81'),\n",
       " array(['P01S01W7548', 'P01S02W0167', 'P01S02W1050', 'P01S01W5040',\n",
       "        'P01S01W8669', 'P01S01W0000', 'P01S01W9617', 'P01S01W5588',\n",
       "        'P01S01W9431', 'P01S01W4002', 'P01S01W7042', 'P01S01W6289',\n",
       "        'P01S01W5476', 'P01S02W4827', 'P01S01W6271', 'P01S01W1554',\n",
       "        'P01S01W8828', 'P01S01W6240', 'P01S01W2743', 'P01S01W5339',\n",
       "        'P01S01W1341', 'P01S01W5564', 'P01S01W2581', 'P01S01W5746',\n",
       "        'P01S01W5292', 'P01S01W8655', 'P01S01W0998', 'P01S01W4979',\n",
       "        'P01S01W6959', 'P01S01W4091', 'P01S02W0599', 'P01S02W6848',\n",
       "        'P01S01W0373', 'P01S02W4953', 'P01S01W6595', 'P01S01W4489',\n",
       "        'P01S01W5855', 'P01S01W3955', 'P01S01W4313', 'P01S01W6835',\n",
       "        'P01S01W8239', 'P01S01W1347', 'P01S02W7251', 'P01S01W8171',\n",
       "        'P01S01W7980', 'P01S01W7071', 'P01S01W3497', 'P01S01W6495',\n",
       "        'P01S02W2995', 'P01S01W0378', 'P01S01W4589', 'P01S01W0001',\n",
       "        'P01S01W4569', 'P01S01W6549', 'P01S01W4579', 'P01S02W5065'], \n",
       "       dtype='<U11'))"
      ]
     },
     "execution_count": 8,
     "metadata": {},
     "output_type": "execute_result"
    }
   ],
   "source": [
    "\n",
    "op.dwel_path_id('hour','processed','no')\n"
   ]
  },
  {
   "cell_type": "code",
   "execution_count": null,
   "metadata": {},
   "outputs": [],
   "source": []
  }
 ],
 "metadata": {
  "kernelspec": {
   "display_name": "Python 3",
   "language": "python",
   "name": "python3"
  },
  "language_info": {
   "codemirror_mode": {
    "name": "ipython",
    "version": 3
   },
   "file_extension": ".py",
   "mimetype": "text/x-python",
   "name": "python",
   "nbconvert_exporter": "python",
   "pygments_lexer": "ipython3",
   "version": "3.6.6"
  }
 },
 "nbformat": 4,
 "nbformat_minor": 2
}
