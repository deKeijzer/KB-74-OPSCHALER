{
 "cells": [
  {
   "cell_type": "code",
   "execution_count": 1,
   "metadata": {},
   "outputs": [],
   "source": [
    "import pandas as pd\n",
    "import matplotlib.pyplot as plt\n"
   ]
  },
  {
   "cell_type": "code",
   "execution_count": 8,
   "metadata": {},
   "outputs": [
    {
     "ename": "SyntaxError",
     "evalue": "invalid syntax (<ipython-input-8-ce143c70a2f6>, line 1)",
     "output_type": "error",
     "traceback": [
      "\u001b[0;36m  File \u001b[0;32m\"<ipython-input-8-ce143c70a2f6>\"\u001b[0;36m, line \u001b[0;32m1\u001b[0m\n\u001b[0;31m    df_vars = pd.DataFrame[{'Variables':['eMeter','eMeterReturn','eMeterLow','eMeterLowReturn','ePower','ePowerReturn','gasMeter','gasPower','DD','DR','FF','FX','N','P','Q','RG','SQ','T','T10','TD','U','VV','WW'],'Unit':[]]\u001b[0m\n\u001b[0m                                                                                                                                                                                                                              ^\u001b[0m\n\u001b[0;31mSyntaxError\u001b[0m\u001b[0;31m:\u001b[0m invalid syntax\n"
     ]
    }
   ],
   "source": [
    "df_vars = pd.DataFrame[{'Variables':['eMeter','eMeterReturn','eMeterLow','eMeterLowReturn','ePower','ePowerReturn','gasMeter','gasPower','DD','DR','FF','FX','N','P','Q','RG','SQ','T','T10','TD','U','VV','WW'],\n",
    "                        'Unit':['KWH','KWH','KWH','KWH','W','W','M$^3$','M$^3$','°',]]\n",
    "\n",
    "def datetime_layout(dwelling_id, y, y2=None, y3=None, y4=None):\n",
    "        def layout():\n",
    "            plt.xticks(rotation=45)\n",
    "            plt.grid()\n",
    "            plt.tight_layout()\n",
    "\n",
    "    x = df.index\n",
    "    \n",
    "    \n",
    "    \n",
    "    plt.subplot(3,2,1)\n",
    "    plt.plot(x, df[y], '-', color='r', linewidth=0.3)\n",
    "    #plt.xlabel('Date [-]')\n",
    "    plt.ylabel('Global Radiation [J/m$^2$]')\n",
    "    layout()\n",
    "\n",
    "    plt.subplot(3,2,2)\n",
    "    plt.plot(x, data['T'], '-', color='r', linewidth=0.3)\n",
    "    #plt.xlabel('Date [-]')\n",
    "    plt.ylabel('Temperature [°C]')\n",
    "    layout()\n",
    "\n",
    "    plt.subplot(3,2,3)\n",
    "    plt.plot(x, data['ePower'], '-', color='r', linewidth=0.3)\n",
    "    #plt.xlabel('Date [-]')\n",
    "    plt.ylabel('ePower [kWh]')\n",
    "    layout()\n",
    "\n",
    "    plt.subplot(3,2,4)\n",
    "    plt.plot(x, data['gasPower'], '-', color='r', linewidth=0.3)\n",
    "    #plt.xlabel('Date [-]')\n",
    "    plt.ylabel('gasPower [m$^3$]')\n",
    "    layout()"
   ]
  },
  {
   "cell_type": "code",
   "execution_count": null,
   "metadata": {},
   "outputs": [],
   "source": []
  }
 ],
 "metadata": {
  "kernelspec": {
   "display_name": "Python 3",
   "language": "python",
   "name": "python3"
  },
  "language_info": {
   "codemirror_mode": {
    "name": "ipython",
    "version": 3
   },
   "file_extension": ".py",
   "mimetype": "text/x-python",
   "name": "python",
   "nbconvert_exporter": "python",
   "pygments_lexer": "ipython3",
   "version": "3.6.6"
  }
 },
 "nbformat": 4,
 "nbformat_minor": 2
}
