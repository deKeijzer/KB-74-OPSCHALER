{
 "cells": [
  {
   "cell_type": "code",
   "execution_count": 1,
   "metadata": {},
   "outputs": [],
   "source": [
    "import pandas as pd"
   ]
  },
  {
   "cell_type": "code",
   "execution_count": 28,
   "metadata": {},
   "outputs": [
    {
     "data": {
      "text/plain": [
       "Kolom    a4\n",
       "dtype: object"
      ]
     },
     "execution_count": 28,
     "metadata": {},
     "output_type": "execute_result"
    }
   ],
   "source": [
    "d = ['a','b','c',3,4,'f']\n",
    "df = pd.DataFrame(data=d)\n",
    "df.columns=['Kolom']\n",
    "#print(df)\n",
    "#df.info()\n",
    "\n",
    "df = df.astype(str)\n",
    "df.dtypes\n",
    "df.loc[0]+df.loc[4]"
   ]
  },
  {
   "cell_type": "code",
   "execution_count": 14,
   "metadata": {},
   "outputs": [
    {
     "name": "stdout",
     "output_type": "stream",
     "text": [
      "Kolom    Kolom\n",
      "Name: 0, dtype: object\n"
     ]
    }
   ],
   "source": [
    "#df.applymap(str)\n",
    "\n",
    "#df.Kolom.apply(str)\n",
    "\n",
    "#df['Kolom'].astype(str)\n",
    "\n",
    "#df['Kolom'] = df['Kolom'].astype('|S')\n",
    "\n",
    "#df.to_string()\n",
    "print(df.loc[0])\n",
    "for i,value in enumerate(df) :\n",
    "    df.loc[i]=str(value)\n"
   ]
  },
  {
   "cell_type": "code",
   "execution_count": null,
   "metadata": {},
   "outputs": [],
   "source": []
  }
 ],
 "metadata": {
  "kernelspec": {
   "display_name": "Python 3",
   "language": "python",
   "name": "python3"
  },
  "language_info": {
   "codemirror_mode": {
    "name": "ipython",
    "version": 3
   },
   "file_extension": ".py",
   "mimetype": "text/x-python",
   "name": "python",
   "nbconvert_exporter": "python",
   "pygments_lexer": "ipython3",
   "version": "3.6.6"
  }
 },
 "nbformat": 4,
 "nbformat_minor": 2
}
