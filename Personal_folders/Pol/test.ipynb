{
 "cells": [
  {
   "cell_type": "code",
   "execution_count": 12,
   "metadata": {},
   "outputs": [],
   "source": [
    "import glob\n",
    "import pandas as pd\n",
    "import numpy as np"
   ]
  },
  {
   "cell_type": "code",
   "execution_count": 17,
   "metadata": {},
   "outputs": [],
   "source": [
    "def dwel_path_id(sample_rate, map_):\n",
    "    \"\"\"\n",
    "    Reads in the file paths and dwelling id's of the combined smartmeter data.\n",
    "    :return: file_paths, dwelling_ids, both as lists.\n",
    "    \"\"\"\n",
    "    path = '//datc//opschaler//combined_gas_smart_weather_dfs//'\n",
    "    map_ = 'processed//'\n",
    "    subscript = '_hour'\n",
    "\n",
    "    if sample_rate == '10s':\n",
    "        subscript = '_10s'\n",
    "    if map_ == 'unprocessed':\n",
    "        map_ = 'unprocessed//'\n",
    "        \n",
    "    complete_path = path+map_+'*'+subscript+\".csv\"\n",
    "    file_paths = np.array(glob.glob(complete_path))\n",
    "\n",
    "    print('complete_path: '+complete_path)\n",
    "    print('Detected %s smartmeter_data files.' % len(file_paths))\n",
    "    \n",
    "    dwelling_ids = np.array(list((map(lambda x: x[-20:-9], file_paths)))) \n",
    "    \n",
    "    if sample_rate == '10s':\n",
    "        dwelling_ids = np.array(list((map(lambda x: x[-19:-8], file_paths)))) # 10s ids slicing\n",
    "    \n",
    "    \n",
    "    return file_paths, dwelling_ids"
   ]
  },
  {
   "cell_type": "code",
   "execution_count": 18,
   "metadata": {},
   "outputs": [
    {
     "name": "stdout",
     "output_type": "stream",
     "text": [
      "complete_path: //datc//opschaler//combined_gas_smart_weather_dfs//processed//*_10s.csv\n",
      "Detected 57 smartmeter_data files.\n"
     ]
    },
    {
     "data": {
      "text/plain": [
       "(array([ '//datc//opschaler//combined_gas_smart_weather_dfs//processed/P01S01W7548_10s.csv',\n",
       "        '//datc//opschaler//combined_gas_smart_weather_dfs//processed/P01S01W0000_10s.csv',\n",
       "        '//datc//opschaler//combined_gas_smart_weather_dfs//processed/P01S01W8239_10s.csv',\n",
       "        '//datc//opschaler//combined_gas_smart_weather_dfs//processed/P01S01W5588_10s.csv',\n",
       "        '//datc//opschaler//combined_gas_smart_weather_dfs//processed/P01S01W3955_10s.csv',\n",
       "        '//datc//opschaler//combined_gas_smart_weather_dfs//processed/P01S02W5065_10s.csv',\n",
       "        '//datc//opschaler//combined_gas_smart_weather_dfs//processed/P01S01W7980_10s.csv',\n",
       "        '//datc//opschaler//combined_gas_smart_weather_dfs//processed/P01S02W4827_10s.csv',\n",
       "        '//datc//opschaler//combined_gas_smart_weather_dfs//processed/P01S01W4589_10s.csv',\n",
       "        '//datc//opschaler//combined_gas_smart_weather_dfs//processed/P01S01W5476_10s.csv',\n",
       "        '//datc//opschaler//combined_gas_smart_weather_dfs//processed/P01S01W0001_10s.csv',\n",
       "        '//datc//opschaler//combined_gas_smart_weather_dfs//processed/P01S01W7071_10s.csv',\n",
       "        '//datc//opschaler//combined_gas_smart_weather_dfs//processed/P01S01W3497_10s.csv',\n",
       "        '//datc//opschaler//combined_gas_smart_weather_dfs//processed/P01S02W4953_10s.csv',\n",
       "        '//datc//opschaler//combined_gas_smart_weather_dfs//processed/P01S01W5040_10s.csv',\n",
       "        '//datc//opschaler//combined_gas_smart_weather_dfs//processed/P01S01W9431_10s.csv',\n",
       "        '//datc//opschaler//combined_gas_smart_weather_dfs//processed/P01S01W6495_10s.csv',\n",
       "        '//datc//opschaler//combined_gas_smart_weather_dfs//processed/P01S01W4489_10s.csv',\n",
       "        '//datc//opschaler//combined_gas_smart_weather_dfs//processed/P01S01W8171_10s.csv',\n",
       "        '//datc//opschaler//combined_gas_smart_weather_dfs//processed/P01S01W5746_10s.csv',\n",
       "        '//datc//opschaler//combined_gas_smart_weather_dfs//processed/P01S01W4002_10s.csv',\n",
       "        '//datc//opschaler//combined_gas_smart_weather_dfs//processed/P01S01W4579_10s.csv',\n",
       "        '//datc//opschaler//combined_gas_smart_weather_dfs//processed/P01S01W8669_10s.csv',\n",
       "        '//datc//opschaler//combined_gas_smart_weather_dfs//processed/P01S01W5564_10s.csv',\n",
       "        '//datc//opschaler//combined_gas_smart_weather_dfs//processed/P01S02W0167_10s.csv',\n",
       "        '//datc//opschaler//combined_gas_smart_weather_dfs//processed/P01S02W7251_10s.csv',\n",
       "        '//datc//opschaler//combined_gas_smart_weather_dfs//processed/P01S01W6595_10s.csv',\n",
       "        '//datc//opschaler//combined_gas_smart_weather_dfs//processed/P01S01W6240_10s.csv',\n",
       "        '//datc//opschaler//combined_gas_smart_weather_dfs//processed/P01S01W0373_10s.csv',\n",
       "        '//datc//opschaler//combined_gas_smart_weather_dfs//processed/P01S02W2995_10s.csv',\n",
       "        '//datc//opschaler//combined_gas_smart_weather_dfs//processed/P01S01W9617_10s.csv',\n",
       "        '//datc//opschaler//combined_gas_smart_weather_dfs//processed/all_dwellings_combined_10s.csv',\n",
       "        '//datc//opschaler//combined_gas_smart_weather_dfs//processed/P01S01W6289_10s.csv',\n",
       "        '//datc//opschaler//combined_gas_smart_weather_dfs//processed/P01S01W8655_10s.csv',\n",
       "        '//datc//opschaler//combined_gas_smart_weather_dfs//processed/P01S01W1554_10s.csv',\n",
       "        '//datc//opschaler//combined_gas_smart_weather_dfs//processed/P01S01W6549_10s.csv',\n",
       "        '//datc//opschaler//combined_gas_smart_weather_dfs//processed/P01S01W6271_10s.csv',\n",
       "        '//datc//opschaler//combined_gas_smart_weather_dfs//processed/P01S01W5292_10s.csv',\n",
       "        '//datc//opschaler//combined_gas_smart_weather_dfs//processed/P01S01W6959_10s.csv',\n",
       "        '//datc//opschaler//combined_gas_smart_weather_dfs//processed/P01S01W4979_10s.csv',\n",
       "        '//datc//opschaler//combined_gas_smart_weather_dfs//processed/P01S01W4313_10s.csv',\n",
       "        '//datc//opschaler//combined_gas_smart_weather_dfs//processed/P01S02W0599_10s.csv',\n",
       "        '//datc//opschaler//combined_gas_smart_weather_dfs//processed/P01S02W1050_10s.csv',\n",
       "        '//datc//opschaler//combined_gas_smart_weather_dfs//processed/P01S01W5855_10s.csv',\n",
       "        '//datc//opschaler//combined_gas_smart_weather_dfs//processed/P01S01W2581_10s.csv',\n",
       "        '//datc//opschaler//combined_gas_smart_weather_dfs//processed/P01S01W8828_10s.csv',\n",
       "        '//datc//opschaler//combined_gas_smart_weather_dfs//processed/P01S01W4569_10s.csv',\n",
       "        '//datc//opschaler//combined_gas_smart_weather_dfs//processed/P01S01W1341_10s.csv',\n",
       "        '//datc//opschaler//combined_gas_smart_weather_dfs//processed/P01S01W7042_10s.csv',\n",
       "        '//datc//opschaler//combined_gas_smart_weather_dfs//processed/P01S01W6835_10s.csv',\n",
       "        '//datc//opschaler//combined_gas_smart_weather_dfs//processed/P01S01W0378_10s.csv',\n",
       "        '//datc//opschaler//combined_gas_smart_weather_dfs//processed/P01S01W2743_10s.csv',\n",
       "        '//datc//opschaler//combined_gas_smart_weather_dfs//processed/P01S01W0998_10s.csv',\n",
       "        '//datc//opschaler//combined_gas_smart_weather_dfs//processed/P01S01W1347_10s.csv',\n",
       "        '//datc//opschaler//combined_gas_smart_weather_dfs//processed/P01S01W5339_10s.csv',\n",
       "        '//datc//opschaler//combined_gas_smart_weather_dfs//processed/P01S02W6848_10s.csv',\n",
       "        '//datc//opschaler//combined_gas_smart_weather_dfs//processed/P01S01W4091_10s.csv'], \n",
       "       dtype='<U91'),\n",
       " array(['P01S01W7548', 'P01S01W0000', 'P01S01W8239', 'P01S01W5588',\n",
       "        'P01S01W3955', 'P01S02W5065', 'P01S01W7980', 'P01S02W4827',\n",
       "        'P01S01W4589', 'P01S01W5476', 'P01S01W0001', 'P01S01W7071',\n",
       "        'P01S01W3497', 'P01S02W4953', 'P01S01W5040', 'P01S01W9431',\n",
       "        'P01S01W6495', 'P01S01W4489', 'P01S01W8171', 'P01S01W5746',\n",
       "        'P01S01W4002', 'P01S01W4579', 'P01S01W8669', 'P01S01W5564',\n",
       "        'P01S02W0167', 'P01S02W7251', 'P01S01W6595', 'P01S01W6240',\n",
       "        'P01S01W0373', 'P01S02W2995', 'P01S01W9617', 'gs_combined',\n",
       "        'P01S01W6289', 'P01S01W8655', 'P01S01W1554', 'P01S01W6549',\n",
       "        'P01S01W6271', 'P01S01W5292', 'P01S01W6959', 'P01S01W4979',\n",
       "        'P01S01W4313', 'P01S02W0599', 'P01S02W1050', 'P01S01W5855',\n",
       "        'P01S01W2581', 'P01S01W8828', 'P01S01W4569', 'P01S01W1341',\n",
       "        'P01S01W7042', 'P01S01W6835', 'P01S01W0378', 'P01S01W2743',\n",
       "        'P01S01W0998', 'P01S01W1347', 'P01S01W5339', 'P01S02W6848',\n",
       "        'P01S01W4091'], \n",
       "       dtype='<U11'))"
      ]
     },
     "execution_count": 18,
     "metadata": {},
     "output_type": "execute_result"
    }
   ],
   "source": [
    "dwel_path_id('10s', 'processed')"
   ]
  },
  {
   "cell_type": "code",
   "execution_count": null,
   "metadata": {},
   "outputs": [],
   "source": []
  }
 ],
 "metadata": {
  "kernelspec": {
   "display_name": "Python 3",
   "language": "python",
   "name": "python3"
  },
  "language_info": {
   "codemirror_mode": {
    "name": "ipython",
    "version": 3
   },
   "file_extension": ".py",
   "mimetype": "text/x-python",
   "name": "python",
   "nbconvert_exporter": "python",
   "pygments_lexer": "ipython3",
   "version": "3.6.6"
  }
 },
 "nbformat": 4,
 "nbformat_minor": 2
}
