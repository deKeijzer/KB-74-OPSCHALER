{
 "cells": [
  {
   "cell_type": "code",
   "execution_count": 1,
   "metadata": {},
   "outputs": [],
   "source": [
    "import glob\n",
    "import pandas as pd\n",
    "import numpy as np"
   ]
  },
  {
   "cell_type": "code",
   "execution_count": 18,
   "metadata": {},
   "outputs": [],
   "source": [
    "def dwel_path_id(sample_rate, folder, combined):\n",
    "    \"\"\"\n",
    "    Reads in the file paths and dwelling id's of the combined smartmeter data.\n",
    "    :return: file_paths, dwelling_ids, both as lists.\n",
    "    \"\"\"\n",
    "    path = '//datc//opschaler//combined_gas_smart_weather_dfs//'\n",
    "    map_ = 'processed//'\n",
    "    subscript = '_hour'\n",
    "    combined_ = 'P*'\n",
    "\n",
    "    if sample_rate == '10s':\n",
    "        subscript = '_10s'\n",
    "    if folder == 'unprocessed':\n",
    "        map_ = 'unprocessed//'\n",
    "    if combined == 'yes':\n",
    "        combined_ = 'all_dwellings_combined'\n",
    "        \n",
    "    complete_path = path+map_+combined_+subscript+\".csv\"\n",
    "    file_paths = np.array(glob.glob(complete_path))\n",
    "\n",
    "    print('complete_path: '+complete_path)\n",
    "    print('Detected %s smartmeter_data files.' % len(file_paths))\n",
    "    \n",
    "    dwelling_ids = np.array(list((map(lambda x: x[-20:-9], file_paths)))) \n",
    "    \n",
    "    if sample_rate == '10s':\n",
    "        dwelling_ids = np.array(list((map(lambda x: x[-19:-8], file_paths)))) # 10s ids slicing\n",
    "    if combined == 'yes':\n",
    "        dwelling_ids = 'Used all dwellings to create this df'\n",
    "    \n",
    "    return file_paths, dwelling_ids"
   ]
  },
  {
   "cell_type": "code",
   "execution_count": 21,
   "metadata": {},
   "outputs": [
    {
     "name": "stdout",
     "output_type": "stream",
     "text": [
      "complete_path: //datc//opschaler//combined_gas_smart_weather_dfs//processed//all_dwellings_combined_hour.csv\n",
      "Detected 1 smartmeter_data files.\n"
     ]
    },
    {
     "data": {
      "text/plain": [
       "(array([ '//datc//opschaler//combined_gas_smart_weather_dfs//processed//all_dwellings_combined_hour.csv'], \n",
       "       dtype='<U93'), 'Used all dwellings to create this df')"
      ]
     },
     "execution_count": 21,
     "metadata": {},
     "output_type": "execute_result"
    }
   ],
   "source": [
    "dwel_path_id('hour','processed', 'yes')"
   ]
  },
  {
   "cell_type": "code",
   "execution_count": null,
   "metadata": {},
   "outputs": [],
   "source": []
  }
 ],
 "metadata": {
  "kernelspec": {
   "display_name": "Python 3",
   "language": "python",
   "name": "python3"
  },
  "language_info": {
   "codemirror_mode": {
    "name": "ipython",
    "version": 3
   },
   "file_extension": ".py",
   "mimetype": "text/x-python",
   "name": "python",
   "nbconvert_exporter": "python",
   "pygments_lexer": "ipython3",
   "version": "3.6.6"
  }
 },
 "nbformat": 4,
 "nbformat_minor": 2
}
