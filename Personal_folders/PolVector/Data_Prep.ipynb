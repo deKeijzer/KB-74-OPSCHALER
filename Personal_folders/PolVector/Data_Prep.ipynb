{
 "cells": [
  {
   "cell_type": "code",
   "execution_count": 1,
   "metadata": {},
   "outputs": [],
   "source": [
    "import pandas as pd\n",
    "import numpy as np\n",
    "import matplotlib.pyplot as plt\n",
    "import plotly.plotly as py\n",
    "import seaborn as sns"
   ]
  },
  {
   "cell_type": "code",
   "execution_count": 2,
   "metadata": {},
   "outputs": [],
   "source": [
    "#def load_data():\n",
    "global smart\n",
    "global gas\n",
    "global weather\n",
    "df =pd.read_csv(\"/datc/opschaler/smartmeter_data/P01S01W0373.csv\",header=0,delimiter=\";\",parse_dates=['Timestamp', 'gasTimestamp'])\n",
    "\n",
    "# Split the smartmeter and gasmeter data\n",
    "smart = df.iloc[:,:7]\n",
    "gas = df.iloc[:, 7:]"
   ]
  },
  {
   "cell_type": "code",
   "execution_count": 3,
   "metadata": {},
   "outputs": [],
   "source": [
    "# Change all datetime columns to the same column name\n",
    "smart = smart.rename(index=str, columns={\"Timestamp\":\"datetime\"})\n",
    "gas = gas.rename(index=str, columns={\"gasTimestamp\":\"datetime\"})\n",
    "\n",
    "#df = df[['datetime', 'eMeter', 'eMeterLow', 'ePower', 'gasMeter', 'T', 'Q']]\n",
    "#df = df[['datetime', 'eMeter', 'eMeterLow', 'ePower', 'gasMeter']]\n",
    "smart.head()\n",
    "\n",
    "# Set datetime as index\n",
    "smart = smart.set_index(['datetime'])\n",
    "gas = gas.set_index(['datetime'])"
   ]
  },
  {
   "cell_type": "code",
   "execution_count": 4,
   "metadata": {},
   "outputs": [],
   "source": [
    "\"\"\"\n",
    "Resample the dataframes to 10s intervals.\n",
    "https://pandas.pydata.org/pandas-docs/stable/generated/pandas.DataFrame.resample.html\n",
    "https://pandas.pydata.org/pandas-docs/stable/generated/pandas.DataFrame.interpolate.html#pandas.DataFrame.interpolate\n",
    "\"\"\"\n",
    "smart = smart.resample('10s').mean()\n",
    "gas = gas.resample('H').mean() # Does not look nice, but it works"
   ]
  },
  {
   "cell_type": "code",
   "execution_count": null,
   "metadata": {},
   "outputs": [
    {
     "name": "stdout",
     "output_type": "stream",
     "text": [
      "Empty DataFrame\n",
      "Columns: [Days, House_ID, Final_Date, File_size, Initial_Date, Max_Consecutive_NaNs, Amount_of_NaNs]\n",
      "Index: []\n"
     ]
    }
   ],
   "source": [
    "#These columns should be created in the end: column_names = ['House_ID','Amount_of_NaNs','Max_consecutive_NaNs', 'Interpolated','Days','File_size','Usable']\n",
    "#Create a df to store max consecutive NaNs\n",
    "info_data = pd.DataFrame(columns={'House_ID','File_size','Initial_Date','Final_Date','Days','Amount_of_NaNs','Max_Consecutive_NaNs'})\n",
    "tempstring = 'P0123423.csv'\n",
    "\n",
    "def extract_info(df,dwelling_id='test.csv'):\n",
    "\n",
    "    \n",
    "    #Process info to get max gap size\n",
    "    df_nan=df.isnull().any(axis=1)*1\n",
    "    temp = pd.DataFrame()\n",
    "    temp['temp']=df_nan.groupby((df_nan != df_nan.shift()).cumsum()).transform('size') * df_nan\n",
    "    max_gap=temp['temp'].max()\n",
    "    \n",
    "    \n",
    "    \n",
    "    #Extract information about dates and number of NaNs\n",
    "    initial_date_string= df.index[0].strftime('%Y-%m-%d %H:%M:%S')\n",
    "    final_date_string= df.index[-1].strftime('%Y-%m-%d %H:%M:%S')\n",
    "    days=df.index[-1]-df.index[0]\n",
    "    NaN_count=df.isnull().sum()[0]\n",
    "    \n",
    "    #Append all information to the global info_data dataframe\n",
    "    info_data.loc[len(info_data.index)] = [dwelling_id, df.memory_usage(index=True).sum()/1000000, initial_date_string, final_date_string, days, NaN_count, max_gap]"
   ]
  },
  {
   "cell_type": "code",
   "execution_count": null,
   "metadata": {},
   "outputs": [],
   "source": []
  },
  {
   "cell_type": "code",
   "execution_count": null,
   "metadata": {},
   "outputs": [],
   "source": [
    "def  df_NaN_checker(df, threshold_percentage):\n",
    "    \"\"\"\n",
    "    Input:\n",
    "    df = Pandas dataframe\n",
    "    threshold_percentage = The minimun percentage a NaN streak should have to be shown in the output df of this function.\n",
    "    \n",
    "    This function has a Pandas dataframe as input. \n",
    "    It checks per column the amount of NaNs which are behind each other and outputs the relevant information into a Pandas dataframe.\n",
    "    The output df is in the format:\n",
    "    Column name, Start index, Stop index, Amount of NaNs\n",
    "    \n",
    "    Where'\n",
    "    'Column name' is the column name of the original df, where the NaN streak is in.\n",
    "    'Start index' is the start index value of that NaN streak.\n",
    "    'Stop index' is the stop index value of that NaN streak\n",
    "    'Amount of NaNs' is the amount of NaNs behind each other, in other word the length of the NaN streak.\n",
    "    \"\"\"\n",
    "    columns = df.columns\n",
    "    output = []\n",
    "    df_temp \n",
    "\n",
    "    for i in range(len(columns)):\n",
    "        column_name = columns[i]\n",
    "    \n",
    "        column_info_final = []\n",
    "        column_info = []\n",
    "        temp = []\n",
    "        x = False\n",
    "    \n",
    "        for j,value in enumerate(df[column_name]):\n",
    "            if x == False and value == True:\n",
    "                temp.append(j)\n",
    "                x = True\n",
    "            elif x == True and value == True:\n",
    "                temp.append(j)\n",
    "            elif x == True and value == False:\n",
    "                column_info.append(temp)\n",
    "                temp = []\n",
    "                x = False\n",
    "        \n",
    "        lengths = []\n",
    "\n",
    "        for array in column_info:\n",
    "            lengths.append([array[0], array[-1], len(array)])\n",
    "    \n",
    "        output.append(lengths)\n",
    "    \n",
    "\n",
    "    # Convert df_info to a readable dataframe instead of list\n",
    "\n",
    "    \"\"\"\n",
    "    Row per column from the 'output' list\n",
    "    Columns: start-index, stop-index, NaN streak\n",
    "    \"\"\"\n",
    "    columns = df.columns\n",
    "\n",
    "    df_info = pd.DataFrame(columns=['Column name','Start index', 'Stop index', 'Amount of NaNs'])\n",
    "\n",
    "    for column in range(len(output)):\n",
    "        for i in range(len(output[column])):\n",
    "            column_name = df.columns[column]\n",
    "            start = output[column][i][0]\n",
    "            stop = output[column][i][1]\n",
    "            amount = output[column][i][2]\n",
    "            df_info = df_info.append({'Column name':column_name,'Start index':start, 'Stop index': stop, 'Amount of NaNs':amount}, ignore_index=True)\n",
    "        pass\n",
    "\n",
    "    percentage = (df_info['Amount of NaNs']/len(df))*100\n",
    "\n",
    "    df_info.drop(df_info[percentage < threshold_percentage].index, inplace=True)\n",
    "\n",
    "    return df_info"
   ]
  },
  {
   "cell_type": "code",
   "execution_count": null,
   "metadata": {},
   "outputs": [],
   "source": [
    "df_NaN_checker(smart,50)"
   ]
  },
  {
   "cell_type": "code",
   "execution_count": null,
   "metadata": {},
   "outputs": [],
   "source": []
  }
 ],
 "metadata": {
  "kernelspec": {
   "display_name": "Python 3",
   "language": "python",
   "name": "python3"
  },
  "language_info": {
   "codemirror_mode": {
    "name": "ipython",
    "version": 3
   },
   "file_extension": ".py",
   "mimetype": "text/x-python",
   "name": "python",
   "nbconvert_exporter": "python",
   "pygments_lexer": "ipython3",
   "version": "3.6.1"
  }
 },
 "nbformat": 4,
 "nbformat_minor": 2
}
