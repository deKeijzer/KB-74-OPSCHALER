{
 "cells": [
  {
   "cell_type": "code",
   "execution_count": 1,
   "metadata": {},
   "outputs": [],
   "source": [
    "import pandas as pd\n",
    "import numpy as np\n",
    "import matplotlib.pyplot as plt"
   ]
  },
  {
   "cell_type": "code",
   "execution_count": 2,
   "metadata": {},
   "outputs": [],
   "source": [
    "#def load_data():\n",
    "global smart\n",
    "global gas\n",
    "global weather\n",
    "df =pd.read_csv(\"/datc/opschaler/smartmeter_data/P01S01W0373.csv\",header=0,delimiter=\";\",parse_dates=['Timestamp', 'gasTimestamp'])\n",
    "\n",
    "# Split the smartmeter and gasmeter data\n",
    "smart = df.iloc[:,:7]\n",
    "gas = df.iloc[:, 7:]"
   ]
  },
  {
   "cell_type": "code",
   "execution_count": 3,
   "metadata": {},
   "outputs": [],
   "source": [
    "#load_data()\n",
    "\n",
    "# Change all datetime columns to the same column name\n",
    "smart = smart.rename(index=str, columns={\"Timestamp\":\"datetime\"})\n",
    "gas = gas.rename(index=str, columns={\"gasTimestamp\":\"datetime\"})\n",
    "\n",
    "#df = df[['datetime', 'eMeter', 'eMeterLow', 'ePower', 'gasMeter', 'T', 'Q']]\n",
    "#df = df[['datetime', 'eMeter', 'eMeterLow', 'ePower', 'gasMeter']]\n",
    "smart.head()\n",
    "\n",
    "# Set datetime as index\n",
    "smart = smart.set_index(['datetime'])\n",
    "gas = gas.set_index(['datetime'])"
   ]
  },
  {
   "cell_type": "code",
   "execution_count": 4,
   "metadata": {},
   "outputs": [],
   "source": [
    "\"\"\"\n",
    "Resample the dataframes to 10s intervals.\n",
    "https://pandas.pydata.org/pandas-docs/stable/generated/pandas.DataFrame.resample.html\n",
    "https://pandas.pydata.org/pandas-docs/stable/generated/pandas.DataFrame.interpolate.html#pandas.DataFrame.interpolate\n",
    "\"\"\"\n",
    "smart = smart.resample('10s').mean()\n",
    "gas = gas.resample('H').mean() # Does not look nice, but it works"
   ]
  },
  {
   "cell_type": "code",
   "execution_count": 5,
   "metadata": {},
   "outputs": [
    {
     "data": {
      "text/html": [
       "<div>\n",
       "<style>\n",
       "    .dataframe thead tr:only-child th {\n",
       "        text-align: right;\n",
       "    }\n",
       "\n",
       "    .dataframe thead th {\n",
       "        text-align: left;\n",
       "    }\n",
       "\n",
       "    .dataframe tbody tr th {\n",
       "        vertical-align: top;\n",
       "    }\n",
       "</style>\n",
       "<table border=\"1\" class=\"dataframe\">\n",
       "  <thead>\n",
       "    <tr style=\"text-align: right;\">\n",
       "      <th></th>\n",
       "      <th>eMeter</th>\n",
       "      <th>eMeterReturn</th>\n",
       "      <th>eMeterLow</th>\n",
       "      <th>eMeterLowReturn</th>\n",
       "      <th>ePower</th>\n",
       "      <th>ePowerReturn</th>\n",
       "    </tr>\n",
       "    <tr>\n",
       "      <th>datetime</th>\n",
       "      <th></th>\n",
       "      <th></th>\n",
       "      <th></th>\n",
       "      <th></th>\n",
       "      <th></th>\n",
       "      <th></th>\n",
       "    </tr>\n",
       "  </thead>\n",
       "  <tbody>\n",
       "    <tr>\n",
       "      <th>2017-03-07 18:14:20</th>\n",
       "      <td>3717.472</td>\n",
       "      <td>0.0</td>\n",
       "      <td>3883.382</td>\n",
       "      <td>0.0</td>\n",
       "      <td>376.0</td>\n",
       "      <td>0.0</td>\n",
       "    </tr>\n",
       "    <tr>\n",
       "      <th>2017-03-07 18:14:30</th>\n",
       "      <td>3717.473</td>\n",
       "      <td>0.0</td>\n",
       "      <td>3883.382</td>\n",
       "      <td>0.0</td>\n",
       "      <td>381.0</td>\n",
       "      <td>0.0</td>\n",
       "    </tr>\n",
       "    <tr>\n",
       "      <th>2017-03-07 18:14:40</th>\n",
       "      <td>3717.474</td>\n",
       "      <td>0.0</td>\n",
       "      <td>3883.382</td>\n",
       "      <td>0.0</td>\n",
       "      <td>378.0</td>\n",
       "      <td>0.0</td>\n",
       "    </tr>\n",
       "    <tr>\n",
       "      <th>2017-03-07 18:14:50</th>\n",
       "      <td>3717.475</td>\n",
       "      <td>0.0</td>\n",
       "      <td>3883.382</td>\n",
       "      <td>0.0</td>\n",
       "      <td>376.0</td>\n",
       "      <td>0.0</td>\n",
       "    </tr>\n",
       "    <tr>\n",
       "      <th>2017-03-07 18:15:00</th>\n",
       "      <td>3717.476</td>\n",
       "      <td>0.0</td>\n",
       "      <td>3883.382</td>\n",
       "      <td>0.0</td>\n",
       "      <td>380.0</td>\n",
       "      <td>0.0</td>\n",
       "    </tr>\n",
       "  </tbody>\n",
       "</table>\n",
       "</div>"
      ],
      "text/plain": [
       "                       eMeter  eMeterReturn  eMeterLow  eMeterLowReturn  \\\n",
       "datetime                                                                  \n",
       "2017-03-07 18:14:20  3717.472           0.0   3883.382              0.0   \n",
       "2017-03-07 18:14:30  3717.473           0.0   3883.382              0.0   \n",
       "2017-03-07 18:14:40  3717.474           0.0   3883.382              0.0   \n",
       "2017-03-07 18:14:50  3717.475           0.0   3883.382              0.0   \n",
       "2017-03-07 18:15:00  3717.476           0.0   3883.382              0.0   \n",
       "\n",
       "                     ePower  ePowerReturn  \n",
       "datetime                                   \n",
       "2017-03-07 18:14:20   376.0           0.0  \n",
       "2017-03-07 18:14:30   381.0           0.0  \n",
       "2017-03-07 18:14:40   378.0           0.0  \n",
       "2017-03-07 18:14:50   376.0           0.0  \n",
       "2017-03-07 18:15:00   380.0           0.0  "
      ]
     },
     "execution_count": 5,
     "metadata": {},
     "output_type": "execute_result"
    }
   ],
   "source": [
    "smart.head()"
   ]
  },
  {
   "cell_type": "code",
   "execution_count": 6,
   "metadata": {},
   "outputs": [
    {
     "data": {
      "text/html": [
       "<div>\n",
       "<style>\n",
       "    .dataframe thead tr:only-child th {\n",
       "        text-align: right;\n",
       "    }\n",
       "\n",
       "    .dataframe thead th {\n",
       "        text-align: left;\n",
       "    }\n",
       "\n",
       "    .dataframe tbody tr th {\n",
       "        vertical-align: top;\n",
       "    }\n",
       "</style>\n",
       "<table border=\"1\" class=\"dataframe\">\n",
       "  <thead>\n",
       "    <tr style=\"text-align: right;\">\n",
       "      <th></th>\n",
       "      <th>gasMeter</th>\n",
       "    </tr>\n",
       "    <tr>\n",
       "      <th>datetime</th>\n",
       "      <th></th>\n",
       "    </tr>\n",
       "  </thead>\n",
       "  <tbody>\n",
       "    <tr>\n",
       "      <th>2017-03-07 18:00:00</th>\n",
       "      <td>1599.792</td>\n",
       "    </tr>\n",
       "    <tr>\n",
       "      <th>2017-03-07 19:00:00</th>\n",
       "      <td>1599.986</td>\n",
       "    </tr>\n",
       "    <tr>\n",
       "      <th>2017-03-07 20:00:00</th>\n",
       "      <td>1600.179</td>\n",
       "    </tr>\n",
       "    <tr>\n",
       "      <th>2017-03-07 21:00:00</th>\n",
       "      <td>1600.367</td>\n",
       "    </tr>\n",
       "    <tr>\n",
       "      <th>2017-03-07 22:00:00</th>\n",
       "      <td>1600.513</td>\n",
       "    </tr>\n",
       "  </tbody>\n",
       "</table>\n",
       "</div>"
      ],
      "text/plain": [
       "                     gasMeter\n",
       "datetime                     \n",
       "2017-03-07 18:00:00  1599.792\n",
       "2017-03-07 19:00:00  1599.986\n",
       "2017-03-07 20:00:00  1600.179\n",
       "2017-03-07 21:00:00  1600.367\n",
       "2017-03-07 22:00:00  1600.513"
      ]
     },
     "execution_count": 6,
     "metadata": {},
     "output_type": "execute_result"
    }
   ],
   "source": [
    "gas.head()"
   ]
  },
  {
   "cell_type": "markdown",
   "metadata": {},
   "source": [
    "# Working with electricity dataframe"
   ]
  },
  {
   "cell_type": "code",
   "execution_count": 7,
   "metadata": {},
   "outputs": [
    {
     "name": "stdout",
     "output_type": "stream",
     "text": [
      "<class 'pandas.core.frame.DataFrame'>\n",
      "DatetimeIndex: 2947 entries, 2017-03-07 18:16:10 to 2017-03-28 23:50:30\n",
      "Data columns (total 6 columns):\n",
      "eMeter             0 non-null float64\n",
      "eMeterReturn       0 non-null float64\n",
      "eMeterLow          0 non-null float64\n",
      "eMeterLowReturn    0 non-null float64\n",
      "ePower             0 non-null float64\n",
      "ePowerReturn       0 non-null float64\n",
      "dtypes: float64(6)\n",
      "memory usage: 161.2 KB\n",
      "None\n"
     ]
    }
   ],
   "source": [
    "#First check how many nans are there\n",
    "smart_nan=smart.isnull().any(axis=1)\n",
    "print(smart[smart_nan].info())"
   ]
  },
  {
   "cell_type": "code",
   "execution_count": 8,
   "metadata": {},
   "outputs": [
    {
     "data": {
      "text/html": [
       "<div>\n",
       "<style>\n",
       "    .dataframe thead tr:only-child th {\n",
       "        text-align: right;\n",
       "    }\n",
       "\n",
       "    .dataframe thead th {\n",
       "        text-align: left;\n",
       "    }\n",
       "\n",
       "    .dataframe tbody tr th {\n",
       "        vertical-align: top;\n",
       "    }\n",
       "</style>\n",
       "<table border=\"1\" class=\"dataframe\">\n",
       "  <thead>\n",
       "    <tr style=\"text-align: right;\">\n",
       "      <th></th>\n",
       "      <th>eMeter</th>\n",
       "      <th>eMeterReturn</th>\n",
       "      <th>eMeterLow</th>\n",
       "      <th>eMeterLowReturn</th>\n",
       "      <th>ePower</th>\n",
       "      <th>ePowerReturn</th>\n",
       "    </tr>\n",
       "  </thead>\n",
       "  <tbody>\n",
       "    <tr>\n",
       "      <th>count</th>\n",
       "      <td>180567.000000</td>\n",
       "      <td>180567.0</td>\n",
       "      <td>180567.000000</td>\n",
       "      <td>180567.0</td>\n",
       "      <td>180567.000000</td>\n",
       "      <td>180567.0</td>\n",
       "    </tr>\n",
       "    <tr>\n",
       "      <th>mean</th>\n",
       "      <td>3772.187364</td>\n",
       "      <td>0.0</td>\n",
       "      <td>3943.679690</td>\n",
       "      <td>0.0</td>\n",
       "      <td>459.004615</td>\n",
       "      <td>0.0</td>\n",
       "    </tr>\n",
       "    <tr>\n",
       "      <th>std</th>\n",
       "      <td>32.169904</td>\n",
       "      <td>0.0</td>\n",
       "      <td>36.106887</td>\n",
       "      <td>0.0</td>\n",
       "      <td>452.420914</td>\n",
       "      <td>0.0</td>\n",
       "    </tr>\n",
       "    <tr>\n",
       "      <th>min</th>\n",
       "      <td>3717.472000</td>\n",
       "      <td>0.0</td>\n",
       "      <td>3883.382000</td>\n",
       "      <td>0.0</td>\n",
       "      <td>238.000000</td>\n",
       "      <td>0.0</td>\n",
       "    </tr>\n",
       "    <tr>\n",
       "      <th>25%</th>\n",
       "      <td>3737.922000</td>\n",
       "      <td>0.0</td>\n",
       "      <td>3918.407500</td>\n",
       "      <td>0.0</td>\n",
       "      <td>319.000000</td>\n",
       "      <td>0.0</td>\n",
       "    </tr>\n",
       "    <tr>\n",
       "      <th>50%</th>\n",
       "      <td>3775.712000</td>\n",
       "      <td>0.0</td>\n",
       "      <td>3939.401000</td>\n",
       "      <td>0.0</td>\n",
       "      <td>351.000000</td>\n",
       "      <td>0.0</td>\n",
       "    </tr>\n",
       "    <tr>\n",
       "      <th>75%</th>\n",
       "      <td>3801.757500</td>\n",
       "      <td>0.0</td>\n",
       "      <td>3973.161000</td>\n",
       "      <td>0.0</td>\n",
       "      <td>414.000000</td>\n",
       "      <td>0.0</td>\n",
       "    </tr>\n",
       "    <tr>\n",
       "      <th>max</th>\n",
       "      <td>3830.551000</td>\n",
       "      <td>0.0</td>\n",
       "      <td>4004.212000</td>\n",
       "      <td>0.0</td>\n",
       "      <td>7765.000000</td>\n",
       "      <td>0.0</td>\n",
       "    </tr>\n",
       "  </tbody>\n",
       "</table>\n",
       "</div>"
      ],
      "text/plain": [
       "              eMeter  eMeterReturn      eMeterLow  eMeterLowReturn  \\\n",
       "count  180567.000000      180567.0  180567.000000         180567.0   \n",
       "mean     3772.187364           0.0    3943.679690              0.0   \n",
       "std        32.169904           0.0      36.106887              0.0   \n",
       "min      3717.472000           0.0    3883.382000              0.0   \n",
       "25%      3737.922000           0.0    3918.407500              0.0   \n",
       "50%      3775.712000           0.0    3939.401000              0.0   \n",
       "75%      3801.757500           0.0    3973.161000              0.0   \n",
       "max      3830.551000           0.0    4004.212000              0.0   \n",
       "\n",
       "              ePower  ePowerReturn  \n",
       "count  180567.000000      180567.0  \n",
       "mean      459.004615           0.0  \n",
       "std       452.420914           0.0  \n",
       "min       238.000000           0.0  \n",
       "25%       319.000000           0.0  \n",
       "50%       351.000000           0.0  \n",
       "75%       414.000000           0.0  \n",
       "max      7765.000000           0.0  "
      ]
     },
     "execution_count": 8,
     "metadata": {},
     "output_type": "execute_result"
    }
   ],
   "source": [
    "smart.describe()"
   ]
  },
  {
   "cell_type": "code",
   "execution_count": 9,
   "metadata": {},
   "outputs": [
    {
     "name": "stdout",
     "output_type": "stream",
     "text": [
      "                     eMeter  eMeterReturn  eMeterLow  eMeterLowReturn  ePower  \\\n",
      "datetime                                                                        \n",
      "2017-03-07 18:16:10     NaN           NaN        NaN              NaN     NaN   \n",
      "2017-03-07 18:17:40     NaN           NaN        NaN              NaN     NaN   \n",
      "2017-03-07 18:46:00     NaN           NaN        NaN              NaN     NaN   \n",
      "2017-03-07 18:47:20     NaN           NaN        NaN              NaN     NaN   \n",
      "2017-03-07 19:17:10     NaN           NaN        NaN              NaN     NaN   \n",
      "2017-03-07 19:18:30     NaN           NaN        NaN              NaN     NaN   \n",
      "2017-03-07 19:48:10     NaN           NaN        NaN              NaN     NaN   \n",
      "2017-03-07 19:49:30     NaN           NaN        NaN              NaN     NaN   \n",
      "2017-03-07 20:18:00     NaN           NaN        NaN              NaN     NaN   \n",
      "2017-03-07 20:19:20     NaN           NaN        NaN              NaN     NaN   \n",
      "2017-03-07 20:49:10     NaN           NaN        NaN              NaN     NaN   \n",
      "2017-03-07 20:50:30     NaN           NaN        NaN              NaN     NaN   \n",
      "2017-03-07 21:18:50     NaN           NaN        NaN              NaN     NaN   \n",
      "2017-03-07 21:20:10     NaN           NaN        NaN              NaN     NaN   \n",
      "2017-03-07 21:48:40     NaN           NaN        NaN              NaN     NaN   \n",
      "2017-03-07 21:50:00     NaN           NaN        NaN              NaN     NaN   \n",
      "2017-03-07 21:51:20     NaN           NaN        NaN              NaN     NaN   \n",
      "2017-03-07 22:21:00     NaN           NaN        NaN              NaN     NaN   \n",
      "2017-03-07 22:22:20     NaN           NaN        NaN              NaN     NaN   \n",
      "2017-03-07 22:50:50     NaN           NaN        NaN              NaN     NaN   \n",
      "2017-03-07 22:52:10     NaN           NaN        NaN              NaN     NaN   \n",
      "2017-03-07 23:20:50     NaN           NaN        NaN              NaN     NaN   \n",
      "2017-03-07 23:22:10     NaN           NaN        NaN              NaN     NaN   \n",
      "2017-03-07 23:23:40     NaN           NaN        NaN              NaN     NaN   \n",
      "2017-03-07 23:52:40     NaN           NaN        NaN              NaN     NaN   \n",
      "2017-03-07 23:54:00     NaN           NaN        NaN              NaN     NaN   \n",
      "2017-03-07 23:55:30     NaN           NaN        NaN              NaN     NaN   \n",
      "2017-03-08 00:24:00     NaN           NaN        NaN              NaN     NaN   \n",
      "2017-03-08 00:25:20     NaN           NaN        NaN              NaN     NaN   \n",
      "2017-03-08 00:55:10     NaN           NaN        NaN              NaN     NaN   \n",
      "...                     ...           ...        ...              ...     ...   \n",
      "2017-03-28 17:12:00     NaN           NaN        NaN              NaN     NaN   \n",
      "2017-03-28 17:13:20     NaN           NaN        NaN              NaN     NaN   \n",
      "2017-03-28 17:43:00     NaN           NaN        NaN              NaN     NaN   \n",
      "2017-03-28 17:44:30     NaN           NaN        NaN              NaN     NaN   \n",
      "2017-03-28 18:14:10     NaN           NaN        NaN              NaN     NaN   \n",
      "2017-03-28 18:15:30     NaN           NaN        NaN              NaN     NaN   \n",
      "2017-03-28 18:43:50     NaN           NaN        NaN              NaN     NaN   \n",
      "2017-03-28 18:45:20     NaN           NaN        NaN              NaN     NaN   \n",
      "2017-03-28 19:13:40     NaN           NaN        NaN              NaN     NaN   \n",
      "2017-03-28 19:15:00     NaN           NaN        NaN              NaN     NaN   \n",
      "2017-03-28 19:16:20     NaN           NaN        NaN              NaN     NaN   \n",
      "2017-03-28 19:44:40     NaN           NaN        NaN              NaN     NaN   \n",
      "2017-03-28 19:46:00     NaN           NaN        NaN              NaN     NaN   \n",
      "2017-03-28 20:15:50     NaN           NaN        NaN              NaN     NaN   \n",
      "2017-03-28 20:17:10     NaN           NaN        NaN              NaN     NaN   \n",
      "2017-03-28 20:45:30     NaN           NaN        NaN              NaN     NaN   \n",
      "2017-03-28 20:46:50     NaN           NaN        NaN              NaN     NaN   \n",
      "2017-03-28 21:15:10     NaN           NaN        NaN              NaN     NaN   \n",
      "2017-03-28 21:16:30     NaN           NaN        NaN              NaN     NaN   \n",
      "2017-03-28 21:18:00     NaN           NaN        NaN              NaN     NaN   \n",
      "2017-03-28 21:46:20     NaN           NaN        NaN              NaN     NaN   \n",
      "2017-03-28 21:47:40     NaN           NaN        NaN              NaN     NaN   \n",
      "2017-03-28 22:16:10     NaN           NaN        NaN              NaN     NaN   \n",
      "2017-03-28 22:17:30     NaN           NaN        NaN              NaN     NaN   \n",
      "2017-03-28 22:47:10     NaN           NaN        NaN              NaN     NaN   \n",
      "2017-03-28 22:48:30     NaN           NaN        NaN              NaN     NaN   \n",
      "2017-03-28 23:18:40     NaN           NaN        NaN              NaN     NaN   \n",
      "2017-03-28 23:20:10     NaN           NaN        NaN              NaN     NaN   \n",
      "2017-03-28 23:49:10     NaN           NaN        NaN              NaN     NaN   \n",
      "2017-03-28 23:50:30     NaN           NaN        NaN              NaN     NaN   \n",
      "\n",
      "                     ePowerReturn  \n",
      "datetime                           \n",
      "2017-03-07 18:16:10           NaN  \n",
      "2017-03-07 18:17:40           NaN  \n",
      "2017-03-07 18:46:00           NaN  \n",
      "2017-03-07 18:47:20           NaN  \n",
      "2017-03-07 19:17:10           NaN  \n",
      "2017-03-07 19:18:30           NaN  \n",
      "2017-03-07 19:48:10           NaN  \n",
      "2017-03-07 19:49:30           NaN  \n",
      "2017-03-07 20:18:00           NaN  \n",
      "2017-03-07 20:19:20           NaN  \n",
      "2017-03-07 20:49:10           NaN  \n",
      "2017-03-07 20:50:30           NaN  \n",
      "2017-03-07 21:18:50           NaN  \n",
      "2017-03-07 21:20:10           NaN  \n",
      "2017-03-07 21:48:40           NaN  \n",
      "2017-03-07 21:50:00           NaN  \n",
      "2017-03-07 21:51:20           NaN  \n",
      "2017-03-07 22:21:00           NaN  \n",
      "2017-03-07 22:22:20           NaN  \n",
      "2017-03-07 22:50:50           NaN  \n",
      "2017-03-07 22:52:10           NaN  \n",
      "2017-03-07 23:20:50           NaN  \n",
      "2017-03-07 23:22:10           NaN  \n",
      "2017-03-07 23:23:40           NaN  \n",
      "2017-03-07 23:52:40           NaN  \n",
      "2017-03-07 23:54:00           NaN  \n",
      "2017-03-07 23:55:30           NaN  \n",
      "2017-03-08 00:24:00           NaN  \n",
      "2017-03-08 00:25:20           NaN  \n",
      "2017-03-08 00:55:10           NaN  \n",
      "...                           ...  \n",
      "2017-03-28 17:12:00           NaN  \n",
      "2017-03-28 17:13:20           NaN  \n",
      "2017-03-28 17:43:00           NaN  \n",
      "2017-03-28 17:44:30           NaN  \n",
      "2017-03-28 18:14:10           NaN  \n",
      "2017-03-28 18:15:30           NaN  \n",
      "2017-03-28 18:43:50           NaN  \n",
      "2017-03-28 18:45:20           NaN  \n",
      "2017-03-28 19:13:40           NaN  \n",
      "2017-03-28 19:15:00           NaN  \n",
      "2017-03-28 19:16:20           NaN  \n",
      "2017-03-28 19:44:40           NaN  \n",
      "2017-03-28 19:46:00           NaN  \n",
      "2017-03-28 20:15:50           NaN  \n",
      "2017-03-28 20:17:10           NaN  \n",
      "2017-03-28 20:45:30           NaN  \n",
      "2017-03-28 20:46:50           NaN  \n",
      "2017-03-28 21:15:10           NaN  \n",
      "2017-03-28 21:16:30           NaN  \n",
      "2017-03-28 21:18:00           NaN  \n",
      "2017-03-28 21:46:20           NaN  \n",
      "2017-03-28 21:47:40           NaN  \n",
      "2017-03-28 22:16:10           NaN  \n",
      "2017-03-28 22:17:30           NaN  \n",
      "2017-03-28 22:47:10           NaN  \n",
      "2017-03-28 22:48:30           NaN  \n",
      "2017-03-28 23:18:40           NaN  \n",
      "2017-03-28 23:20:10           NaN  \n",
      "2017-03-28 23:49:10           NaN  \n",
      "2017-03-28 23:50:30           NaN  \n",
      "\n",
      "[2947 rows x 6 columns]\n"
     ]
    }
   ],
   "source": [
    "print(smart[smart_nan])"
   ]
  },
  {
   "cell_type": "code",
   "execution_count": 10,
   "metadata": {},
   "outputs": [],
   "source": [
    "#Then just interpolate\n",
    "#smart_final=smart.interpolate('time')\n",
    "#print(smart_final)"
   ]
  },
  {
   "cell_type": "code",
   "execution_count": 11,
   "metadata": {},
   "outputs": [
    {
     "name": "stdout",
     "output_type": "stream",
     "text": [
      "                     temp\n",
      "datetime                 \n",
      "2017-03-07 18:14:20     0\n",
      "2017-03-07 18:14:30     0\n",
      "2017-03-07 18:14:40     0\n",
      "2017-03-07 18:14:50     0\n",
      "2017-03-07 18:15:00     0\n"
     ]
    }
   ],
   "source": [
    "#make ints from NaNs\n",
    "smart_nan=smart_nan*1\n",
    "#make a df where the number of consecutive NaNs in that electricity file are displayed\n",
    "temp = pd.DataFrame()\n",
    "temp['temp']=smart_nan.groupby((smart_nan != smart_nan.shift()).cumsum()).transform('size') * smart_nan\n",
    "print(temp.head())"
   ]
  },
  {
   "cell_type": "code",
   "execution_count": 12,
   "metadata": {},
   "outputs": [],
   "source": [
    "temp.to_csv('~/temp.csv')"
   ]
  },
  {
   "cell_type": "code",
   "execution_count": 13,
   "metadata": {},
   "outputs": [
    {
     "data": {
      "text/html": [
       "<div>\n",
       "<style>\n",
       "    .dataframe thead tr:only-child th {\n",
       "        text-align: right;\n",
       "    }\n",
       "\n",
       "    .dataframe thead th {\n",
       "        text-align: left;\n",
       "    }\n",
       "\n",
       "    .dataframe tbody tr th {\n",
       "        vertical-align: top;\n",
       "    }\n",
       "</style>\n",
       "<table border=\"1\" class=\"dataframe\">\n",
       "  <thead>\n",
       "    <tr style=\"text-align: right;\">\n",
       "      <th></th>\n",
       "      <th>temp</th>\n",
       "    </tr>\n",
       "  </thead>\n",
       "  <tbody>\n",
       "    <tr>\n",
       "      <th>count</th>\n",
       "      <td>183514.000000</td>\n",
       "    </tr>\n",
       "    <tr>\n",
       "      <th>mean</th>\n",
       "      <td>1.424965</td>\n",
       "    </tr>\n",
       "    <tr>\n",
       "      <th>std</th>\n",
       "      <td>22.504673</td>\n",
       "    </tr>\n",
       "    <tr>\n",
       "      <th>min</th>\n",
       "      <td>0.000000</td>\n",
       "    </tr>\n",
       "    <tr>\n",
       "      <th>25%</th>\n",
       "      <td>0.000000</td>\n",
       "    </tr>\n",
       "    <tr>\n",
       "      <th>50%</th>\n",
       "      <td>0.000000</td>\n",
       "    </tr>\n",
       "    <tr>\n",
       "      <th>75%</th>\n",
       "      <td>0.000000</td>\n",
       "    </tr>\n",
       "    <tr>\n",
       "      <th>max</th>\n",
       "      <td>360.000000</td>\n",
       "    </tr>\n",
       "  </tbody>\n",
       "</table>\n",
       "</div>"
      ],
      "text/plain": [
       "                temp\n",
       "count  183514.000000\n",
       "mean        1.424965\n",
       "std        22.504673\n",
       "min         0.000000\n",
       "25%         0.000000\n",
       "50%         0.000000\n",
       "75%         0.000000\n",
       "max       360.000000"
      ]
     },
     "execution_count": 13,
     "metadata": {},
     "output_type": "execute_result"
    }
   ],
   "source": [
    "temp.describe()"
   ]
  },
  {
   "cell_type": "markdown",
   "metadata": {},
   "source": [
    "# Creating DF for information from the different files"
   ]
  },
  {
   "cell_type": "code",
   "execution_count": 35,
   "metadata": {},
   "outputs": [
    {
     "ename": "SyntaxError",
     "evalue": "invalid syntax (<ipython-input-35-969314d31b42>, line 10)",
     "output_type": "error",
     "traceback": [
      "\u001b[0;36m  File \u001b[0;32m\"<ipython-input-35-969314d31b42>\"\u001b[0;36m, line \u001b[0;32m10\u001b[0m\n\u001b[0;31m    smart (everywhere) --> replace with df\u001b[0m\n\u001b[0m                         ^\u001b[0m\n\u001b[0;31mSyntaxError\u001b[0m\u001b[0;31m:\u001b[0m invalid syntax\n"
     ]
    }
   ],
   "source": [
    "#create dataframe to store all information from the different files\n",
    "info_data = pd.DataFrame()\n",
    "info_data = pd.DataFrame(columns={'House_ID','File_size(MB)','Initial_Date','Final_Date','Days','Amount_of_NaNs','Max_Consecutive_NaNs'})\n",
    "#order of column names changed for some reason, line(below) fixes this, although ugly\n",
    "info_data = info_data[['House_ID','File_size(MB)','Initial_Date','Final_Date','Days','Amount_of_NaNs','Max_Consecutive_NaNs']]\n",
    "info_data.loc[len(info_data.index)] = [123123, smart.memory_usage(index=True).sum()/1000000, smart.index[0], smart.index[-1], smart.index[-1]-smart.index[0], 6767, temp['temp'].max()]\n",
    "print(info_data.head())\n",
    "\n",
    "#Where the following things must be changed in order to make it work for the final function (I think): \n",
    "#123123 --> dwelling_id\n",
    "#smart (everywhere) --> replace with df\n",
    "#6767 --> NaN_count for df\n"
   ]
  },
  {
   "cell_type": "code",
   "execution_count": 30,
   "metadata": {},
   "outputs": [
    {
     "data": {
      "text/plain": [
       "2947"
      ]
     },
     "execution_count": 30,
     "metadata": {},
     "output_type": "execute_result"
    }
   ],
   "source": [
    "smart.isnull().sum()[0]"
   ]
  },
  {
   "cell_type": "code",
   "execution_count": 31,
   "metadata": {},
   "outputs": [
    {
     "data": {
      "text/plain": [
       "eMeter             0\n",
       "eMeterReturn       0\n",
       "eMeterLow          0\n",
       "eMeterLowReturn    0\n",
       "ePower             0\n",
       "ePowerReturn       0\n",
       "dtype: int64"
      ]
     },
     "execution_count": 31,
     "metadata": {},
     "output_type": "execute_result"
    }
   ],
   "source": [
    "#Delete rows with NaN in 'ePower' column\n",
    "smart_final=smart.dropna(subset=['ePower'])\n",
    "smart_final.isnull().sum()"
   ]
  },
  {
   "cell_type": "markdown",
   "metadata": {},
   "source": [
    "# Working with gas dataframe"
   ]
  },
  {
   "cell_type": "code",
   "execution_count": null,
   "metadata": {},
   "outputs": [],
   "source": [
    "#Inspect for NaNs\n",
    "gas_nan=gas.isnull().any(axis=1)\n",
    "print(gas[gas_nan])"
   ]
  },
  {
   "cell_type": "code",
   "execution_count": null,
   "metadata": {},
   "outputs": [],
   "source": [
    "#Interpolate\n",
    "gas_final = gas.resample('10s').interpolate(method='time')\n",
    "# Create a ''gasPower'' column. This equals the gas used in that hour\n",
    "gas_final['gasPower'] = gas_final['gasMeter'].diff()\n",
    "# First entry is NaN, replace NaN by second entry\n",
    "gas_final['gasPower'][0] = gas_final['gasPower'][1]\n",
    "print(gas_final)"
   ]
  },
  {
   "cell_type": "code",
   "execution_count": null,
   "metadata": {},
   "outputs": [],
   "source": [
    "#Fit datetimes\n",
    "#gas_selected=gas_final.ix[smart_final.index[0]:gas_final.index[-1]]\n",
    "#print(gas_selected)"
   ]
  },
  {
   "cell_type": "code",
   "execution_count": null,
   "metadata": {},
   "outputs": [],
   "source": [
    "# Gas datetime ends at 23:00:00 (at least in this specific file) and Electricity date time ends at 23:59:50 so\n",
    "# when merging final DateTime will be 23:00:00\n",
    "df = pd.merge(smart_final,gas_final,left_index=True, right_index=True)"
   ]
  },
  {
   "cell_type": "code",
   "execution_count": null,
   "metadata": {},
   "outputs": [],
   "source": [
    "print(df)"
   ]
  },
  {
   "cell_type": "code",
   "execution_count": null,
   "metadata": {},
   "outputs": [],
   "source": []
  }
 ],
 "metadata": {
  "kernelspec": {
   "display_name": "Python 3",
   "language": "python",
   "name": "python3"
  },
  "language_info": {
   "codemirror_mode": {
    "name": "ipython",
    "version": 3
   },
   "file_extension": ".py",
   "mimetype": "text/x-python",
   "name": "python",
   "nbconvert_exporter": "python",
   "pygments_lexer": "ipython3",
   "version": "3.6.1"
  }
 },
 "nbformat": 4,
 "nbformat_minor": 2
}
