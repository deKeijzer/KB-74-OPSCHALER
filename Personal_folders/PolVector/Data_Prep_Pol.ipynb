{
 "cells": [
  {
   "cell_type": "code",
   "execution_count": 1,
   "metadata": {},
   "outputs": [],
   "source": [
    "import pandas as pd\n",
    "import numpy as np\n",
    "import matplotlib.pyplot as plt\n",
    "import seaborn as sns"
   ]
  },
  {
   "cell_type": "code",
   "execution_count": 2,
   "metadata": {},
   "outputs": [],
   "source": [
    "#def load_data():\n",
    "global smart\n",
    "global gas\n",
    "global weather\n",
    "df =pd.read_csv(\"/datc/opschaler/smartmeter_data/P01S01W0373.csv\",header=0,delimiter=\";\",parse_dates=['Timestamp', 'gasTimestamp'])\n",
    "\n",
    "# Split the smartmeter and gasmeter data\n",
    "smart = df.iloc[:,:7]\n",
    "gas = df.iloc[:, 7:]"
   ]
  },
  {
   "cell_type": "code",
   "execution_count": 3,
   "metadata": {},
   "outputs": [],
   "source": [
    "#load_data()\n",
    "\n",
    "# Change all datetime columns to the same column name\n",
    "smart = smart.rename(index=str, columns={\"Timestamp\":\"datetime\"})\n",
    "gas = gas.rename(index=str, columns={\"gasTimestamp\":\"datetime\"})\n",
    "\n",
    "#df = df[['datetime', 'eMeter', 'eMeterLow', 'ePower', 'gasMeter', 'T', 'Q']]\n",
    "#df = df[['datetime', 'eMeter', 'eMeterLow', 'ePower', 'gasMeter']]\n",
    "smart.head()\n",
    "\n",
    "# Set datetime as index\n",
    "smart = smart.set_index(['datetime'])\n",
    "gas = gas.set_index(['datetime'])"
   ]
  },
  {
   "cell_type": "code",
   "execution_count": 4,
   "metadata": {},
   "outputs": [],
   "source": [
    "\"\"\"\n",
    "Resample the dataframes to 10s intervals.\n",
    "https://pandas.pydata.org/pandas-docs/stable/generated/pandas.DataFrame.resample.html\n",
    "https://pandas.pydata.org/pandas-docs/stable/generated/pandas.DataFrame.interpolate.html#pandas.DataFrame.interpolate\n",
    "\"\"\"\n",
    "smart = smart.resample('10s').mean()\n",
    "gas = gas.resample('H').mean() # Does not look nice, but it works"
   ]
  },
  {
   "cell_type": "code",
   "execution_count": 5,
   "metadata": {},
   "outputs": [
    {
     "data": {
      "text/html": [
       "<div>\n",
       "<style>\n",
       "    .dataframe thead tr:only-child th {\n",
       "        text-align: right;\n",
       "    }\n",
       "\n",
       "    .dataframe thead th {\n",
       "        text-align: left;\n",
       "    }\n",
       "\n",
       "    .dataframe tbody tr th {\n",
       "        vertical-align: top;\n",
       "    }\n",
       "</style>\n",
       "<table border=\"1\" class=\"dataframe\">\n",
       "  <thead>\n",
       "    <tr style=\"text-align: right;\">\n",
       "      <th></th>\n",
       "      <th>eMeter</th>\n",
       "      <th>eMeterReturn</th>\n",
       "      <th>eMeterLow</th>\n",
       "      <th>eMeterLowReturn</th>\n",
       "      <th>ePower</th>\n",
       "      <th>ePowerReturn</th>\n",
       "    </tr>\n",
       "    <tr>\n",
       "      <th>datetime</th>\n",
       "      <th></th>\n",
       "      <th></th>\n",
       "      <th></th>\n",
       "      <th></th>\n",
       "      <th></th>\n",
       "      <th></th>\n",
       "    </tr>\n",
       "  </thead>\n",
       "  <tbody>\n",
       "    <tr>\n",
       "      <th>2017-03-07 07:34:00</th>\n",
       "      <td>3673.459</td>\n",
       "      <td>0.0</td>\n",
       "      <td>4072.481</td>\n",
       "      <td>0.0</td>\n",
       "      <td>89.0</td>\n",
       "      <td>0.0</td>\n",
       "    </tr>\n",
       "    <tr>\n",
       "      <th>2017-03-07 07:34:10</th>\n",
       "      <td>3673.459</td>\n",
       "      <td>0.0</td>\n",
       "      <td>4072.481</td>\n",
       "      <td>0.0</td>\n",
       "      <td>87.0</td>\n",
       "      <td>0.0</td>\n",
       "    </tr>\n",
       "    <tr>\n",
       "      <th>2017-03-07 07:34:20</th>\n",
       "      <td>3673.460</td>\n",
       "      <td>0.0</td>\n",
       "      <td>4072.481</td>\n",
       "      <td>0.0</td>\n",
       "      <td>89.0</td>\n",
       "      <td>0.0</td>\n",
       "    </tr>\n",
       "    <tr>\n",
       "      <th>2017-03-07 07:34:30</th>\n",
       "      <td>3673.460</td>\n",
       "      <td>0.0</td>\n",
       "      <td>4072.481</td>\n",
       "      <td>0.0</td>\n",
       "      <td>89.0</td>\n",
       "      <td>0.0</td>\n",
       "    </tr>\n",
       "    <tr>\n",
       "      <th>2017-03-07 07:34:40</th>\n",
       "      <td>3673.460</td>\n",
       "      <td>0.0</td>\n",
       "      <td>4072.481</td>\n",
       "      <td>0.0</td>\n",
       "      <td>203.0</td>\n",
       "      <td>0.0</td>\n",
       "    </tr>\n",
       "  </tbody>\n",
       "</table>\n",
       "</div>"
      ],
      "text/plain": [
       "                       eMeter  eMeterReturn  eMeterLow  eMeterLowReturn  \\\n",
       "datetime                                                                  \n",
       "2017-03-07 07:34:00  3673.459           0.0   4072.481              0.0   \n",
       "2017-03-07 07:34:10  3673.459           0.0   4072.481              0.0   \n",
       "2017-03-07 07:34:20  3673.460           0.0   4072.481              0.0   \n",
       "2017-03-07 07:34:30  3673.460           0.0   4072.481              0.0   \n",
       "2017-03-07 07:34:40  3673.460           0.0   4072.481              0.0   \n",
       "\n",
       "                     ePower  ePowerReturn  \n",
       "datetime                                   \n",
       "2017-03-07 07:34:00    89.0           0.0  \n",
       "2017-03-07 07:34:10    87.0           0.0  \n",
       "2017-03-07 07:34:20    89.0           0.0  \n",
       "2017-03-07 07:34:30    89.0           0.0  \n",
       "2017-03-07 07:34:40   203.0           0.0  "
      ]
     },
     "execution_count": 5,
     "metadata": {},
     "output_type": "execute_result"
    }
   ],
   "source": [
    "smart.head()"
   ]
  },
  {
   "cell_type": "code",
   "execution_count": 6,
   "metadata": {},
   "outputs": [
    {
     "data": {
      "text/html": [
       "<div>\n",
       "<style>\n",
       "    .dataframe thead tr:only-child th {\n",
       "        text-align: right;\n",
       "    }\n",
       "\n",
       "    .dataframe thead th {\n",
       "        text-align: left;\n",
       "    }\n",
       "\n",
       "    .dataframe tbody tr th {\n",
       "        vertical-align: top;\n",
       "    }\n",
       "</style>\n",
       "<table border=\"1\" class=\"dataframe\">\n",
       "  <thead>\n",
       "    <tr style=\"text-align: right;\">\n",
       "      <th></th>\n",
       "      <th>gasMeter</th>\n",
       "    </tr>\n",
       "    <tr>\n",
       "      <th>datetime</th>\n",
       "      <th></th>\n",
       "    </tr>\n",
       "  </thead>\n",
       "  <tbody>\n",
       "    <tr>\n",
       "      <th>2017-03-07 07:00:00</th>\n",
       "      <td>4419.052</td>\n",
       "    </tr>\n",
       "    <tr>\n",
       "      <th>2017-03-07 08:00:00</th>\n",
       "      <td>4419.060</td>\n",
       "    </tr>\n",
       "    <tr>\n",
       "      <th>2017-03-07 09:00:00</th>\n",
       "      <td>4419.120</td>\n",
       "    </tr>\n",
       "    <tr>\n",
       "      <th>2017-03-07 10:00:00</th>\n",
       "      <td>4419.120</td>\n",
       "    </tr>\n",
       "    <tr>\n",
       "      <th>2017-03-07 11:00:00</th>\n",
       "      <td>4419.120</td>\n",
       "    </tr>\n",
       "  </tbody>\n",
       "</table>\n",
       "</div>"
      ],
      "text/plain": [
       "                     gasMeter\n",
       "datetime                     \n",
       "2017-03-07 07:00:00  4419.052\n",
       "2017-03-07 08:00:00  4419.060\n",
       "2017-03-07 09:00:00  4419.120\n",
       "2017-03-07 10:00:00  4419.120\n",
       "2017-03-07 11:00:00  4419.120"
      ]
     },
     "execution_count": 6,
     "metadata": {},
     "output_type": "execute_result"
    }
   ],
   "source": [
    "gas.head()"
   ]
  },
  {
   "cell_type": "markdown",
   "metadata": {},
   "source": [
    "# Working with electricity dataframe"
   ]
  },
  {
   "cell_type": "code",
   "execution_count": 7,
   "metadata": {},
   "outputs": [
    {
     "name": "stdout",
     "output_type": "stream",
     "text": [
      "                     eMeter  eMeterReturn  eMeterLow  eMeterLowReturn  ePower  \\\n",
      "datetime                                                                        \n",
      "2017-03-07 07:34:00     NaN           NaN        NaN              NaN     NaN   \n",
      "2017-03-07 07:34:10     NaN           NaN        NaN              NaN     NaN   \n",
      "2017-03-07 07:34:20     NaN           NaN        NaN              NaN     NaN   \n",
      "2017-03-07 07:34:30     NaN           NaN        NaN              NaN     NaN   \n",
      "2017-03-07 07:34:40     NaN           NaN        NaN              NaN     NaN   \n",
      "\n",
      "                     ePowerReturn  \n",
      "datetime                           \n",
      "2017-03-07 07:34:00           NaN  \n",
      "2017-03-07 07:34:10           NaN  \n",
      "2017-03-07 07:34:20           NaN  \n",
      "2017-03-07 07:34:30           NaN  \n",
      "2017-03-07 07:34:40           NaN  \n"
     ]
    }
   ],
   "source": [
    "#First check how many nans are there\n",
    "smart_nan=smart.isnull()\n",
    "print(smart[smart_nan].head())"
   ]
  },
  {
   "cell_type": "code",
   "execution_count": 8,
   "metadata": {},
   "outputs": [
    {
     "data": {
      "text/html": [
       "<div>\n",
       "<style>\n",
       "    .dataframe thead tr:only-child th {\n",
       "        text-align: right;\n",
       "    }\n",
       "\n",
       "    .dataframe thead th {\n",
       "        text-align: left;\n",
       "    }\n",
       "\n",
       "    .dataframe tbody tr th {\n",
       "        vertical-align: top;\n",
       "    }\n",
       "</style>\n",
       "<table border=\"1\" class=\"dataframe\">\n",
       "  <thead>\n",
       "    <tr style=\"text-align: right;\">\n",
       "      <th></th>\n",
       "      <th>eMeter</th>\n",
       "      <th>eMeterReturn</th>\n",
       "      <th>eMeterLow</th>\n",
       "      <th>eMeterLowReturn</th>\n",
       "      <th>ePower</th>\n",
       "      <th>ePowerReturn</th>\n",
       "    </tr>\n",
       "  </thead>\n",
       "  <tbody>\n",
       "    <tr>\n",
       "      <th>count</th>\n",
       "      <td>185398.00000</td>\n",
       "      <td>185398.0</td>\n",
       "      <td>185398.000000</td>\n",
       "      <td>185398.0</td>\n",
       "      <td>185398.000000</td>\n",
       "      <td>185398.0</td>\n",
       "    </tr>\n",
       "    <tr>\n",
       "      <th>mean</th>\n",
       "      <td>3737.23959</td>\n",
       "      <td>0.0</td>\n",
       "      <td>4147.882695</td>\n",
       "      <td>0.0</td>\n",
       "      <td>496.777466</td>\n",
       "      <td>0.0</td>\n",
       "    </tr>\n",
       "    <tr>\n",
       "      <th>std</th>\n",
       "      <td>32.97624</td>\n",
       "      <td>0.0</td>\n",
       "      <td>45.862535</td>\n",
       "      <td>0.0</td>\n",
       "      <td>822.285670</td>\n",
       "      <td>0.0</td>\n",
       "    </tr>\n",
       "    <tr>\n",
       "      <th>min</th>\n",
       "      <td>3673.45900</td>\n",
       "      <td>0.0</td>\n",
       "      <td>4072.481000</td>\n",
       "      <td>0.0</td>\n",
       "      <td>76.000000</td>\n",
       "      <td>0.0</td>\n",
       "    </tr>\n",
       "    <tr>\n",
       "      <th>25%</th>\n",
       "      <td>3708.14200</td>\n",
       "      <td>0.0</td>\n",
       "      <td>4116.256250</td>\n",
       "      <td>0.0</td>\n",
       "      <td>159.000000</td>\n",
       "      <td>0.0</td>\n",
       "    </tr>\n",
       "    <tr>\n",
       "      <th>50%</th>\n",
       "      <td>3737.26900</td>\n",
       "      <td>0.0</td>\n",
       "      <td>4143.112000</td>\n",
       "      <td>0.0</td>\n",
       "      <td>217.000000</td>\n",
       "      <td>0.0</td>\n",
       "    </tr>\n",
       "    <tr>\n",
       "      <th>75%</th>\n",
       "      <td>3768.10600</td>\n",
       "      <td>0.0</td>\n",
       "      <td>4181.876000</td>\n",
       "      <td>0.0</td>\n",
       "      <td>369.000000</td>\n",
       "      <td>0.0</td>\n",
       "    </tr>\n",
       "    <tr>\n",
       "      <th>max</th>\n",
       "      <td>3793.72000</td>\n",
       "      <td>0.0</td>\n",
       "      <td>4221.775000</td>\n",
       "      <td>0.0</td>\n",
       "      <td>7639.000000</td>\n",
       "      <td>0.0</td>\n",
       "    </tr>\n",
       "  </tbody>\n",
       "</table>\n",
       "</div>"
      ],
      "text/plain": [
       "             eMeter  eMeterReturn      eMeterLow  eMeterLowReturn  \\\n",
       "count  185398.00000      185398.0  185398.000000         185398.0   \n",
       "mean     3737.23959           0.0    4147.882695              0.0   \n",
       "std        32.97624           0.0      45.862535              0.0   \n",
       "min      3673.45900           0.0    4072.481000              0.0   \n",
       "25%      3708.14200           0.0    4116.256250              0.0   \n",
       "50%      3737.26900           0.0    4143.112000              0.0   \n",
       "75%      3768.10600           0.0    4181.876000              0.0   \n",
       "max      3793.72000           0.0    4221.775000              0.0   \n",
       "\n",
       "              ePower  ePowerReturn  \n",
       "count  185398.000000      185398.0  \n",
       "mean      496.777466           0.0  \n",
       "std       822.285670           0.0  \n",
       "min        76.000000           0.0  \n",
       "25%       159.000000           0.0  \n",
       "50%       217.000000           0.0  \n",
       "75%       369.000000           0.0  \n",
       "max      7639.000000           0.0  "
      ]
     },
     "execution_count": 8,
     "metadata": {},
     "output_type": "execute_result"
    }
   ],
   "source": [
    "smart.describe()"
   ]
  },
  {
   "cell_type": "code",
   "execution_count": 9,
   "metadata": {},
   "outputs": [
    {
     "name": "stdout",
     "output_type": "stream",
     "text": [
      "                     eMeter  eMeterReturn  eMeterLow  eMeterLowReturn  ePower  \\\n",
      "datetime                                                                        \n",
      "2017-03-07 07:34:00     NaN           NaN        NaN              NaN     NaN   \n",
      "2017-03-07 07:34:10     NaN           NaN        NaN              NaN     NaN   \n",
      "2017-03-07 07:34:20     NaN           NaN        NaN              NaN     NaN   \n",
      "2017-03-07 07:34:30     NaN           NaN        NaN              NaN     NaN   \n",
      "2017-03-07 07:34:40     NaN           NaN        NaN              NaN     NaN   \n",
      "2017-03-07 07:34:50     NaN           NaN        NaN              NaN     NaN   \n",
      "2017-03-07 07:35:00     NaN           NaN        NaN              NaN     NaN   \n",
      "2017-03-07 07:35:10     NaN           NaN        NaN              NaN     NaN   \n",
      "2017-03-07 07:35:20     NaN           NaN        NaN              NaN     NaN   \n",
      "2017-03-07 07:35:30     NaN           NaN        NaN              NaN     NaN   \n",
      "2017-03-07 07:35:40     NaN           NaN        NaN              NaN     NaN   \n",
      "2017-03-07 07:35:50     NaN           NaN        NaN              NaN     NaN   \n",
      "2017-03-07 07:36:00     NaN           NaN        NaN              NaN     NaN   \n",
      "2017-03-07 07:36:10     NaN           NaN        NaN              NaN     NaN   \n",
      "2017-03-07 07:36:20     NaN           NaN        NaN              NaN     NaN   \n",
      "2017-03-07 07:36:30     NaN           NaN        NaN              NaN     NaN   \n",
      "2017-03-07 07:36:40     NaN           NaN        NaN              NaN     NaN   \n",
      "2017-03-07 07:36:50     NaN           NaN        NaN              NaN     NaN   \n",
      "2017-03-07 07:37:00     NaN           NaN        NaN              NaN     NaN   \n",
      "2017-03-07 07:37:10     NaN           NaN        NaN              NaN     NaN   \n",
      "2017-03-07 07:37:20     NaN           NaN        NaN              NaN     NaN   \n",
      "2017-03-07 07:37:30     NaN           NaN        NaN              NaN     NaN   \n",
      "2017-03-07 07:37:40     NaN           NaN        NaN              NaN     NaN   \n",
      "2017-03-07 07:37:50     NaN           NaN        NaN              NaN     NaN   \n",
      "2017-03-07 07:38:00     NaN           NaN        NaN              NaN     NaN   \n",
      "2017-03-07 07:38:10     NaN           NaN        NaN              NaN     NaN   \n",
      "2017-03-07 07:38:20     NaN           NaN        NaN              NaN     NaN   \n",
      "2017-03-07 07:38:30     NaN           NaN        NaN              NaN     NaN   \n",
      "2017-03-07 07:38:40     NaN           NaN        NaN              NaN     NaN   \n",
      "2017-03-07 07:38:50     NaN           NaN        NaN              NaN     NaN   \n",
      "...                     ...           ...        ...              ...     ...   \n",
      "2017-03-29 18:16:20     NaN           NaN        NaN              NaN     NaN   \n",
      "2017-03-29 18:16:30     NaN           NaN        NaN              NaN     NaN   \n",
      "2017-03-29 18:16:40     NaN           NaN        NaN              NaN     NaN   \n",
      "2017-03-29 18:16:50     NaN           NaN        NaN              NaN     NaN   \n",
      "2017-03-29 18:17:00     NaN           NaN        NaN              NaN     NaN   \n",
      "2017-03-29 18:17:10     NaN           NaN        NaN              NaN     NaN   \n",
      "2017-03-29 18:17:20     NaN           NaN        NaN              NaN     NaN   \n",
      "2017-03-29 18:17:30     NaN           NaN        NaN              NaN     NaN   \n",
      "2017-03-29 18:17:40     NaN           NaN        NaN              NaN     NaN   \n",
      "2017-03-29 18:17:50     NaN           NaN        NaN              NaN     NaN   \n",
      "2017-03-29 18:18:00     NaN           NaN        NaN              NaN     NaN   \n",
      "2017-03-29 18:18:10     NaN           NaN        NaN              NaN     NaN   \n",
      "2017-03-29 18:18:20     NaN           NaN        NaN              NaN     NaN   \n",
      "2017-03-29 18:18:30     NaN           NaN        NaN              NaN     NaN   \n",
      "2017-03-29 18:18:40     NaN           NaN        NaN              NaN     NaN   \n",
      "2017-03-29 18:18:50     NaN           NaN        NaN              NaN     NaN   \n",
      "2017-03-29 18:19:00     NaN           NaN        NaN              NaN     NaN   \n",
      "2017-03-29 18:19:10     NaN           NaN        NaN              NaN     NaN   \n",
      "2017-03-29 18:19:20     NaN           NaN        NaN              NaN     NaN   \n",
      "2017-03-29 18:19:30     NaN           NaN        NaN              NaN     NaN   \n",
      "2017-03-29 18:19:40     NaN           NaN        NaN              NaN     NaN   \n",
      "2017-03-29 18:19:50     NaN           NaN        NaN              NaN     NaN   \n",
      "2017-03-29 18:20:00     NaN           NaN        NaN              NaN     NaN   \n",
      "2017-03-29 18:20:10     NaN           NaN        NaN              NaN     NaN   \n",
      "2017-03-29 18:20:20     NaN           NaN        NaN              NaN     NaN   \n",
      "2017-03-29 18:20:30     NaN           NaN        NaN              NaN     NaN   \n",
      "2017-03-29 18:20:40     NaN           NaN        NaN              NaN     NaN   \n",
      "2017-03-29 18:20:50     NaN           NaN        NaN              NaN     NaN   \n",
      "2017-03-29 18:21:00     NaN           NaN        NaN              NaN     NaN   \n",
      "2017-03-29 18:21:10     NaN           NaN        NaN              NaN     NaN   \n",
      "\n",
      "                     ePowerReturn  \n",
      "datetime                           \n",
      "2017-03-07 07:34:00           NaN  \n",
      "2017-03-07 07:34:10           NaN  \n",
      "2017-03-07 07:34:20           NaN  \n",
      "2017-03-07 07:34:30           NaN  \n",
      "2017-03-07 07:34:40           NaN  \n",
      "2017-03-07 07:34:50           NaN  \n",
      "2017-03-07 07:35:00           NaN  \n",
      "2017-03-07 07:35:10           NaN  \n",
      "2017-03-07 07:35:20           NaN  \n",
      "2017-03-07 07:35:30           NaN  \n",
      "2017-03-07 07:35:40           NaN  \n",
      "2017-03-07 07:35:50           NaN  \n",
      "2017-03-07 07:36:00           NaN  \n",
      "2017-03-07 07:36:10           NaN  \n",
      "2017-03-07 07:36:20           NaN  \n",
      "2017-03-07 07:36:30           NaN  \n",
      "2017-03-07 07:36:40           NaN  \n",
      "2017-03-07 07:36:50           NaN  \n",
      "2017-03-07 07:37:00           NaN  \n",
      "2017-03-07 07:37:10           NaN  \n",
      "2017-03-07 07:37:20           NaN  \n",
      "2017-03-07 07:37:30           NaN  \n",
      "2017-03-07 07:37:40           NaN  \n",
      "2017-03-07 07:37:50           NaN  \n",
      "2017-03-07 07:38:00           NaN  \n",
      "2017-03-07 07:38:10           NaN  \n",
      "2017-03-07 07:38:20           NaN  \n",
      "2017-03-07 07:38:30           NaN  \n",
      "2017-03-07 07:38:40           NaN  \n",
      "2017-03-07 07:38:50           NaN  \n",
      "...                           ...  \n",
      "2017-03-29 18:16:20           NaN  \n",
      "2017-03-29 18:16:30           NaN  \n",
      "2017-03-29 18:16:40           NaN  \n",
      "2017-03-29 18:16:50           NaN  \n",
      "2017-03-29 18:17:00           NaN  \n",
      "2017-03-29 18:17:10           NaN  \n",
      "2017-03-29 18:17:20           NaN  \n",
      "2017-03-29 18:17:30           NaN  \n",
      "2017-03-29 18:17:40           NaN  \n",
      "2017-03-29 18:17:50           NaN  \n",
      "2017-03-29 18:18:00           NaN  \n",
      "2017-03-29 18:18:10           NaN  \n",
      "2017-03-29 18:18:20           NaN  \n",
      "2017-03-29 18:18:30           NaN  \n",
      "2017-03-29 18:18:40           NaN  \n",
      "2017-03-29 18:18:50           NaN  \n",
      "2017-03-29 18:19:00           NaN  \n",
      "2017-03-29 18:19:10           NaN  \n",
      "2017-03-29 18:19:20           NaN  \n",
      "2017-03-29 18:19:30           NaN  \n",
      "2017-03-29 18:19:40           NaN  \n",
      "2017-03-29 18:19:50           NaN  \n",
      "2017-03-29 18:20:00           NaN  \n",
      "2017-03-29 18:20:10           NaN  \n",
      "2017-03-29 18:20:20           NaN  \n",
      "2017-03-29 18:20:30           NaN  \n",
      "2017-03-29 18:20:40           NaN  \n",
      "2017-03-29 18:20:50           NaN  \n",
      "2017-03-29 18:21:00           NaN  \n",
      "2017-03-29 18:21:10           NaN  \n",
      "\n",
      "[193964 rows x 6 columns]\n"
     ]
    }
   ],
   "source": [
    "print(smart[smart_nan])"
   ]
  },
  {
   "cell_type": "code",
   "execution_count": 10,
   "metadata": {},
   "outputs": [],
   "source": [
    "#Then just interpolate\n",
    "#smart_final=smart.interpolate('time')\n",
    "#print(smart_final)"
   ]
  },
  {
   "cell_type": "markdown",
   "metadata": {},
   "source": [
    "# Check if NaNs pop up in whole rows"
   ]
  },
  {
   "cell_type": "code",
   "execution_count": 26,
   "metadata": {},
   "outputs": [
    {
     "data": {
      "image/png": "[encoded data removed]",
      "text/plain": [
       "<matplotlib.figure.Figure at 0x7f3b4668e358>"
      ]
     },
     "metadata": {},
     "output_type": "display_data"
    }
   ],
   "source": [
    "#make ints from NaNs\n",
    "smart_nan=smart_nan*1\n",
    "smart_nan_test = df\n",
    "smart_nan_test = smart_nan_test.rename(index=str, columns={\"Timestamp\":\"datetime\"})\n",
    "smart_nan_test = smart_nan_test.set_index(['datetime'])\n",
    "smart_nan_test = smart_nan_test.resample('10s').mean()\n",
    "smart_nan_test = smart_nan_test.reset_index()\n",
    "smart_nan_test = smart_nan_test.isnull()\n",
    "ax = sns.heatmap(smart_nan_test, cmap='gray_r', yticklabels = 20000, cbar = False)\n",
    "ax.invert_yaxis()\n",
    "plt.savefig('test_nans_vis_sensor_whole.png')\n",
    "plt.show()\n",
    "\n",
    "#make a df where the number of consecutive NaNs in that electricity file are displayed\n",
    "#temp = pd.DataFrame()\n",
    "#temp['temp']=smart_nan.groupby((smart_nan != smart_nan.shift()).cumsum()).transform('size') * smart_nan\n",
    "#print(temp.head())"
   ]
  },
  {
   "cell_type": "code",
   "execution_count": 12,
   "metadata": {},
   "outputs": [
    {
     "ename": "NameError",
     "evalue": "name 'temp' is not defined",
     "output_type": "error",
     "traceback": [
      "\u001b[0;31m---------------------------------------------------------------------------\u001b[0m",
      "\u001b[0;31mNameError\u001b[0m                                 Traceback (most recent call last)",
      "\u001b[0;32m<ipython-input-12-6f81d1a6bb50>\u001b[0m in \u001b[0;36m<module>\u001b[0;34m()\u001b[0m\n\u001b[0;32m----> 1\u001b[0;31m \u001b[0mtemp\u001b[0m\u001b[0;34m.\u001b[0m\u001b[0mto_csv\u001b[0m\u001b[0;34m(\u001b[0m\u001b[0;34m'~/temp.csv'\u001b[0m\u001b[0;34m)\u001b[0m\u001b[0;34m\u001b[0m\u001b[0m\n\u001b[0m",
      "\u001b[0;31mNameError\u001b[0m: name 'temp' is not defined"
     ]
    }
   ],
   "source": [
    "temp.to_csv('~/temp.csv')"
   ]
  },
  {
   "cell_type": "code",
   "execution_count": null,
   "metadata": {},
   "outputs": [],
   "source": [
    "temp.describe()"
   ]
  },
  {
   "cell_type": "markdown",
   "metadata": {},
   "source": [
    "# Creating DF for information from the different files"
   ]
  },
  {
   "cell_type": "code",
   "execution_count": null,
   "metadata": {},
   "outputs": [],
   "source": [
    "#create dataframe to store all information from the different files\n",
    "info_data = pd.DataFrame()\n",
    "info_data = pd.DataFrame(columns={'House_ID','File_size(MB)','Initial_Date','Final_Date','Days','Amount_of_NaNs','Max_Consecutive_NaNs'})\n",
    "#order of column names changed for some reason, line(below) fixes this, although ugly\n",
    "info_data = info_data[['House_ID','File_size(MB)','Initial_Date','Final_Date','Days','Amount_of_NaNs','Max_Consecutive_NaNs']]\n",
    "info_data.loc[len(info_data.index)] = [123123, smart.memory_usage(index=True).sum()/1000000, smart.index[0], smart.index[-1], smart.index[-1]-smart.index[0], 6767, temp['temp'].max()]\n",
    "print(info_data.head())\n",
    "\n",
    "#Where the following things must be changed in order to make it work for the final function (I think): \n",
    "#123123 --> dwelling_id\n",
    "#smart (everywhere) --> replace with df\n",
    "#6767 --> NaN_count for df\n"
   ]
  },
  {
   "cell_type": "code",
   "execution_count": null,
   "metadata": {},
   "outputs": [],
   "source": [
    "smart.isnull().sum()[0]"
   ]
  },
  {
   "cell_type": "code",
   "execution_count": null,
   "metadata": {},
   "outputs": [],
   "source": [
    "#Delete rows with NaN in 'ePower' column\n",
    "smart_final=smart.dropna(subset=['ePower'])\n",
    "smart_final.isnull().sum()"
   ]
  },
  {
   "cell_type": "markdown",
   "metadata": {},
   "source": [
    "# Working with gas dataframe"
   ]
  },
  {
   "cell_type": "code",
   "execution_count": null,
   "metadata": {},
   "outputs": [],
   "source": [
    "#Inspect for NaNs\n",
    "gas_nan=gas.isnull().any(axis=1)\n",
    "print(gas[gas_nan])"
   ]
  },
  {
   "cell_type": "code",
   "execution_count": null,
   "metadata": {},
   "outputs": [],
   "source": [
    "#Interpolate\n",
    "gas_final = gas.resample('10s').interpolate(method='time')\n",
    "# Create a ''gasPower'' column. This equals the gas used in that hour\n",
    "gas_final['gasPower'] = gas_final['gasMeter'].diff()\n",
    "# First entry is NaN, replace NaN by second entry\n",
    "gas_final['gasPower'][0] = gas_final['gasPower'][1]\n",
    "print(gas_final)"
   ]
  },
  {
   "cell_type": "code",
   "execution_count": null,
   "metadata": {},
   "outputs": [],
   "source": [
    "#Fit datetimes\n",
    "#gas_selected=gas_final.ix[smart_final.index[0]:gas_final.index[-1]]\n",
    "#print(gas_selected)"
   ]
  },
  {
   "cell_type": "code",
   "execution_count": null,
   "metadata": {},
   "outputs": [],
   "source": [
    "# Gas datetime ends at 23:00:00 (at least in this specific file) and Electricity date time ends at 23:59:50 so\n",
    "# when merging final DateTime will be 23:00:00\n",
    "df = pd.merge(smart_final,gas_final,left_index=True, right_index=True)"
   ]
  },
  {
   "cell_type": "code",
   "execution_count": null,
   "metadata": {},
   "outputs": [],
   "source": [
    "print(df)"
   ]
  },
  {
   "cell_type": "code",
   "execution_count": null,
   "metadata": {},
   "outputs": [],
   "source": []
  }
 ],
 "metadata": {
  "kernelspec": {
   "display_name": "Python 3",
   "language": "python",
   "name": "python3"
  },
  "language_info": {
   "codemirror_mode": {
    "name": "ipython",
    "version": 3
   },
   "file_extension": ".py",
   "mimetype": "text/x-python",
   "name": "python",
   "nbconvert_exporter": "python",
   "pygments_lexer": "ipython3",
   "version": "3.6.1"
  }
 },
 "nbformat": 4,
 "nbformat_minor": 2
}
