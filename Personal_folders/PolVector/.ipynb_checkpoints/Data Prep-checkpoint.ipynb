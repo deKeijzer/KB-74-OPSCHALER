{
 "cells": [
  {
   "cell_type": "code",
   "execution_count": 2,
   "metadata": {},
   "outputs": [],
   "source": [
    "import pandas as pd\n",
    "import numpy as np\n",
    "import matplotlib.pyplot as plt"
   ]
  },
  {
   "cell_type": "code",
   "execution_count": 3,
   "metadata": {},
   "outputs": [],
   "source": [
    "#def load_data():\n",
    "global smart\n",
    "global gas\n",
    "global weather\n",
    "df =pd.read_csv(\"/datc/opschaler/smartmeter_data/P01S01W0373.csv\",header=0,delimiter=\";\",parse_dates=['Timestamp', 'gasTimestamp'])\n",
    "\n",
    "# Split the smartmeter and gasmeter data\n",
    "smart = df.iloc[:,:7]\n",
    "gas = df.iloc[:, 7:]"
   ]
  },
  {
   "cell_type": "code",
   "execution_count": 4,
   "metadata": {},
   "outputs": [
    {
     "data": {
      "text/html": [
       "<div>\n",
       "<style>\n",
       "    .dataframe thead tr:only-child th {\n",
       "        text-align: right;\n",
       "    }\n",
       "\n",
       "    .dataframe thead th {\n",
       "        text-align: left;\n",
       "    }\n",
       "\n",
       "    .dataframe tbody tr th {\n",
       "        vertical-align: top;\n",
       "    }\n",
       "</style>\n",
       "<table border=\"1\" class=\"dataframe\">\n",
       "  <thead>\n",
       "    <tr style=\"text-align: right;\">\n",
       "      <th></th>\n",
       "      <th>Timestamp</th>\n",
       "      <th>eMeter</th>\n",
       "      <th>eMeterReturn</th>\n",
       "      <th>eMeterLow</th>\n",
       "      <th>eMeterLowReturn</th>\n",
       "      <th>ePower</th>\n",
       "      <th>ePowerReturn</th>\n",
       "    </tr>\n",
       "  </thead>\n",
       "  <tbody>\n",
       "    <tr>\n",
       "      <th>0</th>\n",
       "      <td>2017-03-07 07:34:08</td>\n",
       "      <td>3673.459</td>\n",
       "      <td>0.0</td>\n",
       "      <td>4072.481</td>\n",
       "      <td>0.0</td>\n",
       "      <td>89.0</td>\n",
       "      <td>0.0</td>\n",
       "    </tr>\n",
       "    <tr>\n",
       "      <th>1</th>\n",
       "      <td>2017-03-07 07:34:18</td>\n",
       "      <td>3673.459</td>\n",
       "      <td>0.0</td>\n",
       "      <td>4072.481</td>\n",
       "      <td>0.0</td>\n",
       "      <td>87.0</td>\n",
       "      <td>0.0</td>\n",
       "    </tr>\n",
       "    <tr>\n",
       "      <th>2</th>\n",
       "      <td>2017-03-07 07:34:28</td>\n",
       "      <td>3673.460</td>\n",
       "      <td>0.0</td>\n",
       "      <td>4072.481</td>\n",
       "      <td>0.0</td>\n",
       "      <td>89.0</td>\n",
       "      <td>0.0</td>\n",
       "    </tr>\n",
       "    <tr>\n",
       "      <th>3</th>\n",
       "      <td>2017-03-07 07:34:37</td>\n",
       "      <td>3673.460</td>\n",
       "      <td>0.0</td>\n",
       "      <td>4072.481</td>\n",
       "      <td>0.0</td>\n",
       "      <td>89.0</td>\n",
       "      <td>0.0</td>\n",
       "    </tr>\n",
       "    <tr>\n",
       "      <th>4</th>\n",
       "      <td>2017-03-07 07:34:47</td>\n",
       "      <td>3673.460</td>\n",
       "      <td>0.0</td>\n",
       "      <td>4072.481</td>\n",
       "      <td>0.0</td>\n",
       "      <td>203.0</td>\n",
       "      <td>0.0</td>\n",
       "    </tr>\n",
       "  </tbody>\n",
       "</table>\n",
       "</div>"
      ],
      "text/plain": [
       "            Timestamp    eMeter  eMeterReturn  eMeterLow  eMeterLowReturn  \\\n",
       "0 2017-03-07 07:34:08  3673.459           0.0   4072.481              0.0   \n",
       "1 2017-03-07 07:34:18  3673.459           0.0   4072.481              0.0   \n",
       "2 2017-03-07 07:34:28  3673.460           0.0   4072.481              0.0   \n",
       "3 2017-03-07 07:34:37  3673.460           0.0   4072.481              0.0   \n",
       "4 2017-03-07 07:34:47  3673.460           0.0   4072.481              0.0   \n",
       "\n",
       "   ePower  ePowerReturn  \n",
       "0    89.0           0.0  \n",
       "1    87.0           0.0  \n",
       "2    89.0           0.0  \n",
       "3    89.0           0.0  \n",
       "4   203.0           0.0  "
      ]
     },
     "execution_count": 4,
     "metadata": {},
     "output_type": "execute_result"
    }
   ],
   "source": [
    "smart.head()"
   ]
  },
  {
   "cell_type": "code",
   "execution_count": 5,
   "metadata": {},
   "outputs": [],
   "source": [
    "#load_data()\n",
    "\n",
    "# Change all datetime columns to the same column name\n",
    "smart = smart.rename(index=str, columns={\"Timestamp\":\"datetime\"})\n",
    "gas = gas.rename(index=str, columns={\"gasTimestamp\":\"datetime\"})\n",
    "\n",
    "#df = df[['datetime', 'eMeter', 'eMeterLow', 'ePower', 'gasMeter', 'T', 'Q']]\n",
    "#df = df[['datetime', 'eMeter', 'eMeterLow', 'ePower', 'gasMeter']]\n",
    "smart.head()\n",
    "\n",
    "# Set datetime as index\n",
    "smart = smart.set_index(['datetime'])\n",
    "gas = gas.set_index(['datetime'])"
   ]
  },
  {
   "cell_type": "code",
   "execution_count": 6,
   "metadata": {},
   "outputs": [
    {
     "data": {
      "text/plain": [
       "eMeter             0\n",
       "eMeterReturn       0\n",
       "eMeterLow          0\n",
       "eMeterLowReturn    0\n",
       "ePower             0\n",
       "ePowerReturn       0\n",
       "dtype: int64"
      ]
     },
     "execution_count": 6,
     "metadata": {},
     "output_type": "execute_result"
    }
   ],
   "source": [
    "smart.isnull().sum()"
   ]
  },
  {
   "cell_type": "code",
   "execution_count": 7,
   "metadata": {},
   "outputs": [],
   "source": [
    "\"\"\"\n",
    "Resample the dataframes to 10s intervals.\n",
    "https://pandas.pydata.org/pandas-docs/stable/generated/pandas.DataFrame.resample.html\n",
    "https://pandas.pydata.org/pandas-docs/stable/generated/pandas.DataFrame.interpolate.html#pandas.DataFrame.interpolate\n",
    "\"\"\"\n",
    "smart = smart.resample('10s').mean()\n",
    "gas = gas.resample('H').mean() # Does not look nice, but it works"
   ]
  },
  {
   "cell_type": "code",
   "execution_count": 8,
   "metadata": {},
   "outputs": [
    {
     "data": {
      "text/plain": [
       "eMeter             8566\n",
       "eMeterReturn       8566\n",
       "eMeterLow          8566\n",
       "eMeterLowReturn    8566\n",
       "ePower             8566\n",
       "ePowerReturn       8566\n",
       "dtype: int64"
      ]
     },
     "execution_count": 8,
     "metadata": {},
     "output_type": "execute_result"
    }
   ],
   "source": [
    "smart.isnull().sum()"
   ]
  },
  {
   "cell_type": "code",
   "execution_count": 9,
   "metadata": {},
   "outputs": [
    {
     "name": "stdout",
     "output_type": "stream",
     "text": [
      "10.861984\n"
     ]
    }
   ],
   "source": [
    "print(smart.memory_usage(index=True).sum()/1000000)"
   ]
  },
  {
   "cell_type": "code",
   "execution_count": 10,
   "metadata": {},
   "outputs": [
    {
     "data": {
      "text/html": [
       "<div>\n",
       "<style>\n",
       "    .dataframe thead tr:only-child th {\n",
       "        text-align: right;\n",
       "    }\n",
       "\n",
       "    .dataframe thead th {\n",
       "        text-align: left;\n",
       "    }\n",
       "\n",
       "    .dataframe tbody tr th {\n",
       "        vertical-align: top;\n",
       "    }\n",
       "</style>\n",
       "<table border=\"1\" class=\"dataframe\">\n",
       "  <thead>\n",
       "    <tr style=\"text-align: right;\">\n",
       "      <th></th>\n",
       "      <th>gasMeter</th>\n",
       "    </tr>\n",
       "    <tr>\n",
       "      <th>datetime</th>\n",
       "      <th></th>\n",
       "    </tr>\n",
       "  </thead>\n",
       "  <tbody>\n",
       "    <tr>\n",
       "      <th>2017-03-07 07:00:00</th>\n",
       "      <td>4419.052</td>\n",
       "    </tr>\n",
       "    <tr>\n",
       "      <th>2017-03-07 08:00:00</th>\n",
       "      <td>4419.060</td>\n",
       "    </tr>\n",
       "    <tr>\n",
       "      <th>2017-03-07 09:00:00</th>\n",
       "      <td>4419.120</td>\n",
       "    </tr>\n",
       "    <tr>\n",
       "      <th>2017-03-07 10:00:00</th>\n",
       "      <td>4419.120</td>\n",
       "    </tr>\n",
       "    <tr>\n",
       "      <th>2017-03-07 11:00:00</th>\n",
       "      <td>4419.120</td>\n",
       "    </tr>\n",
       "  </tbody>\n",
       "</table>\n",
       "</div>"
      ],
      "text/plain": [
       "                     gasMeter\n",
       "datetime                     \n",
       "2017-03-07 07:00:00  4419.052\n",
       "2017-03-07 08:00:00  4419.060\n",
       "2017-03-07 09:00:00  4419.120\n",
       "2017-03-07 10:00:00  4419.120\n",
       "2017-03-07 11:00:00  4419.120"
      ]
     },
     "execution_count": 10,
     "metadata": {},
     "output_type": "execute_result"
    }
   ],
   "source": [
    "gas.head()"
   ]
  },
  {
   "cell_type": "markdown",
   "metadata": {},
   "source": [
    "# Working with electricity dataframe"
   ]
  },
  {
   "cell_type": "code",
   "execution_count": 17,
   "metadata": {},
   "outputs": [],
   "source": [
    "#These columns should be created in the end: column_names = ['House_ID','Amount_of_NaNs','Max_consecutive_NaNs', 'Interpolated','Days','File_size','Usable']\n",
    "#Create a df to store max consecutive NaNs\n",
    "info_data = pd.DataFrame(columns={'House_ID','File_size','Initial_Date','Final_Date','Days','Amount_of_NaNs','Max_Consecutive_NaNs'})\n",
    "tempstring = 'P0123423.csv'\n",
    "\n",
    "def extract_info(df,dwelling_id='test.csv'):\n",
    "\n",
    "    \n",
    "    #Process info to get max gap size\n",
    "    df_nan=df.isnull().any(axis=1)*1\n",
    "    temp = pd.DataFrame()\n",
    "    temp['temp']=df_nan.groupby((df_nan != df_nan.shift()).cumsum()).transform('size') * df_nan\n",
    "    max_gap=temp['temp'].max()\n",
    "    \n",
    "    \n",
    "    #Extract information about dates and number of NaNs\n",
    "    initial_date_string= df.index[0].strftime('%Y-%m-%d %H:%M:%S')\n",
    "    final_date_string= df.index[-1].strftime('%Y-%m-%d %H:%M:%S')\n",
    "    days=df.index[-1]-df.index[0]\n",
    "    NaN_count=df.isnull().sum()[0]\n",
    "    \n",
    "    #Append all information to the global info_data dataframe\n",
    "    info_data.loc[len(info_data.index)] = [dwelling_id, df.memory_usage(index=True).sum()/1000000, initial_date_string, final_date_string, days, NaN_count, max_gap]\n",
    "    \n",
    "\n",
    "extract_info(smart)\n",
    "print(info_data)"
   ]
  },
  {
   "cell_type": "code",
   "execution_count": null,
   "metadata": {},
   "outputs": [],
   "source": [
    "#Delete rows with NaN in 'ePower' column\n",
    "smart_final=smart.dropna(subset=['ePower'])\n",
    "smart_final.isnull().sum()"
   ]
  },
  {
   "cell_type": "markdown",
   "metadata": {},
   "source": [
    "# Working with gas dataframe"
   ]
  },
  {
   "cell_type": "code",
   "execution_count": null,
   "metadata": {},
   "outputs": [],
   "source": [
    "#Inspect for NaNs\n",
    "gas_nan=gas.isnull().any(axis=1)\n",
    "print(gas[gas_nan])"
   ]
  },
  {
   "cell_type": "code",
   "execution_count": null,
   "metadata": {},
   "outputs": [],
   "source": [
    "#Interpolate\n",
    "gas_final = gas.resample('10s').interpolate(method='time')\n",
    "# Create a ''gasPower'' column. This equals the gas used in that hour\n",
    "gas_final['gasPower'] = gas_final['gasMeter'].diff()\n",
    "# First entry is NaN, replace NaN by second entry\n",
    "gas_final['gasPower'][0] = gas_final['gasPower'][1]\n",
    "print(gas_final)"
   ]
  },
  {
   "cell_type": "code",
   "execution_count": null,
   "metadata": {},
   "outputs": [],
   "source": [
    "#Fit datetimes\n",
    "#gas_selected=gas_final.ix[smart_final.index[0]:gas_final.index[-1]]\n",
    "#print(gas_selected)"
   ]
  },
  {
   "cell_type": "code",
   "execution_count": null,
   "metadata": {},
   "outputs": [],
   "source": [
    "# Gas datetime ends at 23:00:00 (at least in this specific file) and Electricity date time ends at 23:59:50 so\n",
    "# when merging final DateTime will be 23:00:00\n",
    "df = pd.merge(smart_final,gas_final,left_index=True, right_index=True)"
   ]
  },
  {
   "cell_type": "code",
   "execution_count": null,
   "metadata": {},
   "outputs": [],
   "source": [
    "print(df)"
   ]
  },
  {
   "cell_type": "code",
   "execution_count": null,
   "metadata": {},
   "outputs": [],
   "source": []
  }
 ],
 "metadata": {
  "kernelspec": {
   "display_name": "Python 3",
   "language": "python",
   "name": "python3"
  },
  "language_info": {
   "codemirror_mode": {
    "name": "ipython",
    "version": 3
   },
   "file_extension": ".py",
   "mimetype": "text/x-python",
   "name": "python",
   "nbconvert_exporter": "python",
   "pygments_lexer": "ipython3",
   "version": "3.6.1"
  }
 },
 "nbformat": 4,
 "nbformat_minor": 2
}
