{
 "cells": [
  {
   "cell_type": "code",
   "execution_count": 1,
   "metadata": {},
   "outputs": [],
   "source": [
    "import pandas as pd\n",
    "import numpy as np\n",
    "import matplotlib.pyplot as plt\n",
    "import seaborn as sns"
   ]
  },
  {
   "cell_type": "code",
   "execution_count": 7,
   "metadata": {},
   "outputs": [],
   "source": [
    "df =pd.read_csv(\"/datc/opschaler/smartmeter_data/export_P01S01W5339.csv\",header=0,delimiter=\";\",parse_dates=['Timestamp', 'gasTimestamp'])"
   ]
  },
  {
   "cell_type": "code",
   "execution_count": null,
   "metadata": {},
   "outputs": [],
   "source": [
    "def plotnans (df):\n",
    "    df = df.rename(index=str, columns={\"Timestamp\":\"datetime\"})\n",
    "    df = df.set_index(['datetime'])\n",
    "    df = df.resample('10s').mean()\n",
    "    df = df.reset_index()\n",
    "    df = df.isnull() \n",
    "    #ticks = round(int(len(df)*0.1) /10000)\n",
    "    fig = sns.heatmap(df, cmap='gray_r', yticklabels = 100000, cbar = False)\n",
    "    fig.invert_yaxis()\n",
    "    fig.set(xlabel='Column [-]', ylabel='Index [-]')\n",
    "    plt.title('Dwelling ID: P01S01W5339')\n",
    "    fig = fig.get_figure()\n",
    "    plt.savefig('test_nans_vis_sensor_whole_5339.png')\n",
    "    return fig\n",
    "\n",
    "plotnans(df)\n",
    "#need to save fig using dwelling id\n",
    "#See loading_combining_smart_gas_weather_generalized at def save_df how to do so"
   ]
  },
  {
   "cell_type": "code",
   "execution_count": null,
   "metadata": {},
   "outputs": [],
   "source": []
  }
 ],
 "metadata": {
  "kernelspec": {
   "display_name": "Python 3",
   "language": "python",
   "name": "python3"
  },
  "language_info": {
   "codemirror_mode": {
    "name": "ipython",
    "version": 3
   },
   "file_extension": ".py",
   "mimetype": "text/x-python",
   "name": "python",
   "nbconvert_exporter": "python",
   "pygments_lexer": "ipython3",
   "version": "3.6.1"
  }
 },
 "nbformat": 4,
 "nbformat_minor": 2
}
