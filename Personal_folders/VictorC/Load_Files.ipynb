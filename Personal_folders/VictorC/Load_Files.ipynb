{
 "cells": [
  {
   "cell_type": "markdown",
   "metadata": {},
   "source": [
    "# Basic imports\n",
    "TODO: Do all this PER FILE"
   ]
  },
  {
   "cell_type": "code",
   "execution_count": 15,
   "metadata": {},
   "outputs": [],
   "source": [
    "import pandas as pd\n",
    "import numpy as np\n",
    "import glob"
   ]
  },
  {
   "cell_type": "markdown",
   "metadata": {},
   "source": [
    "# Defining functions"
   ]
  },
  {
   "cell_type": "code",
   "execution_count": 16,
   "metadata": {},
   "outputs": [],
   "source": [
    "def clean_datetime(df):\n",
    "    \"\"\"\n",
    "    Input should be a df with a column called 'datetime'.\n",
    "    This function checks wether a row in the df.datetime column can be parsed to a pandas datetime object,\n",
    "    by trying pd.to_datetime() on it.\n",
    "    If it fails it will replace that row with np.nan().\n",
    "    Finally this function will return the df with the NaN rows dropped.\n",
    "    It only drops the row if the datetime column contains a NaN.\n",
    "    \"\"\"\n",
    "    for i in range(len(df)):\n",
    "        try:\n",
    "            pd.to_datetime(df.datetime[i])\n",
    "        except ValueError:\n",
    "            print('-----')\n",
    "            print('ValueError at index = %s' % i)\n",
    "            print(df.datetime[i])\n",
    "            df.datetime = df.datetime.replace(df.datetime[i], np.nan)\n",
    "    df = df.dropna(subset = ['datetime'])\n",
    "    return df"
   ]
  },
  {
   "cell_type": "markdown",
   "metadata": {},
   "source": [
    "# Importing weather df\n",
    "The weather df has been cleaned already in brian/KNMI."
   ]
  },
  {
   "cell_type": "code",
   "execution_count": 17,
   "metadata": {},
   "outputs": [
    {
     "data": {
      "text/html": [
       "<div>\n",
       "<style>\n",
       "    .dataframe thead tr:only-child th {\n",
       "        text-align: right;\n",
       "    }\n",
       "\n",
       "    .dataframe thead th {\n",
       "        text-align: left;\n",
       "    }\n",
       "\n",
       "    .dataframe tbody tr th {\n",
       "        vertical-align: top;\n",
       "    }\n",
       "</style>\n",
       "<table border=\"1\" class=\"dataframe\">\n",
       "  <thead>\n",
       "    <tr style=\"text-align: right;\">\n",
       "      <th></th>\n",
       "      <th>DD</th>\n",
       "      <th>DR</th>\n",
       "      <th>FF</th>\n",
       "      <th>FX</th>\n",
       "      <th>N</th>\n",
       "      <th>P</th>\n",
       "      <th>Q</th>\n",
       "      <th>RG</th>\n",
       "      <th>SQ</th>\n",
       "      <th>T</th>\n",
       "      <th>T10</th>\n",
       "      <th>TD</th>\n",
       "      <th>U</th>\n",
       "      <th>VV</th>\n",
       "      <th>WW</th>\n",
       "    </tr>\n",
       "    <tr>\n",
       "      <th>datetime</th>\n",
       "      <th></th>\n",
       "      <th></th>\n",
       "      <th></th>\n",
       "      <th></th>\n",
       "      <th></th>\n",
       "      <th></th>\n",
       "      <th></th>\n",
       "      <th></th>\n",
       "      <th></th>\n",
       "      <th></th>\n",
       "      <th></th>\n",
       "      <th></th>\n",
       "      <th></th>\n",
       "      <th></th>\n",
       "      <th></th>\n",
       "    </tr>\n",
       "  </thead>\n",
       "  <tbody>\n",
       "    <tr>\n",
       "      <th>2015-01-01 00:20:00</th>\n",
       "      <td>200.700000</td>\n",
       "      <td>0.0</td>\n",
       "      <td>4.970000</td>\n",
       "      <td>6.900</td>\n",
       "      <td>0.0</td>\n",
       "      <td>1033.900000</td>\n",
       "      <td>0.0</td>\n",
       "      <td>0.0</td>\n",
       "      <td>0.0</td>\n",
       "      <td>3.200000</td>\n",
       "      <td>2.300000</td>\n",
       "      <td>1.000000</td>\n",
       "      <td>85.0</td>\n",
       "      <td>3650.000000</td>\n",
       "      <td>10.0</td>\n",
       "    </tr>\n",
       "    <tr>\n",
       "      <th>2015-01-01 00:20:10</th>\n",
       "      <td>200.838333</td>\n",
       "      <td>0.0</td>\n",
       "      <td>4.967833</td>\n",
       "      <td>6.899</td>\n",
       "      <td>0.0</td>\n",
       "      <td>1033.906667</td>\n",
       "      <td>0.0</td>\n",
       "      <td>0.0</td>\n",
       "      <td>0.0</td>\n",
       "      <td>3.198333</td>\n",
       "      <td>2.296667</td>\n",
       "      <td>0.998333</td>\n",
       "      <td>85.0</td>\n",
       "      <td>3641.683333</td>\n",
       "      <td>10.0</td>\n",
       "    </tr>\n",
       "    <tr>\n",
       "      <th>2015-01-01 00:20:20</th>\n",
       "      <td>200.976667</td>\n",
       "      <td>0.0</td>\n",
       "      <td>4.965667</td>\n",
       "      <td>6.898</td>\n",
       "      <td>0.0</td>\n",
       "      <td>1033.913333</td>\n",
       "      <td>0.0</td>\n",
       "      <td>0.0</td>\n",
       "      <td>0.0</td>\n",
       "      <td>3.196667</td>\n",
       "      <td>2.293333</td>\n",
       "      <td>0.996667</td>\n",
       "      <td>85.0</td>\n",
       "      <td>3633.366667</td>\n",
       "      <td>10.0</td>\n",
       "    </tr>\n",
       "    <tr>\n",
       "      <th>2015-01-01 00:20:30</th>\n",
       "      <td>201.115000</td>\n",
       "      <td>0.0</td>\n",
       "      <td>4.963500</td>\n",
       "      <td>6.897</td>\n",
       "      <td>0.0</td>\n",
       "      <td>1033.920000</td>\n",
       "      <td>0.0</td>\n",
       "      <td>0.0</td>\n",
       "      <td>0.0</td>\n",
       "      <td>3.195000</td>\n",
       "      <td>2.290000</td>\n",
       "      <td>0.995000</td>\n",
       "      <td>85.0</td>\n",
       "      <td>3625.050000</td>\n",
       "      <td>10.0</td>\n",
       "    </tr>\n",
       "    <tr>\n",
       "      <th>2015-01-01 00:20:40</th>\n",
       "      <td>201.253333</td>\n",
       "      <td>0.0</td>\n",
       "      <td>4.961333</td>\n",
       "      <td>6.896</td>\n",
       "      <td>0.0</td>\n",
       "      <td>1033.926667</td>\n",
       "      <td>0.0</td>\n",
       "      <td>0.0</td>\n",
       "      <td>0.0</td>\n",
       "      <td>3.193333</td>\n",
       "      <td>2.286667</td>\n",
       "      <td>0.993333</td>\n",
       "      <td>85.0</td>\n",
       "      <td>3616.733333</td>\n",
       "      <td>10.0</td>\n",
       "    </tr>\n",
       "  </tbody>\n",
       "</table>\n",
       "</div>"
      ],
      "text/plain": [
       "                             DD   DR        FF     FX    N            P    Q  \\\n",
       "datetime                                                                       \n",
       "2015-01-01 00:20:00  200.700000  0.0  4.970000  6.900  0.0  1033.900000  0.0   \n",
       "2015-01-01 00:20:10  200.838333  0.0  4.967833  6.899  0.0  1033.906667  0.0   \n",
       "2015-01-01 00:20:20  200.976667  0.0  4.965667  6.898  0.0  1033.913333  0.0   \n",
       "2015-01-01 00:20:30  201.115000  0.0  4.963500  6.897  0.0  1033.920000  0.0   \n",
       "2015-01-01 00:20:40  201.253333  0.0  4.961333  6.896  0.0  1033.926667  0.0   \n",
       "\n",
       "                      RG   SQ         T       T10        TD     U  \\\n",
       "datetime                                                            \n",
       "2015-01-01 00:20:00  0.0  0.0  3.200000  2.300000  1.000000  85.0   \n",
       "2015-01-01 00:20:10  0.0  0.0  3.198333  2.296667  0.998333  85.0   \n",
       "2015-01-01 00:20:20  0.0  0.0  3.196667  2.293333  0.996667  85.0   \n",
       "2015-01-01 00:20:30  0.0  0.0  3.195000  2.290000  0.995000  85.0   \n",
       "2015-01-01 00:20:40  0.0  0.0  3.193333  2.286667  0.993333  85.0   \n",
       "\n",
       "                              VV    WW  \n",
       "datetime                                \n",
       "2015-01-01 00:20:00  3650.000000  10.0  \n",
       "2015-01-01 00:20:10  3641.683333  10.0  \n",
       "2015-01-01 00:20:20  3633.366667  10.0  \n",
       "2015-01-01 00:20:30  3625.050000  10.0  \n",
       "2015-01-01 00:20:40  3616.733333  10.0  "
      ]
     },
     "execution_count": 17,
     "metadata": {},
     "output_type": "execute_result"
    }
   ],
   "source": [
    "weather=pd.read_csv('//datc//opschaler//weather_data//weather.csv',delimiter='\\t',comment='#',parse_dates=['datetime'])\n",
    "weather=weather.set_index(['datetime'])\n",
    "weather.head()"
   ]
  },
  {
   "cell_type": "markdown",
   "metadata": {},
   "source": [
    "# Import the smartmeter & gas data"
   ]
  },
  {
   "cell_type": "code",
   "execution_count": 4,
   "metadata": {},
   "outputs": [],
   "source": [
    "#READING ALL EXCELS\n",
    "path='/datc/opschaler/smartmeter_data'\n",
    "filenames = glob.glob(path + \"/*.csv\")"
   ]
  },
  {
   "cell_type": "markdown",
   "metadata": {},
   "source": [
    "# Clean & prepare the dfs\n",
    "Clean & prepare the dfs for resampling and merging."
   ]
  },
  {
   "cell_type": "code",
   "execution_count": 5,
   "metadata": {},
   "outputs": [
    {
     "name": "stdout",
     "output_type": "stream",
     "text": [
      "-----\n",
      "ValueError at index = 179023\n",
      "<br />\n",
      "-----\n",
      "ValueError at index = 179024\n",
      "<b>Fatal error</b>:  Allowed memory size of 134217728 bytes exhausted (tried to allocate 32 bytes) in <b>D:\\wamp\\www\\opschaler\\downloaddata.php</b> on line <b>21</b><br />\n",
      "-----FINISHED-----\n"
     ]
    }
   ],
   "source": [
    "dfs_smart=[]\n",
    "dfs_gas=[]\n",
    "\n",
    "for f in filenames:\n",
    "    df = pd.read_csv(f,delimiter=';',header=0)\n",
    "    \n",
    "    smart=df.iloc[:,:7]\n",
    "    gas=df.iloc[:,7:]\n",
    "    \n",
    "    smart = smart.rename(index=str,columns={\"Timestamp\":\"datetime\"})\n",
    "    gas = gas.rename(index=str,columns={\"gasTimestamp\":\"datetime\"})\n",
    "\n",
    "    smart = clean_datetime(smart)\n",
    "    gas = clean_datetime(gas)\n",
    "    \n",
    "    smart['datetime'] = pd.to_datetime(smart['datetime'])\n",
    "    gas['datetime'] = pd.to_datetime(gas['datetime'])\n",
    "\n",
    "    \n",
    "    smart=smart.set_index(['datetime'])\n",
    "    gas=gas.set_index(['datetime'])\n",
    "    \n",
    "    dfs_smart.append(smart)\n",
    "    dfs_gas.append(gas)\n",
    "\n",
    "print('-----FINISHED-----')"
   ]
  },
  {
   "cell_type": "markdown",
   "metadata": {},
   "source": [
    "# Resample the dfs"
   ]
  },
  {
   "cell_type": "code",
   "execution_count": 8,
   "metadata": {},
   "outputs": [],
   "source": [
    "dfs_smart_resampled = []\n",
    "dfs_gas_resampled = []\n",
    "\n",
    "for smart in dfs_smart:\n",
    "    smart = smart.resample('10s').mean()\n",
    "    dfs_smart_resampled.append(smart)\n",
    "\n",
    "    \n",
    "for gas in dfs_gas:\n",
    "    gas = gas.resample('H').mean()\n",
    "    gas = gas.resample('10s').interpolate(method='time')\n",
    "    \n",
    "    gas['gasPower'] = gas['gasMeter'].diff()\n",
    "    #gas['gasPower'][0] = gas['gasPower'][1]\n",
    "    \n",
    "    dfs_gas_resampled.append(gas)"
   ]
  },
  {
   "cell_type": "markdown",
   "metadata": {},
   "source": [
    "# Merge the dfs"
   ]
  },
  {
   "cell_type": "code",
   "execution_count": 9,
   "metadata": {},
   "outputs": [],
   "source": [
    "dfs_merged = []\n",
    "\n",
    "for i in range(len(dfs_smart_resampled)):\n",
    "    smart = dfs_smart_resampled[i]\n",
    "    gas = dfs_gas_resampled[i]\n",
    "\n",
    "    df = pd.merge(smart, gas, left_index=True, right_index=True)\n",
    "    df = pd.merge(df, weather, left_index=True, right_index=True)\n",
    "    dfs_merged.append(df)"
   ]
  },
  {
   "cell_type": "markdown",
   "metadata": {},
   "source": [
    "# Prepare for saving the dfs"
   ]
  },
  {
   "cell_type": "code",
   "execution_count": 12,
   "metadata": {},
   "outputs": [
    {
     "data": {
      "text/plain": [
       "['P02S01W0998', 'P01S01W0373', 'P01S01W0378', 'P01S01W1270']"
      ]
     },
     "execution_count": 12,
     "metadata": {},
     "output_type": "execute_result"
    }
   ],
   "source": [
    "\"\"\"\n",
    "Finally save the merged dataframes to dir/dwelling_id.csv\n",
    "\"\"\"\n",
    "dwelling_ids = []\n",
    "\n",
    "for id in filenames:\n",
    "    dwelling_ids.append(id[-15:-4])\n",
    "\n",
    "dwelling_ids"
   ]
  },
  {
   "cell_type": "markdown",
   "metadata": {},
   "source": [
    "# Save the combined dataframes"
   ]
  },
  {
   "cell_type": "code",
   "execution_count": 13,
   "metadata": {},
   "outputs": [],
   "source": [
    "dir = '//datc//opschaler//combined_dfs_gas_smart_weather//'\n",
    "\n",
    "for i,df in enumerate(dfs_merged):\n",
    "    dwelling_id = dwelling_ids[i]\n",
    "    df.to_csv(dir+dwelling_id+'_merged_gas_smart_weather.csv', sep='\\t', index=True)"
   ]
  },
  {
   "cell_type": "code",
   "execution_count": null,
   "metadata": {},
   "outputs": [],
   "source": []
  }
 ],
 "metadata": {
  "kernelspec": {
   "display_name": "Python 3",
   "language": "python",
   "name": "python3"
  },
  "language_info": {
   "codemirror_mode": {
    "name": "ipython",
    "version": 3
   },
   "file_extension": ".py",
   "mimetype": "text/x-python",
   "name": "python",
   "nbconvert_exporter": "python",
   "pygments_lexer": "ipython3",
   "version": "3.6.1"
  }
 },
 "nbformat": 4,
 "nbformat_minor": 2
}
