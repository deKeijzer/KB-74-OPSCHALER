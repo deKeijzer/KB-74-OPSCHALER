{
 "cells": [
  {
   "cell_type": "code",
   "execution_count": 94,
   "metadata": {},
   "outputs": [],
   "source": [
    "#HERE YOU FIND ALL THE LIBRARYS FOR THIS NOTEBOOK\n",
<<<<<<< HEAD
    "%matplotlib inline\n",
=======
>>>>>>> fd99a7be00e3c9a0c47da8ad00d07df942a759d1
    "import pandas as pd\n",
    "import numpy as np \n",
    "from sklearn.preprocessing import LabelEncoder, OneHotEncoder\n",
    "\n",
    "from sklearn.model_selection import train_test_split\n",
    "import matplotlib.pyplot as plt\n",
    "from sklearn.preprocessing import StandardScaler\n",
    "\n",
    "import keras\n",
    "from keras.models import Sequential\n",
    "from keras.layers import Dense\n",
    "from keras.callbacks import EarlyStopping\n",
    "from livelossplot import PlotLossesKeras\n",
    "\n",
    "#this librarys are for the gpu usage\n",
    "import tensorflow as tf\n",
    "from keras.utils.training_utils import multi_gpu_model\n",
    "from tensorflow.python.client import device_lib"
   ]
  },
  {
   "cell_type": "code",
   "execution_count": 95,
   "metadata": {},
   "outputs": [
    {
     "name": "stdout",
     "output_type": "stream",
     "text": [
      "Amount of GPUs available: 4\n"
     ]
    }
   ],
   "source": [
    "\"\"\"\n",
    "Setup multi GPU usage\n",
    "\n",
    "Example usage:\n",
    "model = Sequential()\n",
    "...\n",
    "multi_model = multi_gpu_model(model, gpus=num_gpu)\n",
    "multi_model.fit()\n",
    "\n",
    "About memory usage:\n",
    "https://stackoverflow.com/questions/34199233/how-to-prevent-tensorflow-from-allocating-the-totality-of-a-gpu-memory\n",
    "\"\"\"\n",
    "\n",
    "# IMPORTANT: Tells tf to not occupy a specific amount of memory\n",
    "from keras.backend.tensorflow_backend import set_session  \n",
    "config = tf.ConfigProto()  \n",
    "config.gpu_options.allow_growth = True  # dynamically grow the memory used on the GPU  \n",
    "sess = tf.Session(config=config)  \n",
    "set_session(sess)  # set this TensorFlow session as the default session for Keras.\n",
    "\n",
    "\n",
    "# getting the number of GPUs \n",
    "def get_available_gpus():\n",
    "   local_device_protos = device_lib.list_local_devices()\n",
    "   return [x.name for x in local_device_protos if x.device_type    == 'GPU']\n",
    "num_gpu = len(get_available_gpus())\n",
    "print('Amount of GPUs available: %s' % num_gpu)"
   ]
  },
  {
   "cell_type": "code",
   "execution_count": 96,
   "metadata": {},
   "outputs": [],
   "source": [
    "#SELECT THE DATA TO USE\n",
    "df = pd.read_csv('//datc//opschaler//combined_gas_smart_weather_dfs//processed//all_dwellings_combined_hour.csv', delimiter='\\t', parse_dates=['datetime'])\n",
    "df = df.set_index(['datetime'])\n",
    "df = df.dropna()\n",
    "\n",
    "df['gasPower'] = df['gasPower']*10"
   ]
  },
  {
   "cell_type": "code",
   "execution_count": 97,
   "metadata": {},
   "outputs": [],
   "source": [
    "#RESAMPLE TO ONE DAY DATA\n",
    "df_day = df.resample('1D').mean()\n",
    "df_day = df_day.dropna()"
   ]
  },
  {
   "cell_type": "code",
   "execution_count": 98,
   "metadata": {},
   "outputs": [],
   "source": [
    "df_day['hour'] = df_day.index.hour #create column containing the hour\n",
    "df_day['dayofweek'] = df_day.index.dayofweek #Create column containing the day of the week\n",
    "\n",
    "columns_to_cat = ['hour', 'dayofweek']\n",
    "df_day[columns_to_cat] = df_day[columns_to_cat].astype('category') # change datetypes to category\n",
    "\n",
    "df_day = pd.get_dummies(df_day, columns=columns_to_cat) # One hot encoding the categories\n",
    "\n",
    "df_day['T-1'] = df_day['T'].shift(1)\n",
    "df_day = df_day.dropna()"
   ]
  },
  {
   "cell_type": "code",
   "execution_count": 99,
   "metadata": {},
   "outputs": [
    {
     "data": {
      "image/png": "iVBORw0KGgoAAAANSUhEUgAAAW4AAAEcCAYAAADnSF5FAAAABHNCSVQICAgIfAhkiAAAAAlwSFlzAAALEgAACxIB0t1+/AAAADl0RVh0U29mdHdhcmUAbWF0cGxvdGxpYiB2ZXJzaW9uIDMuMC4xLCBodHRwOi8vbWF0cGxvdGxpYi5vcmcvDW2N/gAAIABJREFUeJztvXd4nGeV9/+5p6t3yV3udlzS7Did2EmABPISWCCh1xB+yxLC7vJCwsK+y1KWdykLbICXQEhCko0pIZQQEtKcYsdOHNuJe++WZVldmhlNu39/PPOMZkYjaWxL89yyzue6dHk0M3rOV2PpO0fnPve5ldYaQRAEYezgclqAIAiCcGqIcQuCIIwxxLgFQRDGGGLcgiAIYwwxbkEQhDGGGLcgCMIYQ4xbEARhjCHGLQiCMMYQ4xYEQRhjiHELgiCMMTyjcdHa2lo9ffr0Eb1mb28vJSUlI3rNsajD6fim6HA6vugwK74pOs4k/muvvXZSa12X15O11iP+sWTJEj3SPPfccyN+zdPBaR1Ox7dxWofT8W1EhxnxbZzWcSbxgfU6T4+VUokgCMIYQ4xbEARhjCHGLQiCMMYQ4xYEQRhjiHELgiCMMfJqB1RKHQC6gTgQ01ovHU1RgiAIwuCcSh/3Cq31yVFTMgjhaJzOULTQYQVBEIxlVDbgjAQPrj1IVziK1vDAywf59mVupyUJgiAYQb41bg38TSn1mlLq1tEUZPPUtmb+uvk47b0R2oKRQoQUBEEYEyidxynvSqlJWutjSql64CngNq31C1nPuRW4FaChoWHJypUrz0jYd9eH6Y5o5lW5eOZQjB9eriktLT2ja44EPT09jupwOr4pOpyOLzrMim+KjjOJv2LFitfyXj/Md4ul/QH8G/CFoZ4zElveP/SLtfr6H7yg/88ft+gZdzzm+FZWG6d1OB3fxmkdTse3ER1mxLdxWocxW96VUiVKqTL7NvAWYMtpvaWcAlpDIikyobHfNARBEMY9+SxONgCPKqXs5/+P1vqJUVUFaHTSvO3PBUEQBMjDuLXW+4DzCqAlg0TCyrgTyUw7Ic4tCIIAGLZzctk3n+Z7f9sJWBl3IlkmATFuQRAEG6OMu7cvRjASB0jWtcEukkiJWxAEwcIo43a5FPG0onZCaxIJ69OEc7IEQRCMwijj9rhUWk3bKpNIjVsQBCETo4zb7VLEkg6tsevc1mNSKhEEQbAwyrhdSpGwjTtZJtGScQuCIGRglHG702rc9qab9NKJIAiCYLBxa0jWuK3HZHFSEATBwjzj1mmlEq1TOyYl4RYEQbAwy7hVWsatka4SQRCEHJhl3FntgPYkLOtzJ5UJgiCYg3HGHYv3Z9wa+jfgiHELgiAAhhm3S/Vn3NbipM74XBAEQTDMuD3u9Bq3JpGQIVOCIAjZGGXcLpW2czJryJT0cQuCIFgYZdzZi5My1lUQBGEgxhn3wA04SSN3UJcgCIJJmGXcKn3Le2bGLZUSQRAEC7OMO2set9YyZEoQBCEb84w77XBg+/gyEOMWBEGwMc+4kztuUgcpyAYcQRCEDIwybpdSxJNGrZMLk/aYKfFtQRAEC6OM2+0idZCCNatEMm5BEIRsjDJuj8tFLOnUdhdJXMsGHEEQhHSMMm6XS6W1/1k3YglZnBQEQUjHKON2KzI24ACpxUrxbUEQBAuzjNvlytiAA6QWKyXjFgRBsDDMuMk4AQdIaw90SpUgCIJZGGbcaWdOJu/LNnJBEITxjnHGnUibxw39xi1DpgRBECzMMu6sedwgXSWCIAjZ5G3cSim3UmqjUuqxUROTlnEnsjJuLbUSQRAE4NQy7tuB7aMlBMCTo8YtGbcgCEImeRm3UmoK8HbgF6MqxtVfKrEz77gYtyAIQgb5Ztw/AL7IKK8RulXa4mTyvuwNOYIgCOMdNVztWCl1A/A2rfVnlFLLgS9orW/I8bxbgVsBGhoalqxcufKUxfx+d4Q/741y73Ul/P3TvYRiUOSBUAxunqW5fk7pKV9zpOnp6aG01DkdTsc3RYfT8UWHWfFN0XEm8VesWPGa1nppPs/15PGcy4F3KKXeBgSAcqXUg1rrD6U/SWt9N3A3wNKlS/Xy5ctPTTWwKbYLvXc3b3rTVbiefRKIg3IDcbw+P6dzzZFm1apVjupwOr4pOpyOLzrMim+KjkLFH7ZUorW+U2s9RWs9HXgf8Gy2aY8UbqUAayJgdqlEatyCIAgWZvVxu5PGneg/siwmQ6YEQRAyyKdUkkJrvQpYNSpKSMu4Ezq1ASeR9a8gCMJ455SMe7Rxu9JKJVlGLQcpCIJgKu29ESLxwg3mMMq4XcmMO5HoP2vSRjJuQRBM5euPbWPfyV4+v7Aw8YyqcXuSNe5YYmDGLb4tCIKptPT00dLdV7B4Rhl3esadXRqRjFsQBFMJRuJ0h6MFi2eUcWfUuLMeE+MWBMFUgpE4vZF4wYbhmWncOUolYtyCIJhKKBIjntBEC7Q+aZZxJ0slsfhAlxbjFgTBVHojcQDCscLEM8u4Xf2Lk9mIbwuCYCqhpHGHYuO4VGLvlkxH+rgFQTARrTXBiJVqh3NUC0YDM41bSiWCIIwR+mKJlD+Ny1KJ3Q6Yq1Qixi0IgonYZRIYp6USTyrjHlgqEd8WBMFEgtF+4x6XGbddKolKqUQQhDFCsK/frcdljds15OJkodUIgiAMTzCjVFKYmEYZt2eIxUlpKhEEwUTSjTs8Hmvc9uJkNEeNWzJuQRBMJBRNK5WMR+NO3/KeTUKWJwVBMJCMUkl8iCeOIEYadzTXzknxbUEQDMQ2bp/HNb4z7lztgFIqEQTBROyukrpS/zhtB5QNOIIgjDHsPu66Mv94bQe0/s3ZVVJgLYIgCPkQisRRCmpLfeO1HdCSI33cgiCMFYKROMVeN6V+z3itcVv/ys5JQRDGCsFInCKfh5ICGreRp7zHJeMWBGGMEIrEKPa5+dL187ms9GRBYhqVcdulklwZt7QDCoJgIr2ROMU+N+UBLyVeVZCYRhn3UIuTsgFHEAQTCSWNu5AYZdz9OyelVCIIgvnE4gn2nOihrsxf0LhGGneunZNi3IIgmMZzO1s43hXmXRdMKWhcs4xbDXGQghi3IAgGcbgtyF3P7qah3M8159QXNLZRXSVykIIgCGMBrTXvu3strb19/MffLcbrLmwObFbGPdRBCoUWIwiCMAiH2oIc7Qjx1RsWFLxMAnkYt1IqoJR6RSn1ulJqq1Lqa6MlZsixrpJxC4JgCJsOdwBw/tRKR+Lnk3H3AVdrrc8DzgeuU0pdMipi1OClErvG3RmMjkZoQRCEvHnjSCd+j4u5DWWOxB/WuLVFT/JTb/JjVPLfoU55T2jNpsMdXPD1v3GoNTga4QVBEIYkHI1zzfdWcc9L+1k4qbzgtW2bvKIqpdxKqU3ACeAprfW60RAzZDsgVl0poaG5Ozwa4QVBEIakpbuPvS29AMybUO6YDqVPoc9OKVUJPArcprXekvXYrcCtAA0NDUtWrlx5WoI+/kQvFza4ea058wyghiLN22b6uXdrhC8sDbCotrA7lWx6enooLS11JLYJ8U3R4XR80WFW/ELpONKd4CurQ1xQ7+ZjC/1U+DO3uJ9J/BUrVrymtV6az3NPqR1Qa92hlFoFXAdsyXrsbuBugKVLl+rly5efyqVTuP/2OFXVNdB8IvMB5WLy9FmwdTvzFyxi+YKG07r+mbJq1SpO93s7G+KbosPp+KLDrPiF0rHxUDusXsPn3n4hK+YN7N0u1OuQT1dJXTLTRilVBFwL7BgtQW6XGrA46XYpEhp6+6wsvC8mzYGCIBQe+3zJYq8zf/Hb5JNxTwTuV0q5sYz+N1rrx0ZLkNulBrQDWsat6Y1Yx0v0xQp0lLIgCEIatnGX+J3duzhsdK31G8AFBdACWNveo1ldJV6XQqPpSR7KGY5Kxi0IQuEJJpPHogJPA8zGqJ2TAG63GnBYsMftSpZKJOMWBME5UqUSMe5M3EoN6OP2ulWWcUvGLQhC4ek3bmdLJcYZt8uVI+N2udC6v1TSJ6USQRAcIJj0IMm4s/C41IATcNwuRYL+rpKwlEoEQXCAYDSOz+1ybMekjXHG7cqxOOnJLpVIxi0IggOEInHHFybBQON2uxRxnV0qUWhNf6lEMm5BEBygty/meJkEDDRulxp4WLB3QFdJZsbd3BWmOyxTAwVBGF2C0cIfDJwL84x7kA04cQ29yRXdcLQ/447GE1z8rWf49AOvFVSnIAjjj2BfzPGOEjDQuN0qdx93ehKennE/v7MFsObjCoIgjCbBiBkZt/NvHVm4lCKeGLhzMp2+WIJEQvPFR95gw6F2AC6ZWVMwjYIgjE+CkTi1pT6nZRho3DnaAT3uLOOOxukMRfnda0fS7pWzzQRBGF2CkRjFvmKnZRhYKnGRcwNOOn2xRGrg1Jeum8+iyeVEchx3JgiCMJKEDCmVGGfcVqlk4OKkTVnAQzgaT23GmVZdTLHXQ1S2wQuCMMr0inHnxqUUsewad1qppKbERyQt4y72u/F6FJEc51QKgiCMJNYGHOcrzMYZt31oQjpXzqlL3a4u8VmlkmRPd4nPg9ftGrDbUhAEYSSJxhNE4glKDMi4nX/ryCKrgQSAc6dU8C8XB9gZq8WtFIfagqlSSYnfjc/tIiKlEkEQRhF7MqBsec+BSw10bpdSzKly8933nkdpwEM4mpVxeyTjFgRhdAkZcvoNGGjc7hwpd7qZ+z0u+mLx1EkUJX4PPrdrwDmVgiAII0lqXU0y7oHkyrjT7/J73ETjmq6wbdxuvO6BEwUFQRBGklf3twEwvabEYSUmGneOjDvDuL2W5PbeCEpBkdcti5OCIIw6K189zJz6Us6dUuG0FPOM251jcTI9Cw94LMltvRFKfB6UUnjdLjnOTBCEUWNvSw+bDndw80VTUTmqAoXGOOMebHHSxu+16kutvZFUrckni5OCIIwih9qCAFwwrcphJRbmGXfOxcn+2/5kxt0ejFCaXN2VxUlBEEYT+9StgNcMyzRDRRrunIuT6V0lyYy7J0Kx37rtdbuIJ/SArfKCIAgAW4528qNnduf13Ke3NfPwK4cy7rNP3Qp4ne8oAQON25VDUa6M265xA3g91hOkXCIIQi5u+O+X+P5Tu/JK7h5cd5C7nt2TcZ99eIsY9yAMV+O2X7hQNJ5qhPclT1wW4xYEYSjST88ajI5glJbuPnTa2bdhu1TiMcMyzVCRxrAbcNJqTLZxe1PGLaUSQRAGJ5SXcUeIxBN0hvrPsbUN3y8Zd26G24BTUeRN3baHvdjGLfNKBEEYilDaubXfeXIH7b2RAc/pSBr2ie6+1H2ScQ/DcMY9q6401QZoH9ppj32VUokgCNmkJ3R25vzg2oP8+Lm93P/ygYznJhI6lWmf6Oo37r5YHI9L4XGbYZlmqEgj1+uSbuZul2LxZGvnUqm/v48bkJncgiAMoLkrnLptl0pe2H0SAJ1VXe0Ox1L3neju/7pwNGHMwiQYadxD17gBzplYbt2ffK4sTgqCMBjHOkKp26GIdV7ty3st4z7eGc54bnuwv3SSUSqJxY3p4YY8jFspNVUp9ZxSartSaqtS6vbRFKSysmsYOKN7TkMpAAdO9gJpi5MxWZwUBCGTps7MjHvL0c5UI8OxzlDGczvSFiTTSyXhaDy1h8QE8nkLiQH/rLU+B7gE+Ael1ILREpS+Ace+nT0b4M0LGnApuOmiqQB4pVQiCMIgpJuzdV6tNVl0ek0xRzuyjDst427pSatxRxNGZdzDTgTXWjcBTcnb3Uqp7cBkYNtoCEovlbhcQHxgxl1fFmDff7w99bksTgqCMBhNHZkZt116nV1fykt7TqK1TiWH9sJkbamfE13pNe6xl3GnUEpNBy4A1o2GGCtG/+3BMu5sfNIOKAjCIBxo7aW+zA9AKJJIHUE2q66UcDRBe7C/PGK3B85tKKWlO72rZIxl3DZKqVLgEeDzWuuuHI/fCtwK0NDQwKpVq05L0LGj/S+WTlgv8JrVqyHSO+g193Vaz9uw6XUSx0b3WKGenp7T/t7Ohvim6HA6vugwK/5QOnYcCTKhxMWJbti8fWfq/ljbEQD+9PSLTK+wsulNeyzjrkx0sa41ypNPP4ffo2g+GcLjYtjvsVCvQ14up5TyYpn2Q1rr3+d6jtb6buBugKVLl+rly5eflqCXg9vhwD4A/D4vwViUK6+8go3rVjPYNRuauuDlF5m/YCHLF008rbj5smrVqkF1FAKn45uiw+n4osOs+IPpiMQStD75V/5uWSObn9/HlMYZ1lb2Hbt4+5uWcs+WNUyYtSDlG6u6tlJ25Ag3r7iAx3/5CsWNi7hyTh3f3fwi9WUBli+/6JTijxb5dJUo4B5gu9b6+6MtKJ+ukmxSOyfjmj9sPMp3ntwxavoEQRg7HGkPktAwp74Mt0sRisQJRqzNNHPqSynxufn3P29jX0sPYNW4K4u9LG2swu1SrN3XCth93OaUSvJRcjnwYeBqpdSm5MfbRktQ+gacfuPOr8bdF43z+V9v4sfP7R0teYIgjCEOtloHIMyoLabI6yYUjROKxinyuSkLePn1py/lRHcfv3vNKpu0ByNUFfso8Xs4d0oFa/dZ50yGo3ECBi1O5tNV8hJQsLN6crUDDmfc9ljXF5O7oQRBEAD2J/d6NNaUEEgadyKhKUruglw0uYK6Mj/NyZ7tjmA0NQ9paWMV9605QCKhCUcTxgyYAgN3TqaXSuydkcMd8WaXSv70+rHUfdJhIgjCwdZeyvweakp8FPlchJOlEnveEUB9eSC1vd0qlfgAqyUwGteEonH6YvHUWQAmYI6SJOl93PmWSrw5Bpx0h6M5nikIwnhiT0sPM+pKUEqlSiXBSJwiX3+xob7Mn2r96whGqExm3KUB6zk9fbHkBhzJuAcll3EPl3H7chp3bER1CYIwttBas72pm3MmWLON+mvcscyMu8xPc1c4NRmwqjhp3Ml5/52hKJH42FucLCi5NuAMuziZ9ifM9JpiwDLuQ61B7vz9G8RkR6UgjDuau/po642wYJJl3AGvO9VVkmncAdqDUVp7IyQ0VCRLJWXJjLu1J5L6elMwzrjdp9EOmJ6lz6yzBlB1h6N8buVGHn7lMFuODdgvJAjCWc72Juv33p4mWuRzE47GCUXiGSbcUG7tqtx9ohsgVSqxz7Q9mZxZYsohCnAKOycLRcaskjy3vKczo7YEgK5wLDUwJteiws+e38vchjKe39VCZyjKf918/pnIFgTBMLYljXv+xDLAKpUci8bpiyWyFict4951PGncxZk17pRxG5RxG2fc2Rtwhsu2s5lZZxl3dzhKV7LO3ZfVYZJIaP7r6V1cPquWQ23B1OwCQRDOHrY1dTG1uojygGXEdo07HE0MKJUA7Gy2NuHYXSVlfuvrTCyVGGfc7vQat0sNW9/OZmatXSqJpTpL7OOKovEEN961mpsvmko4mmBvSw/HOsNorUkkdKr9UBCEsc+xjhCN1SWpzwM+N6FIgnA0TpE3s6sEYHfzcBm3OaUSc5Qkye4qOVXjtksl3eFYali6bdytPRG2NXXxs+etnZUHWoNEYgmicZ1x8oUgCGOfUNYiZJHXTSgSIxjJ7CqpKfXjUrCrOavGnTwa8WSPXXI1J+M2zrizSyWn6NvUlfkp8roz+rjtE5pbe613zmNZxxUBHO8aeJ8gCGOX3kiMEn9/Zh3wuuiNxEloa6HSxu1STKosSpVW7Z2Tfo8bn8eVyrj9knEPTkbGrU7duN0uRVnAQ1taBt0XszLu9t7BN+U0i3ELwllFKBLPMOgib+7bQOoA8rKAJ+Mk91K/x8jFSfOMe8Di5KnXncsCntR5lNBfKkk382nVxRlf05x2vpwgCGOf3r44JWnGnW686aUSgHOnVFo3so6tzTBuKZUMjivj6LLTNW4ve1vSjdsqldinWwAsaayistjLzNoSlBp42rMgCGOXREInpwD2l0qmpiVrRVnGfd4UK+Pu7svccV3q96T8w96QYwLmKEniytg5Ofx2d5s1d1yNJ9mSUhbwpM6Og7SMO2ncf3fhZN6+eCK9fTFqSv10hWM0d4VZs/ck964+wE8+eGHO+ScjRVc4yu7mbpY0Vo9aDEEYz4SSv/PpGfcFUytTt4t9mda3KGnc2didJT63i0mVRSMt87Qxzrgzu0pceWfc6S+q3bdpk8q4gxEqi718/yZrs8015zQA8MaRDpq7wvx+w1Ge2tbMi7tbuHp+wxl9H0Px1T9s4Y+bjrHuy9fQUB4YtTiCMF6x92ZkTwG0ya5x256xtLEq4/6y5OJmY01xhjc5jXmlkowa9/Db3XMRSc4mmVAeQCkIx/oz7upkc306E8oDNHWG2XCwHYBHNx4b8JyR5Gh7CCB1uoYgCKeH1pp1+1qt48jSCEaskkd2Zm0beXapBGDr197KQ5+6OOM+O+O224xNwXDjPr0a95x6axPOzz68hFKfJ6NUUlUy0LgXTipnV3M3+072Uuxz89S246n/+NFgQoX1zi/GLQhnxuo9rdx899rUCTY2dsZt92LbnJssiWQbvfVcz4BebdvoZ9SJcQ+JXVpWyurpPpU5JTafu2YO6758DedNrcTvdadKJW291rFE2dy8bFrq9rsvnEI4mkhlxaOBXX9fs1eMWxDOhC3HOgH4yaq9xBP9ZmwnXkVZGfcP33cBH7tsOuel1buHwv5dnSkZ99CkBkvZH6dRKgl43anaccDroi+ZcbcHI1SXeAc8f3JlEdee04DP7eKquXXJ5+Z/EEM4GueZ7c2DPv6VP2zm+0/tSn1uL5IebA3S1Dl6bxCCcLZjD4baf7KXF3a3pO5PZdxZJZGG8gD/9o6FeTcfnEi2CU+tKh7mmYXFWON2KZX8OLPrBbxuwrE4Wmvae6NUl/hzPu8b71rEg7dczMRKy/DbevPfAv/oxqN88v71g5rwmj2trE3Lrtt7I6l38C1HBx85u6+lh8Ntwbx1CMJ4Y8fx7lT5Y39aC3Bvn2XcuWrZp4Ld3y2lkmFIP/XGpYY/RGE4Al4X4WiC3kicSDyRM+MGa0LYshnVqVLKqcwusc01vQUxna5wjI6QdT2tNa29ES6bXYNSsOVoZ86v+cHTu7j6e8/zmYc25K1DEMYTsXiCPS09XDKzBr/HlZE4haJWqaTEd2aNc3dcP5+n/+lNTKwwpxUQDGwH7D8gWKWy7jMh4LGGp9ubb3LVuNM5HeM+1mH9wPT25V7Q7ApHUyWfUHIe8OTKYmbVlbI1xyEPrT19/Pi5PQBsPtqJ1vq0av2CcDZzoLWXSCzBvIYyJlcWcawjDMnE2M64s3dInio+j4vZ9WVnKnXEMS7jtksjClgwqZzzpuZujM+XgNcybrv0UZ2jqySdIp+bIq87Y5flcNhDq3r6Bs71DkfjRGIJOoIRtNZpOrwsnFTO1mMDM+5HNx4lGte8f9lU4NTKNoIwXtiVnJ89b0IZkyqLONqRlnHbfdx+43LTEcE4404/Z/KWK2fykw8uOaPrBbwuQtFEyvxytQNmU1XspW2IgVTZ2H+iBXNk3PahxdG4pjeS/gbiZ9GkCpo6w7QmZyFsPdZJOBrnd68d4YJplVyb3CD01LZmHslqd7KumeCt//UCz+04kbdWQThbONBq1bSn15YwsSKQUSrptbtKDBoMNZIY93bkyvNk93zxe930pWXcNfkYd4kvdezZcCQSOjXnpCfLuF872EZahxLtvZGMjNvvsf4E232iB4/bxY13reajl01nx/FuvnjdPBprrL/77vj9ZsDaqp9OezDCzuZuthztZMX8+rz0CsLZwqHWILWlPkr9HiZVFnGiu49YwjJq61xJl1G7HUcS84w7z5Pd8yVV4w7mn3FXl/gyJgkOxcmevtSBDek1bq01H/rFKxmlns5QNCPjtg/nONIeotTvIZbQPLj2IABLG6uZWl2EUmDvFbD70W3sOl6vHL0mjEMOtgZTUz4nVxahNbSHrV8W6yR34+xtxDCvVGJvwBmh6wW8LsIxq1TicanU7IGhqCz25V3jTj+UId1AQ9E4oWicHck+U7Ay5JRxF/uYVGltyT/SHuRIu9WZ0hdL4HUrzp1Sgd/jZlLaanZnKEo4prlv9X76YvHUG8Vo7vIUBFM51NZv3HYbb3MwwTt/vJoH1h4844VJkzHOuFOZ9gg5t7042R60trvn051RXezNewPOsbQFkfSM265td6Rdpz1oZdxul6K8yNpe21AW4Eh7iCNpOzUXTqpIzQ5urOlv/O8MRdlwIs6//Xkb//qHranSTHaJRhDOFm762cv84sV9A+7vi8U51hliWrKcaA+ZW7kjwqbDHcCZd5SYjLHGPWKlEq+LcDROa0/uAVO5qCrx0RmKEosnhn2ubdwel8ow7q4cPd0dwQiH2oLJTNv6/qZUFSUz7hDFPjdlfg+XzapJfc1bF05gQnIXaEcwktrW++v1h9mfPCwimKObRRDOBjYd7uC15PC3dI62h9AaGpMZd2N1MVfOqeVIj8aX/LNdjdjf7eZhnHG7R3hxMuBxk9BworuPqkE232Rj93J3DLKhJp2mzjDFPjf1Zf6MUklXeODXtvdG2XOihzlpfaGWcVsZ97TqYp74xzfxuWvmpB7/6GXT+flHlgJ2qaT/eqv3nAT6V9AF4WyiL2a10uY6I/ZgctOb/Repx+3iV59Yxp3LAnz/5vMA2NncPeDrzhaMM+6Rz7itP5eaOkPUDLLdPRt7ATOfOvexjhATKwKU+D2ZGXeaw7pdilK/h9bePva19KamF4J1KkdTZ5iDrb1MqSpicmXRgLPt7MNLO0NRQvH+NpWm5A/0YBt/BGEs05P8HTqeY5SEXVqckjZDRCnFvGp3at7Q2cywxq2U+qVS6oRSaktBBI3C4iRYZ0rmm3HXl1kGn8/J78c6w0yqLKLY78moNaeXSsoCHiqLvbx+pJNIPMHsNOOeUlVEPKHZfaIn44cwnYriNONO8+imZJkmKF0lwlmIvU50oruPaFbZ0v79qiwe+DtdFvCypLGKz66YPfoiHSKfjPs+4LpR1pHC3oAzUlu8/WnZa741bvtsusNtw0/ua+oIMamiiFK/O8NA0zPu8oCXqmIfrycXTeY09JdK0qeOTanKPQ9vkZCeAAAgAElEQVShzO9BKdu4NdUlPuuczK7c/eOCcDZg/1zrZKkz+zGvW+H35LawR/7+Mr7w1nmjrtEphjVurfULQFsBtAAjvwEnveyQTw83WCfieN2Kw+1DT+aLxBK09PQxsTJAic8z6OJkWcCTOjwByMi4l0yv4tNvmskF0yq5fHZtzjgul6I84E21A5YHPJT5PanNPZJxC2cj6etETR2ZSVRPOEap3zNuZ/gY16GePo97JChNOwFjuDklNm6XYnJlEYeGGana3BVGa6sV6VBrMGORsDsr4/7y287hqW3NVBR5KU3rJfd73Nz5tnOG1VRR5E2VSkoDHuJap7J6ybiFs5GetN+hpqwFyp6+WOpYsfHIiH3nSqlbgVsBGhoaWLVq1Wld50TQqmVFI5GMa/T09JzWNRMJzWWTPGw8EaPn8E5WdezO6+tKCLPtYHhAzHQdO9usTLflwC46Tsbo6I6lHtuxr49SLwRj0NfTwcEtr3LX1cUEY/q0vg9XLMz+I830RmJ44z240rw6Ekvw9LPP4Sng9t7T/f84W+KLjtGP/+rR/oz7pQ1bKWvvP4zkwNEwRAf+Lp2Nr0MuRsy4tdZ3A3cDLF26VC9fvvy0rnOkPQgvPEcg4Cf9GqtWreJ0r3nt1af+NX9r38xfNzcNiJmuo33jEXjlda676mK61h/mpaYDqcd+d2wDdSFrZOviWbUsX77otLTbTN27ju5wjEhfFzMa6ghFYxzs6j+c4aJLr0h1nxSCM/n/OBvii47Rj39wzQHYvBWloLh2EsuXL0w99rNda5lQnGD58stGXcepUKj4xrUD2n3cI9UOeLpMrSqmPRjl9pUbUwclfO3PW1l1uD8LONZh/fk2qaKIUp+HSCyRWv3uDscoD3h46JaL+ecRWCQpL/LSlaxxlwU8A0xaWgKFs43uZI17alVxapCbTU9fLKPkON7Ipx3wYeBlYJ5S6ohS6pOjKsiQxYap1VaHxx83HeOpbdZ5kveuPsB9W/t7u491hKgq9lLkc6fm/tq7GLvCUcqLvEyqLKI8cOaZcH+NW1PqH2jcwUiMl/e2DnqijiCMNbrDMXweF5OTk//SsWrchfsL0zSGfcvSWr+/EEJsUhtwHP5bYOGk/ql+oah1ZqXNy8nzI5s6w6kjjexF0J5IjIpiKzuemNZJcqbYxq21tTiZSOop8bnpjcQ52hHmHx7awNTqYv56+5UjFlcQnKK7z/qrtb7cz8ZDHZmPhWMZjQfjDWNLJU7PGZhRW8LOb1xHwOuyMt1of8vd+3++lvf/fC3HOkKp4TYlqYzbKllYpZKRywhqS/3EEpq4JiPjrk/OMfnxs3vo6YuxvamLg629Q11KEMYE3cmWv/oyPye6wxnJU6+USswidXSZARUTv8dNVXLEa3p7n83RjhCTkuMk68usfw+2WvVwu1QyUsxMO2U6vcZdl9zl+cqBttRp109uPT5icQXBKXrCUcoCXurK/ISjCbqTSVEsniAUjVPqH7+lEvOM25DFSZuKIi8doWjOaX/d4ViqVHLulAp8Hhfr9rcSiSUIRxN5zf7Ol9l1/Zt20jPuhvL+cswHlk1j4aRy/ra1ecTiCoJTdIdjlAU8qaSoJVnntg8QGc993MYZt3uEN+CcKZXFXjqD0dRmlxtmevny2+anHrcz7oDXzflTK1m3v43WXusHrLo0vw0/+TC5sn87fEl6qaSsf3DWRTOquWpuHZsOd8imHGHMY5dK7L8qT3RZv1fdfVYSJTVug0jtnDTEuauKfXSEIqntt+fXu3nHef1nP05KM9RLZtaw5Whn6vTpkVycdKVtrikbxLhn1pZw2axaYgnNqwcKNqVAEAYQT2ge39xEJDb8TPvB6OmLURbwpn7GW3qyMm4plZhDajqgIc5dmTwNx65xF3sUDeX+1OnR6eZ8yYxqEhqe2NIEwITy3EOjThc7ZmnAkxz/6mLBpPLU40opljRW4XO7WJOc1S0I+bCvpWdAr/SZ8MKuFj7z0AY+ef+rGYuKp0JXOEpZID3jtoeqJTNuKZWYgzs1j9thIUkqinx0BqN0JmvcxR7LIKfXluBSmTVme+rf6j1Wu+BIZtwADeXWD7DH5aKm1M+mf30LV86p44MXT+O+j18EQJHPzYWNlby8r3WoSwlCCq01H77nFf79sa0jdk37rNUXd59M7YM4FRIJTW9fLLUQ73O7Uhm3nURJV4lB9A+ZMsO5K4u9ROKJ1Lt9sdfSNbu+lIkVRXjd/S9hbamPUr+HQ21BfB5XzlnBZ8L3bjqPWRWuVIeJPfnwm+9azPJ59annzW0oy2skrSAAHGgNcrQjxL6WkWsj3dXcTX2Zn/KAh6e3n7pxd4WjJLR1cLdSiroyPy3JGre9fjOejdu473ykx7qeKVVJ8z3cFsTrViTPZeCO6+cPOCHHysSL2XK0i4kVgREv9yxprOarlw48ISebulI/naEofbE4fs/4XcAR8sM+Au9QWxCt9Yj83O483s2CSeWU+Dw8v6uF5q4wtaX+1D6N4WhL/m5Vl9j7Ffw0dYaJxROp7hIplRiG26WMqXFXFFmdIYfagpQHvCldkyuLWDS5YsDzZ9RabXsTyke2THIq2DXBlqxtwoKQizV7LeMORuK05nFc33D09MXY09LDvIYyrppXR3NXH5f8xzP855M78r5Gv3FbP8sLJ5Wz+Wgn3/jLdr72523A+M64jTRulzKrHRDgUFuIsjze4WckDy8d6fr2qVBfLsYt5IfWmrX72qgttX5m1u1rY8fxrtO+3m/WH2bR/3mSSCzB3IYyls+ro8TnpsTn4X/WHsq7TTVl3MlTq5bNqKGnL8ZD6w6mnlPiG79/TRpq3MrxWSU29onvJ3v68toJOb3Wqj83OGjcdaVW7OzBPIKQziv729je1E1bb4Qbz58EwOd/vZHPPLQh43nNXWHef/favLpO/mfdodTtBZPKqS8LsO5fruWBTy6juy/G7zccyUtbezBp3Mm9EMumVwMQjWv+6c1z+ekHL8TjNsQkHMDIvzXcLmXU4qSNlXEPnTHYxj3RwVKJZNzCcDR3hbn57pdpTJ6veuP5k7jnpf1E45rDbUESCZ1ab1qz9yQv72vl2R0n+MDF0wa95v6TvWw63ME/v3kul8+p5ZyJVqtqqd/DBdOqmFZdzLp9bXiSWdlQ12rNyrgnVARorCnmcFuQD13SmPdpVmcrRr5luZQyph2wqtiX+pMsn6FRCyeV894lU7h6fsNoSxsU+zBhMW5hMLY3daG11VFSHvCwaFJFaqNLNK4z/lrbndxQtulw+5DXfGKLNSPnPUuncOG0qgGPz6kvZc+JHn72wl5++vyeIa/V3huhyOumKK0cctPSqbxnyZRxb9pgaMbtUhjTVuLzuHjv0qnct+YAfXnsAvN73HznvecVQNngeN0uqot9UioRBsU2Y4ALG6twuRQz60po640QS2iOdgRTB1zvOWE99/XDuWe9h6Nx+mKafe09NJT7U/N7splVX8oLu1uIxq0NOW29kUFNuDXHY/+wYvapfZNnMUZm3FapxBw+cmkjwBlt3y00dWV+ybiFDKLxBM9sb0Zrzc7mbqqKrcl7y+fWAfCd95zHzz+yFIAj7f37AGzj3nWiO+fi4j/+ehP/+WqYQ21BplYVDxp/dl1pyrQB3jjSMeA59i7L9iFMXTDUuE0qlQDMrCvl5x9ZyrffvdhpKXlTV+ZP7TQTBIDfrj/CJ+9fz7amLnY3d7NwUgVr7riaj142HYCp1cVcPNNaBLSNuy8W52BbkEWTy9HaMttP3PcqTyd3Qx5qDfLE1uMc6Eqw/2QvU6sHN+5Z9SUZn79xJDOD33Oim/lffYJdzdaCaZUY96CYadwG9XHbvHlBA1OGyCZMw9ppNnKzJ4Sxzwu7WgDY29LLruYe5jSU4nW7Mn7Xin0eqkt8KeM+cDJIPKF594VTAPjjxmM8u+MEf37jGAAPrjuI1hDXVhfTUMY9M7nHoSzgYWZtCRsOtfOLF/fxnp+uIZHQbDnaRV8swbp9rbQFI1SP8M7jswkja9xuwzLusUhjdQmPbjxKRzBCZbFkLuOdWDzB6uRGmzV7ThKKxpmbnK2TzZSqIo52WMa9q9maOXLR9Goaa4r5w6ajAGxOnm364u6TTCgPcDyZJEytGnywWlWJj5oSH7PqSlk8pYJ7XtrPqp3Wm0lTV5hjnVbMbU3dtPVEUptvhIEYmXGb1A44VrliTg1awy9e3M8t97/Kd57ckTo1Wxh/vHG0MzWcyT4hacHE8pzPnVxZxJF26ySnrce68LgUcxpKOW9KZWqBfv/JXrrDUQ629nLNOfWp39ZpQ2TcAP/8lnl8+qqZ3Hn9fD5/7ZzURrU9J3o4lnyzeP1wB72ReGq7uzAQI41bKWOaSsYs502ppCzg4a7n9vDi7pP8dNVebvrZ2tSUw9FGa83dL+xNGYAw+jy49iB7W3pyPvbAywfxeVzMri+lPRjF41LMm5A7455RW8Kh1iDhaJytxzqZ21CG32MdFALgc7vQGlbtbCEYiTNvQhkNJdYv7FClErB6t685pwGP28Xnr53LY7ddAcDu5m6aOqysfVuTtXOzsaZk0OuMd4w0bmtWidMqxjYet4sr59QC1kCsn39kKdubuvjz68cGPFdrTSJxejOTB2N7UzffenwHj244OqLXtemLab7/t52pAy7GO+3hBF/5wxZ+8eL+AY9tPNTOoxuP8qkrZ6TOJZ3TUDbosLILp1URS2jeONLJ1mNdLJpsZebnJY37+sUTAHgsWedurClhcqkLr1tljDnOh5pSP1XFXva29HC0I5T6vZ9QHuAtC53bC2E6Zhq3klLJSPCBZY28eUEDH7h4GlfPr2dqdRGrdp7IeI7WmlsfeI2P3vvKiJq3PbjIrluONOuOx/jRs3sytliPZ3a0WSWMTYczW+wisQR3/n4zDeV+/n75bBqrrSx28eTcZRKw+roBHt/cRFtvJDVMbfHkCt66sIFPXjGDyZVFPLfDqk/PqCnh2mle/vHNc/Oe/pfOnPoydjf30NQZ5qJGq6vllitnyGTLITDSuJXCmFklY5kr5tTy848sxe9xo5Ri+dx6Vu9ppS8WTz3n0Y1HeWpbMy/uPslvXzs8YrFfSo4KPdoxOp0tG09Y38NvXj182iesnE3saLNej13N3QQj/b3Wv1y9nx3Hu/nmOxdT6vfQmByClmuypU11iY8ZtSXct+YAYO0GBmsz2s8+vJRzp1Ry7Tn1ROIJvG7FpMoA59S4+czy09sgM6u+lDeOdNIZirJifj2PfuYyPn75jNO61njBSHuUxcnRYcX8OkLROP/5xE6e23GCw21BvvGX7VwwrZILp1XypUc2c+OPV3Ow9cwG6vfF4ryy3zrzsqnjzDPuTYc7UtupAYKRGFtPxplYEWDfyV5ePTD0VmywygXX//DFgmxKsje6ROOF2bAViSXY3hanLOAhntBc/d3n+eZfthFPaB54+SBXzK7l2gVW2eHCaVVMriziitm1Q17TNvap1UUsnDTQ5N+6yCqXTK0qPuNhT+dMLCOSfK0mVQa4YFrVaWXu4wkjjdulpMY9Glw+u5a3LZ7APS/t5+P3vcry766iMxTlW+9azC8/dhFfefs5HDjZy40/Xp2xq60zFB22jKK1pqkzRDga5+8f3EAwEmf+hDKOdYTQWhNPWB+nitaaOx55g9se3sCxjhA/WbWH87/2FJEE/PuNiygPeLhvzcC6bvY1vvGX7Wxv6uLZHad+GstQJLQmHLWyXfs1+sHTu/jk/eu5b/WBEY2Vi02HO1j2rac5EdTccsVMAI53hfn5i/v52L2vcLQjxPuX9Q9zmlZTzOo7rmZmXemQ1731ypl89NJG/vgPV+SshS+bXk11iW/Y6+SD3SMODLpdXsjEyD5uy7jFuUcav8fNTz64hKMdIfae6OG/n93Nivn1qSlut1w5kzcvaOBD96zjHXetpjzg4UOXNHL3C/soC3go9nm4/Zo53HTRVLTW/HVzEzuOd3P1/Hpe2nOS7zy5kxm1Jew/2cs33rmIcDTON/6yna5QjE89sJ76Mj93feDCU9L8xpHO1PmF7/rJapq7+njLggamezq49px6PnBxI3e/sJfDbUGmVhfz4NqD1JT4uH7xRE729PHK/jZeP9zBawetrPylPa3cfNHgU+lyEYzEuH/NQd69ZDL1Zf2Lb7F4gu+tD/ON117khnMn8uv1h/mHFbP56aq9eN2K//f8Xs6bWkl1iY9ZdSV5/Uz3xeK09kSYUB5ITecbjAMne/nEfa9SFvDw0fkuPnfNbNbsPcnCSRUktOa+NQeoLvFx7YL6Ia+Ti8VTKlg8ZfByisft4t6PXZTXqOPhKPF7+NNnL+f7T+3KOPxaGBwjjdu0WSVnG5Mri5hcWcSbkjMq0mmsKeG3n76M364/zONbjvOTVXtZNLmcBRPL2Xiog6//ZRsv72vlhe0hWsPW3Ob/fnY3XreLSRUBjraH+N57z+PdS6bw+GbrtPuX9pxMlU4+d033oBs/bP646SgLJ1Uwu76Ula8eJuB18fbFk/jL5mPcef18bn3TTJ5//nmUUnz0skZ+uXo/t6/cyJffdg5f/eMWfG4XCyaV8+9/3sYzO6zF2HddMJl4QvPSnpPsP9nL2n2tvLy3lfUH2nj/smncds0cYvEE0bimyOcmFk8QisZ5dONR/rr5OC/va+XF3S34PS6CkTjLZlSz/2QvW1sTQC8/etaadvevf9zK/AllfOn6+dxy/3pu+tnLAHz4kka+/s5Fg37P1pvcNn6z/giRWIJ/vWEBn7hiBg+tO0h9WYA3L+jvsFiz13qTPNHVh9aa+z++jENb16OU4tefvjT1vA9dMo2EZtQW+ewuk5Hg3CmV3PfxZSN2vbMdI437k1fMoGQcH0vkNBMqAtx2zRw+fGkjD607xPuXTaO6xMeeEz1c94MXeOyNY1xQ5+IfLzmHG86dyGce2sD6g+089KlLmFxZhM9jVeDszRV3v7AXpcDvcfGjZ3Zz1wcuRGtNVziG26X4zauHmVgRoDMUZe6EMm5fuYn6Mj8//dASHtlwhHdfOJlvvHMxX3/nQop9mT8XEyuK+NH7zuczD23gPf/vZSqKvMQTmk/9aj27mnu45YoZfOiSRqbXlvD7DUf40+vHWPHdVYA1FsDudb9qXh13PLKZzlCUN82t47E3jtFYY50f6nEprp5fz7M7TlDq9zC7vpQfP7cHj9vFDTO9VDdM4pntJ/jeTefx7I4TfPbq2ZQHvDz7z1dxsDXI45ubeGDtQa6aW8fuEz3EEwk+e/Uc+mJxfrXmIOv2tzKnoYwH1x7i5qVT2drUyT0v7eeSmTV89Q9brEFQ8+rwul2Eo3HueGQz7cEIxT4393zsImbWlZKrt2Z2/dBvkMLYxUh3fOcFk52WIGCdsJ0+SnN2fSm/+sQyqkt9HN+xgeWXWFMTf/WJZbQFIxllBLAye4DXj3SybEY1l86s4YfP7GbFvCO8caSDX68/zMUzang+OUMDoNjnxudxEYrEefdP1+BxKT6zfDZulxpg2jbXLZrIbz59KQ+tO8S15zTgcSs+9/BGSnxubrt6DhXJmRdvXTiBT1zexYy6Ei6dWcOsuhIOtQW5+nvP8467VlPscxNPaB5+5RA1JT62HO3iO+85l7efOxG/x829q/fzprl1zG0oo603gset2LB2NVddtZCv3rAAr9vFJTNrUroaa0porCnh4pnVvH6kk3/6zSa6krsXF0+p5GfP72XN3laUgqe3n+DKObX83/ecy5Nbj/PpZIsmQHNXH49vbmLbsS4efuUQXeEY/3PLxVw2zAKjcPZipHEL5mKbxfG0c189btcA0waoLfVTUeSlpy/GndfPZ/HkCl7e18oXfvc6Wltz15/f1cJHL23k3Uum8PT2E/zomd383YWT+czyWXzzL9s5b2rlsLvxAJZOr2Zp8ngrgMduu4KevljKtMGqpf7r/1qQ8XWNNSV8852LONoR4p0XTGZ/Sy+vHGjjn948l2MdoYzFt1uunJm6nT5yVCmF1z14cc/vcfODm8/nf931EhPKA2g0H/3lK7gUfPe959HeG+H/PrGD26+ZA8C15zTwlgUNHGoL8uW3zee7T+7i9pWbALjh3Im8ffFEMe1xTl7GrZS6Dvgh4AZ+obX+9qiqEs4KXC7Fqi8sp9jvTtVZ7/3YRXzr8e0cbA1y+7Vz+N36I3zxuvmU+D0snFRBbamPty6cQEN5gHvPoOY5Z5g6ejrvS+u6mFVXmmqdG4mOCZt5E8p4+FOXUFHkpSscZe2+Vi6ZWZM6Kea9S6ekhoG5XYq7k3OxAWbUlrJ2XyvzJ5SxfN6pLzQKZx/DGrdSyg38GHgzcAR4VSn1J631ttEWJ4x9smcql/g9fPNd/XPNL0rLkt0uxUcunV4oaQVnSWP/cV7ZR3sNNcHx/KmVqTkhggD59XEvA/ZorfdprSPASuDG0ZUlCIIgDEY+xj0ZSN8LfSR5nyAIguAAarg5D0qp9wJv1Vrfkvz8w8AyrfVtWc+7FbgVoKGhYcnKlStHVGhPTw+lpSNXcxyrOpyOb4oOp+OLDrPim6LjTOKvWLHiNa310uGfibUdeKgP4FLgybTP7wTuHOprlixZokea5557bsSveTo4rcPp+DZO63A6vo3oMCO+jdM6ziQ+sF4P48f2Rz6lkleBOUqpGUopH/A+4E+n844iCIIgnDnDdpVorWNKqc8CT2K1A/5Sa7111JUJgiAIOcmrj1tr/Tjw+ChrEQRBEPLAyLGugiAIwuAM21VyWhdVqgU4OMKXrQVOjvA1TwendTgd38ZpHU7HtxEdZsS3cVrHmcRv1FoPHNmZg1Ex7tFAKbVe59sqcxbrcDq+KTqcji86zIpvio5CxZdSiSAIwhhDjFsQBGGMMZaM+26nBSRxWofT8W2c1uF0fBvRYUZ8G6d1FCT+mKlxC4IgCBZjKeMWBEEQEOMWBEEYc4hxC4IgjDHEuAVBEMYYRhq3UqpYKfVFpdT/VkoFlFIfU0r9SSn1n0opR4f+KqV2FTDWuWm3vUqpryRfh28ppYY/QXfkdHxWKVWbvD1bKfWCUqpDKbVOKbV4uK8fgfi/V0p9yID/+5lKqV8qpb6hlCpVSv1cKbVFKfVbpdT0AmlwKaU+oZT6i1LqdaXUa0qplUqp5YWIn9RQoZT6tlJqh1KqNfmxPXmf42esKaX+WqA45Uqp/1BKPaCU+kDWYz8ZzdhGGjdwH9AAzAD+AiwFvgso4KeFEqGU6lZKdSU/upVS3cAs+/4CSLgv7fa3gdnA94Ai4P8VIL7N32ut7W28PwT+S2tdCXypQDouBt4JHFJK/UYp9a7kiOFCcx/WmOMeYC2wA7geeAL4ZYE03ANMA/4DeA7r9+Me4CtKqduG+sIR5DdAO7Bca12jta4BViTv+20hBCilLhzkYwlwfiE0APdiedIjwPuUUo8opfzJxy4Z1cj5Du4u5AewKfmvAo7T37aogDcKqOO/gV8BDWn37S9g/I3prwngdeh12Jl2+9Wsx0Zdh/06AGXAh7EmVbZg/eK8xaH/j0ODPTbKGt7I+nxt8l8/sL3QPw+n8tgIa4gDz2K9eWV/hAqkYVPW5/8CrAZqgA2jGTuvsa5OobXWSqnHdfJVSX5esMZzrfVtyXfwh5VSfwDuAgrZ+F6hlHoX1l9Gfq11NKmroK8D8Dul1H3AvwOPKqU+D/weuAY4VID49v9/N/AA8IBSqhq4CbgD+FsBNAAklFJzgQqgWCm1VGu9Xik1G2tWfSGIKqVmaa33KqUuBCIAWuu+Av5MHFRKfRG4X2vdDKCUagA+Rub5tKPJduDTWuvd2Q8opQqlwa+UcmmtEwBa628qpY4ALwCjWtYz1bjXK6VKtdY9WutP2HcqpWYB3YUUorV+TSl1LfBZ4HkgUMDwzwPvSN5eq5Rq0Fo3K6UmUMAJaFrrf1FKfQx4GJiFld3dCvwB+GABJPTk0NSGVaYpZMnoi8CfgQRW6eZOpdR5QDnwqQJp+N/Ac0qpPqzf3/cBKKXqgMcKpOFmrDfM55VS9cn7mrFOxrqpQBr+jcFLvYUqGf0ZuBp42r5Da32/UqoZ66/1UWPM7ZxUSintkGil1ETgAm0dLCEIJBdt27XW8QLGVECN7l93EMYZpmbcKKXmAzcCk7H+VD4G/Elrvd1pHUqp/YXSYfLrUEgdTscfRscfsRYqC8U84EallKOvRS6UUh/XWt8rGkZXg5FdJUqpLwErsRbhXsFayVdYteY7xosOp+ObosPp+HnoWFkoHaa8FkPwNacFMA40GFkqUVav9EJ7MS7tfh+wVWs9ZzzocDq+KTqcjm+SDkM0vDHYQ8BcrbV/kMdFwwhhaqkkAUxi4PFnE5OPjRcdTsc3RYfT8U3SYYKGBuCtWH3b6ShgjWgYfQ2mGvfngWeUUrvpby+ahrUB5bPjSIfT8U3R4XR8k3SYoOExoFRrvSn7AaXUKtEw+hqMLJWAtbUXWIa1CKSAI1ibPwq2em+CDqfjm6LD6fgm6TBBg+AwhdhhNBIfwK1OazBBh9PxTdHhdHyTdIiG8afByK6SQfj/nBaQxGkdTse3cVqH0/FtTNAhGizGjYaxZNzKaQFJnNbhdHwbp3U4Hd/GBB2iwWLcaDC2xp2NUmqK1vrIeNfhdHxTdDgd3yQdomH8aTAy41ZKfU4pNTX9Pif+Q5zW4XR8U3Q4Hd8kHaJBNIChGbdSqhPoBfZiDTb6rda6ZbzpcDq+KTqcjm+SDtEgGsDQjBvYB0wBvg4sAbYppZ5QSn1UKVU2jnQ4Hd8UHU7HN0mHaBANZrYDkjWEHPBijTd9GGgZLzqcjm+KDqfjm6RDNIgGrbWxpZKNWusLBnmsSGsdGg86nI5vig6n45ukQzSIBjC3xj1Xa12wQ3lN1eF0fFN0OB3fJB2iQTSAocY9FCp5Ms541+F0fFN0OB3fJMI35ZIAAAJHSURBVB2iYfxoMHVxcii2OS0gidM6nI5v47QOp+PbmKBDNFic9RqMnA6olPqnwR5ilA/hNEmH0/FN0eF0fJN0iAbRAOZm3N8CqoCyrI9SCqvZaR1OxzdFh9PxTdIhGkSDse2Aa4Algzx2eLzocDq+KTqcjm+SDtEgGrQ2tx1wHtCmc+xCUko1aK2bx4MOp+ObosPp+CbpEA2iAcZgV4kgCMJ4x8gat1KqQin1baXUDqVUa/Jje/K+yvGiw+n4puhwOr5JOkSDaABDjRv4DdYBnMu11jVa6xpgRfK+344jHU7HN0WH0/FN0iEaRIOZpRKl1E6t9bxTfexs0+F0fFN0OB3fJB2iQTSAuRn3QaXUF5VSDfYdSqkGpdSX6D/ZejzocDq+KTqcjm+SDtEgGow17puBGuB5pVS7UqoNWAVUAzeNIx1OxzdFh9PxTdIhGkSDmX3cyfLNfOBaoDTr/uvGkw6n45uiw+n4JukQDaKhIN/cabwYnwN2An8ADgA3pj22YbzocDq+KTqcjm+SDtEgGrQ217g32+9gwHRgPXB78vON40WH0/FN0eF0fJN0iAbRoLU2c8gU4NbJkYha6wNKqeXA75RSjVgDXMaLDqfjm6LD6fgm6RANosHYxcnjSqnz7U+SL84NQC2weBzpcDq+KTqcjm+SDtEgGozt454CxLTWx3M8drnWevV40OF0fFN0OB3fJB2iQTSAocYtCIIgDI6ppRJBEARhEMS4BUEQxhhi3IIgCGMMMW5BEIQxhhi3IAjCGOP/ByQ1z85uRdimAAAAAElFTkSuQmCC\n",
      "text/plain": [
       "<Figure size 432x288 with 1 Axes>"
      ]
     },
     "metadata": {
      "needs_background": "light"
     },
     "output_type": "display_data"
    }
   ],
   "source": [
    "plt.plot(df_day.index,df_day['gasPower'])\n",
    "plt.grid(True)\n",
    "plt.xticks(rotation='vertical')\n",
    "plt.show()"
   ]
  },
  {
   "cell_type": "code",
   "execution_count": 100,
   "metadata": {},
   "outputs": [
    {
     "data": {
      "text/html": [
       "<div>\n",
       "<style scoped>\n",
       "    .dataframe tbody tr th:only-of-type {\n",
       "        vertical-align: middle;\n",
       "    }\n",
       "\n",
       "    .dataframe tbody tr th {\n",
       "        vertical-align: top;\n",
       "    }\n",
       "\n",
       "    .dataframe thead th {\n",
       "        text-align: right;\n",
       "    }\n",
       "</style>\n",
       "<table border=\"1\" class=\"dataframe\">\n",
       "  <thead>\n",
       "    <tr style=\"text-align: right;\">\n",
       "      <th></th>\n",
       "      <th>eMeter</th>\n",
       "      <th>eMeterReturn</th>\n",
       "      <th>eMeterLow</th>\n",
       "      <th>eMeterLowReturn</th>\n",
       "      <th>ePower</th>\n",
       "      <th>ePowerReturn</th>\n",
       "      <th>gasMeter</th>\n",
       "      <th>DD</th>\n",
       "      <th>DR</th>\n",
       "      <th>FF</th>\n",
       "      <th>...</th>\n",
       "      <th>gasPower</th>\n",
       "      <th>hour_0</th>\n",
       "      <th>dayofweek_0</th>\n",
       "      <th>dayofweek_1</th>\n",
       "      <th>dayofweek_2</th>\n",
       "      <th>dayofweek_3</th>\n",
       "      <th>dayofweek_4</th>\n",
       "      <th>dayofweek_5</th>\n",
       "      <th>dayofweek_6</th>\n",
       "      <th>T-1</th>\n",
       "    </tr>\n",
       "    <tr>\n",
       "      <th>datetime</th>\n",
       "      <th></th>\n",
       "      <th></th>\n",
       "      <th></th>\n",
       "      <th></th>\n",
       "      <th></th>\n",
       "      <th></th>\n",
       "      <th></th>\n",
       "      <th></th>\n",
       "      <th></th>\n",
       "      <th></th>\n",
       "      <th></th>\n",
       "      <th></th>\n",
       "      <th></th>\n",
       "      <th></th>\n",
       "      <th></th>\n",
       "      <th></th>\n",
       "      <th></th>\n",
       "      <th></th>\n",
       "      <th></th>\n",
       "      <th></th>\n",
       "      <th></th>\n",
       "    </tr>\n",
       "  </thead>\n",
       "  <tbody>\n",
       "    <tr>\n",
       "      <th>2017-02-23</th>\n",
       "      <td>1558.435883</td>\n",
       "      <td>0.0</td>\n",
       "      <td>1805.226395</td>\n",
       "      <td>0.0</td>\n",
       "      <td>173.374907</td>\n",
       "      <td>0.0</td>\n",
       "      <td>1685.894847</td>\n",
       "      <td>239.148194</td>\n",
       "      <td>265.916667</td>\n",
       "      <td>11.608438</td>\n",
       "      <td>...</td>\n",
       "      <td>4.857127</td>\n",
       "      <td>1</td>\n",
       "      <td>0</td>\n",
       "      <td>0</td>\n",
       "      <td>0</td>\n",
       "      <td>1</td>\n",
       "      <td>0</td>\n",
       "      <td>0</td>\n",
       "      <td>0</td>\n",
       "      <td>9.236111</td>\n",
       "    </tr>\n",
       "    <tr>\n",
       "      <th>2017-02-24</th>\n",
       "      <td>1561.837229</td>\n",
       "      <td>0.0</td>\n",
       "      <td>1806.231979</td>\n",
       "      <td>0.0</td>\n",
       "      <td>246.992340</td>\n",
       "      <td>0.0</td>\n",
       "      <td>1694.890589</td>\n",
       "      <td>278.093543</td>\n",
       "      <td>45.766667</td>\n",
       "      <td>5.032826</td>\n",
       "      <td>...</td>\n",
       "      <td>2.768300</td>\n",
       "      <td>1</td>\n",
       "      <td>0</td>\n",
       "      <td>0</td>\n",
       "      <td>0</td>\n",
       "      <td>0</td>\n",
       "      <td>1</td>\n",
       "      <td>0</td>\n",
       "      <td>0</td>\n",
       "      <td>8.590000</td>\n",
       "    </tr>\n",
       "    <tr>\n",
       "      <th>2017-02-25</th>\n",
       "      <td>1564.963013</td>\n",
       "      <td>0.0</td>\n",
       "      <td>1808.506632</td>\n",
       "      <td>0.0</td>\n",
       "      <td>150.144606</td>\n",
       "      <td>0.0</td>\n",
       "      <td>1698.313894</td>\n",
       "      <td>202.265418</td>\n",
       "      <td>14.750000</td>\n",
       "      <td>6.502271</td>\n",
       "      <td>...</td>\n",
       "      <td>0.171661</td>\n",
       "      <td>1</td>\n",
       "      <td>0</td>\n",
       "      <td>0</td>\n",
       "      <td>0</td>\n",
       "      <td>0</td>\n",
       "      <td>0</td>\n",
       "      <td>1</td>\n",
       "      <td>0</td>\n",
       "      <td>4.746250</td>\n",
       "    </tr>\n",
       "    <tr>\n",
       "      <th>2017-02-26</th>\n",
       "      <td>1564.963013</td>\n",
       "      <td>0.0</td>\n",
       "      <td>1817.410950</td>\n",
       "      <td>0.0</td>\n",
       "      <td>679.171475</td>\n",
       "      <td>0.0</td>\n",
       "      <td>1706.148254</td>\n",
       "      <td>208.350207</td>\n",
       "      <td>82.633334</td>\n",
       "      <td>7.540049</td>\n",
       "      <td>...</td>\n",
       "      <td>5.030009</td>\n",
       "      <td>1</td>\n",
       "      <td>0</td>\n",
       "      <td>0</td>\n",
       "      <td>0</td>\n",
       "      <td>0</td>\n",
       "      <td>0</td>\n",
       "      <td>0</td>\n",
       "      <td>1</td>\n",
       "      <td>5.606806</td>\n",
       "    </tr>\n",
       "    <tr>\n",
       "      <th>2017-02-27</th>\n",
       "      <td>1566.147619</td>\n",
       "      <td>0.0</td>\n",
       "      <td>1828.823593</td>\n",
       "      <td>0.0</td>\n",
       "      <td>253.032893</td>\n",
       "      <td>0.0</td>\n",
       "      <td>1711.548060</td>\n",
       "      <td>192.541318</td>\n",
       "      <td>111.916667</td>\n",
       "      <td>7.891396</td>\n",
       "      <td>...</td>\n",
       "      <td>1.315816</td>\n",
       "      <td>1</td>\n",
       "      <td>1</td>\n",
       "      <td>0</td>\n",
       "      <td>0</td>\n",
       "      <td>0</td>\n",
       "      <td>0</td>\n",
       "      <td>0</td>\n",
       "      <td>0</td>\n",
       "      <td>8.688750</td>\n",
       "    </tr>\n",
       "  </tbody>\n",
       "</table>\n",
       "<p>5 rows × 32 columns</p>\n",
       "</div>"
      ],
      "text/plain": [
       "                 eMeter  eMeterReturn    eMeterLow  eMeterLowReturn  \\\n",
       "datetime                                                              \n",
       "2017-02-23  1558.435883           0.0  1805.226395              0.0   \n",
       "2017-02-24  1561.837229           0.0  1806.231979              0.0   \n",
       "2017-02-25  1564.963013           0.0  1808.506632              0.0   \n",
       "2017-02-26  1564.963013           0.0  1817.410950              0.0   \n",
       "2017-02-27  1566.147619           0.0  1828.823593              0.0   \n",
       "\n",
       "                ePower  ePowerReturn     gasMeter          DD          DR  \\\n",
       "datetime                                                                    \n",
       "2017-02-23  173.374907           0.0  1685.894847  239.148194  265.916667   \n",
       "2017-02-24  246.992340           0.0  1694.890589  278.093543   45.766667   \n",
       "2017-02-25  150.144606           0.0  1698.313894  202.265418   14.750000   \n",
       "2017-02-26  679.171475           0.0  1706.148254  208.350207   82.633334   \n",
       "2017-02-27  253.032893           0.0  1711.548060  192.541318  111.916667   \n",
       "\n",
       "                   FF    ...     gasPower  hour_0  dayofweek_0  dayofweek_1  \\\n",
       "datetime                 ...                                                  \n",
       "2017-02-23  11.608438    ...     4.857127       1            0            0   \n",
       "2017-02-24   5.032826    ...     2.768300       1            0            0   \n",
       "2017-02-25   6.502271    ...     0.171661       1            0            0   \n",
       "2017-02-26   7.540049    ...     5.030009       1            0            0   \n",
       "2017-02-27   7.891396    ...     1.315816       1            1            0   \n",
       "\n",
       "            dayofweek_2  dayofweek_3  dayofweek_4  dayofweek_5  dayofweek_6  \\\n",
       "datetime                                                                      \n",
       "2017-02-23            0            1            0            0            0   \n",
       "2017-02-24            0            0            1            0            0   \n",
       "2017-02-25            0            0            0            1            0   \n",
       "2017-02-26            0            0            0            0            1   \n",
       "2017-02-27            0            0            0            0            0   \n",
       "\n",
       "                 T-1  \n",
       "datetime              \n",
       "2017-02-23  9.236111  \n",
       "2017-02-24  8.590000  \n",
       "2017-02-25  4.746250  \n",
       "2017-02-26  5.606806  \n",
       "2017-02-27  8.688750  \n",
       "\n",
       "[5 rows x 32 columns]"
      ]
     },
     "execution_count": 100,
     "metadata": {},
     "output_type": "execute_result"
    }
   ],
   "source": [
    "df_day.head()"
   ]
  },
  {
   "cell_type": "code",
   "execution_count": 101,
   "metadata": {},
   "outputs": [
    {
     "name": "stderr",
     "output_type": "stream",
     "text": [
      "/opt/jupyterhub/anaconda/lib/python3.6/site-packages/sklearn/preprocessing/data.py:617: DataConversionWarning: Data with input dtype uint8, float64 were all converted to float64 by StandardScaler.\n",
      "  return self.partial_fit(X, y)\n"
     ]
    }
   ],
   "source": [
    "X = df_day[['T','T-1','dayofweek_0','dayofweek_1','dayofweek_2','dayofweek_3','dayofweek_4','dayofweek_5','dayofweek_6']]\n",
    "y = df_day[['gasPower']]\n",
    "\n",
    "# labelencoder_y_1 = LabelEncoder()\n",
    "# y = labelencoder_y_1.fit_transform(y)\n",
    "y = np.array(y)\n",
    "\n",
    "\n",
    "test_size = 0.5\n",
    "\n",
    "split_index = int(df_day.shape[0]*test_size) # the index at which to split df into train and test\n",
    "\n",
    "X_train = X[:split_index]\n",
    "y_train = y[:split_index]\n",
    "\n",
    "X_test = X[split_index:]\n",
    "y_test = y[split_index:]\n",
    "        \n",
    "scalerX = StandardScaler(with_mean=True, with_std=True).fit(X_train)\n"
   ]
  },
  {
   "cell_type": "code",
   "execution_count": 102,
   "metadata": {},
   "outputs": [
    {
     "data": {
      "image/png": "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\n",
      "text/plain": [
       "<Figure size 1008x504 with 2 Axes>"
      ]
     },
     "metadata": {
      "needs_background": "light"
     },
     "output_type": "display_data"
    }
   ],
   "source": [
    "plt.style.use('default')\n",
    "%matplotlib inline\n",
    "plt.figure(figsize=(14,7))\n",
    "\n",
    "\n",
    "plt.subplot(1,2,1)\n",
    "plt.grid(True)\n",
    "plt.plot(X_train.index,y_train,'.-',color='b',label='Train data')\n",
    "plt.xlabel('Datetime')\n",
    "plt.ylabel('gasPower')\n",
    "plt.legend()\n",
    "\n",
    "plt.subplot(1,2,2)\n",
    "plt.grid(True)\n",
    "plt.plot(X_test.index,y_test,'.-',color='r',label='Test data')\n",
    "plt.xlabel('Datetime')\n",
    "plt.ylabel('gasPower')\n",
    "plt.legend()\n",
    "\n",
    "plt.show()"
   ]
  },
  {
   "cell_type": "code",
   "execution_count": 103,
   "metadata": {},
   "outputs": [
    {
     "data": {
      "text/plain": [
       "138"
      ]
     },
     "execution_count": 103,
     "metadata": {},
     "output_type": "execute_result"
    }
   ],
   "source": [
    "len(X_train)"
   ]
  },
  {
   "cell_type": "code",
   "execution_count": 104,
   "metadata": {},
   "outputs": [
    {
     "name": "stderr",
     "output_type": "stream",
     "text": [
      "/opt/jupyterhub/anaconda/lib/python3.6/site-packages/sklearn/preprocessing/data.py:617: DataConversionWarning: Data with input dtype uint8, float64 were all converted to float64 by StandardScaler.\n",
      "  return self.partial_fit(X, y)\n",
      "/opt/jupyterhub/anaconda/lib/python3.6/site-packages/sklearn/base.py:462: DataConversionWarning: Data with input dtype uint8, float64 were all converted to float64 by StandardScaler.\n",
      "  return self.fit(X, **fit_params).transform(X)\n",
      "/opt/jupyterhub/anaconda/lib/python3.6/site-packages/ipykernel_launcher.py:3: DataConversionWarning: Data with input dtype uint8, float64 were all converted to float64 by StandardScaler.\n",
      "  This is separate from the ipykernel package so we can avoid doing imports until\n"
     ]
    }
   ],
   "source": [
    "sc = StandardScaler()\n",
    "X_train = sc.fit_transform(X_train)\n",
    "X_test = sc.transform(X_test)"
   ]
  },
  {
   "cell_type": "code",
   "execution_count": 105,
   "metadata": {},
   "outputs": [
    {
     "name": "stderr",
     "output_type": "stream",
     "text": [
      "/opt/jupyterhub/anaconda/lib/python3.6/site-packages/ipykernel_launcher.py:4: UserWarning: Update your `Dense` call to the Keras 2 API: `Dense(activation=\"relu\", input_dim=9, units=16, kernel_initializer=\"uniform\")`\n",
      "  after removing the cwd from sys.path.\n",
      "/opt/jupyterhub/anaconda/lib/python3.6/site-packages/ipykernel_launcher.py:7: UserWarning: Update your `Dense` call to the Keras 2 API: `Dense(activation=\"relu\", units=16, kernel_initializer=\"uniform\")`\n",
      "  import sys\n",
      "/opt/jupyterhub/anaconda/lib/python3.6/site-packages/ipykernel_launcher.py:10: UserWarning: Update your `Dense` call to the Keras 2 API: `Dense(activation=\"sigmoid\", units=1, kernel_initializer=\"uniform\")`\n",
      "  # Remove the CWD from sys.path while we load stuff.\n"
     ]
    }
   ],
   "source": [
    "forecast = Sequential()\n",
    "\n",
    "#first layer with the input data\n",
    "forecast.add(Dense(output_dim =16, init = 'uniform', activation = 'relu', input_dim = 9))\n",
    "\n",
    "#second layer \n",
    "forecast.add(Dense(output_dim = 16, init = 'uniform', activation = 'relu'))\n",
    "\n",
    "#output layer\n",
    "forecast.add(Dense(output_dim = 1, init = 'uniform', activation = 'sigmoid'))"
   ]
  },
  {
   "cell_type": "code",
   "execution_count": 106,
   "metadata": {},
   "outputs": [],
   "source": [
    "forecast_model = multi_gpu_model(forecast, gpus=num_gpu)"
   ]
  },
  {
   "cell_type": "code",
   "execution_count": 107,
   "metadata": {},
   "outputs": [],
   "source": [
    "#compile the network\n",
    "forecast_model.compile(optimizer = 'adam', loss = 'mse', metrics = ['accuracy'])"
   ]
  },
  {
   "cell_type": "code",
   "execution_count": 108,
   "metadata": {},
   "outputs": [
    {
<<<<<<< HEAD
     "data": {
      "image/png": "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\n",
      "text/plain": [
       "<Figure size 864x576 with 2 Axes>"
      ]
     },
     "metadata": {
      "needs_background": "light"
     },
     "output_type": "display_data"
    },
    {
     "name": "stdout",
     "output_type": "stream",
     "text": [
      "0s - loss: 0.0111 - acc: 0.0145 - val_loss: 0.0173 - val_acc: 0.0072\n"
=======
     "name": "stdout",
     "output_type": "stream",
     "text": [
      "Epoch 1/100\n",
      "139/139 [==============================] - 0s 2ms/step - loss: 0.0836 - acc: 0.0072\n",
      "Epoch 2/100\n",
      "139/139 [==============================] - 0s 1ms/step - loss: 0.0831 - acc: 0.0072\n",
      "Epoch 3/100\n",
      "139/139 [==============================] - 0s 1ms/step - loss: 0.0817 - acc: 0.0072\n",
      "Epoch 4/100\n",
      "139/139 [==============================] - 0s 1ms/step - loss: 0.0785 - acc: 0.0072\n",
      "Epoch 5/100\n",
      "139/139 [==============================] - 0s 1ms/step - loss: 0.0727 - acc: 0.0144\n",
      "Epoch 6/100\n",
      "139/139 [==============================] - 0s 1ms/step - loss: 0.0629 - acc: 0.0144\n",
      "Epoch 7/100\n",
      "139/139 [==============================] - 0s 1ms/step - loss: 0.0515 - acc: 0.0144\n",
      "Epoch 8/100\n",
      "139/139 [==============================] - 0s 2ms/step - loss: 0.0389 - acc: 0.0144\n",
      "Epoch 9/100\n",
      "139/139 [==============================] - 0s 1ms/step - loss: 0.0287 - acc: 0.0144\n",
      "Epoch 10/100\n",
      "139/139 [==============================] - 0s 1ms/step - loss: 0.0224 - acc: 0.0144\n",
      "Epoch 11/100\n",
      "139/139 [==============================] - 0s 1ms/step - loss: 0.0176 - acc: 0.0144\n",
      "Epoch 12/100\n",
      "139/139 [==============================] - 0s 1ms/step - loss: 0.0153 - acc: 0.0144\n",
      "Epoch 13/100\n",
      "139/139 [==============================] - 0s 1ms/step - loss: 0.0145 - acc: 0.0144\n",
      "Epoch 14/100\n",
      "139/139 [==============================] - 0s 1ms/step - loss: 0.0140 - acc: 0.0144\n",
      "Epoch 15/100\n",
      "139/139 [==============================] - 0s 1ms/step - loss: 0.0138 - acc: 0.0144\n",
      "Epoch 16/100\n",
      "139/139 [==============================] - 0s 1ms/step - loss: 0.0137 - acc: 0.0144\n",
      "Epoch 17/100\n",
      "139/139 [==============================] - 0s 1ms/step - loss: 0.0136 - acc: 0.0144\n",
      "Epoch 18/100\n",
      "139/139 [==============================] - 0s 1ms/step - loss: 0.0135 - acc: 0.0144\n",
      "Epoch 19/100\n",
      "139/139 [==============================] - 0s 1ms/step - loss: 0.0134 - acc: 0.0144\n",
      "Epoch 20/100\n",
      "139/139 [==============================] - 0s 1ms/step - loss: 0.0134 - acc: 0.0144\n",
      "Epoch 21/100\n",
      "139/139 [==============================] - 0s 1ms/step - loss: 0.0133 - acc: 0.0144\n",
      "Epoch 22/100\n",
      "139/139 [==============================] - 0s 1ms/step - loss: 0.0133 - acc: 0.0144\n",
      "Epoch 23/100\n",
      "139/139 [==============================] - 0s 2ms/step - loss: 0.0133 - acc: 0.0144\n",
      "Epoch 24/100\n",
      "139/139 [==============================] - 0s 942us/step - loss: 0.0132 - acc: 0.0144\n",
      "Epoch 25/100\n",
      "139/139 [==============================] - 0s 2ms/step - loss: 0.0132 - acc: 0.0144\n",
      "Epoch 26/100\n",
      "139/139 [==============================] - 0s 1ms/step - loss: 0.0132 - acc: 0.0144\n",
      "Epoch 27/100\n",
      "139/139 [==============================] - 0s 1ms/step - loss: 0.0131 - acc: 0.0144\n",
      "Epoch 28/100\n",
      "139/139 [==============================] - 0s 616us/step - loss: 0.0131 - acc: 0.0144\n",
      "Epoch 29/100\n",
      "139/139 [==============================] - 0s 324us/step - loss: 0.0130 - acc: 0.0144\n",
      "Epoch 30/100\n",
      "139/139 [==============================] - 0s 312us/step - loss: 0.0131 - acc: 0.0144\n",
      "Epoch 31/100\n",
      "139/139 [==============================] - 0s 331us/step - loss: 0.0130 - acc: 0.0144\n",
      "Epoch 32/100\n",
      "139/139 [==============================] - 0s 510us/step - loss: 0.0130 - acc: 0.0144\n",
      "Epoch 33/100\n",
      "139/139 [==============================] - 0s 1ms/step - loss: 0.0130 - acc: 0.0144\n",
      "Epoch 34/100\n",
      "139/139 [==============================] - 0s 1ms/step - loss: 0.0129 - acc: 0.0144\n",
      "Epoch 35/100\n",
      "139/139 [==============================] - 0s 1ms/step - loss: 0.0129 - acc: 0.0144\n",
      "Epoch 36/100\n",
      "139/139 [==============================] - 0s 1ms/step - loss: 0.0129 - acc: 0.0144\n",
      "Epoch 37/100\n",
      "139/139 [==============================] - 0s 1ms/step - loss: 0.0129 - acc: 0.0144\n",
      "Epoch 38/100\n",
      "139/139 [==============================] - 0s 1ms/step - loss: 0.0129 - acc: 0.0144\n",
      "Epoch 39/100\n",
      "139/139 [==============================] - 0s 1ms/step - loss: 0.0129 - acc: 0.0144\n",
      "Epoch 40/100\n",
      "139/139 [==============================] - 0s 1ms/step - loss: 0.0129 - acc: 0.0144\n",
      "Epoch 41/100\n",
      "139/139 [==============================] - 0s 1ms/step - loss: 0.0128 - acc: 0.0144\n",
      "Epoch 42/100\n",
      "139/139 [==============================] - 0s 1ms/step - loss: 0.0128 - acc: 0.0144\n",
      "Epoch 43/100\n",
      "139/139 [==============================] - 0s 1ms/step - loss: 0.0128 - acc: 0.0144\n",
      "Epoch 44/100\n",
      "139/139 [==============================] - 0s 1ms/step - loss: 0.0128 - acc: 0.0144\n",
      "Epoch 45/100\n",
      "139/139 [==============================] - 0s 1ms/step - loss: 0.0128 - acc: 0.0144\n",
      "Epoch 46/100\n",
      "139/139 [==============================] - 0s 1ms/step - loss: 0.0128 - acc: 0.0144\n",
      "Epoch 47/100\n",
      "139/139 [==============================] - 0s 1ms/step - loss: 0.0128 - acc: 0.0144\n",
      "Epoch 48/100\n",
      "139/139 [==============================] - 0s 1ms/step - loss: 0.0128 - acc: 0.0144\n",
      "Epoch 49/100\n",
      "139/139 [==============================] - 0s 1ms/step - loss: 0.0128 - acc: 0.0144\n",
      "Epoch 50/100\n",
      "139/139 [==============================] - 0s 1ms/step - loss: 0.0127 - acc: 0.0144\n",
      "Epoch 51/100\n",
      "139/139 [==============================] - 0s 1ms/step - loss: 0.0128 - acc: 0.0144\n",
      "Epoch 52/100\n",
      "139/139 [==============================] - 0s 1ms/step - loss: 0.0127 - acc: 0.0144\n",
      "Epoch 53/100\n",
      "139/139 [==============================] - 0s 1ms/step - loss: 0.0128 - acc: 0.0144\n",
      "Epoch 54/100\n",
      "139/139 [==============================] - 0s 378us/step - loss: 0.0127 - acc: 0.0144\n",
      "Epoch 55/100\n",
      "139/139 [==============================] - 0s 362us/step - loss: 0.0127 - acc: 0.0144\n",
      "Epoch 56/100\n",
      "139/139 [==============================] - 0s 321us/step - loss: 0.0127 - acc: 0.0144\n",
      "Epoch 57/100\n",
      "139/139 [==============================] - 0s 347us/step - loss: 0.0127 - acc: 0.0144\n",
      "Epoch 58/100\n",
      "139/139 [==============================] - 0s 317us/step - loss: 0.0127 - acc: 0.0144\n",
      "Epoch 59/100\n",
      "139/139 [==============================] - 0s 315us/step - loss: 0.0127 - acc: 0.0144\n",
      "Epoch 60/100\n",
      "139/139 [==============================] - 0s 332us/step - loss: 0.0127 - acc: 0.0144\n",
      "Epoch 61/100\n",
      "139/139 [==============================] - 0s 343us/step - loss: 0.0127 - acc: 0.0144\n",
      "Epoch 62/100\n",
      "139/139 [==============================] - 0s 327us/step - loss: 0.0126 - acc: 0.0144\n",
      "Epoch 63/100\n",
      "139/139 [==============================] - 0s 310us/step - loss: 0.0126 - acc: 0.0144\n",
      "Epoch 64/100\n",
      "139/139 [==============================] - 0s 1ms/step - loss: 0.0126 - acc: 0.0144\n",
      "Epoch 65/100\n",
      "139/139 [==============================] - 0s 1ms/step - loss: 0.0126 - acc: 0.0144\n",
      "Epoch 66/100\n",
      "139/139 [==============================] - 0s 2ms/step - loss: 0.0127 - acc: 0.0144\n",
      "Epoch 67/100\n",
      "139/139 [==============================] - 0s 1ms/step - loss: 0.0126 - acc: 0.0144\n",
      "Epoch 68/100\n",
      "139/139 [==============================] - 0s 1ms/step - loss: 0.0126 - acc: 0.0144\n",
      "Epoch 69/100\n",
      "139/139 [==============================] - 0s 1ms/step - loss: 0.0126 - acc: 0.0144\n",
      "Epoch 70/100\n",
      "139/139 [==============================] - 0s 1ms/step - loss: 0.0126 - acc: 0.0144\n",
      "Epoch 71/100\n",
      "139/139 [==============================] - 0s 1ms/step - loss: 0.0125 - acc: 0.0144\n",
      "Epoch 72/100\n",
      "139/139 [==============================] - 0s 1ms/step - loss: 0.0126 - acc: 0.0144\n",
      "Epoch 73/100\n",
      "139/139 [==============================] - 0s 1ms/step - loss: 0.0126 - acc: 0.0144\n",
      "Epoch 74/100\n",
      "139/139 [==============================] - 0s 1ms/step - loss: 0.0126 - acc: 0.0144\n",
      "Epoch 75/100\n",
      "139/139 [==============================] - 0s 1ms/step - loss: 0.0126 - acc: 0.0144\n",
      "Epoch 76/100\n",
      "139/139 [==============================] - 0s 1ms/step - loss: 0.0125 - acc: 0.0144\n",
      "Epoch 77/100\n",
      "139/139 [==============================] - 0s 1ms/step - loss: 0.0125 - acc: 0.0144\n",
      "Epoch 78/100\n",
      "139/139 [==============================] - 0s 1ms/step - loss: 0.0126 - acc: 0.0144\n",
      "Epoch 79/100\n",
      "139/139 [==============================] - 0s 1ms/step - loss: 0.0125 - acc: 0.0144\n",
      "Epoch 80/100\n",
      "139/139 [==============================] - 0s 1ms/step - loss: 0.0125 - acc: 0.0144\n",
      "Epoch 81/100\n",
      "139/139 [==============================] - 0s 1ms/step - loss: 0.0126 - acc: 0.0144\n",
      "Epoch 82/100\n",
      "139/139 [==============================] - 0s 1ms/step - loss: 0.0125 - acc: 0.0144\n",
      "Epoch 83/100\n",
      "139/139 [==============================] - 0s 2ms/step - loss: 0.0125 - acc: 0.0144\n",
      "Epoch 84/100\n",
      "139/139 [==============================] - 0s 1ms/step - loss: 0.0125 - acc: 0.0144\n",
      "Epoch 85/100\n",
      "139/139 [==============================] - 0s 1ms/step - loss: 0.0125 - acc: 0.0144\n",
      "Epoch 86/100\n",
      "139/139 [==============================] - 0s 1ms/step - loss: 0.0125 - acc: 0.0144\n",
      "Epoch 87/100\n",
      "139/139 [==============================] - 0s 1ms/step - loss: 0.0125 - acc: 0.0144\n",
      "Epoch 88/100\n",
      "139/139 [==============================] - 0s 2ms/step - loss: 0.0125 - acc: 0.0144\n",
      "Epoch 89/100\n",
      "139/139 [==============================] - 0s 1ms/step - loss: 0.0125 - acc: 0.0144\n",
      "Epoch 90/100\n",
      "139/139 [==============================] - 0s 1ms/step - loss: 0.0125 - acc: 0.0144\n",
      "Epoch 91/100\n",
      "139/139 [==============================] - 0s 1ms/step - loss: 0.0125 - acc: 0.0144\n",
      "Epoch 92/100\n",
      "139/139 [==============================] - 0s 1ms/step - loss: 0.0124 - acc: 0.0144\n",
      "Epoch 93/100\n",
      "139/139 [==============================] - 0s 1ms/step - loss: 0.0125 - acc: 0.0144\n",
      "Epoch 94/100\n",
      "139/139 [==============================] - 0s 1ms/step - loss: 0.0125 - acc: 0.0144\n",
      "Epoch 95/100\n",
      "139/139 [==============================] - 0s 1ms/step - loss: 0.0126 - acc: 0.0144\n",
      "Epoch 96/100\n",
      "139/139 [==============================] - 0s 1ms/step - loss: 0.0125 - acc: 0.0144\n",
      "Epoch 97/100\n",
      "139/139 [==============================] - 0s 1ms/step - loss: 0.0125 - acc: 0.0144\n",
      "Epoch 98/100\n",
      "139/139 [==============================] - 0s 2ms/step - loss: 0.0125 - acc: 0.0144\n",
      "Epoch 99/100\n",
      "139/139 [==============================] - 0s 1ms/step - loss: 0.0125 - acc: 0.0144\n",
      "Epoch 100/100\n",
      "139/139 [==============================] - 0s 320us/step - loss: 0.0124 - acc: 0.0144\n"
>>>>>>> fd99a7be00e3c9a0c47da8ad00d07df942a759d1
     ]
    }
   ],
   "source": [
    "#Bach size is used to specify the number of observation after which you want to update weight\n",
    "#Epoch is nothing but the total number of iterations\n",
    "#We can divide the dataset of 2000 examples into batches of 500 then it will take 4 iterations to complete 1 epoch.\n",
    "y_train = (y_train-min(y_train))/(max(y_train)-min(y_train))\n",
    "y_test = (y_test-min(y_test))/(max(y_test)-min(y_test))\n",
    "\n",
    "forecast_model.fit(X_train, y_train, batch_size = 10,epochs = 100,verbose=2,validation_data=(X_test, y_test), callbacks=[EarlyStopping(patience=5000), PlotLossesKeras()]);"
   ]
  },
  {
   "cell_type": "code",
   "execution_count": 109,
   "metadata": {},
   "outputs": [],
   "source": [
    "from sklearn.metrics import confusion_matrix\n",
    "\n",
    "y_pred = forecast_model.predict(X_test)\n"
   ]
  },
  {
   "cell_type": "code",
   "execution_count": 110,
   "metadata": {},
   "outputs": [],
   "source": [
    "def mean_absolute_percentage_error(y_true, y_pred): \n",
    "    y_true, y_pred = np.array(y_true), np.array(y_pred)\n",
    "    return np.mean(np.abs((y_true - y_pred) / y_true)) * 100"
   ]
  },
  {
   "cell_type": "code",
   "execution_count": 111,
   "metadata": {
    "scrolled": true
   },
   "outputs": [
    {
     "name": "stderr",
     "output_type": "stream",
     "text": [
      "/opt/jupyterhub/anaconda/lib/python3.6/site-packages/ipykernel_launcher.py:3: RuntimeWarning: divide by zero encountered in true_divide\n",
      "  This is separate from the ipykernel package so we can avoid doing imports until\n"
     ]
    },
    {
     "data": {
      "image/png": "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\n",
      "text/plain": [
       "<Figure size 504x216 with 1 Axes>"
      ]
     },
     "metadata": {
      "needs_background": "light"
     },
     "output_type": "display_data"
    }
   ],
   "source": [
    "from sklearn.metrics import mean_squared_error\n",
    "X1_datetime=df_day.index[len(X_train):]\n",
    "# y_test = (y_test-min(y_test))/(max(y_test)-min(y_test))\n",
    "\n",
    "mape=mean_absolute_percentage_error(y_test,y_pred)#could the result be infinite because i have to denormalize?\n",
    "\n",
    "plt.figure(figsize=(7,3))\n",
    "\n",
    "plt.title('DNN DAILY DATA\\n USING: T,T-1\\n DUMMIE: DAY OF THE WEEK \\n M.S.E.='+str(mean_squared_error(y_test,y_pred))+'\\n M.A.P.E.= '+str(mape))\n",
    "plt.grid(True)\n",
    "plt.plot(X1_datetime,y_pred,'.-',color='b',label='Test data')\n",
    "plt.xlabel('Datetime')\n",
    "plt.ylabel('gasPower')\n",
    "plt.plot(X1_datetime,y_test,'.-',color='r',label='Test data',alpha=0.3)\n",
    "\n",
    "\n",
    "plt.legend()\n",
    "#plt.savefig('dnn1.png', dpi=100)\n",
    "plt.show()\n",
    "\n"
   ]
  },
  {
   "cell_type": "code",
   "execution_count": null,
   "metadata": {},
   "outputs": [],
   "source": []
  },
  {
   "cell_type": "code",
   "execution_count": null,
   "metadata": {},
   "outputs": [],
   "source": []
  },
  {
   "cell_type": "code",
   "execution_count": null,
   "metadata": {},
   "outputs": [],
   "source": []
  },
  {
   "cell_type": "code",
   "execution_count": null,
   "metadata": {},
   "outputs": [],
   "source": []
  }
 ],
 "metadata": {
  "kernelspec": {
   "display_name": "Python 3",
   "language": "python",
   "name": "python3"
  },
  "language_info": {
   "codemirror_mode": {
    "name": "ipython",
    "version": 3
   },
   "file_extension": ".py",
   "mimetype": "text/x-python",
   "name": "python",
   "nbconvert_exporter": "python",
   "pygments_lexer": "ipython3",
   "version": "3.6.6"
  }
 },
 "nbformat": 4,
 "nbformat_minor": 2
}
