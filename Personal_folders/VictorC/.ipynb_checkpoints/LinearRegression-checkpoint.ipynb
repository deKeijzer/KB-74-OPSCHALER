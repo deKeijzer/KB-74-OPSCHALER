{
 "cells": [
  {
   "cell_type": "code",
   "execution_count": 4,
   "metadata": {},
   "outputs": [],
   "source": [
    "import pandas as pd\n",
    "import matplotlib as plt\n",
    "df=pd.read_csv('/datc/opschaler/combined_dfs_gas_smart_weather/P01S01W0373_merged_gas_smart_weather.csv',header=0,delimiter='\\t')\n"
   ]
  },
  {
   "cell_type": "code",
   "execution_count": 15,
   "metadata": {
    "scrolled": true
   },
   "outputs": [
    {
     "data": {
      "text/plain": [
       "0          6.580000\n",
       "1          6.583333\n",
       "2          6.586667\n",
       "3          6.590000\n",
       "4          6.593333\n",
       "5          6.596667\n",
       "6          6.600000\n",
       "7          6.603333\n",
       "8          6.606667\n",
       "9          6.610000\n",
       "10         6.613333\n",
       "11         6.616667\n",
       "12         6.620000\n",
       "13         6.623333\n",
       "14         6.626667\n",
       "15         6.630000\n",
       "16         6.633333\n",
       "17         6.636667\n",
       "18         6.640000\n",
       "19         6.643333\n",
       "20         6.646667\n",
       "21         6.650000\n",
       "22         6.653333\n",
       "23         6.656667\n",
       "24         6.660000\n",
       "25         6.663333\n",
       "26         6.666667\n",
       "27         6.670000\n",
       "28         6.673333\n",
       "29         6.676667\n",
       "            ...    \n",
       "193807    13.196667\n",
       "193808    13.193333\n",
       "193809    13.190000\n",
       "193810    13.186667\n",
       "193811    13.183333\n",
       "193812    13.180000\n",
       "193813    13.176667\n",
       "193814    13.173333\n",
       "193815    13.170000\n",
       "193816    13.166667\n",
       "193817    13.163333\n",
       "193818    13.160000\n",
       "193819    13.156667\n",
       "193820    13.153333\n",
       "193821    13.150000\n",
       "193822    13.146667\n",
       "193823    13.143333\n",
       "193824    13.140000\n",
       "193825    13.136667\n",
       "193826    13.133333\n",
       "193827    13.130000\n",
       "193828    13.126667\n",
       "193829    13.123333\n",
       "193830    13.120000\n",
       "193831    13.116667\n",
       "193832    13.113333\n",
       "193833    13.110000\n",
       "193834    13.106667\n",
       "193835    13.103333\n",
       "193836    13.100000\n",
       "Name: T, Length: 193837, dtype: float64"
      ]
     },
     "execution_count": 15,
     "metadata": {},
     "output_type": "execute_result"
    }
   ],
   "source": [
    "GP = df['gasPower'].values\n",
    "Q = df['Q'].values\n",
    "T = df['T'].values\n",
    "\n"
   ]
  },
  {
   "cell_type": "code",
   "execution_count": 10,
   "metadata": {},
   "outputs": [
    {
     "ename": "TypeError",
     "evalue": "data type not understood",
     "output_type": "error",
     "traceback": [
      "\u001b[0;31m---------------------------------------------------------------------------\u001b[0m",
      "\u001b[0;31mTypeError\u001b[0m                                 Traceback (most recent call last)",
      "\u001b[0;32m<ipython-input-10-290158c873d9>\u001b[0m in \u001b[0;36m<module>\u001b[0;34m()\u001b[0m\n\u001b[1;32m      4\u001b[0m \u001b[0;34m\u001b[0m\u001b[0m\n\u001b[1;32m      5\u001b[0m \u001b[0;31m# X and Y Values\u001b[0m\u001b[0;34m\u001b[0m\u001b[0;34m\u001b[0m\u001b[0m\n\u001b[0;32m----> 6\u001b[0;31m \u001b[0mX\u001b[0m \u001b[0;34m=\u001b[0m \u001b[0mnp\u001b[0m\u001b[0;34m.\u001b[0m\u001b[0marray\u001b[0m\u001b[0;34m(\u001b[0m\u001b[0mT\u001b[0m\u001b[0;34m,\u001b[0m\u001b[0mQ\u001b[0m\u001b[0;34m)\u001b[0m\u001b[0;34m\u001b[0m\u001b[0m\n\u001b[0m\u001b[1;32m      7\u001b[0m \u001b[0mY\u001b[0m \u001b[0;34m=\u001b[0m \u001b[0mnp\u001b[0m\u001b[0;34m.\u001b[0m\u001b[0marray\u001b[0m\u001b[0;34m(\u001b[0m\u001b[0mGP\u001b[0m\u001b[0;34m)\u001b[0m\u001b[0;34m\u001b[0m\u001b[0m\n\u001b[1;32m      8\u001b[0m \u001b[0;34m\u001b[0m\u001b[0m\n",
      "\u001b[0;31mTypeError\u001b[0m: data type not understood"
     ]
    }
   ],
   "source": [
    "from sklearn.linear_model import LinearRegression\n",
    "from sklearn.metrics import mean_squared_error\n",
    "import numpy as np\n",
    "\n",
    "# X and Y Values\n",
    "X = np.array(T,Q).T\n",
    "Y = np.array(GP)\n",
    "\n",
    "# Model Intialization\n",
    "reg = LinearRegression()\n",
    "# Data Fitting\n",
    "reg = reg.fit(X, Y)\n",
    "# Y Prediction\n",
    "Y_pred = reg.predict(X)\n",
    "\n",
    "# Model Evaluation\n",
    "rmse = np.sqrt(mean_squared_error(Y, Y_pred))\n",
    "r2 = reg.score(X, Y)\n",
    "\n",
    "print(rmse)\n",
    "print(r2)\n"
   ]
  },
  {
   "cell_type": "code",
   "execution_count": null,
   "metadata": {},
   "outputs": [],
   "source": []
  }
 ],
 "metadata": {
  "kernelspec": {
   "display_name": "Python 3",
   "language": "python",
   "name": "python3"
  },
  "language_info": {
   "codemirror_mode": {
    "name": "ipython",
    "version": 3
   },
   "file_extension": ".py",
   "mimetype": "text/x-python",
   "name": "python",
   "nbconvert_exporter": "python",
   "pygments_lexer": "ipython3",
   "version": "3.6.1"
  }
 },
 "nbformat": 4,
 "nbformat_minor": 2
}
