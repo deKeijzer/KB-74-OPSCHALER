{
 "cells": [
  {
   "cell_type": "code",
   "execution_count": 42,
   "metadata": {},
   "outputs": [],
   "source": [
    "import pandas as pd\n",
    "import matplotlib.pyplot as plt\n",
    "df=pd.read_csv('/datc/opschaler/combined_dfs_gas_smart_weather/P01S01W0373.csv',header=0,delimiter='\\t')\n"
   ]
  },
  {
   "cell_type": "code",
   "execution_count": 43,
   "metadata": {
    "scrolled": true
   },
   "outputs": [],
   "source": [
    "df['Q'].replace(\" \",\"\")\n",
    "df['T'].replace(\" \",\"\")\n",
    "df['gasPower'].replace(\" \",\"\")\n",
    "\n",
    "GP = df['gasPower']\n",
    "Q = df['Q']\n",
    "T = df['T']\n"
   ]
  },
  {
   "cell_type": "code",
   "execution_count": null,
   "metadata": {},
   "outputs": [],
   "source": [
    "plt.plot(df['Q'], df['T'], '-', color='r', linewidth=1)\n",
    "plt.xlabel('Date [-]')\n",
    "plt.ylabel('Gasmeter')\n",
    "plt.xticks(rotation=45)\n",
    "plt.grid()\n",
    "plt.tight_layout()\n",
    "#plt.savefig('sample2.png', dpi=1000)\n",
    "plt.show()"
   ]
  },
  {
   "cell_type": "code",
   "execution_count": 37,
   "metadata": {},
   "outputs": [
    {
     "name": "stderr",
     "output_type": "stream",
     "text": [
      "/opt/jupyterhub/anaconda/lib/python3.6/site-packages/statsmodels/compat/pandas.py:56: FutureWarning: The pandas.core.datetools module is deprecated and will be removed in a future version. Please use the pandas.tseries module instead.\n",
      "  from pandas.core import datetools\n"
     ]
    },
    {
     "name": "stdout",
     "output_type": "stream",
     "text": [
      "Intercept: \n",
      " 0.00200940641255\n",
      "Coefficients: \n",
      " [ -1.17297432e-04   4.03895475e-07]\n",
      "                            OLS Regression Results                            \n",
      "==============================================================================\n",
      "Dep. Variable:               gasPower   R-squared:                       0.057\n",
      "Model:                            OLS   Adj. R-squared:                  0.057\n",
      "Method:                 Least Squares   F-statistic:                     5852.\n",
      "Date:                Fri, 21 Sep 2018   Prob (F-statistic):               0.00\n",
      "Time:                        10:51:24   Log-Likelihood:             9.8755e+05\n",
      "No. Observations:              193837   AIC:                        -1.975e+06\n",
      "Df Residuals:                  193834   BIC:                        -1.975e+06\n",
      "Df Model:                           2                                         \n",
      "Covariance Type:            nonrobust                                         \n",
      "==============================================================================\n",
      "                 coef    std err          t      P>|t|      [0.025      0.975]\n",
      "------------------------------------------------------------------------------\n",
      "const          0.0020   9.69e-06    207.332      0.000       0.002       0.002\n",
      "T             -0.0001   1.23e-06    -95.185      0.000      -0.000      -0.000\n",
      "Q           4.039e-07   2.24e-08     18.025      0.000     3.6e-07    4.48e-07\n",
      "==============================================================================\n",
      "Omnibus:                    55107.057   Durbin-Watson:                   0.003\n",
      "Prob(Omnibus):                  0.000   Jarque-Bera (JB):           128813.218\n",
      "Skew:                           1.623   Prob(JB):                         0.00\n",
      "Kurtosis:                       5.327   Cond. No.                         674.\n",
      "==============================================================================\n",
      "\n",
      "Warnings:\n",
      "[1] Standard Errors assume that the covariance matrix of the errors is correctly specified.\n"
     ]
    }
   ],
   "source": [
    "from sklearn.linear_model import LinearRegression\n",
    "from sklearn.metrics import mean_squared_error\n",
    "import statsmodels.api as sm\n",
    "\n",
    "# X and Y Values\n",
    "X = df[['T','Q']]\n",
    "Y = GP\n",
    "\n",
    "regr = LinearRegression()#Create an object of type LinearRegression()\n",
    "regr.fit(X,Y)#Fit the data for the 3 variables\n",
    "\n",
    "print('Intercept: \\n', regr.intercept_)#The intercept is the expected mean value of Y when all X=0\n",
    "print('Coefficients: \\n', regr.coef_)#Coefficients of the equation that fit the data\n",
    "\n",
    "#Code that displays a table with statistical info\n",
    "X = sm.add_constant(X)\n",
    " \n",
    "model = sm.OLS(Y, X).fit()\n",
    "predictions = model.predict(X) \n",
    " \n",
    "print_model = model.summary()\n",
    "print(print_model)"
   ]
  },
  {
   "cell_type": "code",
   "execution_count": null,
   "metadata": {},
   "outputs": [],
   "source": [
    "from mpl_toolkits import mplot3d\n",
    "%matplotlib inline\n",
    "import numpy as np\n",
    "import matplotlib.pyplot as plt\n",
    "\n",
    "\n",
    "\n",
    "fig = plt.figure()\n",
    "ax = plt.axes(projection='3d')\n",
    "\n"
   ]
  }
 ],
 "metadata": {
  "kernelspec": {
   "display_name": "Python 3",
   "language": "python",
   "name": "python3"
  },
  "language_info": {
   "codemirror_mode": {
    "name": "ipython",
    "version": 3
   },
   "file_extension": ".py",
   "mimetype": "text/x-python",
   "name": "python",
   "nbconvert_exporter": "python",
   "pygments_lexer": "ipython3",
   "version": "3.6.1"
  }
 },
 "nbformat": 4,
 "nbformat_minor": 2
}
