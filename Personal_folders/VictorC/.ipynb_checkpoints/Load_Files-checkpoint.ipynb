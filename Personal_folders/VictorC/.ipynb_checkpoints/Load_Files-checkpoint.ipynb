{
 "cells": [
  {
   "cell_type": "code",
   "execution_count": 1,
   "metadata": {},
   "outputs": [],
   "source": [
    "import pandas as pd \n",
    "import glob"
   ]
  },
  {
   "cell_type": "code",
   "execution_count": 10,
   "metadata": {},
   "outputs": [],
   "source": [
    "#READING ALL EXCELS\n",
    "path='/datc/opschaler/smartmeter_data'\n",
    "filenames = glob.glob(path + \"/*.csv\")"
   ]
  },
  {
   "cell_type": "code",
   "execution_count": 25,
   "metadata": {},
   "outputs": [],
   "source": [
    "dfs = pd.DataFrame()\n",
    "list_=[]\n",
    "for f in filenames:\n",
    "    df = pd.read_csv(f,index_col=None, header=0)\n",
    "    list_.append(df)\n",
    "\n",
    "dfs=pd.concat(list_)"
   ]
  },
  {
   "cell_type": "code",
   "execution_count": 28,
   "metadata": {},
   "outputs": [
    {
     "name": "stdout",
     "output_type": "stream",
     "text": [
      "  Timestamp;eMeter;eMeterReturn;eMeterLow;eMeterLowReturn;ePower;ePowerReturn;gasTimestamp;gasMeter\n",
      "0  2017-03-07 07:35:16;2402.278;0.000;1872.316;0....                                               \n",
      "1  2017-03-07 07:35:26;2402.285;0.000;1872.316;0....                                               \n",
      "2  2017-03-07 07:35:36;2402.292;0.000;1872.316;0....                                               \n",
      "3  2017-03-07 07:35:46;2402.293;0.000;1872.316;0....                                               \n",
      "4  2017-03-07 07:35:56;2402.295;0.000;1872.316;0....                                               \n"
     ]
    }
   ],
   "source": []
  },
  {
   "cell_type": "code",
   "execution_count": null,
   "metadata": {},
   "outputs": [],
   "source": []
  }
 ],
 "metadata": {
  "kernelspec": {
   "display_name": "Python 3",
   "language": "python",
   "name": "python3"
  },
  "language_info": {
   "codemirror_mode": {
    "name": "ipython",
    "version": 3
   },
   "file_extension": ".py",
   "mimetype": "text/x-python",
   "name": "python",
   "nbconvert_exporter": "python",
   "pygments_lexer": "ipython3",
   "version": "3.6.1"
  }
 },
 "nbformat": 4,
 "nbformat_minor": 2
}
