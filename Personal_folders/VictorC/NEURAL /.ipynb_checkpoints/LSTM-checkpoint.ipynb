{
 "cells": [
  {
   "cell_type": "code",
   "execution_count": 28,
   "metadata": {},
   "outputs": [],
   "source": [
    "#HERE YOU FIND ALL THE LIBRARYS FOR THIS PROJECT\n",
    "import pandas as pd\n",
    "import numpy as np \n",
    "from sklearn.preprocessing import LabelEncoder, OneHotEncoder\n",
    "\n",
    "from sklearn.model_selection import train_test_split\n",
    "import matplotlib.pyplot as plt\n",
    "from sklearn.preprocessing import StandardScaler\n",
    "\n",
    "import keras\n",
    "from keras.models import Sequential\n",
    "from keras.layers import Dense\n",
    "from keras.layers import LSTM\n",
    "\n",
    "\n",
    "#this librarys are for the gpu usage\n",
    "import tensorflow as tf\n",
    "from keras.utils.training_utils import multi_gpu_model\n",
    "from tensorflow.python.client import device_lib"
   ]
  },
  {
   "cell_type": "code",
   "execution_count": 29,
   "metadata": {},
   "outputs": [
    {
     "name": "stdout",
     "output_type": "stream",
     "text": [
      "Amount of GPUs available: 4\n"
     ]
    }
   ],
   "source": [
    "\"\"\"\n",
    "Setup multi GPU usage\n",
    "\n",
    "Example usage:\n",
    "model = Sequential()\n",
    "...\n",
    "multi_model = multi_gpu_model(model, gpus=num_gpu)\n",
    "multi_model.fit()\n",
    "\n",
    "About memory usage:\n",
    "https://stackoverflow.com/questions/34199233/how-to-prevent-tensorflow-from-allocating-the-totality-of-a-gpu-memory\n",
    "\"\"\"\n",
    "\n",
    "# IMPORTANT: Tells tf to not occupy a specific amount of memory\n",
    "from keras.backend.tensorflow_backend import set_session  \n",
    "config = tf.ConfigProto()  \n",
    "config.gpu_options.allow_growth = True  # dynamically grow the memory used on the GPU  \n",
    "sess = tf.Session(config=config)  \n",
    "set_session(sess)  # set this TensorFlow session as the default session for Keras.\n",
    "\n",
    "\n",
    "# getting the number of GPUs \n",
    "def get_available_gpus():\n",
    "   local_device_protos = device_lib.list_local_devices()\n",
    "   return [x.name for x in local_device_protos if x.device_type    == 'GPU']\n",
    "num_gpu = len(get_available_gpus())\n",
    "print('Amount of GPUs available: %s' % num_gpu)"
   ]
  },
  {
   "cell_type": "code",
   "execution_count": 30,
   "metadata": {},
   "outputs": [],
   "source": [
    "#SELECT THE DATA TO USE\n",
    "df = pd.read_csv('//datc//opschaler//combined_gas_smart_weather_dfs//processed//all_dwellings_combined_hour.csv', delimiter='\\t', parse_dates=['datetime'])\n",
    "df = df.set_index(['datetime'])\n",
    "df = df.dropna()\n",
    "\n",
    "df['gasPower'] = df['gasPower']*10\n",
    "df['T-1'] = df['T'].shift(1)"
   ]
  },
  {
   "cell_type": "code",
   "execution_count": 31,
   "metadata": {},
   "outputs": [],
   "source": [
    "#RESAMPLE TO ONE DAY DATA\n",
    "df_day = df.resample('1D').mean()\n",
    "df_day = df_day.dropna()"
   ]
  },
  {
   "cell_type": "code",
   "execution_count": 32,
   "metadata": {},
   "outputs": [],
   "source": [
    "df_day['hour'] = df_day.index.hour #create column containing the hour\n",
    "df_day['dayofweek'] = df_day.index.dayofweek #Create column containing the day of the week\n",
    "\n",
    "columns_to_cat = ['hour', 'dayofweek']\n",
    "df_day[columns_to_cat] = df_day[columns_to_cat].astype('category') # change datetypes to category\n",
    "\n",
    "df_day = pd.get_dummies(df_day, columns=columns_to_cat) # One hot encoding the categories"
   ]
  },
  {
   "cell_type": "code",
   "execution_count": 33,
   "metadata": {},
   "outputs": [
    {
     "data": {
      "text/html": [
       "<div>\n",
       "<style scoped>\n",
       "    .dataframe tbody tr th:only-of-type {\n",
       "        vertical-align: middle;\n",
       "    }\n",
       "\n",
       "    .dataframe tbody tr th {\n",
       "        vertical-align: top;\n",
       "    }\n",
       "\n",
       "    .dataframe thead th {\n",
       "        text-align: right;\n",
       "    }\n",
       "</style>\n",
       "<table border=\"1\" class=\"dataframe\">\n",
       "  <thead>\n",
       "    <tr style=\"text-align: right;\">\n",
       "      <th></th>\n",
       "      <th>eMeter</th>\n",
       "      <th>eMeterReturn</th>\n",
       "      <th>eMeterLow</th>\n",
       "      <th>eMeterLowReturn</th>\n",
       "      <th>ePower</th>\n",
       "      <th>ePowerReturn</th>\n",
       "      <th>gasMeter</th>\n",
       "      <th>DD</th>\n",
       "      <th>DR</th>\n",
       "      <th>FF</th>\n",
       "      <th>...</th>\n",
       "      <th>gasPower</th>\n",
       "      <th>T-1</th>\n",
       "      <th>hour_0</th>\n",
       "      <th>dayofweek_0</th>\n",
       "      <th>dayofweek_1</th>\n",
       "      <th>dayofweek_2</th>\n",
       "      <th>dayofweek_3</th>\n",
       "      <th>dayofweek_4</th>\n",
       "      <th>dayofweek_5</th>\n",
       "      <th>dayofweek_6</th>\n",
       "    </tr>\n",
       "    <tr>\n",
       "      <th>datetime</th>\n",
       "      <th></th>\n",
       "      <th></th>\n",
       "      <th></th>\n",
       "      <th></th>\n",
       "      <th></th>\n",
       "      <th></th>\n",
       "      <th></th>\n",
       "      <th></th>\n",
       "      <th></th>\n",
       "      <th></th>\n",
       "      <th></th>\n",
       "      <th></th>\n",
       "      <th></th>\n",
       "      <th></th>\n",
       "      <th></th>\n",
       "      <th></th>\n",
       "      <th></th>\n",
       "      <th></th>\n",
       "      <th></th>\n",
       "      <th></th>\n",
       "      <th></th>\n",
       "    </tr>\n",
       "  </thead>\n",
       "  <tbody>\n",
       "    <tr>\n",
       "      <th>2017-02-22</th>\n",
       "      <td>1556.361003</td>\n",
       "      <td>0.0</td>\n",
       "      <td>1803.676799</td>\n",
       "      <td>0.0</td>\n",
       "      <td>185.730438</td>\n",
       "      <td>0.0</td>\n",
       "      <td>1678.554576</td>\n",
       "      <td>243.831944</td>\n",
       "      <td>444.333333</td>\n",
       "      <td>8.236250</td>\n",
       "      <td>...</td>\n",
       "      <td>2.562459</td>\n",
       "      <td>10.462500</td>\n",
       "      <td>1</td>\n",
       "      <td>0</td>\n",
       "      <td>0</td>\n",
       "      <td>1</td>\n",
       "      <td>0</td>\n",
       "      <td>0</td>\n",
       "      <td>0</td>\n",
       "      <td>0</td>\n",
       "    </tr>\n",
       "    <tr>\n",
       "      <th>2017-02-23</th>\n",
       "      <td>1558.435883</td>\n",
       "      <td>0.0</td>\n",
       "      <td>1805.226395</td>\n",
       "      <td>0.0</td>\n",
       "      <td>173.374907</td>\n",
       "      <td>0.0</td>\n",
       "      <td>1685.894847</td>\n",
       "      <td>239.148194</td>\n",
       "      <td>265.916667</td>\n",
       "      <td>11.608438</td>\n",
       "      <td>...</td>\n",
       "      <td>4.857127</td>\n",
       "      <td>8.737917</td>\n",
       "      <td>1</td>\n",
       "      <td>0</td>\n",
       "      <td>0</td>\n",
       "      <td>0</td>\n",
       "      <td>1</td>\n",
       "      <td>0</td>\n",
       "      <td>0</td>\n",
       "      <td>0</td>\n",
       "    </tr>\n",
       "    <tr>\n",
       "      <th>2017-02-24</th>\n",
       "      <td>1561.837229</td>\n",
       "      <td>0.0</td>\n",
       "      <td>1806.231979</td>\n",
       "      <td>0.0</td>\n",
       "      <td>246.992340</td>\n",
       "      <td>0.0</td>\n",
       "      <td>1694.890589</td>\n",
       "      <td>278.093543</td>\n",
       "      <td>45.766667</td>\n",
       "      <td>5.032826</td>\n",
       "      <td>...</td>\n",
       "      <td>2.768300</td>\n",
       "      <td>4.901806</td>\n",
       "      <td>1</td>\n",
       "      <td>0</td>\n",
       "      <td>0</td>\n",
       "      <td>0</td>\n",
       "      <td>0</td>\n",
       "      <td>1</td>\n",
       "      <td>0</td>\n",
       "      <td>0</td>\n",
       "    </tr>\n",
       "    <tr>\n",
       "      <th>2017-02-25</th>\n",
       "      <td>1564.963013</td>\n",
       "      <td>0.0</td>\n",
       "      <td>1808.506632</td>\n",
       "      <td>0.0</td>\n",
       "      <td>150.144606</td>\n",
       "      <td>0.0</td>\n",
       "      <td>1698.313894</td>\n",
       "      <td>202.265418</td>\n",
       "      <td>14.750000</td>\n",
       "      <td>6.502271</td>\n",
       "      <td>...</td>\n",
       "      <td>0.171661</td>\n",
       "      <td>5.321389</td>\n",
       "      <td>1</td>\n",
       "      <td>0</td>\n",
       "      <td>0</td>\n",
       "      <td>0</td>\n",
       "      <td>0</td>\n",
       "      <td>0</td>\n",
       "      <td>1</td>\n",
       "      <td>0</td>\n",
       "    </tr>\n",
       "    <tr>\n",
       "      <th>2017-02-26</th>\n",
       "      <td>1564.963013</td>\n",
       "      <td>0.0</td>\n",
       "      <td>1817.410950</td>\n",
       "      <td>0.0</td>\n",
       "      <td>679.171475</td>\n",
       "      <td>0.0</td>\n",
       "      <td>1706.148254</td>\n",
       "      <td>208.350207</td>\n",
       "      <td>82.633334</td>\n",
       "      <td>7.540049</td>\n",
       "      <td>...</td>\n",
       "      <td>5.030009</td>\n",
       "      <td>8.603333</td>\n",
       "      <td>1</td>\n",
       "      <td>0</td>\n",
       "      <td>0</td>\n",
       "      <td>0</td>\n",
       "      <td>0</td>\n",
       "      <td>0</td>\n",
       "      <td>0</td>\n",
       "      <td>1</td>\n",
       "    </tr>\n",
       "  </tbody>\n",
       "</table>\n",
       "<p>5 rows × 32 columns</p>\n",
       "</div>"
      ],
      "text/plain": [
       "                 eMeter  eMeterReturn    eMeterLow  eMeterLowReturn  \\\n",
       "datetime                                                              \n",
       "2017-02-22  1556.361003           0.0  1803.676799              0.0   \n",
       "2017-02-23  1558.435883           0.0  1805.226395              0.0   \n",
       "2017-02-24  1561.837229           0.0  1806.231979              0.0   \n",
       "2017-02-25  1564.963013           0.0  1808.506632              0.0   \n",
       "2017-02-26  1564.963013           0.0  1817.410950              0.0   \n",
       "\n",
       "                ePower  ePowerReturn     gasMeter          DD          DR  \\\n",
       "datetime                                                                    \n",
       "2017-02-22  185.730438           0.0  1678.554576  243.831944  444.333333   \n",
       "2017-02-23  173.374907           0.0  1685.894847  239.148194  265.916667   \n",
       "2017-02-24  246.992340           0.0  1694.890589  278.093543   45.766667   \n",
       "2017-02-25  150.144606           0.0  1698.313894  202.265418   14.750000   \n",
       "2017-02-26  679.171475           0.0  1706.148254  208.350207   82.633334   \n",
       "\n",
       "                   FF     ...       gasPower        T-1  hour_0  dayofweek_0  \\\n",
       "datetime                  ...                                                  \n",
       "2017-02-22   8.236250     ...       2.562459  10.462500       1            0   \n",
       "2017-02-23  11.608438     ...       4.857127   8.737917       1            0   \n",
       "2017-02-24   5.032826     ...       2.768300   4.901806       1            0   \n",
       "2017-02-25   6.502271     ...       0.171661   5.321389       1            0   \n",
       "2017-02-26   7.540049     ...       5.030009   8.603333       1            0   \n",
       "\n",
       "            dayofweek_1  dayofweek_2  dayofweek_3  dayofweek_4  dayofweek_5  \\\n",
       "datetime                                                                      \n",
       "2017-02-22            0            1            0            0            0   \n",
       "2017-02-23            0            0            1            0            0   \n",
       "2017-02-24            0            0            0            1            0   \n",
       "2017-02-25            0            0            0            0            1   \n",
       "2017-02-26            0            0            0            0            0   \n",
       "\n",
       "            dayofweek_6  \n",
       "datetime                 \n",
       "2017-02-22            0  \n",
       "2017-02-23            0  \n",
       "2017-02-24            0  \n",
       "2017-02-25            0  \n",
       "2017-02-26            1  \n",
       "\n",
       "[5 rows x 32 columns]"
      ]
     },
     "execution_count": 33,
     "metadata": {},
     "output_type": "execute_result"
    }
   ],
   "source": [
    "df_day.head()"
   ]
  },
  {
   "cell_type": "code",
   "execution_count": 34,
   "metadata": {},
   "outputs": [
    {
     "name": "stderr",
     "output_type": "stream",
     "text": [
      "/opt/jupyterhub/anaconda/lib/python3.6/site-packages/sklearn/preprocessing/label.py:235: DataConversionWarning: A column-vector y was passed when a 1d array was expected. Please change the shape of y to (n_samples, ), for example using ravel().\n",
      "  y = column_or_1d(y, warn=True)\n",
      "/opt/jupyterhub/anaconda/lib/python3.6/site-packages/sklearn/preprocessing/data.py:617: DataConversionWarning: Data with input dtype uint8, float64 were all converted to float64 by StandardScaler.\n",
      "  return self.partial_fit(X, y)\n"
     ]
    }
   ],
   "source": [
    "X = df_day[['T','T-1','dayofweek_0','dayofweek_1','dayofweek_2','dayofweek_3','dayofweek_4','dayofweek_5','dayofweek_6']]\n",
    "y = df_day[['gasPower']]\n",
    "\n",
    "labelencoder_y_1 = LabelEncoder()\n",
    "y = labelencoder_y_1.fit_transform(y)\n",
    "\n",
    "test_size = 0.5\n",
    "\n",
    "split_index = int(df_day.shape[0]*test_size) # the index at which to split df into train and test\n",
    "\n",
    "X_train = X[:split_index]\n",
    "y_train = y[:split_index]\n",
    "\n",
    "X_test = X[split_index:]\n",
    "y_test = y[split_index:]\n",
    "        \n",
    "scalerX = StandardScaler(with_mean=True, with_std=True).fit(X_train)"
   ]
  },
  {
   "cell_type": "code",
   "execution_count": 35,
   "metadata": {},
   "outputs": [
    {
     "data": {
      "image/png": "[encoded data removed]",
      "text/plain": [
       "<Figure size 1008x504 with 2 Axes>"
      ]
     },
     "metadata": {
      "needs_background": "light"
     },
     "output_type": "display_data"
    }
   ],
   "source": [
    "plt.style.use('default')\n",
    "%matplotlib inline\n",
    "plt.figure(figsize=(14,7))\n",
    "\n",
    "\n",
    "plt.subplot(1,2,1)\n",
    "plt.grid(True)\n",
    "plt.plot(X_train.index,y_train,'.-',color='b',label='Train data')\n",
    "plt.xlabel('Datetime')\n",
    "plt.ylabel('gasPower')\n",
    "plt.legend()\n",
    "\n",
    "plt.subplot(1,2,2)\n",
    "plt.grid(True)\n",
    "plt.plot(X_test.index,y_test,'.-',color='r',label='Test data')\n",
    "plt.xlabel('Datetime')\n",
    "plt.ylabel('gasPower')\n",
    "plt.legend()\n",
    "\n",
    "plt.show()"
   ]
  },
  {
   "cell_type": "code",
   "execution_count": 36,
   "metadata": {},
   "outputs": [
    {
     "data": {
      "text/plain": [
       "139"
      ]
     },
     "execution_count": 36,
     "metadata": {},
     "output_type": "execute_result"
    }
   ],
   "source": [
    "len(X_train)"
   ]
  },
  {
   "cell_type": "code",
   "execution_count": 37,
   "metadata": {},
   "outputs": [
    {
     "name": "stderr",
     "output_type": "stream",
     "text": [
      "/opt/jupyterhub/anaconda/lib/python3.6/site-packages/sklearn/preprocessing/data.py:617: DataConversionWarning: Data with input dtype uint8, float64 were all converted to float64 by StandardScaler.\n",
      "  return self.partial_fit(X, y)\n",
      "/opt/jupyterhub/anaconda/lib/python3.6/site-packages/sklearn/base.py:462: DataConversionWarning: Data with input dtype uint8, float64 were all converted to float64 by StandardScaler.\n",
      "  return self.fit(X, **fit_params).transform(X)\n",
      "/opt/jupyterhub/anaconda/lib/python3.6/site-packages/ipykernel_launcher.py:3: DataConversionWarning: Data with input dtype uint8, float64 were all converted to float64 by StandardScaler.\n",
      "  This is separate from the ipykernel package so we can avoid doing imports until\n"
     ]
    }
   ],
   "source": [
    "sc = StandardScaler()\n",
    "X_train = sc.fit_transform(X_train)\n",
    "X_test = sc.transform(X_test)"
   ]
  },
  {
   "cell_type": "code",
   "execution_count": 38,
   "metadata": {},
   "outputs": [],
   "source": [
    "forecast_model=Sequential()"
   ]
  },
  {
   "cell_type": "code",
   "execution_count": 41,
   "metadata": {},
   "outputs": [
    {
     "ename": "SyntaxError",
     "evalue": "invalid syntax (<ipython-input-41-c065929f2076>, line 2)",
     "output_type": "error",
     "traceback": [
      "\u001b[0;36m  File \u001b[0;32m\"<ipython-input-41-c065929f2076>\"\u001b[0;36m, line \u001b[0;32m2\u001b[0m\n\u001b[0;31m    forecast_model.add(Dense(1))\u001b[0m\n\u001b[0m                 ^\u001b[0m\n\u001b[0;31mSyntaxError\u001b[0m\u001b[0;31m:\u001b[0m invalid syntax\n"
     ]
    }
   ],
   "source": [
    "forecast_model.add(LSTM(1, input_shape=(9)))\n",
    "forecast_model.add(Dense(1))\n",
    "forecast_model.compile(loss='mean_squared_error', optimizer='adam')\n",
    "\n",
    "y_train = (y_train-min(y_train))/(max(y_train)-min(y_train))\n",
    "\n",
    "forecast_model.fit(trainX, trainY, epochs=100, batch_size=10, verbose=2)"
   ]
  },
  {
   "cell_type": "code",
   "execution_count": null,
   "metadata": {},
   "outputs": [],
   "source": [
    "from sklearn.metrics import confusion_matrix\n",
    "\n",
    "y_pred = forecast_model.predict(X_test)\n"
   ]
  },
  {
   "cell_type": "code",
   "execution_count": null,
   "metadata": {},
   "outputs": [],
   "source": [
    "from sklearn.metrics import mean_squared_error\n",
    "X1_datetime=df_day.index[len(X_train):]\n",
    "y_test = (y_test-min(y_test))/(max(y_test)-min(y_test))\n",
    "\n",
    "plt.figure(figsize=(16,8))\n",
    "\n",
    "plt.title('DNN DAILY DATA\\n USING: T,T-1\\n DUMMIE: DAY OF THE WEEK \\n M.S.E.='+str(mean_squared_error(y_test,y_pred)))\n",
    "plt.grid(True)\n",
    "plt.plot(X1_datetime,y_pred,'.-',color='b',label='Test data')\n",
    "plt.xlabel('Datetime')\n",
    "plt.ylabel('gasPower')\n",
    "\n",
    "plt.grid(True)\n",
    "plt.plot(X1_datetime,y_test,'.-',color='r',label='Test data',alpha=0.3)\n",
    "plt.xlabel('Datetime')\n",
    "plt.ylabel('gasPower [m$^3$]')\n",
    "\n",
    "plt.legend()\n",
    "#plt.savefig('dnn1.png', dpi=100)\n",
    "plt.show()"
   ]
  }
 ],
 "metadata": {
  "kernelspec": {
   "display_name": "Python 3",
   "language": "python",
   "name": "python3"
  },
  "language_info": {
   "codemirror_mode": {
    "name": "ipython",
    "version": 3
   },
   "file_extension": ".py",
   "mimetype": "text/x-python",
   "name": "python",
   "nbconvert_exporter": "python",
   "pygments_lexer": "ipython3",
   "version": "3.6.6"
  }
 },
 "nbformat": 4,
 "nbformat_minor": 2
}
