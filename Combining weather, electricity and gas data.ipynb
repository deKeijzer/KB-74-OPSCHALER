{
 "cells": [
  {
   "cell_type": "markdown",
   "metadata": {},
   "source": [
    "Load in the weather, smartmeter and gasmeter data as 3 seperate dataframes. \n",
    "Goal is to combine them into one dataframe."
   ]
  },
  {
   "cell_type": "code",
   "execution_count": 9,
   "metadata": {},
   "outputs": [],
   "source": [
    "import pandas as pd\n",
    "import matplotlib.pyplot as plt\n",
    "%matplotlib inline\n",
    "\n",
    "def load_data():\n",
    "    global smart\n",
    "    global gas\n",
    "    global weather\n",
    "    df =pd.read_csv(\"/datc/opschaler/smartmeter_data/P01S01W0373.csv\",header=0,delimiter=\";\",parse_dates=['Timestamp', 'gasTimestamp'])\n",
    "\n",
    "    # Split the smartmeter and gasmeter data\n",
    "    smart = df.iloc[:,:7]\n",
    "    gas = df.iloc[:, 7:]\n",
    "    \n",
    "    #Read in weather data\n",
    "    weather_path = \"//datc//opschaler//weather_data//20170101to20180101.txt\"\n",
    "    weather_column_names = ['STN','YYYYMMDD','HH','DD','FH','FF','FX','T','T10','TD','SQ','Q','DR','RH','P','VV','N','U','WW','IX','M','R','S','O','Y']\n",
    "\n",
    "    weather = pd.read_csv(weather_path, delimiter=',', comment='#', names=weather_column_names, parse_dates=['YYYYMMDD', 'HH'])\n",
    "    weather['T'] = weather['T']*0.01 # Convert temperature to celcius instead of 0.1 celcius\n",
    "    weather['HH'] = weather['HH']+':00:00'\n",
    "    weather['HH'] = weather['HH'].str.strip() # removes the blank spaces infront of the strings\n",
    "    weather['HH'] = weather['HH'].str.replace('24:00:00', '23:59:59') # KNMI uses 24 for 00 hours.... to have to convert this for to_datetime to be able to work\n",
    "    weather.loc[:,'datetime'] = pd.to_datetime(weather['YYYYMMDD'].astype(str)+' '+weather['HH'].astype(str)) #create datetime column"
   ]
  },
  {
   "cell_type": "code",
   "execution_count": 85,
   "metadata": {},
   "outputs": [],
   "source": [
    "\"\"\"\n",
    "Problem: How to merge 3 frames with 3 different datetime's?\n",
    "The format is the same, but they don't have ''exact'' matches with each other. \n",
    "i.e. \n",
    "\n",
    "\"\"\"\n",
    "load_data()\n",
    "# Change all datetime columns to the same column name\n",
    "smart = smart.rename(index=str, columns={\"Timestamp\":\"datetime\"})\n",
    "gas = gas.rename(index=str, columns={\"gasTimestamp\":\"datetime\"})\n",
    "\n",
    "\n",
    "\"\"\"\n",
    "Only keep relevant information for scrumwise sprint 2.\n",
    "-> smartmeter energy usage data\n",
    "-> gasmeter gas usage data\n",
    "-> outside temperature\n",
    "-> global radiation\n",
    "\"\"\"\n",
    "\n",
    "#df = df[['datetime', 'eMeter', 'eMeterLow', 'ePower', 'gasMeter', 'T', 'Q']]\n",
    "#df = df[['datetime', 'eMeter', 'eMeterLow', 'ePower', 'gasMeter']]\n",
    "smart.head()\n",
    "\n",
    "del weather['STN'], weather['HH'], weather['YYYYMMDD']\n",
    "\n",
    "# Set datetime as index\n",
    "weather = weather.set_index(['datetime'])\n",
    "smart = smart.set_index(['datetime'])\n",
    "gas = gas.set_index(['datetime'])"
   ]
  },
  {
   "cell_type": "code",
   "execution_count": 86,
   "metadata": {},
   "outputs": [
    {
     "data": {
      "text/html": [
       "<div>\n",
       "<style>\n",
       "    .dataframe thead tr:only-child th {\n",
       "        text-align: right;\n",
       "    }\n",
       "\n",
       "    .dataframe thead th {\n",
       "        text-align: left;\n",
       "    }\n",
       "\n",
       "    .dataframe tbody tr th {\n",
       "        vertical-align: top;\n",
       "    }\n",
       "</style>\n",
       "<table border=\"1\" class=\"dataframe\">\n",
       "  <thead>\n",
       "    <tr style=\"text-align: right;\">\n",
       "      <th></th>\n",
       "      <th>gasMeter</th>\n",
       "    </tr>\n",
       "    <tr>\n",
       "      <th>datetime</th>\n",
       "      <th></th>\n",
       "    </tr>\n",
       "  </thead>\n",
       "  <tbody>\n",
       "    <tr>\n",
       "      <th>2017-03-07 18:00:00</th>\n",
       "      <td>1599.792</td>\n",
       "    </tr>\n",
       "    <tr>\n",
       "      <th>2017-03-07 18:00:00</th>\n",
       "      <td>1599.792</td>\n",
       "    </tr>\n",
       "    <tr>\n",
       "      <th>2017-03-07 18:00:00</th>\n",
       "      <td>1599.792</td>\n",
       "    </tr>\n",
       "    <tr>\n",
       "      <th>2017-03-07 18:00:00</th>\n",
       "      <td>1599.792</td>\n",
       "    </tr>\n",
       "    <tr>\n",
       "      <th>2017-03-07 18:00:00</th>\n",
       "      <td>1599.792</td>\n",
       "    </tr>\n",
       "  </tbody>\n",
       "</table>\n",
       "</div>"
      ],
      "text/plain": [
       "                     gasMeter\n",
       "datetime                     \n",
       "2017-03-07 18:00:00  1599.792\n",
       "2017-03-07 18:00:00  1599.792\n",
       "2017-03-07 18:00:00  1599.792\n",
       "2017-03-07 18:00:00  1599.792\n",
       "2017-03-07 18:00:00  1599.792"
      ]
     },
     "execution_count": 86,
     "metadata": {},
     "output_type": "execute_result"
    }
   ],
   "source": [
    "gas.head()"
   ]
  },
  {
   "cell_type": "code",
   "execution_count": 88,
   "metadata": {
    "scrolled": true
   },
   "outputs": [
    {
     "data": {
      "text/html": [
       "<div>\n",
       "<style>\n",
       "    .dataframe thead tr:only-child th {\n",
       "        text-align: right;\n",
       "    }\n",
       "\n",
       "    .dataframe thead th {\n",
       "        text-align: left;\n",
       "    }\n",
       "\n",
       "    .dataframe tbody tr th {\n",
       "        vertical-align: top;\n",
       "    }\n",
       "</style>\n",
       "<table border=\"1\" class=\"dataframe\">\n",
       "  <thead>\n",
       "    <tr style=\"text-align: right;\">\n",
       "      <th></th>\n",
       "      <th>gasMeter</th>\n",
       "    </tr>\n",
       "    <tr>\n",
       "      <th>datetime</th>\n",
       "      <th></th>\n",
       "    </tr>\n",
       "  </thead>\n",
       "  <tbody>\n",
       "    <tr>\n",
       "      <th>2017-03-07 18:00:00</th>\n",
       "      <td>1599.792</td>\n",
       "    </tr>\n",
       "    <tr>\n",
       "      <th>2017-03-07 18:00:00</th>\n",
       "      <td>1599.792</td>\n",
       "    </tr>\n",
       "    <tr>\n",
       "      <th>2017-03-07 18:00:00</th>\n",
       "      <td>1599.792</td>\n",
       "    </tr>\n",
       "    <tr>\n",
       "      <th>2017-03-07 18:00:00</th>\n",
       "      <td>1599.792</td>\n",
       "    </tr>\n",
       "    <tr>\n",
       "      <th>2017-03-07 18:00:00</th>\n",
       "      <td>1599.792</td>\n",
       "    </tr>\n",
       "  </tbody>\n",
       "</table>\n",
       "</div>"
      ],
      "text/plain": [
       "                     gasMeter\n",
       "datetime                     \n",
       "2017-03-07 18:00:00  1599.792\n",
       "2017-03-07 18:00:00  1599.792\n",
       "2017-03-07 18:00:00  1599.792\n",
       "2017-03-07 18:00:00  1599.792\n",
       "2017-03-07 18:00:00  1599.792"
      ]
     },
     "execution_count": 88,
     "metadata": {},
     "output_type": "execute_result"
    }
   ],
   "source": [
    "\"\"\"\n",
    "Resample the dataframes to 10s intervals.\n",
    "https://pandas.pydata.org/pandas-docs/stable/generated/pandas.DataFrame.resample.html\n",
    "\n",
    "\"\"\"\n",
    "weather = weather.resample('10s').pad()\n",
    "smart = smart.resample('10s').mean()\n",
    "#gas = gas.resample('10s').pad() #Can't get this to work yet\n",
    "gas.head()"
   ]
  },
  {
   "cell_type": "code",
   "execution_count": 92,
   "metadata": {},
   "outputs": [
    {
     "data": {
      "text/html": [
       "<div>\n",
       "<style>\n",
       "    .dataframe thead tr:only-child th {\n",
       "        text-align: right;\n",
       "    }\n",
       "\n",
       "    .dataframe thead th {\n",
       "        text-align: left;\n",
       "    }\n",
       "\n",
       "    .dataframe tbody tr th {\n",
       "        vertical-align: top;\n",
       "    }\n",
       "</style>\n",
       "<table border=\"1\" class=\"dataframe\">\n",
       "  <thead>\n",
       "    <tr style=\"text-align: right;\">\n",
       "      <th></th>\n",
       "      <th>eMeter</th>\n",
       "      <th>eMeterReturn</th>\n",
       "      <th>eMeterLow</th>\n",
       "      <th>eMeterLowReturn</th>\n",
       "      <th>ePower</th>\n",
       "      <th>ePowerReturn</th>\n",
       "      <th>DD</th>\n",
       "      <th>FH</th>\n",
       "      <th>FF</th>\n",
       "      <th>FX</th>\n",
       "      <th>...</th>\n",
       "      <th>VV</th>\n",
       "      <th>N</th>\n",
       "      <th>U</th>\n",
       "      <th>WW</th>\n",
       "      <th>IX</th>\n",
       "      <th>M</th>\n",
       "      <th>R</th>\n",
       "      <th>S</th>\n",
       "      <th>O</th>\n",
       "      <th>Y</th>\n",
       "    </tr>\n",
       "    <tr>\n",
       "      <th>datetime</th>\n",
       "      <th></th>\n",
       "      <th></th>\n",
       "      <th></th>\n",
       "      <th></th>\n",
       "      <th></th>\n",
       "      <th></th>\n",
       "      <th></th>\n",
       "      <th></th>\n",
       "      <th></th>\n",
       "      <th></th>\n",
       "      <th></th>\n",
       "      <th></th>\n",
       "      <th></th>\n",
       "      <th></th>\n",
       "      <th></th>\n",
       "      <th></th>\n",
       "      <th></th>\n",
       "      <th></th>\n",
       "      <th></th>\n",
       "      <th></th>\n",
       "      <th></th>\n",
       "    </tr>\n",
       "  </thead>\n",
       "  <tbody>\n",
       "    <tr>\n",
       "      <th>2017-03-07 18:14:20</th>\n",
       "      <td>3717.472</td>\n",
       "      <td>0.0</td>\n",
       "      <td>3883.382</td>\n",
       "      <td>0.0</td>\n",
       "      <td>376.0</td>\n",
       "      <td>0.0</td>\n",
       "      <td>260</td>\n",
       "      <td>30</td>\n",
       "      <td>30</td>\n",
       "      <td>60</td>\n",
       "      <td>...</td>\n",
       "      <td>67</td>\n",
       "      <td>8</td>\n",
       "      <td>82</td>\n",
       "      <td></td>\n",
       "      <td>5</td>\n",
       "      <td>0</td>\n",
       "      <td>0</td>\n",
       "      <td>0</td>\n",
       "      <td>0</td>\n",
       "      <td>0</td>\n",
       "    </tr>\n",
       "    <tr>\n",
       "      <th>2017-03-07 18:14:30</th>\n",
       "      <td>3717.473</td>\n",
       "      <td>0.0</td>\n",
       "      <td>3883.382</td>\n",
       "      <td>0.0</td>\n",
       "      <td>381.0</td>\n",
       "      <td>0.0</td>\n",
       "      <td>260</td>\n",
       "      <td>30</td>\n",
       "      <td>30</td>\n",
       "      <td>60</td>\n",
       "      <td>...</td>\n",
       "      <td>67</td>\n",
       "      <td>8</td>\n",
       "      <td>82</td>\n",
       "      <td></td>\n",
       "      <td>5</td>\n",
       "      <td>0</td>\n",
       "      <td>0</td>\n",
       "      <td>0</td>\n",
       "      <td>0</td>\n",
       "      <td>0</td>\n",
       "    </tr>\n",
       "    <tr>\n",
       "      <th>2017-03-07 18:14:40</th>\n",
       "      <td>3717.474</td>\n",
       "      <td>0.0</td>\n",
       "      <td>3883.382</td>\n",
       "      <td>0.0</td>\n",
       "      <td>378.0</td>\n",
       "      <td>0.0</td>\n",
       "      <td>260</td>\n",
       "      <td>30</td>\n",
       "      <td>30</td>\n",
       "      <td>60</td>\n",
       "      <td>...</td>\n",
       "      <td>67</td>\n",
       "      <td>8</td>\n",
       "      <td>82</td>\n",
       "      <td></td>\n",
       "      <td>5</td>\n",
       "      <td>0</td>\n",
       "      <td>0</td>\n",
       "      <td>0</td>\n",
       "      <td>0</td>\n",
       "      <td>0</td>\n",
       "    </tr>\n",
       "    <tr>\n",
       "      <th>2017-03-07 18:14:50</th>\n",
       "      <td>3717.475</td>\n",
       "      <td>0.0</td>\n",
       "      <td>3883.382</td>\n",
       "      <td>0.0</td>\n",
       "      <td>376.0</td>\n",
       "      <td>0.0</td>\n",
       "      <td>260</td>\n",
       "      <td>30</td>\n",
       "      <td>30</td>\n",
       "      <td>60</td>\n",
       "      <td>...</td>\n",
       "      <td>67</td>\n",
       "      <td>8</td>\n",
       "      <td>82</td>\n",
       "      <td></td>\n",
       "      <td>5</td>\n",
       "      <td>0</td>\n",
       "      <td>0</td>\n",
       "      <td>0</td>\n",
       "      <td>0</td>\n",
       "      <td>0</td>\n",
       "    </tr>\n",
       "    <tr>\n",
       "      <th>2017-03-07 18:15:00</th>\n",
       "      <td>3717.476</td>\n",
       "      <td>0.0</td>\n",
       "      <td>3883.382</td>\n",
       "      <td>0.0</td>\n",
       "      <td>380.0</td>\n",
       "      <td>0.0</td>\n",
       "      <td>260</td>\n",
       "      <td>30</td>\n",
       "      <td>30</td>\n",
       "      <td>60</td>\n",
       "      <td>...</td>\n",
       "      <td>67</td>\n",
       "      <td>8</td>\n",
       "      <td>82</td>\n",
       "      <td></td>\n",
       "      <td>5</td>\n",
       "      <td>0</td>\n",
       "      <td>0</td>\n",
       "      <td>0</td>\n",
       "      <td>0</td>\n",
       "      <td>0</td>\n",
       "    </tr>\n",
       "  </tbody>\n",
       "</table>\n",
       "<p>5 rows × 28 columns</p>\n",
       "</div>"
      ],
      "text/plain": [
       "                       eMeter  eMeterReturn  eMeterLow  eMeterLowReturn  \\\n",
       "datetime                                                                  \n",
       "2017-03-07 18:14:20  3717.472           0.0   3883.382              0.0   \n",
       "2017-03-07 18:14:30  3717.473           0.0   3883.382              0.0   \n",
       "2017-03-07 18:14:40  3717.474           0.0   3883.382              0.0   \n",
       "2017-03-07 18:14:50  3717.475           0.0   3883.382              0.0   \n",
       "2017-03-07 18:15:00  3717.476           0.0   3883.382              0.0   \n",
       "\n",
       "                     ePower  ePowerReturn   DD  FH  FF  FX ...  VV      N   U  \\\n",
       "datetime                                                   ...                  \n",
       "2017-03-07 18:14:20   376.0           0.0  260  30  30  60 ...  67      8  82   \n",
       "2017-03-07 18:14:30   381.0           0.0  260  30  30  60 ...  67      8  82   \n",
       "2017-03-07 18:14:40   378.0           0.0  260  30  30  60 ...  67      8  82   \n",
       "2017-03-07 18:14:50   376.0           0.0  260  30  30  60 ...  67      8  82   \n",
       "2017-03-07 18:15:00   380.0           0.0  260  30  30  60 ...  67      8  82   \n",
       "\n",
       "                        WW  IX  M  R  S  O  Y  \n",
       "datetime                                       \n",
       "2017-03-07 18:14:20          5  0  0  0  0  0  \n",
       "2017-03-07 18:14:30          5  0  0  0  0  0  \n",
       "2017-03-07 18:14:40          5  0  0  0  0  0  \n",
       "2017-03-07 18:14:50          5  0  0  0  0  0  \n",
       "2017-03-07 18:15:00          5  0  0  0  0  0  \n",
       "\n",
       "[5 rows x 28 columns]"
      ]
     },
     "execution_count": 92,
     "metadata": {},
     "output_type": "execute_result"
    }
   ],
   "source": [
    "df = pd.merge(smart, weather,left_index=True, right_index=True)\n",
    "df.head()"
   ]
  },
  {
   "cell_type": "code",
   "execution_count": null,
   "metadata": {},
   "outputs": [],
   "source": []
  },
  {
   "cell_type": "code",
   "execution_count": null,
   "metadata": {},
   "outputs": [],
   "source": []
  },
  {
   "cell_type": "code",
   "execution_count": null,
   "metadata": {},
   "outputs": [],
   "source": []
  },
  {
   "cell_type": "code",
   "execution_count": null,
   "metadata": {},
   "outputs": [],
   "source": []
  },
  {
   "cell_type": "code",
   "execution_count": null,
   "metadata": {},
   "outputs": [],
   "source": []
  },
  {
   "cell_type": "code",
   "execution_count": null,
   "metadata": {},
   "outputs": [],
   "source": []
  },
  {
   "cell_type": "code",
   "execution_count": null,
   "metadata": {},
   "outputs": [],
   "source": []
  },
  {
   "cell_type": "code",
   "execution_count": 97,
   "metadata": {},
   "outputs": [
    {
     "data": {
      "image/png": "[encoded data removed]",
      "text/plain": [
       "<matplotlib.figure.Figure at 0x7fdb1dc0b748>"
      ]
     },
     "metadata": {},
     "output_type": "display_data"
    }
   ],
   "source": [
    "plt.subplot(2,2,1)\n",
    "plt.plot(df.index, df['Q'], '-', color='r', linewidth=1)\n",
    "plt.xlabel('Date [-]')\n",
    "plt.ylabel('Global Radiation [J/m$^2$]')\n",
    "plt.xticks(rotation=45)\n",
    "plt.grid()\n",
    "plt.tight_layout()\n",
    "\n",
    "plt.subplot(2,2,2)\n",
    "plt.plot(df.index, df['T'], '-', color='r', linewidth=1)\n",
    "plt.xlabel('Date [-]')\n",
    "plt.ylabel('Temperature [C]')\n",
    "plt.xticks(rotation=45)\n",
    "plt.grid()\n",
    "plt.tight_layout()\n",
    "\n",
    "plt.subplot(2,2,3)\n",
    "plt.plot(df.index, df['ePower'], '-', color='r', linewidth=1)\n",
    "plt.xlabel('Date [-]')\n",
    "plt.ylabel('ePower [?]')\n",
    "plt.xticks(rotation=45)\n",
    "plt.grid()\n",
    "plt.tight_layout()\n",
    "\n",
    "plt.subplot(2,2,4)\n",
    "#plt.plot(df.index, df['gasMeter'], '-', color='r', linewidth=1)\n",
    "plt.xlabel('Date [-]')\n",
    "plt.ylabel('gasMeter [?]')\n",
    "plt.xticks(rotation=45)\n",
    "plt.grid()\n",
    "plt.tight_layout()"
   ]
  },
  {
   "cell_type": "code",
   "execution_count": 98,
   "metadata": {},
   "outputs": [
    {
     "data": {
      "text/plain": [
       "<matplotlib.axes._subplots.AxesSubplot at 0x7fdb1e764358>"
      ]
     },
     "execution_count": 98,
     "metadata": {},
     "output_type": "execute_result"
    },
    {
     "data": {
      "image/png": "[encoded data removed]",
      "text/plain": [
       "<matplotlib.figure.Figure at 0x7fdb1e701cc0>"
      ]
     },
     "metadata": {},
     "output_type": "display_data"
    }
   ],
   "source": [
    "df.plot()"
   ]
  },
  {
   "cell_type": "code",
   "execution_count": null,
   "metadata": {},
   "outputs": [
    {
     "name": "stderr",
     "output_type": "stream",
     "text": [
      "/opt/jupyterhub/anaconda/lib/python3.6/site-packages/matplotlib/axes/_base.py:2918: UserWarning: Attempting to set identical left==right results\n",
      "in singular transformations; automatically expanding.\n",
      "left=0.0, right=0.0\n",
      "  'left=%s, right=%s') % (left, right))\n",
      "/opt/jupyterhub/anaconda/lib/python3.6/site-packages/matplotlib/axes/_base.py:3239: UserWarning: Attempting to set identical bottom==top results\n",
      "in singular transformations; automatically expanding.\n",
      "bottom=0.0, top=0.0\n",
      "  'bottom=%s, top=%s') % (bottom, top))\n"
     ]
    }
   ],
   "source": [
    "_ = pd.plotting.scatter_matrix(df)"
   ]
  },
  {
   "cell_type": "code",
   "execution_count": 5,
   "metadata": {},
   "outputs": [
    {
     "data": {
      "text/plain": [
       "(627617, 7)"
      ]
     },
     "execution_count": 5,
     "metadata": {},
     "output_type": "execute_result"
    }
   ],
   "source": [
    "df.shape"
   ]
  },
  {
   "cell_type": "code",
   "execution_count": 11,
   "metadata": {},
   "outputs": [],
   "source": [
    "df.to_csv('//datc//opschaler//output//test.csv', sep='\\t', index=False)"
   ]
  },
  {
   "cell_type": "code",
   "execution_count": 14,
   "metadata": {},
   "outputs": [
    {
     "name": "stdout",
     "output_type": "stream",
     "text": [
      "test\n"
     ]
    }
   ],
   "source": [
    "print('test')"
   ]
  },
  {
   "cell_type": "code",
   "execution_count": null,
   "metadata": {},
   "outputs": [],
   "source": []
  }
 ],
 "metadata": {
  "kernelspec": {
   "display_name": "Python 3",
   "language": "python",
   "name": "python3"
  },
  "language_info": {
   "codemirror_mode": {
    "name": "ipython",
    "version": 3
   },
   "file_extension": ".py",
   "mimetype": "text/x-python",
   "name": "python",
   "nbconvert_exporter": "python",
   "pygments_lexer": "ipython3",
   "version": "3.6.1"
  }
 },
 "nbformat": 4,
 "nbformat_minor": 2
}
